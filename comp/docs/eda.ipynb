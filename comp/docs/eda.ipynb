{
 "cells": [
  {
   "cell_type": "markdown",
   "metadata": {},
   "source": [
    "# Exploratory Data Analysis"
   ]
  },
  {
   "cell_type": "code",
   "execution_count": 1,
   "metadata": {},
   "outputs": [],
   "source": [
    "# Load necessary packages\n",
    "import glob\n",
    "import json\n",
    "import ipywidgets as widgets\n",
    "from IPython.display import display, clear_output\n",
    "import pandas as pd\n",
    "import matplotlib.pyplot as plt\n",
    "from wordcloud import WordCloud, STOPWORDS\n",
    "\n",
    "from utils.helper import preprocess_tweet"
   ]
  },
  {
   "cell_type": "code",
   "execution_count": 2,
   "metadata": {},
   "outputs": [],
   "source": [
    "fintech_path = './data/fintech/'\n",
    "fintech_folders = glob.glob(f\"{fintech_path}*/\", recursive=True)\n",
    "fintech = [path.split('/')[-2] for path in fintech_folders]\n",
    "\n",
    "nbfc_path = './data/nbfc/'\n",
    "nbfc_folders = glob.glob(f\"{nbfc_path}*/\", recursive=True)\n",
    "nbfc = [path.split('/')[-2] for path in nbfc_folders]"
   ]
  },
  {
   "cell_type": "code",
   "execution_count": 3,
   "metadata": {},
   "outputs": [],
   "source": [
    "with open('./data/config.json') as f:\n",
    "    config_data = json.load(f)"
   ]
  },
  {
   "cell_type": "code",
   "execution_count": 4,
   "metadata": {},
   "outputs": [
    {
     "data": {
      "application/vnd.jupyter.widget-view+json": {
       "model_id": "f6c7cbc10e90480c88e847aeaf0bcf92",
       "version_major": 2,
       "version_minor": 0
      },
      "text/plain": [
       "VBox(children=(Dropdown(description='Fintech company:', options=('lendingkart', 'mobikwik', 'faircent', 'paytm…"
      ]
     },
     "metadata": {},
     "output_type": "display_data"
    }
   ],
   "source": [
    "fintech_dropdown = widgets.Dropdown(\n",
    "    options=fintech,\n",
    "    value=fintech[0],\n",
    "    description='Fintech company:',\n",
    ")\n",
    "\n",
    "fintech_out = widgets.Output()\n",
    "\n",
    "def on_change_fintech(change):\n",
    "    with fintech_out:\n",
    "        clear_output()\n",
    "        if change['type'] == 'change' and change['name'] == 'value':\n",
    "            clear_output()\n",
    "            comp = change['new']\n",
    "            stopwords = list(STOPWORDS)\n",
    "            fintech_df = pd.read_csv(f'./data/fintech/{comp}/{comp}.csv')\n",
    "            text = \" \".join(fintech_df['tweet'])\n",
    "            text = preprocess_tweet(text)\n",
    "            if comp in config_data[\"stopwords\"][\"fintech\"]:\n",
    "                stopwords = stopwords + config_data[\"stopwords\"][\"fintech\"][comp]\n",
    "            wordcloud = WordCloud(width = 1400, height = 800,\n",
    "                                    background_color ='white',\n",
    "                                    stopwords = stopwords,\n",
    "                                    min_font_size = 10).generate(text)\n",
    "            \n",
    "            # plot the WordCloud image\n",
    "            plt.imshow(wordcloud)\n",
    "            plt.axis(\"off\")\n",
    "            plt.tight_layout(pad = 0)\n",
    "            plt.show()\n",
    "\n",
    "fintech_dropdown.observe(on_change_fintech, names='value')\n",
    "\n",
    "display(widgets.VBox([fintech_dropdown, fintech_out]))"
   ]
  },
  {
   "cell_type": "code",
   "execution_count": 5,
   "metadata": {},
   "outputs": [
    {
     "data": {
      "application/vnd.jupyter.widget-view+json": {
       "model_id": "a51573ef558e4691a91a829e73f0c684",
       "version_major": 2,
       "version_minor": 0
      },
      "text/plain": [
       "VBox(children=(Dropdown(description='NBFC company:', options=('muthoot_finance', 'bajaj_finance', 'aditya_birl…"
      ]
     },
     "metadata": {},
     "output_type": "display_data"
    }
   ],
   "source": [
    "nbfc_dropdown = widgets.Dropdown(\n",
    "    options=nbfc,\n",
    "    value=nbfc[0],\n",
    "    description='NBFC company:',\n",
    ")\n",
    "\n",
    "nbfc_out = widgets.Output()\n",
    "\n",
    "def on_change_nbfc(change):\n",
    "    with nbfc_out:\n",
    "        clear_output()\n",
    "        if change['type'] == 'change' and change['name'] == 'value':\n",
    "            clear_output()\n",
    "            comp = change['new']\n",
    "            stopwords = list(STOPWORDS)\n",
    "            fintech_df = pd.read_csv(f'./data/nbfc/{comp}/{comp}.csv')\n",
    "            text = \" \".join(fintech_df['tweet'])\n",
    "            text = preprocess_tweet(text)\n",
    "            if comp in config_data[\"stopwords\"][\"nbfc\"]:\n",
    "                stopwords = stopwords + config_data[\"stopwords\"][\"nbfc\"][comp]\n",
    "            wordcloud = WordCloud(width = 1400, height = 800,\n",
    "                                    background_color ='white',\n",
    "                                    stopwords = stopwords,\n",
    "                                    min_font_size = 10).generate(text)\n",
    "            \n",
    "            # plot the WordCloud image\n",
    "            plt.imshow(wordcloud)\n",
    "            plt.axis(\"off\")\n",
    "            plt.tight_layout(pad = 0)\n",
    "            plt.show()\n",
    "\n",
    "nbfc_dropdown.observe(on_change_nbfc, names='value')\n",
    "\n",
    "display(widgets.VBox([nbfc_dropdown, nbfc_out]))"
   ]
  },
  {
   "cell_type": "code",
   "execution_count": null,
   "metadata": {},
   "outputs": [],
   "source": []
  }
 ],
 "metadata": {
  "kernelspec": {
   "display_name": "Python 3.8.13 ('project')",
   "language": "python",
   "name": "python3"
  },
  "language_info": {
   "codemirror_mode": {
    "name": "ipython",
    "version": 3
   },
   "file_extension": ".py",
   "mimetype": "text/x-python",
   "name": "python",
   "nbconvert_exporter": "python",
   "pygments_lexer": "ipython3",
   "version": "3.8.13"
  },
  "orig_nbformat": 4,
  "vscode": {
   "interpreter": {
    "hash": "af77eb27f514ee114388f6898d9553454263f7eea260918546d16a8e581c8922"
   }
  }
 },
 "nbformat": 4,
 "nbformat_minor": 2
}
