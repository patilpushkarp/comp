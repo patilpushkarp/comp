{
 "cells": [
  {
   "cell_type": "markdown",
   "metadata": {},
   "source": [
    "# Pine Labs"
   ]
  },
  {
   "cell_type": "code",
   "execution_count": 31,
   "metadata": {},
   "outputs": [],
   "source": [
    "# Load necessary libraries\n",
    "import sys\n",
    "import warnings\n",
    "warnings.filterwarnings('ignore')\n",
    "import datetime\n",
    "import pandas as pd\n",
    "import gensim\n",
    "import tqdm.notebook as tqdm\n",
    "from tqdm.auto import tqdm\n",
    "tqdm.pandas()\n",
    "\n",
    "sys.path.append('/Users/pushkar/Documents/projects/fin_comp/comp/docs')\n",
    "\n",
    "import utils.helper\n",
    "from utils.helper import Processor\n",
    "import importlib\n",
    "importlib.reload(utils.helper)\n",
    "\n",
    "import plotly.io as pio\n",
    "svg_renderer = pio.renderers[\"svg\"]\n",
    "svg_renderer.width = 900\n",
    "svg_renderer.height = 500\n",
    "pio.renderers.default = \"svg\"\n",
    "import plotly.express as px"
   ]
  },
  {
   "cell_type": "code",
   "execution_count": 2,
   "metadata": {},
   "outputs": [],
   "source": [
    "# Load data\n",
    "df = pd.read_csv('./../../data/fintech/pine_labs/pine_labs.csv')"
   ]
  },
  {
   "cell_type": "code",
   "execution_count": 4,
   "metadata": {},
   "outputs": [],
   "source": [
    "# Company username\n",
    "company_username = 'PineLabs'"
   ]
  },
  {
   "cell_type": "code",
   "execution_count": 5,
   "metadata": {},
   "outputs": [],
   "source": [
    "# Correct the format of variables\n",
    "df['inReplyToTweetId'] = df['inReplyToTweetId'].apply(lambda x: '%.0f' % x).values.tolist()\n",
    "df['conversation_id'] = df['conversation_id'].astype(str)"
   ]
  },
  {
   "cell_type": "code",
   "execution_count": 6,
   "metadata": {},
   "outputs": [],
   "source": [
    "# Declare the query words\n",
    "query_words = ['dm', 'customer experience', 'inconvenience', 'concern team', 'resolve', \n",
    "                'solve', 'no noc', 'await response', 'unpleasant experience']"
   ]
  },
  {
   "cell_type": "code",
   "execution_count": 7,
   "metadata": {},
   "outputs": [],
   "source": [
    "# Declare the processor object\n",
    "processor = Processor('./../../data/config.json')"
   ]
  },
  {
   "cell_type": "code",
   "execution_count": 8,
   "metadata": {},
   "outputs": [
    {
     "data": {
      "application/vnd.jupyter.widget-view+json": {
       "model_id": "4d51a57ebb8f4a098fe72d55df6be8b7",
       "version_major": 2,
       "version_minor": 0
      },
      "text/plain": [
       "  0%|          | 0/9 [00:00<?, ?it/s]"
      ]
     },
     "metadata": {},
     "output_type": "display_data"
    }
   ],
   "source": [
    "# Check whether an observation is query for the company or not\n",
    "df['is_query'] = 0\n",
    "\n",
    "for word in tqdm(query_words):\n",
    "    df['is_query'] = df['is_query'] + df['tweet'].apply(processor.word_distribution, find=word).astype(int)"
   ]
  },
  {
   "cell_type": "code",
   "execution_count": 9,
   "metadata": {},
   "outputs": [],
   "source": [
    "# Select observations of queries\n",
    "qdf = df[(df['is_query']>0) & (df['username'] == company_username)]"
   ]
  },
  {
   "cell_type": "code",
   "execution_count": 10,
   "metadata": {},
   "outputs": [
    {
     "data": {
      "text/plain": [
       "(511, 28)"
      ]
     },
     "execution_count": 10,
     "metadata": {},
     "output_type": "execute_result"
    }
   ],
   "source": [
    "qdf.shape"
   ]
  },
  {
   "cell_type": "code",
   "execution_count": 11,
   "metadata": {},
   "outputs": [
    {
     "name": "stdout",
     "output_type": "stream",
     "text": [
      "Total number of unique conversations: 468\n"
     ]
    }
   ],
   "source": [
    "# Get all the conversation ids\n",
    "conversation_ids = qdf['conversation_id'].unique()\n",
    "print(f\"Total number of unique conversations: {len(conversation_ids)}\")"
   ]
  },
  {
   "cell_type": "code",
   "execution_count": 12,
   "metadata": {},
   "outputs": [],
   "source": [
    "df['date'] = pd.to_datetime(df['date'])"
   ]
  },
  {
   "cell_type": "markdown",
   "metadata": {},
   "source": [
    "## Response time"
   ]
  },
  {
   "cell_type": "markdown",
   "metadata": {},
   "source": [
    "Response time is the time the company takes to respond to the first query."
   ]
  },
  {
   "cell_type": "code",
   "execution_count": 13,
   "metadata": {},
   "outputs": [],
   "source": [
    "result = pd.DataFrame()\n",
    "result['conversation_id'] = conversation_ids\n",
    "result['response_time'] = 0"
   ]
  },
  {
   "cell_type": "code",
   "execution_count": 14,
   "metadata": {},
   "outputs": [],
   "source": [
    "for index, conversation_id in enumerate(conversation_ids):\n",
    "    tmp = df[df['conversation_id'] == conversation_id]\n",
    "    tmp.sort_values('date', ascending=True, inplace=True)\n",
    "    comp_tmp = tmp[tmp['username'] == company_username]\n",
    "    response_time = (comp_tmp.iloc[0]['date'] - tmp.iloc[0]['date']) / datetime.timedelta(hours=1)\n",
    "    result.at[index, 'response_time'] = response_time"
   ]
  },
  {
   "cell_type": "code",
   "execution_count": 15,
   "metadata": {},
   "outputs": [
    {
     "data": {
      "text/html": [
       "<div>\n",
       "<style scoped>\n",
       "    .dataframe tbody tr th:only-of-type {\n",
       "        vertical-align: middle;\n",
       "    }\n",
       "\n",
       "    .dataframe tbody tr th {\n",
       "        vertical-align: top;\n",
       "    }\n",
       "\n",
       "    .dataframe thead th {\n",
       "        text-align: right;\n",
       "    }\n",
       "</style>\n",
       "<table border=\"1\" class=\"dataframe\">\n",
       "  <thead>\n",
       "    <tr style=\"text-align: right;\">\n",
       "      <th></th>\n",
       "      <th>conversation_id</th>\n",
       "      <th>response_time</th>\n",
       "    </tr>\n",
       "  </thead>\n",
       "  <tbody>\n",
       "    <tr>\n",
       "      <th>0</th>\n",
       "      <td>1342432402510143490</td>\n",
       "      <td>0.496667</td>\n",
       "    </tr>\n",
       "    <tr>\n",
       "      <th>1</th>\n",
       "      <td>1343827514469191681</td>\n",
       "      <td>0.000000</td>\n",
       "    </tr>\n",
       "    <tr>\n",
       "      <th>2</th>\n",
       "      <td>1343806828421861377</td>\n",
       "      <td>0.600833</td>\n",
       "    </tr>\n",
       "    <tr>\n",
       "      <th>3</th>\n",
       "      <td>1343814255330541571</td>\n",
       "      <td>0.102222</td>\n",
       "    </tr>\n",
       "    <tr>\n",
       "      <th>4</th>\n",
       "      <td>1343472138779443202</td>\n",
       "      <td>0.000000</td>\n",
       "    </tr>\n",
       "    <tr>\n",
       "      <th>...</th>\n",
       "      <td>...</td>\n",
       "      <td>...</td>\n",
       "    </tr>\n",
       "    <tr>\n",
       "      <th>463</th>\n",
       "      <td>1084764264265437184</td>\n",
       "      <td>2.525556</td>\n",
       "    </tr>\n",
       "    <tr>\n",
       "      <th>464</th>\n",
       "      <td>1084103141589565440</td>\n",
       "      <td>0.000000</td>\n",
       "    </tr>\n",
       "    <tr>\n",
       "      <th>465</th>\n",
       "      <td>1080406875424911360</td>\n",
       "      <td>0.000000</td>\n",
       "    </tr>\n",
       "    <tr>\n",
       "      <th>466</th>\n",
       "      <td>1082519608081436672</td>\n",
       "      <td>6.013889</td>\n",
       "    </tr>\n",
       "    <tr>\n",
       "      <th>467</th>\n",
       "      <td>1079959154716958720</td>\n",
       "      <td>0.000000</td>\n",
       "    </tr>\n",
       "  </tbody>\n",
       "</table>\n",
       "<p>468 rows × 2 columns</p>\n",
       "</div>"
      ],
      "text/plain": [
       "         conversation_id  response_time\n",
       "0    1342432402510143490       0.496667\n",
       "1    1343827514469191681       0.000000\n",
       "2    1343806828421861377       0.600833\n",
       "3    1343814255330541571       0.102222\n",
       "4    1343472138779443202       0.000000\n",
       "..                   ...            ...\n",
       "463  1084764264265437184       2.525556\n",
       "464  1084103141589565440       0.000000\n",
       "465  1080406875424911360       0.000000\n",
       "466  1082519608081436672       6.013889\n",
       "467  1079959154716958720       0.000000\n",
       "\n",
       "[468 rows x 2 columns]"
      ]
     },
     "execution_count": 15,
     "metadata": {},
     "output_type": "execute_result"
    }
   ],
   "source": [
    "result"
   ]
  },
  {
   "cell_type": "code",
   "execution_count": 18,
   "metadata": {},
   "outputs": [
    {
     "data": {
      "image/svg+xml": "<svg class=\"main-svg\" xmlns=\"http://www.w3.org/2000/svg\" xmlns:xlink=\"http://www.w3.org/1999/xlink\" width=\"900\" height=\"500\" style=\"\" viewBox=\"0 0 900 500\"><rect x=\"0\" y=\"0\" width=\"900\" height=\"500\" style=\"fill: rgb(255, 255, 255); fill-opacity: 1;\"/><defs id=\"defs-f7fcb8\"><g class=\"clips\"><clipPath id=\"clipf7fcb8xyplot\" class=\"plotclip\"><rect width=\"740\" height=\"266.112\"/></clipPath><clipPath id=\"clipf7fcb8x2y2plot\" class=\"plotclip\"><rect width=\"740\" height=\"50.687999999999995\"/></clipPath><clipPath class=\"axesclip\" id=\"clipf7fcb8x\"><rect x=\"80\" y=\"0\" width=\"740\" height=\"500\"/></clipPath><clipPath class=\"axesclip\" id=\"clipf7fcb8y\"><rect x=\"0\" y=\"153.888\" width=\"900\" height=\"266.112\"/></clipPath><clipPath class=\"axesclip\" id=\"clipf7fcb8xy\"><rect x=\"80\" y=\"153.888\" width=\"740\" height=\"266.112\"/></clipPath><clipPath class=\"axesclip\" id=\"clipf7fcb8y2\"><rect x=\"0\" y=\"100\" width=\"900\" height=\"50.687999999999995\"/></clipPath><clipPath class=\"axesclip\" id=\"clipf7fcb8xy2\"><rect x=\"80\" y=\"100\" width=\"740\" height=\"50.687999999999995\"/></clipPath><clipPath class=\"axesclip\" id=\"clipf7fcb8x2\"><rect x=\"80\" y=\"0\" width=\"740\" height=\"500\"/></clipPath><clipPath class=\"axesclip\" id=\"clipf7fcb8x2y\"><rect x=\"80\" y=\"153.888\" width=\"740\" height=\"266.112\"/></clipPath><clipPath class=\"axesclip\" id=\"clipf7fcb8x2y2\"><rect x=\"80\" y=\"100\" width=\"740\" height=\"50.687999999999995\"/></clipPath></g><g class=\"gradients\"/><g class=\"patterns\"/></defs><g class=\"bglayer\"><rect class=\"bg\" x=\"80\" y=\"153.888\" width=\"740\" height=\"266.112\" style=\"fill: rgb(229, 236, 246); fill-opacity: 1; stroke-width: 0;\"/><rect class=\"bg\" x=\"80\" y=\"100\" width=\"740\" height=\"50.687999999999995\" style=\"fill: rgb(229, 236, 246); fill-opacity: 1; stroke-width: 0;\"/></g><g class=\"layer-below\"><g class=\"imagelayer\"/><g class=\"shapelayer\"/></g><g class=\"cartesianlayer\"><g class=\"subplot xy\"><g class=\"layer-subplot\"><g class=\"shapelayer\"/><g class=\"imagelayer\"/></g><g class=\"minor-gridlayer\"><g class=\"x\"/><g class=\"y\"/></g><g class=\"gridlayer\"><g class=\"x\"/><g class=\"y\"><path class=\"ygrid crisp\" transform=\"translate(0,406.698)\" d=\"M80,0h740\" style=\"stroke: rgb(255, 255, 255); stroke-opacity: 1; stroke-width: 1px;\"/><path class=\"ygrid crisp\" transform=\"translate(0,378.01800000000003)\" d=\"M80,0h740\" style=\"stroke: rgb(255, 255, 255); stroke-opacity: 1; stroke-width: 1px;\"/><path class=\"ygrid crisp\" transform=\"translate(0,340.118)\" d=\"M80,0h740\" style=\"stroke: rgb(255, 255, 255); stroke-opacity: 1; stroke-width: 1px;\"/><path class=\"ygrid crisp\" transform=\"translate(0,311.448)\" d=\"M80,0h740\" style=\"stroke: rgb(255, 255, 255); stroke-opacity: 1; stroke-width: 1px;\"/><path class=\"ygrid crisp\" transform=\"translate(0,282.778)\" d=\"M80,0h740\" style=\"stroke: rgb(255, 255, 255); stroke-opacity: 1; stroke-width: 1px;\"/><path class=\"ygrid crisp\" transform=\"translate(0,244.878)\" d=\"M80,0h740\" style=\"stroke: rgb(255, 255, 255); stroke-opacity: 1; stroke-width: 1px;\"/><path class=\"ygrid crisp\" transform=\"translate(0,216.198)\" d=\"M80,0h740\" style=\"stroke: rgb(255, 255, 255); stroke-opacity: 1; stroke-width: 1px;\"/><path class=\"ygrid crisp\" transform=\"translate(0,187.52800000000002)\" d=\"M80,0h740\" style=\"stroke: rgb(255, 255, 255); stroke-opacity: 1; stroke-width: 1px;\"/></g></g><g class=\"zerolinelayer\"/><path class=\"xlines-below\"/><path class=\"ylines-below\"/><g class=\"overlines-below\"/><g class=\"xaxislayer-below\"/><g class=\"yaxislayer-below\"/><g class=\"overaxes-below\"/><g class=\"plot\" transform=\"translate(80,153.888)\" clip-path=\"url(#clipf7fcb8xyplot)\"><g class=\"barlayer mlayer\"><g class=\"trace bars\" shape-rendering=\"crispEdges\" style=\"opacity: 1;\"><g class=\"points\"><g class=\"point\"><path d=\"M28.24,2794.18V13.31H45.76V2794.18Z\" style=\"vector-effect: non-scaling-stroke; opacity: 1; stroke-width: 0px; fill: rgb(99, 110, 250); fill-opacity: 1;\"/></g><g class=\"point\"><path d=\"M45.76,2794.18V98.2H63.29V2794.18Z\" style=\"vector-effect: non-scaling-stroke; opacity: 1; stroke-width: 0px; fill: rgb(99, 110, 250); fill-opacity: 1;\"/></g><g class=\"point\"><path d=\"M63.29,2794.18V143.64H80.81V2794.18Z\" style=\"vector-effect: non-scaling-stroke; opacity: 1; stroke-width: 0px; fill: rgb(99, 110, 250); fill-opacity: 1;\"/></g><g class=\"point\"><path d=\"M80.81,2794.18V128.89H98.34V2794.18Z\" style=\"vector-effect: non-scaling-stroke; opacity: 1; stroke-width: 0px; fill: rgb(99, 110, 250); fill-opacity: 1;\"/></g><g class=\"point\"><path d=\"M98.34,2794.18V135.61H115.87V2794.18Z\" style=\"vector-effect: non-scaling-stroke; opacity: 1; stroke-width: 0px; fill: rgb(99, 110, 250); fill-opacity: 1;\"/></g><g class=\"point\"><path d=\"M115.87,2794.18V161.92H133.39V2794.18Z\" style=\"vector-effect: non-scaling-stroke; opacity: 1; stroke-width: 0px; fill: rgb(99, 110, 250); fill-opacity: 1;\"/></g><g class=\"point\"><path d=\"M133.39,2794.18V252.81H150.92V2794.18Z\" style=\"vector-effect: non-scaling-stroke; opacity: 1; stroke-width: 0px; fill: rgb(99, 110, 250); fill-opacity: 1;\"/></g><g class=\"point\"><path d=\"M150.92,2794.18V252.81H168.44V2794.18Z\" style=\"vector-effect: non-scaling-stroke; opacity: 1; stroke-width: 0px; fill: rgb(99, 110, 250); fill-opacity: 1;\"/></g><g class=\"point\"><path d=\"M168.44,2794.18V195.46H185.97V2794.18Z\" style=\"vector-effect: non-scaling-stroke; opacity: 1; stroke-width: 0px; fill: rgb(99, 110, 250); fill-opacity: 1;\"/></g><g class=\"point\"><path d=\"M185.97,2794.18V224.13H203.49V2794.18Z\" style=\"vector-effect: non-scaling-stroke; opacity: 1; stroke-width: 0px; fill: rgb(99, 110, 250); fill-opacity: 1;\"/></g><g class=\"point\"><path d=\"M203.49,2794.18V178.69H221.02V2794.18Z\" style=\"vector-effect: non-scaling-stroke; opacity: 1; stroke-width: 0px; fill: rgb(99, 110, 250); fill-opacity: 1;\"/></g><g class=\"point\"><path d=\"M221.02,2794.18V252.81H238.54V2794.18Z\" style=\"vector-effect: non-scaling-stroke; opacity: 1; stroke-width: 0px; fill: rgb(99, 110, 250); fill-opacity: 1;\"/></g><g class=\"point\"><path d=\"M238.54,2794.18V252.81H256.07V2794.18Z\" style=\"vector-effect: non-scaling-stroke; opacity: 1; stroke-width: 0px; fill: rgb(99, 110, 250); fill-opacity: 1;\"/></g><g class=\"point\"><path d=\"M256.07,2794.18V207.36H273.6V2794.18Z\" style=\"vector-effect: non-scaling-stroke; opacity: 1; stroke-width: 0px; fill: rgb(99, 110, 250); fill-opacity: 1;\"/></g><g class=\"point\"><path d=\"M273.6,2794.18V207.36H291.12V2794.18Z\" style=\"vector-effect: non-scaling-stroke; opacity: 1; stroke-width: 0px; fill: rgb(99, 110, 250); fill-opacity: 1;\"/></g><g class=\"point\"><path d=\"M291.12,2794.18V195.46H308.65V2794.18Z\" style=\"vector-effect: non-scaling-stroke; opacity: 1; stroke-width: 0px; fill: rgb(99, 110, 250); fill-opacity: 1;\"/></g><g class=\"point\"><path d=\"M0,0Z\" style=\"vector-effect: non-scaling-stroke; opacity: 1; stroke-width: 0px; fill: rgb(99, 110, 250); fill-opacity: 1;\"/></g><g class=\"point\"><path d=\"M326.17,2794.18V252.81H343.7V2794.18Z\" style=\"vector-effect: non-scaling-stroke; opacity: 1; stroke-width: 0px; fill: rgb(99, 110, 250); fill-opacity: 1;\"/></g><g class=\"point\"><path d=\"M343.7,2794.18V224.13H361.22V2794.18Z\" style=\"vector-effect: non-scaling-stroke; opacity: 1; stroke-width: 0px; fill: rgb(99, 110, 250); fill-opacity: 1;\"/></g><g class=\"point\"><path d=\"M361.22,2794.18V207.36H378.75V2794.18Z\" style=\"vector-effect: non-scaling-stroke; opacity: 1; stroke-width: 0px; fill: rgb(99, 110, 250); fill-opacity: 1;\"/></g><g class=\"point\"><path d=\"M378.75,2794.18V224.13H396.28V2794.18Z\" style=\"vector-effect: non-scaling-stroke; opacity: 1; stroke-width: 0px; fill: rgb(99, 110, 250); fill-opacity: 1;\"/></g><g class=\"point\"><path d=\"M0,0Z\" style=\"vector-effect: non-scaling-stroke; opacity: 1; stroke-width: 0px; fill: rgb(99, 110, 250); fill-opacity: 1;\"/></g><g class=\"point\"><path d=\"M0,0Z\" style=\"vector-effect: non-scaling-stroke; opacity: 1; stroke-width: 0px; fill: rgb(99, 110, 250); fill-opacity: 1;\"/></g><g class=\"point\"><path d=\"M0,0Z\" style=\"vector-effect: non-scaling-stroke; opacity: 1; stroke-width: 0px; fill: rgb(99, 110, 250); fill-opacity: 1;\"/></g><g class=\"point\"><path d=\"M448.85,2794.18V252.81H466.38V2794.18Z\" style=\"vector-effect: non-scaling-stroke; opacity: 1; stroke-width: 0px; fill: rgb(99, 110, 250); fill-opacity: 1;\"/></g><g class=\"point\"><path d=\"M0,0Z\" style=\"vector-effect: non-scaling-stroke; opacity: 1; stroke-width: 0px; fill: rgb(99, 110, 250); fill-opacity: 1;\"/></g><g class=\"point\"><path d=\"M0,0Z\" style=\"vector-effect: non-scaling-stroke; opacity: 1; stroke-width: 0px; fill: rgb(99, 110, 250); fill-opacity: 1;\"/></g><g class=\"point\"><path d=\"M0,0Z\" style=\"vector-effect: non-scaling-stroke; opacity: 1; stroke-width: 0px; fill: rgb(99, 110, 250); fill-opacity: 1;\"/></g><g class=\"point\"><path d=\"M0,0Z\" style=\"vector-effect: non-scaling-stroke; opacity: 1; stroke-width: 0px; fill: rgb(99, 110, 250); fill-opacity: 1;\"/></g><g class=\"point\"><path d=\"M536.48,2794.18V252.81H554.01V2794.18Z\" style=\"vector-effect: non-scaling-stroke; opacity: 1; stroke-width: 0px; fill: rgb(99, 110, 250); fill-opacity: 1;\"/></g><g class=\"point\"><path d=\"M0,0Z\" style=\"vector-effect: non-scaling-stroke; opacity: 1; stroke-width: 0px; fill: rgb(99, 110, 250); fill-opacity: 1;\"/></g><g class=\"point\"><path d=\"M0,0Z\" style=\"vector-effect: non-scaling-stroke; opacity: 1; stroke-width: 0px; fill: rgb(99, 110, 250); fill-opacity: 1;\"/></g><g class=\"point\"><path d=\"M0,0Z\" style=\"vector-effect: non-scaling-stroke; opacity: 1; stroke-width: 0px; fill: rgb(99, 110, 250); fill-opacity: 1;\"/></g><g class=\"point\"><path d=\"M0,0Z\" style=\"vector-effect: non-scaling-stroke; opacity: 1; stroke-width: 0px; fill: rgb(99, 110, 250); fill-opacity: 1;\"/></g><g class=\"point\"><path d=\"M624.11,2794.18V252.81H641.63V2794.18Z\" style=\"vector-effect: non-scaling-stroke; opacity: 1; stroke-width: 0px; fill: rgb(99, 110, 250); fill-opacity: 1;\"/></g><g class=\"point\"><path d=\"M0,0Z\" style=\"vector-effect: non-scaling-stroke; opacity: 1; stroke-width: 0px; fill: rgb(99, 110, 250); fill-opacity: 1;\"/></g><g class=\"point\"><path d=\"M0,0Z\" style=\"vector-effect: non-scaling-stroke; opacity: 1; stroke-width: 0px; fill: rgb(99, 110, 250); fill-opacity: 1;\"/></g><g class=\"point\"><path d=\"M0,0Z\" style=\"vector-effect: non-scaling-stroke; opacity: 1; stroke-width: 0px; fill: rgb(99, 110, 250); fill-opacity: 1;\"/></g><g class=\"point\"><path d=\"M694.21,2794.18V252.81H711.74V2794.18Z\" style=\"vector-effect: non-scaling-stroke; opacity: 1; stroke-width: 0px; fill: rgb(99, 110, 250); fill-opacity: 1;\"/></g></g></g></g></g><g class=\"overplot\"/><path class=\"xlines-above crisp\" d=\"M0,0\" style=\"fill: none;\"/><path class=\"ylines-above crisp\" d=\"M0,0\" style=\"fill: none;\"/><g class=\"overlines-above\"/><g class=\"xaxislayer-above\"><g class=\"xtick\"><text text-anchor=\"middle\" x=\"0\" y=\"433\" transform=\"translate(117,0)\" style=\"font-family: 'Open Sans', verdana, arial, sans-serif; font-size: 12px; fill: rgb(42, 63, 95); fill-opacity: 1; white-space: pre; opacity: 1;\">0</text></g><g class=\"xtick\"><text text-anchor=\"middle\" x=\"0\" y=\"433\" style=\"font-family: 'Open Sans', verdana, arial, sans-serif; font-size: 12px; fill: rgb(42, 63, 95); fill-opacity: 1; white-space: pre; opacity: 1;\" transform=\"translate(292.26,0)\">50</text></g><g class=\"xtick\"><text text-anchor=\"middle\" x=\"0\" y=\"433\" style=\"font-family: 'Open Sans', verdana, arial, sans-serif; font-size: 12px; fill: rgb(42, 63, 95); fill-opacity: 1; white-space: pre; opacity: 1;\" transform=\"translate(467.51,0)\">100</text></g><g class=\"xtick\"><text text-anchor=\"middle\" x=\"0\" y=\"433\" style=\"font-family: 'Open Sans', verdana, arial, sans-serif; font-size: 12px; fill: rgb(42, 63, 95); fill-opacity: 1; white-space: pre; opacity: 1;\" transform=\"translate(642.77,0)\">150</text></g><g class=\"xtick\"><text text-anchor=\"middle\" x=\"0\" y=\"433\" style=\"font-family: 'Open Sans', verdana, arial, sans-serif; font-size: 12px; fill: rgb(42, 63, 95); fill-opacity: 1; white-space: pre; opacity: 1;\" transform=\"translate(818.02,0)\">200</text></g></g><g class=\"yaxislayer-above\"><g class=\"ytick\"><text text-anchor=\"end\" x=\"79\" y=\"4.199999999999999\" transform=\"translate(0,406.698)\" style=\"font-family: 'Open Sans', verdana, arial, sans-serif; font-size: 12px; fill: rgb(42, 63, 95); fill-opacity: 1; white-space: pre; opacity: 1;\">1</text></g><g class=\"ytick\"><text text-anchor=\"end\" x=\"79\" y=\"3.15\" style=\"font-family: 'Open Sans', verdana, arial, sans-serif; font-size: 9px; fill: rgb(42, 63, 95); fill-opacity: 1; white-space: pre; opacity: 1;\" transform=\"translate(0,378.01800000000003)\">2</text></g><g class=\"ytick\"><text text-anchor=\"end\" x=\"79\" y=\"3.15\" style=\"font-family: 'Open Sans', verdana, arial, sans-serif; font-size: 9px; fill: rgb(42, 63, 95); fill-opacity: 1; white-space: pre; opacity: 1;\" transform=\"translate(0,340.118)\">5</text></g><g class=\"ytick\"><text text-anchor=\"end\" x=\"79\" y=\"4.199999999999999\" style=\"font-family: 'Open Sans', verdana, arial, sans-serif; font-size: 12px; fill: rgb(42, 63, 95); fill-opacity: 1; white-space: pre; opacity: 1;\" transform=\"translate(0,311.448)\">10</text></g><g class=\"ytick\"><text text-anchor=\"end\" x=\"79\" y=\"3.15\" style=\"font-family: 'Open Sans', verdana, arial, sans-serif; font-size: 9px; fill: rgb(42, 63, 95); fill-opacity: 1; white-space: pre; opacity: 1;\" transform=\"translate(0,282.778)\">2</text></g><g class=\"ytick\"><text text-anchor=\"end\" x=\"79\" y=\"3.15\" style=\"font-family: 'Open Sans', verdana, arial, sans-serif; font-size: 9px; fill: rgb(42, 63, 95); fill-opacity: 1; white-space: pre; opacity: 1;\" transform=\"translate(0,244.878)\">5</text></g><g class=\"ytick\"><text text-anchor=\"end\" x=\"79\" y=\"4.199999999999999\" style=\"font-family: 'Open Sans', verdana, arial, sans-serif; font-size: 12px; fill: rgb(42, 63, 95); fill-opacity: 1; white-space: pre; opacity: 1;\" transform=\"translate(0,216.198)\">100</text></g><g class=\"ytick\"><text text-anchor=\"end\" x=\"79\" y=\"3.15\" style=\"font-family: 'Open Sans', verdana, arial, sans-serif; font-size: 9px; fill: rgb(42, 63, 95); fill-opacity: 1; white-space: pre; opacity: 1;\" transform=\"translate(0,187.52800000000002)\">2</text></g></g><g class=\"overaxes-above\"/></g><g class=\"subplot x2y2\"><g class=\"layer-subplot\"><g class=\"shapelayer\"/><g class=\"imagelayer\"/></g><g class=\"minor-gridlayer\"><g class=\"x2\"/><g class=\"y2\"/></g><g class=\"gridlayer\"><g class=\"x2\"><path class=\"x2grid crisp\" transform=\"translate(292.26,0)\" d=\"M0,100v50.687999999999995\" style=\"stroke: rgb(255, 255, 255); stroke-opacity: 1; stroke-width: 1px;\"/><path class=\"x2grid crisp\" transform=\"translate(467.51,0)\" d=\"M0,100v50.687999999999995\" style=\"stroke: rgb(255, 255, 255); stroke-opacity: 1; stroke-width: 1px;\"/><path class=\"x2grid crisp\" transform=\"translate(642.77,0)\" d=\"M0,100v50.687999999999995\" style=\"stroke: rgb(255, 255, 255); stroke-opacity: 1; stroke-width: 1px;\"/><path class=\"x2grid crisp\" transform=\"translate(818.02,0)\" d=\"M0,100v50.687999999999995\" style=\"stroke: rgb(255, 255, 255); stroke-opacity: 1; stroke-width: 1px;\"/></g><g class=\"y2\"/></g><g class=\"zerolinelayer\"><path class=\"x2zl zl crisp\" transform=\"translate(117,0)\" d=\"M0,100v50.687999999999995\" style=\"stroke: rgb(255, 255, 255); stroke-opacity: 1; stroke-width: 2px;\"/></g><path class=\"xlines-below\"/><path class=\"ylines-below\"/><g class=\"overlines-below\"/><g class=\"xaxislayer-below\"/><g class=\"yaxislayer-below\"/><g class=\"overaxes-below\"/><g class=\"plot\" transform=\"translate(80,100)\" clip-path=\"url(#clipf7fcb8x2y2plot)\"><g class=\"boxlayer mlayer\"><g class=\"trace boxes\" style=\"opacity: 1;\"><path class=\"box\" d=\"M38.54,31.55V19.13M37,37.76V12.93H37.47L38.54,19.13L39.6,12.93H51.7V37.76H39.6L38.54,31.55L37.47,37.76ZM37,25.34H37M51.7,25.34H73.14M37,31.55V19.13M73.14,31.55V19.13\" style=\"vector-effect: non-scaling-stroke; stroke-width: 2px; stroke: rgb(99, 110, 250); stroke-opacity: 1; fill: rgb(99, 110, 250); fill-opacity: 0.5;\"/><g class=\"points\"><path class=\"point\" transform=\"translate(73.87,25.34)\" d=\"M3,0A3,3 0 1,1 0,-3A3,3 0 0,1 3,0Z\" style=\"opacity: 1; stroke-width: 0px; fill: rgb(99, 110, 250); fill-opacity: 1;\"/><path class=\"point\" transform=\"translate(77.09,25.34)\" d=\"M3,0A3,3 0 1,1 0,-3A3,3 0 0,1 3,0Z\" style=\"opacity: 1; stroke-width: 0px; fill: rgb(99, 110, 250); fill-opacity: 1;\"/><path class=\"point\" transform=\"translate(78.16,25.34)\" d=\"M3,0A3,3 0 1,1 0,-3A3,3 0 0,1 3,0Z\" style=\"opacity: 1; stroke-width: 0px; fill: rgb(99, 110, 250); fill-opacity: 1;\"/><path class=\"point\" transform=\"translate(80.71,25.34)\" d=\"M3,0A3,3 0 1,1 0,-3A3,3 0 0,1 3,0Z\" style=\"opacity: 1; stroke-width: 0px; fill: rgb(99, 110, 250); fill-opacity: 1;\"/><path class=\"point\" transform=\"translate(81.72,25.34)\" d=\"M3,0A3,3 0 1,1 0,-3A3,3 0 0,1 3,0Z\" style=\"opacity: 1; stroke-width: 0px; fill: rgb(99, 110, 250); fill-opacity: 1;\"/><path class=\"point\" transform=\"translate(82.17,25.34)\" d=\"M3,0A3,3 0 1,1 0,-3A3,3 0 0,1 3,0Z\" style=\"opacity: 1; stroke-width: 0px; fill: rgb(99, 110, 250); fill-opacity: 1;\"/><path class=\"point\" transform=\"translate(82.42,25.34)\" d=\"M3,0A3,3 0 1,1 0,-3A3,3 0 0,1 3,0Z\" style=\"opacity: 1; stroke-width: 0px; fill: rgb(99, 110, 250); fill-opacity: 1;\"/><path class=\"point\" transform=\"translate(83.85,25.34)\" d=\"M3,0A3,3 0 1,1 0,-3A3,3 0 0,1 3,0Z\" style=\"opacity: 1; stroke-width: 0px; fill: rgb(99, 110, 250); fill-opacity: 1;\"/><path class=\"point\" transform=\"translate(84.26,25.34)\" d=\"M3,0A3,3 0 1,1 0,-3A3,3 0 0,1 3,0Z\" style=\"opacity: 1; stroke-width: 0px; fill: rgb(99, 110, 250); fill-opacity: 1;\"/><path class=\"point\" transform=\"translate(86.63,25.34)\" d=\"M3,0A3,3 0 1,1 0,-3A3,3 0 0,1 3,0Z\" style=\"opacity: 1; stroke-width: 0px; fill: rgb(99, 110, 250); fill-opacity: 1;\"/><path class=\"point\" transform=\"translate(86.86,25.34)\" d=\"M3,0A3,3 0 1,1 0,-3A3,3 0 0,1 3,0Z\" style=\"opacity: 1; stroke-width: 0px; fill: rgb(99, 110, 250); fill-opacity: 1;\"/><path class=\"point\" transform=\"translate(87.02,25.34)\" d=\"M3,0A3,3 0 1,1 0,-3A3,3 0 0,1 3,0Z\" style=\"opacity: 1; stroke-width: 0px; fill: rgb(99, 110, 250); fill-opacity: 1;\"/><path class=\"point\" transform=\"translate(88.13,25.34)\" d=\"M3,0A3,3 0 1,1 0,-3A3,3 0 0,1 3,0Z\" style=\"opacity: 1; stroke-width: 0px; fill: rgb(99, 110, 250); fill-opacity: 1;\"/><path class=\"point\" transform=\"translate(88.79,25.34)\" d=\"M3,0A3,3 0 1,1 0,-3A3,3 0 0,1 3,0Z\" style=\"opacity: 1; stroke-width: 0px; fill: rgb(99, 110, 250); fill-opacity: 1;\"/><path class=\"point\" transform=\"translate(89.27,25.34)\" d=\"M3,0A3,3 0 1,1 0,-3A3,3 0 0,1 3,0Z\" style=\"opacity: 1; stroke-width: 0px; fill: rgb(99, 110, 250); fill-opacity: 1;\"/><path class=\"point\" transform=\"translate(90.45,25.34)\" d=\"M3,0A3,3 0 1,1 0,-3A3,3 0 0,1 3,0Z\" style=\"opacity: 1; stroke-width: 0px; fill: rgb(99, 110, 250); fill-opacity: 1;\"/><path class=\"point\" transform=\"translate(90.92,25.34)\" d=\"M3,0A3,3 0 1,1 0,-3A3,3 0 0,1 3,0Z\" style=\"opacity: 1; stroke-width: 0px; fill: rgb(99, 110, 250); fill-opacity: 1;\"/><path class=\"point\" transform=\"translate(91.86,25.34)\" d=\"M3,0A3,3 0 1,1 0,-3A3,3 0 0,1 3,0Z\" style=\"opacity: 1; stroke-width: 0px; fill: rgb(99, 110, 250); fill-opacity: 1;\"/><path class=\"point\" transform=\"translate(91.89,25.34)\" d=\"M3,0A3,3 0 1,1 0,-3A3,3 0 0,1 3,0Z\" style=\"opacity: 1; stroke-width: 0px; fill: rgb(99, 110, 250); fill-opacity: 1;\"/><path class=\"point\" transform=\"translate(91.96,25.34)\" d=\"M3,0A3,3 0 1,1 0,-3A3,3 0 0,1 3,0Z\" style=\"opacity: 1; stroke-width: 0px; fill: rgb(99, 110, 250); fill-opacity: 1;\"/><path class=\"point\" transform=\"translate(93.57,25.34)\" d=\"M3,0A3,3 0 1,1 0,-3A3,3 0 0,1 3,0Z\" style=\"opacity: 1; stroke-width: 0px; fill: rgb(99, 110, 250); fill-opacity: 1;\"/><path class=\"point\" transform=\"translate(93.59,25.34)\" d=\"M3,0A3,3 0 1,1 0,-3A3,3 0 0,1 3,0Z\" style=\"opacity: 1; stroke-width: 0px; fill: rgb(99, 110, 250); fill-opacity: 1;\"/><path class=\"point\" transform=\"translate(94.62,25.34)\" d=\"M3,0A3,3 0 1,1 0,-3A3,3 0 0,1 3,0Z\" style=\"opacity: 1; stroke-width: 0px; fill: rgb(99, 110, 250); fill-opacity: 1;\"/><path class=\"point\" transform=\"translate(96.57,25.34)\" d=\"M3,0A3,3 0 1,1 0,-3A3,3 0 0,1 3,0Z\" style=\"opacity: 1; stroke-width: 0px; fill: rgb(99, 110, 250); fill-opacity: 1;\"/><path class=\"point\" transform=\"translate(98.53,25.34)\" d=\"M3,0A3,3 0 1,1 0,-3A3,3 0 0,1 3,0Z\" style=\"opacity: 1; stroke-width: 0px; fill: rgb(99, 110, 250); fill-opacity: 1;\"/><path class=\"point\" transform=\"translate(101.05,25.34)\" d=\"M3,0A3,3 0 1,1 0,-3A3,3 0 0,1 3,0Z\" style=\"opacity: 1; stroke-width: 0px; fill: rgb(99, 110, 250); fill-opacity: 1;\"/><path class=\"point\" transform=\"translate(101.9,25.34)\" d=\"M3,0A3,3 0 1,1 0,-3A3,3 0 0,1 3,0Z\" style=\"opacity: 1; stroke-width: 0px; fill: rgb(99, 110, 250); fill-opacity: 1;\"/><path class=\"point\" transform=\"translate(101.91,25.34)\" d=\"M3,0A3,3 0 1,1 0,-3A3,3 0 0,1 3,0Z\" style=\"opacity: 1; stroke-width: 0px; fill: rgb(99, 110, 250); fill-opacity: 1;\"/><path class=\"point\" transform=\"translate(102.22,25.34)\" d=\"M3,0A3,3 0 1,1 0,-3A3,3 0 0,1 3,0Z\" style=\"opacity: 1; stroke-width: 0px; fill: rgb(99, 110, 250); fill-opacity: 1;\"/><path class=\"point\" transform=\"translate(104.4,25.34)\" d=\"M3,0A3,3 0 1,1 0,-3A3,3 0 0,1 3,0Z\" style=\"opacity: 1; stroke-width: 0px; fill: rgb(99, 110, 250); fill-opacity: 1;\"/><path class=\"point\" transform=\"translate(104.41,25.34)\" d=\"M3,0A3,3 0 1,1 0,-3A3,3 0 0,1 3,0Z\" style=\"opacity: 1; stroke-width: 0px; fill: rgb(99, 110, 250); fill-opacity: 1;\"/><path class=\"point\" transform=\"translate(106.27,25.34)\" d=\"M3,0A3,3 0 1,1 0,-3A3,3 0 0,1 3,0Z\" style=\"opacity: 1; stroke-width: 0px; fill: rgb(99, 110, 250); fill-opacity: 1;\"/><path class=\"point\" transform=\"translate(106.51,25.34)\" d=\"M3,0A3,3 0 1,1 0,-3A3,3 0 0,1 3,0Z\" style=\"opacity: 1; stroke-width: 0px; fill: rgb(99, 110, 250); fill-opacity: 1;\"/><path class=\"point\" transform=\"translate(106.75,25.34)\" d=\"M3,0A3,3 0 1,1 0,-3A3,3 0 0,1 3,0Z\" style=\"opacity: 1; stroke-width: 0px; fill: rgb(99, 110, 250); fill-opacity: 1;\"/><path class=\"point\" transform=\"translate(107.24,25.34)\" d=\"M3,0A3,3 0 1,1 0,-3A3,3 0 0,1 3,0Z\" style=\"opacity: 1; stroke-width: 0px; fill: rgb(99, 110, 250); fill-opacity: 1;\"/><path class=\"point\" transform=\"translate(109.18,25.34)\" d=\"M3,0A3,3 0 1,1 0,-3A3,3 0 0,1 3,0Z\" style=\"opacity: 1; stroke-width: 0px; fill: rgb(99, 110, 250); fill-opacity: 1;\"/><path class=\"point\" transform=\"translate(109.27,25.34)\" d=\"M3,0A3,3 0 1,1 0,-3A3,3 0 0,1 3,0Z\" style=\"opacity: 1; stroke-width: 0px; fill: rgb(99, 110, 250); fill-opacity: 1;\"/><path class=\"point\" transform=\"translate(110.18,25.34)\" d=\"M3,0A3,3 0 1,1 0,-3A3,3 0 0,1 3,0Z\" style=\"opacity: 1; stroke-width: 0px; fill: rgb(99, 110, 250); fill-opacity: 1;\"/><path class=\"point\" transform=\"translate(111.45,25.34)\" d=\"M3,0A3,3 0 1,1 0,-3A3,3 0 0,1 3,0Z\" style=\"opacity: 1; stroke-width: 0px; fill: rgb(99, 110, 250); fill-opacity: 1;\"/><path class=\"point\" transform=\"translate(113.31,25.34)\" d=\"M3,0A3,3 0 1,1 0,-3A3,3 0 0,1 3,0Z\" style=\"opacity: 1; stroke-width: 0px; fill: rgb(99, 110, 250); fill-opacity: 1;\"/><path class=\"point\" transform=\"translate(114.69,25.34)\" d=\"M3,0A3,3 0 1,1 0,-3A3,3 0 0,1 3,0Z\" style=\"opacity: 1; stroke-width: 0px; fill: rgb(99, 110, 250); fill-opacity: 1;\"/><path class=\"point\" transform=\"translate(117.69,25.34)\" d=\"M3,0A3,3 0 1,1 0,-3A3,3 0 0,1 3,0Z\" style=\"opacity: 1; stroke-width: 0px; fill: rgb(99, 110, 250); fill-opacity: 1;\"/><path class=\"point\" transform=\"translate(118.71,25.34)\" d=\"M3,0A3,3 0 1,1 0,-3A3,3 0 0,1 3,0Z\" style=\"opacity: 1; stroke-width: 0px; fill: rgb(99, 110, 250); fill-opacity: 1;\"/><path class=\"point\" transform=\"translate(121.26,25.34)\" d=\"M3,0A3,3 0 1,1 0,-3A3,3 0 0,1 3,0Z\" style=\"opacity: 1; stroke-width: 0px; fill: rgb(99, 110, 250); fill-opacity: 1;\"/><path class=\"point\" transform=\"translate(124.44,25.34)\" d=\"M3,0A3,3 0 1,1 0,-3A3,3 0 0,1 3,0Z\" style=\"opacity: 1; stroke-width: 0px; fill: rgb(99, 110, 250); fill-opacity: 1;\"/><path class=\"point\" transform=\"translate(124.89,25.34)\" d=\"M3,0A3,3 0 1,1 0,-3A3,3 0 0,1 3,0Z\" style=\"opacity: 1; stroke-width: 0px; fill: rgb(99, 110, 250); fill-opacity: 1;\"/><path class=\"point\" transform=\"translate(125.03,25.34)\" d=\"M3,0A3,3 0 1,1 0,-3A3,3 0 0,1 3,0Z\" style=\"opacity: 1; stroke-width: 0px; fill: rgb(99, 110, 250); fill-opacity: 1;\"/><path class=\"point\" transform=\"translate(127.65,25.34)\" d=\"M3,0A3,3 0 1,1 0,-3A3,3 0 0,1 3,0Z\" style=\"opacity: 1; stroke-width: 0px; fill: rgb(99, 110, 250); fill-opacity: 1;\"/><path class=\"point\" transform=\"translate(128.31,25.34)\" d=\"M3,0A3,3 0 1,1 0,-3A3,3 0 0,1 3,0Z\" style=\"opacity: 1; stroke-width: 0px; fill: rgb(99, 110, 250); fill-opacity: 1;\"/><path class=\"point\" transform=\"translate(128.5,25.34)\" d=\"M3,0A3,3 0 1,1 0,-3A3,3 0 0,1 3,0Z\" style=\"opacity: 1; stroke-width: 0px; fill: rgb(99, 110, 250); fill-opacity: 1;\"/><path class=\"point\" transform=\"translate(136.2,25.34)\" d=\"M3,0A3,3 0 1,1 0,-3A3,3 0 0,1 3,0Z\" style=\"opacity: 1; stroke-width: 0px; fill: rgb(99, 110, 250); fill-opacity: 1;\"/><path class=\"point\" transform=\"translate(151.82,25.34)\" d=\"M3,0A3,3 0 1,1 0,-3A3,3 0 0,1 3,0Z\" style=\"opacity: 1; stroke-width: 0px; fill: rgb(99, 110, 250); fill-opacity: 1;\"/><path class=\"point\" transform=\"translate(171.91,25.34)\" d=\"M3,0A3,3 0 1,1 0,-3A3,3 0 0,1 3,0Z\" style=\"opacity: 1; stroke-width: 0px; fill: rgb(99, 110, 250); fill-opacity: 1;\"/><path class=\"point\" transform=\"translate(174.35,25.34)\" d=\"M3,0A3,3 0 1,1 0,-3A3,3 0 0,1 3,0Z\" style=\"opacity: 1; stroke-width: 0px; fill: rgb(99, 110, 250); fill-opacity: 1;\"/><path class=\"point\" transform=\"translate(175.06,25.34)\" d=\"M3,0A3,3 0 1,1 0,-3A3,3 0 0,1 3,0Z\" style=\"opacity: 1; stroke-width: 0px; fill: rgb(99, 110, 250); fill-opacity: 1;\"/><path class=\"point\" transform=\"translate(178.65,25.34)\" d=\"M3,0A3,3 0 1,1 0,-3A3,3 0 0,1 3,0Z\" style=\"opacity: 1; stroke-width: 0px; fill: rgb(99, 110, 250); fill-opacity: 1;\"/><path class=\"point\" transform=\"translate(191.38,25.34)\" d=\"M3,0A3,3 0 1,1 0,-3A3,3 0 0,1 3,0Z\" style=\"opacity: 1; stroke-width: 0px; fill: rgb(99, 110, 250); fill-opacity: 1;\"/><path class=\"point\" transform=\"translate(200.67,25.34)\" d=\"M3,0A3,3 0 1,1 0,-3A3,3 0 0,1 3,0Z\" style=\"opacity: 1; stroke-width: 0px; fill: rgb(99, 110, 250); fill-opacity: 1;\"/><path class=\"point\" transform=\"translate(206.49,25.34)\" d=\"M3,0A3,3 0 1,1 0,-3A3,3 0 0,1 3,0Z\" style=\"opacity: 1; stroke-width: 0px; fill: rgb(99, 110, 250); fill-opacity: 1;\"/><path class=\"point\" transform=\"translate(210.8,25.34)\" d=\"M3,0A3,3 0 1,1 0,-3A3,3 0 0,1 3,0Z\" style=\"opacity: 1; stroke-width: 0px; fill: rgb(99, 110, 250); fill-opacity: 1;\"/><path class=\"point\" transform=\"translate(211.82,25.34)\" d=\"M3,0A3,3 0 1,1 0,-3A3,3 0 0,1 3,0Z\" style=\"opacity: 1; stroke-width: 0px; fill: rgb(99, 110, 250); fill-opacity: 1;\"/><path class=\"point\" transform=\"translate(214.93,25.34)\" d=\"M3,0A3,3 0 1,1 0,-3A3,3 0 0,1 3,0Z\" style=\"opacity: 1; stroke-width: 0px; fill: rgb(99, 110, 250); fill-opacity: 1;\"/><path class=\"point\" transform=\"translate(218.13,25.34)\" d=\"M3,0A3,3 0 1,1 0,-3A3,3 0 0,1 3,0Z\" style=\"opacity: 1; stroke-width: 0px; fill: rgb(99, 110, 250); fill-opacity: 1;\"/><path class=\"point\" transform=\"translate(218.14,25.34)\" d=\"M3,0A3,3 0 1,1 0,-3A3,3 0 0,1 3,0Z\" style=\"opacity: 1; stroke-width: 0px; fill: rgb(99, 110, 250); fill-opacity: 1;\"/><path class=\"point\" transform=\"translate(226.55,25.34)\" d=\"M3,0A3,3 0 1,1 0,-3A3,3 0 0,1 3,0Z\" style=\"opacity: 1; stroke-width: 0px; fill: rgb(99, 110, 250); fill-opacity: 1;\"/><path class=\"point\" transform=\"translate(238.69,25.34)\" d=\"M3,0A3,3 0 1,1 0,-3A3,3 0 0,1 3,0Z\" style=\"opacity: 1; stroke-width: 0px; fill: rgb(99, 110, 250); fill-opacity: 1;\"/><path class=\"point\" transform=\"translate(259.96,25.34)\" d=\"M3,0A3,3 0 1,1 0,-3A3,3 0 0,1 3,0Z\" style=\"opacity: 1; stroke-width: 0px; fill: rgb(99, 110, 250); fill-opacity: 1;\"/><path class=\"point\" transform=\"translate(260.02,25.34)\" d=\"M3,0A3,3 0 1,1 0,-3A3,3 0 0,1 3,0Z\" style=\"opacity: 1; stroke-width: 0px; fill: rgb(99, 110, 250); fill-opacity: 1;\"/><path class=\"point\" transform=\"translate(270.72,25.34)\" d=\"M3,0A3,3 0 1,1 0,-3A3,3 0 0,1 3,0Z\" style=\"opacity: 1; stroke-width: 0px; fill: rgb(99, 110, 250); fill-opacity: 1;\"/><path class=\"point\" transform=\"translate(276.28,25.34)\" d=\"M3,0A3,3 0 1,1 0,-3A3,3 0 0,1 3,0Z\" style=\"opacity: 1; stroke-width: 0px; fill: rgb(99, 110, 250); fill-opacity: 1;\"/><path class=\"point\" transform=\"translate(282.61,25.34)\" d=\"M3,0A3,3 0 1,1 0,-3A3,3 0 0,1 3,0Z\" style=\"opacity: 1; stroke-width: 0px; fill: rgb(99, 110, 250); fill-opacity: 1;\"/><path class=\"point\" transform=\"translate(288.54,25.34)\" d=\"M3,0A3,3 0 1,1 0,-3A3,3 0 0,1 3,0Z\" style=\"opacity: 1; stroke-width: 0px; fill: rgb(99, 110, 250); fill-opacity: 1;\"/><path class=\"point\" transform=\"translate(291.66,25.34)\" d=\"M3,0A3,3 0 1,1 0,-3A3,3 0 0,1 3,0Z\" style=\"opacity: 1; stroke-width: 0px; fill: rgb(99, 110, 250); fill-opacity: 1;\"/><path class=\"point\" transform=\"translate(293.84,25.34)\" d=\"M3,0A3,3 0 1,1 0,-3A3,3 0 0,1 3,0Z\" style=\"opacity: 1; stroke-width: 0px; fill: rgb(99, 110, 250); fill-opacity: 1;\"/><path class=\"point\" transform=\"translate(296.31,25.34)\" d=\"M3,0A3,3 0 1,1 0,-3A3,3 0 0,1 3,0Z\" style=\"opacity: 1; stroke-width: 0px; fill: rgb(99, 110, 250); fill-opacity: 1;\"/><path class=\"point\" transform=\"translate(302.56,25.34)\" d=\"M3,0A3,3 0 1,1 0,-3A3,3 0 0,1 3,0Z\" style=\"opacity: 1; stroke-width: 0px; fill: rgb(99, 110, 250); fill-opacity: 1;\"/><path class=\"point\" transform=\"translate(333.93,25.34)\" d=\"M3,0A3,3 0 1,1 0,-3A3,3 0 0,1 3,0Z\" style=\"opacity: 1; stroke-width: 0px; fill: rgb(99, 110, 250); fill-opacity: 1;\"/><path class=\"point\" transform=\"translate(346.53,25.34)\" d=\"M3,0A3,3 0 1,1 0,-3A3,3 0 0,1 3,0Z\" style=\"opacity: 1; stroke-width: 0px; fill: rgb(99, 110, 250); fill-opacity: 1;\"/><path class=\"point\" transform=\"translate(352.86,25.34)\" d=\"M3,0A3,3 0 1,1 0,-3A3,3 0 0,1 3,0Z\" style=\"opacity: 1; stroke-width: 0px; fill: rgb(99, 110, 250); fill-opacity: 1;\"/><path class=\"point\" transform=\"translate(362.35,25.34)\" d=\"M3,0A3,3 0 1,1 0,-3A3,3 0 0,1 3,0Z\" style=\"opacity: 1; stroke-width: 0px; fill: rgb(99, 110, 250); fill-opacity: 1;\"/><path class=\"point\" transform=\"translate(375.15,25.34)\" d=\"M3,0A3,3 0 1,1 0,-3A3,3 0 0,1 3,0Z\" style=\"opacity: 1; stroke-width: 0px; fill: rgb(99, 110, 250); fill-opacity: 1;\"/><path class=\"point\" transform=\"translate(377.4,25.34)\" d=\"M3,0A3,3 0 1,1 0,-3A3,3 0 0,1 3,0Z\" style=\"opacity: 1; stroke-width: 0px; fill: rgb(99, 110, 250); fill-opacity: 1;\"/><path class=\"point\" transform=\"translate(381.44,25.34)\" d=\"M3,0A3,3 0 1,1 0,-3A3,3 0 0,1 3,0Z\" style=\"opacity: 1; stroke-width: 0px; fill: rgb(99, 110, 250); fill-opacity: 1;\"/><path class=\"point\" transform=\"translate(389.55,25.34)\" d=\"M3,0A3,3 0 1,1 0,-3A3,3 0 0,1 3,0Z\" style=\"opacity: 1; stroke-width: 0px; fill: rgb(99, 110, 250); fill-opacity: 1;\"/><path class=\"point\" transform=\"translate(449.59,25.34)\" d=\"M3,0A3,3 0 1,1 0,-3A3,3 0 0,1 3,0Z\" style=\"opacity: 1; stroke-width: 0px; fill: rgb(99, 110, 250); fill-opacity: 1;\"/><path class=\"point\" transform=\"translate(544.96,25.34)\" d=\"M3,0A3,3 0 1,1 0,-3A3,3 0 0,1 3,0Z\" style=\"opacity: 1; stroke-width: 0px; fill: rgb(99, 110, 250); fill-opacity: 1;\"/><path class=\"point\" transform=\"translate(632.01,25.34)\" d=\"M3,0A3,3 0 1,1 0,-3A3,3 0 0,1 3,0Z\" style=\"opacity: 1; stroke-width: 0px; fill: rgb(99, 110, 250); fill-opacity: 1;\"/><path class=\"point\" transform=\"translate(703,25.34)\" d=\"M3,0A3,3 0 1,1 0,-3A3,3 0 0,1 3,0Z\" style=\"opacity: 1; stroke-width: 0px; fill: rgb(99, 110, 250); fill-opacity: 1;\"/></g></g></g></g><g class=\"overplot\"/><path class=\"xlines-above crisp\" d=\"M0,0\" style=\"fill: none;\"/><path class=\"ylines-above crisp\" d=\"M0,0\" style=\"fill: none;\"/><g class=\"overlines-above\"/><g class=\"xaxislayer-above\"/><g class=\"yaxislayer-above\"/><g class=\"overaxes-above\"/></g></g><g class=\"polarlayer\"/><g class=\"smithlayer\"/><g class=\"ternarylayer\"/><g class=\"geolayer\"/><g class=\"funnelarealayer\"/><g class=\"pielayer\"/><g class=\"iciclelayer\"/><g class=\"treemaplayer\"/><g class=\"sunburstlayer\"/><g class=\"glimages\"/><defs id=\"topdefs-f7fcb8\"><g class=\"clips\"/></defs><g class=\"layer-above\"><g class=\"imagelayer\"/><g class=\"shapelayer\"/></g><g class=\"infolayer\"><g class=\"g-gtitle\"><text class=\"gtitle\" x=\"45\" y=\"50\" text-anchor=\"start\" dy=\"0em\" style=\"font-family: 'Open Sans', verdana, arial, sans-serif; font-size: 17px; fill: rgb(42, 63, 95); opacity: 1; font-weight: normal; white-space: pre;\">Distribution of response time</text></g><g class=\"g-xtitle\"><text class=\"xtitle\" x=\"450\" y=\"460.3\" text-anchor=\"middle\" style=\"font-family: 'Open Sans', verdana, arial, sans-serif; font-size: 14px; fill: rgb(42, 63, 95); opacity: 1; font-weight: normal; white-space: pre;\">response_time</text></g><g class=\"g-x2title\"/><g class=\"g-ytitle\"><text class=\"ytitle\" transform=\"rotate(-90,31.309375000000003,286.944)\" x=\"31.309375000000003\" y=\"286.944\" text-anchor=\"middle\" style=\"font-family: 'Open Sans', verdana, arial, sans-serif; font-size: 14px; fill: rgb(42, 63, 95); opacity: 1; font-weight: normal; white-space: pre;\">count</text></g><g class=\"g-y2title\"/></g></svg>"
     },
     "metadata": {},
     "output_type": "display_data"
    }
   ],
   "source": [
    "fig = px.histogram(result[result['response_time']<1000], x='response_time', log_y=True, marginal='box', title='Distribution of response time')\n",
    "fig.show()"
   ]
  },
  {
   "cell_type": "markdown",
   "metadata": {},
   "source": [
    "## Resolution time"
   ]
  },
  {
   "cell_type": "markdown",
   "metadata": {},
   "source": [
    "Assuming that if the last query in the conversation is from the company then the issue is resolved.  \n",
    "Resolution time is the time difference between the last date of last tweet in the conversation and the date of first query."
   ]
  },
  {
   "cell_type": "code",
   "execution_count": 19,
   "metadata": {},
   "outputs": [],
   "source": [
    "result['resolution_time'] = 0"
   ]
  },
  {
   "cell_type": "code",
   "execution_count": 20,
   "metadata": {},
   "outputs": [],
   "source": [
    "for index, conversation_id in enumerate(conversation_ids):\n",
    "    tmp = df[df['conversation_id'] == conversation_id]\n",
    "    tmp.sort_values('date', ascending=True, inplace=True)\n",
    "    comp_tmp = tmp[tmp['username'] == company_username]\n",
    "    if tmp.iloc[-1]['username'] == company_username:\n",
    "        resolution_time = (tmp.iloc[-1]['date'] - tmp.iloc[0]['date']) / datetime.timedelta(hours=1)\n",
    "        result.at[index, 'resolution_time'] = resolution_time"
   ]
  },
  {
   "cell_type": "code",
   "execution_count": 21,
   "metadata": {},
   "outputs": [
    {
     "name": "stdout",
     "output_type": "stream",
     "text": [
      "Number of queries resolved: 288\n",
      "Number of queries unresolved: 180\n"
     ]
    }
   ],
   "source": [
    "print(f\"Number of queries resolved: {len(result['resolution_time'].to_numpy().nonzero()[0])}\")\n",
    "print(f\"Number of queries unresolved: {result.shape[0] - len(result['resolution_time'].to_numpy().nonzero()[0])}\")"
   ]
  },
  {
   "cell_type": "code",
   "execution_count": 25,
   "metadata": {},
   "outputs": [
    {
     "data": {
      "image/svg+xml": "<svg class=\"main-svg\" xmlns=\"http://www.w3.org/2000/svg\" xmlns:xlink=\"http://www.w3.org/1999/xlink\" width=\"900\" height=\"500\" style=\"\" viewBox=\"0 0 900 500\"><rect x=\"0\" y=\"0\" width=\"900\" height=\"500\" style=\"fill: rgb(255, 255, 255); fill-opacity: 1;\"/><defs id=\"defs-adfc8d\"><g class=\"clips\"><clipPath id=\"clipadfc8dxyplot\" class=\"plotclip\"><rect width=\"740\" height=\"266.112\"/></clipPath><clipPath id=\"clipadfc8dx2y2plot\" class=\"plotclip\"><rect width=\"740\" height=\"50.687999999999995\"/></clipPath><clipPath class=\"axesclip\" id=\"clipadfc8dx\"><rect x=\"80\" y=\"0\" width=\"740\" height=\"500\"/></clipPath><clipPath class=\"axesclip\" id=\"clipadfc8dy\"><rect x=\"0\" y=\"153.888\" width=\"900\" height=\"266.112\"/></clipPath><clipPath class=\"axesclip\" id=\"clipadfc8dxy\"><rect x=\"80\" y=\"153.888\" width=\"740\" height=\"266.112\"/></clipPath><clipPath class=\"axesclip\" id=\"clipadfc8dy2\"><rect x=\"0\" y=\"100\" width=\"900\" height=\"50.687999999999995\"/></clipPath><clipPath class=\"axesclip\" id=\"clipadfc8dxy2\"><rect x=\"80\" y=\"100\" width=\"740\" height=\"50.687999999999995\"/></clipPath><clipPath class=\"axesclip\" id=\"clipadfc8dx2\"><rect x=\"80\" y=\"0\" width=\"740\" height=\"500\"/></clipPath><clipPath class=\"axesclip\" id=\"clipadfc8dx2y\"><rect x=\"80\" y=\"153.888\" width=\"740\" height=\"266.112\"/></clipPath><clipPath class=\"axesclip\" id=\"clipadfc8dx2y2\"><rect x=\"80\" y=\"100\" width=\"740\" height=\"50.687999999999995\"/></clipPath></g><g class=\"gradients\"/><g class=\"patterns\"/></defs><g class=\"bglayer\"><rect class=\"bg\" x=\"80\" y=\"153.888\" width=\"740\" height=\"266.112\" style=\"fill: rgb(229, 236, 246); fill-opacity: 1; stroke-width: 0;\"/><rect class=\"bg\" x=\"80\" y=\"100\" width=\"740\" height=\"50.687999999999995\" style=\"fill: rgb(229, 236, 246); fill-opacity: 1; stroke-width: 0;\"/></g><g class=\"layer-below\"><g class=\"imagelayer\"/><g class=\"shapelayer\"/></g><g class=\"cartesianlayer\"><g class=\"subplot xy\"><g class=\"layer-subplot\"><g class=\"shapelayer\"/><g class=\"imagelayer\"/></g><g class=\"minor-gridlayer\"><g class=\"x\"/><g class=\"y\"/></g><g class=\"gridlayer\"><g class=\"x\"/><g class=\"y\"><path class=\"ygrid crisp\" transform=\"translate(0,406.698)\" d=\"M80,0h740\" style=\"stroke: rgb(255, 255, 255); stroke-opacity: 1; stroke-width: 1px;\"/><path class=\"ygrid crisp\" transform=\"translate(0,378.70799999999997)\" d=\"M80,0h740\" style=\"stroke: rgb(255, 255, 255); stroke-opacity: 1; stroke-width: 1px;\"/><path class=\"ygrid crisp\" transform=\"translate(0,341.718)\" d=\"M80,0h740\" style=\"stroke: rgb(255, 255, 255); stroke-opacity: 1; stroke-width: 1px;\"/><path class=\"ygrid crisp\" transform=\"translate(0,313.728)\" d=\"M80,0h740\" style=\"stroke: rgb(255, 255, 255); stroke-opacity: 1; stroke-width: 1px;\"/><path class=\"ygrid crisp\" transform=\"translate(0,285.74800000000005)\" d=\"M80,0h740\" style=\"stroke: rgb(255, 255, 255); stroke-opacity: 1; stroke-width: 1px;\"/><path class=\"ygrid crisp\" transform=\"translate(0,248.758)\" d=\"M80,0h740\" style=\"stroke: rgb(255, 255, 255); stroke-opacity: 1; stroke-width: 1px;\"/><path class=\"ygrid crisp\" transform=\"translate(0,220.768)\" d=\"M80,0h740\" style=\"stroke: rgb(255, 255, 255); stroke-opacity: 1; stroke-width: 1px;\"/><path class=\"ygrid crisp\" transform=\"translate(0,192.788)\" d=\"M80,0h740\" style=\"stroke: rgb(255, 255, 255); stroke-opacity: 1; stroke-width: 1px;\"/><path class=\"ygrid crisp\" transform=\"translate(0,155.798)\" d=\"M80,0h740\" style=\"stroke: rgb(255, 255, 255); stroke-opacity: 1; stroke-width: 1px;\"/></g></g><g class=\"zerolinelayer\"/><path class=\"xlines-below\"/><path class=\"ylines-below\"/><g class=\"overlines-below\"/><g class=\"xaxislayer-below\"/><g class=\"yaxislayer-below\"/><g class=\"overaxes-below\"/><g class=\"plot\" transform=\"translate(80,153.888)\" clip-path=\"url(#clipadfc8dxyplot)\"><g class=\"barlayer mlayer\"><g class=\"trace bars\" shape-rendering=\"crispEdges\" style=\"opacity: 1;\"><g class=\"points\"><g class=\"point\"><path d=\"M29.51,2794.18V13.31H44.79V2794.18Z\" style=\"vector-effect: non-scaling-stroke; opacity: 1; stroke-width: 0px; fill: rgb(99, 110, 250); fill-opacity: 1;\"/></g><g class=\"point\"><path d=\"M44.79,2794.18V99.12H60.08V2794.18Z\" style=\"vector-effect: non-scaling-stroke; opacity: 1; stroke-width: 0px; fill: rgb(99, 110, 250); fill-opacity: 1;\"/></g><g class=\"point\"><path d=\"M60.08,2794.18V149.25H75.36V2794.18Z\" style=\"vector-effect: non-scaling-stroke; opacity: 1; stroke-width: 0px; fill: rgb(99, 110, 250); fill-opacity: 1;\"/></g><g class=\"point\"><path d=\"M75.36,2794.18V164.1H90.65V2794.18Z\" style=\"vector-effect: non-scaling-stroke; opacity: 1; stroke-width: 0px; fill: rgb(99, 110, 250); fill-opacity: 1;\"/></g><g class=\"point\"><path d=\"M90.65,2794.18V196.84H105.93V2794.18Z\" style=\"vector-effect: non-scaling-stroke; opacity: 1; stroke-width: 0px; fill: rgb(99, 110, 250); fill-opacity: 1;\"/></g><g class=\"point\"><path d=\"M105.93,2794.18V180.47H121.22V2794.18Z\" style=\"vector-effect: non-scaling-stroke; opacity: 1; stroke-width: 0px; fill: rgb(99, 110, 250); fill-opacity: 1;\"/></g><g class=\"point\"><path d=\"M121.22,2794.18V224.82H136.5V2794.18Z\" style=\"vector-effect: non-scaling-stroke; opacity: 1; stroke-width: 0px; fill: rgb(99, 110, 250); fill-opacity: 1;\"/></g><g class=\"point\"><path d=\"M136.5,2794.18V252.81H151.79V2794.18Z\" style=\"vector-effect: non-scaling-stroke; opacity: 1; stroke-width: 0px; fill: rgb(99, 110, 250); fill-opacity: 1;\"/></g><g class=\"point\"><path d=\"M151.79,2794.18V208.45H167.07V2794.18Z\" style=\"vector-effect: non-scaling-stroke; opacity: 1; stroke-width: 0px; fill: rgb(99, 110, 250); fill-opacity: 1;\"/></g><g class=\"point\"><path d=\"M0,0Z\" style=\"vector-effect: non-scaling-stroke; opacity: 1; stroke-width: 0px; fill: rgb(99, 110, 250); fill-opacity: 1;\"/></g><g class=\"point\"><path d=\"M182.36,2794.18V252.81H197.64V2794.18Z\" style=\"vector-effect: non-scaling-stroke; opacity: 1; stroke-width: 0px; fill: rgb(99, 110, 250); fill-opacity: 1;\"/></g><g class=\"point\"><path d=\"M0,0Z\" style=\"vector-effect: non-scaling-stroke; opacity: 1; stroke-width: 0px; fill: rgb(99, 110, 250); fill-opacity: 1;\"/></g><g class=\"point\"><path d=\"M0,0Z\" style=\"vector-effect: non-scaling-stroke; opacity: 1; stroke-width: 0px; fill: rgb(99, 110, 250); fill-opacity: 1;\"/></g><g class=\"point\"><path d=\"M0,0Z\" style=\"vector-effect: non-scaling-stroke; opacity: 1; stroke-width: 0px; fill: rgb(99, 110, 250); fill-opacity: 1;\"/></g><g class=\"point\"><path d=\"M0,0Z\" style=\"vector-effect: non-scaling-stroke; opacity: 1; stroke-width: 0px; fill: rgb(99, 110, 250); fill-opacity: 1;\"/></g><g class=\"point\"><path d=\"M258.78,2794.18V252.81H274.06V2794.18Z\" style=\"vector-effect: non-scaling-stroke; opacity: 1; stroke-width: 0px; fill: rgb(99, 110, 250); fill-opacity: 1;\"/></g><g class=\"point\"><path d=\"M0,0Z\" style=\"vector-effect: non-scaling-stroke; opacity: 1; stroke-width: 0px; fill: rgb(99, 110, 250); fill-opacity: 1;\"/></g><g class=\"point\"><path d=\"M289.35,2794.18V252.81H304.63V2794.18Z\" style=\"vector-effect: non-scaling-stroke; opacity: 1; stroke-width: 0px; fill: rgb(99, 110, 250); fill-opacity: 1;\"/></g><g class=\"point\"><path d=\"M0,0Z\" style=\"vector-effect: non-scaling-stroke; opacity: 1; stroke-width: 0px; fill: rgb(99, 110, 250); fill-opacity: 1;\"/></g><g class=\"point\"><path d=\"M0,0Z\" style=\"vector-effect: non-scaling-stroke; opacity: 1; stroke-width: 0px; fill: rgb(99, 110, 250); fill-opacity: 1;\"/></g><g class=\"point\"><path d=\"M335.2,2794.18V252.81H350.49V2794.18Z\" style=\"vector-effect: non-scaling-stroke; opacity: 1; stroke-width: 0px; fill: rgb(99, 110, 250); fill-opacity: 1;\"/></g><g class=\"point\"><path d=\"M0,0Z\" style=\"vector-effect: non-scaling-stroke; opacity: 1; stroke-width: 0px; fill: rgb(99, 110, 250); fill-opacity: 1;\"/></g><g class=\"point\"><path d=\"M0,0Z\" style=\"vector-effect: non-scaling-stroke; opacity: 1; stroke-width: 0px; fill: rgb(99, 110, 250); fill-opacity: 1;\"/></g><g class=\"point\"><path d=\"M0,0Z\" style=\"vector-effect: non-scaling-stroke; opacity: 1; stroke-width: 0px; fill: rgb(99, 110, 250); fill-opacity: 1;\"/></g><g class=\"point\"><path d=\"M0,0Z\" style=\"vector-effect: non-scaling-stroke; opacity: 1; stroke-width: 0px; fill: rgb(99, 110, 250); fill-opacity: 1;\"/></g><g class=\"point\"><path d=\"M0,0Z\" style=\"vector-effect: non-scaling-stroke; opacity: 1; stroke-width: 0px; fill: rgb(99, 110, 250); fill-opacity: 1;\"/></g><g class=\"point\"><path d=\"M426.91,2794.18V252.81H442.19V2794.18Z\" style=\"vector-effect: non-scaling-stroke; opacity: 1; stroke-width: 0px; fill: rgb(99, 110, 250); fill-opacity: 1;\"/></g><g class=\"point\"><path d=\"M0,0Z\" style=\"vector-effect: non-scaling-stroke; opacity: 1; stroke-width: 0px; fill: rgb(99, 110, 250); fill-opacity: 1;\"/></g><g class=\"point\"><path d=\"M457.48,2794.18V252.81H472.76V2794.18Z\" style=\"vector-effect: non-scaling-stroke; opacity: 1; stroke-width: 0px; fill: rgb(99, 110, 250); fill-opacity: 1;\"/></g><g class=\"point\"><path d=\"M0,0Z\" style=\"vector-effect: non-scaling-stroke; opacity: 1; stroke-width: 0px; fill: rgb(99, 110, 250); fill-opacity: 1;\"/></g><g class=\"point\"><path d=\"M0,0Z\" style=\"vector-effect: non-scaling-stroke; opacity: 1; stroke-width: 0px; fill: rgb(99, 110, 250); fill-opacity: 1;\"/></g><g class=\"point\"><path d=\"M0,0Z\" style=\"vector-effect: non-scaling-stroke; opacity: 1; stroke-width: 0px; fill: rgb(99, 110, 250); fill-opacity: 1;\"/></g><g class=\"point\"><path d=\"M0,0Z\" style=\"vector-effect: non-scaling-stroke; opacity: 1; stroke-width: 0px; fill: rgb(99, 110, 250); fill-opacity: 1;\"/></g><g class=\"point\"><path d=\"M0,0Z\" style=\"vector-effect: non-scaling-stroke; opacity: 1; stroke-width: 0px; fill: rgb(99, 110, 250); fill-opacity: 1;\"/></g><g class=\"point\"><path d=\"M0,0Z\" style=\"vector-effect: non-scaling-stroke; opacity: 1; stroke-width: 0px; fill: rgb(99, 110, 250); fill-opacity: 1;\"/></g><g class=\"point\"><path d=\"M0,0Z\" style=\"vector-effect: non-scaling-stroke; opacity: 1; stroke-width: 0px; fill: rgb(99, 110, 250); fill-opacity: 1;\"/></g><g class=\"point\"><path d=\"M0,0Z\" style=\"vector-effect: non-scaling-stroke; opacity: 1; stroke-width: 0px; fill: rgb(99, 110, 250); fill-opacity: 1;\"/></g><g class=\"point\"><path d=\"M0,0Z\" style=\"vector-effect: non-scaling-stroke; opacity: 1; stroke-width: 0px; fill: rgb(99, 110, 250); fill-opacity: 1;\"/></g><g class=\"point\"><path d=\"M0,0Z\" style=\"vector-effect: non-scaling-stroke; opacity: 1; stroke-width: 0px; fill: rgb(99, 110, 250); fill-opacity: 1;\"/></g><g class=\"point\"><path d=\"M0,0Z\" style=\"vector-effect: non-scaling-stroke; opacity: 1; stroke-width: 0px; fill: rgb(99, 110, 250); fill-opacity: 1;\"/></g><g class=\"point\"><path d=\"M0,0Z\" style=\"vector-effect: non-scaling-stroke; opacity: 1; stroke-width: 0px; fill: rgb(99, 110, 250); fill-opacity: 1;\"/></g><g class=\"point\"><path d=\"M0,0Z\" style=\"vector-effect: non-scaling-stroke; opacity: 1; stroke-width: 0px; fill: rgb(99, 110, 250); fill-opacity: 1;\"/></g><g class=\"point\"><path d=\"M0,0Z\" style=\"vector-effect: non-scaling-stroke; opacity: 1; stroke-width: 0px; fill: rgb(99, 110, 250); fill-opacity: 1;\"/></g><g class=\"point\"><path d=\"M0,0Z\" style=\"vector-effect: non-scaling-stroke; opacity: 1; stroke-width: 0px; fill: rgb(99, 110, 250); fill-opacity: 1;\"/></g><g class=\"point\"><path d=\"M702.03,2794.18V252.81H717.32V2794.18Z\" style=\"vector-effect: non-scaling-stroke; opacity: 1; stroke-width: 0px; fill: rgb(99, 110, 250); fill-opacity: 1;\"/></g></g></g></g></g><g class=\"overplot\"/><path class=\"xlines-above crisp\" d=\"M0,0\" style=\"fill: none;\"/><path class=\"ylines-above crisp\" d=\"M0,0\" style=\"fill: none;\"/><g class=\"overlines-above\"/><g class=\"xaxislayer-above\"><g class=\"xtick\"><text text-anchor=\"middle\" x=\"0\" y=\"433\" transform=\"translate(117.15,0)\" style=\"font-family: 'Open Sans', verdana, arial, sans-serif; font-size: 12px; fill: rgb(42, 63, 95); fill-opacity: 1; white-space: pre; opacity: 1;\">0</text></g><g class=\"xtick\"><text text-anchor=\"middle\" x=\"0\" y=\"433\" style=\"font-family: 'Open Sans', verdana, arial, sans-serif; font-size: 12px; fill: rgb(42, 63, 95); fill-opacity: 1; white-space: pre; opacity: 1;\" transform=\"translate(270,0)\">500</text></g><g class=\"xtick\"><text text-anchor=\"middle\" x=\"0\" y=\"433\" style=\"font-family: 'Open Sans', verdana, arial, sans-serif; font-size: 12px; fill: rgb(42, 63, 95); fill-opacity: 1; white-space: pre; opacity: 1;\" transform=\"translate(422.84,0)\">1000</text></g><g class=\"xtick\"><text text-anchor=\"middle\" x=\"0\" y=\"433\" style=\"font-family: 'Open Sans', verdana, arial, sans-serif; font-size: 12px; fill: rgb(42, 63, 95); fill-opacity: 1; white-space: pre; opacity: 1;\" transform=\"translate(575.69,0)\">1500</text></g><g class=\"xtick\"><text text-anchor=\"middle\" x=\"0\" y=\"433\" style=\"font-family: 'Open Sans', verdana, arial, sans-serif; font-size: 12px; fill: rgb(42, 63, 95); fill-opacity: 1; white-space: pre; opacity: 1;\" transform=\"translate(728.54,0)\">2000</text></g></g><g class=\"yaxislayer-above\"><g class=\"ytick\"><text text-anchor=\"end\" x=\"79\" y=\"4.199999999999999\" transform=\"translate(0,406.698)\" style=\"font-family: 'Open Sans', verdana, arial, sans-serif; font-size: 12px; fill: rgb(42, 63, 95); fill-opacity: 1; white-space: pre; opacity: 1;\">1</text></g><g class=\"ytick\"><text text-anchor=\"end\" x=\"79\" y=\"3.15\" style=\"font-family: 'Open Sans', verdana, arial, sans-serif; font-size: 9px; fill: rgb(42, 63, 95); fill-opacity: 1; white-space: pre; opacity: 1;\" transform=\"translate(0,378.70799999999997)\">2</text></g><g class=\"ytick\"><text text-anchor=\"end\" x=\"79\" y=\"3.15\" style=\"font-family: 'Open Sans', verdana, arial, sans-serif; font-size: 9px; fill: rgb(42, 63, 95); fill-opacity: 1; white-space: pre; opacity: 1;\" transform=\"translate(0,341.718)\">5</text></g><g class=\"ytick\"><text text-anchor=\"end\" x=\"79\" y=\"4.199999999999999\" style=\"font-family: 'Open Sans', verdana, arial, sans-serif; font-size: 12px; fill: rgb(42, 63, 95); fill-opacity: 1; white-space: pre; opacity: 1;\" transform=\"translate(0,313.728)\">10</text></g><g class=\"ytick\"><text text-anchor=\"end\" x=\"79\" y=\"3.15\" style=\"font-family: 'Open Sans', verdana, arial, sans-serif; font-size: 9px; fill: rgb(42, 63, 95); fill-opacity: 1; white-space: pre; opacity: 1;\" transform=\"translate(0,285.74800000000005)\">2</text></g><g class=\"ytick\"><text text-anchor=\"end\" x=\"79\" y=\"3.15\" style=\"font-family: 'Open Sans', verdana, arial, sans-serif; font-size: 9px; fill: rgb(42, 63, 95); fill-opacity: 1; white-space: pre; opacity: 1;\" transform=\"translate(0,248.758)\">5</text></g><g class=\"ytick\"><text text-anchor=\"end\" x=\"79\" y=\"4.199999999999999\" style=\"font-family: 'Open Sans', verdana, arial, sans-serif; font-size: 12px; fill: rgb(42, 63, 95); fill-opacity: 1; white-space: pre; opacity: 1;\" transform=\"translate(0,220.768)\">100</text></g><g class=\"ytick\"><text text-anchor=\"end\" x=\"79\" y=\"3.15\" style=\"font-family: 'Open Sans', verdana, arial, sans-serif; font-size: 9px; fill: rgb(42, 63, 95); fill-opacity: 1; white-space: pre; opacity: 1;\" transform=\"translate(0,192.788)\">2</text></g><g class=\"ytick\"><text text-anchor=\"end\" x=\"79\" y=\"3.15\" style=\"font-family: 'Open Sans', verdana, arial, sans-serif; font-size: 9px; fill: rgb(42, 63, 95); fill-opacity: 1; white-space: pre; opacity: 1;\" transform=\"translate(0,155.798)\">5</text></g></g><g class=\"overaxes-above\"/></g><g class=\"subplot x2y2\"><g class=\"layer-subplot\"><g class=\"shapelayer\"/><g class=\"imagelayer\"/></g><g class=\"minor-gridlayer\"><g class=\"x2\"/><g class=\"y2\"/></g><g class=\"gridlayer\"><g class=\"x2\"><path class=\"x2grid crisp\" transform=\"translate(270,0)\" d=\"M0,100v50.687999999999995\" style=\"stroke: rgb(255, 255, 255); stroke-opacity: 1; stroke-width: 1px;\"/><path class=\"x2grid crisp\" transform=\"translate(422.84,0)\" d=\"M0,100v50.687999999999995\" style=\"stroke: rgb(255, 255, 255); stroke-opacity: 1; stroke-width: 1px;\"/><path class=\"x2grid crisp\" transform=\"translate(575.69,0)\" d=\"M0,100v50.687999999999995\" style=\"stroke: rgb(255, 255, 255); stroke-opacity: 1; stroke-width: 1px;\"/><path class=\"x2grid crisp\" transform=\"translate(728.54,0)\" d=\"M0,100v50.687999999999995\" style=\"stroke: rgb(255, 255, 255); stroke-opacity: 1; stroke-width: 1px;\"/></g><g class=\"y2\"/></g><g class=\"zerolinelayer\"><path class=\"x2zl zl crisp\" transform=\"translate(117.15,0)\" d=\"M0,100v50.687999999999995\" style=\"stroke: rgb(255, 255, 255); stroke-opacity: 1; stroke-width: 2px;\"/></g><path class=\"xlines-below\"/><path class=\"ylines-below\"/><g class=\"overlines-below\"/><g class=\"xaxislayer-below\"/><g class=\"yaxislayer-below\"/><g class=\"overaxes-below\"/><g class=\"plot\" transform=\"translate(80,100)\" clip-path=\"url(#clipadfc8dx2y2plot)\"><g class=\"boxlayer mlayer\"><g class=\"trace boxes\" style=\"opacity: 1;\"><path class=\"box\" d=\"M38.15,31.55V19.13M37.15,37.76V12.93H37L38.15,19.13L37.75,12.93H42.3V37.76H37.75L38.15,31.55L37,37.76ZM37.15,25.34H37.15M42.3,25.34H50.02M37.15,31.55V19.13M50.02,31.55V19.13\" style=\"vector-effect: non-scaling-stroke; stroke-width: 2px; stroke: rgb(99, 110, 250); stroke-opacity: 1; fill: rgb(99, 110, 250); fill-opacity: 0.5;\"/><g class=\"points\"><path class=\"point\" transform=\"translate(50.61,25.34)\" d=\"M3,0A3,3 0 1,1 0,-3A3,3 0 0,1 3,0Z\" style=\"opacity: 1; stroke-width: 0px; fill: rgb(99, 110, 250); fill-opacity: 1;\"/><path class=\"point\" transform=\"translate(50.69,25.34)\" d=\"M3,0A3,3 0 1,1 0,-3A3,3 0 0,1 3,0Z\" style=\"opacity: 1; stroke-width: 0px; fill: rgb(99, 110, 250); fill-opacity: 1;\"/><path class=\"point\" transform=\"translate(50.81,25.34)\" d=\"M3,0A3,3 0 1,1 0,-3A3,3 0 0,1 3,0Z\" style=\"opacity: 1; stroke-width: 0px; fill: rgb(99, 110, 250); fill-opacity: 1;\"/><path class=\"point\" transform=\"translate(51.11,25.34)\" d=\"M3,0A3,3 0 1,1 0,-3A3,3 0 0,1 3,0Z\" style=\"opacity: 1; stroke-width: 0px; fill: rgb(99, 110, 250); fill-opacity: 1;\"/><path class=\"point\" transform=\"translate(51.74,25.34)\" d=\"M3,0A3,3 0 1,1 0,-3A3,3 0 0,1 3,0Z\" style=\"opacity: 1; stroke-width: 0px; fill: rgb(99, 110, 250); fill-opacity: 1;\"/><path class=\"point\" transform=\"translate(51.93,25.34)\" d=\"M3,0A3,3 0 1,1 0,-3A3,3 0 0,1 3,0Z\" style=\"opacity: 1; stroke-width: 0px; fill: rgb(99, 110, 250); fill-opacity: 1;\"/><path class=\"point\" transform=\"translate(52.06,25.34)\" d=\"M3,0A3,3 0 1,1 0,-3A3,3 0 0,1 3,0Z\" style=\"opacity: 1; stroke-width: 0px; fill: rgb(99, 110, 250); fill-opacity: 1;\"/><path class=\"point\" transform=\"translate(52.74,25.34)\" d=\"M3,0A3,3 0 1,1 0,-3A3,3 0 0,1 3,0Z\" style=\"opacity: 1; stroke-width: 0px; fill: rgb(99, 110, 250); fill-opacity: 1;\"/><path class=\"point\" transform=\"translate(52.95,25.34)\" d=\"M3,0A3,3 0 1,1 0,-3A3,3 0 0,1 3,0Z\" style=\"opacity: 1; stroke-width: 0px; fill: rgb(99, 110, 250); fill-opacity: 1;\"/><path class=\"point\" transform=\"translate(52.95,25.34)\" d=\"M3,0A3,3 0 1,1 0,-3A3,3 0 0,1 3,0Z\" style=\"opacity: 1; stroke-width: 0px; fill: rgb(99, 110, 250); fill-opacity: 1;\"/><path class=\"point\" transform=\"translate(54.01,25.34)\" d=\"M3,0A3,3 0 1,1 0,-3A3,3 0 0,1 3,0Z\" style=\"opacity: 1; stroke-width: 0px; fill: rgb(99, 110, 250); fill-opacity: 1;\"/><path class=\"point\" transform=\"translate(54.74,25.34)\" d=\"M3,0A3,3 0 1,1 0,-3A3,3 0 0,1 3,0Z\" style=\"opacity: 1; stroke-width: 0px; fill: rgb(99, 110, 250); fill-opacity: 1;\"/><path class=\"point\" transform=\"translate(54.83,25.34)\" d=\"M3,0A3,3 0 1,1 0,-3A3,3 0 0,1 3,0Z\" style=\"opacity: 1; stroke-width: 0px; fill: rgb(99, 110, 250); fill-opacity: 1;\"/><path class=\"point\" transform=\"translate(57.49,25.34)\" d=\"M3,0A3,3 0 1,1 0,-3A3,3 0 0,1 3,0Z\" style=\"opacity: 1; stroke-width: 0px; fill: rgb(99, 110, 250); fill-opacity: 1;\"/><path class=\"point\" transform=\"translate(57.53,25.34)\" d=\"M3,0A3,3 0 1,1 0,-3A3,3 0 0,1 3,0Z\" style=\"opacity: 1; stroke-width: 0px; fill: rgb(99, 110, 250); fill-opacity: 1;\"/><path class=\"point\" transform=\"translate(57.72,25.34)\" d=\"M3,0A3,3 0 1,1 0,-3A3,3 0 0,1 3,0Z\" style=\"opacity: 1; stroke-width: 0px; fill: rgb(99, 110, 250); fill-opacity: 1;\"/><path class=\"point\" transform=\"translate(58.02,25.34)\" d=\"M3,0A3,3 0 1,1 0,-3A3,3 0 0,1 3,0Z\" style=\"opacity: 1; stroke-width: 0px; fill: rgb(99, 110, 250); fill-opacity: 1;\"/><path class=\"point\" transform=\"translate(58.3,25.34)\" d=\"M3,0A3,3 0 1,1 0,-3A3,3 0 0,1 3,0Z\" style=\"opacity: 1; stroke-width: 0px; fill: rgb(99, 110, 250); fill-opacity: 1;\"/><path class=\"point\" transform=\"translate(58.32,25.34)\" d=\"M3,0A3,3 0 1,1 0,-3A3,3 0 0,1 3,0Z\" style=\"opacity: 1; stroke-width: 0px; fill: rgb(99, 110, 250); fill-opacity: 1;\"/><path class=\"point\" transform=\"translate(58.57,25.34)\" d=\"M3,0A3,3 0 1,1 0,-3A3,3 0 0,1 3,0Z\" style=\"opacity: 1; stroke-width: 0px; fill: rgb(99, 110, 250); fill-opacity: 1;\"/><path class=\"point\" transform=\"translate(59.04,25.34)\" d=\"M3,0A3,3 0 1,1 0,-3A3,3 0 0,1 3,0Z\" style=\"opacity: 1; stroke-width: 0px; fill: rgb(99, 110, 250); fill-opacity: 1;\"/><path class=\"point\" transform=\"translate(59.05,25.34)\" d=\"M3,0A3,3 0 1,1 0,-3A3,3 0 0,1 3,0Z\" style=\"opacity: 1; stroke-width: 0px; fill: rgb(99, 110, 250); fill-opacity: 1;\"/><path class=\"point\" transform=\"translate(59.09,25.34)\" d=\"M3,0A3,3 0 1,1 0,-3A3,3 0 0,1 3,0Z\" style=\"opacity: 1; stroke-width: 0px; fill: rgb(99, 110, 250); fill-opacity: 1;\"/><path class=\"point\" transform=\"translate(59.36,25.34)\" d=\"M3,0A3,3 0 1,1 0,-3A3,3 0 0,1 3,0Z\" style=\"opacity: 1; stroke-width: 0px; fill: rgb(99, 110, 250); fill-opacity: 1;\"/><path class=\"point\" transform=\"translate(59.55,25.34)\" d=\"M3,0A3,3 0 1,1 0,-3A3,3 0 0,1 3,0Z\" style=\"opacity: 1; stroke-width: 0px; fill: rgb(99, 110, 250); fill-opacity: 1;\"/><path class=\"point\" transform=\"translate(59.77,25.34)\" d=\"M3,0A3,3 0 1,1 0,-3A3,3 0 0,1 3,0Z\" style=\"opacity: 1; stroke-width: 0px; fill: rgb(99, 110, 250); fill-opacity: 1;\"/><path class=\"point\" transform=\"translate(60.31,25.34)\" d=\"M3,0A3,3 0 1,1 0,-3A3,3 0 0,1 3,0Z\" style=\"opacity: 1; stroke-width: 0px; fill: rgb(99, 110, 250); fill-opacity: 1;\"/><path class=\"point\" transform=\"translate(63.05,25.34)\" d=\"M3,0A3,3 0 1,1 0,-3A3,3 0 0,1 3,0Z\" style=\"opacity: 1; stroke-width: 0px; fill: rgb(99, 110, 250); fill-opacity: 1;\"/><path class=\"point\" transform=\"translate(64.15,25.34)\" d=\"M3,0A3,3 0 1,1 0,-3A3,3 0 0,1 3,0Z\" style=\"opacity: 1; stroke-width: 0px; fill: rgb(99, 110, 250); fill-opacity: 1;\"/><path class=\"point\" transform=\"translate(64.7,25.34)\" d=\"M3,0A3,3 0 1,1 0,-3A3,3 0 0,1 3,0Z\" style=\"opacity: 1; stroke-width: 0px; fill: rgb(99, 110, 250); fill-opacity: 1;\"/><path class=\"point\" transform=\"translate(65.53,25.34)\" d=\"M3,0A3,3 0 1,1 0,-3A3,3 0 0,1 3,0Z\" style=\"opacity: 1; stroke-width: 0px; fill: rgb(99, 110, 250); fill-opacity: 1;\"/><path class=\"point\" transform=\"translate(65.68,25.34)\" d=\"M3,0A3,3 0 1,1 0,-3A3,3 0 0,1 3,0Z\" style=\"opacity: 1; stroke-width: 0px; fill: rgb(99, 110, 250); fill-opacity: 1;\"/><path class=\"point\" transform=\"translate(66.83,25.34)\" d=\"M3,0A3,3 0 1,1 0,-3A3,3 0 0,1 3,0Z\" style=\"opacity: 1; stroke-width: 0px; fill: rgb(99, 110, 250); fill-opacity: 1;\"/><path class=\"point\" transform=\"translate(66.94,25.34)\" d=\"M3,0A3,3 0 1,1 0,-3A3,3 0 0,1 3,0Z\" style=\"opacity: 1; stroke-width: 0px; fill: rgb(99, 110, 250); fill-opacity: 1;\"/><path class=\"point\" transform=\"translate(66.96,25.34)\" d=\"M3,0A3,3 0 1,1 0,-3A3,3 0 0,1 3,0Z\" style=\"opacity: 1; stroke-width: 0px; fill: rgb(99, 110, 250); fill-opacity: 1;\"/><path class=\"point\" transform=\"translate(67.14,25.34)\" d=\"M3,0A3,3 0 1,1 0,-3A3,3 0 0,1 3,0Z\" style=\"opacity: 1; stroke-width: 0px; fill: rgb(99, 110, 250); fill-opacity: 1;\"/><path class=\"point\" transform=\"translate(67.19,25.34)\" d=\"M3,0A3,3 0 1,1 0,-3A3,3 0 0,1 3,0Z\" style=\"opacity: 1; stroke-width: 0px; fill: rgb(99, 110, 250); fill-opacity: 1;\"/><path class=\"point\" transform=\"translate(67.9,25.34)\" d=\"M3,0A3,3 0 1,1 0,-3A3,3 0 0,1 3,0Z\" style=\"opacity: 1; stroke-width: 0px; fill: rgb(99, 110, 250); fill-opacity: 1;\"/><path class=\"point\" transform=\"translate(74.52,25.34)\" d=\"M3,0A3,3 0 1,1 0,-3A3,3 0 0,1 3,0Z\" style=\"opacity: 1; stroke-width: 0px; fill: rgb(99, 110, 250); fill-opacity: 1;\"/><path class=\"point\" transform=\"translate(75.45,25.34)\" d=\"M3,0A3,3 0 1,1 0,-3A3,3 0 0,1 3,0Z\" style=\"opacity: 1; stroke-width: 0px; fill: rgb(99, 110, 250); fill-opacity: 1;\"/><path class=\"point\" transform=\"translate(76.33,25.34)\" d=\"M3,0A3,3 0 1,1 0,-3A3,3 0 0,1 3,0Z\" style=\"opacity: 1; stroke-width: 0px; fill: rgb(99, 110, 250); fill-opacity: 1;\"/><path class=\"point\" transform=\"translate(76.73,25.34)\" d=\"M3,0A3,3 0 1,1 0,-3A3,3 0 0,1 3,0Z\" style=\"opacity: 1; stroke-width: 0px; fill: rgb(99, 110, 250); fill-opacity: 1;\"/><path class=\"point\" transform=\"translate(80.85,25.34)\" d=\"M3,0A3,3 0 1,1 0,-3A3,3 0 0,1 3,0Z\" style=\"opacity: 1; stroke-width: 0px; fill: rgb(99, 110, 250); fill-opacity: 1;\"/><path class=\"point\" transform=\"translate(81.11,25.34)\" d=\"M3,0A3,3 0 1,1 0,-3A3,3 0 0,1 3,0Z\" style=\"opacity: 1; stroke-width: 0px; fill: rgb(99, 110, 250); fill-opacity: 1;\"/><path class=\"point\" transform=\"translate(81.45,25.34)\" d=\"M3,0A3,3 0 1,1 0,-3A3,3 0 0,1 3,0Z\" style=\"opacity: 1; stroke-width: 0px; fill: rgb(99, 110, 250); fill-opacity: 1;\"/><path class=\"point\" transform=\"translate(83.87,25.34)\" d=\"M3,0A3,3 0 1,1 0,-3A3,3 0 0,1 3,0Z\" style=\"opacity: 1; stroke-width: 0px; fill: rgb(99, 110, 250); fill-opacity: 1;\"/><path class=\"point\" transform=\"translate(84.7,25.34)\" d=\"M3,0A3,3 0 1,1 0,-3A3,3 0 0,1 3,0Z\" style=\"opacity: 1; stroke-width: 0px; fill: rgb(99, 110, 250); fill-opacity: 1;\"/><path class=\"point\" transform=\"translate(89.04,25.34)\" d=\"M3,0A3,3 0 1,1 0,-3A3,3 0 0,1 3,0Z\" style=\"opacity: 1; stroke-width: 0px; fill: rgb(99, 110, 250); fill-opacity: 1;\"/><path class=\"point\" transform=\"translate(95.23,25.34)\" d=\"M3,0A3,3 0 1,1 0,-3A3,3 0 0,1 3,0Z\" style=\"opacity: 1; stroke-width: 0px; fill: rgb(99, 110, 250); fill-opacity: 1;\"/><path class=\"point\" transform=\"translate(102.64,25.34)\" d=\"M3,0A3,3 0 1,1 0,-3A3,3 0 0,1 3,0Z\" style=\"opacity: 1; stroke-width: 0px; fill: rgb(99, 110, 250); fill-opacity: 1;\"/><path class=\"point\" transform=\"translate(103.63,25.34)\" d=\"M3,0A3,3 0 1,1 0,-3A3,3 0 0,1 3,0Z\" style=\"opacity: 1; stroke-width: 0px; fill: rgb(99, 110, 250); fill-opacity: 1;\"/><path class=\"point\" transform=\"translate(103.68,25.34)\" d=\"M3,0A3,3 0 1,1 0,-3A3,3 0 0,1 3,0Z\" style=\"opacity: 1; stroke-width: 0px; fill: rgb(99, 110, 250); fill-opacity: 1;\"/><path class=\"point\" transform=\"translate(108.49,25.34)\" d=\"M3,0A3,3 0 1,1 0,-3A3,3 0 0,1 3,0Z\" style=\"opacity: 1; stroke-width: 0px; fill: rgb(99, 110, 250); fill-opacity: 1;\"/><path class=\"point\" transform=\"translate(109.87,25.34)\" d=\"M3,0A3,3 0 1,1 0,-3A3,3 0 0,1 3,0Z\" style=\"opacity: 1; stroke-width: 0px; fill: rgb(99, 110, 250); fill-opacity: 1;\"/><path class=\"point\" transform=\"translate(111.53,25.34)\" d=\"M3,0A3,3 0 1,1 0,-3A3,3 0 0,1 3,0Z\" style=\"opacity: 1; stroke-width: 0px; fill: rgb(99, 110, 250); fill-opacity: 1;\"/><path class=\"point\" transform=\"translate(115.92,25.34)\" d=\"M3,0A3,3 0 1,1 0,-3A3,3 0 0,1 3,0Z\" style=\"opacity: 1; stroke-width: 0px; fill: rgb(99, 110, 250); fill-opacity: 1;\"/><path class=\"point\" transform=\"translate(117.97,25.34)\" d=\"M3,0A3,3 0 1,1 0,-3A3,3 0 0,1 3,0Z\" style=\"opacity: 1; stroke-width: 0px; fill: rgb(99, 110, 250); fill-opacity: 1;\"/><path class=\"point\" transform=\"translate(121.13,25.34)\" d=\"M3,0A3,3 0 1,1 0,-3A3,3 0 0,1 3,0Z\" style=\"opacity: 1; stroke-width: 0px; fill: rgb(99, 110, 250); fill-opacity: 1;\"/><path class=\"point\" transform=\"translate(126.89,25.34)\" d=\"M3,0A3,3 0 1,1 0,-3A3,3 0 0,1 3,0Z\" style=\"opacity: 1; stroke-width: 0px; fill: rgb(99, 110, 250); fill-opacity: 1;\"/><path class=\"point\" transform=\"translate(133.83,25.34)\" d=\"M3,0A3,3 0 1,1 0,-3A3,3 0 0,1 3,0Z\" style=\"opacity: 1; stroke-width: 0px; fill: rgb(99, 110, 250); fill-opacity: 1;\"/><path class=\"point\" transform=\"translate(148.87,25.34)\" d=\"M3,0A3,3 0 1,1 0,-3A3,3 0 0,1 3,0Z\" style=\"opacity: 1; stroke-width: 0px; fill: rgb(99, 110, 250); fill-opacity: 1;\"/><path class=\"point\" transform=\"translate(156.72,25.34)\" d=\"M3,0A3,3 0 1,1 0,-3A3,3 0 0,1 3,0Z\" style=\"opacity: 1; stroke-width: 0px; fill: rgb(99, 110, 250); fill-opacity: 1;\"/><path class=\"point\" transform=\"translate(156.92,25.34)\" d=\"M3,0A3,3 0 1,1 0,-3A3,3 0 0,1 3,0Z\" style=\"opacity: 1; stroke-width: 0px; fill: rgb(99, 110, 250); fill-opacity: 1;\"/><path class=\"point\" transform=\"translate(160.55,25.34)\" d=\"M3,0A3,3 0 1,1 0,-3A3,3 0 0,1 3,0Z\" style=\"opacity: 1; stroke-width: 0px; fill: rgb(99, 110, 250); fill-opacity: 1;\"/><path class=\"point\" transform=\"translate(189.62,25.34)\" d=\"M3,0A3,3 0 1,1 0,-3A3,3 0 0,1 3,0Z\" style=\"opacity: 1; stroke-width: 0px; fill: rgb(99, 110, 250); fill-opacity: 1;\"/><path class=\"point\" transform=\"translate(268.68,25.34)\" d=\"M3,0A3,3 0 1,1 0,-3A3,3 0 0,1 3,0Z\" style=\"opacity: 1; stroke-width: 0px; fill: rgb(99, 110, 250); fill-opacity: 1;\"/><path class=\"point\" transform=\"translate(294.86,25.34)\" d=\"M3,0A3,3 0 1,1 0,-3A3,3 0 0,1 3,0Z\" style=\"opacity: 1; stroke-width: 0px; fill: rgb(99, 110, 250); fill-opacity: 1;\"/><path class=\"point\" transform=\"translate(336.68,25.34)\" d=\"M3,0A3,3 0 1,1 0,-3A3,3 0 0,1 3,0Z\" style=\"opacity: 1; stroke-width: 0px; fill: rgb(99, 110, 250); fill-opacity: 1;\"/><path class=\"point\" transform=\"translate(428.23,25.34)\" d=\"M3,0A3,3 0 1,1 0,-3A3,3 0 0,1 3,0Z\" style=\"opacity: 1; stroke-width: 0px; fill: rgb(99, 110, 250); fill-opacity: 1;\"/><path class=\"point\" transform=\"translate(460.19,25.34)\" d=\"M3,0A3,3 0 1,1 0,-3A3,3 0 0,1 3,0Z\" style=\"opacity: 1; stroke-width: 0px; fill: rgb(99, 110, 250); fill-opacity: 1;\"/><path class=\"point\" transform=\"translate(703,25.34)\" d=\"M3,0A3,3 0 1,1 0,-3A3,3 0 0,1 3,0Z\" style=\"opacity: 1; stroke-width: 0px; fill: rgb(99, 110, 250); fill-opacity: 1;\"/></g></g></g></g><g class=\"overplot\"/><path class=\"xlines-above crisp\" d=\"M0,0\" style=\"fill: none;\"/><path class=\"ylines-above crisp\" d=\"M0,0\" style=\"fill: none;\"/><g class=\"overlines-above\"/><g class=\"xaxislayer-above\"/><g class=\"yaxislayer-above\"/><g class=\"overaxes-above\"/></g></g><g class=\"polarlayer\"/><g class=\"smithlayer\"/><g class=\"ternarylayer\"/><g class=\"geolayer\"/><g class=\"funnelarealayer\"/><g class=\"pielayer\"/><g class=\"iciclelayer\"/><g class=\"treemaplayer\"/><g class=\"sunburstlayer\"/><g class=\"glimages\"/><defs id=\"topdefs-adfc8d\"><g class=\"clips\"/></defs><g class=\"layer-above\"><g class=\"imagelayer\"/><g class=\"shapelayer\"/></g><g class=\"infolayer\"><g class=\"g-gtitle\"><text class=\"gtitle\" x=\"45\" y=\"50\" text-anchor=\"start\" dy=\"0em\" style=\"font-family: 'Open Sans', verdana, arial, sans-serif; font-size: 17px; fill: rgb(42, 63, 95); opacity: 1; font-weight: normal; white-space: pre;\">Distribution of resolution time</text></g><g class=\"g-xtitle\"><text class=\"xtitle\" x=\"450\" y=\"460.3\" text-anchor=\"middle\" style=\"font-family: 'Open Sans', verdana, arial, sans-serif; font-size: 14px; fill: rgb(42, 63, 95); opacity: 1; font-weight: normal; white-space: pre;\">resolution_time</text></g><g class=\"g-x2title\"/><g class=\"g-ytitle\"><text class=\"ytitle\" transform=\"rotate(-90,31.309375000000003,286.944)\" x=\"31.309375000000003\" y=\"286.944\" text-anchor=\"middle\" style=\"font-family: 'Open Sans', verdana, arial, sans-serif; font-size: 14px; fill: rgb(42, 63, 95); opacity: 1; font-weight: normal; white-space: pre;\">count</text></g><g class=\"g-y2title\"/></g></svg>"
     },
     "metadata": {},
     "output_type": "display_data"
    }
   ],
   "source": [
    "fig = px.histogram(result[result['resolution_time']<3000], x='resolution_time', log_y=True, marginal='box', title='Distribution of resolution time')\n",
    "fig.show()"
   ]
  },
  {
   "cell_type": "code",
   "execution_count": 26,
   "metadata": {},
   "outputs": [
    {
     "data": {
      "text/html": [
       "<div>\n",
       "<style scoped>\n",
       "    .dataframe tbody tr th:only-of-type {\n",
       "        vertical-align: middle;\n",
       "    }\n",
       "\n",
       "    .dataframe tbody tr th {\n",
       "        vertical-align: top;\n",
       "    }\n",
       "\n",
       "    .dataframe thead th {\n",
       "        text-align: right;\n",
       "    }\n",
       "</style>\n",
       "<table border=\"1\" class=\"dataframe\">\n",
       "  <thead>\n",
       "    <tr style=\"text-align: right;\">\n",
       "      <th></th>\n",
       "      <th>response_time</th>\n",
       "      <th>resolution_time</th>\n",
       "    </tr>\n",
       "  </thead>\n",
       "  <tbody>\n",
       "    <tr>\n",
       "      <th>count</th>\n",
       "      <td>468.000000</td>\n",
       "      <td>468.000000</td>\n",
       "    </tr>\n",
       "    <tr>\n",
       "      <th>mean</th>\n",
       "      <td>11.482594</td>\n",
       "      <td>64.629625</td>\n",
       "    </tr>\n",
       "    <tr>\n",
       "      <th>std</th>\n",
       "      <td>62.884684</td>\n",
       "      <td>573.200856</td>\n",
       "    </tr>\n",
       "    <tr>\n",
       "      <th>min</th>\n",
       "      <td>0.000000</td>\n",
       "      <td>0.000000</td>\n",
       "    </tr>\n",
       "    <tr>\n",
       "      <th>25%</th>\n",
       "      <td>0.000000</td>\n",
       "      <td>0.000000</td>\n",
       "    </tr>\n",
       "    <tr>\n",
       "      <th>50%</th>\n",
       "      <td>0.442778</td>\n",
       "      <td>0.754444</td>\n",
       "    </tr>\n",
       "    <tr>\n",
       "      <th>75%</th>\n",
       "      <td>4.286528</td>\n",
       "      <td>17.082917</td>\n",
       "    </tr>\n",
       "    <tr>\n",
       "      <th>max</th>\n",
       "      <td>1279.305278</td>\n",
       "      <td>11950.471389</td>\n",
       "    </tr>\n",
       "  </tbody>\n",
       "</table>\n",
       "</div>"
      ],
      "text/plain": [
       "       response_time  resolution_time\n",
       "count     468.000000       468.000000\n",
       "mean       11.482594        64.629625\n",
       "std        62.884684       573.200856\n",
       "min         0.000000         0.000000\n",
       "25%         0.000000         0.000000\n",
       "50%         0.442778         0.754444\n",
       "75%         4.286528        17.082917\n",
       "max      1279.305278     11950.471389"
      ]
     },
     "execution_count": 26,
     "metadata": {},
     "output_type": "execute_result"
    }
   ],
   "source": [
    "result.describe()"
   ]
  },
  {
   "cell_type": "markdown",
   "metadata": {},
   "source": [
    "## Query Tweets Topics\n"
   ]
  },
  {
   "cell_type": "code",
   "execution_count": 27,
   "metadata": {},
   "outputs": [
    {
     "data": {
      "text/plain": [
       "(391, 28)"
      ]
     },
     "execution_count": 27,
     "metadata": {},
     "output_type": "execute_result"
    }
   ],
   "source": [
    "queries = df[df['conversation_id'].isin(conversation_ids)]\n",
    "queries.sort_values('date', ascending=True, inplace=True)\n",
    "queries = queries[queries['inReplyToTweetId'] == 'nan']\n",
    "queries.shape\n"
   ]
  },
  {
   "cell_type": "code",
   "execution_count": 32,
   "metadata": {},
   "outputs": [],
   "source": [
    "processor = Processor('./../../data/config.json')\n",
    "queries = processor.preprocess_individual(queries)\n",
    "id2word = gensim.corpora.Dictionary(queries['bigram'].values.tolist())\n",
    "corpus = [id2word.doc2bow(text) for text in queries['bigram'].values.tolist()]\n"
   ]
  },
  {
   "cell_type": "code",
   "execution_count": 33,
   "metadata": {},
   "outputs": [
    {
     "name": "stdout",
     "output_type": "stream",
     "text": [
      "Coherence Score:  -8.617124205758271\n"
     ]
    },
    {
     "name": "stderr",
     "output_type": "stream",
     "text": [
      "/Users/pushkar/miniforge3/envs/project/lib/python3.8/site-packages/past/builtins/misc.py:45: DeprecationWarning: the imp module is deprecated in favour of importlib; see the module's documentation for alternative uses\n",
      "  from imp import reload\n",
      "/Users/pushkar/miniforge3/envs/project/lib/python3.8/site-packages/past/builtins/misc.py:45: DeprecationWarning: the imp module is deprecated in favour of importlib; see the module's documentation for alternative uses\n",
      "  from imp import reload\n",
      "/Users/pushkar/miniforge3/envs/project/lib/python3.8/site-packages/past/builtins/misc.py:45: DeprecationWarning: the imp module is deprecated in favour of importlib; see the module's documentation for alternative uses\n",
      "  from imp import reload\n",
      "/Users/pushkar/miniforge3/envs/project/lib/python3.8/site-packages/past/builtins/misc.py:45: DeprecationWarning: the imp module is deprecated in favour of importlib; see the module's documentation for alternative uses\n",
      "  from imp import reload\n",
      "/Users/pushkar/miniforge3/envs/project/lib/python3.8/site-packages/past/builtins/misc.py:45: DeprecationWarning: the imp module is deprecated in favour of importlib; see the module's documentation for alternative uses\n",
      "  from imp import reload\n",
      "/Users/pushkar/miniforge3/envs/project/lib/python3.8/site-packages/past/builtins/misc.py:45: DeprecationWarning: the imp module is deprecated in favour of importlib; see the module's documentation for alternative uses\n",
      "  from imp import reload\n",
      "/Users/pushkar/miniforge3/envs/project/lib/python3.8/site-packages/past/builtins/misc.py:45: DeprecationWarning: the imp module is deprecated in favour of importlib; see the module's documentation for alternative uses\n",
      "  from imp import reload\n",
      "/Users/pushkar/miniforge3/envs/project/lib/python3.8/site-packages/past/builtins/misc.py:45: DeprecationWarning: the imp module is deprecated in favour of importlib; see the module's documentation for alternative uses\n",
      "  from imp import reload\n"
     ]
    },
    {
     "data": {
      "text/html": [
       "\n",
       "<link rel=\"stylesheet\" type=\"text/css\" href=\"https://cdn.jsdelivr.net/gh/bmabey/pyLDAvis@3.3.1/pyLDAvis/js/ldavis.v1.0.0.css\">\n",
       "\n",
       "\n",
       "<div id=\"ldavis_el9153564328073927315581852\"></div>\n",
       "<script type=\"text/javascript\">\n",
       "\n",
       "var ldavis_el9153564328073927315581852_data = {\"mdsDat\": {\"x\": [0.016130068969595908, -0.06281462192639176, 0.09128179038264168, -0.04459723742584577], \"y\": [-0.09885252484165505, 0.012630758166553175, 0.04587276669995683, 0.04034899997514502], \"topics\": [1, 2, 3, 4], \"cluster\": [1, 1, 1, 1], \"Freq\": [30.09964257277592, 30.07057384334, 20.14949324725171, 19.68029033663237]}, \"tinfo\": {\"Term\": [\"transaction\", \"service\", \"response\", \"working\", \"hai\", \"bonanza\", \"received\", \"services\", \"hint_visit\", \"shop\", \"calls\", \"shame\", \"bhi\", \"pos\", \"machine\", \"rt_answer\", \"nahi\", \"device\", \"bank_account\", \"ur\", \"month\", \"rent\", \"issue\", \"terminal\", \"complaint\", \"pinelab\", \"support\", \"executive\", \"following\", \"able\", \"calls\", \"products\", \"page_answer\", \"team_soon\", \"hint_visit\", \"surrender\", \"mailed\", \"terminate\", \"axis\", \"recieved\", \"disappointing\", \"amazon\", \"opt\", \"online\", \"option\", \"nhi\", \"body\", \"documents\", \"executive\", \"employees\", \"following\", \"receiving\", \"gift\", \"nd\", \"let_know\", \"bob\", \"methods\", \"feedback\", \"resolving\", \"challenge\", \"deducted\", \"hello\", \"emails\", \"merchant\", \"ur\", \"purchased\", \"pos\", \"cashback\", \"machine\", \"rent\", \"kindly\", \"sales\", \"iphone\", \"payment\", \"new\", \"comment\", \"installation\", \"monthly\", \"response\", \"bad\", \"service\", \"team\", \"time\", \"days\", \"business\", \"card\", \"company\", \"applied\", \"times\", \"customer_care\", \"charges\", \"months\", \"customer\", \"consumer\", \"faulty\", \"support\", \"away\", \"stay\", \"toll\", \"provider\", \"billing\", \"sucks\", \"retailers\", \"hey\", \"happened\", \"shifting\", \"debiting\", \"support_team\", \"forwarded_request\", \"shops\", \"ji\", \"hope\", \"blocked\", \"hold\", \"soon_thanks\", \"ask\", \"existing\", \"aka\", \"tenures\", \"allows\", \"terminals\", \"closing\", \"answers\", \"complaint\", \"taking\", \"settled\", \"manager\", \"received\", \"customer_support\", \"doesnt\", \"giving\", \"care\", \"service\", \"account\", \"touch\", \"poor\", \"customers\", \"know\", \"days\", \"payment\", \"guys\", \"customer\", \"pathetic\", \"trying\", \"bank\", \"help\", \"need\", \"th\", \"team\", \"services\", \"dont\", \"worst\", \"sales\", \"thanks\", \"money\", \"month\", \"machine\", \"customer_care\", \"months\", \"business\", \"ct_ct\", \"bonanza\", \"hai\", \"delhi\", \"gone\", \"slip\", \"kabhi\", \"wapas\", \"bhi\", \"pin\", \"guess\", \"basis\", \"fund\", \"scam\", \"requested\", \"requests\", \"st\", \"founder\", \"kush\", \"chief\", \"contest\", \"integration\", \"mehra\", \"paise\", \"officer\", \"center\", \"wo\", \"electronic\", \"hintvisit\", \"kar\", \"transaction\", \"se\", \"bank_account\", \"edc\", \"nahi\", \"answer\", \"rt_answer\", \"despite\", \"past\", \"fraud\", \"tag_friends\", \"machine\", \"android\", \"edc_machine\", \"pinelab\", \"mail\", \"need\", \"money\", \"charges\", \"page\", \"charge\", \"store\", \"emi\", \"days\", \"machines\", \"pos\", \"account\", \"business\", \"epos\", \"working\", \"payment\", \"months\", \"like\", \"team\", \"received\", \"company\", \"facility\", \"simple\", \"users\", \"guide\", \"regard\", \"concern\", \"reach\", \"gif\", \"hashtag\", \"ecs\", \"looting\", \"fix\", \"everyday\", \"pause\", \"fir\", \"decided\", \"device\", \"acceptance\", \"smartphone\", \"stuck\", \"owns\", \"waiver\", \"hospital\", \"felix\", \"single\", \"partners\", \"mails\", \"sbi\", \"shame\", \"myplutus\", \"shop\", \"terminal\", \"working\", \"issue\", \"able\", \"sent\", \"response\", \"month\", \"lost\", \"thank\", \"totally\", \"blog\", \"resolved\", \"company\", \"services\", \"cash\", \"complain\", \"machine\", \"worst\", \"use\", \"look\", \"post\", \"months\", \"time\", \"resolve\", \"customer\", \"request\", \"service\", \"machines\", \"pos\", \"business\", \"pinelab\", \"team\", \"help\", \"people\", \"person\", \"sales\", \"money\"], \"Freq\": [17.0, 56.0, 23.0, 17.0, 6.0, 5.0, 19.0, 14.0, 8.0, 6.0, 6.0, 6.0, 5.0, 35.0, 59.0, 9.0, 6.0, 5.0, 6.0, 13.0, 20.0, 8.0, 12.0, 7.0, 13.0, 10.0, 8.0, 8.0, 8.0, 8.0, 6.010509662989158, 5.125432536212327, 4.474328497217748, 3.122555214309553, 7.256234739078976, 3.056470942548631, 2.9779902000538914, 2.4086448694021336, 2.408347539539635, 2.408286339281903, 2.407958159153245, 2.400568102963411, 2.3974915810154407, 2.3950190572514125, 2.393882266632988, 2.3926134035237623, 2.392906230914983, 2.388863845498931, 6.843140003229469, 4.5845466594717, 6.789540584045958, 4.6088343236071045, 3.4612357730187133, 2.82860320581842, 3.8650414103485318, 1.6785292965766776, 1.6784060622702355, 1.6783138449881483, 1.6783048400455935, 1.6782990035087526, 5.827872752161687, 3.1737142940607597, 4.628209291304371, 3.1532757425928737, 9.004553674519611, 4.987382431136745, 19.376966127481115, 5.113344568140103, 23.2589314935701, 5.307214644529889, 5.940383839603161, 10.02778196183847, 3.87457164121885, 15.248254662870721, 4.200371463394587, 3.8715309722829025, 3.8642282973874873, 5.114613264491132, 10.188782330321898, 6.0085892756102846, 17.062171603174328, 10.69824462622716, 6.5427798108033475, 10.089688607286824, 8.271142459477355, 5.262081538929686, 6.6860637886015155, 4.636596895019424, 4.985767211255557, 4.86983324509415, 4.757926155836619, 4.749509202679166, 4.742204860201796, 3.1077305343599773, 3.086243167310954, 6.572139566655616, 2.398693569152399, 2.398366705546589, 2.397523224182564, 2.39610198390674, 2.3958409261746785, 2.395841925757571, 2.394981784678673, 2.394050006825821, 2.3889149829104857, 2.388116649373767, 2.37435422551425, 5.998125758760071, 3.835189645677078, 1.6716721085450146, 1.6713798971461404, 1.671370234511514, 1.6708229628779327, 1.6700582819652576, 1.6696624471398729, 1.6697082613557739, 1.6695355001125398, 1.6694635301442882, 1.6687479953904887, 1.668558907626679, 1.6679386664419535, 1.6668854392676762, 1.6667811494525706, 9.39036623900264, 5.784580200739518, 4.506852039941201, 3.1196455624372166, 12.098243624750433, 5.170817645933953, 3.490142960665814, 3.860633361814165, 4.382092433171037, 30.04832805029184, 12.022214017178376, 3.846099759753172, 6.741021761878583, 7.924590546991344, 8.187170976992181, 14.142447949098646, 15.895532419091214, 5.175413394878846, 10.072942079285832, 5.939892058615456, 4.313605344910626, 6.23095526994053, 7.476386241097266, 5.835199744798532, 5.585325346137109, 10.132066074593265, 6.330556374892235, 6.526214063859245, 6.583650763244331, 7.174730783055876, 5.211760561206077, 6.412057699217213, 6.722717399953214, 10.117999277743017, 5.611289844961129, 5.835062468747978, 5.251716554969119, 2.8189491142336385, 4.3447055960908765, 5.288448411726241, 2.1590857425463317, 2.1525999043650037, 2.15251104503295, 2.144876733474522, 2.1409595551305842, 4.108874714936808, 1.5077732954519945, 1.5077226143756723, 1.5074149556832843, 1.507233664784722, 1.5057134557597078, 1.5050739141600378, 1.5036848731188972, 1.5029138286383734, 1.5025462233865472, 1.5003479596091511, 1.500319604998169, 1.5000785908048215, 1.5000477802826522, 1.499990289634401, 1.4998881460554696, 1.499841707007562, 1.498275170566967, 1.4983059810891364, 1.496958802170509, 1.4968058658829284, 1.4955223173905206, 11.472757854989949, 2.807346719990297, 4.351834883003309, 3.4756483792529322, 4.099733813497223, 4.008826251512921, 4.734690450244964, 2.1660261475619857, 2.1650491414386988, 2.82192344594626, 3.9455275965683083, 13.364825770007101, 2.773826434722482, 2.8241549761570126, 3.9438807964848155, 3.5009951688243532, 4.08642366792001, 5.1113758755252015, 3.902395098177578, 2.607270110225983, 2.19589159045361, 3.49980248904588, 3.961338306263624, 6.241747401056518, 4.174596684429445, 6.100771400958899, 4.847983419437964, 4.799906055503685, 3.5340470448493306, 4.080437049503689, 5.2252220945293315, 4.106934098569437, 3.3702415641473977, 4.120824285716189, 3.282906236617527, 3.2883123669350027, 2.7675755042816554, 2.149544621549036, 2.13263122836391, 1.497938055091214, 1.4978464675003147, 1.4978333835587576, 1.4976192430486068, 1.4976150998004472, 1.4974530769908323, 1.4970006997114966, 1.4959948717042972, 1.4951537923278706, 1.492464824272201, 1.4922549360430564, 1.4914611769219277, 1.4905425751917754, 3.841602684584499, 1.4899527074932444, 1.4897776007420724, 1.4894067800317758, 1.4858841468332287, 1.484586328863614, 1.4839601532272622, 1.4839548106177929, 1.4833549118974014, 1.4563902167424452, 1.9119838560112503, 1.4502453435901694, 4.108187557678323, 1.4154759682635774, 4.46641453809476, 4.6434982728360925, 8.35632531556487, 6.117471453472846, 4.312155303268343, 2.809335084417956, 8.900112244194693, 7.950695214887185, 2.1479891589635938, 2.1443291443786974, 2.141115510266589, 2.135369043134726, 2.8969451570840667, 7.369913005373376, 5.411379102090398, 2.8053425196518176, 3.4564450272611538, 12.411973869789412, 5.436543446887102, 3.059592070711333, 3.8484721900333434, 2.821588195686148, 5.477934932134263, 4.562532225692659, 3.4348268667577995, 5.274940631796089, 3.503492046246357, 7.89935208369172, 4.103267559521481, 5.710874449514094, 4.7756090113947085, 3.4410670346177494, 4.775291071614872, 4.013089981390489, 3.4547689743476937, 3.0308344394316737, 3.375811094167578, 3.2218135381723023], \"Total\": [17.0, 56.0, 23.0, 17.0, 6.0, 5.0, 19.0, 14.0, 8.0, 6.0, 6.0, 6.0, 5.0, 35.0, 59.0, 9.0, 6.0, 5.0, 6.0, 13.0, 20.0, 8.0, 12.0, 7.0, 13.0, 10.0, 8.0, 8.0, 8.0, 8.0, 6.665973513599857, 5.919370464411875, 5.205304264580901, 3.7493919757179217, 8.764401648483156, 3.7427856007083964, 3.732715191795037, 3.0195220606867124, 3.019493617368428, 3.0194872901627194, 3.019452437504206, 3.0186493322512282, 3.0187507903558326, 3.0182197422259534, 3.0186599866253583, 3.0178978812616384, 3.018312395532176, 3.017989161749597, 8.712970964372397, 5.860216051592829, 8.707907704845647, 5.93611617295574, 4.477909459978097, 3.717901971923024, 5.2038119312052205, 2.2894002854902142, 2.2893885188717245, 2.289379163741996, 2.289373806989858, 2.2893786954409165, 8.033875812151106, 4.405512628734929, 6.520062466161592, 4.407237275592461, 13.157024473833744, 7.250775851044598, 35.25503380134961, 7.885739136765659, 59.15373041110963, 8.544426469794008, 10.008079912497807, 20.851723965789414, 5.792184073827664, 38.64081167440937, 6.472408558589848, 5.78802211646777, 5.791050334614052, 8.605182527685944, 23.0729795755503, 10.885828886208119, 56.57275443388651, 29.72642605815149, 14.69906534391555, 32.04608559254834, 23.098374081344865, 11.42013580395133, 21.501296184762083, 8.628538419133307, 11.28779844015045, 14.287836182237799, 11.337341522079296, 20.169440702130846, 21.89738245556577, 3.7370772559484142, 3.734873444904161, 8.08408917150632, 3.010601886515891, 3.0105714882985186, 3.010508942057629, 3.010469739292434, 3.010319299492654, 3.0103351175404724, 3.0102393646081422, 3.0101440803401887, 3.0099573446090537, 3.010270786451345, 3.0090505051667287, 8.022051523263983, 5.192443405334243, 2.2834622497764663, 2.2834344899432626, 2.2834405563156306, 2.2833826025334867, 2.283413178298552, 2.2832858655394195, 2.2834735136945734, 2.2832528006279285, 2.2832649451574296, 2.2831571725542665, 2.2831598997887137, 2.283086848800537, 2.282964858540261, 2.2829516937849257, 13.023204257556419, 8.023427644107592, 6.491726846771336, 4.46661383269144, 19.405192780866912, 7.94497900708964, 5.1577652532665175, 5.77094725991859, 6.644683571494702, 56.57275443388651, 21.921925952634005, 5.922503041289819, 11.294545721935712, 13.670649901799719, 14.874974605132184, 32.04608559254834, 38.64081167440937, 8.730858615669666, 21.89738245556577, 10.638572822745745, 7.206787878387819, 12.854033856296324, 17.56904336703892, 11.975190216305247, 11.49592372912897, 29.72642605815149, 14.0411301672023, 14.936385847667106, 16.770478241678077, 20.851723965789414, 10.944878899964605, 18.13477219265782, 20.892867763046564, 59.15373041110963, 14.287836182237799, 20.169440702130846, 23.098374081344865, 3.4525761219496545, 5.445695053004491, 6.820997354449003, 2.7972137436524753, 2.797847246503266, 2.7978469339161403, 2.797078235443227, 2.7980486256602157, 5.491629363446288, 2.140922331572487, 2.1409258882426974, 2.1409487694359832, 2.140947999776134, 2.1411414422630624, 2.1411921443580364, 2.1413284101895536, 2.1414527942040076, 2.141446614865028, 2.1417298602479127, 2.1417442835126925, 2.141645175423145, 2.1417952519210663, 2.1417740870528124, 2.1417815967372205, 2.1417898992928737, 2.141312194315927, 2.1414086695978405, 2.141957589039161, 2.141953730134797, 2.141616903032576, 17.709377617118264, 4.179645071565278, 6.913859073697366, 5.564908115300217, 6.945136256110584, 7.616880435999252, 9.770924951211438, 3.526297216716449, 3.525812942464254, 5.48298058898176, 9.126728357079456, 59.15373041110963, 5.4870985685860525, 6.2154238254787195, 10.964936784233766, 9.05866864648952, 11.975190216305247, 18.13477219265782, 11.337341522079296, 5.659462581390372, 4.171154094103871, 9.862442044044522, 12.488497884756523, 32.04608559254834, 14.497664297267818, 35.25503380134961, 21.921925952634005, 23.098374081344865, 10.421880986213823, 17.643219892319994, 38.64081167440937, 20.169440702130846, 11.252235583790137, 29.72642605815149, 19.405192780866912, 21.501296184762083, 3.4395764880485364, 2.7841317683622138, 2.7855988646809298, 2.13253186881092, 2.1325328934735284, 2.132529080306681, 2.132539918119914, 2.1325437378861434, 2.132557150326152, 2.1326462865682743, 2.1327531455407565, 2.1327747572251563, 2.1325553036203266, 2.1331820476791656, 2.133272732303854, 2.132973930830201, 5.499599607267463, 2.133478250453495, 2.133492165787123, 2.133411011043183, 2.1337928429042243, 2.1326321924156693, 2.133853357838817, 2.133846331078427, 2.134078481795768, 2.1372459686566754, 2.8125836387157497, 2.1379314568553407, 6.191614708885674, 2.137167187355695, 6.85056455731856, 7.5183357354122915, 17.643219892319994, 12.371752282784168, 8.272506470410471, 4.891017247068633, 23.0729795755503, 20.892867763046564, 3.5130809833178764, 3.51145819647321, 3.512022760067821, 3.5102279783979604, 5.5375088098179726, 21.501296184762083, 14.0411301672023, 5.474307679630714, 7.64760630775837, 59.15373041110963, 16.770478241678077, 7.038442568835615, 10.51604079629237, 6.27616893544495, 20.169440702130846, 14.69906534391555, 9.184023344546862, 21.89738245556577, 9.909946012545902, 56.57275443388651, 14.497664297267818, 35.25503380134961, 23.098374081344865, 10.964936784233766, 29.72642605815149, 17.56904336703892, 11.168938412321829, 7.742851190820056, 20.851723965789414, 18.13477219265782], \"Category\": [\"Default\", \"Default\", \"Default\", \"Default\", \"Default\", \"Default\", \"Default\", \"Default\", \"Default\", \"Default\", \"Default\", \"Default\", \"Default\", \"Default\", \"Default\", \"Default\", \"Default\", \"Default\", \"Default\", \"Default\", \"Default\", \"Default\", \"Default\", \"Default\", \"Default\", \"Default\", \"Default\", \"Default\", \"Default\", \"Default\", \"Topic1\", \"Topic1\", \"Topic1\", \"Topic1\", \"Topic1\", \"Topic1\", \"Topic1\", \"Topic1\", \"Topic1\", \"Topic1\", \"Topic1\", \"Topic1\", \"Topic1\", \"Topic1\", \"Topic1\", \"Topic1\", \"Topic1\", \"Topic1\", \"Topic1\", \"Topic1\", \"Topic1\", \"Topic1\", \"Topic1\", \"Topic1\", \"Topic1\", \"Topic1\", \"Topic1\", \"Topic1\", \"Topic1\", \"Topic1\", \"Topic1\", \"Topic1\", \"Topic1\", \"Topic1\", \"Topic1\", \"Topic1\", \"Topic1\", \"Topic1\", \"Topic1\", \"Topic1\", \"Topic1\", \"Topic1\", \"Topic1\", \"Topic1\", \"Topic1\", \"Topic1\", \"Topic1\", \"Topic1\", \"Topic1\", \"Topic1\", \"Topic1\", \"Topic1\", \"Topic1\", \"Topic1\", \"Topic1\", \"Topic1\", \"Topic1\", \"Topic1\", \"Topic1\", \"Topic1\", \"Topic1\", \"Topic1\", \"Topic1\", \"Topic2\", \"Topic2\", \"Topic2\", \"Topic2\", \"Topic2\", \"Topic2\", \"Topic2\", \"Topic2\", \"Topic2\", \"Topic2\", \"Topic2\", \"Topic2\", \"Topic2\", \"Topic2\", \"Topic2\", \"Topic2\", \"Topic2\", \"Topic2\", \"Topic2\", \"Topic2\", \"Topic2\", \"Topic2\", \"Topic2\", \"Topic2\", \"Topic2\", \"Topic2\", \"Topic2\", \"Topic2\", \"Topic2\", \"Topic2\", \"Topic2\", \"Topic2\", \"Topic2\", \"Topic2\", \"Topic2\", \"Topic2\", \"Topic2\", \"Topic2\", \"Topic2\", \"Topic2\", \"Topic2\", \"Topic2\", \"Topic2\", \"Topic2\", \"Topic2\", \"Topic2\", \"Topic2\", \"Topic2\", \"Topic2\", \"Topic2\", \"Topic2\", \"Topic2\", \"Topic2\", \"Topic2\", \"Topic2\", \"Topic2\", \"Topic2\", \"Topic2\", \"Topic2\", \"Topic2\", \"Topic2\", \"Topic2\", \"Topic2\", \"Topic2\", \"Topic2\", \"Topic2\", \"Topic2\", \"Topic3\", \"Topic3\", \"Topic3\", \"Topic3\", \"Topic3\", \"Topic3\", \"Topic3\", \"Topic3\", \"Topic3\", \"Topic3\", \"Topic3\", \"Topic3\", \"Topic3\", \"Topic3\", \"Topic3\", \"Topic3\", \"Topic3\", \"Topic3\", \"Topic3\", \"Topic3\", \"Topic3\", \"Topic3\", \"Topic3\", \"Topic3\", \"Topic3\", \"Topic3\", \"Topic3\", \"Topic3\", \"Topic3\", \"Topic3\", \"Topic3\", \"Topic3\", \"Topic3\", \"Topic3\", \"Topic3\", \"Topic3\", \"Topic3\", \"Topic3\", \"Topic3\", \"Topic3\", \"Topic3\", \"Topic3\", \"Topic3\", \"Topic3\", \"Topic3\", \"Topic3\", \"Topic3\", \"Topic3\", \"Topic3\", \"Topic3\", \"Topic3\", \"Topic3\", \"Topic3\", \"Topic3\", \"Topic3\", \"Topic3\", \"Topic3\", \"Topic3\", \"Topic3\", \"Topic3\", \"Topic3\", \"Topic3\", \"Topic3\", \"Topic3\", \"Topic3\", \"Topic3\", \"Topic4\", \"Topic4\", \"Topic4\", \"Topic4\", \"Topic4\", \"Topic4\", \"Topic4\", \"Topic4\", \"Topic4\", \"Topic4\", \"Topic4\", \"Topic4\", \"Topic4\", \"Topic4\", \"Topic4\", \"Topic4\", \"Topic4\", \"Topic4\", \"Topic4\", \"Topic4\", \"Topic4\", \"Topic4\", \"Topic4\", \"Topic4\", \"Topic4\", \"Topic4\", \"Topic4\", \"Topic4\", \"Topic4\", \"Topic4\", \"Topic4\", \"Topic4\", \"Topic4\", \"Topic4\", \"Topic4\", \"Topic4\", \"Topic4\", \"Topic4\", \"Topic4\", \"Topic4\", \"Topic4\", \"Topic4\", \"Topic4\", \"Topic4\", \"Topic4\", \"Topic4\", \"Topic4\", \"Topic4\", \"Topic4\", \"Topic4\", \"Topic4\", \"Topic4\", \"Topic4\", \"Topic4\", \"Topic4\", \"Topic4\", \"Topic4\", \"Topic4\", \"Topic4\", \"Topic4\", \"Topic4\", \"Topic4\", \"Topic4\", \"Topic4\", \"Topic4\", \"Topic4\", \"Topic4\", \"Topic4\"], \"logprob\": [30.0, 29.0, 28.0, 27.0, 26.0, 25.0, 24.0, 23.0, 22.0, 21.0, 20.0, 19.0, 18.0, 17.0, 16.0, 15.0, 14.0, 13.0, 12.0, 11.0, 10.0, 9.0, 8.0, 7.0, 6.0, 5.0, 4.0, 3.0, 2.0, 1.0, -5.4736, -5.6329, -5.7688, -6.1285, -5.2853, -6.1499, -6.1759, -6.3881, -6.3882, -6.3882, -6.3884, -6.3914, -6.3927, -6.3937, -6.3942, -6.3947, -6.3946, -6.3963, -5.3439, -5.7444, -5.3518, -5.7392, -6.0255, -6.2274, -5.9152, -6.7492, -6.7493, -6.7493, -6.7494, -6.7494, -5.5045, -6.1122, -5.735, -6.1187, -5.0694, -5.6602, -4.3031, -5.6353, -4.1204, -5.5981, -5.4854, -4.9618, -5.9127, -4.5427, -5.832, -5.9135, -5.9154, -5.635, -4.9458, -5.4739, -4.4303, -4.8971, -5.3888, -4.9556, -5.1544, -5.6066, -5.3671, -5.7332, -5.6605, -5.6841, -5.7073, -5.7091, -5.7106, -6.1323, -6.1392, -5.3833, -6.3912, -6.3914, -6.3917, -6.3923, -6.3924, -6.3924, -6.3928, -6.3932, -6.3953, -6.3957, -6.4014, -5.4747, -5.922, -6.7523, -6.7525, -6.7525, -6.7529, -6.7533, -6.7535, -6.7535, -6.7536, -6.7537, -6.7541, -6.7542, -6.7546, -6.7552, -6.7553, -5.0265, -5.511, -5.7606, -6.1285, -4.7731, -5.6231, -6.0162, -5.9153, -5.7886, -3.8634, -4.7794, -5.9191, -5.358, -5.1962, -5.1636, -4.617, -4.5001, -5.6223, -4.9563, -5.4845, -5.8044, -5.4366, -5.2544, -5.5023, -5.546, -4.9505, -5.4208, -5.3903, -5.3816, -5.2956, -5.6153, -5.408, -5.3607, -4.9519, -5.5414, -5.5023, -5.6076, -5.8294, -5.3968, -5.2003, -6.0961, -6.0991, -6.0992, -6.1027, -6.1045, -5.4527, -6.4552, -6.4552, -6.4554, -6.4555, -6.4565, -6.457, -6.4579, -6.4584, -6.4586, -6.4601, -6.4601, -6.4603, -6.4603, -6.4603, -6.4604, -6.4604, -6.4615, -6.4615, -6.4624, -6.4625, -6.4633, -4.4258, -5.8336, -5.3952, -5.62, -5.4549, -5.4773, -5.3109, -6.0929, -6.0934, -5.8284, -5.4932, -4.2732, -5.8456, -5.8276, -5.4936, -5.6128, -5.4581, -5.2343, -5.5042, -5.9075, -6.0792, -5.6131, -5.4892, -5.0345, -5.4368, -5.0574, -5.2872, -5.2972, -5.6034, -5.4596, -5.2123, -5.4531, -5.6508, -5.4497, -5.6771, -5.6754, -5.8243, -6.077, -6.0849, -6.4382, -6.4382, -6.4382, -6.4384, -6.4384, -6.4385, -6.4388, -6.4394, -6.44, -6.4418, -6.442, -6.4425, -6.4431, -5.4964, -6.4435, -6.4436, -6.4439, -6.4462, -6.4471, -6.4475, -6.4475, -6.4479, -6.4663, -6.1941, -6.4705, -5.4293, -6.4948, -5.3457, -5.3068, -4.7192, -5.0311, -5.3808, -5.8093, -4.6562, -4.769, -6.0777, -6.0794, -6.0809, -6.0836, -5.7786, -4.8448, -5.1537, -5.8107, -5.602, -4.3236, -5.1491, -5.724, -5.4946, -5.8049, -5.1415, -5.3244, -5.6083, -5.1793, -5.5885, -4.7755, -5.4305, -5.0999, -5.2787, -5.6065, -5.2788, -5.4527, -5.6025, -5.7334, -5.6256, -5.6723], \"loglift\": [30.0, 29.0, 28.0, 27.0, 26.0, 25.0, 24.0, 23.0, 22.0, 21.0, 20.0, 19.0, 18.0, 17.0, 16.0, 15.0, 14.0, 13.0, 12.0, 11.0, 10.0, 9.0, 8.0, 7.0, 6.0, 5.0, 4.0, 3.0, 2.0, 1.0, 1.0972, 1.0566, 1.0493, 1.0177, 1.0118, 0.9981, 0.9748, 0.9746, 0.9745, 0.9745, 0.9744, 0.9716, 0.9702, 0.9694, 0.9688, 0.9685, 0.9685, 0.9669, 0.9591, 0.9552, 0.9518, 0.9476, 0.9431, 0.9273, 0.9032, 0.8903, 0.8902, 0.8902, 0.8902, 0.8902, 0.8796, 0.8727, 0.8579, 0.8659, 0.8214, 0.8265, 0.6021, 0.7675, 0.2672, 0.7244, 0.679, 0.4686, 0.7986, 0.2708, 0.7683, 0.7985, 0.7961, 0.6804, 0.3833, 0.6064, 0.002, 0.1787, 0.3912, 0.045, 0.1737, 0.4258, 0.0326, 0.5796, 0.3835, 0.1243, 0.3324, -0.2455, -0.3292, 1.0172, 1.0109, 0.9946, 0.9744, 0.9743, 0.974, 0.9734, 0.9733, 0.9733, 0.973, 0.9726, 0.9705, 0.9701, 0.9647, 0.9109, 0.8986, 0.8898, 0.8896, 0.8896, 0.8893, 0.8888, 0.8886, 0.8886, 0.8886, 0.8885, 0.8881, 0.888, 0.8877, 0.8871, 0.887, 0.8746, 0.8745, 0.8367, 0.8427, 0.7291, 0.7721, 0.8111, 0.7996, 0.7853, 0.5689, 0.6009, 0.7699, 0.6855, 0.6563, 0.6045, 0.3836, 0.3134, 0.6787, 0.4251, 0.6188, 0.6884, 0.4775, 0.3472, 0.4827, 0.4798, 0.1253, 0.405, 0.3736, 0.2666, 0.1348, 0.4597, 0.162, 0.0677, -0.5642, 0.267, -0.0387, -0.2796, 1.3992, 1.3761, 1.3475, 1.3431, 1.3398, 1.3398, 1.3365, 1.3343, 1.3119, 1.2514, 1.2514, 1.2511, 1.251, 1.2499, 1.2495, 1.2485, 1.2479, 1.2477, 1.2461, 1.246, 1.2459, 1.2458, 1.2458, 1.2457, 1.2457, 1.2449, 1.2449, 1.2437, 1.2436, 1.2429, 1.1679, 1.204, 1.1391, 1.1313, 1.0749, 0.9601, 0.8775, 1.1146, 1.1143, 0.9378, 0.7634, 0.1145, 0.9198, 0.8132, 0.5795, 0.6513, 0.5268, 0.3356, 0.5355, 0.827, 0.9604, 0.566, 0.4538, -0.0339, 0.357, -0.1522, 0.0931, 0.0308, 0.5205, 0.1378, -0.3988, 0.0105, 0.3964, -0.374, -0.1748, -0.2757, 1.4082, 1.3669, 1.3584, 1.2723, 1.2723, 1.2723, 1.2721, 1.2721, 1.272, 1.2717, 1.2709, 1.2704, 1.2687, 1.2682, 1.2677, 1.2672, 1.2668, 1.2665, 1.2664, 1.2662, 1.2637, 1.2633, 1.2623, 1.2623, 1.2618, 1.242, 1.2396, 1.2374, 1.2153, 1.2135, 1.1978, 1.1437, 0.8782, 0.9213, 0.9741, 1.0711, 0.673, 0.6594, 1.1336, 1.1323, 1.1307, 1.1285, 0.9777, 0.5548, 0.6721, 0.957, 0.8314, 0.0641, 0.4991, 0.7924, 0.6203, 0.8261, 0.3221, 0.4556, 0.6421, 0.2022, 0.5858, -0.3432, 0.3633, -0.1947, 0.0493, 0.4666, -0.203, 0.149, 0.4522, 0.6876, -0.1952, -0.1023]}, \"token.table\": {\"Topic\": [2, 3, 4, 4, 1, 2, 3, 4, 2, 2, 1, 2, 3, 4, 1, 2, 3, 4, 2, 1, 2, 3, 4, 2, 2, 1, 1, 2, 3, 1, 2, 3, 4, 1, 3, 3, 2, 3, 2, 2, 2, 4, 1, 1, 3, 1, 2, 3, 4, 1, 1, 2, 3, 4, 1, 2, 2, 3, 4, 1, 3, 3, 1, 2, 3, 4, 1, 2, 3, 3, 2, 1, 3, 4, 1, 2, 3, 4, 2, 3, 4, 1, 2, 3, 4, 2, 3, 3, 1, 2, 3, 4, 1, 2, 3, 4, 1, 2, 3, 4, 1, 2, 4, 1, 2, 3, 4, 2, 4, 1, 2, 3, 3, 1, 3, 1, 4, 1, 1, 1, 2, 3, 1, 2, 3, 4, 4, 1, 2, 3, 1, 3, 4, 3, 1, 3, 4, 1, 2, 3, 4, 1, 4, 2, 3, 4, 4, 1, 3, 4, 2, 4, 2, 1, 4, 4, 4, 1, 3, 4, 1, 2, 3, 2, 3, 4, 3, 4, 1, 2, 2, 4, 3, 3, 4, 1, 2, 3, 1, 3, 2, 4, 1, 4, 1, 2, 3, 4, 2, 1, 3, 3, 2, 2, 4, 1, 3, 3, 1, 3, 1, 2, 3, 4, 2, 3, 3, 1, 2, 3, 4, 1, 2, 3, 4, 3, 1, 2, 1, 2, 3, 4, 1, 2, 3, 4, 4, 1, 4, 1, 2, 3, 4, 1, 2, 3, 4, 1, 2, 3, 4, 1, 4, 1, 2, 3, 1, 3, 1, 1, 2, 3, 4, 1, 2, 3, 4, 1, 2, 3, 4, 1, 2, 3, 4, 4, 2, 3, 1, 1, 2, 3, 4, 1, 3, 4, 1, 3, 1, 1, 1, 4, 1, 3, 1, 3, 4, 1, 3, 1, 2, 3, 4, 4, 1, 2, 3, 4, 1, 2, 3, 4, 1, 3, 4, 3, 1, 3, 4, 2, 3, 4, 1, 2, 3, 4, 1, 2, 3, 4, 1, 2, 1, 2, 3, 4, 1, 2, 3, 1, 2, 1, 4, 1, 4, 1, 2, 4, 3, 3, 1, 2, 4, 1, 2, 3, 4, 1, 1, 2, 3, 4, 2, 1, 2, 3, 1, 2, 4, 4, 3, 2, 3, 1, 2, 4, 1, 2, 3, 4, 1, 2, 4, 2, 3, 4, 2, 4, 2, 1, 3, 4, 2, 4, 4, 3, 4, 2, 3, 2, 1, 2, 3, 4, 4, 2, 1, 2, 1, 2, 4, 1, 1, 2, 3, 4, 1, 2, 3, 1, 2, 3, 4, 1, 2, 1, 2, 3, 4, 2, 1, 1, 2, 3, 4, 2, 4, 1, 2, 4, 1, 2, 3, 4, 1, 2, 3, 4, 2, 2, 4, 1, 2, 1, 2, 3, 4, 1, 2, 4, 1, 2, 3, 2, 4, 4, 4, 3, 3, 1, 2, 3, 4, 1, 2, 3, 4], \"Freq\": [0.3626470418283207, 0.1208823472761069, 0.4835293891044276, 0.468718160022226, 0.1368492899064618, 0.5473971596258472, 0.22808214984410302, 0.0912328599376412, 0.8759386440201758, 0.8759789448759513, 0.662547974232056, 0.18224567820324136, 0.5467370346097241, 0.3644913564064827, 0.2625746874727753, 0.13128734373638765, 0.5251493749455506, 0.13128734373638765, 0.8760588344662618, 0.5794724155035083, 0.23178896620140332, 0.23178896620140332, 0.11589448310070166, 0.8758586372933558, 0.6643189884912216, 0.6623627182040726, 0.5511752998066821, 0.27558764990334106, 0.1837250999355607, 0.23338976958820615, 0.4667795391764123, 0.15559317972547076, 0.15559317972547076, 0.28927404777581733, 0.5785480955516347, 0.9341652768865109, 0.18209531886042052, 0.7283812754416821, 0.664381349957485, 0.8758935089463042, 0.2848817815122059, 0.5697635630244118, 0.873591225036365, 0.6626219350125846, 0.7345251544691482, 0.34634472417091505, 0.2164654526068219, 0.2164654526068219, 0.2164654526068219, 0.9000935853943698, 0.43782316478846217, 0.2626938988730773, 0.08756463295769243, 0.17512926591538486, 0.30099251205578564, 0.6019850241115713, 0.1826715008586178, 0.3653430017172356, 0.5480145025758534, 0.6340559728495854, 0.25362238913983415, 0.4670033648780786, 0.8735994634626473, 0.23974180225409283, 0.47948360450818567, 0.23974180225409283, 0.44102049764158363, 0.17640819905663344, 0.35281639811326687, 0.9338182972617923, 0.8760537826582272, 0.6910823627676568, 0.1727705906919142, 0.1727705906919142, 0.3255617679905681, 0.18603529599461033, 0.13952647199595775, 0.3255617679905681, 0.3922796074055943, 0.1307598691351981, 0.3922796074055943, 0.15357203653160437, 0.6910741643922197, 0.07678601826580218, 0.4689267823987605, 0.8027663852078019, 0.9338615112117447, 0.8689163957682454, 0.2283377938046255, 0.456675587609251, 0.0913351175218502, 0.2283377938046255, 0.3499480212557201, 0.41993762550686414, 0.20996881275343207, 0.06998960425114402, 0.12586565667544972, 0.6293282833772486, 0.12586565667544972, 0.12586565667544972, 0.2194482355666979, 0.5851952948445277, 0.14629882371113193, 0.31205059261045276, 0.4368708296546338, 0.18723035556627163, 0.062410118522090545, 0.6646614925757725, 0.4688289835829253, 0.7468375339988574, 0.12447292233314292, 0.12447292233314292, 0.7149972019615813, 0.2835835831589832, 0.5671671663179664, 0.18183141890521393, 0.7273256756208557, 0.6623717516322739, 0.6626929033902013, 0.19388241823659572, 0.5816472547097872, 0.19388241823659572, 0.26780240151768403, 0.4686542026559471, 0.13390120075884202, 0.20085180113826304, 0.4689010110575531, 0.17969748633415697, 0.17969748633415697, 0.5390924590024709, 0.32178014825014084, 0.4826702223752113, 0.16089007412507042, 0.46686265177107444, 0.7668638185522686, 0.15337276371045372, 0.15337276371045372, 0.24022104401056943, 0.24022104401056943, 0.3202947253474259, 0.24022104401056943, 0.8532108638965591, 0.17064217277931182, 0.3838078754968746, 0.3838078754968746, 0.1919039377484373, 0.4689210161642011, 0.8033998998301741, 0.11477141426145346, 0.11477141426145346, 0.875943303102473, 0.8722004032833901, 0.8032400680384987, 0.8735992847646062, 0.4686373078677174, 0.4687633160341565, 0.46887276615231915, 0.8038670410005315, 0.11483814871436164, 0.11483814871436164, 0.19258755886923892, 0.7703502354769557, 0.9339481013053678, 0.1823825533888511, 0.5471476601665533, 0.1823825533888511, 0.9341656127141471, 0.4689235593316539, 0.6699554840965173, 0.22331849469883908, 0.6931271106533085, 0.1732817776633271, 0.7148353086465277, 0.9341752607987887, 0.4689261692288757, 0.22907254464188778, 0.5726813616047194, 0.11453627232094389, 0.14660612635302503, 0.7330306317651252, 0.664461243473126, 0.4689206100980978, 0.6809650210585071, 0.22698834035283572, 0.17075488615551293, 0.3984280676961968, 0.17075488615551293, 0.2276731815406839, 0.6644200233013338, 0.7986854414883509, 0.11409792021262155, 0.46686349286222356, 0.8758817804013321, 0.8758712787457158, 0.4686357646491733, 0.6907209865007299, 0.34536049325036494, 0.9337960751412236, 0.6905857875053114, 0.17264644687632785, 0.16165858758610024, 0.16165858758610024, 0.08082929379305012, 0.4849757627583007, 0.875873605662186, 0.7150318409606725, 0.4669369197562731, 0.5995155966438047, 0.09991926610730079, 0.09991926610730079, 0.19983853221460157, 0.13445401105491347, 0.5378160442196539, 0.20168101658237023, 0.13445401105491347, 0.9338245859673886, 0.768667287150323, 0.19216682178758074, 0.2666136855792258, 0.2666136855792258, 0.2666136855792258, 0.08887122852640861, 0.3803712896787426, 0.1901856448393713, 0.09509282241968565, 0.3803712896787426, 0.4688775173492718, 0.2846504264343958, 0.5693008528687916, 0.388817405768891, 0.16905104598647436, 0.21976635978241665, 0.2028612551837692, 0.20692988459978137, 0.20692988459978137, 0.2759065127997085, 0.2759065127997085, 0.2207829956088585, 0.2207829956088585, 0.441565991217717, 0.11039149780442925, 0.8037045008401299, 0.7110899645683844, 0.22388324521832048, 0.6716497356549614, 0.46690265142578585, 0.6806985447809166, 0.22689951492697222, 0.8735957149753056, 0.16542804994344526, 0.3308560998868905, 0.2757134165724088, 0.16542804994344526, 0.2393161176678461, 0.33504256473498456, 0.09572644706713844, 0.38290578826855376, 0.5810451996704562, 0.11620903993409124, 0.23241807986818247, 0.11620903993409124, 0.24789978432430027, 0.2974797411891603, 0.1983198274594402, 0.24789978432430027, 0.46790911161110155, 0.2879713120445012, 0.5759426240890024, 0.8069066970176997, 0.08350598044266673, 0.5010358826560004, 0.3340239217706669, 0.08350598044266673, 0.6180079585197702, 0.15450198962994255, 0.15450198962994255, 0.6627129474519846, 0.4668992044131671, 0.6626422761799938, 0.6625257064576211, 0.6625456357659725, 0.4686490552845505, 0.5300856674739218, 0.5300856674739218, 0.7684469142789014, 0.4669010143346992, 0.4678918639526225, 0.28362253367334966, 0.5672450673466993, 0.09399757060100723, 0.5639854236060434, 0.18799514120201447, 0.18799514120201447, 0.46878324383423736, 0.38819060340634726, 0.4140699769667704, 0.12939686780211573, 0.0517587471208463, 0.17906804802447063, 0.35813609604894125, 0.17906804802447063, 0.26860207203670594, 0.5166055631732158, 0.12915139079330396, 0.3874541723799119, 0.9341768127249246, 0.2735993885813945, 0.36479918477519263, 0.2735993885813945, 0.6197681759262742, 0.1770766216932212, 0.1770766216932212, 0.5389301314263001, 0.11345897503711581, 0.17018846255567374, 0.17018846255567374, 0.3186657371035551, 0.15933286855177756, 0.15933286855177756, 0.4779986056553327, 0.8446844187335013, 0.6643481493589336, 0.6895813775955665, 0.13791627551911328, 0.13791627551911328, 0.46892439925889795, 0.20613039227025412, 0.6183911768107624, 0.1545977942026906, 0.8423015746860587, 0.16846031493721175, 0.6623641061566516, 0.4689259439141276, 0.5851767836818358, 0.3511060702091015, 0.4036348931604709, 0.20181744658023545, 0.4036348931604709, 0.9340590965971585, 0.9339996567004671, 0.21776948130119106, 0.4355389626023821, 0.32665422195178656, 0.18058662014713286, 0.18058662014713286, 0.18058662014713286, 0.5417598604413986, 0.8736013288409481, 0.433407396182012, 0.1300222188546036, 0.0433407396182012, 0.39006665656381084, 0.664398992158004, 0.4093778245123113, 0.10234445612807783, 0.5117222806403892, 0.4795766535374532, 0.3357036574762173, 0.14387299606123596, 0.4677418430761521, 0.9340812150579441, 0.2392547651481564, 0.7177642954444693, 0.2044564452516165, 0.2044564452516165, 0.6133693357548495, 0.3004980077444695, 0.530290601902005, 0.035352706793467, 0.141410827173868, 0.1424386766723138, 0.4273160300169414, 0.3560966916807845, 0.770211088361913, 0.1540422176723826, 0.1540422176723826, 0.32301751546810104, 0.6460350309362021, 0.6643920570207899, 0.2919467415080952, 0.1459733707540476, 0.5838934830161904, 0.8758629577501379, 0.7183568043464102, 0.46858632825842833, 0.7148353885109091, 0.4687151028890999, 0.8759306183185722, 0.933945406320952, 0.6643256962253162, 0.5069738283551457, 0.10139476567102915, 0.3041842970130874, 0.10139476567102915, 0.4687329327652742, 0.6643778589122847, 0.12369977356566794, 0.8658984149596756, 0.12465639208374514, 0.7479383525024709, 0.12465639208374514, 0.801542038483901, 0.43827315150639545, 0.10956828787659886, 0.43827315150639545, 0.10956828787659886, 0.12463501191219695, 0.7478100714731817, 0.12463501191219695, 0.3700411202638877, 0.3364010184217161, 0.13456040736868644, 0.16820050921085805, 0.800129732881708, 0.8759799912340304, 0.13300815967686522, 0.13300815967686522, 0.13300815967686522, 0.6650407983843262, 0.876006973212928, 0.6623564788743923, 0.26096206539701056, 0.5219241307940211, 0.17397471026467373, 0.08698735513233687, 0.28478197490842017, 0.5695639498168403, 0.4568346571670308, 0.4568346571670308, 0.09136693143340617, 0.4762207552807119, 0.13606307293734626, 0.13606307293734626, 0.34015768234336563, 0.44295617312009317, 0.17718246924803727, 0.17718246924803727, 0.17718246924803727, 0.664339498235483, 0.2847361957246225, 0.569472391449245, 0.3376950566435563, 0.6753901132871126, 0.11293451657311532, 0.22586903314623064, 0.6211398411521343, 0.05646725828655766, 0.1387580732046887, 0.5550322928187548, 0.2775161464093774, 0.6840452427445813, 0.22801508091486042, 0.07600502697162015, 0.5683075425962776, 0.42623065694720824, 0.7179784660879683, 0.4689041099334071, 0.7147838610303238, 0.4669823253250401, 0.05667899658357118, 0.22671598633428472, 0.22671598633428472, 0.45343197266856944, 0.1788857751560349, 0.4174001420307481, 0.1192571834373566, 0.2981429585933915], \"Term\": [\"able\", \"able\", \"able\", \"acceptance\", \"account\", \"account\", \"account\", \"account\", \"aka\", \"allows\", \"amazon\", \"android\", \"android\", \"android\", \"answer\", \"answer\", \"answer\", \"answer\", \"answers\", \"applied\", \"applied\", \"applied\", \"applied\", \"ask\", \"away\", \"axis\", \"bad\", \"bad\", \"bad\", \"bank\", \"bank\", \"bank\", \"bank\", \"bank_account\", \"bank_account\", \"basis\", \"bhi\", \"bhi\", \"billing\", \"blocked\", \"blog\", \"blog\", \"bob\", \"body\", \"bonanza\", \"business\", \"business\", \"business\", \"business\", \"calls\", \"card\", \"card\", \"card\", \"card\", \"care\", \"care\", \"cash\", \"cash\", \"cash\", \"cashback\", \"cashback\", \"center\", \"challenge\", \"charge\", \"charge\", \"charge\", \"charges\", \"charges\", \"charges\", \"chief\", \"closing\", \"comment\", \"comment\", \"comment\", \"company\", \"company\", \"company\", \"company\", \"complain\", \"complain\", \"complain\", \"complaint\", \"complaint\", \"complaint\", \"concern\", \"consumer\", \"contest\", \"ct_ct\", \"customer\", \"customer\", \"customer\", \"customer\", \"customer_care\", \"customer_care\", \"customer_care\", \"customer_care\", \"customer_support\", \"customer_support\", \"customer_support\", \"customer_support\", \"customers\", \"customers\", \"customers\", \"days\", \"days\", \"days\", \"days\", \"debiting\", \"decided\", \"deducted\", \"deducted\", \"deducted\", \"delhi\", \"despite\", \"despite\", \"device\", \"device\", \"disappointing\", \"documents\", \"doesnt\", \"doesnt\", \"doesnt\", \"dont\", \"dont\", \"dont\", \"dont\", \"ecs\", \"edc\", \"edc\", \"edc\", \"edc_machine\", \"edc_machine\", \"edc_machine\", \"electronic\", \"emails\", \"emails\", \"emails\", \"emi\", \"emi\", \"emi\", \"emi\", \"employees\", \"employees\", \"epos\", \"epos\", \"epos\", \"everyday\", \"executive\", \"executive\", \"executive\", \"existing\", \"facility\", \"faulty\", \"feedback\", \"felix\", \"fir\", \"fix\", \"following\", \"following\", \"following\", \"forwarded_request\", \"forwarded_request\", \"founder\", \"fraud\", \"fraud\", \"fraud\", \"fund\", \"gif\", \"gift\", \"gift\", \"giving\", \"giving\", \"gone\", \"guess\", \"guide\", \"guys\", \"guys\", \"guys\", \"hai\", \"hai\", \"happened\", \"hashtag\", \"hello\", \"hello\", \"help\", \"help\", \"help\", \"help\", \"hey\", \"hint_visit\", \"hint_visit\", \"hintvisit\", \"hold\", \"hope\", \"hospital\", \"installation\", \"installation\", \"integration\", \"iphone\", \"iphone\", \"issue\", \"issue\", \"issue\", \"issue\", \"ji\", \"kabhi\", \"kar\", \"kindly\", \"kindly\", \"kindly\", \"kindly\", \"know\", \"know\", \"know\", \"know\", \"kush\", \"let_know\", \"let_know\", \"like\", \"like\", \"like\", \"like\", \"look\", \"look\", \"look\", \"look\", \"looting\", \"lost\", \"lost\", \"machine\", \"machine\", \"machine\", \"machine\", \"machines\", \"machines\", \"machines\", \"machines\", \"mail\", \"mail\", \"mail\", \"mail\", \"mailed\", \"mails\", \"manager\", \"manager\", \"mehra\", \"merchant\", \"merchant\", \"methods\", \"money\", \"money\", \"money\", \"money\", \"month\", \"month\", \"month\", \"month\", \"monthly\", \"monthly\", \"monthly\", \"monthly\", \"months\", \"months\", \"months\", \"months\", \"myplutus\", \"nahi\", \"nahi\", \"nd\", \"need\", \"need\", \"need\", \"need\", \"new\", \"new\", \"new\", \"nhi\", \"officer\", \"online\", \"opt\", \"option\", \"owns\", \"page\", \"page\", \"page_answer\", \"paise\", \"partners\", \"past\", \"past\", \"pathetic\", \"pathetic\", \"pathetic\", \"pathetic\", \"pause\", \"payment\", \"payment\", \"payment\", \"payment\", \"people\", \"people\", \"people\", \"people\", \"person\", \"person\", \"person\", \"pin\", \"pinelab\", \"pinelab\", \"pinelab\", \"poor\", \"poor\", \"poor\", \"pos\", \"pos\", \"pos\", \"pos\", \"post\", \"post\", \"post\", \"post\", \"products\", \"provider\", \"purchased\", \"purchased\", \"purchased\", \"reach\", \"received\", \"received\", \"received\", \"receiving\", \"receiving\", \"recieved\", \"regard\", \"rent\", \"rent\", \"request\", \"request\", \"request\", \"requested\", \"requests\", \"resolve\", \"resolve\", \"resolve\", \"resolved\", \"resolved\", \"resolved\", \"resolved\", \"resolving\", \"response\", \"response\", \"response\", \"response\", \"retailers\", \"rt_answer\", \"rt_answer\", \"rt_answer\", \"sales\", \"sales\", \"sales\", \"sbi\", \"scam\", \"se\", \"se\", \"sent\", \"sent\", \"sent\", \"service\", \"service\", \"service\", \"service\", \"services\", \"services\", \"services\", \"settled\", \"settled\", \"settled\", \"shame\", \"shame\", \"shifting\", \"shop\", \"shop\", \"shop\", \"shops\", \"simple\", \"single\", \"slip\", \"smartphone\", \"soon_thanks\", \"st\", \"stay\", \"store\", \"store\", \"store\", \"store\", \"stuck\", \"sucks\", \"support\", \"support\", \"support_team\", \"support_team\", \"support_team\", \"surrender\", \"tag_friends\", \"tag_friends\", \"tag_friends\", \"tag_friends\", \"taking\", \"taking\", \"taking\", \"team\", \"team\", \"team\", \"team\", \"team_soon\", \"tenures\", \"terminal\", \"terminal\", \"terminal\", \"terminal\", \"terminals\", \"terminate\", \"th\", \"th\", \"th\", \"th\", \"thank\", \"thank\", \"thanks\", \"thanks\", \"thanks\", \"time\", \"time\", \"time\", \"time\", \"times\", \"times\", \"times\", \"times\", \"toll\", \"totally\", \"totally\", \"touch\", \"touch\", \"transaction\", \"transaction\", \"transaction\", \"transaction\", \"trying\", \"trying\", \"trying\", \"ur\", \"ur\", \"ur\", \"use\", \"use\", \"users\", \"waiver\", \"wapas\", \"wo\", \"working\", \"working\", \"working\", \"working\", \"worst\", \"worst\", \"worst\", \"worst\"]}, \"R\": 30, \"lambda.step\": 0.01, \"plot.opts\": {\"xlab\": \"PC1\", \"ylab\": \"PC2\"}, \"topic.order\": [4, 1, 2, 3]};\n",
       "\n",
       "function LDAvis_load_lib(url, callback){\n",
       "  var s = document.createElement('script');\n",
       "  s.src = url;\n",
       "  s.async = true;\n",
       "  s.onreadystatechange = s.onload = callback;\n",
       "  s.onerror = function(){console.warn(\"failed to load library \" + url);};\n",
       "  document.getElementsByTagName(\"head\")[0].appendChild(s);\n",
       "}\n",
       "\n",
       "if(typeof(LDAvis) !== \"undefined\"){\n",
       "   // already loaded: just create the visualization\n",
       "   !function(LDAvis){\n",
       "       new LDAvis(\"#\" + \"ldavis_el9153564328073927315581852\", ldavis_el9153564328073927315581852_data);\n",
       "   }(LDAvis);\n",
       "}else if(typeof define === \"function\" && define.amd){\n",
       "   // require.js is available: use it to load d3/LDAvis\n",
       "   require.config({paths: {d3: \"https://d3js.org/d3.v5\"}});\n",
       "   require([\"d3\"], function(d3){\n",
       "      window.d3 = d3;\n",
       "      LDAvis_load_lib(\"https://cdn.jsdelivr.net/gh/bmabey/pyLDAvis@3.3.1/pyLDAvis/js/ldavis.v3.0.0.js\", function(){\n",
       "        new LDAvis(\"#\" + \"ldavis_el9153564328073927315581852\", ldavis_el9153564328073927315581852_data);\n",
       "      });\n",
       "    });\n",
       "}else{\n",
       "    // require.js not available: dynamically load d3 & LDAvis\n",
       "    LDAvis_load_lib(\"https://d3js.org/d3.v5.js\", function(){\n",
       "         LDAvis_load_lib(\"https://cdn.jsdelivr.net/gh/bmabey/pyLDAvis@3.3.1/pyLDAvis/js/ldavis.v3.0.0.js\", function(){\n",
       "                 new LDAvis(\"#\" + \"ldavis_el9153564328073927315581852\", ldavis_el9153564328073927315581852_data);\n",
       "            })\n",
       "         });\n",
       "}\n",
       "</script>"
      ],
      "text/plain": [
       "PreparedData(topic_coordinates=              x         y  topics  cluster       Freq\n",
       "topic                                                \n",
       "3      0.016130 -0.098853       1        1  30.099643\n",
       "0     -0.062815  0.012631       2        1  30.070574\n",
       "1      0.091282  0.045873       3        1  20.149493\n",
       "2     -0.044597  0.040349       4        1  19.680290, topic_info=            Term       Freq      Total Category  logprob  loglift\n",
       "243  transaction  17.000000  17.000000  Default  30.0000  30.0000\n",
       "84       service  56.000000  56.000000  Default  29.0000  29.0000\n",
       "30      response  23.000000  23.000000  Default  28.0000  28.0000\n",
       "69       working  17.000000  17.000000  Default  27.0000  27.0000\n",
       "301          hai   6.000000   6.000000  Default  26.0000  26.0000\n",
       "..           ...        ...        ...      ...      ...      ...\n",
       "72          help   4.013090  17.569043   Topic4  -5.4527   0.1490\n",
       "83        people   3.454769  11.168938   Topic4  -5.6025   0.4522\n",
       "580       person   3.030834   7.742851   Topic4  -5.7334   0.6876\n",
       "32         sales   3.375811  20.851724   Topic4  -5.6256  -0.1952\n",
       "111        money   3.221814  18.134772   Topic4  -5.6723  -0.1023\n",
       "\n",
       "[294 rows x 6 columns], token_table=      Topic      Freq        Term\n",
       "term                             \n",
       "39        2  0.362647        able\n",
       "39        3  0.120882        able\n",
       "39        4  0.483529        able\n",
       "1155      4  0.468718  acceptance\n",
       "116       1  0.136849     account\n",
       "...     ...       ...         ...\n",
       "69        4  0.453432     working\n",
       "207       1  0.178886       worst\n",
       "207       2  0.417400       worst\n",
       "207       3  0.119257       worst\n",
       "207       4  0.298143       worst\n",
       "\n",
       "[467 rows x 3 columns], R=30, lambda_step=0.01, plot_opts={'xlab': 'PC1', 'ylab': 'PC2'}, topic_order=[4, 1, 2, 3])"
      ]
     },
     "execution_count": 33,
     "metadata": {},
     "output_type": "execute_result"
    }
   ],
   "source": [
    "lda_model = gensim.models.LdaMulticore(corpus=corpus,\n",
    "                                        id2word=id2word,\n",
    "                                        num_topics=4,\n",
    "                                        random_state=100,\n",
    "                                        chunksize=100,\n",
    "                                        passes=10,\n",
    "                                        per_word_topics=True,\n",
    "                                        alpha=0.3,\n",
    "                                        eta=0.3)\n",
    "coherence_model = gensim.models.CoherenceModel(model=lda_model, \n",
    "                                                    texts=queries['bigram'].values.tolist(), \n",
    "                                                    dictionary=id2word, \n",
    "                                                    coherence='u_mass')\n",
    "coherence_model_score = coherence_model.get_coherence()\n",
    "print('Coherence Score: ', coherence_model_score)\n",
    "import pyLDAvis.gensim_models\n",
    "\n",
    "import pyLDAvis\n",
    "# Visualize the topics\n",
    "pyLDAvis.enable_notebook()\n",
    "LDAvis_prepared = pyLDAvis.gensim_models.prepare(lda_model, corpus, id2word)\n",
    "LDAvis_prepared\n"
   ]
  },
  {
   "cell_type": "code",
   "execution_count": 34,
   "metadata": {},
   "outputs": [
    {
     "data": {
      "text/plain": [
       "array(['machine, response, working, month, service, company, issue, pos, months, worst',\n",
       "       'service, payment, days, received, account, team, machine, customer, complaint, know',\n",
       "       'machine, pos, service, payment, team, response, days, sales, ur, business',\n",
       "       'machine, transaction, days, pos, hai, payment, money, account, business, rt_answer'],\n",
       "      dtype=object)"
      ]
     },
     "execution_count": 34,
     "metadata": {},
     "output_type": "execute_result"
    }
   ],
   "source": [
    "queries_topic_sents_keywords = processor.dominant_topics(ldamodel=lda_model, \n",
    "                                                         corpus=corpus, \n",
    "                                                         texts=queries['bigram'].values.tolist(),\n",
    "                                                         tweets=queries['tweet'].values.tolist())\n",
    "queries_topic_sents_keywords['Topic_Keywords'].unique()\n"
   ]
  },
  {
   "cell_type": "code",
   "execution_count": 35,
   "metadata": {},
   "outputs": [
    {
     "data": {
      "text/plain": [
       "array(['Did you know that you can now offer easy EMIs on debit cards?\\nDelight your customers with our affordability solutions. Read more at https://t.co/4dYhh0cNZf\\n#DebitEMI #payment #pinelabs',\n",
       "       \"@PineLabs your sale's man are not transparent and does fake promises. your service is worthless piece of shit. I regret that i chose your service.i should have chosen @BajajFinCorp instead of your service.\",\n",
       "       \"@PineLabs worst service , no support\\nPayment done 45 days ago but POS terminal yet not installed\\n\\nNobody is picking up the phone call also at Toll free they can't take complaint as there is no TID as of now.\\n\\nGot fed up with you people.\",\n",
       "       '@PineLabs i m from tunmarg aircon Indore(M P) my swipe machine is not working from last three month ur sumeet makwana 📱9907650650 know that but no one give resolution &amp; rental deduct every month why ?\\nJust take machine &amp; give my payment back \\nCall back ASAP\\n9827788674\\n9036699339',\n",
       "       'Our focus is on increasing revenue, reducing cost, complexity and risk for our merchants, all with one stack of solutions -https://t.co/OlVIkSpS5V',\n",
       "       '@PineLabs Had ordered two machines 45 days back only to receive it 4 days back and both of them are faulty with faulty chargers. Doesn’t make much sense if we have to pay so much money to receive faulty machines which were already delayed by one month.',\n",
       "       '@PineLabs Two payment not received one on 5 april amount of rs.4400 &amp; second rs.15000 on 11 april both transaction is success full completed with hdfc tid no.41418565 but payment not received on my account why plz reply',\n",
       "       \"@kfc should know damage from cancelled orders &amp; customer walkouts why R U letting your global standards to lower at @kfcinIndia throw out the #digital payment machines from @PineLabs as they doesn't seem to work or tooo slow most times for #digitalpayments at #KFC\",\n",
       "       '@PineLabs @Pinelabs_ I am very mentally harassed, I am very frustrated I have been calling customer care since I am not getting any response they are not giving any inquiry answers .they are showing another and they activating services without my permission  and not closing it...',\n",
       "       '@PineLabs dear sir I have been using pine labs machine and after requesting for three months I was able to surrender my machine but money is getting deducted from my account and no one is taking care of that I don’t know how and whom should I approach I am so helpless please help',\n",
       "       'On one side we have @Razorpay aka smooth , on the other we have @PineLabs aka even-God-cannot-guess-how-it-works',\n",
       "       '@PineLabs Nothing can be worst!!!! Need refund and deinstallation asap.',\n",
       "       '@PineLabs बहुत ही बुरी service hai कितने बार complain kr चुका हूं अभी तक कोई सुनवाई नहीं हुई है पैसे तुरन्त ले लिया था स्टार्ट करने से पहले।।।।',\n",
       "       '@PineLabs  What is the problem with your company.. Dont you care about your customers or what ???? I spoke with Akansha like almost a week ago and she promised a resolution and again you are back to square one... Pathetic...',\n",
       "       '@PineLabs if I could say any bad, it will be disgracing myself. @PineLabs they are one the worst service provider. You guys are more than horrible. You should not be existing in the market. @timesofindia I urge everyone to help me to get this close the company. #moneylooters',\n",
       "       \"According to @PineLabs refund through NEFT is taking more than 45 days. SERIOUSLY?!\\nI've never come across such an irresponsible company with faulty deliverables, pathetic operations, and poor customer support. #FalseHopes FYI: #FakePromises @_vickybindra #PineLabs\",\n",
       "       \"@PineLabs it's been 1 month and I have not yet received my swipe machine. If this the the way you work then you need to improve heavily in customer service\",\n",
       "       '@PineLabs Swipe machine  applied from since 6 months ago........payment also debit from my account ...still not riceved',\n",
       "       'India’s largest bank SBI partners with @PineLabs to enable #EMI facility to its debit card customers. https://t.co/sO4dms7QG5',\n",
       "       '@PineLabs @AxisBankSupport  need help regarding my existing account with axisbank and pinelabs',\n",
       "       '@PineLabs worst customer support ever .... Pune teams just sucks',\n",
       "       '#GrowWithPineLabs #Contest \\nQ5. Catch the QR code scanner when it turns green.\\n\\n✅Take a screenshot, Retweet &amp; Tag A Friend!\\n\\nT&amp;Cs - https://t.co/vyurLNDnrQ\\n#ContestAlert #Giveaway https://t.co/EvHHKmTxuR',\n",
       "       \"Hey @pinelabs Don't cheat your customers. Please help your customer who is in trouble because of your poor and pathetic service. Help this poor guy- Smit Computer and mobile (CUST10206)d @airnewsalerts @jagograhakjago @CMOGuj @ArvindKejriwal @RahulGandhi @MamataOfficial https://t.co/v52oTZfIq6\",\n",
       "       'Hope you have watched this annual round up video on our journey and top successes in 2019.\\n\\nhttps://t.co/BedMNHwxyr',\n",
       "       'Let the shortage of funds not stop you from expanding your #retail business. Explore the #Capital offering by @PineLabs. https://t.co/R3yaehYQkt https://t.co/ebZEG4Ynij',\n",
       "       '#Developers are using our open #APIs to build billing and #payment solutions for #merchants. Know more: https://t.co/eWzOceMcaw https://t.co/L80gWUUlge',\n",
       "       \"@PineLabs  You're deducting money even deactivating the POS. Should I need to file a complaint in consumer forum? @consumerforum\",\n",
       "       '#GrowWithPineLabs #Contest \\nQ2. Which Swedish watch brand benefitted from the integrated payment solutions offered by Pine Labs?\\n\\n✅ RT with your answer using #PineLabs &amp; Tag 3 Friends!\\nHint: Visit this page to find the answer - https://t.co/MfkBmlZG9c\\n\\n#ContestAlert #Giveaway',\n",
       "       '@PineLabs @_vickybindra Autobatch settlement not working.\\nCustomer service tried 5 times waited for 10-10 minutes customer care not answers . Please solve my query before I move to Mswipe. https://t.co/a78JJ3CtjR',\n",
       "       'Third class service worst customer support, untrained sales staff @PineLabs',\n",
       "       \"@PineLabs \\nIt's been 4 months and till date has not received the refund amount cheque post de-Installation of Pine labs Plutus machine and customer care is doing nothing except putting my call on hold and then disconnect.\",\n",
       "       \"@PineLabs We had applied for cancellation of Pine Labs machine in November, which was picked up physically by your rep in January. \\n\\nWe also got a phone call from Pine Support, in December, saying we won't be charged monthly from November onwards. (1/2)\",\n",
       "       '@PineLabs want to purchase Honda 2 wheeler under your offer pl let me know the details and procedures',\n",
       "       'If you have an unresolved query, please follow this link and share details with us. #CustomerExcellence https://t.co/shDBOm3yct',\n",
       "       '@jagdish29547292 Hi, We have forwarded your request to our customer support team. They will get in touch with you shortly. Thanks',\n",
       "       \"@PineLabs pathetic service pine labs doesn't need to provide better services. Customer care representative disconnects the call without giving solution.\\nFalse commitments are being given.\\n@PineLabs #BadService #FridayFacts #FridayThoughts\",\n",
       "       \"Pathetic service @PineLabsIndia. Never recommend @PineLabs to anyone. Incompetent customer service. Its been a month now and they can't resolve my issue. @PineLabsIndia SUCKS...!\",\n",
       "       '@amrishrau your pine lab machine service is to much irritating i register a complaint but my complaint is not solve and complaint is close looser service of @PineLabs i suggest to all never take pine labs machine you have lose your customer.',\n",
       "       '@PineLabs pine lab service is very bad now i have to complain as on date 0/4/03/2020 and the complain no us 01322679 there is no responce from pine lab side and i am daily calling evning and morning they dont have any solution pls solve my problems asap',\n",
       "       \"@PineLabs very bad service.comstomer care doesn't receive call for a long.. I'll definitely not suggesting anyone to use this service and I'll stop using this maschine.\",\n",
       "       '@PineLabs pathetic service i am getting ,from last one month trying to contact my poc ,but they hardly care for us.\\nIs this kind of service you provide.',\n",
       "       '@PineLabs Awaiting your revert on cheating by ur employee Mantu singh since last 2 years. Awaiting refund of whole amount paid to PineLabs aginst Promozone Campaign which never ever happened. Shall we approach Consumer Courts &amp; Police otherwise? Is anybody listening at PineLabs? https://t.co/8tk6VKwH92',\n",
       "       '@jagdish29547292 Dear customer, we were not able to get your contact details from the issue ID shared by you. Please DM us your contact details &amp; our support team will get in touch with you. Thanks.',\n",
       "       'We support #JanataCurfew. Stay home and stay safe. Our field team is #workingfromhome to solve emergency issues. #IndiaFightsCorona #WorldFightsCorona',\n",
       "       'Watch the video to know how you can give your #customers the convenience of paying through #UPI on ePOS by Pine Labs, our newly launched smart and secure #Android mobile payment #application. #digitalpayments #retail @NPCI_NPCI @PCIUpdates @IAMAIForum https://t.co/foWFDSJLiq',\n",
       "       '@PineLabs I had swiped a sum of amount on 08/04/2020 which hasn’t been credited to my Acc yet.. can u plz settle it down plz??',\n",
       "       '@KaleemZaidi2 Dear Kaleem, in case of any query please DM us your contact details &amp; our support team will get in touch with you. Thanks.',\n",
       "       '@PineLabs  hi sir please help me @PineLabs',\n",
       "       '@PineLabs poor servicing and pathetic service.\\nCheating at its max.\\nDebiting 118 per month without providing service and when I raised the issue instead of debiting on 14th of month you debited my account today.\\nShame on @PineLabs',\n",
       "       'Dear @PineLabs i have swiped amount worth 13500 on 25th april 2020 and i made settlement on same date but as on 8th may 2020 i have still not received my payment on my bank.once i raised complaint on email but they are not responding even from more then 5 working days kindly look',\n",
       "       '@PineLabs Unexpected thing happened with a brand. They called there merchant\\'s \"Fraud\" \\nEven without doing any transaction on the account. How a account was flagged with doing txn/illegal activities?\\nSuch a crap app #epos #pinelabs \\nStay away from these fraudulents.',\n",
       "       '@PineLabs I received some transactions on May 5, the amount has not been credited in the bank yet and try to credit it by checking it.  Thank you. https://t.co/kL1eh0ETqR',\n",
       "       'Register now for the third episode of Sampark Live and catch Rupesh Sharma, General Manager Sales, @Vivo_India talk about how consumer behaviour is shifting business models and how industries are adapting to it. https://t.co/Ifr5A5ZdUg\\n#retail #webinar. https://t.co/dWEB5IVcW2',\n",
       "       \"@PineLabs make faster settlement. Your settlement process work like turtle's walking. Aslo make best costomer Support. Your call support very weak.\",\n",
       "       'Video: Sameer Maheshwary, CFO, Pine Labs, taking part in a panel discussion on “Fintechs: Scaling up BFSI” at the recently concluded @ETBFSI Virtual Summit. @amoldethe https://t.co/0oeGYQ8slT https://t.co/daCakeW0zO',\n",
       "       \"@PineLabs Received payment using ePOS...it's already 4 days but haven't received mine payment till now...plz settle the payment ASAP.\",\n",
       "       \"@PineLabs It's been 4 days and the payment is not settled yet. Customer care no. Is just to make fool people. We will get you to the earliest is the voice I heard and it had been 3 days they don't bother to call.\",\n",
       "       '@PineLabs The transaction amount of May 7 has not yet been settled in my account please settled my amount',\n",
       "       '@PineLabs My payment not received \\n\\n😝😝',\n",
       "       'Join in for the third episode of Sampark Live and connect with Rupesh Sharma, General Manager Sales, @Vivo_India. Gain insights on how consumer behaviour is shifting business models and how industries are adapting to it. Register now! #retail #webinar https://t.co/Ifr5A5ZdUg https://t.co/cZjzptVK7b',\n",
       "       '@PineLabs my money is not settled in my bank. . .\\ni received 10k money on 6th march in the epos pine lab app. . . but still not settled. . . why this is taking so much time.  .. https://t.co/nKwGVM4BPa',\n",
       "       '@PineLabs \\nI am trying last 5days to connect with your support team but unable .',\n",
       "       '@PineLabs professionalism which you don’t know and you are not giving appropriate reply to the people who’s cash back is still blocked I want an update on that its been more then 140 days you guys are still not updating what nonsense is going on shame on you and on your team ...',\n",
       "       'This blog highlights how third-party billing apps available on Plutus Smart are helping retailers in increasing their sales. #digitalpayments #retail https://t.co/54loh09uC7 https://t.co/Zui3w7GWhp',\n",
       "       '@PineLabs worst customer service. Your support team is sleeping. Having billing issues since last 6 months and no solution only automated mail stating \"our support staff will get back\". How long.',\n",
       "       \"@PineLabs Hey guys pinelabs isn't taking complaints anymore. their Customer care service is a joke. All they do is shifting their work on other platforms be it mail server or toll free contact. I'm fed up with pinelabs service.🙄🙄\",\n",
       "       \"@_DigitalIndia @NPCI_NPCI @HDFC_Bank @PineLabs \\nDear sir/ma'am ,I would like to bring to your kind notice, due to inefficiency in providing service by both Pine labs and HDFC Bank , till date I am not able to get UPI link connected to my account,which resulted in loss of sales.\",\n",
       "       '@PineLabs I sent request on 9th June for my TMR ID and password to login in my mobile app for digital payment. Still your back end team not provided required information. Very low level quality service from @PineLabs back end team. Service team also not responding properly 😡.',\n",
       "       'Pine Labs’ payment gateway helps you accept payments with ease and allows you to offer a seamless checkout experience to your customers. https://t.co/XJ6CMi1BpF https://t.co/HBcOUOgUSC',\n",
       "       '@PineLabs @RBI while most of the economic companies, malls ,small shops are completely lockdown so as to help in containing the virus. @PineLabs is busy charging rental from those unopened shops. Very unethical. Inhumanity exposed. @amrishrau',\n",
       "       '@MayankT27154270 Dear Sir, we have forwarded your request to our support team will get back to you soon with resolution. Thanks',\n",
       "       '@MayankT27154270 Dear Mayank, we have forwarded your request to our support team. They will get in touch with you. Thanks',\n",
       "       '@PineLabs I have been trying from months to contact you guys and there’s no response from your customer support.\\nI have been trying to return the EDC devices due to technical issues and you guys failed to resolve please take look in to it and resolve issues asap .',\n",
       "       '@PineLabs dear team I want tutorial video of manual and preauth transaction on ur android machine,,,pls share link',\n",
       "       \"@PineLabs @nitishasthana1 @amrishrau      It's been 6 months and till date no one  has called me or has resolved my problem. Your Agra team is useless, it’s better to stop fooling people and stop taking charges if you can’t give us proper business.\",\n",
       "       \"@PineLabs Worst customer services. Service representative don't have any information, I am receiving due amount messages daily, even when I have returned the machine 6 months back, on asking about the information they hang up the call.\",\n",
       "       '@PineLabs hi have never seen a service which charges rental even after closing the account 10 months back... I think this best way to take the peace away from the customers of pine labs',\n",
       "       '@PineLabs \\nDear pine lab, is your only duty is to install the pine lab machine?No after services?\\nI am speaking from pali, Rajasthan 306401.\\nNeither customer care nor your area sales manager is showing any interest in my complaint.\\nAnd the manager is not even picking the call.',\n",
       "       '@coolestyatin Dear Yatin, please DM us your contact details so that we can get in touch with you. Thanks',\n",
       "       '@coolestyatin Dear Sir, we have forwarded your request to our support team they will get back to you soon. Thanks',\n",
       "       '@PineLabs Sir why your service in BHUBANESWAR ODISHA is so poor',\n",
       "       'Checking out your shopping cart just got aﬀordable! Get #InstantEMI on debit &amp; credit cards from all major banks on Pine Labs PoS. For your next purchase, think #PineLabs! \\nKnow more - https://t.co/k5Md66bW5s\\n#payments\\n#CreditCard #DebitCard https://t.co/HSimYsQmPN',\n",
       "       '@PineLabs \\n\\nSir, I transacted with the ePos application for ₹ 300000, you have held that money for 120 days \\n\\nThis is a very wrong thing. I billed you, I gave you my ID card. I have also given you their ID card.',\n",
       "       '@PineLabs @PhonePeSupport  \\nAmount is deducted from Account but @PineLabs  says not yet received. \\nAttaching bank statement https://t.co/zVZbsLiPYe https://t.co/jjEdsYXxuZ',\n",
       "       '@swetahura Dear Sweta, we have forwarded your request to our support team they will get back to you soon. Thanks',\n",
       "       \"@PineLabs I haven't use ur machine since Feb,&amp;have raised complaint to stop the services as well.but how come I have been charged for 13k?Being a small businessman I can't pay in this covid pandemic period  when there is no business. @rsprasad\\n@myogiadityanath @narendramodi\",\n",
       "       \"How do you know if #customers love your #product? @PineLabs' @amrishrau says one way to tell is to “keep looking for pain” from them. Here he breaks down exactly what he means by this to #Surge03 #founders.\\n\\nApply to Surge 04 here: https://t.co/XSg9sbDsyN https://t.co/EjTrDewQZr\",\n",
       "       '@PineLabs  सभी pinelabs ग्राहकों से अपनी बात शेयर करना चाहता हूं कि कोई भी इस कंपनी की मशीन न ले क्योंकि इस कंपनी में इनके ग्राहकों की कोई सुनवाई नही होती है। पिछले 3 महीने से 1 कंपलेन पर लगभग 15 बार बात हो चुकी है फिर भी संतुष्ट पूर्ण जवाब नही मिला है।',\n",
       "       '@PineLabs Unable to login into mine account after factory resetting mine phone....pls help.',\n",
       "       'Our support team is always there to solve all your queries and concerns. Please raise a support request by visiting this link. https://t.co/1HYFLbutAV',\n",
       "       \"Generated TID in January 2020 still haven't received my @PineLabs  money from. My @HDFC_Bank  , very poor service of @HDFC_Bank , I'll close my current account from this bank\",\n",
       "       'I @PineLabs at my store since November last year, ever since dozens of reminders it has not worked once.More than 4 - 5 people just fooling around and harassing without giving a solution.',\n",
       "       '@PineLabs its been more than 8 freaking days but my amount is still not Settled in my bank account. You guys were the only one which called me again and again to use epos but here onwards I will not use epos. I have already raised several complaint already but no solutions yet. https://t.co/lEhe7pg8eB',\n",
       "       '@PineLabs How is it possible that you can increase the amount that is to be debited from my account . I have 2 pos machines in operation and the same thing has happened in both.\\nI would like you to suspend the services right now on both or else i will be taking a legal action.',\n",
       "       'Dear @PineLabs, it has been 20 days, still u do not send engineer to repair my machine. Is this kind of service we should expect from u? @narendramodi Ji @AmitShah ji @FinMinIndia @RBI @_DigitalIndia @AimraIndia #pinelab',\n",
       "       '@PineLabs How to know PID of POS terminal',\n",
       "       '@PineLabs मेरा नाम रोहित कुमार विश्वकर्मा है और मैं शॉप ओनर हूं मेरी शॉप का नाम परफेक्ट मोबाइल एंड इलेक्ट्रॉनिक्स है लेकिन मुझे अपनी निस पॉसिबिलिटी पता है मैंने आपकी मशीन पाइन लैब्स की जोकि 3 साल से ले रखी है लेकिन मुझे नहीं लगता कि उसका कोई रिस्पांसिबल पर्सन हैं',\n",
       "       \"@PineLabs Very poor service from Plutus. In fact it is worst. It's been 4days I had registered a complaint but no action has been taken from plutus team. Nobody contacted us and no one visited us to resolve problem.\",\n",
       "       '@PineLabs Pinelabs horrible service - take away all 10 terminals- zero in customer service - no response from customer service - 1800 number - no answer. Would request to consider another service provider @PineLabs @HDFCBank_Cares',\n",
       "       '@PineLabs dear team need assistance in regards of your credit /debit card machine .loosing signal in between ,tried your toll free number ,but not connecting since 30 min .please help.',\n",
       "       'Proud Partner of @PineLabs 🙏 @ZestMoney powering Pay Later solutions for India since 2015  🇮🇳\\n#DigitalDiwali #BuyNowPayLater\\n\\n@amrishrau @rush2yyz @ashishananAA https://t.co/OOsfwVTyVS',\n",
       "       'Give your customers the convenience of choosing the best #PayLater EMI plan according to their preference.  Our Plutus Smart #PoS allows you to quickly calculate and compare EMI offers across banks and tenures and offer the best plan to your customers. https://t.co/DiNOikY3fd',\n",
       "       '@HDFC_Bank @PineLabs @HDFCBank_Cares worst service I can see since 7 days we are giving you business but you don’t care. Your swipe machine sucks. Your customer services worst. Best private bank of India is ruining business of small retailers. You don’t care.',\n",
       "       \"@PineLabs very poor service and to many others change's charge by pinelabs  without any information\",\n",
       "       'Padma Bhushan F. C. Kohli, the doyen of India’s IT industry is no more. Our condolences to his family and millions of admirers. #RIP.\\n\\nImage credit: @TCS https://t.co/7Jaqnhb39L',\n",
       "       '@PineLabs its been three days since I had locked a complaint no response from your service team end....Unable to go further......I hope this tweet somewhere ring bell...To resolve query... Support.noreply@pinelabs suits....you',\n",
       "       '@PineLabs You have blocked my Epos account without any intimation why?',\n",
       "       '@PineLabs trying to connect with you guys on line since 20mins',\n",
       "       'Help your customers save money and make an informed decision while shopping by comparing #PayLater #EMI offers and tenures on Plutus Smart. \\nKnow more: https://t.co/1x6kGUCKDt\\n\\n#digitalpayments https://t.co/2PXjTZ49NV',\n",
       "       '@PineLabs \\nMere pas 6 Month se pine lab machine he  jab liya tab payment DC Emi ka kiya tha 100 bar complan ki phir bhi aaj tak koi solution nahi mila - ak dam kharab service he pine lab company payment pehle leti he bad me service nahi deti.bahot complain ki lekin koi sunta nahi',\n",
       "       '@PineLabs you need to look at your service, trying since yesterday and not able to find any customer support. Such a pathetic customer support',\n",
       "       '@PineLabs poor services, more than 15 minutes waiting and even not received call, machine is not working from 3 days👎👎',\n",
       "       \"Hey @PineLabs and @HDFC_Bank, 2 of my POS terminals are not working from 2 days and continuing.\\nI tried contacting HDFC they said I should talk to pinelabs and I can't even connect on call with them. I hung up after waiting for 20 mins. I tried getting a callback through their\",\n",
       "       '@PineLabs @amrishrau very miss-leading and miss management by pinelabs i have made transaction of amount more then 125 days before still my payment not received on my account we are already suffering due to covid 19 and also due to this in this crisis time we urge to release it',\n",
       "       '#Boycott @PineLabs  Most #pathetic sales &amp; support team. #No1 should use their machine. They will keep debiting fraudulent charges from your account. U log a complaint they never call back. U call their support nos &amp; they never pick up. And Sales guy thinks he is the #PMOIndia',\n",
       "       \"@PineLabs is one of the worst swipe machine service provider, they will hold all your payments made by customer using credit card and will ask to do hundred formalities to release it! They even ask for customer's consent letter which is a shear joke! @RBI\",\n",
       "       '@PineLabs \\nPurchased mobile on 7th November 2020, I used gift card to make payment &amp; card swipe with Pine Lab Machine, but dealer has not received payment till 15th December, 2020.\\nNow harassing me to make payment.\\nHon.@narendramodi Sir, you encourage us to make digital payment',\n",
       "       '@PineLabs The largest company of fake bills create.\\nSo Dear all retailers dealers plz Do not install this machine.\\n9425409101',\n",
       "       '@FederalBankLtd Visited Honda showroom for availing Debit card EMI offer on two wheeler purchase... They are asking for 3.5% as processing fee. Totally disappointed by the scheme.. Bank shall take proper action with respect to pinelabs 3.5% (Very high) processing fee.\\n@PineLabs'],\n",
       "      dtype=object)"
      ]
     },
     "execution_count": 35,
     "metadata": {},
     "output_type": "execute_result"
    }
   ],
   "source": [
    "select = queries_topic_sents_keywords['Topic_Keywords'].unique()[1]\n",
    "queries_topic_sents_keywords[queries_topic_sents_keywords['Topic_Keywords'] == select]['Text'].values\n"
   ]
  },
  {
   "cell_type": "code",
   "execution_count": 36,
   "metadata": {},
   "outputs": [
    {
     "name": "stderr",
     "output_type": "stream",
     "text": [
      "/Users/pushkar/miniforge3/envs/project/lib/python3.8/site-packages/plotly/io/_renderers.py:395: DeprecationWarning:\n",
      "\n",
      "distutils Version classes are deprecated. Use packaging.version instead.\n",
      "\n",
      "/Users/pushkar/miniforge3/envs/project/lib/python3.8/site-packages/plotly/io/_renderers.py:395: DeprecationWarning:\n",
      "\n",
      "distutils Version classes are deprecated. Use packaging.version instead.\n",
      "\n"
     ]
    },
    {
     "data": {
      "image/svg+xml": "<svg class=\"main-svg\" xmlns=\"http://www.w3.org/2000/svg\" xmlns:xlink=\"http://www.w3.org/1999/xlink\" width=\"900\" height=\"500\" style=\"\" viewBox=\"0 0 900 500\"><rect x=\"0\" y=\"0\" width=\"900\" height=\"500\" style=\"fill: rgb(255, 255, 255); fill-opacity: 1;\"/><defs id=\"defs-d90bd8\"><g class=\"clips\"><clipPath id=\"clipd90bd8xyplot\" class=\"plotclip\"><rect width=\"740\" height=\"320\"/></clipPath><clipPath class=\"axesclip\" id=\"clipd90bd8x\"><rect x=\"80\" y=\"0\" width=\"740\" height=\"500\"/></clipPath><clipPath class=\"axesclip\" id=\"clipd90bd8y\"><rect x=\"0\" y=\"100\" width=\"900\" height=\"320\"/></clipPath><clipPath class=\"axesclip\" id=\"clipd90bd8xy\"><rect x=\"80\" y=\"100\" width=\"740\" height=\"320\"/></clipPath></g><g class=\"gradients\"/><g class=\"patterns\"/></defs><g class=\"bglayer\"><rect class=\"bg\" x=\"80\" y=\"100\" width=\"740\" height=\"320\" style=\"fill: rgb(229, 236, 246); fill-opacity: 1; stroke-width: 0;\"/></g><g class=\"layer-below\"><g class=\"imagelayer\"/><g class=\"shapelayer\"/></g><g class=\"cartesianlayer\"><g class=\"subplot xy\"><g class=\"layer-subplot\"><g class=\"shapelayer\"/><g class=\"imagelayer\"/></g><g class=\"minor-gridlayer\"><g class=\"x\"/><g class=\"y\"/></g><g class=\"gridlayer\"><g class=\"x\"/><g class=\"y\"><path class=\"ygrid crisp\" transform=\"translate(0,368.91)\" d=\"M80,0h740\" style=\"stroke: rgb(255, 255, 255); stroke-opacity: 1; stroke-width: 1px;\"/><path class=\"ygrid crisp\" transform=\"translate(0,317.82)\" d=\"M80,0h740\" style=\"stroke: rgb(255, 255, 255); stroke-opacity: 1; stroke-width: 1px;\"/><path class=\"ygrid crisp\" transform=\"translate(0,266.72)\" d=\"M80,0h740\" style=\"stroke: rgb(255, 255, 255); stroke-opacity: 1; stroke-width: 1px;\"/><path class=\"ygrid crisp\" transform=\"translate(0,215.63)\" d=\"M80,0h740\" style=\"stroke: rgb(255, 255, 255); stroke-opacity: 1; stroke-width: 1px;\"/><path class=\"ygrid crisp\" transform=\"translate(0,164.54000000000002)\" d=\"M80,0h740\" style=\"stroke: rgb(255, 255, 255); stroke-opacity: 1; stroke-width: 1px;\"/><path class=\"ygrid crisp\" transform=\"translate(0,113.45)\" d=\"M80,0h740\" style=\"stroke: rgb(255, 255, 255); stroke-opacity: 1; stroke-width: 1px;\"/></g></g><g class=\"zerolinelayer\"><path class=\"yzl zl crisp\" transform=\"translate(0,420)\" d=\"M80,0h740\" style=\"stroke: rgb(255, 255, 255); stroke-opacity: 1; stroke-width: 2px;\"/></g><path class=\"xlines-below\"/><path class=\"ylines-below\"/><g class=\"overlines-below\"/><g class=\"xaxislayer-below\"/><g class=\"yaxislayer-below\"/><g class=\"overaxes-below\"/><g class=\"plot\" transform=\"translate(80,100)\" clip-path=\"url(#clipd90bd8xyplot)\"><g class=\"barlayer mlayer\"><g class=\"trace bars\" style=\"opacity: 1;\"><g class=\"points\"><g class=\"point\"><path d=\"M18.5,320V16H166.5V320Z\" style=\"vector-effect: non-scaling-stroke; opacity: 1; stroke-width: 0.5px; fill: rgb(99, 110, 250); fill-opacity: 1; stroke: rgb(229, 236, 246); stroke-opacity: 1;\"/></g><g class=\"point\"><path d=\"M573.5,320V26.22H721.5V320Z\" style=\"vector-effect: non-scaling-stroke; opacity: 1; stroke-width: 0.5px; fill: rgb(99, 110, 250); fill-opacity: 1; stroke: rgb(229, 236, 246); stroke-opacity: 1;\"/></g><g class=\"point\"><path d=\"M388.5,320V118.18H536.5V320Z\" style=\"vector-effect: non-scaling-stroke; opacity: 1; stroke-width: 0.5px; fill: rgb(99, 110, 250); fill-opacity: 1; stroke: rgb(229, 236, 246); stroke-opacity: 1;\"/></g><g class=\"point\"><path d=\"M203.5,320V130.96H351.5V320Z\" style=\"vector-effect: non-scaling-stroke; opacity: 1; stroke-width: 0.5px; fill: rgb(99, 110, 250); fill-opacity: 1; stroke: rgb(229, 236, 246); stroke-opacity: 1;\"/></g></g></g></g></g><g class=\"overplot\"/><path class=\"xlines-above crisp\" d=\"M0,0\" style=\"fill: none;\"/><path class=\"ylines-above crisp\" d=\"M0,0\" style=\"fill: none;\"/><g class=\"overlines-above\"/><g class=\"xaxislayer-above\"><g class=\"xtick\"><text text-anchor=\"middle\" x=\"0\" y=\"433\" transform=\"translate(80,0)\" style=\"font-family: 'Open Sans', verdana, arial, sans-serif; font-size: 12px; fill: rgb(42, 63, 95); fill-opacity: 1; white-space: pre; opacity: 1;\">−0.5</text></g><g class=\"xtick\"><text text-anchor=\"middle\" x=\"0\" y=\"433\" style=\"font-family: 'Open Sans', verdana, arial, sans-serif; font-size: 12px; fill: rgb(42, 63, 95); fill-opacity: 1; white-space: pre; opacity: 1;\" transform=\"translate(172.5,0)\">0</text></g><g class=\"xtick\"><text text-anchor=\"middle\" x=\"0\" y=\"433\" style=\"font-family: 'Open Sans', verdana, arial, sans-serif; font-size: 12px; fill: rgb(42, 63, 95); fill-opacity: 1; white-space: pre; opacity: 1;\" transform=\"translate(265,0)\">0.5</text></g><g class=\"xtick\"><text text-anchor=\"middle\" x=\"0\" y=\"433\" style=\"font-family: 'Open Sans', verdana, arial, sans-serif; font-size: 12px; fill: rgb(42, 63, 95); fill-opacity: 1; white-space: pre; opacity: 1;\" transform=\"translate(357.5,0)\">1</text></g><g class=\"xtick\"><text text-anchor=\"middle\" x=\"0\" y=\"433\" style=\"font-family: 'Open Sans', verdana, arial, sans-serif; font-size: 12px; fill: rgb(42, 63, 95); fill-opacity: 1; white-space: pre; opacity: 1;\" transform=\"translate(450,0)\">1.5</text></g><g class=\"xtick\"><text text-anchor=\"middle\" x=\"0\" y=\"433\" style=\"font-family: 'Open Sans', verdana, arial, sans-serif; font-size: 12px; fill: rgb(42, 63, 95); fill-opacity: 1; white-space: pre; opacity: 1;\" transform=\"translate(542.5,0)\">2</text></g><g class=\"xtick\"><text text-anchor=\"middle\" x=\"0\" y=\"433\" style=\"font-family: 'Open Sans', verdana, arial, sans-serif; font-size: 12px; fill: rgb(42, 63, 95); fill-opacity: 1; white-space: pre; opacity: 1;\" transform=\"translate(635,0)\">2.5</text></g><g class=\"xtick\"><text text-anchor=\"middle\" x=\"0\" y=\"433\" style=\"font-family: 'Open Sans', verdana, arial, sans-serif; font-size: 12px; fill: rgb(42, 63, 95); fill-opacity: 1; white-space: pre; opacity: 1;\" transform=\"translate(727.5,0)\">3</text></g><g class=\"xtick\"><text text-anchor=\"middle\" x=\"0\" y=\"433\" style=\"font-family: 'Open Sans', verdana, arial, sans-serif; font-size: 12px; fill: rgb(42, 63, 95); fill-opacity: 1; white-space: pre; opacity: 1;\" transform=\"translate(820,0)\">3.5</text></g></g><g class=\"yaxislayer-above\"><g class=\"ytick\"><text text-anchor=\"end\" x=\"79\" y=\"4.199999999999999\" transform=\"translate(0,420)\" style=\"font-family: 'Open Sans', verdana, arial, sans-serif; font-size: 12px; fill: rgb(42, 63, 95); fill-opacity: 1; white-space: pre; opacity: 1;\">0</text></g><g class=\"ytick\"><text text-anchor=\"end\" x=\"79\" y=\"4.199999999999999\" style=\"font-family: 'Open Sans', verdana, arial, sans-serif; font-size: 12px; fill: rgb(42, 63, 95); fill-opacity: 1; white-space: pre; opacity: 1;\" transform=\"translate(0,368.91)\">20</text></g><g class=\"ytick\"><text text-anchor=\"end\" x=\"79\" y=\"4.199999999999999\" style=\"font-family: 'Open Sans', verdana, arial, sans-serif; font-size: 12px; fill: rgb(42, 63, 95); fill-opacity: 1; white-space: pre; opacity: 1;\" transform=\"translate(0,317.82)\">40</text></g><g class=\"ytick\"><text text-anchor=\"end\" x=\"79\" y=\"4.199999999999999\" style=\"font-family: 'Open Sans', verdana, arial, sans-serif; font-size: 12px; fill: rgb(42, 63, 95); fill-opacity: 1; white-space: pre; opacity: 1;\" transform=\"translate(0,266.72)\">60</text></g><g class=\"ytick\"><text text-anchor=\"end\" x=\"79\" y=\"4.199999999999999\" style=\"font-family: 'Open Sans', verdana, arial, sans-serif; font-size: 12px; fill: rgb(42, 63, 95); fill-opacity: 1; white-space: pre; opacity: 1;\" transform=\"translate(0,215.63)\">80</text></g><g class=\"ytick\"><text text-anchor=\"end\" x=\"79\" y=\"4.199999999999999\" style=\"font-family: 'Open Sans', verdana, arial, sans-serif; font-size: 12px; fill: rgb(42, 63, 95); fill-opacity: 1; white-space: pre; opacity: 1;\" transform=\"translate(0,164.54000000000002)\">100</text></g><g class=\"ytick\"><text text-anchor=\"end\" x=\"79\" y=\"4.199999999999999\" style=\"font-family: 'Open Sans', verdana, arial, sans-serif; font-size: 12px; fill: rgb(42, 63, 95); fill-opacity: 1; white-space: pre; opacity: 1;\" transform=\"translate(0,113.45)\">120</text></g></g><g class=\"overaxes-above\"/></g></g><g class=\"polarlayer\"/><g class=\"smithlayer\"/><g class=\"ternarylayer\"/><g class=\"geolayer\"/><g class=\"funnelarealayer\"/><g class=\"pielayer\"/><g class=\"iciclelayer\"/><g class=\"treemaplayer\"/><g class=\"sunburstlayer\"/><g class=\"glimages\"/><defs id=\"topdefs-d90bd8\"><g class=\"clips\"/></defs><g class=\"layer-above\"><g class=\"imagelayer\"/><g class=\"shapelayer\"/></g><g class=\"infolayer\"><g class=\"g-gtitle\"><text class=\"gtitle\" x=\"45\" y=\"50\" text-anchor=\"start\" dy=\"0em\" style=\"font-family: 'Open Sans', verdana, arial, sans-serif; font-size: 17px; fill: rgb(42, 63, 95); opacity: 1; font-weight: normal; white-space: pre;\">Topics Distribution</text></g><g class=\"g-xtitle\"><text class=\"xtitle\" x=\"450\" y=\"460.3\" text-anchor=\"middle\" style=\"font-family: 'Open Sans', verdana, arial, sans-serif; font-size: 14px; fill: rgb(42, 63, 95); opacity: 1; font-weight: normal; white-space: pre;\">Topic_Numbers</text></g><g class=\"g-ytitle\"><text class=\"ytitle\" transform=\"rotate(-90,31.309375000000003,260)\" x=\"31.309375000000003\" y=\"260\" text-anchor=\"middle\" style=\"font-family: 'Open Sans', verdana, arial, sans-serif; font-size: 14px; fill: rgb(42, 63, 95); opacity: 1; font-weight: normal; white-space: pre;\">Document_Counts</text></g></g></svg>"
     },
     "metadata": {},
     "output_type": "display_data"
    }
   ],
   "source": [
    "queries_dist, fig = processor.plot_topic_distribution(queries_topic_sents_keywords)\n",
    "fig.show()"
   ]
  },
  {
   "cell_type": "code",
   "execution_count": null,
   "metadata": {},
   "outputs": [],
   "source": []
  }
 ],
 "metadata": {
  "kernelspec": {
   "display_name": "Python 3.8.13 ('project')",
   "language": "python",
   "name": "python3"
  },
  "language_info": {
   "codemirror_mode": {
    "name": "ipython",
    "version": 3
   },
   "file_extension": ".py",
   "mimetype": "text/x-python",
   "name": "python",
   "nbconvert_exporter": "python",
   "pygments_lexer": "ipython3",
   "version": "3.8.13"
  },
  "orig_nbformat": 4,
  "vscode": {
   "interpreter": {
    "hash": "af77eb27f514ee114388f6898d9553454263f7eea260918546d16a8e581c8922"
   }
  }
 },
 "nbformat": 4,
 "nbformat_minor": 2
}
