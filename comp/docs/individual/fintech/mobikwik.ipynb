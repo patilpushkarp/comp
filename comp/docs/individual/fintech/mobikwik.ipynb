{
 "cells": [
  {
   "cell_type": "markdown",
   "metadata": {},
   "source": [
    "# Mobikwik"
   ]
  },
  {
   "cell_type": "code",
   "execution_count": 3,
   "metadata": {},
   "outputs": [],
   "source": [
    "import glob\n",
    "import pandas as pd\n",
    "import gensim\n",
    "import spacy\n",
    "import numpy as np\n",
    "import tqdm.notebook as tqdm\n",
    "from pprint import pprint\n",
    "\n",
    "import sys\n",
    "sys.path.append('/Users/pushkar/Documents/projects/fin_comp/comp/docs')\n",
    "from utils.helper import preprocess_tweet, sentence_to_words, lemmatization"
   ]
  },
  {
   "cell_type": "code",
   "execution_count": 62,
   "metadata": {},
   "outputs": [],
   "source": [
    "df = pd.read_csv('./../../data/fintech/mobikwik/mobikwik.csv')"
   ]
  },
  {
   "cell_type": "code",
   "execution_count": 63,
   "metadata": {},
   "outputs": [
    {
     "data": {
      "text/plain": [
       "(53210, 27)"
      ]
     },
     "execution_count": 63,
     "metadata": {},
     "output_type": "execute_result"
    }
   ],
   "source": [
    "df.shape"
   ]
  },
  {
   "cell_type": "code",
   "execution_count": 64,
   "metadata": {},
   "outputs": [],
   "source": [
    "pre_df = df[df['date'] < '2020-02-01']\n",
    "post_df = df[df['date'] >= '2020-02-01']"
   ]
  },
  {
   "cell_type": "markdown",
   "metadata": {},
   "source": [
    "## Preprocessing"
   ]
  },
  {
   "cell_type": "code",
   "execution_count": 65,
   "metadata": {},
   "outputs": [
    {
     "name": "stderr",
     "output_type": "stream",
     "text": [
      "/var/folders/zl/bqtzmz3s0xl5_ddgbjsqxsww0000gn/T/ipykernel_86453/1398106268.py:2: SettingWithCopyWarning: \n",
      "A value is trying to be set on a copy of a slice from a DataFrame.\n",
      "Try using .loc[row_indexer,col_indexer] = value instead\n",
      "\n",
      "See the caveats in the documentation: https://pandas.pydata.org/pandas-docs/stable/user_guide/indexing.html#returning-a-view-versus-a-copy\n",
      "  pre_df['preprocessed'] = pre_df['tweet'].apply(preprocess_tweet)\n",
      "/var/folders/zl/bqtzmz3s0xl5_ddgbjsqxsww0000gn/T/ipykernel_86453/1398106268.py:3: SettingWithCopyWarning: \n",
      "A value is trying to be set on a copy of a slice from a DataFrame.\n",
      "Try using .loc[row_indexer,col_indexer] = value instead\n",
      "\n",
      "See the caveats in the documentation: https://pandas.pydata.org/pandas-docs/stable/user_guide/indexing.html#returning-a-view-versus-a-copy\n",
      "  post_df['preprocessed'] = post_df['tweet'].apply(preprocess_tweet)\n"
     ]
    }
   ],
   "source": [
    "# Preprocess tweets\n",
    "pre_df['preprocessed'] = pre_df['tweet'].apply(preprocess_tweet)\n",
    "post_df['preprocessed'] = post_df['tweet'].apply(preprocess_tweet)"
   ]
  },
  {
   "cell_type": "code",
   "execution_count": 66,
   "metadata": {},
   "outputs": [],
   "source": [
    "# Create words data\n",
    "pre_data = pre_df['preprocessed'].values.tolist()\n",
    "# fintech_data_words = list(sentence_to_words(fintech_data))\n",
    "pre_data_words = list(sentence_to_words(pre_data))\n",
    "\n",
    "# Create words data\n",
    "post_data = post_df['preprocessed'].values.tolist()\n",
    "# fintech_data_words = list(sentence_to_words(fintech_data))\n",
    "post_data_words = list(sentence_to_words(post_data))"
   ]
  },
  {
   "cell_type": "code",
   "execution_count": 67,
   "metadata": {},
   "outputs": [],
   "source": [
    "# For pre-covid period\n",
    "# Build bigram and trigram models\n",
    "pre_bigram = gensim.models.phrases.Phrases(pre_data_words, min_count=5, threshold=10, connector_words=gensim.models.phrases.ENGLISH_CONNECTOR_WORDS)\n",
    "pre_trigram = gensim.models.phrases.Phrases(pre_bigram[pre_data_words], threshold=100)\n",
    "\n",
    "pre_bigram_model = gensim.models.phrases.Phraser(pre_bigram)\n",
    "pre_trigram_model = gensim.models.phrases.Phraser(pre_trigram)\n",
    "\n",
    "# For post-covid period\n",
    "# Build bigram and trigram models\n",
    "post_bigram = gensim.models.phrases.Phrases(post_data_words, min_count=5, threshold=10, connector_words=gensim.models.phrases.ENGLISH_CONNECTOR_WORDS)\n",
    "post_trigram = gensim.models.phrases.Phrases(post_bigram[post_data_words], threshold=100)\n",
    "\n",
    "post_bigram_model = gensim.models.phrases.Phraser(post_bigram)\n",
    "post_trigram_model = gensim.models.phrases.Phraser(post_trigram)"
   ]
  },
  {
   "cell_type": "code",
   "execution_count": 68,
   "metadata": {},
   "outputs": [
    {
     "name": "stderr",
     "output_type": "stream",
     "text": [
      "/var/folders/zl/bqtzmz3s0xl5_ddgbjsqxsww0000gn/T/ipykernel_86453/4258172292.py:2: SettingWithCopyWarning: \n",
      "A value is trying to be set on a copy of a slice from a DataFrame.\n",
      "Try using .loc[row_indexer,col_indexer] = value instead\n",
      "\n",
      "See the caveats in the documentation: https://pandas.pydata.org/pandas-docs/stable/user_guide/indexing.html#returning-a-view-versus-a-copy\n",
      "  pre_df['preprocessed'] = pre_df['preprocessed'].apply(gensim.parsing.preprocessing.remove_stopwords)\n",
      "/var/folders/zl/bqtzmz3s0xl5_ddgbjsqxsww0000gn/T/ipykernel_86453/4258172292.py:3: SettingWithCopyWarning: \n",
      "A value is trying to be set on a copy of a slice from a DataFrame.\n",
      "Try using .loc[row_indexer,col_indexer] = value instead\n",
      "\n",
      "See the caveats in the documentation: https://pandas.pydata.org/pandas-docs/stable/user_guide/indexing.html#returning-a-view-versus-a-copy\n",
      "  post_df['preprocessed'] = post_df['preprocessed'].apply(gensim.parsing.preprocessing.remove_stopwords)\n"
     ]
    }
   ],
   "source": [
    "# Remove stopwords\n",
    "pre_df['preprocessed'] = pre_df['preprocessed'].apply(gensim.parsing.preprocessing.remove_stopwords)\n",
    "post_df['preprocessed'] = post_df['preprocessed'].apply(gensim.parsing.preprocessing.remove_stopwords)"
   ]
  },
  {
   "cell_type": "code",
   "execution_count": 69,
   "metadata": {},
   "outputs": [
    {
     "name": "stderr",
     "output_type": "stream",
     "text": [
      "/var/folders/zl/bqtzmz3s0xl5_ddgbjsqxsww0000gn/T/ipykernel_86453/3599064045.py:1: SettingWithCopyWarning: \n",
      "A value is trying to be set on a copy of a slice from a DataFrame.\n",
      "Try using .loc[row_indexer,col_indexer] = value instead\n",
      "\n",
      "See the caveats in the documentation: https://pandas.pydata.org/pandas-docs/stable/user_guide/indexing.html#returning-a-view-versus-a-copy\n",
      "  pre_df['sep_words'] = pre_df['preprocessed'].apply(lambda x: list(sentence_to_words([x]))[0])\n",
      "/var/folders/zl/bqtzmz3s0xl5_ddgbjsqxsww0000gn/T/ipykernel_86453/3599064045.py:2: SettingWithCopyWarning: \n",
      "A value is trying to be set on a copy of a slice from a DataFrame.\n",
      "Try using .loc[row_indexer,col_indexer] = value instead\n",
      "\n",
      "See the caveats in the documentation: https://pandas.pydata.org/pandas-docs/stable/user_guide/indexing.html#returning-a-view-versus-a-copy\n",
      "  post_df['sep_words'] = post_df['preprocessed'].apply(lambda x: list(sentence_to_words([x]))[0])\n"
     ]
    }
   ],
   "source": [
    "pre_df['sep_words'] = pre_df['preprocessed'].apply(lambda x: list(sentence_to_words([x]))[0])\n",
    "post_df['sep_words'] = post_df['preprocessed'].apply(lambda x: list(sentence_to_words([x]))[0])"
   ]
  },
  {
   "cell_type": "code",
   "execution_count": 70,
   "metadata": {},
   "outputs": [
    {
     "name": "stderr",
     "output_type": "stream",
     "text": [
      "/var/folders/zl/bqtzmz3s0xl5_ddgbjsqxsww0000gn/T/ipykernel_86453/1623641631.py:1: SettingWithCopyWarning: \n",
      "A value is trying to be set on a copy of a slice from a DataFrame.\n",
      "Try using .loc[row_indexer,col_indexer] = value instead\n",
      "\n",
      "See the caveats in the documentation: https://pandas.pydata.org/pandas-docs/stable/user_guide/indexing.html#returning-a-view-versus-a-copy\n",
      "  pre_df['bigram'] = pre_df['sep_words'].apply(lambda x: pre_bigram_model[x])\n",
      "/var/folders/zl/bqtzmz3s0xl5_ddgbjsqxsww0000gn/T/ipykernel_86453/1623641631.py:2: SettingWithCopyWarning: \n",
      "A value is trying to be set on a copy of a slice from a DataFrame.\n",
      "Try using .loc[row_indexer,col_indexer] = value instead\n",
      "\n",
      "See the caveats in the documentation: https://pandas.pydata.org/pandas-docs/stable/user_guide/indexing.html#returning-a-view-versus-a-copy\n",
      "  post_df['bigram'] = post_df['sep_words'].apply(lambda x: post_bigram_model[x])\n"
     ]
    }
   ],
   "source": [
    "pre_df['bigram'] = pre_df['sep_words'].apply(lambda x: pre_bigram_model[x])\n",
    "post_df['bigram'] = post_df['sep_words'].apply(lambda x: post_bigram_model[x])"
   ]
  },
  {
   "cell_type": "code",
   "execution_count": 71,
   "metadata": {},
   "outputs": [
    {
     "name": "stderr",
     "output_type": "stream",
     "text": [
      "/var/folders/zl/bqtzmz3s0xl5_ddgbjsqxsww0000gn/T/ipykernel_86453/1589984664.py:1: SettingWithCopyWarning: \n",
      "A value is trying to be set on a copy of a slice from a DataFrame.\n",
      "Try using .loc[row_indexer,col_indexer] = value instead\n",
      "\n",
      "See the caveats in the documentation: https://pandas.pydata.org/pandas-docs/stable/user_guide/indexing.html#returning-a-view-versus-a-copy\n",
      "  pre_df['trigram'] = pre_df['bigram'].apply(lambda x: [pre_trigram_model[x]])\n",
      "/var/folders/zl/bqtzmz3s0xl5_ddgbjsqxsww0000gn/T/ipykernel_86453/1589984664.py:2: SettingWithCopyWarning: \n",
      "A value is trying to be set on a copy of a slice from a DataFrame.\n",
      "Try using .loc[row_indexer,col_indexer] = value instead\n",
      "\n",
      "See the caveats in the documentation: https://pandas.pydata.org/pandas-docs/stable/user_guide/indexing.html#returning-a-view-versus-a-copy\n",
      "  post_df['trigram'] = post_df['bigram'].apply(lambda x: [post_trigram_model[x]])\n"
     ]
    }
   ],
   "source": [
    "pre_df['trigram'] = pre_df['bigram'].apply(lambda x: [pre_trigram_model[x]])\n",
    "post_df['trigram'] = post_df['bigram'].apply(lambda x: [post_trigram_model[x]])"
   ]
  },
  {
   "cell_type": "code",
   "execution_count": 72,
   "metadata": {},
   "outputs": [],
   "source": [
    "pre_id2word = gensim.corpora.Dictionary(pre_df['bigram'].values.tolist())\n",
    "post_id2word = gensim.corpora.Dictionary(post_df['bigram'].values.tolist())"
   ]
  },
  {
   "cell_type": "code",
   "execution_count": 73,
   "metadata": {},
   "outputs": [],
   "source": [
    "pre_corpus = [pre_id2word.doc2bow(text) for text in pre_df['bigram'].values.tolist()]\n",
    "post_corpus = [post_id2word.doc2bow(text) for text in post_df['bigram'].values.tolist()]"
   ]
  },
  {
   "cell_type": "markdown",
   "metadata": {},
   "source": [
    "## Base Model"
   ]
  },
  {
   "cell_type": "markdown",
   "metadata": {},
   "source": [
    "### Training"
   ]
  },
  {
   "cell_type": "code",
   "execution_count": 18,
   "metadata": {},
   "outputs": [],
   "source": [
    "pre_lda_model = gensim.models.LdaMulticore(corpus=pre_corpus,\n",
    "                                        id2word=pre_id2word,\n",
    "                                        num_topics=10,\n",
    "                                        random_state=42,\n",
    "                                        chunksize=100,\n",
    "                                        passes=10,\n",
    "                                        per_word_topics=True)"
   ]
  },
  {
   "cell_type": "code",
   "execution_count": 19,
   "metadata": {},
   "outputs": [
    {
     "name": "stdout",
     "output_type": "stream",
     "text": [
      "[(0,\n",
      "  '0.029*\"mobikwik\" + 0.027*\"fraud\" + 0.023*\"issue\" + 0.013*\"response\" + '\n",
      "  '0.013*\"guys\" + 0.013*\"team\" + 0.013*\"customer_care\" + 0.010*\"days\" + '\n",
      "  '0.010*\"resolve\" + 0.010*\"support\"'),\n",
      " (1,\n",
      "  '0.041*\"mobikwik\" + 0.018*\"dm\" + 0.013*\"help\" + 0.012*\"money\" + '\n",
      "  '0.012*\"share\" + 0.011*\"thanks\" + 0.011*\"hi\" + 0.010*\"reply\" + 0.009*\"hello\" '\n",
      "  '+ 0.009*\"ur\"'),\n",
      " (2,\n",
      "  '0.021*\"mobikwik\" + 0.021*\"hai\" + 0.019*\"se\" + 0.013*\"ka\" + 0.011*\"sir\" + '\n",
      "  '0.010*\"ki\" + 0.009*\"ke\" + 0.009*\"nhi\" + 0.008*\"mera\" + 0.008*\"ko\"'),\n",
      " (3,\n",
      "  '0.108*\"mobikwik\" + 0.069*\"supercash\" + 0.063*\"rs\" + 0.049*\"use\" + '\n",
      "  '0.043*\"cashback\" + 0.038*\"offer\" + 0.034*\"wallet\" + 0.019*\"sign\" + '\n",
      "  '0.018*\"referral_code\" + 0.014*\"upi\"'),\n",
      " (4,\n",
      "  '0.066*\"mobikwik\" + 0.029*\"payment\" + 0.023*\"account\" + 0.018*\"app\" + '\n",
      "  '0.016*\"paytm\" + 0.010*\"kyc\" + 0.010*\"mobile\" + 0.010*\"able\" + 0.010*\"pay\" + '\n",
      "  '0.009*\"option\"'),\n",
      " (5,\n",
      "  '0.035*\"mobikwik\" + 0.019*\"insurance_today\" + 0.018*\"millennial_burger\" + '\n",
      "  '0.018*\"cleartax_mature\" + 0.016*\"abey\" + 0.015*\"congratulations\" + '\n",
      "  '0.011*\"apply\" + 0.011*\"payment_gateway\" + 0.010*\"book\" + 0.009*\"thanks\"'),\n",
      " (6,\n",
      "  '0.046*\"mobikwik\" + 0.046*\"money\" + 0.039*\"wallet\" + 0.031*\"account\" + '\n",
      "  '0.023*\"refund\" + 0.022*\"transaction\" + 0.016*\"bank\" + 0.015*\"payment\" + '\n",
      "  '0.014*\"deducted\" + 0.013*\"rs\"'),\n",
      " (7,\n",
      "  '0.044*\"mobikwik\" + 0.028*\"share\" + 0.021*\"ask\" + 0.015*\"users\" + '\n",
      "  '0.013*\"offers\" + 0.013*\"details\" + 0.011*\"link\" + 0.009*\"join\" + '\n",
      "  '0.009*\"confidential_information\" + 0.009*\"representatives\"'),\n",
      " (8,\n",
      "  '0.024*\"mobikwik\" + 0.019*\"payments_firm\" + 0.018*\"indias_mobile\" + '\n",
      "  '0.018*\"mobikwik_reaches\" + 0.018*\"rare_key\" + 0.018*\"profit_milestone\" + '\n",
      "  '0.010*\"firm_mobikwik\" + 0.009*\"international_ambitions\" + '\n",
      "  '0.008*\"crossborder_mobile\" + 0.008*\"kickstarts\"'),\n",
      " (9,\n",
      "  '0.035*\"mobikwik\" + 0.032*\"app\" + 0.019*\"india\" + 0.010*\"best\" + '\n",
      "  '0.008*\"worst\" + 0.007*\"use\" + 0.007*\"digital\" + 0.007*\"going\" + '\n",
      "  '0.007*\"good\" + 0.006*\"happening\"')]\n"
     ]
    }
   ],
   "source": [
    "pprint(pre_lda_model.print_topics())\n",
    "pre_doc_lda = pre_lda_model[pre_corpus]"
   ]
  },
  {
   "cell_type": "code",
   "execution_count": 20,
   "metadata": {},
   "outputs": [],
   "source": [
    "post_lda_model = gensim.models.LdaMulticore(corpus=post_corpus,\n",
    "                                        id2word=post_id2word,\n",
    "                                        num_topics=10,\n",
    "                                        random_state=42,\n",
    "                                        chunksize=100,\n",
    "                                        passes=10,\n",
    "                                        per_word_topics=True)"
   ]
  },
  {
   "cell_type": "code",
   "execution_count": 21,
   "metadata": {},
   "outputs": [
    {
     "name": "stdout",
     "output_type": "stream",
     "text": [
      "[(0,\n",
      "  '0.035*\"mobikwik\" + 0.019*\"help\" + 0.015*\"payment\" + 0.014*\"apna\" + '\n",
      "  '0.013*\"paid\" + 0.012*\"want\" + 0.011*\"check\" + 0.011*\"updated\" + '\n",
      "  '0.009*\"ticket_id\" + 0.009*\"received\"'),\n",
      " (1,\n",
      "  '0.031*\"hai\" + 0.024*\"switch\" + 0.021*\"mobikwik\" + 0.021*\"se\" + 0.015*\"ka\" + '\n",
      "  '0.014*\"start\" + 0.013*\"apps\" + 0.013*\"bhi\" + 0.012*\"products\" + 0.012*\"ki\"'),\n",
      " (2,\n",
      "  '0.030*\"mobikwik\" + 0.018*\"emi\" + 0.015*\"loan\" + 0.008*\"moratorium\" + '\n",
      "  '0.008*\"sir\" + 0.008*\"customer\" + 0.008*\"change\" + 0.007*\"kya\" + '\n",
      "  '0.007*\"company\" + 0.007*\"buy\"'),\n",
      " (3,\n",
      "  '0.055*\"mobikwik\" + 0.015*\"share\" + 0.014*\"thanks\" + 0.013*\"hi\" + '\n",
      "  '0.012*\"users\" + 0.010*\"details\" + 0.009*\"concern\" + 0.009*\"request\" + '\n",
      "  '0.008*\"dm\" + 0.008*\"freecharge\"'),\n",
      " (4,\n",
      "  '0.054*\"mobikwik\" + 0.031*\"right\" + 0.023*\"assist\" + 0.019*\"response\" + '\n",
      "  '0.018*\"payment\" + 0.018*\"didnt_receive\" + 0.015*\"wallet\" + 0.015*\"till\" + '\n",
      "  '0.015*\"assistance_required\" + 0.014*\"link\"'),\n",
      " (5,\n",
      "  '0.047*\"mobikwik\" + 0.038*\"recharge\" + 0.028*\"app\" + 0.020*\"payment\" + '\n",
      "  '0.019*\"pay\" + 0.018*\"paytm\" + 0.013*\"option\" + 0.011*\"use\" + '\n",
      "  '0.010*\"payments\" + 0.010*\"unable\"'),\n",
      " (6,\n",
      "  '0.082*\"mobikwik\" + 0.075*\"truly_indian\" + 0.071*\"payments_app\" + '\n",
      "  '0.049*\"continue\" + 0.048*\"reach\" + 0.044*\"thanks\" + 0.031*\"thank\" + '\n",
      "  '0.028*\"case\" + 0.017*\"giving\" + 0.016*\"appreciate\"'),\n",
      " (7,\n",
      "  '0.040*\"mobikwik\" + 0.030*\"account\" + 0.027*\"money\" + 0.024*\"wallet\" + '\n",
      "  '0.024*\"refund\" + 0.020*\"payment\" + 0.019*\"transaction\" + 0.016*\"issue\" + '\n",
      "  '0.014*\"help\" + 0.011*\"rs\"'),\n",
      " (8,\n",
      "  '0.089*\"mobikwik\" + 0.047*\"supercash\" + 0.031*\"rs\" + 0.030*\"offer\" + '\n",
      "  '0.025*\"use\" + 0.024*\"cashback\" + 0.018*\"recharge\" + 0.014*\"lets\" + '\n",
      "  '0.011*\"upi\" + 0.011*\"pay\"'),\n",
      " (9,\n",
      "  '0.118*\"app\" + 0.062*\"indian\" + 0.053*\"support\" + 0.052*\"mobikwik\" + '\n",
      "  '0.037*\"use\" + 0.037*\"truly_indian\" + 0.032*\"download\" + 0.029*\"payment\" + '\n",
      "  '0.021*\"payments\" + 0.018*\"time\"')]\n"
     ]
    }
   ],
   "source": [
    "pprint(post_lda_model.print_topics())\n",
    "post_doc_lda = post_lda_model[post_corpus]"
   ]
  },
  {
   "cell_type": "markdown",
   "metadata": {},
   "source": [
    "### Evaluation"
   ]
  },
  {
   "cell_type": "code",
   "execution_count": 22,
   "metadata": {},
   "outputs": [
    {
     "name": "stdout",
     "output_type": "stream",
     "text": [
      "Pre-COVID Coherence Score:  -7.012563066749388\n"
     ]
    }
   ],
   "source": [
    "pre_coherence_model_lda = gensim.models.CoherenceModel(model=pre_lda_model, \n",
    "                                                    texts=pre_df['bigram'].values.tolist(), \n",
    "                                                    dictionary=pre_id2word, \n",
    "                                                    coherence='u_mass')\n",
    "pre_coherence_lda = pre_coherence_model_lda.get_coherence()\n",
    "print('Pre-COVID Coherence Score: ', pre_coherence_lda)"
   ]
  },
  {
   "cell_type": "code",
   "execution_count": 23,
   "metadata": {},
   "outputs": [
    {
     "name": "stdout",
     "output_type": "stream",
     "text": [
      "Post-COVID Coherence Score:  -5.4178150781011585\n"
     ]
    }
   ],
   "source": [
    "post_coherence_model_lda = gensim.models.CoherenceModel(model=post_lda_model, \n",
    "                                                    texts=post_df['bigram'].values.tolist(), \n",
    "                                                    dictionary=post_id2word, \n",
    "                                                    coherence='u_mass')\n",
    "post_coherence_lda = post_coherence_model_lda.get_coherence()\n",
    "print('Post-COVID Coherence Score: ', post_coherence_lda)"
   ]
  },
  {
   "cell_type": "markdown",
   "metadata": {},
   "source": [
    "## Hyper-parameter tuning"
   ]
  },
  {
   "cell_type": "code",
   "execution_count": 24,
   "metadata": {},
   "outputs": [],
   "source": [
    "def compute_coherence_values(corpus, dictionary, k, alpha, beta, texts, coherence='u_mass'):\n",
    "    \n",
    "    lda_model = gensim.models.LdaMulticore(corpus=corpus,\n",
    "                                           id2word=dictionary,\n",
    "                                           num_topics=k, \n",
    "                                           random_state=100,\n",
    "                                           chunksize=100,\n",
    "                                           passes=10,\n",
    "                                           alpha=alpha,\n",
    "                                           eta=beta)\n",
    "    \n",
    "    coherence_model_lda = gensim.models.CoherenceModel(model=lda_model, \n",
    "                                                        texts=texts, \n",
    "                                                        dictionary=dictionary, \n",
    "                                                        coherence=coherence)\n",
    "    \n",
    "    return coherence_model_lda.get_coherence()"
   ]
  },
  {
   "cell_type": "markdown",
   "metadata": {},
   "source": [
    "### Pre-COVID"
   ]
  },
  {
   "cell_type": "code",
   "execution_count": 25,
   "metadata": {},
   "outputs": [],
   "source": [
    "grid = {}\n",
    "grid['Validation_Set'] = {}"
   ]
  },
  {
   "cell_type": "code",
   "execution_count": 26,
   "metadata": {},
   "outputs": [],
   "source": [
    "corpus = pre_corpus"
   ]
  },
  {
   "cell_type": "code",
   "execution_count": 27,
   "metadata": {},
   "outputs": [],
   "source": [
    "# Topics range\n",
    "min_topics = 2\n",
    "max_topics = 31\n",
    "step_size = 1\n",
    "topics_range = range(min_topics, max_topics, step_size)\n",
    "\n",
    "# Alpha parameter\n",
    "alpha = list(np.arange(0.01, 1, 0.3))\n",
    "alpha.append('symmetric')\n",
    "alpha.append('asymmetric')\n",
    "\n",
    "# Beta parameter\n",
    "beta = list(np.arange(0.01, 1, 0.3))\n",
    "beta.append('symmetric')\n",
    "\n",
    "# Validation sets\n",
    "num_of_docs = len(corpus)\n",
    "corpus_sets = [gensim.utils.ClippedCorpus(corpus, int(num_of_docs*0.75)), \n",
    "               corpus]\n",
    "corpus_title = ['75% Corpus', '100% Corpus']\n",
    "model_results = {'Validation_Set': [],\n",
    "                 'Topics': [],\n",
    "                 'Alpha': [],\n",
    "                 'Beta': [],\n",
    "                 'Coherence': []\n",
    "                }"
   ]
  },
  {
   "cell_type": "code",
   "execution_count": 28,
   "metadata": {},
   "outputs": [],
   "source": [
    "iterations = len(topics_range) * len(alpha) * len(beta) * len(corpus_sets)"
   ]
  },
  {
   "cell_type": "code",
   "execution_count": 29,
   "metadata": {},
   "outputs": [
    {
     "data": {
      "application/vnd.jupyter.widget-view+json": {
       "model_id": "fc68b3315f04418da998c7c289af4a94",
       "version_major": 2,
       "version_minor": 0
      },
      "text/plain": [
       "  0%|          | 0/1740 [00:00<?, ?it/s]"
      ]
     },
     "metadata": {},
     "output_type": "display_data"
    }
   ],
   "source": [
    "# Can take a long time to run\n",
    "if 1 == 1:\n",
    "    pbar = tqdm.tqdm(total=iterations)\n",
    "    \n",
    "    # iterate through validation corpuses\n",
    "    for i in range(len(corpus_sets)):\n",
    "        # iterate through number of topics\n",
    "        for k in topics_range:\n",
    "            # iterate through alpha values\n",
    "            for a in alpha:\n",
    "                # iterare through beta values\n",
    "                for b in beta:\n",
    "                    # get the coherence score for the given parameters\n",
    "                    cv = compute_coherence_values(corpus=corpus_sets[i], \n",
    "                                                  dictionary=pre_id2word, \n",
    "                                                  k=k, alpha=a, beta=b,\n",
    "                                                  texts=pre_df['bigram'].values.tolist(),\n",
    "                                                  coherence='u_mass')\n",
    "                    # Save the model results\n",
    "                    model_results['Validation_Set'].append(corpus_title[i])\n",
    "                    model_results['Topics'].append(k)\n",
    "                    model_results['Alpha'].append(a)\n",
    "                    model_results['Beta'].append(b)\n",
    "                    model_results['Coherence'].append(cv)\n",
    "                    \n",
    "                    pbar.update(1)\n",
    "    pre_df_result = pd.DataFrame(model_results)\n",
    "    pbar.close()"
   ]
  },
  {
   "cell_type": "code",
   "execution_count": 30,
   "metadata": {},
   "outputs": [
    {
     "data": {
      "text/html": [
       "<div>\n",
       "<style scoped>\n",
       "    .dataframe tbody tr th:only-of-type {\n",
       "        vertical-align: middle;\n",
       "    }\n",
       "\n",
       "    .dataframe tbody tr th {\n",
       "        vertical-align: top;\n",
       "    }\n",
       "\n",
       "    .dataframe thead th {\n",
       "        text-align: right;\n",
       "    }\n",
       "</style>\n",
       "<table border=\"1\" class=\"dataframe\">\n",
       "  <thead>\n",
       "    <tr style=\"text-align: right;\">\n",
       "      <th></th>\n",
       "      <th>Validation_Set</th>\n",
       "      <th>Topics</th>\n",
       "      <th>Alpha</th>\n",
       "      <th>Beta</th>\n",
       "      <th>Coherence</th>\n",
       "    </tr>\n",
       "  </thead>\n",
       "  <tbody>\n",
       "    <tr>\n",
       "      <th>0</th>\n",
       "      <td>75% Corpus</td>\n",
       "      <td>2</td>\n",
       "      <td>0.01</td>\n",
       "      <td>0.01</td>\n",
       "      <td>-3.567331</td>\n",
       "    </tr>\n",
       "    <tr>\n",
       "      <th>1</th>\n",
       "      <td>75% Corpus</td>\n",
       "      <td>2</td>\n",
       "      <td>0.01</td>\n",
       "      <td>0.31</td>\n",
       "      <td>-3.878069</td>\n",
       "    </tr>\n",
       "    <tr>\n",
       "      <th>2</th>\n",
       "      <td>75% Corpus</td>\n",
       "      <td>2</td>\n",
       "      <td>0.01</td>\n",
       "      <td>0.61</td>\n",
       "      <td>-3.967180</td>\n",
       "    </tr>\n",
       "    <tr>\n",
       "      <th>3</th>\n",
       "      <td>75% Corpus</td>\n",
       "      <td>2</td>\n",
       "      <td>0.01</td>\n",
       "      <td>0.91</td>\n",
       "      <td>-3.976411</td>\n",
       "    </tr>\n",
       "    <tr>\n",
       "      <th>4</th>\n",
       "      <td>75% Corpus</td>\n",
       "      <td>2</td>\n",
       "      <td>0.01</td>\n",
       "      <td>symmetric</td>\n",
       "      <td>-3.968118</td>\n",
       "    </tr>\n",
       "    <tr>\n",
       "      <th>...</th>\n",
       "      <td>...</td>\n",
       "      <td>...</td>\n",
       "      <td>...</td>\n",
       "      <td>...</td>\n",
       "      <td>...</td>\n",
       "    </tr>\n",
       "    <tr>\n",
       "      <th>1735</th>\n",
       "      <td>100% Corpus</td>\n",
       "      <td>30</td>\n",
       "      <td>asymmetric</td>\n",
       "      <td>0.01</td>\n",
       "      <td>-9.355907</td>\n",
       "    </tr>\n",
       "    <tr>\n",
       "      <th>1736</th>\n",
       "      <td>100% Corpus</td>\n",
       "      <td>30</td>\n",
       "      <td>asymmetric</td>\n",
       "      <td>0.31</td>\n",
       "      <td>-13.727063</td>\n",
       "    </tr>\n",
       "    <tr>\n",
       "      <th>1737</th>\n",
       "      <td>100% Corpus</td>\n",
       "      <td>30</td>\n",
       "      <td>asymmetric</td>\n",
       "      <td>0.61</td>\n",
       "      <td>-12.700660</td>\n",
       "    </tr>\n",
       "    <tr>\n",
       "      <th>1738</th>\n",
       "      <td>100% Corpus</td>\n",
       "      <td>30</td>\n",
       "      <td>asymmetric</td>\n",
       "      <td>0.91</td>\n",
       "      <td>-12.243464</td>\n",
       "    </tr>\n",
       "    <tr>\n",
       "      <th>1739</th>\n",
       "      <td>100% Corpus</td>\n",
       "      <td>30</td>\n",
       "      <td>asymmetric</td>\n",
       "      <td>symmetric</td>\n",
       "      <td>-9.474060</td>\n",
       "    </tr>\n",
       "  </tbody>\n",
       "</table>\n",
       "<p>1740 rows × 5 columns</p>\n",
       "</div>"
      ],
      "text/plain": [
       "     Validation_Set  Topics       Alpha       Beta  Coherence\n",
       "0        75% Corpus       2        0.01       0.01  -3.567331\n",
       "1        75% Corpus       2        0.01       0.31  -3.878069\n",
       "2        75% Corpus       2        0.01       0.61  -3.967180\n",
       "3        75% Corpus       2        0.01       0.91  -3.976411\n",
       "4        75% Corpus       2        0.01  symmetric  -3.968118\n",
       "...             ...     ...         ...        ...        ...\n",
       "1735    100% Corpus      30  asymmetric       0.01  -9.355907\n",
       "1736    100% Corpus      30  asymmetric       0.31 -13.727063\n",
       "1737    100% Corpus      30  asymmetric       0.61 -12.700660\n",
       "1738    100% Corpus      30  asymmetric       0.91 -12.243464\n",
       "1739    100% Corpus      30  asymmetric  symmetric  -9.474060\n",
       "\n",
       "[1740 rows x 5 columns]"
      ]
     },
     "execution_count": 30,
     "metadata": {},
     "output_type": "execute_result"
    }
   ],
   "source": [
    "pre_df_result"
   ]
  },
  {
   "cell_type": "code",
   "execution_count": null,
   "metadata": {},
   "outputs": [],
   "source": [
    "pre_df_result['Alpha'] = pre_df_result['Alpha'].astype(str)\n",
    "pre_df_result['Beta'] = pre_df_result['Beta'].astype(str)"
   ]
  },
  {
   "cell_type": "code",
   "execution_count": 51,
   "metadata": {},
   "outputs": [],
   "source": [
    "# pre_df_result.to_csv(\"./../../data/fintech/mobikwik/pre.csv\")"
   ]
  },
  {
   "cell_type": "code",
   "execution_count": 21,
   "metadata": {},
   "outputs": [],
   "source": [
    "pre_df_result = pd.read_csv(\"./../../data/fintech/mobikwik/pre.csv\")\n",
    "pre_df_result.drop('Unnamed: 0', axis=1, inplace=True)"
   ]
  },
  {
   "cell_type": "code",
   "execution_count": 22,
   "metadata": {},
   "outputs": [
    {
     "data": {
      "text/html": [
       "<div>\n",
       "<style scoped>\n",
       "    .dataframe tbody tr th:only-of-type {\n",
       "        vertical-align: middle;\n",
       "    }\n",
       "\n",
       "    .dataframe tbody tr th {\n",
       "        vertical-align: top;\n",
       "    }\n",
       "\n",
       "    .dataframe thead th {\n",
       "        text-align: right;\n",
       "    }\n",
       "</style>\n",
       "<table border=\"1\" class=\"dataframe\">\n",
       "  <thead>\n",
       "    <tr style=\"text-align: right;\">\n",
       "      <th></th>\n",
       "      <th>Validation_Set</th>\n",
       "      <th>Topics</th>\n",
       "      <th>Alpha</th>\n",
       "      <th>Beta</th>\n",
       "      <th>Coherence</th>\n",
       "    </tr>\n",
       "  </thead>\n",
       "  <tbody>\n",
       "    <tr>\n",
       "      <th>827</th>\n",
       "      <td>75% Corpus</td>\n",
       "      <td>29</td>\n",
       "      <td>0.9099999999999999</td>\n",
       "      <td>0.61</td>\n",
       "      <td>-3.038479</td>\n",
       "    </tr>\n",
       "    <tr>\n",
       "      <th>857</th>\n",
       "      <td>75% Corpus</td>\n",
       "      <td>30</td>\n",
       "      <td>0.9099999999999999</td>\n",
       "      <td>0.61</td>\n",
       "      <td>-3.134583</td>\n",
       "    </tr>\n",
       "    <tr>\n",
       "      <th>828</th>\n",
       "      <td>75% Corpus</td>\n",
       "      <td>29</td>\n",
       "      <td>0.9099999999999999</td>\n",
       "      <td>0.9099999999999999</td>\n",
       "      <td>-3.154728</td>\n",
       "    </tr>\n",
       "    <tr>\n",
       "      <th>858</th>\n",
       "      <td>75% Corpus</td>\n",
       "      <td>30</td>\n",
       "      <td>0.9099999999999999</td>\n",
       "      <td>0.9099999999999999</td>\n",
       "      <td>-3.170884</td>\n",
       "    </tr>\n",
       "    <tr>\n",
       "      <th>1727</th>\n",
       "      <td>100% Corpus</td>\n",
       "      <td>30</td>\n",
       "      <td>0.9099999999999999</td>\n",
       "      <td>0.61</td>\n",
       "      <td>-3.207200</td>\n",
       "    </tr>\n",
       "    <tr>\n",
       "      <th>797</th>\n",
       "      <td>75% Corpus</td>\n",
       "      <td>28</td>\n",
       "      <td>0.9099999999999999</td>\n",
       "      <td>0.61</td>\n",
       "      <td>-3.207372</td>\n",
       "    </tr>\n",
       "    <tr>\n",
       "      <th>25</th>\n",
       "      <td>75% Corpus</td>\n",
       "      <td>2</td>\n",
       "      <td>asymmetric</td>\n",
       "      <td>0.01</td>\n",
       "      <td>-3.314294</td>\n",
       "    </tr>\n",
       "    <tr>\n",
       "      <th>708</th>\n",
       "      <td>75% Corpus</td>\n",
       "      <td>25</td>\n",
       "      <td>0.9099999999999999</td>\n",
       "      <td>0.9099999999999999</td>\n",
       "      <td>-3.316380</td>\n",
       "    </tr>\n",
       "    <tr>\n",
       "      <th>1698</th>\n",
       "      <td>100% Corpus</td>\n",
       "      <td>29</td>\n",
       "      <td>0.9099999999999999</td>\n",
       "      <td>0.9099999999999999</td>\n",
       "      <td>-3.439472</td>\n",
       "    </tr>\n",
       "    <tr>\n",
       "      <th>873</th>\n",
       "      <td>100% Corpus</td>\n",
       "      <td>2</td>\n",
       "      <td>0.01</td>\n",
       "      <td>0.9099999999999999</td>\n",
       "      <td>-3.465457</td>\n",
       "    </tr>\n",
       "  </tbody>\n",
       "</table>\n",
       "</div>"
      ],
      "text/plain": [
       "     Validation_Set  Topics               Alpha                Beta  Coherence\n",
       "827      75% Corpus      29  0.9099999999999999                0.61  -3.038479\n",
       "857      75% Corpus      30  0.9099999999999999                0.61  -3.134583\n",
       "828      75% Corpus      29  0.9099999999999999  0.9099999999999999  -3.154728\n",
       "858      75% Corpus      30  0.9099999999999999  0.9099999999999999  -3.170884\n",
       "1727    100% Corpus      30  0.9099999999999999                0.61  -3.207200\n",
       "797      75% Corpus      28  0.9099999999999999                0.61  -3.207372\n",
       "25       75% Corpus       2          asymmetric                0.01  -3.314294\n",
       "708      75% Corpus      25  0.9099999999999999  0.9099999999999999  -3.316380\n",
       "1698    100% Corpus      29  0.9099999999999999  0.9099999999999999  -3.439472\n",
       "873     100% Corpus       2                0.01  0.9099999999999999  -3.465457"
      ]
     },
     "execution_count": 22,
     "metadata": {},
     "output_type": "execute_result"
    }
   ],
   "source": [
    "# Maximum coherence\n",
    "pre_df_result.sort_values('Coherence', ascending=False, inplace=True)\n",
    "# pre_df_result[pre_df_result['Coherence'] == pre_df_result['Coherence'].max()]\n",
    "pre_df_result.head(10)"
   ]
  },
  {
   "cell_type": "code",
   "execution_count": 34,
   "metadata": {},
   "outputs": [],
   "source": [
    "pre_topics_score = []\n",
    "for i in pre_df_result['Topics'].value_counts().index:\n",
    "    data = []\n",
    "    data.append(i)\n",
    "    temp = pre_df_result[(pre_df_result['Topics'] == i) & (pre_df_result['Alpha'] == '0.01') & (pre_df_result['Beta'] == pre_df_result['Beta'].unique()[1])]\n",
    "    max_value = temp['Coherence'].max()\n",
    "    data.append(max_value)\n",
    "    pre_topics_score.append(data)"
   ]
  },
  {
   "cell_type": "code",
   "execution_count": 35,
   "metadata": {},
   "outputs": [],
   "source": [
    "pre_ts_df = pd.DataFrame(pre_topics_score)\n",
    "pre_ts_df.columns = ['topics', 'coherence']"
   ]
  },
  {
   "cell_type": "code",
   "execution_count": 36,
   "metadata": {},
   "outputs": [
    {
     "data": {
      "text/html": [
       "<div>\n",
       "<style scoped>\n",
       "    .dataframe tbody tr th:only-of-type {\n",
       "        vertical-align: middle;\n",
       "    }\n",
       "\n",
       "    .dataframe tbody tr th {\n",
       "        vertical-align: top;\n",
       "    }\n",
       "\n",
       "    .dataframe thead th {\n",
       "        text-align: right;\n",
       "    }\n",
       "</style>\n",
       "<table border=\"1\" class=\"dataframe\">\n",
       "  <thead>\n",
       "    <tr style=\"text-align: right;\">\n",
       "      <th></th>\n",
       "      <th>topics</th>\n",
       "      <th>coherence</th>\n",
       "    </tr>\n",
       "  </thead>\n",
       "  <tbody>\n",
       "    <tr>\n",
       "      <th>26</th>\n",
       "      <td>2</td>\n",
       "      <td>-3.465457</td>\n",
       "    </tr>\n",
       "    <tr>\n",
       "      <th>24</th>\n",
       "      <td>3</td>\n",
       "      <td>-7.033945</td>\n",
       "    </tr>\n",
       "    <tr>\n",
       "      <th>23</th>\n",
       "      <td>4</td>\n",
       "      <td>-8.230486</td>\n",
       "    </tr>\n",
       "    <tr>\n",
       "      <th>22</th>\n",
       "      <td>5</td>\n",
       "      <td>-8.218384</td>\n",
       "    </tr>\n",
       "    <tr>\n",
       "      <th>20</th>\n",
       "      <td>6</td>\n",
       "      <td>-9.743104</td>\n",
       "    </tr>\n",
       "  </tbody>\n",
       "</table>\n",
       "</div>"
      ],
      "text/plain": [
       "    topics  coherence\n",
       "26       2  -3.465457\n",
       "24       3  -7.033945\n",
       "23       4  -8.230486\n",
       "22       5  -8.218384\n",
       "20       6  -9.743104"
      ]
     },
     "execution_count": 36,
     "metadata": {},
     "output_type": "execute_result"
    }
   ],
   "source": [
    "pre_ts_df.sort_values('topics', inplace=True)\n",
    "pre_ts_df.head()"
   ]
  },
  {
   "cell_type": "code",
   "execution_count": 37,
   "metadata": {},
   "outputs": [
    {
     "data": {
      "text/plain": [
       "<AxesSubplot: xlabel='topics'>"
      ]
     },
     "execution_count": 37,
     "metadata": {},
     "output_type": "execute_result"
    },
    {
     "data": {
      "image/png": "[encoded data removed]",
      "text/plain": [
       "<Figure size 640x480 with 1 Axes>"
      ]
     },
     "metadata": {},
     "output_type": "display_data"
    }
   ],
   "source": [
    "pre_ts_df.plot.line(x='topics', y='coherence')"
   ]
  },
  {
   "cell_type": "code",
   "execution_count": 38,
   "metadata": {},
   "outputs": [
    {
     "data": {
      "text/html": [
       "<div>\n",
       "<style scoped>\n",
       "    .dataframe tbody tr th:only-of-type {\n",
       "        vertical-align: middle;\n",
       "    }\n",
       "\n",
       "    .dataframe tbody tr th {\n",
       "        vertical-align: top;\n",
       "    }\n",
       "\n",
       "    .dataframe thead th {\n",
       "        text-align: right;\n",
       "    }\n",
       "</style>\n",
       "<table border=\"1\" class=\"dataframe\">\n",
       "  <thead>\n",
       "    <tr style=\"text-align: right;\">\n",
       "      <th></th>\n",
       "      <th>Validation_Set</th>\n",
       "      <th>Topics</th>\n",
       "      <th>Alpha</th>\n",
       "      <th>Beta</th>\n",
       "      <th>Coherence</th>\n",
       "    </tr>\n",
       "  </thead>\n",
       "  <tbody>\n",
       "    <tr>\n",
       "      <th>25</th>\n",
       "      <td>75% Corpus</td>\n",
       "      <td>2</td>\n",
       "      <td>asymmetric</td>\n",
       "      <td>0.01</td>\n",
       "      <td>-3.314294</td>\n",
       "    </tr>\n",
       "    <tr>\n",
       "      <th>873</th>\n",
       "      <td>100% Corpus</td>\n",
       "      <td>2</td>\n",
       "      <td>0.01</td>\n",
       "      <td>0.9099999999999999</td>\n",
       "      <td>-3.465457</td>\n",
       "    </tr>\n",
       "    <tr>\n",
       "      <th>15</th>\n",
       "      <td>75% Corpus</td>\n",
       "      <td>2</td>\n",
       "      <td>0.9099999999999999</td>\n",
       "      <td>0.01</td>\n",
       "      <td>-3.555242</td>\n",
       "    </tr>\n",
       "    <tr>\n",
       "      <th>0</th>\n",
       "      <td>75% Corpus</td>\n",
       "      <td>2</td>\n",
       "      <td>0.01</td>\n",
       "      <td>0.01</td>\n",
       "      <td>-3.567331</td>\n",
       "    </tr>\n",
       "    <tr>\n",
       "      <th>875</th>\n",
       "      <td>100% Corpus</td>\n",
       "      <td>2</td>\n",
       "      <td>0.31</td>\n",
       "      <td>0.01</td>\n",
       "      <td>-3.593704</td>\n",
       "    </tr>\n",
       "  </tbody>\n",
       "</table>\n",
       "</div>"
      ],
      "text/plain": [
       "    Validation_Set  Topics               Alpha                Beta  Coherence\n",
       "25      75% Corpus       2          asymmetric                0.01  -3.314294\n",
       "873    100% Corpus       2                0.01  0.9099999999999999  -3.465457\n",
       "15      75% Corpus       2  0.9099999999999999                0.01  -3.555242\n",
       "0       75% Corpus       2                0.01                0.01  -3.567331\n",
       "875    100% Corpus       2                0.31                0.01  -3.593704"
      ]
     },
     "execution_count": 38,
     "metadata": {},
     "output_type": "execute_result"
    }
   ],
   "source": [
    "pre_df_result[pre_df_result['Topics'] == 2].head()"
   ]
  },
  {
   "cell_type": "markdown",
   "metadata": {},
   "source": [
    "### Post-COVID"
   ]
  },
  {
   "cell_type": "code",
   "execution_count": 39,
   "metadata": {},
   "outputs": [],
   "source": [
    "grid = {}\n",
    "grid['Validation_Set'] = {}"
   ]
  },
  {
   "cell_type": "code",
   "execution_count": 37,
   "metadata": {},
   "outputs": [],
   "source": [
    "corpus = post_corpus"
   ]
  },
  {
   "cell_type": "code",
   "execution_count": 38,
   "metadata": {},
   "outputs": [],
   "source": [
    "# Topics range\n",
    "min_topics = 2\n",
    "max_topics = 31\n",
    "step_size = 1\n",
    "topics_range = range(min_topics, max_topics, step_size)\n",
    "\n",
    "# Alpha parameter\n",
    "alpha = list(np.arange(0.01, 1, 0.3))\n",
    "alpha.append('symmetric')\n",
    "alpha.append('asymmetric')\n",
    "\n",
    "# Beta parameter\n",
    "beta = list(np.arange(0.01, 1, 0.3))\n",
    "beta.append('symmetric')\n",
    "\n",
    "# Validation sets\n",
    "num_of_docs = len(corpus)\n",
    "corpus_sets = [gensim.utils.ClippedCorpus(corpus, int(num_of_docs*0.75)), \n",
    "               corpus]\n",
    "corpus_title = ['75% Corpus', '100% Corpus']\n",
    "model_results = {'Validation_Set': [],\n",
    "                 'Topics': [],\n",
    "                 'Alpha': [],\n",
    "                 'Beta': [],\n",
    "                 'Coherence': []\n",
    "                }"
   ]
  },
  {
   "cell_type": "code",
   "execution_count": 39,
   "metadata": {},
   "outputs": [],
   "source": [
    "iterations = len(topics_range) * len(alpha) * len(beta) * len(corpus_sets)"
   ]
  },
  {
   "cell_type": "code",
   "execution_count": 40,
   "metadata": {},
   "outputs": [
    {
     "data": {
      "application/vnd.jupyter.widget-view+json": {
       "model_id": "67405dc66fce4e98ae109f0e2787e45c",
       "version_major": 2,
       "version_minor": 0
      },
      "text/plain": [
       "  0%|          | 0/1740 [00:00<?, ?it/s]"
      ]
     },
     "metadata": {},
     "output_type": "display_data"
    }
   ],
   "source": [
    "# Can take a long time to run\n",
    "if 1 == 1:\n",
    "    pbar = tqdm.tqdm(total=iterations)\n",
    "    \n",
    "    # iterate through validation corpuses\n",
    "    for i in range(len(corpus_sets)):\n",
    "        # iterate through number of topics\n",
    "        for k in topics_range:\n",
    "            # iterate through alpha values\n",
    "            for a in alpha:\n",
    "                # iterare through beta values\n",
    "                for b in beta:\n",
    "                    # get the coherence score for the given parameters\n",
    "                    cv = compute_coherence_values(corpus=corpus_sets[i], \n",
    "                                                  dictionary=post_id2word, \n",
    "                                                  k=k, alpha=a, beta=b,\n",
    "                                                  texts=post_df['bigram'].values.tolist(),\n",
    "                                                  coherence='u_mass')\n",
    "                    # Save the model results\n",
    "                    model_results['Validation_Set'].append(corpus_title[i])\n",
    "                    model_results['Topics'].append(k)\n",
    "                    model_results['Alpha'].append(a)\n",
    "                    model_results['Beta'].append(b)\n",
    "                    model_results['Coherence'].append(cv)\n",
    "                    \n",
    "                    pbar.update(1)\n",
    "    post_df_result = pd.DataFrame(model_results)\n",
    "    pbar.close()"
   ]
  },
  {
   "cell_type": "code",
   "execution_count": 41,
   "metadata": {},
   "outputs": [
    {
     "data": {
      "text/html": [
       "<div>\n",
       "<style scoped>\n",
       "    .dataframe tbody tr th:only-of-type {\n",
       "        vertical-align: middle;\n",
       "    }\n",
       "\n",
       "    .dataframe tbody tr th {\n",
       "        vertical-align: top;\n",
       "    }\n",
       "\n",
       "    .dataframe thead th {\n",
       "        text-align: right;\n",
       "    }\n",
       "</style>\n",
       "<table border=\"1\" class=\"dataframe\">\n",
       "  <thead>\n",
       "    <tr style=\"text-align: right;\">\n",
       "      <th></th>\n",
       "      <th>Validation_Set</th>\n",
       "      <th>Topics</th>\n",
       "      <th>Alpha</th>\n",
       "      <th>Beta</th>\n",
       "      <th>Coherence</th>\n",
       "    </tr>\n",
       "  </thead>\n",
       "  <tbody>\n",
       "    <tr>\n",
       "      <th>0</th>\n",
       "      <td>75% Corpus</td>\n",
       "      <td>2</td>\n",
       "      <td>0.01</td>\n",
       "      <td>0.01</td>\n",
       "      <td>-3.379641</td>\n",
       "    </tr>\n",
       "    <tr>\n",
       "      <th>1</th>\n",
       "      <td>75% Corpus</td>\n",
       "      <td>2</td>\n",
       "      <td>0.01</td>\n",
       "      <td>0.31</td>\n",
       "      <td>-3.651609</td>\n",
       "    </tr>\n",
       "    <tr>\n",
       "      <th>2</th>\n",
       "      <td>75% Corpus</td>\n",
       "      <td>2</td>\n",
       "      <td>0.01</td>\n",
       "      <td>0.61</td>\n",
       "      <td>-3.615748</td>\n",
       "    </tr>\n",
       "    <tr>\n",
       "      <th>3</th>\n",
       "      <td>75% Corpus</td>\n",
       "      <td>2</td>\n",
       "      <td>0.01</td>\n",
       "      <td>0.91</td>\n",
       "      <td>-3.513560</td>\n",
       "    </tr>\n",
       "    <tr>\n",
       "      <th>4</th>\n",
       "      <td>75% Corpus</td>\n",
       "      <td>2</td>\n",
       "      <td>0.01</td>\n",
       "      <td>symmetric</td>\n",
       "      <td>-3.658355</td>\n",
       "    </tr>\n",
       "  </tbody>\n",
       "</table>\n",
       "</div>"
      ],
      "text/plain": [
       "  Validation_Set  Topics Alpha       Beta  Coherence\n",
       "0     75% Corpus       2  0.01       0.01  -3.379641\n",
       "1     75% Corpus       2  0.01       0.31  -3.651609\n",
       "2     75% Corpus       2  0.01       0.61  -3.615748\n",
       "3     75% Corpus       2  0.01       0.91  -3.513560\n",
       "4     75% Corpus       2  0.01  symmetric  -3.658355"
      ]
     },
     "execution_count": 41,
     "metadata": {},
     "output_type": "execute_result"
    }
   ],
   "source": [
    "post_df_result.head()"
   ]
  },
  {
   "cell_type": "code",
   "execution_count": null,
   "metadata": {},
   "outputs": [],
   "source": [
    "post_df_result['Alpha'] = post_df_result['Alpha'].astype(str)\n",
    "post_df_result['Beta'] = post_df_result['Beta'].astype(str)"
   ]
  },
  {
   "cell_type": "code",
   "execution_count": 52,
   "metadata": {},
   "outputs": [],
   "source": [
    "# post_df_result.to_csv(\"./../../data/fintech/mobikwik/post.csv\")"
   ]
  },
  {
   "cell_type": "code",
   "execution_count": 40,
   "metadata": {},
   "outputs": [],
   "source": [
    "post_df_result = pd.read_csv(\"./../../data/fintech/mobikwik/post.csv\")\n",
    "post_df_result.drop('Unnamed: 0', axis=1, inplace=True)"
   ]
  },
  {
   "cell_type": "code",
   "execution_count": 41,
   "metadata": {},
   "outputs": [
    {
     "data": {
      "text/html": [
       "<div>\n",
       "<style scoped>\n",
       "    .dataframe tbody tr th:only-of-type {\n",
       "        vertical-align: middle;\n",
       "    }\n",
       "\n",
       "    .dataframe tbody tr th {\n",
       "        vertical-align: top;\n",
       "    }\n",
       "\n",
       "    .dataframe thead th {\n",
       "        text-align: right;\n",
       "    }\n",
       "</style>\n",
       "<table border=\"1\" class=\"dataframe\">\n",
       "  <thead>\n",
       "    <tr style=\"text-align: right;\">\n",
       "      <th></th>\n",
       "      <th>Validation_Set</th>\n",
       "      <th>Topics</th>\n",
       "      <th>Alpha</th>\n",
       "      <th>Beta</th>\n",
       "      <th>Coherence</th>\n",
       "    </tr>\n",
       "  </thead>\n",
       "  <tbody>\n",
       "    <tr>\n",
       "      <th>86</th>\n",
       "      <td>75% Corpus</td>\n",
       "      <td>4</td>\n",
       "      <td>asymmetric</td>\n",
       "      <td>0.31</td>\n",
       "      <td>-3.075333</td>\n",
       "    </tr>\n",
       "    <tr>\n",
       "      <th>28</th>\n",
       "      <td>75% Corpus</td>\n",
       "      <td>2</td>\n",
       "      <td>asymmetric</td>\n",
       "      <td>0.9099999999999999</td>\n",
       "      <td>-3.126290</td>\n",
       "    </tr>\n",
       "    <tr>\n",
       "      <th>89</th>\n",
       "      <td>75% Corpus</td>\n",
       "      <td>4</td>\n",
       "      <td>asymmetric</td>\n",
       "      <td>symmetric</td>\n",
       "      <td>-3.160615</td>\n",
       "    </tr>\n",
       "    <tr>\n",
       "      <th>131</th>\n",
       "      <td>75% Corpus</td>\n",
       "      <td>6</td>\n",
       "      <td>0.61</td>\n",
       "      <td>0.31</td>\n",
       "      <td>-3.173162</td>\n",
       "    </tr>\n",
       "    <tr>\n",
       "      <th>58</th>\n",
       "      <td>75% Corpus</td>\n",
       "      <td>3</td>\n",
       "      <td>asymmetric</td>\n",
       "      <td>0.9099999999999999</td>\n",
       "      <td>-3.211476</td>\n",
       "    </tr>\n",
       "    <tr>\n",
       "      <th>108</th>\n",
       "      <td>75% Corpus</td>\n",
       "      <td>5</td>\n",
       "      <td>0.9099999999999999</td>\n",
       "      <td>0.9099999999999999</td>\n",
       "      <td>-3.221271</td>\n",
       "    </tr>\n",
       "    <tr>\n",
       "      <th>106</th>\n",
       "      <td>75% Corpus</td>\n",
       "      <td>5</td>\n",
       "      <td>0.9099999999999999</td>\n",
       "      <td>0.31</td>\n",
       "      <td>-3.257835</td>\n",
       "    </tr>\n",
       "    <tr>\n",
       "      <th>958</th>\n",
       "      <td>100% Corpus</td>\n",
       "      <td>4</td>\n",
       "      <td>asymmetric</td>\n",
       "      <td>0.9099999999999999</td>\n",
       "      <td>-3.258249</td>\n",
       "    </tr>\n",
       "    <tr>\n",
       "      <th>164</th>\n",
       "      <td>75% Corpus</td>\n",
       "      <td>7</td>\n",
       "      <td>0.61</td>\n",
       "      <td>symmetric</td>\n",
       "      <td>-3.272086</td>\n",
       "    </tr>\n",
       "    <tr>\n",
       "      <th>1698</th>\n",
       "      <td>100% Corpus</td>\n",
       "      <td>29</td>\n",
       "      <td>0.9099999999999999</td>\n",
       "      <td>0.9099999999999999</td>\n",
       "      <td>-3.301746</td>\n",
       "    </tr>\n",
       "  </tbody>\n",
       "</table>\n",
       "</div>"
      ],
      "text/plain": [
       "     Validation_Set  Topics               Alpha                Beta  Coherence\n",
       "86       75% Corpus       4          asymmetric                0.31  -3.075333\n",
       "28       75% Corpus       2          asymmetric  0.9099999999999999  -3.126290\n",
       "89       75% Corpus       4          asymmetric           symmetric  -3.160615\n",
       "131      75% Corpus       6                0.61                0.31  -3.173162\n",
       "58       75% Corpus       3          asymmetric  0.9099999999999999  -3.211476\n",
       "108      75% Corpus       5  0.9099999999999999  0.9099999999999999  -3.221271\n",
       "106      75% Corpus       5  0.9099999999999999                0.31  -3.257835\n",
       "958     100% Corpus       4          asymmetric  0.9099999999999999  -3.258249\n",
       "164      75% Corpus       7                0.61           symmetric  -3.272086\n",
       "1698    100% Corpus      29  0.9099999999999999  0.9099999999999999  -3.301746"
      ]
     },
     "execution_count": 41,
     "metadata": {},
     "output_type": "execute_result"
    }
   ],
   "source": [
    "# Maximum coherence\n",
    "post_df_result.sort_values('Coherence', ascending=False, inplace=True)\n",
    "# pre_df_result[pre_df_result['Coherence'] == pre_df_result['Coherence'].max()]\n",
    "post_df_result.head(10)"
   ]
  },
  {
   "cell_type": "code",
   "execution_count": 55,
   "metadata": {},
   "outputs": [],
   "source": [
    "post_topics_score = []\n",
    "for i in post_df_result['Topics'].value_counts().index:\n",
    "    data = []\n",
    "    data.append(i)\n",
    "    temp = post_df_result[(post_df_result['Topics'] == i) & (post_df_result['Alpha'] == 'asymmetric') & (post_df_result['Beta'] == '0.9099999999999999') & (post_df_result['Validation_Set'] == '100% Corpus')]\n",
    "    max_value = temp['Coherence'].max()\n",
    "    data.append(max_value)\n",
    "    post_topics_score.append(data)"
   ]
  },
  {
   "cell_type": "code",
   "execution_count": 56,
   "metadata": {},
   "outputs": [],
   "source": [
    "post_ts_df = pd.DataFrame(post_topics_score)\n",
    "post_ts_df.columns = ['topics', 'coherence']"
   ]
  },
  {
   "cell_type": "code",
   "execution_count": 57,
   "metadata": {},
   "outputs": [
    {
     "data": {
      "text/html": [
       "<div>\n",
       "<style scoped>\n",
       "    .dataframe tbody tr th:only-of-type {\n",
       "        vertical-align: middle;\n",
       "    }\n",
       "\n",
       "    .dataframe tbody tr th {\n",
       "        vertical-align: top;\n",
       "    }\n",
       "\n",
       "    .dataframe thead th {\n",
       "        text-align: right;\n",
       "    }\n",
       "</style>\n",
       "<table border=\"1\" class=\"dataframe\">\n",
       "  <thead>\n",
       "    <tr style=\"text-align: right;\">\n",
       "      <th></th>\n",
       "      <th>topics</th>\n",
       "      <th>coherence</th>\n",
       "    </tr>\n",
       "  </thead>\n",
       "  <tbody>\n",
       "    <tr>\n",
       "      <th>15</th>\n",
       "      <td>2</td>\n",
       "      <td>-3.352523</td>\n",
       "    </tr>\n",
       "    <tr>\n",
       "      <th>26</th>\n",
       "      <td>3</td>\n",
       "      <td>-3.918687</td>\n",
       "    </tr>\n",
       "    <tr>\n",
       "      <th>0</th>\n",
       "      <td>4</td>\n",
       "      <td>-3.258249</td>\n",
       "    </tr>\n",
       "    <tr>\n",
       "      <th>25</th>\n",
       "      <td>5</td>\n",
       "      <td>-3.735640</td>\n",
       "    </tr>\n",
       "    <tr>\n",
       "      <th>27</th>\n",
       "      <td>6</td>\n",
       "      <td>-5.632998</td>\n",
       "    </tr>\n",
       "  </tbody>\n",
       "</table>\n",
       "</div>"
      ],
      "text/plain": [
       "    topics  coherence\n",
       "15       2  -3.352523\n",
       "26       3  -3.918687\n",
       "0        4  -3.258249\n",
       "25       5  -3.735640\n",
       "27       6  -5.632998"
      ]
     },
     "execution_count": 57,
     "metadata": {},
     "output_type": "execute_result"
    }
   ],
   "source": [
    "post_ts_df.sort_values('topics', inplace=True)\n",
    "post_ts_df.head()"
   ]
  },
  {
   "cell_type": "code",
   "execution_count": 58,
   "metadata": {},
   "outputs": [
    {
     "data": {
      "text/plain": [
       "<AxesSubplot: xlabel='topics'>"
      ]
     },
     "execution_count": 58,
     "metadata": {},
     "output_type": "execute_result"
    },
    {
     "data": {
      "image/png": "[encoded data removed]",
      "text/plain": [
       "<Figure size 640x480 with 1 Axes>"
      ]
     },
     "metadata": {},
     "output_type": "display_data"
    }
   ],
   "source": [
    "post_ts_df.plot.line(x='topics', y='coherence')"
   ]
  },
  {
   "cell_type": "code",
   "execution_count": 60,
   "metadata": {},
   "outputs": [
    {
     "data": {
      "text/html": [
       "<div>\n",
       "<style scoped>\n",
       "    .dataframe tbody tr th:only-of-type {\n",
       "        vertical-align: middle;\n",
       "    }\n",
       "\n",
       "    .dataframe tbody tr th {\n",
       "        vertical-align: top;\n",
       "    }\n",
       "\n",
       "    .dataframe thead th {\n",
       "        text-align: right;\n",
       "    }\n",
       "</style>\n",
       "<table border=\"1\" class=\"dataframe\">\n",
       "  <thead>\n",
       "    <tr style=\"text-align: right;\">\n",
       "      <th></th>\n",
       "      <th>Validation_Set</th>\n",
       "      <th>Topics</th>\n",
       "      <th>Alpha</th>\n",
       "      <th>Beta</th>\n",
       "      <th>Coherence</th>\n",
       "    </tr>\n",
       "  </thead>\n",
       "  <tbody>\n",
       "    <tr>\n",
       "      <th>86</th>\n",
       "      <td>75% Corpus</td>\n",
       "      <td>4</td>\n",
       "      <td>asymmetric</td>\n",
       "      <td>0.31</td>\n",
       "      <td>-3.075333</td>\n",
       "    </tr>\n",
       "    <tr>\n",
       "      <th>89</th>\n",
       "      <td>75% Corpus</td>\n",
       "      <td>4</td>\n",
       "      <td>asymmetric</td>\n",
       "      <td>symmetric</td>\n",
       "      <td>-3.160615</td>\n",
       "    </tr>\n",
       "    <tr>\n",
       "      <th>958</th>\n",
       "      <td>100% Corpus</td>\n",
       "      <td>4</td>\n",
       "      <td>asymmetric</td>\n",
       "      <td>0.9099999999999999</td>\n",
       "      <td>-3.258249</td>\n",
       "    </tr>\n",
       "    <tr>\n",
       "      <th>84</th>\n",
       "      <td>75% Corpus</td>\n",
       "      <td>4</td>\n",
       "      <td>symmetric</td>\n",
       "      <td>symmetric</td>\n",
       "      <td>-3.306665</td>\n",
       "    </tr>\n",
       "    <tr>\n",
       "      <th>64</th>\n",
       "      <td>75% Corpus</td>\n",
       "      <td>4</td>\n",
       "      <td>0.01</td>\n",
       "      <td>symmetric</td>\n",
       "      <td>-3.343814</td>\n",
       "    </tr>\n",
       "    <tr>\n",
       "      <th>61</th>\n",
       "      <td>75% Corpus</td>\n",
       "      <td>4</td>\n",
       "      <td>0.01</td>\n",
       "      <td>0.31</td>\n",
       "      <td>-3.370685</td>\n",
       "    </tr>\n",
       "    <tr>\n",
       "      <th>63</th>\n",
       "      <td>75% Corpus</td>\n",
       "      <td>4</td>\n",
       "      <td>0.01</td>\n",
       "      <td>0.9099999999999999</td>\n",
       "      <td>-3.423411</td>\n",
       "    </tr>\n",
       "    <tr>\n",
       "      <th>74</th>\n",
       "      <td>75% Corpus</td>\n",
       "      <td>4</td>\n",
       "      <td>0.61</td>\n",
       "      <td>symmetric</td>\n",
       "      <td>-3.443292</td>\n",
       "    </tr>\n",
       "    <tr>\n",
       "      <th>62</th>\n",
       "      <td>75% Corpus</td>\n",
       "      <td>4</td>\n",
       "      <td>0.01</td>\n",
       "      <td>0.61</td>\n",
       "      <td>-3.446628</td>\n",
       "    </tr>\n",
       "    <tr>\n",
       "      <th>953</th>\n",
       "      <td>100% Corpus</td>\n",
       "      <td>4</td>\n",
       "      <td>symmetric</td>\n",
       "      <td>0.9099999999999999</td>\n",
       "      <td>-3.474333</td>\n",
       "    </tr>\n",
       "  </tbody>\n",
       "</table>\n",
       "</div>"
      ],
      "text/plain": [
       "    Validation_Set  Topics       Alpha                Beta  Coherence\n",
       "86      75% Corpus       4  asymmetric                0.31  -3.075333\n",
       "89      75% Corpus       4  asymmetric           symmetric  -3.160615\n",
       "958    100% Corpus       4  asymmetric  0.9099999999999999  -3.258249\n",
       "84      75% Corpus       4   symmetric           symmetric  -3.306665\n",
       "64      75% Corpus       4        0.01           symmetric  -3.343814\n",
       "61      75% Corpus       4        0.01                0.31  -3.370685\n",
       "63      75% Corpus       4        0.01  0.9099999999999999  -3.423411\n",
       "74      75% Corpus       4        0.61           symmetric  -3.443292\n",
       "62      75% Corpus       4        0.01                0.61  -3.446628\n",
       "953    100% Corpus       4   symmetric  0.9099999999999999  -3.474333"
      ]
     },
     "execution_count": 60,
     "metadata": {},
     "output_type": "execute_result"
    }
   ],
   "source": [
    "post_df_result[(post_df_result['Topics'] == 4)].head(10)"
   ]
  },
  {
   "cell_type": "markdown",
   "metadata": {},
   "source": [
    "## Final Models"
   ]
  },
  {
   "cell_type": "code",
   "execution_count": 74,
   "metadata": {},
   "outputs": [],
   "source": [
    "pre_final_lda_model = gensim.models.LdaMulticore(corpus=pre_corpus,\n",
    "                                        id2word=pre_id2word,\n",
    "                                        num_topics=2,\n",
    "                                        random_state=100,\n",
    "                                        chunksize=100,\n",
    "                                        passes=10,\n",
    "                                        per_word_topics=True,\n",
    "                                        alpha= 0.01,\n",
    "                                        eta=0.91)"
   ]
  },
  {
   "cell_type": "code",
   "execution_count": 75,
   "metadata": {},
   "outputs": [
    {
     "name": "stdout",
     "output_type": "stream",
     "text": [
      "Pre-COVID Coherence Score:  -4.088332528058382\n"
     ]
    }
   ],
   "source": [
    "pre_final_coherence_model_lda = gensim.models.CoherenceModel(model=pre_final_lda_model, \n",
    "                                                    texts=pre_df['bigram'].values.tolist(), \n",
    "                                                    dictionary=pre_id2word, \n",
    "                                                    coherence='u_mass')\n",
    "pre_final_coherence_lda = pre_final_coherence_model_lda.get_coherence()\n",
    "print('Pre-COVID Coherence Score: ', pre_final_coherence_lda)"
   ]
  },
  {
   "cell_type": "code",
   "execution_count": 89,
   "metadata": {},
   "outputs": [],
   "source": [
    "post_final_lda_model = gensim.models.LdaMulticore(corpus=post_corpus,\n",
    "                                        id2word=post_id2word,\n",
    "                                        num_topics=4,\n",
    "                                        random_state=100,\n",
    "                                        chunksize=100,\n",
    "                                        passes=10,\n",
    "                                        per_word_topics=True,\n",
    "                                        alpha='asymmetric',\n",
    "                                        eta=0.91)"
   ]
  },
  {
   "cell_type": "code",
   "execution_count": 90,
   "metadata": {},
   "outputs": [
    {
     "name": "stdout",
     "output_type": "stream",
     "text": [
      "Pre-COVID Coherence Score:  -3.2625972051703918\n"
     ]
    }
   ],
   "source": [
    "post_final_coherence_model_lda = gensim.models.CoherenceModel(model=post_final_lda_model, \n",
    "                                                    texts=post_df['bigram'].values.tolist(), \n",
    "                                                    dictionary=post_id2word, \n",
    "                                                    coherence='u_mass')\n",
    "post_final_coherence_lda = post_final_coherence_model_lda.get_coherence()\n",
    "print('Pre-COVID Coherence Score: ', post_final_coherence_lda)"
   ]
  },
  {
   "cell_type": "markdown",
   "metadata": {},
   "source": [
    "## Inferencing"
   ]
  },
  {
   "cell_type": "code",
   "execution_count": 80,
   "metadata": {},
   "outputs": [],
   "source": [
    "def dominant_topics(ldamodel, corpus, texts):\n",
    "    sent_topics_df = pd.DataFrame()\n",
    "    for i, row in enumerate(ldamodel[corpus]):\n",
    "        row = sorted(row[0], key=lambda x: (x[1]), reverse=True)\n",
    "        for j, (topic_num, prop_topic) in enumerate(row):\n",
    "            if j==0:\n",
    "                wp = ldamodel.show_topic(topic_num)\n",
    "                topic_keywords = \", \".join([word for word, prop in wp])\n",
    "                sent_topics_df = sent_topics_df.append(\n",
    "                    pd.Series([int(topic_num), round(prop_topic,4), topic_keywords]), ignore_index=True\n",
    "                )\n",
    "            else:\n",
    "                break\n",
    "    sent_topics_df.columns = ['Dominant_Topic', 'Perc_Contribution', 'Topic_Keywords']\n",
    "    contents = pd.Series(texts)\n",
    "    sent_topics_df = pd.concat([sent_topics_df, contents], axis=1)\n",
    "    sent_topics_df.rename(columns={0: \"Text\"}, inplace=True)\n",
    "    return sent_topics_df"
   ]
  },
  {
   "cell_type": "code",
   "execution_count": 81,
   "metadata": {},
   "outputs": [
    {
     "name": "stderr",
     "output_type": "stream",
     "text": [
      "/var/folders/zl/bqtzmz3s0xl5_ddgbjsqxsww0000gn/T/ipykernel_86453/4013737119.py:9: FutureWarning: The frame.append method is deprecated and will be removed from pandas in a future version. Use pandas.concat instead.\n",
      "  sent_topics_df = sent_topics_df.append(\n"
     ]
    }
   ],
   "source": [
    "pre_df_topic_sents_keywords = dominant_topics(\n",
    "   ldamodel=pre_final_lda_model, corpus=pre_corpus, texts=pre_df['bigram'].values.tolist()\n",
    ")"
   ]
  },
  {
   "cell_type": "code",
   "execution_count": 85,
   "metadata": {},
   "outputs": [
    {
     "data": {
      "text/html": [
       "<div>\n",
       "<style scoped>\n",
       "    .dataframe tbody tr th:only-of-type {\n",
       "        vertical-align: middle;\n",
       "    }\n",
       "\n",
       "    .dataframe tbody tr th {\n",
       "        vertical-align: top;\n",
       "    }\n",
       "\n",
       "    .dataframe thead th {\n",
       "        text-align: right;\n",
       "    }\n",
       "</style>\n",
       "<table border=\"1\" class=\"dataframe\">\n",
       "  <thead>\n",
       "    <tr style=\"text-align: right;\">\n",
       "      <th></th>\n",
       "      <th>Dominant_Topic</th>\n",
       "      <th>Perc_Contribution</th>\n",
       "      <th>Topic_Keywords</th>\n",
       "      <th>Text</th>\n",
       "    </tr>\n",
       "  </thead>\n",
       "  <tbody>\n",
       "    <tr>\n",
       "      <th>0</th>\n",
       "      <td>1</td>\n",
       "      <td>0.9992</td>\n",
       "      <td>mobikwik, money, wallet, account, app, payment...</td>\n",
       "      <td>[piss, drinking, human, crap, eating, fucking,...</td>\n",
       "    </tr>\n",
       "    <tr>\n",
       "      <th>1</th>\n",
       "      <td>0</td>\n",
       "      <td>0.9988</td>\n",
       "      <td>mobikwik, supercash, rs, use, cashback, wallet...</td>\n",
       "      <td>[irctc_uts, app, offer, use, mobikwik, superca...</td>\n",
       "    </tr>\n",
       "    <tr>\n",
       "      <th>2</th>\n",
       "      <td>1</td>\n",
       "      <td>0.9990</td>\n",
       "      <td>mobikwik, money, wallet, account, app, payment...</td>\n",
       "      <td>[dont, care, customers, misbehaving, customers...</td>\n",
       "    </tr>\n",
       "    <tr>\n",
       "      <th>3</th>\n",
       "      <td>1</td>\n",
       "      <td>0.9990</td>\n",
       "      <td>mobikwik, money, wallet, account, app, payment...</td>\n",
       "      <td>[dont, care, customers, misbehaving, customers...</td>\n",
       "    </tr>\n",
       "    <tr>\n",
       "      <th>4</th>\n",
       "      <td>1</td>\n",
       "      <td>0.9994</td>\n",
       "      <td>mobikwik, money, wallet, account, app, payment...</td>\n",
       "      <td>[stay_away, recharged, jio, phonepe, debited, ...</td>\n",
       "    </tr>\n",
       "    <tr>\n",
       "      <th>...</th>\n",
       "      <td>...</td>\n",
       "      <td>...</td>\n",
       "      <td>...</td>\n",
       "      <td>...</td>\n",
       "    </tr>\n",
       "    <tr>\n",
       "      <th>19726</th>\n",
       "      <td>0</td>\n",
       "      <td>0.9990</td>\n",
       "      <td>mobikwik, supercash, rs, use, cashback, wallet...</td>\n",
       "      <td>[sign, mobikwik, use, referral_code, rse, bz, ...</td>\n",
       "    </tr>\n",
       "    <tr>\n",
       "      <th>19727</th>\n",
       "      <td>1</td>\n",
       "      <td>0.9902</td>\n",
       "      <td>mobikwik, money, wallet, account, app, payment...</td>\n",
       "      <td>[money]</td>\n",
       "    </tr>\n",
       "    <tr>\n",
       "      <th>19728</th>\n",
       "      <td>1</td>\n",
       "      <td>0.9987</td>\n",
       "      <td>mobikwik, money, wallet, account, app, payment...</td>\n",
       "      <td>[understand, big, money, meand, team, daysretu...</td>\n",
       "    </tr>\n",
       "    <tr>\n",
       "      <th>19729</th>\n",
       "      <td>1</td>\n",
       "      <td>0.9990</td>\n",
       "      <td>mobikwik, money, wallet, account, app, payment...</td>\n",
       "      <td>[seriously, raised, issue, confidently, giving...</td>\n",
       "    </tr>\n",
       "    <tr>\n",
       "      <th>19730</th>\n",
       "      <td>1</td>\n",
       "      <td>0.9989</td>\n",
       "      <td>mobikwik, money, wallet, account, app, payment...</td>\n",
       "      <td>[thank, opening, savings, account, new_year, h...</td>\n",
       "    </tr>\n",
       "  </tbody>\n",
       "</table>\n",
       "<p>19731 rows × 4 columns</p>\n",
       "</div>"
      ],
      "text/plain": [
       "       Dominant_Topic  Perc_Contribution  \\\n",
       "0                   1             0.9992   \n",
       "1                   0             0.9988   \n",
       "2                   1             0.9990   \n",
       "3                   1             0.9990   \n",
       "4                   1             0.9994   \n",
       "...               ...                ...   \n",
       "19726               0             0.9990   \n",
       "19727               1             0.9902   \n",
       "19728               1             0.9987   \n",
       "19729               1             0.9990   \n",
       "19730               1             0.9989   \n",
       "\n",
       "                                          Topic_Keywords  \\\n",
       "0      mobikwik, money, wallet, account, app, payment...   \n",
       "1      mobikwik, supercash, rs, use, cashback, wallet...   \n",
       "2      mobikwik, money, wallet, account, app, payment...   \n",
       "3      mobikwik, money, wallet, account, app, payment...   \n",
       "4      mobikwik, money, wallet, account, app, payment...   \n",
       "...                                                  ...   \n",
       "19726  mobikwik, supercash, rs, use, cashback, wallet...   \n",
       "19727  mobikwik, money, wallet, account, app, payment...   \n",
       "19728  mobikwik, money, wallet, account, app, payment...   \n",
       "19729  mobikwik, money, wallet, account, app, payment...   \n",
       "19730  mobikwik, money, wallet, account, app, payment...   \n",
       "\n",
       "                                                    Text  \n",
       "0      [piss, drinking, human, crap, eating, fucking,...  \n",
       "1      [irctc_uts, app, offer, use, mobikwik, superca...  \n",
       "2      [dont, care, customers, misbehaving, customers...  \n",
       "3      [dont, care, customers, misbehaving, customers...  \n",
       "4      [stay_away, recharged, jio, phonepe, debited, ...  \n",
       "...                                                  ...  \n",
       "19726  [sign, mobikwik, use, referral_code, rse, bz, ...  \n",
       "19727                                            [money]  \n",
       "19728  [understand, big, money, meand, team, daysretu...  \n",
       "19729  [seriously, raised, issue, confidently, giving...  \n",
       "19730  [thank, opening, savings, account, new_year, h...  \n",
       "\n",
       "[19731 rows x 4 columns]"
      ]
     },
     "execution_count": 85,
     "metadata": {},
     "output_type": "execute_result"
    }
   ],
   "source": [
    "pre_df_topic_sents_keywords"
   ]
  },
  {
   "cell_type": "code",
   "execution_count": 86,
   "metadata": {},
   "outputs": [
    {
     "data": {
      "text/plain": [
       "array(['mobikwik, money, wallet, account, app, payment, help, refund, number, transaction',\n",
       "       'mobikwik, supercash, rs, use, cashback, wallet, offer, sign, referral_code, app'],\n",
       "      dtype=object)"
      ]
     },
     "execution_count": 86,
     "metadata": {},
     "output_type": "execute_result"
    }
   ],
   "source": [
    "pre_df_topic_sents_keywords['Topic_Keywords'].unique()"
   ]
  },
  {
   "cell_type": "code",
   "execution_count": 91,
   "metadata": {},
   "outputs": [
    {
     "name": "stderr",
     "output_type": "stream",
     "text": [
      "/var/folders/zl/bqtzmz3s0xl5_ddgbjsqxsww0000gn/T/ipykernel_86453/4013737119.py:9: FutureWarning: The frame.append method is deprecated and will be removed from pandas in a future version. Use pandas.concat instead.\n",
      "  sent_topics_df = sent_topics_df.append(\n"
     ]
    }
   ],
   "source": [
    "post_df_topic_sents_keywords = dominant_topics(\n",
    "   ldamodel=post_final_lda_model, corpus=post_corpus, texts=post_df['bigram'].values.tolist()\n",
    ")"
   ]
  },
  {
   "cell_type": "code",
   "execution_count": 92,
   "metadata": {},
   "outputs": [
    {
     "data": {
      "text/html": [
       "<div>\n",
       "<style scoped>\n",
       "    .dataframe tbody tr th:only-of-type {\n",
       "        vertical-align: middle;\n",
       "    }\n",
       "\n",
       "    .dataframe tbody tr th {\n",
       "        vertical-align: top;\n",
       "    }\n",
       "\n",
       "    .dataframe thead th {\n",
       "        text-align: right;\n",
       "    }\n",
       "</style>\n",
       "<table border=\"1\" class=\"dataframe\">\n",
       "  <thead>\n",
       "    <tr style=\"text-align: right;\">\n",
       "      <th></th>\n",
       "      <th>Dominant_Topic</th>\n",
       "      <th>Perc_Contribution</th>\n",
       "      <th>Topic_Keywords</th>\n",
       "      <th>Text</th>\n",
       "    </tr>\n",
       "  </thead>\n",
       "  <tbody>\n",
       "    <tr>\n",
       "      <th>0</th>\n",
       "      <td>0</td>\n",
       "      <td>0.8975</td>\n",
       "      <td>mobikwik, wallet, payment, money, account, rs,...</td>\n",
       "      <td>[dmed, query, kindly_resolve, priority, basis]</td>\n",
       "    </tr>\n",
       "    <tr>\n",
       "      <th>1</th>\n",
       "      <td>0</td>\n",
       "      <td>0.9615</td>\n",
       "      <td>mobikwik, wallet, payment, money, account, rs,...</td>\n",
       "      <td>[sir, ive, mobikwk, debit_card, try, set, upi,...</td>\n",
       "    </tr>\n",
       "    <tr>\n",
       "      <th>2</th>\n",
       "      <td>3</td>\n",
       "      <td>0.9525</td>\n",
       "      <td>hai, mobikwik, se, ka, bhi, ki, ko, nahi, ye, aur</td>\n",
       "      <td>[mobikwik, chor_hai, yah, company, company, se...</td>\n",
       "    </tr>\n",
       "    <tr>\n",
       "      <th>3</th>\n",
       "      <td>2</td>\n",
       "      <td>0.4227</td>\n",
       "      <td>app, mobikwik, indian, use, support, switch, d...</td>\n",
       "      <td>[bahut, company, use, application]</td>\n",
       "    </tr>\n",
       "    <tr>\n",
       "      <th>4</th>\n",
       "      <td>3</td>\n",
       "      <td>0.6236</td>\n",
       "      <td>hai, mobikwik, se, ka, bhi, ki, ko, nahi, ye, aur</td>\n",
       "      <td>[company, hai, mere, refund, nahi, diya, months]</td>\n",
       "    </tr>\n",
       "    <tr>\n",
       "      <th>...</th>\n",
       "      <td>...</td>\n",
       "      <td>...</td>\n",
       "      <td>...</td>\n",
       "      <td>...</td>\n",
       "    </tr>\n",
       "    <tr>\n",
       "      <th>33474</th>\n",
       "      <td>0</td>\n",
       "      <td>0.8973</td>\n",
       "      <td>mobikwik, wallet, payment, money, account, rs,...</td>\n",
       "      <td>[gyftr, supercash_upto, rs, mobikwik, visit]</td>\n",
       "    </tr>\n",
       "    <tr>\n",
       "      <th>33475</th>\n",
       "      <td>0</td>\n",
       "      <td>0.8777</td>\n",
       "      <td>mobikwik, wallet, payment, money, account, rs,...</td>\n",
       "      <td>[recharge, update, vodafone, account]</td>\n",
       "    </tr>\n",
       "    <tr>\n",
       "      <th>33476</th>\n",
       "      <td>0</td>\n",
       "      <td>0.9442</td>\n",
       "      <td>mobikwik, wallet, payment, money, account, rs,...</td>\n",
       "      <td>[dear_team, plz_help, able, login, ac, pl_help...</td>\n",
       "    </tr>\n",
       "    <tr>\n",
       "      <th>33477</th>\n",
       "      <td>0</td>\n",
       "      <td>0.9233</td>\n",
       "      <td>mobikwik, wallet, payment, money, account, rs,...</td>\n",
       "      <td>[dear_team, help, able, login, ac, bit, urgent]</td>\n",
       "    </tr>\n",
       "    <tr>\n",
       "      <th>33478</th>\n",
       "      <td>0</td>\n",
       "      <td>0.9639</td>\n",
       "      <td>mobikwik, wallet, payment, money, account, rs,...</td>\n",
       "      <td>[hey, pg, recharge, uts, wallet, gpay, says, m...</td>\n",
       "    </tr>\n",
       "  </tbody>\n",
       "</table>\n",
       "<p>33479 rows × 4 columns</p>\n",
       "</div>"
      ],
      "text/plain": [
       "       Dominant_Topic  Perc_Contribution  \\\n",
       "0                   0             0.8975   \n",
       "1                   0             0.9615   \n",
       "2                   3             0.9525   \n",
       "3                   2             0.4227   \n",
       "4                   3             0.6236   \n",
       "...               ...                ...   \n",
       "33474               0             0.8973   \n",
       "33475               0             0.8777   \n",
       "33476               0             0.9442   \n",
       "33477               0             0.9233   \n",
       "33478               0             0.9639   \n",
       "\n",
       "                                          Topic_Keywords  \\\n",
       "0      mobikwik, wallet, payment, money, account, rs,...   \n",
       "1      mobikwik, wallet, payment, money, account, rs,...   \n",
       "2      hai, mobikwik, se, ka, bhi, ki, ko, nahi, ye, aur   \n",
       "3      app, mobikwik, indian, use, support, switch, d...   \n",
       "4      hai, mobikwik, se, ka, bhi, ki, ko, nahi, ye, aur   \n",
       "...                                                  ...   \n",
       "33474  mobikwik, wallet, payment, money, account, rs,...   \n",
       "33475  mobikwik, wallet, payment, money, account, rs,...   \n",
       "33476  mobikwik, wallet, payment, money, account, rs,...   \n",
       "33477  mobikwik, wallet, payment, money, account, rs,...   \n",
       "33478  mobikwik, wallet, payment, money, account, rs,...   \n",
       "\n",
       "                                                    Text  \n",
       "0         [dmed, query, kindly_resolve, priority, basis]  \n",
       "1      [sir, ive, mobikwk, debit_card, try, set, upi,...  \n",
       "2      [mobikwik, chor_hai, yah, company, company, se...  \n",
       "3                     [bahut, company, use, application]  \n",
       "4       [company, hai, mere, refund, nahi, diya, months]  \n",
       "...                                                  ...  \n",
       "33474       [gyftr, supercash_upto, rs, mobikwik, visit]  \n",
       "33475              [recharge, update, vodafone, account]  \n",
       "33476  [dear_team, plz_help, able, login, ac, pl_help...  \n",
       "33477    [dear_team, help, able, login, ac, bit, urgent]  \n",
       "33478  [hey, pg, recharge, uts, wallet, gpay, says, m...  \n",
       "\n",
       "[33479 rows x 4 columns]"
      ]
     },
     "execution_count": 92,
     "metadata": {},
     "output_type": "execute_result"
    }
   ],
   "source": [
    "post_df_topic_sents_keywords"
   ]
  },
  {
   "cell_type": "code",
   "execution_count": 93,
   "metadata": {},
   "outputs": [
    {
     "data": {
      "text/plain": [
       "array(['mobikwik, wallet, payment, money, account, rs, recharge, app, refund, transaction',\n",
       "       'hai, mobikwik, se, ka, bhi, ki, ko, nahi, ye, aur',\n",
       "       'app, mobikwik, indian, use, support, switch, download, superlife, payment, payments',\n",
       "       'mobikwik, truly_indian, payments_app, thanks, continue, reach, dm, thank, hi, case'],\n",
       "      dtype=object)"
      ]
     },
     "execution_count": 93,
     "metadata": {},
     "output_type": "execute_result"
    }
   ],
   "source": [
    "post_df_topic_sents_keywords['Topic_Keywords'].unique()"
   ]
  },
  {
   "cell_type": "code",
   "execution_count": 94,
   "metadata": {},
   "outputs": [
    {
     "data": {
      "text/plain": [
       "1    12956\n",
       "0     6775\n",
       "Name: Dominant_Topic, dtype: int64"
      ]
     },
     "execution_count": 94,
     "metadata": {},
     "output_type": "execute_result"
    }
   ],
   "source": [
    "pre_df_topic_sents_keywords['Dominant_Topic'].value_counts()"
   ]
  },
  {
   "cell_type": "code",
   "execution_count": 95,
   "metadata": {},
   "outputs": [
    {
     "data": {
      "text/plain": [
       "0    18804\n",
       "2     8760\n",
       "1     3217\n",
       "3     2698\n",
       "Name: Dominant_Topic, dtype: int64"
      ]
     },
     "execution_count": 95,
     "metadata": {},
     "output_type": "execute_result"
    }
   ],
   "source": [
    "post_df_topic_sents_keywords['Dominant_Topic'].value_counts()"
   ]
  },
  {
   "cell_type": "code",
   "execution_count": null,
   "metadata": {},
   "outputs": [],
   "source": []
  }
 ],
 "metadata": {
  "kernelspec": {
   "display_name": "Python 3.8.13 ('project')",
   "language": "python",
   "name": "python3"
  },
  "language_info": {
   "codemirror_mode": {
    "name": "ipython",
    "version": 3
   },
   "file_extension": ".py",
   "mimetype": "text/x-python",
   "name": "python",
   "nbconvert_exporter": "python",
   "pygments_lexer": "ipython3",
   "version": "3.8.13"
  },
  "orig_nbformat": 4,
  "vscode": {
   "interpreter": {
    "hash": "af77eb27f514ee114388f6898d9553454263f7eea260918546d16a8e581c8922"
   }
  }
 },
 "nbformat": 4,
 "nbformat_minor": 2
}
