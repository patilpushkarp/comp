{
 "cells": [
  {
   "cell_type": "code",
   "execution_count": 1,
   "metadata": {},
   "outputs": [],
   "source": [
    "import glob\n",
    "import pandas as pd\n",
    "import gensim\n",
    "import spacy\n",
    "import numpy as np\n",
    "import tqdm.notebook as tqdm\n",
    "from pprint import pprint\n",
    "\n",
    "import sys\n",
    "sys.path.append('/Users/pushkar/Documents/projects/fin_comp/comp/docs')\n",
    "from utils.helper import preprocess_tweet, sentence_to_words, lemmatization"
   ]
  },
  {
   "cell_type": "code",
   "execution_count": 2,
   "metadata": {},
   "outputs": [],
   "source": [
    "df = pd.read_csv('./../../data/fintech/faircent/faircent.csv')"
   ]
  },
  {
   "cell_type": "code",
   "execution_count": 3,
   "metadata": {},
   "outputs": [
    {
     "data": {
      "text/plain": [
       "(321, 27)"
      ]
     },
     "execution_count": 3,
     "metadata": {},
     "output_type": "execute_result"
    }
   ],
   "source": [
    "df.shape"
   ]
  },
  {
   "cell_type": "code",
   "execution_count": 4,
   "metadata": {},
   "outputs": [
    {
     "data": {
      "text/plain": [
       "0      2020-12-27 12:41:53+00:00\n",
       "1      2020-12-26 11:30:05+00:00\n",
       "2      2020-12-25 06:00:38+00:00\n",
       "3      2020-12-24 16:18:26+00:00\n",
       "4      2020-12-23 09:32:50+00:00\n",
       "                 ...            \n",
       "316    2019-01-10 09:45:31+00:00\n",
       "317    2019-01-10 09:18:12+00:00\n",
       "318    2019-01-10 09:08:11+00:00\n",
       "319    2019-01-10 09:07:17+00:00\n",
       "320    2019-01-10 09:05:17+00:00\n",
       "Name: date, Length: 321, dtype: object"
      ]
     },
     "execution_count": 4,
     "metadata": {},
     "output_type": "execute_result"
    }
   ],
   "source": [
    "df.date"
   ]
  },
  {
   "cell_type": "code",
   "execution_count": 5,
   "metadata": {},
   "outputs": [],
   "source": [
    "pre_df = df[df['date'] < '2020-02-01']\n",
    "post_df = df[df['date'] >= '2020-02-01']"
   ]
  },
  {
   "cell_type": "markdown",
   "metadata": {},
   "source": [
    "## Preprocessing"
   ]
  },
  {
   "cell_type": "code",
   "execution_count": 6,
   "metadata": {},
   "outputs": [
    {
     "name": "stderr",
     "output_type": "stream",
     "text": [
      "/var/folders/zl/bqtzmz3s0xl5_ddgbjsqxsww0000gn/T/ipykernel_12225/1398106268.py:2: SettingWithCopyWarning: \n",
      "A value is trying to be set on a copy of a slice from a DataFrame.\n",
      "Try using .loc[row_indexer,col_indexer] = value instead\n",
      "\n",
      "See the caveats in the documentation: https://pandas.pydata.org/pandas-docs/stable/user_guide/indexing.html#returning-a-view-versus-a-copy\n",
      "  pre_df['preprocessed'] = pre_df['tweet'].apply(preprocess_tweet)\n",
      "/var/folders/zl/bqtzmz3s0xl5_ddgbjsqxsww0000gn/T/ipykernel_12225/1398106268.py:3: SettingWithCopyWarning: \n",
      "A value is trying to be set on a copy of a slice from a DataFrame.\n",
      "Try using .loc[row_indexer,col_indexer] = value instead\n",
      "\n",
      "See the caveats in the documentation: https://pandas.pydata.org/pandas-docs/stable/user_guide/indexing.html#returning-a-view-versus-a-copy\n",
      "  post_df['preprocessed'] = post_df['tweet'].apply(preprocess_tweet)\n"
     ]
    }
   ],
   "source": [
    "# Preprocess tweets\n",
    "pre_df['preprocessed'] = pre_df['tweet'].apply(preprocess_tweet)\n",
    "post_df['preprocessed'] = post_df['tweet'].apply(preprocess_tweet)"
   ]
  },
  {
   "cell_type": "code",
   "execution_count": 7,
   "metadata": {},
   "outputs": [],
   "source": [
    "# Create words data\n",
    "pre_data = pre_df['preprocessed'].values.tolist()\n",
    "# fintech_data_words = list(sentence_to_words(fintech_data))\n",
    "pre_data_words = list(sentence_to_words(pre_data))\n",
    "\n",
    "# Create words data\n",
    "post_data = post_df['preprocessed'].values.tolist()\n",
    "# fintech_data_words = list(sentence_to_words(fintech_data))\n",
    "post_data_words = list(sentence_to_words(post_data))"
   ]
  },
  {
   "cell_type": "code",
   "execution_count": 8,
   "metadata": {},
   "outputs": [],
   "source": [
    "# For pre-covid period\n",
    "# Build bigram and trigram models\n",
    "pre_bigram = gensim.models.phrases.Phrases(pre_data_words, min_count=5, threshold=10, connector_words=gensim.models.phrases.ENGLISH_CONNECTOR_WORDS)\n",
    "pre_trigram = gensim.models.phrases.Phrases(pre_bigram[pre_data_words], threshold=100)\n",
    "\n",
    "pre_bigram_model = gensim.models.phrases.Phraser(pre_bigram)\n",
    "pre_trigram_model = gensim.models.phrases.Phraser(pre_trigram)\n",
    "\n",
    "# For post-covid period\n",
    "# Build bigram and trigram models\n",
    "post_bigram = gensim.models.phrases.Phrases(post_data_words, min_count=5, threshold=10, connector_words=gensim.models.phrases.ENGLISH_CONNECTOR_WORDS)\n",
    "post_trigram = gensim.models.phrases.Phrases(post_bigram[post_data_words], threshold=100)\n",
    "\n",
    "post_bigram_model = gensim.models.phrases.Phraser(post_bigram)\n",
    "post_trigram_model = gensim.models.phrases.Phraser(post_trigram)"
   ]
  },
  {
   "cell_type": "code",
   "execution_count": 9,
   "metadata": {},
   "outputs": [
    {
     "name": "stderr",
     "output_type": "stream",
     "text": [
      "/var/folders/zl/bqtzmz3s0xl5_ddgbjsqxsww0000gn/T/ipykernel_12225/4258172292.py:2: SettingWithCopyWarning: \n",
      "A value is trying to be set on a copy of a slice from a DataFrame.\n",
      "Try using .loc[row_indexer,col_indexer] = value instead\n",
      "\n",
      "See the caveats in the documentation: https://pandas.pydata.org/pandas-docs/stable/user_guide/indexing.html#returning-a-view-versus-a-copy\n",
      "  pre_df['preprocessed'] = pre_df['preprocessed'].apply(gensim.parsing.preprocessing.remove_stopwords)\n",
      "/var/folders/zl/bqtzmz3s0xl5_ddgbjsqxsww0000gn/T/ipykernel_12225/4258172292.py:3: SettingWithCopyWarning: \n",
      "A value is trying to be set on a copy of a slice from a DataFrame.\n",
      "Try using .loc[row_indexer,col_indexer] = value instead\n",
      "\n",
      "See the caveats in the documentation: https://pandas.pydata.org/pandas-docs/stable/user_guide/indexing.html#returning-a-view-versus-a-copy\n",
      "  post_df['preprocessed'] = post_df['preprocessed'].apply(gensim.parsing.preprocessing.remove_stopwords)\n"
     ]
    }
   ],
   "source": [
    "# Remove stopwords\n",
    "pre_df['preprocessed'] = pre_df['preprocessed'].apply(gensim.parsing.preprocessing.remove_stopwords)\n",
    "post_df['preprocessed'] = post_df['preprocessed'].apply(gensim.parsing.preprocessing.remove_stopwords)"
   ]
  },
  {
   "cell_type": "code",
   "execution_count": 10,
   "metadata": {},
   "outputs": [
    {
     "name": "stderr",
     "output_type": "stream",
     "text": [
      "/var/folders/zl/bqtzmz3s0xl5_ddgbjsqxsww0000gn/T/ipykernel_12225/3599064045.py:1: SettingWithCopyWarning: \n",
      "A value is trying to be set on a copy of a slice from a DataFrame.\n",
      "Try using .loc[row_indexer,col_indexer] = value instead\n",
      "\n",
      "See the caveats in the documentation: https://pandas.pydata.org/pandas-docs/stable/user_guide/indexing.html#returning-a-view-versus-a-copy\n",
      "  pre_df['sep_words'] = pre_df['preprocessed'].apply(lambda x: list(sentence_to_words([x]))[0])\n",
      "/var/folders/zl/bqtzmz3s0xl5_ddgbjsqxsww0000gn/T/ipykernel_12225/3599064045.py:2: SettingWithCopyWarning: \n",
      "A value is trying to be set on a copy of a slice from a DataFrame.\n",
      "Try using .loc[row_indexer,col_indexer] = value instead\n",
      "\n",
      "See the caveats in the documentation: https://pandas.pydata.org/pandas-docs/stable/user_guide/indexing.html#returning-a-view-versus-a-copy\n",
      "  post_df['sep_words'] = post_df['preprocessed'].apply(lambda x: list(sentence_to_words([x]))[0])\n"
     ]
    }
   ],
   "source": [
    "pre_df['sep_words'] = pre_df['preprocessed'].apply(lambda x: list(sentence_to_words([x]))[0])\n",
    "post_df['sep_words'] = post_df['preprocessed'].apply(lambda x: list(sentence_to_words([x]))[0])"
   ]
  },
  {
   "cell_type": "code",
   "execution_count": 11,
   "metadata": {},
   "outputs": [
    {
     "name": "stderr",
     "output_type": "stream",
     "text": [
      "/var/folders/zl/bqtzmz3s0xl5_ddgbjsqxsww0000gn/T/ipykernel_12225/1623641631.py:1: SettingWithCopyWarning: \n",
      "A value is trying to be set on a copy of a slice from a DataFrame.\n",
      "Try using .loc[row_indexer,col_indexer] = value instead\n",
      "\n",
      "See the caveats in the documentation: https://pandas.pydata.org/pandas-docs/stable/user_guide/indexing.html#returning-a-view-versus-a-copy\n",
      "  pre_df['bigram'] = pre_df['sep_words'].apply(lambda x: pre_bigram_model[x])\n",
      "/var/folders/zl/bqtzmz3s0xl5_ddgbjsqxsww0000gn/T/ipykernel_12225/1623641631.py:2: SettingWithCopyWarning: \n",
      "A value is trying to be set on a copy of a slice from a DataFrame.\n",
      "Try using .loc[row_indexer,col_indexer] = value instead\n",
      "\n",
      "See the caveats in the documentation: https://pandas.pydata.org/pandas-docs/stable/user_guide/indexing.html#returning-a-view-versus-a-copy\n",
      "  post_df['bigram'] = post_df['sep_words'].apply(lambda x: post_bigram_model[x])\n"
     ]
    }
   ],
   "source": [
    "pre_df['bigram'] = pre_df['sep_words'].apply(lambda x: pre_bigram_model[x])\n",
    "post_df['bigram'] = post_df['sep_words'].apply(lambda x: post_bigram_model[x])"
   ]
  },
  {
   "cell_type": "code",
   "execution_count": 12,
   "metadata": {},
   "outputs": [
    {
     "name": "stderr",
     "output_type": "stream",
     "text": [
      "/var/folders/zl/bqtzmz3s0xl5_ddgbjsqxsww0000gn/T/ipykernel_12225/1589984664.py:1: SettingWithCopyWarning: \n",
      "A value is trying to be set on a copy of a slice from a DataFrame.\n",
      "Try using .loc[row_indexer,col_indexer] = value instead\n",
      "\n",
      "See the caveats in the documentation: https://pandas.pydata.org/pandas-docs/stable/user_guide/indexing.html#returning-a-view-versus-a-copy\n",
      "  pre_df['trigram'] = pre_df['bigram'].apply(lambda x: [pre_trigram_model[x]])\n",
      "/var/folders/zl/bqtzmz3s0xl5_ddgbjsqxsww0000gn/T/ipykernel_12225/1589984664.py:2: SettingWithCopyWarning: \n",
      "A value is trying to be set on a copy of a slice from a DataFrame.\n",
      "Try using .loc[row_indexer,col_indexer] = value instead\n",
      "\n",
      "See the caveats in the documentation: https://pandas.pydata.org/pandas-docs/stable/user_guide/indexing.html#returning-a-view-versus-a-copy\n",
      "  post_df['trigram'] = post_df['bigram'].apply(lambda x: [post_trigram_model[x]])\n"
     ]
    }
   ],
   "source": [
    "pre_df['trigram'] = pre_df['bigram'].apply(lambda x: [pre_trigram_model[x]])\n",
    "post_df['trigram'] = post_df['bigram'].apply(lambda x: [post_trigram_model[x]])"
   ]
  },
  {
   "cell_type": "code",
   "execution_count": 13,
   "metadata": {},
   "outputs": [],
   "source": [
    "pre_id2word = gensim.corpora.Dictionary(pre_df['bigram'].values.tolist())\n",
    "post_id2word = gensim.corpora.Dictionary(post_df['bigram'].values.tolist())"
   ]
  },
  {
   "cell_type": "code",
   "execution_count": 14,
   "metadata": {},
   "outputs": [],
   "source": [
    "pre_corpus = [pre_id2word.doc2bow(text) for text in pre_df['bigram'].values.tolist()]\n",
    "post_corpus = [post_id2word.doc2bow(text) for text in post_df['bigram'].values.tolist()]"
   ]
  },
  {
   "cell_type": "markdown",
   "metadata": {},
   "source": [
    "## Base Model"
   ]
  },
  {
   "cell_type": "markdown",
   "metadata": {},
   "source": [
    "### Training"
   ]
  },
  {
   "cell_type": "code",
   "execution_count": 15,
   "metadata": {},
   "outputs": [],
   "source": [
    "pre_lda_model = gensim.models.LdaMulticore(corpus=pre_corpus,\n",
    "                                        id2word=pre_id2word,\n",
    "                                        num_topics=10,\n",
    "                                        random_state=42,\n",
    "                                        chunksize=100,\n",
    "                                        passes=10,\n",
    "                                        per_word_topics=True)"
   ]
  },
  {
   "cell_type": "code",
   "execution_count": 16,
   "metadata": {},
   "outputs": [
    {
     "name": "stdout",
     "output_type": "stream",
     "text": [
      "[(0,\n",
      "  '0.031*\"faircent\" + 0.024*\"hai\" + 0.012*\"overdue\" + 0.012*\"bhi\" + '\n",
      "  '0.012*\"emi\" + 0.011*\"platform\" + 0.008*\"loan\" + 0.008*\"getting\" + '\n",
      "  '0.008*\"thank\" + 0.008*\"thanks\"'),\n",
      " (1,\n",
      "  '0.019*\"faircent\" + 0.019*\"loan\" + 0.019*\"platform\" + 0.018*\"sum\" + '\n",
      "  '0.017*\"lending_platform\" + 0.017*\"led\" + 0.017*\"undisclosed\" + '\n",
      "  '0.013*\"lakhs\" + 0.013*\"fee\" + 0.013*\"portfolio\"'),\n",
      " (2,\n",
      "  '0.031*\"faircent\" + 0.024*\"team\" + 0.016*\"registration\" + 0.016*\"pay\" + '\n",
      "  '0.016*\"got\" + 0.008*\"lenders\" + 0.008*\"lending\" + 0.008*\"lending_platform\" '\n",
      "  '+ 0.008*\"account\" + 0.008*\"customer\"'),\n",
      " (3,\n",
      "  '0.071*\"gunosy_capital\" + 0.066*\"das_capital\" + 0.060*\"faircent_raises\" + '\n",
      "  '0.043*\"fresh_funding\" + 0.043*\"investors_led\" + 0.022*\"funding\" + '\n",
      "  '0.016*\"gets\" + 0.011*\"capital\" + 0.011*\"round\" + 0.011*\"news\"'),\n",
      " (4,\n",
      "  '0.032*\"lending\" + 0.025*\"faircent\" + 0.024*\"founder\" + 0.024*\"vinay\" + '\n",
      "  '0.024*\"coo\" + 0.019*\"mathews\" + 0.014*\"india\" + 0.014*\"drivers\" + '\n",
      "  '0.014*\"dawn\" + 0.010*\"borrowers\"'),\n",
      " (5,\n",
      "  '0.090*\"faircent\" + 0.027*\"wishes\" + 0.019*\"online\" + 0.017*\"india\" + '\n",
      "  '0.017*\"personal_loans\" + 0.011*\"loan\" + 0.009*\"lending\" + 0.008*\"market\" + '\n",
      "  '0.008*\"diligence\" + 0.008*\"money\"'),\n",
      " (6,\n",
      "  '0.104*\"faircent\" + 0.043*\"lending\" + 0.032*\"ties\" + 0.031*\"cube_wealth\" + '\n",
      "  '0.022*\"platform\" + 0.021*\"percent\" + 0.021*\"launches\" + 0.021*\"book\" + '\n",
      "  '0.017*\"counts\" + 0.014*\"money\"'),\n",
      " (7,\n",
      "  '0.024*\"faircent\" + 0.014*\"credit\" + 0.010*\"like\" + 0.010*\"retail\" + '\n",
      "  '0.010*\"based\" + 0.010*\"firm\" + 0.010*\"investrs\" + 0.010*\"million\" + '\n",
      "  '0.010*\"terrible\" + 0.010*\"website\"'),\n",
      " (8,\n",
      "  '0.037*\"new\" + 0.037*\"rajat_gandhi\" + 0.037*\"nbfcp\" + 0.037*\"association\" + '\n",
      "  '0.037*\"faircents\" + 0.037*\"president\" + 0.037*\"appoints\" + 0.016*\"faircent\" '\n",
      "  '+ 0.015*\"check\" + 0.015*\"number\"'),\n",
      " (9,\n",
      "  '0.061*\"faircent\" + 0.027*\"loans_disbursed\" + 0.027*\"smes\" + 0.018*\"says\" + '\n",
      "  '0.014*\"account\" + 0.009*\"india\" + 0.009*\"indias\" + 0.009*\"dot\" + '\n",
      "  '0.009*\"market\" + 0.009*\"tax\"')]\n"
     ]
    }
   ],
   "source": [
    "pprint(pre_lda_model.print_topics())\n",
    "pre_doc_lda = pre_lda_model[pre_corpus]"
   ]
  },
  {
   "cell_type": "code",
   "execution_count": 17,
   "metadata": {},
   "outputs": [],
   "source": [
    "post_lda_model = gensim.models.LdaMulticore(corpus=post_corpus,\n",
    "                                        id2word=post_id2word,\n",
    "                                        num_topics=10,\n",
    "                                        random_state=42,\n",
    "                                        chunksize=100,\n",
    "                                        passes=10,\n",
    "                                        per_word_topics=True)"
   ]
  },
  {
   "cell_type": "code",
   "execution_count": 18,
   "metadata": {},
   "outputs": [
    {
     "name": "stdout",
     "output_type": "stream",
     "text": [
      "[(0,\n",
      "  '0.023*\"faircent\" + 0.015*\"loan\" + 0.012*\"late\" + 0.009*\"collection\" + '\n",
      "  '0.009*\"plan\" + 0.009*\"emi\" + 0.009*\"money\" + 0.009*\"business\" + 0.009*\"hai\" '\n",
      "  '+ 0.009*\"local\"'),\n",
      " (1,\n",
      "  '0.059*\"faircent\" + 0.025*\"invest\" + 0.021*\"dad\" + 0.021*\"dad_yrs\" + '\n",
      "  '0.021*\"team_act\" + 0.021*\"promptly_rgds\" + 0.021*\"money_request\" + '\n",
      "  '0.021*\"sumit\" + 0.021*\"feb\" + 0.021*\"rm\"'),\n",
      " (2,\n",
      "  '0.038*\"faircent\" + 0.021*\"economic\" + 0.013*\"growth\" + 0.011*\"lending\" + '\n",
      "  '0.011*\"single\" + 0.011*\"company\" + 0.011*\"code\" + 0.011*\"dsa\" + '\n",
      "  '0.011*\"businesses\" + 0.010*\"indias\"'),\n",
      " (3,\n",
      "  '0.037*\"faircent\" + 0.020*\"emi\" + 0.015*\"lending\" + 0.013*\"rs\" + '\n",
      "  '0.010*\"customer\" + 0.010*\"account\" + 0.010*\"pay\" + 0.010*\"dear\" + '\n",
      "  '0.009*\"market\" + 0.008*\"good\"'),\n",
      " (4,\n",
      "  '0.037*\"faircent\" + 0.027*\"bank\" + 0.018*\"india\" + 0.018*\"india_vinay\" + '\n",
      "  '0.018*\"guests\" + 0.018*\"tambe_state\" + 0.018*\"week_dhananjaya\" + '\n",
      "  '0.018*\"mathews_faircent\" + 0.018*\"adhil_shetty\" + 0.018*\"fia_global\"'),\n",
      " (5,\n",
      "  '0.038*\"loans\" + 0.038*\"help_ease\" + 0.035*\"anti_lockdown\" + '\n",
      "  '0.035*\"amid_covid\" + 0.035*\"liquidity_pressure\" + 0.032*\"faircent_launches\" '\n",
      "  '+ 0.031*\"lender\" + 0.029*\"ur\" + 0.020*\"faircent\" + 0.019*\"paid\"'),\n",
      " (6,\n",
      "  '0.049*\"faircent\" + 0.042*\"lending\" + 0.039*\"india\" + 0.033*\"dawn\" + '\n",
      "  '0.018*\"finance\" + 0.018*\"blog\" + 0.018*\"mint\" + 0.018*\"save\" + 0.011*\"rate\" '\n",
      "  '+ 0.008*\"lend\"'),\n",
      " (7,\n",
      "  '0.032*\"faircent\" + 0.013*\"number\" + 0.013*\"team\" + 0.012*\"pls\" + '\n",
      "  '0.010*\"new\" + 0.010*\"emi\" + 0.010*\"pay\" + 0.010*\"required\" + 0.010*\"sir\" + '\n",
      "  '0.010*\"regards\"'),\n",
      " (8,\n",
      "  '0.041*\"faircent\" + 0.035*\"loan\" + 0.011*\"nbfc\" + 0.011*\"recovery\" + '\n",
      "  '0.010*\"team\" + 0.010*\"covid\" + 0.009*\"collection\" + 0.008*\"company\" + '\n",
      "  '0.007*\"borrower\" + 0.007*\"fullerton\"'),\n",
      " (9,\n",
      "  '0.045*\"faircent\" + 0.027*\"hai\" + 0.015*\"ke\" + 0.013*\"nhi\" + 0.012*\"loan\" + '\n",
      "  '0.011*\"lockdown\" + 0.009*\"pm\" + 0.009*\"ne\" + 0.006*\"charges\" + '\n",
      "  '0.006*\"message\"')]\n"
     ]
    }
   ],
   "source": [
    "pprint(post_lda_model.print_topics())\n",
    "post_doc_lda = post_lda_model[post_corpus]"
   ]
  },
  {
   "cell_type": "markdown",
   "metadata": {},
   "source": [
    "### Evaluation"
   ]
  },
  {
   "cell_type": "code",
   "execution_count": 19,
   "metadata": {},
   "outputs": [
    {
     "name": "stdout",
     "output_type": "stream",
     "text": [
      "Pre-COVID Coherence Score:  -14.960172801971495\n"
     ]
    }
   ],
   "source": [
    "pre_coherence_model_lda = gensim.models.CoherenceModel(model=pre_lda_model, \n",
    "                                                    texts=pre_df['bigram'].values.tolist(), \n",
    "                                                    dictionary=pre_id2word, \n",
    "                                                    coherence='u_mass')\n",
    "pre_coherence_lda = pre_coherence_model_lda.get_coherence()\n",
    "print('Pre-COVID Coherence Score: ', pre_coherence_lda)"
   ]
  },
  {
   "cell_type": "code",
   "execution_count": 20,
   "metadata": {},
   "outputs": [
    {
     "name": "stdout",
     "output_type": "stream",
     "text": [
      "Post-COVID Coherence Score:  -12.770780055225163\n"
     ]
    }
   ],
   "source": [
    "post_coherence_model_lda = gensim.models.CoherenceModel(model=post_lda_model, \n",
    "                                                    texts=post_df['bigram'].values.tolist(), \n",
    "                                                    dictionary=post_id2word, \n",
    "                                                    coherence='u_mass')\n",
    "post_coherence_lda = post_coherence_model_lda.get_coherence()\n",
    "print('Post-COVID Coherence Score: ', post_coherence_lda)"
   ]
  },
  {
   "cell_type": "markdown",
   "metadata": {},
   "source": [
    "## Hyper-parameter tuning"
   ]
  },
  {
   "cell_type": "code",
   "execution_count": 21,
   "metadata": {},
   "outputs": [],
   "source": [
    "def compute_coherence_values(corpus, dictionary, k, alpha, beta, texts, coherence='u_mass'):\n",
    "    \n",
    "    lda_model = gensim.models.LdaMulticore(corpus=corpus,\n",
    "                                           id2word=dictionary,\n",
    "                                           num_topics=k, \n",
    "                                           random_state=100,\n",
    "                                           chunksize=100,\n",
    "                                           passes=10,\n",
    "                                           alpha=alpha,\n",
    "                                           eta=beta)\n",
    "    \n",
    "    coherence_model_lda = gensim.models.CoherenceModel(model=lda_model, \n",
    "                                                        texts=texts, \n",
    "                                                        dictionary=dictionary, \n",
    "                                                        coherence=coherence)\n",
    "    \n",
    "    return coherence_model_lda.get_coherence()"
   ]
  },
  {
   "cell_type": "markdown",
   "metadata": {},
   "source": [
    "### Pre-COVID"
   ]
  },
  {
   "cell_type": "code",
   "execution_count": 22,
   "metadata": {},
   "outputs": [],
   "source": [
    "grid = {}\n",
    "grid['Validation_Set'] = {}"
   ]
  },
  {
   "cell_type": "code",
   "execution_count": 23,
   "metadata": {},
   "outputs": [],
   "source": [
    "corpus = pre_corpus"
   ]
  },
  {
   "cell_type": "code",
   "execution_count": 24,
   "metadata": {},
   "outputs": [],
   "source": [
    "# Topics range\n",
    "min_topics = 2\n",
    "max_topics = 31\n",
    "step_size = 1\n",
    "topics_range = range(min_topics, max_topics, step_size)\n",
    "\n",
    "# Alpha parameter\n",
    "alpha = list(np.arange(0.01, 1, 0.3))\n",
    "alpha.append('symmetric')\n",
    "alpha.append('asymmetric')\n",
    "\n",
    "# Beta parameter\n",
    "beta = list(np.arange(0.01, 1, 0.3))\n",
    "beta.append('symmetric')\n",
    "\n",
    "# Validation sets\n",
    "num_of_docs = len(corpus)\n",
    "corpus_sets = [#gensim.utils.ClippedCorpus(corpus, int(num_of_docs*0.75)), \n",
    "               corpus]\n",
    "corpus_title = ['75% Corpus', '100% Corpus']\n",
    "model_results = {'Validation_Set': [],\n",
    "                 'Topics': [],\n",
    "                 'Alpha': [],\n",
    "                 'Beta': [],\n",
    "                 'Coherence': []\n",
    "                }"
   ]
  },
  {
   "cell_type": "code",
   "execution_count": 25,
   "metadata": {},
   "outputs": [],
   "source": [
    "iterations = len(topics_range) * len(alpha) * len(beta) * len(corpus_sets)"
   ]
  },
  {
   "cell_type": "code",
   "execution_count": 26,
   "metadata": {},
   "outputs": [
    {
     "data": {
      "application/vnd.jupyter.widget-view+json": {
       "model_id": "005e96a104ba4ee2a6552b8c333d8f7d",
       "version_major": 2,
       "version_minor": 0
      },
      "text/plain": [
       "  0%|          | 0/870 [00:00<?, ?it/s]"
      ]
     },
     "metadata": {},
     "output_type": "display_data"
    },
    {
     "name": "stderr",
     "output_type": "stream",
     "text": [
      "/Users/pushkar/miniforge3/envs/project/lib/python3.8/site-packages/gensim/topic_coherence/direct_confirmation_measure.py:204: RuntimeWarning: divide by zero encountered in double_scalars\n",
      "  m_lr_i = np.log(numerator / denominator)\n",
      "/Users/pushkar/miniforge3/envs/project/lib/python3.8/site-packages/gensim/topic_coherence/indirect_confirmation_measure.py:323: RuntimeWarning: invalid value encountered in double_scalars\n",
      "  return cv1.T.dot(cv2)[0, 0] / (_magnitude(cv1) * _magnitude(cv2))\n"
     ]
    }
   ],
   "source": [
    "# Can take a long time to run\n",
    "if 1 == 1:\n",
    "    pbar = tqdm.tqdm(total=iterations)\n",
    "    \n",
    "    # iterate through validation corpuses\n",
    "    for i in range(len(corpus_sets)):\n",
    "        # iterate through number of topics\n",
    "        for k in topics_range:\n",
    "            # iterate through alpha values\n",
    "            for a in alpha:\n",
    "                # iterare through beta values\n",
    "                for b in beta:\n",
    "                    # get the coherence score for the given parameters\n",
    "                    cv = compute_coherence_values(corpus=corpus_sets[i], \n",
    "                                                  dictionary=pre_id2word, \n",
    "                                                  k=k, alpha=a, beta=b,\n",
    "                                                  texts=pre_df['bigram'].values.tolist(),\n",
    "                                                  coherence='c_v')\n",
    "                    # Save the model results\n",
    "                    model_results['Validation_Set'].append(corpus_title[i])\n",
    "                    model_results['Topics'].append(k)\n",
    "                    model_results['Alpha'].append(a)\n",
    "                    model_results['Beta'].append(b)\n",
    "                    model_results['Coherence'].append(cv)\n",
    "                    \n",
    "                    pbar.update(1)\n",
    "    pre_df_result = pd.DataFrame(model_results)\n",
    "    pbar.close()"
   ]
  },
  {
   "cell_type": "code",
   "execution_count": 27,
   "metadata": {},
   "outputs": [
    {
     "data": {
      "text/html": [
       "<div>\n",
       "<style scoped>\n",
       "    .dataframe tbody tr th:only-of-type {\n",
       "        vertical-align: middle;\n",
       "    }\n",
       "\n",
       "    .dataframe tbody tr th {\n",
       "        vertical-align: top;\n",
       "    }\n",
       "\n",
       "    .dataframe thead th {\n",
       "        text-align: right;\n",
       "    }\n",
       "</style>\n",
       "<table border=\"1\" class=\"dataframe\">\n",
       "  <thead>\n",
       "    <tr style=\"text-align: right;\">\n",
       "      <th></th>\n",
       "      <th>Validation_Set</th>\n",
       "      <th>Topics</th>\n",
       "      <th>Alpha</th>\n",
       "      <th>Beta</th>\n",
       "      <th>Coherence</th>\n",
       "    </tr>\n",
       "  </thead>\n",
       "  <tbody>\n",
       "    <tr>\n",
       "      <th>0</th>\n",
       "      <td>75% Corpus</td>\n",
       "      <td>2</td>\n",
       "      <td>0.01</td>\n",
       "      <td>0.01</td>\n",
       "      <td>0.590292</td>\n",
       "    </tr>\n",
       "    <tr>\n",
       "      <th>1</th>\n",
       "      <td>75% Corpus</td>\n",
       "      <td>2</td>\n",
       "      <td>0.01</td>\n",
       "      <td>0.31</td>\n",
       "      <td>0.601090</td>\n",
       "    </tr>\n",
       "    <tr>\n",
       "      <th>2</th>\n",
       "      <td>75% Corpus</td>\n",
       "      <td>2</td>\n",
       "      <td>0.01</td>\n",
       "      <td>0.61</td>\n",
       "      <td>0.601090</td>\n",
       "    </tr>\n",
       "    <tr>\n",
       "      <th>3</th>\n",
       "      <td>75% Corpus</td>\n",
       "      <td>2</td>\n",
       "      <td>0.01</td>\n",
       "      <td>0.91</td>\n",
       "      <td>0.619933</td>\n",
       "    </tr>\n",
       "    <tr>\n",
       "      <th>4</th>\n",
       "      <td>75% Corpus</td>\n",
       "      <td>2</td>\n",
       "      <td>0.01</td>\n",
       "      <td>symmetric</td>\n",
       "      <td>0.614663</td>\n",
       "    </tr>\n",
       "    <tr>\n",
       "      <th>...</th>\n",
       "      <td>...</td>\n",
       "      <td>...</td>\n",
       "      <td>...</td>\n",
       "      <td>...</td>\n",
       "      <td>...</td>\n",
       "    </tr>\n",
       "    <tr>\n",
       "      <th>865</th>\n",
       "      <td>75% Corpus</td>\n",
       "      <td>30</td>\n",
       "      <td>asymmetric</td>\n",
       "      <td>0.01</td>\n",
       "      <td>NaN</td>\n",
       "    </tr>\n",
       "    <tr>\n",
       "      <th>866</th>\n",
       "      <td>75% Corpus</td>\n",
       "      <td>30</td>\n",
       "      <td>asymmetric</td>\n",
       "      <td>0.31</td>\n",
       "      <td>NaN</td>\n",
       "    </tr>\n",
       "    <tr>\n",
       "      <th>867</th>\n",
       "      <td>75% Corpus</td>\n",
       "      <td>30</td>\n",
       "      <td>asymmetric</td>\n",
       "      <td>0.61</td>\n",
       "      <td>NaN</td>\n",
       "    </tr>\n",
       "    <tr>\n",
       "      <th>868</th>\n",
       "      <td>75% Corpus</td>\n",
       "      <td>30</td>\n",
       "      <td>asymmetric</td>\n",
       "      <td>0.91</td>\n",
       "      <td>NaN</td>\n",
       "    </tr>\n",
       "    <tr>\n",
       "      <th>869</th>\n",
       "      <td>75% Corpus</td>\n",
       "      <td>30</td>\n",
       "      <td>asymmetric</td>\n",
       "      <td>symmetric</td>\n",
       "      <td>NaN</td>\n",
       "    </tr>\n",
       "  </tbody>\n",
       "</table>\n",
       "<p>870 rows × 5 columns</p>\n",
       "</div>"
      ],
      "text/plain": [
       "    Validation_Set  Topics       Alpha       Beta  Coherence\n",
       "0       75% Corpus       2        0.01       0.01   0.590292\n",
       "1       75% Corpus       2        0.01       0.31   0.601090\n",
       "2       75% Corpus       2        0.01       0.61   0.601090\n",
       "3       75% Corpus       2        0.01       0.91   0.619933\n",
       "4       75% Corpus       2        0.01  symmetric   0.614663\n",
       "..             ...     ...         ...        ...        ...\n",
       "865     75% Corpus      30  asymmetric       0.01        NaN\n",
       "866     75% Corpus      30  asymmetric       0.31        NaN\n",
       "867     75% Corpus      30  asymmetric       0.61        NaN\n",
       "868     75% Corpus      30  asymmetric       0.91        NaN\n",
       "869     75% Corpus      30  asymmetric  symmetric        NaN\n",
       "\n",
       "[870 rows x 5 columns]"
      ]
     },
     "execution_count": 27,
     "metadata": {},
     "output_type": "execute_result"
    }
   ],
   "source": [
    "pre_df_result"
   ]
  },
  {
   "cell_type": "code",
   "execution_count": 179,
   "metadata": {},
   "outputs": [],
   "source": [
    "pre_topics_score = []\n",
    "for i in pre_df_result['Topics'].value_counts().index:\n",
    "    data = []\n",
    "    data.append(i)\n",
    "    temp = pre_df_result[(pre_df_result['Topics'] == i) & (pre_df_result['Alpha'] == 'symmetric') & (pre_df_result['Beta'] == 'symmetric')]\n",
    "    max_value = temp['Coherence'].max()\n",
    "    data.append(max_value)\n",
    "    pre_topics_score.append(data)"
   ]
  },
  {
   "cell_type": "code",
   "execution_count": 180,
   "metadata": {},
   "outputs": [],
   "source": [
    "pre_ts_df = pd.DataFrame(pre_topics_score)\n",
    "pre_ts_df.columns = ['topics', 'coherence']"
   ]
  },
  {
   "cell_type": "code",
   "execution_count": 181,
   "metadata": {},
   "outputs": [
    {
     "data": {
      "text/html": [
       "<div>\n",
       "<style scoped>\n",
       "    .dataframe tbody tr th:only-of-type {\n",
       "        vertical-align: middle;\n",
       "    }\n",
       "\n",
       "    .dataframe tbody tr th {\n",
       "        vertical-align: top;\n",
       "    }\n",
       "\n",
       "    .dataframe thead th {\n",
       "        text-align: right;\n",
       "    }\n",
       "</style>\n",
       "<table border=\"1\" class=\"dataframe\">\n",
       "  <thead>\n",
       "    <tr style=\"text-align: right;\">\n",
       "      <th></th>\n",
       "      <th>topics</th>\n",
       "      <th>coherence</th>\n",
       "    </tr>\n",
       "  </thead>\n",
       "  <tbody>\n",
       "    <tr>\n",
       "      <th>0</th>\n",
       "      <td>2</td>\n",
       "      <td>0.605974</td>\n",
       "    </tr>\n",
       "    <tr>\n",
       "      <th>15</th>\n",
       "      <td>3</td>\n",
       "      <td>0.562598</td>\n",
       "    </tr>\n",
       "    <tr>\n",
       "      <th>27</th>\n",
       "      <td>4</td>\n",
       "      <td>NaN</td>\n",
       "    </tr>\n",
       "    <tr>\n",
       "      <th>26</th>\n",
       "      <td>5</td>\n",
       "      <td>0.563947</td>\n",
       "    </tr>\n",
       "    <tr>\n",
       "      <th>25</th>\n",
       "      <td>6</td>\n",
       "      <td>NaN</td>\n",
       "    </tr>\n",
       "  </tbody>\n",
       "</table>\n",
       "</div>"
      ],
      "text/plain": [
       "    topics  coherence\n",
       "0        2   0.605974\n",
       "15       3   0.562598\n",
       "27       4        NaN\n",
       "26       5   0.563947\n",
       "25       6        NaN"
      ]
     },
     "execution_count": 181,
     "metadata": {},
     "output_type": "execute_result"
    }
   ],
   "source": [
    "pre_ts_df.sort_values('topics', inplace=True)\n",
    "pre_ts_df.head()"
   ]
  },
  {
   "cell_type": "code",
   "execution_count": 183,
   "metadata": {},
   "outputs": [
    {
     "data": {
      "text/plain": [
       "<AxesSubplot: xlabel='topics'>"
      ]
     },
     "execution_count": 183,
     "metadata": {},
     "output_type": "execute_result"
    },
    {
     "data": {
      "image/png": "[encoded data removed]",
      "text/plain": [
       "<Figure size 640x480 with 1 Axes>"
      ]
     },
     "metadata": {},
     "output_type": "display_data"
    }
   ],
   "source": [
    "pre_ts_df.plot.line(x='topics', y='coherence')"
   ]
  },
  {
   "cell_type": "code",
   "execution_count": 184,
   "metadata": {},
   "outputs": [
    {
     "data": {
      "text/html": [
       "<div>\n",
       "<style scoped>\n",
       "    .dataframe tbody tr th:only-of-type {\n",
       "        vertical-align: middle;\n",
       "    }\n",
       "\n",
       "    .dataframe tbody tr th {\n",
       "        vertical-align: top;\n",
       "    }\n",
       "\n",
       "    .dataframe thead th {\n",
       "        text-align: right;\n",
       "    }\n",
       "</style>\n",
       "<table border=\"1\" class=\"dataframe\">\n",
       "  <thead>\n",
       "    <tr style=\"text-align: right;\">\n",
       "      <th></th>\n",
       "      <th>Validation_Set</th>\n",
       "      <th>Topics</th>\n",
       "      <th>Alpha</th>\n",
       "      <th>Beta</th>\n",
       "      <th>Coherence</th>\n",
       "    </tr>\n",
       "  </thead>\n",
       "  <tbody>\n",
       "    <tr>\n",
       "      <th>0</th>\n",
       "      <td>75% Corpus</td>\n",
       "      <td>2</td>\n",
       "      <td>0.01</td>\n",
       "      <td>0.01</td>\n",
       "      <td>0.590292</td>\n",
       "    </tr>\n",
       "    <tr>\n",
       "      <th>1</th>\n",
       "      <td>75% Corpus</td>\n",
       "      <td>2</td>\n",
       "      <td>0.01</td>\n",
       "      <td>0.31</td>\n",
       "      <td>0.601090</td>\n",
       "    </tr>\n",
       "    <tr>\n",
       "      <th>2</th>\n",
       "      <td>75% Corpus</td>\n",
       "      <td>2</td>\n",
       "      <td>0.01</td>\n",
       "      <td>0.61</td>\n",
       "      <td>0.601090</td>\n",
       "    </tr>\n",
       "    <tr>\n",
       "      <th>3</th>\n",
       "      <td>75% Corpus</td>\n",
       "      <td>2</td>\n",
       "      <td>0.01</td>\n",
       "      <td>0.91</td>\n",
       "      <td>0.619933</td>\n",
       "    </tr>\n",
       "    <tr>\n",
       "      <th>4</th>\n",
       "      <td>75% Corpus</td>\n",
       "      <td>2</td>\n",
       "      <td>0.01</td>\n",
       "      <td>symmetric</td>\n",
       "      <td>0.614663</td>\n",
       "    </tr>\n",
       "    <tr>\n",
       "      <th>5</th>\n",
       "      <td>75% Corpus</td>\n",
       "      <td>2</td>\n",
       "      <td>0.31</td>\n",
       "      <td>0.01</td>\n",
       "      <td>0.588778</td>\n",
       "    </tr>\n",
       "    <tr>\n",
       "      <th>6</th>\n",
       "      <td>75% Corpus</td>\n",
       "      <td>2</td>\n",
       "      <td>0.31</td>\n",
       "      <td>0.31</td>\n",
       "      <td>0.588778</td>\n",
       "    </tr>\n",
       "    <tr>\n",
       "      <th>7</th>\n",
       "      <td>75% Corpus</td>\n",
       "      <td>2</td>\n",
       "      <td>0.31</td>\n",
       "      <td>0.61</td>\n",
       "      <td>0.588778</td>\n",
       "    </tr>\n",
       "    <tr>\n",
       "      <th>8</th>\n",
       "      <td>75% Corpus</td>\n",
       "      <td>2</td>\n",
       "      <td>0.31</td>\n",
       "      <td>0.91</td>\n",
       "      <td>0.589965</td>\n",
       "    </tr>\n",
       "    <tr>\n",
       "      <th>9</th>\n",
       "      <td>75% Corpus</td>\n",
       "      <td>2</td>\n",
       "      <td>0.31</td>\n",
       "      <td>symmetric</td>\n",
       "      <td>0.588778</td>\n",
       "    </tr>\n",
       "    <tr>\n",
       "      <th>10</th>\n",
       "      <td>75% Corpus</td>\n",
       "      <td>2</td>\n",
       "      <td>0.61</td>\n",
       "      <td>0.01</td>\n",
       "      <td>0.599121</td>\n",
       "    </tr>\n",
       "    <tr>\n",
       "      <th>11</th>\n",
       "      <td>75% Corpus</td>\n",
       "      <td>2</td>\n",
       "      <td>0.61</td>\n",
       "      <td>0.31</td>\n",
       "      <td>0.591411</td>\n",
       "    </tr>\n",
       "    <tr>\n",
       "      <th>12</th>\n",
       "      <td>75% Corpus</td>\n",
       "      <td>2</td>\n",
       "      <td>0.61</td>\n",
       "      <td>0.61</td>\n",
       "      <td>0.593993</td>\n",
       "    </tr>\n",
       "    <tr>\n",
       "      <th>13</th>\n",
       "      <td>75% Corpus</td>\n",
       "      <td>2</td>\n",
       "      <td>0.61</td>\n",
       "      <td>0.91</td>\n",
       "      <td>0.599098</td>\n",
       "    </tr>\n",
       "    <tr>\n",
       "      <th>14</th>\n",
       "      <td>75% Corpus</td>\n",
       "      <td>2</td>\n",
       "      <td>0.61</td>\n",
       "      <td>symmetric</td>\n",
       "      <td>0.599121</td>\n",
       "    </tr>\n",
       "    <tr>\n",
       "      <th>15</th>\n",
       "      <td>75% Corpus</td>\n",
       "      <td>2</td>\n",
       "      <td>0.91</td>\n",
       "      <td>0.01</td>\n",
       "      <td>0.597945</td>\n",
       "    </tr>\n",
       "    <tr>\n",
       "      <th>16</th>\n",
       "      <td>75% Corpus</td>\n",
       "      <td>2</td>\n",
       "      <td>0.91</td>\n",
       "      <td>0.31</td>\n",
       "      <td>0.588370</td>\n",
       "    </tr>\n",
       "    <tr>\n",
       "      <th>17</th>\n",
       "      <td>75% Corpus</td>\n",
       "      <td>2</td>\n",
       "      <td>0.91</td>\n",
       "      <td>0.61</td>\n",
       "      <td>0.591012</td>\n",
       "    </tr>\n",
       "    <tr>\n",
       "      <th>18</th>\n",
       "      <td>75% Corpus</td>\n",
       "      <td>2</td>\n",
       "      <td>0.91</td>\n",
       "      <td>0.91</td>\n",
       "      <td>0.595953</td>\n",
       "    </tr>\n",
       "    <tr>\n",
       "      <th>19</th>\n",
       "      <td>75% Corpus</td>\n",
       "      <td>2</td>\n",
       "      <td>0.91</td>\n",
       "      <td>symmetric</td>\n",
       "      <td>0.581284</td>\n",
       "    </tr>\n",
       "    <tr>\n",
       "      <th>20</th>\n",
       "      <td>75% Corpus</td>\n",
       "      <td>2</td>\n",
       "      <td>symmetric</td>\n",
       "      <td>0.01</td>\n",
       "      <td>0.605974</td>\n",
       "    </tr>\n",
       "    <tr>\n",
       "      <th>21</th>\n",
       "      <td>75% Corpus</td>\n",
       "      <td>2</td>\n",
       "      <td>symmetric</td>\n",
       "      <td>0.31</td>\n",
       "      <td>0.598264</td>\n",
       "    </tr>\n",
       "    <tr>\n",
       "      <th>22</th>\n",
       "      <td>75% Corpus</td>\n",
       "      <td>2</td>\n",
       "      <td>symmetric</td>\n",
       "      <td>0.61</td>\n",
       "      <td>0.599783</td>\n",
       "    </tr>\n",
       "    <tr>\n",
       "      <th>23</th>\n",
       "      <td>75% Corpus</td>\n",
       "      <td>2</td>\n",
       "      <td>symmetric</td>\n",
       "      <td>0.91</td>\n",
       "      <td>0.617419</td>\n",
       "    </tr>\n",
       "    <tr>\n",
       "      <th>24</th>\n",
       "      <td>75% Corpus</td>\n",
       "      <td>2</td>\n",
       "      <td>symmetric</td>\n",
       "      <td>symmetric</td>\n",
       "      <td>0.605974</td>\n",
       "    </tr>\n",
       "    <tr>\n",
       "      <th>25</th>\n",
       "      <td>75% Corpus</td>\n",
       "      <td>2</td>\n",
       "      <td>asymmetric</td>\n",
       "      <td>0.01</td>\n",
       "      <td>0.687028</td>\n",
       "    </tr>\n",
       "    <tr>\n",
       "      <th>26</th>\n",
       "      <td>75% Corpus</td>\n",
       "      <td>2</td>\n",
       "      <td>asymmetric</td>\n",
       "      <td>0.31</td>\n",
       "      <td>0.687793</td>\n",
       "    </tr>\n",
       "    <tr>\n",
       "      <th>27</th>\n",
       "      <td>75% Corpus</td>\n",
       "      <td>2</td>\n",
       "      <td>asymmetric</td>\n",
       "      <td>0.61</td>\n",
       "      <td>0.677300</td>\n",
       "    </tr>\n",
       "    <tr>\n",
       "      <th>28</th>\n",
       "      <td>75% Corpus</td>\n",
       "      <td>2</td>\n",
       "      <td>asymmetric</td>\n",
       "      <td>0.91</td>\n",
       "      <td>0.632549</td>\n",
       "    </tr>\n",
       "    <tr>\n",
       "      <th>29</th>\n",
       "      <td>75% Corpus</td>\n",
       "      <td>2</td>\n",
       "      <td>asymmetric</td>\n",
       "      <td>symmetric</td>\n",
       "      <td>0.678092</td>\n",
       "    </tr>\n",
       "  </tbody>\n",
       "</table>\n",
       "</div>"
      ],
      "text/plain": [
       "   Validation_Set  Topics       Alpha       Beta  Coherence\n",
       "0      75% Corpus       2        0.01       0.01   0.590292\n",
       "1      75% Corpus       2        0.01       0.31   0.601090\n",
       "2      75% Corpus       2        0.01       0.61   0.601090\n",
       "3      75% Corpus       2        0.01       0.91   0.619933\n",
       "4      75% Corpus       2        0.01  symmetric   0.614663\n",
       "5      75% Corpus       2        0.31       0.01   0.588778\n",
       "6      75% Corpus       2        0.31       0.31   0.588778\n",
       "7      75% Corpus       2        0.31       0.61   0.588778\n",
       "8      75% Corpus       2        0.31       0.91   0.589965\n",
       "9      75% Corpus       2        0.31  symmetric   0.588778\n",
       "10     75% Corpus       2        0.61       0.01   0.599121\n",
       "11     75% Corpus       2        0.61       0.31   0.591411\n",
       "12     75% Corpus       2        0.61       0.61   0.593993\n",
       "13     75% Corpus       2        0.61       0.91   0.599098\n",
       "14     75% Corpus       2        0.61  symmetric   0.599121\n",
       "15     75% Corpus       2        0.91       0.01   0.597945\n",
       "16     75% Corpus       2        0.91       0.31   0.588370\n",
       "17     75% Corpus       2        0.91       0.61   0.591012\n",
       "18     75% Corpus       2        0.91       0.91   0.595953\n",
       "19     75% Corpus       2        0.91  symmetric   0.581284\n",
       "20     75% Corpus       2   symmetric       0.01   0.605974\n",
       "21     75% Corpus       2   symmetric       0.31   0.598264\n",
       "22     75% Corpus       2   symmetric       0.61   0.599783\n",
       "23     75% Corpus       2   symmetric       0.91   0.617419\n",
       "24     75% Corpus       2   symmetric  symmetric   0.605974\n",
       "25     75% Corpus       2  asymmetric       0.01   0.687028\n",
       "26     75% Corpus       2  asymmetric       0.31   0.687793\n",
       "27     75% Corpus       2  asymmetric       0.61   0.677300\n",
       "28     75% Corpus       2  asymmetric       0.91   0.632549\n",
       "29     75% Corpus       2  asymmetric  symmetric   0.678092"
      ]
     },
     "execution_count": 184,
     "metadata": {},
     "output_type": "execute_result"
    }
   ],
   "source": [
    "pre_df_result[pre_df_result['Topics'] == 2]"
   ]
  },
  {
   "cell_type": "markdown",
   "metadata": {},
   "source": [
    "### Post-COVID"
   ]
  },
  {
   "cell_type": "code",
   "execution_count": 32,
   "metadata": {},
   "outputs": [],
   "source": [
    "grid = {}\n",
    "grid['Validation_Set'] = {}"
   ]
  },
  {
   "cell_type": "code",
   "execution_count": 33,
   "metadata": {},
   "outputs": [],
   "source": [
    "corpus = post_corpus"
   ]
  },
  {
   "cell_type": "code",
   "execution_count": 34,
   "metadata": {},
   "outputs": [],
   "source": [
    "# Topics range\n",
    "min_topics = 2\n",
    "max_topics = 31\n",
    "step_size = 1\n",
    "topics_range = range(min_topics, max_topics, step_size)\n",
    "\n",
    "# Alpha parameter\n",
    "alpha = list(np.arange(0.01, 1, 0.3))\n",
    "alpha.append('symmetric')\n",
    "alpha.append('asymmetric')\n",
    "\n",
    "# Beta parameter\n",
    "beta = list(np.arange(0.01, 1, 0.3))\n",
    "beta.append('symmetric')\n",
    "\n",
    "# Validation sets\n",
    "num_of_docs = len(corpus)\n",
    "corpus_sets = [#gensim.utils.ClippedCorpus(corpus, int(num_of_docs*0.75)), \n",
    "               corpus]\n",
    "corpus_title = ['75% Corpus', '100% Corpus']\n",
    "model_results = {'Validation_Set': [],\n",
    "                 'Topics': [],\n",
    "                 'Alpha': [],\n",
    "                 'Beta': [],\n",
    "                 'Coherence': []\n",
    "                }"
   ]
  },
  {
   "cell_type": "code",
   "execution_count": 35,
   "metadata": {},
   "outputs": [],
   "source": [
    "iterations = len(topics_range) * len(alpha) * len(beta) * len(corpus_sets)"
   ]
  },
  {
   "cell_type": "code",
   "execution_count": 36,
   "metadata": {},
   "outputs": [
    {
     "data": {
      "application/vnd.jupyter.widget-view+json": {
       "model_id": "85c4d16748924ca6847ccf3502250846",
       "version_major": 2,
       "version_minor": 0
      },
      "text/plain": [
       "  0%|          | 0/870 [00:00<?, ?it/s]"
      ]
     },
     "metadata": {},
     "output_type": "display_data"
    },
    {
     "name": "stderr",
     "output_type": "stream",
     "text": [
      "/Users/pushkar/miniforge3/envs/project/lib/python3.8/site-packages/gensim/topic_coherence/direct_confirmation_measure.py:204: RuntimeWarning: divide by zero encountered in double_scalars\n",
      "  m_lr_i = np.log(numerator / denominator)\n",
      "/Users/pushkar/miniforge3/envs/project/lib/python3.8/site-packages/gensim/topic_coherence/indirect_confirmation_measure.py:323: RuntimeWarning: invalid value encountered in double_scalars\n",
      "  return cv1.T.dot(cv2)[0, 0] / (_magnitude(cv1) * _magnitude(cv2))\n"
     ]
    }
   ],
   "source": [
    "# Can take a long time to run\n",
    "if 1 == 1:\n",
    "    pbar = tqdm.tqdm(total=iterations)\n",
    "    \n",
    "    # iterate through validation corpuses\n",
    "    for i in range(len(corpus_sets)):\n",
    "        # iterate through number of topics\n",
    "        for k in topics_range:\n",
    "            # iterate through alpha values\n",
    "            for a in alpha:\n",
    "                # iterare through beta values\n",
    "                for b in beta:\n",
    "                    # get the coherence score for the given parameters\n",
    "                    cv = compute_coherence_values(corpus=corpus_sets[i], \n",
    "                                                  dictionary=post_id2word, \n",
    "                                                  k=k, alpha=a, beta=b,\n",
    "                                                  texts=post_df['bigram'].values.tolist(),\n",
    "                                                  coherence='c_v')\n",
    "                    # Save the model results\n",
    "                    model_results['Validation_Set'].append(corpus_title[i])\n",
    "                    model_results['Topics'].append(k)\n",
    "                    model_results['Alpha'].append(a)\n",
    "                    model_results['Beta'].append(b)\n",
    "                    model_results['Coherence'].append(cv)\n",
    "                    \n",
    "                    pbar.update(1)\n",
    "    post_df_result = pd.DataFrame(model_results)\n",
    "    pbar.close()"
   ]
  },
  {
   "cell_type": "code",
   "execution_count": 189,
   "metadata": {},
   "outputs": [
    {
     "data": {
      "text/html": [
       "<div>\n",
       "<style scoped>\n",
       "    .dataframe tbody tr th:only-of-type {\n",
       "        vertical-align: middle;\n",
       "    }\n",
       "\n",
       "    .dataframe tbody tr th {\n",
       "        vertical-align: top;\n",
       "    }\n",
       "\n",
       "    .dataframe thead th {\n",
       "        text-align: right;\n",
       "    }\n",
       "</style>\n",
       "<table border=\"1\" class=\"dataframe\">\n",
       "  <thead>\n",
       "    <tr style=\"text-align: right;\">\n",
       "      <th></th>\n",
       "      <th>Validation_Set</th>\n",
       "      <th>Topics</th>\n",
       "      <th>Alpha</th>\n",
       "      <th>Beta</th>\n",
       "      <th>Coherence</th>\n",
       "    </tr>\n",
       "  </thead>\n",
       "  <tbody>\n",
       "    <tr>\n",
       "      <th>0</th>\n",
       "      <td>75% Corpus</td>\n",
       "      <td>2</td>\n",
       "      <td>0.01</td>\n",
       "      <td>0.01</td>\n",
       "      <td>0.570185</td>\n",
       "    </tr>\n",
       "    <tr>\n",
       "      <th>1</th>\n",
       "      <td>75% Corpus</td>\n",
       "      <td>2</td>\n",
       "      <td>0.01</td>\n",
       "      <td>0.31</td>\n",
       "      <td>0.549329</td>\n",
       "    </tr>\n",
       "    <tr>\n",
       "      <th>2</th>\n",
       "      <td>75% Corpus</td>\n",
       "      <td>2</td>\n",
       "      <td>0.01</td>\n",
       "      <td>0.61</td>\n",
       "      <td>0.549723</td>\n",
       "    </tr>\n",
       "    <tr>\n",
       "      <th>3</th>\n",
       "      <td>75% Corpus</td>\n",
       "      <td>2</td>\n",
       "      <td>0.01</td>\n",
       "      <td>0.91</td>\n",
       "      <td>0.567512</td>\n",
       "    </tr>\n",
       "    <tr>\n",
       "      <th>4</th>\n",
       "      <td>75% Corpus</td>\n",
       "      <td>2</td>\n",
       "      <td>0.01</td>\n",
       "      <td>symmetric</td>\n",
       "      <td>0.546577</td>\n",
       "    </tr>\n",
       "  </tbody>\n",
       "</table>\n",
       "</div>"
      ],
      "text/plain": [
       "  Validation_Set  Topics Alpha       Beta  Coherence\n",
       "0     75% Corpus       2  0.01       0.01   0.570185\n",
       "1     75% Corpus       2  0.01       0.31   0.549329\n",
       "2     75% Corpus       2  0.01       0.61   0.549723\n",
       "3     75% Corpus       2  0.01       0.91   0.567512\n",
       "4     75% Corpus       2  0.01  symmetric   0.546577"
      ]
     },
     "execution_count": 189,
     "metadata": {},
     "output_type": "execute_result"
    }
   ],
   "source": [
    "post_df_result.head()"
   ]
  },
  {
   "cell_type": "code",
   "execution_count": 104,
   "metadata": {},
   "outputs": [],
   "source": [
    "post_topics_score = []\n",
    "for i in post_df_result['Topics'].value_counts().index:\n",
    "    data = []\n",
    "    data.append(i)\n",
    "    temp = post_df_result[(post_df_result['Topics'] == i) & (post_df_result['Alpha'] == 'asymmetric') & (post_df_result['Beta'] == 'symmetric')]\n",
    "    max_value = temp['Coherence'].max()\n",
    "    data.append(max_value)\n",
    "    post_topics_score.append(data)"
   ]
  },
  {
   "cell_type": "code",
   "execution_count": 105,
   "metadata": {},
   "outputs": [],
   "source": [
    "post_ts_df = pd.DataFrame(post_topics_score)\n",
    "post_ts_df.columns = ['topics', 'coherence']"
   ]
  },
  {
   "cell_type": "code",
   "execution_count": 106,
   "metadata": {},
   "outputs": [
    {
     "data": {
      "text/html": [
       "<div>\n",
       "<style scoped>\n",
       "    .dataframe tbody tr th:only-of-type {\n",
       "        vertical-align: middle;\n",
       "    }\n",
       "\n",
       "    .dataframe tbody tr th {\n",
       "        vertical-align: top;\n",
       "    }\n",
       "\n",
       "    .dataframe thead th {\n",
       "        text-align: right;\n",
       "    }\n",
       "</style>\n",
       "<table border=\"1\" class=\"dataframe\">\n",
       "  <thead>\n",
       "    <tr style=\"text-align: right;\">\n",
       "      <th></th>\n",
       "      <th>topics</th>\n",
       "      <th>coherence</th>\n",
       "    </tr>\n",
       "  </thead>\n",
       "  <tbody>\n",
       "    <tr>\n",
       "      <th>0</th>\n",
       "      <td>2</td>\n",
       "      <td>0.647185</td>\n",
       "    </tr>\n",
       "    <tr>\n",
       "      <th>15</th>\n",
       "      <td>3</td>\n",
       "      <td>0.549973</td>\n",
       "    </tr>\n",
       "    <tr>\n",
       "      <th>27</th>\n",
       "      <td>4</td>\n",
       "      <td>0.555573</td>\n",
       "    </tr>\n",
       "    <tr>\n",
       "      <th>26</th>\n",
       "      <td>5</td>\n",
       "      <td>0.552077</td>\n",
       "    </tr>\n",
       "    <tr>\n",
       "      <th>25</th>\n",
       "      <td>6</td>\n",
       "      <td>0.565664</td>\n",
       "    </tr>\n",
       "  </tbody>\n",
       "</table>\n",
       "</div>"
      ],
      "text/plain": [
       "    topics  coherence\n",
       "0        2   0.647185\n",
       "15       3   0.549973\n",
       "27       4   0.555573\n",
       "26       5   0.552077\n",
       "25       6   0.565664"
      ]
     },
     "execution_count": 106,
     "metadata": {},
     "output_type": "execute_result"
    }
   ],
   "source": [
    "post_ts_df.sort_values('topics', inplace=True)\n",
    "post_ts_df.head()"
   ]
  },
  {
   "cell_type": "code",
   "execution_count": 107,
   "metadata": {},
   "outputs": [
    {
     "data": {
      "text/plain": [
       "<AxesSubplot: xlabel='topics'>"
      ]
     },
     "execution_count": 107,
     "metadata": {},
     "output_type": "execute_result"
    },
    {
     "data": {
      "image/png": "[encoded data removed]",
      "text/plain": [
       "<Figure size 640x480 with 1 Axes>"
      ]
     },
     "metadata": {},
     "output_type": "display_data"
    }
   ],
   "source": [
    "post_ts_df.plot.line(x='topics', y='coherence')"
   ]
  },
  {
   "cell_type": "code",
   "execution_count": 190,
   "metadata": {},
   "outputs": [
    {
     "data": {
      "text/html": [
       "<div>\n",
       "<style scoped>\n",
       "    .dataframe tbody tr th:only-of-type {\n",
       "        vertical-align: middle;\n",
       "    }\n",
       "\n",
       "    .dataframe tbody tr th {\n",
       "        vertical-align: top;\n",
       "    }\n",
       "\n",
       "    .dataframe thead th {\n",
       "        text-align: right;\n",
       "    }\n",
       "</style>\n",
       "<table border=\"1\" class=\"dataframe\">\n",
       "  <thead>\n",
       "    <tr style=\"text-align: right;\">\n",
       "      <th></th>\n",
       "      <th>Validation_Set</th>\n",
       "      <th>Topics</th>\n",
       "      <th>Alpha</th>\n",
       "      <th>Beta</th>\n",
       "      <th>Coherence</th>\n",
       "    </tr>\n",
       "  </thead>\n",
       "  <tbody>\n",
       "    <tr>\n",
       "      <th>0</th>\n",
       "      <td>75% Corpus</td>\n",
       "      <td>2</td>\n",
       "      <td>0.01</td>\n",
       "      <td>0.01</td>\n",
       "      <td>0.570185</td>\n",
       "    </tr>\n",
       "    <tr>\n",
       "      <th>1</th>\n",
       "      <td>75% Corpus</td>\n",
       "      <td>2</td>\n",
       "      <td>0.01</td>\n",
       "      <td>0.31</td>\n",
       "      <td>0.549329</td>\n",
       "    </tr>\n",
       "    <tr>\n",
       "      <th>2</th>\n",
       "      <td>75% Corpus</td>\n",
       "      <td>2</td>\n",
       "      <td>0.01</td>\n",
       "      <td>0.61</td>\n",
       "      <td>0.549723</td>\n",
       "    </tr>\n",
       "    <tr>\n",
       "      <th>3</th>\n",
       "      <td>75% Corpus</td>\n",
       "      <td>2</td>\n",
       "      <td>0.01</td>\n",
       "      <td>0.91</td>\n",
       "      <td>0.567512</td>\n",
       "    </tr>\n",
       "    <tr>\n",
       "      <th>4</th>\n",
       "      <td>75% Corpus</td>\n",
       "      <td>2</td>\n",
       "      <td>0.01</td>\n",
       "      <td>symmetric</td>\n",
       "      <td>0.546577</td>\n",
       "    </tr>\n",
       "    <tr>\n",
       "      <th>5</th>\n",
       "      <td>75% Corpus</td>\n",
       "      <td>2</td>\n",
       "      <td>0.31</td>\n",
       "      <td>0.01</td>\n",
       "      <td>0.520165</td>\n",
       "    </tr>\n",
       "    <tr>\n",
       "      <th>6</th>\n",
       "      <td>75% Corpus</td>\n",
       "      <td>2</td>\n",
       "      <td>0.31</td>\n",
       "      <td>0.31</td>\n",
       "      <td>0.520165</td>\n",
       "    </tr>\n",
       "    <tr>\n",
       "      <th>7</th>\n",
       "      <td>75% Corpus</td>\n",
       "      <td>2</td>\n",
       "      <td>0.31</td>\n",
       "      <td>0.61</td>\n",
       "      <td>0.520165</td>\n",
       "    </tr>\n",
       "    <tr>\n",
       "      <th>8</th>\n",
       "      <td>75% Corpus</td>\n",
       "      <td>2</td>\n",
       "      <td>0.31</td>\n",
       "      <td>0.91</td>\n",
       "      <td>0.561615</td>\n",
       "    </tr>\n",
       "    <tr>\n",
       "      <th>9</th>\n",
       "      <td>75% Corpus</td>\n",
       "      <td>2</td>\n",
       "      <td>0.31</td>\n",
       "      <td>symmetric</td>\n",
       "      <td>0.520165</td>\n",
       "    </tr>\n",
       "    <tr>\n",
       "      <th>10</th>\n",
       "      <td>75% Corpus</td>\n",
       "      <td>2</td>\n",
       "      <td>0.61</td>\n",
       "      <td>0.01</td>\n",
       "      <td>0.524669</td>\n",
       "    </tr>\n",
       "    <tr>\n",
       "      <th>11</th>\n",
       "      <td>75% Corpus</td>\n",
       "      <td>2</td>\n",
       "      <td>0.61</td>\n",
       "      <td>0.31</td>\n",
       "      <td>0.524669</td>\n",
       "    </tr>\n",
       "    <tr>\n",
       "      <th>12</th>\n",
       "      <td>75% Corpus</td>\n",
       "      <td>2</td>\n",
       "      <td>0.61</td>\n",
       "      <td>0.61</td>\n",
       "      <td>0.538852</td>\n",
       "    </tr>\n",
       "    <tr>\n",
       "      <th>13</th>\n",
       "      <td>75% Corpus</td>\n",
       "      <td>2</td>\n",
       "      <td>0.61</td>\n",
       "      <td>0.91</td>\n",
       "      <td>0.524669</td>\n",
       "    </tr>\n",
       "    <tr>\n",
       "      <th>14</th>\n",
       "      <td>75% Corpus</td>\n",
       "      <td>2</td>\n",
       "      <td>0.61</td>\n",
       "      <td>symmetric</td>\n",
       "      <td>0.538852</td>\n",
       "    </tr>\n",
       "    <tr>\n",
       "      <th>15</th>\n",
       "      <td>75% Corpus</td>\n",
       "      <td>2</td>\n",
       "      <td>0.91</td>\n",
       "      <td>0.01</td>\n",
       "      <td>0.524669</td>\n",
       "    </tr>\n",
       "    <tr>\n",
       "      <th>16</th>\n",
       "      <td>75% Corpus</td>\n",
       "      <td>2</td>\n",
       "      <td>0.91</td>\n",
       "      <td>0.31</td>\n",
       "      <td>0.538852</td>\n",
       "    </tr>\n",
       "    <tr>\n",
       "      <th>17</th>\n",
       "      <td>75% Corpus</td>\n",
       "      <td>2</td>\n",
       "      <td>0.91</td>\n",
       "      <td>0.61</td>\n",
       "      <td>0.538852</td>\n",
       "    </tr>\n",
       "    <tr>\n",
       "      <th>18</th>\n",
       "      <td>75% Corpus</td>\n",
       "      <td>2</td>\n",
       "      <td>0.91</td>\n",
       "      <td>0.91</td>\n",
       "      <td>0.534451</td>\n",
       "    </tr>\n",
       "    <tr>\n",
       "      <th>19</th>\n",
       "      <td>75% Corpus</td>\n",
       "      <td>2</td>\n",
       "      <td>0.91</td>\n",
       "      <td>symmetric</td>\n",
       "      <td>0.538852</td>\n",
       "    </tr>\n",
       "    <tr>\n",
       "      <th>20</th>\n",
       "      <td>75% Corpus</td>\n",
       "      <td>2</td>\n",
       "      <td>symmetric</td>\n",
       "      <td>0.01</td>\n",
       "      <td>0.524669</td>\n",
       "    </tr>\n",
       "    <tr>\n",
       "      <th>21</th>\n",
       "      <td>75% Corpus</td>\n",
       "      <td>2</td>\n",
       "      <td>symmetric</td>\n",
       "      <td>0.31</td>\n",
       "      <td>0.538852</td>\n",
       "    </tr>\n",
       "    <tr>\n",
       "      <th>22</th>\n",
       "      <td>75% Corpus</td>\n",
       "      <td>2</td>\n",
       "      <td>symmetric</td>\n",
       "      <td>0.61</td>\n",
       "      <td>0.538852</td>\n",
       "    </tr>\n",
       "    <tr>\n",
       "      <th>23</th>\n",
       "      <td>75% Corpus</td>\n",
       "      <td>2</td>\n",
       "      <td>symmetric</td>\n",
       "      <td>0.91</td>\n",
       "      <td>0.524669</td>\n",
       "    </tr>\n",
       "    <tr>\n",
       "      <th>24</th>\n",
       "      <td>75% Corpus</td>\n",
       "      <td>2</td>\n",
       "      <td>symmetric</td>\n",
       "      <td>symmetric</td>\n",
       "      <td>0.538852</td>\n",
       "    </tr>\n",
       "    <tr>\n",
       "      <th>25</th>\n",
       "      <td>75% Corpus</td>\n",
       "      <td>2</td>\n",
       "      <td>asymmetric</td>\n",
       "      <td>0.01</td>\n",
       "      <td>0.627219</td>\n",
       "    </tr>\n",
       "    <tr>\n",
       "      <th>26</th>\n",
       "      <td>75% Corpus</td>\n",
       "      <td>2</td>\n",
       "      <td>asymmetric</td>\n",
       "      <td>0.31</td>\n",
       "      <td>0.632537</td>\n",
       "    </tr>\n",
       "    <tr>\n",
       "      <th>27</th>\n",
       "      <td>75% Corpus</td>\n",
       "      <td>2</td>\n",
       "      <td>asymmetric</td>\n",
       "      <td>0.61</td>\n",
       "      <td>0.645605</td>\n",
       "    </tr>\n",
       "    <tr>\n",
       "      <th>28</th>\n",
       "      <td>75% Corpus</td>\n",
       "      <td>2</td>\n",
       "      <td>asymmetric</td>\n",
       "      <td>0.91</td>\n",
       "      <td>0.645605</td>\n",
       "    </tr>\n",
       "    <tr>\n",
       "      <th>29</th>\n",
       "      <td>75% Corpus</td>\n",
       "      <td>2</td>\n",
       "      <td>asymmetric</td>\n",
       "      <td>symmetric</td>\n",
       "      <td>0.647185</td>\n",
       "    </tr>\n",
       "  </tbody>\n",
       "</table>\n",
       "</div>"
      ],
      "text/plain": [
       "   Validation_Set  Topics       Alpha       Beta  Coherence\n",
       "0      75% Corpus       2        0.01       0.01   0.570185\n",
       "1      75% Corpus       2        0.01       0.31   0.549329\n",
       "2      75% Corpus       2        0.01       0.61   0.549723\n",
       "3      75% Corpus       2        0.01       0.91   0.567512\n",
       "4      75% Corpus       2        0.01  symmetric   0.546577\n",
       "5      75% Corpus       2        0.31       0.01   0.520165\n",
       "6      75% Corpus       2        0.31       0.31   0.520165\n",
       "7      75% Corpus       2        0.31       0.61   0.520165\n",
       "8      75% Corpus       2        0.31       0.91   0.561615\n",
       "9      75% Corpus       2        0.31  symmetric   0.520165\n",
       "10     75% Corpus       2        0.61       0.01   0.524669\n",
       "11     75% Corpus       2        0.61       0.31   0.524669\n",
       "12     75% Corpus       2        0.61       0.61   0.538852\n",
       "13     75% Corpus       2        0.61       0.91   0.524669\n",
       "14     75% Corpus       2        0.61  symmetric   0.538852\n",
       "15     75% Corpus       2        0.91       0.01   0.524669\n",
       "16     75% Corpus       2        0.91       0.31   0.538852\n",
       "17     75% Corpus       2        0.91       0.61   0.538852\n",
       "18     75% Corpus       2        0.91       0.91   0.534451\n",
       "19     75% Corpus       2        0.91  symmetric   0.538852\n",
       "20     75% Corpus       2   symmetric       0.01   0.524669\n",
       "21     75% Corpus       2   symmetric       0.31   0.538852\n",
       "22     75% Corpus       2   symmetric       0.61   0.538852\n",
       "23     75% Corpus       2   symmetric       0.91   0.524669\n",
       "24     75% Corpus       2   symmetric  symmetric   0.538852\n",
       "25     75% Corpus       2  asymmetric       0.01   0.627219\n",
       "26     75% Corpus       2  asymmetric       0.31   0.632537\n",
       "27     75% Corpus       2  asymmetric       0.61   0.645605\n",
       "28     75% Corpus       2  asymmetric       0.91   0.645605\n",
       "29     75% Corpus       2  asymmetric  symmetric   0.647185"
      ]
     },
     "execution_count": 190,
     "metadata": {},
     "output_type": "execute_result"
    }
   ],
   "source": [
    "post_df_result[(post_df_result['Topics'] == 2)]"
   ]
  },
  {
   "cell_type": "markdown",
   "metadata": {},
   "source": [
    "## Final Models"
   ]
  },
  {
   "cell_type": "code",
   "execution_count": 187,
   "metadata": {},
   "outputs": [],
   "source": [
    "pre_final_lda_model = gensim.models.LdaMulticore(corpus=pre_corpus,\n",
    "                                        id2word=pre_id2word,\n",
    "                                        num_topics=2,\n",
    "                                        random_state=100,\n",
    "                                        chunksize=100,\n",
    "                                        passes=10,\n",
    "                                        per_word_topics=True,\n",
    "                                        alpha='asymmetric',\n",
    "                                        eta=0.01)"
   ]
  },
  {
   "cell_type": "code",
   "execution_count": 188,
   "metadata": {},
   "outputs": [
    {
     "name": "stdout",
     "output_type": "stream",
     "text": [
      "Pre-COVID Coherence Score:  0.687027719695836\n"
     ]
    }
   ],
   "source": [
    "pre_final_coherence_model_lda = gensim.models.CoherenceModel(model=pre_final_lda_model, \n",
    "                                                    texts=pre_df['bigram'].values.tolist(), \n",
    "                                                    dictionary=pre_id2word, \n",
    "                                                    coherence='c_v')\n",
    "pre_final_coherence_lda = pre_final_coherence_model_lda.get_coherence()\n",
    "print('Pre-COVID Coherence Score: ', pre_final_coherence_lda)"
   ]
  },
  {
   "cell_type": "code",
   "execution_count": 193,
   "metadata": {},
   "outputs": [],
   "source": [
    "post_final_lda_model = gensim.models.LdaMulticore(corpus=post_corpus,\n",
    "                                        id2word=post_id2word,\n",
    "                                        num_topics=2,\n",
    "                                        random_state=100,\n",
    "                                        chunksize=100,\n",
    "                                        passes=10,\n",
    "                                        per_word_topics=True,\n",
    "                                        alpha='asymmetric',\n",
    "                                        eta='symmetric')"
   ]
  },
  {
   "cell_type": "code",
   "execution_count": 194,
   "metadata": {},
   "outputs": [
    {
     "name": "stdout",
     "output_type": "stream",
     "text": [
      "Pre-COVID Coherence Score:  0.6471847782036786\n"
     ]
    }
   ],
   "source": [
    "post_final_coherence_model_lda = gensim.models.CoherenceModel(model=post_final_lda_model, \n",
    "                                                    texts=post_df['bigram'].values.tolist(), \n",
    "                                                    dictionary=post_id2word, \n",
    "                                                    coherence='c_v')\n",
    "post_final_coherence_lda = post_final_coherence_model_lda.get_coherence()\n",
    "print('Pre-COVID Coherence Score: ', post_final_coherence_lda)"
   ]
  },
  {
   "cell_type": "code",
   "execution_count": null,
   "metadata": {},
   "outputs": [],
   "source": []
  }
 ],
 "metadata": {
  "kernelspec": {
   "display_name": "Python 3.8.13 ('project')",
   "language": "python",
   "name": "python3"
  },
  "language_info": {
   "codemirror_mode": {
    "name": "ipython",
    "version": 3
   },
   "file_extension": ".py",
   "mimetype": "text/x-python",
   "name": "python",
   "nbconvert_exporter": "python",
   "pygments_lexer": "ipython3",
   "version": "3.8.13"
  },
  "orig_nbformat": 4,
  "vscode": {
   "interpreter": {
    "hash": "af77eb27f514ee114388f6898d9553454263f7eea260918546d16a8e581c8922"
   }
  }
 },
 "nbformat": 4,
 "nbformat_minor": 2
}
