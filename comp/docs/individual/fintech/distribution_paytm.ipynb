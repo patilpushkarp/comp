{
 "cells": [
  {
   "cell_type": "markdown",
   "metadata": {},
   "source": [
    "# Paytm - In Progress"
   ]
  },
  {
   "cell_type": "code",
   "execution_count": 1,
   "metadata": {},
   "outputs": [
    {
     "data": {
      "text/plain": [
       "<module 'utils.helper' from '/Users/pushkar/Documents/projects/fin_comp/comp/docs/utils/helper.py'>"
      ]
     },
     "execution_count": 1,
     "metadata": {},
     "output_type": "execute_result"
    }
   ],
   "source": [
    "# Load necessary libraries\n",
    "import sys\n",
    "import glob\n",
    "import warnings\n",
    "warnings.filterwarnings('ignore')\n",
    "import pandas as pd\n",
    "import seaborn as sns\n",
    "import matplotlib.pyplot as plt\n",
    "import gensim\n",
    "import spacy\n",
    "import numpy as np\n",
    "import tqdm.notebook as tqdm\n",
    "from tqdm.auto import tqdm\n",
    "tqdm.pandas()\n",
    "from pprint import pprint\n",
    "import pickle\n",
    "import plotly.express as px\n",
    "import pyLDAvis\n",
    "\n",
    "sys.path.append('/Users/pushkar/Documents/projects/fin_comp/comp/docs')\n",
    "\n",
    "import utils.helper\n",
    "from utils.helper import Processor\n",
    "import importlib\n",
    "importlib.reload(utils.helper)"
   ]
  },
  {
   "cell_type": "code",
   "execution_count": 2,
   "metadata": {},
   "outputs": [],
   "source": [
    "# Load data\n",
    "df = pd.read_csv('./../../data/fintech/paytm/paytm.csv', engine='python')"
   ]
  },
  {
   "cell_type": "code",
   "execution_count": 3,
   "metadata": {},
   "outputs": [
    {
     "data": {
      "text/plain": [
       "(1006178, 27)"
      ]
     },
     "execution_count": 3,
     "metadata": {},
     "output_type": "execute_result"
    }
   ],
   "source": [
    "# Know the shape of the loaded data\n",
    "df.shape"
   ]
  },
  {
   "cell_type": "code",
   "execution_count": 4,
   "metadata": {},
   "outputs": [],
   "source": [
    "words = [\"harassment\", \"fraud\", \"restructure\", \"covid19 relief\", \"force\", \"money cut\", \"unethical\", \"fake\", \"false promise\", \"shutdown\",\n",
    "         \"moratorium\", \"no response\", \"scam\", \"no answer\", \"love\", \"responsive\", \"very bad\", \"machine learning\", \"algorithm\", \"delay\", \n",
    "         \"leveraging\"]"
   ]
  },
  {
   "cell_type": "code",
   "execution_count": 5,
   "metadata": {},
   "outputs": [],
   "source": [
    "processor = Processor('./../../data/config.json')"
   ]
  },
  {
   "cell_type": "code",
   "execution_count": 6,
   "metadata": {},
   "outputs": [],
   "source": [
    "pre_df = df[df['date'] < '2020-02-01']\n",
    "post_df = df[df['date'] >= '2020-02-01']"
   ]
  },
  {
   "cell_type": "code",
   "execution_count": 7,
   "metadata": {},
   "outputs": [
    {
     "name": "stderr",
     "output_type": "stream",
     "text": [
      "100%|██████████| 502559/502559 [18:02<00:00, 464.42it/s]\n",
      "100%|██████████| 502559/502559 [17:53<00:00, 468.32it/s]\n",
      "100%|██████████| 502559/502559 [18:04<00:00, 463.36it/s]\n",
      "100%|██████████| 502559/502559 [18:21<00:00, 456.07it/s]\n",
      "100%|██████████| 502559/502559 [18:04<00:00, 463.35it/s]\n",
      "100%|██████████| 502559/502559 [18:00<00:00, 465.28it/s]\n",
      "100%|██████████| 502559/502559 [18:01<00:00, 464.57it/s]\n",
      "100%|██████████| 502559/502559 [17:57<00:00, 466.32it/s]\n",
      "100%|██████████| 502559/502559 [17:56<00:00, 466.96it/s]\n",
      "100%|██████████| 502559/502559 [17:55<00:00, 467.07it/s]\n",
      "100%|██████████| 502559/502559 [17:55<00:00, 467.29it/s]\n",
      "100%|██████████| 502559/502559 [17:55<00:00, 467.44it/s]\n",
      "100%|██████████| 502559/502559 [17:54<00:00, 467.67it/s]\n",
      "100%|██████████| 502559/502559 [17:54<00:00, 467.65it/s]\n",
      "100%|██████████| 502559/502559 [17:54<00:00, 467.63it/s]\n",
      "100%|██████████| 502559/502559 [17:55<00:00, 467.49it/s]\n",
      "100%|██████████| 502559/502559 [17:53<00:00, 468.01it/s]\n",
      "100%|██████████| 502559/502559 [17:52<00:00, 468.64it/s]\n",
      "100%|██████████| 502559/502559 [17:53<00:00, 468.04it/s]\n",
      "100%|██████████| 502559/502559 [17:54<00:00, 467.52it/s]\n",
      "100%|██████████| 502559/502559 [17:55<00:00, 467.40it/s]\n",
      "100%|██████████| 21/21 [6:17:18<00:00, 1078.00s/it]\n"
     ]
    }
   ],
   "source": [
    "pre_result = processor.words_distribution(pre_df, words)"
   ]
  },
  {
   "cell_type": "code",
   "execution_count": 8,
   "metadata": {},
   "outputs": [],
   "source": [
    "pre_df.to_csv('./../../data/fintech/paytm/pre_wd.csv', index=False)"
   ]
  },
  {
   "cell_type": "code",
   "execution_count": 9,
   "metadata": {},
   "outputs": [
    {
     "name": "stderr",
     "output_type": "stream",
     "text": [
      "100%|██████████| 503539/503539 [17:27<00:00, 480.71it/s]\n",
      "100%|██████████| 503539/503539 [17:14<00:00, 486.94it/s]\n",
      "100%|██████████| 503539/503539 [17:14<00:00, 486.70it/s]\n",
      "100%|██████████| 503539/503539 [17:16<00:00, 485.94it/s]\n",
      "100%|██████████| 503539/503539 [17:27<00:00, 480.82it/s]\n",
      "100%|██████████| 503539/503539 [18:04<00:00, 464.33it/s]\n",
      "100%|██████████| 503539/503539 [18:17<00:00, 458.69it/s]\n",
      "100%|██████████| 503539/503539 [17:59<00:00, 466.30it/s]\n",
      "100%|██████████| 503539/503539 [17:41<00:00, 474.44it/s]\n",
      "100%|██████████| 503539/503539 [17:56<00:00, 467.78it/s]\n",
      "100%|██████████| 503539/503539 [18:28<00:00, 454.11it/s]\n",
      "100%|██████████| 503539/503539 [18:26<00:00, 455.23it/s]\n",
      "100%|██████████| 503539/503539 [18:22<00:00, 456.83it/s]\n",
      "100%|██████████| 503539/503539 [18:23<00:00, 456.50it/s]\n",
      "100%|██████████| 503539/503539 [18:28<00:00, 454.34it/s]\n",
      "100%|██████████| 503539/503539 [18:28<00:00, 454.35it/s]\n",
      "100%|██████████| 503539/503539 [18:30<00:00, 453.57it/s]\n",
      "100%|██████████| 503539/503539 [18:11<00:00, 461.46it/s]\n",
      "100%|██████████| 503539/503539 [17:55<00:00, 468.05it/s]\n",
      "100%|██████████| 503539/503539 [17:30<00:00, 479.41it/s]\n",
      "100%|██████████| 503539/503539 [17:21<00:00, 483.53it/s]\n",
      "100%|██████████| 21/21 [6:16:45<00:00, 1076.45s/it]\n"
     ]
    }
   ],
   "source": [
    "post_result = processor.words_distribution(post_df, words)"
   ]
  },
  {
   "cell_type": "code",
   "execution_count": 10,
   "metadata": {},
   "outputs": [],
   "source": [
    "post_df.to_csv('./../../data/fintech/paytm/post_wd.csv', index=False)"
   ]
  },
  {
   "cell_type": "code",
   "execution_count": 11,
   "metadata": {},
   "outputs": [
    {
     "data": {
      "text/html": [
       "<div>\n",
       "<style scoped>\n",
       "    .dataframe tbody tr th:only-of-type {\n",
       "        vertical-align: middle;\n",
       "    }\n",
       "\n",
       "    .dataframe tbody tr th {\n",
       "        vertical-align: top;\n",
       "    }\n",
       "\n",
       "    .dataframe thead th {\n",
       "        text-align: right;\n",
       "    }\n",
       "</style>\n",
       "<table border=\"1\" class=\"dataframe\">\n",
       "  <thead>\n",
       "    <tr style=\"text-align: right;\">\n",
       "      <th></th>\n",
       "      <th>words</th>\n",
       "      <th>false_cnt</th>\n",
       "      <th>true_cnt</th>\n",
       "      <th>false_percent</th>\n",
       "      <th>true_percent</th>\n",
       "    </tr>\n",
       "  </thead>\n",
       "  <tbody>\n",
       "    <tr>\n",
       "      <th>0</th>\n",
       "      <td>harassment</td>\n",
       "      <td>502294</td>\n",
       "      <td>265</td>\n",
       "      <td>99.947270</td>\n",
       "      <td>0.052730</td>\n",
       "    </tr>\n",
       "    <tr>\n",
       "      <th>1</th>\n",
       "      <td>fraud</td>\n",
       "      <td>482349</td>\n",
       "      <td>20210</td>\n",
       "      <td>95.978582</td>\n",
       "      <td>4.021418</td>\n",
       "    </tr>\n",
       "    <tr>\n",
       "      <th>2</th>\n",
       "      <td>restructure</td>\n",
       "      <td>502546</td>\n",
       "      <td>13</td>\n",
       "      <td>99.997413</td>\n",
       "      <td>0.002587</td>\n",
       "    </tr>\n",
       "    <tr>\n",
       "      <th>3</th>\n",
       "      <td>covid19 relief</td>\n",
       "      <td>502559</td>\n",
       "      <td>0</td>\n",
       "      <td>100.000000</td>\n",
       "      <td>0.000000</td>\n",
       "    </tr>\n",
       "    <tr>\n",
       "      <th>4</th>\n",
       "      <td>force</td>\n",
       "      <td>498877</td>\n",
       "      <td>3682</td>\n",
       "      <td>99.267350</td>\n",
       "      <td>0.732650</td>\n",
       "    </tr>\n",
       "    <tr>\n",
       "      <th>5</th>\n",
       "      <td>money cut</td>\n",
       "      <td>502547</td>\n",
       "      <td>12</td>\n",
       "      <td>99.997612</td>\n",
       "      <td>0.002388</td>\n",
       "    </tr>\n",
       "    <tr>\n",
       "      <th>6</th>\n",
       "      <td>unethical</td>\n",
       "      <td>502353</td>\n",
       "      <td>206</td>\n",
       "      <td>99.959010</td>\n",
       "      <td>0.040990</td>\n",
       "    </tr>\n",
       "    <tr>\n",
       "      <th>7</th>\n",
       "      <td>fake</td>\n",
       "      <td>492519</td>\n",
       "      <td>10040</td>\n",
       "      <td>98.002225</td>\n",
       "      <td>1.997775</td>\n",
       "    </tr>\n",
       "    <tr>\n",
       "      <th>8</th>\n",
       "      <td>false promise</td>\n",
       "      <td>502443</td>\n",
       "      <td>116</td>\n",
       "      <td>99.976918</td>\n",
       "      <td>0.023082</td>\n",
       "    </tr>\n",
       "    <tr>\n",
       "      <th>9</th>\n",
       "      <td>shutdown</td>\n",
       "      <td>502478</td>\n",
       "      <td>81</td>\n",
       "      <td>99.983882</td>\n",
       "      <td>0.016118</td>\n",
       "    </tr>\n",
       "    <tr>\n",
       "      <th>10</th>\n",
       "      <td>moratorium</td>\n",
       "      <td>502559</td>\n",
       "      <td>0</td>\n",
       "      <td>100.000000</td>\n",
       "      <td>0.000000</td>\n",
       "    </tr>\n",
       "    <tr>\n",
       "      <th>11</th>\n",
       "      <td>no response</td>\n",
       "      <td>499308</td>\n",
       "      <td>3251</td>\n",
       "      <td>99.353111</td>\n",
       "      <td>0.646889</td>\n",
       "    </tr>\n",
       "    <tr>\n",
       "      <th>12</th>\n",
       "      <td>scam</td>\n",
       "      <td>499667</td>\n",
       "      <td>2892</td>\n",
       "      <td>99.424545</td>\n",
       "      <td>0.575455</td>\n",
       "    </tr>\n",
       "    <tr>\n",
       "      <th>13</th>\n",
       "      <td>no answer</td>\n",
       "      <td>502395</td>\n",
       "      <td>164</td>\n",
       "      <td>99.967367</td>\n",
       "      <td>0.032633</td>\n",
       "    </tr>\n",
       "    <tr>\n",
       "      <th>14</th>\n",
       "      <td>love</td>\n",
       "      <td>499094</td>\n",
       "      <td>3465</td>\n",
       "      <td>99.310529</td>\n",
       "      <td>0.689471</td>\n",
       "    </tr>\n",
       "    <tr>\n",
       "      <th>15</th>\n",
       "      <td>responsive</td>\n",
       "      <td>502396</td>\n",
       "      <td>163</td>\n",
       "      <td>99.967566</td>\n",
       "      <td>0.032434</td>\n",
       "    </tr>\n",
       "    <tr>\n",
       "      <th>16</th>\n",
       "      <td>very bad</td>\n",
       "      <td>501101</td>\n",
       "      <td>1458</td>\n",
       "      <td>99.709885</td>\n",
       "      <td>0.290115</td>\n",
       "    </tr>\n",
       "    <tr>\n",
       "      <th>17</th>\n",
       "      <td>machine learning</td>\n",
       "      <td>502556</td>\n",
       "      <td>3</td>\n",
       "      <td>99.999403</td>\n",
       "      <td>0.000597</td>\n",
       "    </tr>\n",
       "    <tr>\n",
       "      <th>18</th>\n",
       "      <td>algorithm</td>\n",
       "      <td>502530</td>\n",
       "      <td>29</td>\n",
       "      <td>99.994230</td>\n",
       "      <td>0.005770</td>\n",
       "    </tr>\n",
       "    <tr>\n",
       "      <th>19</th>\n",
       "      <td>delay</td>\n",
       "      <td>499006</td>\n",
       "      <td>3553</td>\n",
       "      <td>99.293018</td>\n",
       "      <td>0.706982</td>\n",
       "    </tr>\n",
       "    <tr>\n",
       "      <th>20</th>\n",
       "      <td>leveraging</td>\n",
       "      <td>502559</td>\n",
       "      <td>0</td>\n",
       "      <td>100.000000</td>\n",
       "      <td>0.000000</td>\n",
       "    </tr>\n",
       "  </tbody>\n",
       "</table>\n",
       "</div>"
      ],
      "text/plain": [
       "               words  false_cnt  true_cnt  false_percent  true_percent\n",
       "0         harassment     502294       265      99.947270      0.052730\n",
       "1              fraud     482349     20210      95.978582      4.021418\n",
       "2        restructure     502546        13      99.997413      0.002587\n",
       "3     covid19 relief     502559         0     100.000000      0.000000\n",
       "4              force     498877      3682      99.267350      0.732650\n",
       "5          money cut     502547        12      99.997612      0.002388\n",
       "6          unethical     502353       206      99.959010      0.040990\n",
       "7               fake     492519     10040      98.002225      1.997775\n",
       "8      false promise     502443       116      99.976918      0.023082\n",
       "9           shutdown     502478        81      99.983882      0.016118\n",
       "10        moratorium     502559         0     100.000000      0.000000\n",
       "11       no response     499308      3251      99.353111      0.646889\n",
       "12              scam     499667      2892      99.424545      0.575455\n",
       "13         no answer     502395       164      99.967367      0.032633\n",
       "14              love     499094      3465      99.310529      0.689471\n",
       "15        responsive     502396       163      99.967566      0.032434\n",
       "16          very bad     501101      1458      99.709885      0.290115\n",
       "17  machine learning     502556         3      99.999403      0.000597\n",
       "18         algorithm     502530        29      99.994230      0.005770\n",
       "19             delay     499006      3553      99.293018      0.706982\n",
       "20        leveraging     502559         0     100.000000      0.000000"
      ]
     },
     "execution_count": 11,
     "metadata": {},
     "output_type": "execute_result"
    }
   ],
   "source": [
    "pre_result"
   ]
  },
  {
   "cell_type": "code",
   "execution_count": 12,
   "metadata": {},
   "outputs": [
    {
     "data": {
      "text/plain": [
       "<AxesSubplot: xlabel='true_cnt', ylabel='words'>"
      ]
     },
     "execution_count": 12,
     "metadata": {},
     "output_type": "execute_result"
    },
    {
     "data": {
      "image/png": "[encoded data removed]",
      "text/plain": [
       "<Figure size 2000x1000 with 2 Axes>"
      ]
     },
     "metadata": {},
     "output_type": "display_data"
    }
   ],
   "source": [
    "fig, axes = plt.subplots(1, 2, figsize=(20, 10))\n",
    "\n",
    "sns.barplot(x='true_cnt', y='words', data=pre_result, orient='h', ax=axes[0])\n",
    "\n",
    "sns.barplot(x='true_cnt', y='words', data=post_result, orient='h', ax=axes[1])"
   ]
  }
 ],
 "metadata": {
  "kernelspec": {
   "display_name": "Python 3.8.13 ('project')",
   "language": "python",
   "name": "python3"
  },
  "language_info": {
   "codemirror_mode": {
    "name": "ipython",
    "version": 3
   },
   "file_extension": ".py",
   "mimetype": "text/x-python",
   "name": "python",
   "nbconvert_exporter": "python",
   "pygments_lexer": "ipython3",
   "version": "3.8.13"
  },
  "orig_nbformat": 4,
  "vscode": {
   "interpreter": {
    "hash": "af77eb27f514ee114388f6898d9553454263f7eea260918546d16a8e581c8922"
   }
  }
 },
 "nbformat": 4,
 "nbformat_minor": 2
}
