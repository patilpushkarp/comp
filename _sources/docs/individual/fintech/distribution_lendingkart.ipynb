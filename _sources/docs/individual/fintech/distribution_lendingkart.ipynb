{
 "cells": [
  {
   "cell_type": "markdown",
   "metadata": {},
   "source": [
    "# Lendingkart"
   ]
  },
  {
   "cell_type": "code",
   "execution_count": 1,
   "metadata": {},
   "outputs": [
    {
     "data": {
      "text/plain": [
       "<module 'utils.helper' from '/Users/pushkar/Documents/projects/fin_comp/comp/docs/utils/helper.py'>"
      ]
     },
     "execution_count": 1,
     "metadata": {},
     "output_type": "execute_result"
    }
   ],
   "source": [
    "# Load necessary libraries\n",
    "import sys\n",
    "import glob\n",
    "import warnings\n",
    "warnings.filterwarnings('ignore')\n",
    "import pandas as pd\n",
    "import seaborn as sns\n",
    "import matplotlib.pyplot as plt\n",
    "import gensim\n",
    "import spacy\n",
    "import numpy as np\n",
    "import tqdm.notebook as tqdm\n",
    "from tqdm.auto import tqdm\n",
    "tqdm.pandas()\n",
    "from pprint import pprint\n",
    "import pickle\n",
    "import plotly.express as px\n",
    "import pyLDAvis\n",
    "\n",
    "sys.path.append('/Users/pushkar/Documents/projects/fin_comp/comp/docs')\n",
    "\n",
    "import utils.helper\n",
    "from utils.helper import Processor\n",
    "import importlib\n",
    "importlib.reload(utils.helper)"
   ]
  },
  {
   "cell_type": "code",
   "execution_count": 2,
   "metadata": {},
   "outputs": [],
   "source": [
    "# Load data\n",
    "df = pd.read_csv('./../../data/fintech/lendingkart/lendingkart.csv')"
   ]
  },
  {
   "cell_type": "code",
   "execution_count": 3,
   "metadata": {},
   "outputs": [
    {
     "data": {
      "text/plain": [
       "(5490, 27)"
      ]
     },
     "execution_count": 3,
     "metadata": {},
     "output_type": "execute_result"
    }
   ],
   "source": [
    "# Know the shape of the loaded data\n",
    "df.shape"
   ]
  },
  {
   "cell_type": "markdown",
   "metadata": {},
   "source": [
    "Perform lemmatization, word correction"
   ]
  },
  {
   "cell_type": "code",
   "execution_count": 4,
   "metadata": {},
   "outputs": [],
   "source": [
    "words = [\"harassment\", \"fraud\", \"restructure\", \"covid19 relief\", \"force\", \"money cut\", \"unethical\", \"fake\", \"false promise\", \"shutdown\",\n",
    "         \"moratorium\", \"no response\", \"scam\", \"no answer\", \"love\", \"responsive\", \"very bad\", \"machine learning\", \"algorithm\", \"delay\", \n",
    "         \"leveraging\"]"
   ]
  },
  {
   "cell_type": "code",
   "execution_count": 5,
   "metadata": {},
   "outputs": [],
   "source": [
    "processor = Processor('./../../data/config.json')"
   ]
  },
  {
   "cell_type": "code",
   "execution_count": 6,
   "metadata": {},
   "outputs": [],
   "source": [
    "pre_df = df[df['date'] < '2020-02-01']\n",
    "post_df = df[df['date'] >= '2020-02-01']"
   ]
  },
  {
   "cell_type": "code",
   "execution_count": 8,
   "metadata": {},
   "outputs": [
    {
     "name": "stderr",
     "output_type": "stream",
     "text": [
      "100%|██████████| 21/21 [01:05<00:00,  3.10s/it]\n"
     ]
    }
   ],
   "source": [
    "pre_result = processor.words_distribution(pre_df, words)"
   ]
  },
  {
   "cell_type": "code",
   "execution_count": 9,
   "metadata": {},
   "outputs": [],
   "source": [
    "pre_df.to_csv('./../../data/fintech/lendingkart/pre_wd.csv', index=False)"
   ]
  },
  {
   "cell_type": "code",
   "execution_count": 10,
   "metadata": {},
   "outputs": [
    {
     "name": "stderr",
     "output_type": "stream",
     "text": [
      "100%|██████████| 21/21 [04:29<00:00, 12.83s/it]\n"
     ]
    }
   ],
   "source": [
    "post_result = processor.words_distribution(post_df, words)"
   ]
  },
  {
   "cell_type": "code",
   "execution_count": 11,
   "metadata": {},
   "outputs": [],
   "source": [
    "post_df.to_csv('./../../data/fintech/lendingkart/post_wd.csv', index=False)"
   ]
  },
  {
   "cell_type": "code",
   "execution_count": 12,
   "metadata": {},
   "outputs": [
    {
     "data": {
      "text/html": [
       "<div>\n",
       "<style scoped>\n",
       "    .dataframe tbody tr th:only-of-type {\n",
       "        vertical-align: middle;\n",
       "    }\n",
       "\n",
       "    .dataframe tbody tr th {\n",
       "        vertical-align: top;\n",
       "    }\n",
       "\n",
       "    .dataframe thead th {\n",
       "        text-align: right;\n",
       "    }\n",
       "</style>\n",
       "<table border=\"1\" class=\"dataframe\">\n",
       "  <thead>\n",
       "    <tr style=\"text-align: right;\">\n",
       "      <th></th>\n",
       "      <th>words</th>\n",
       "      <th>false_cnt</th>\n",
       "      <th>true_cnt</th>\n",
       "      <th>false_percent</th>\n",
       "      <th>true_percent</th>\n",
       "    </tr>\n",
       "  </thead>\n",
       "  <tbody>\n",
       "    <tr>\n",
       "      <th>0</th>\n",
       "      <td>harassment</td>\n",
       "      <td>1435</td>\n",
       "      <td>0</td>\n",
       "      <td>100.000000</td>\n",
       "      <td>0.000000</td>\n",
       "    </tr>\n",
       "    <tr>\n",
       "      <th>1</th>\n",
       "      <td>fraud</td>\n",
       "      <td>1427</td>\n",
       "      <td>8</td>\n",
       "      <td>99.442509</td>\n",
       "      <td>0.557491</td>\n",
       "    </tr>\n",
       "    <tr>\n",
       "      <th>2</th>\n",
       "      <td>restructure</td>\n",
       "      <td>1435</td>\n",
       "      <td>0</td>\n",
       "      <td>100.000000</td>\n",
       "      <td>0.000000</td>\n",
       "    </tr>\n",
       "    <tr>\n",
       "      <th>3</th>\n",
       "      <td>covid19 relief</td>\n",
       "      <td>1435</td>\n",
       "      <td>0</td>\n",
       "      <td>100.000000</td>\n",
       "      <td>0.000000</td>\n",
       "    </tr>\n",
       "    <tr>\n",
       "      <th>4</th>\n",
       "      <td>force</td>\n",
       "      <td>1433</td>\n",
       "      <td>2</td>\n",
       "      <td>99.860627</td>\n",
       "      <td>0.139373</td>\n",
       "    </tr>\n",
       "    <tr>\n",
       "      <th>5</th>\n",
       "      <td>money cut</td>\n",
       "      <td>1435</td>\n",
       "      <td>0</td>\n",
       "      <td>100.000000</td>\n",
       "      <td>0.000000</td>\n",
       "    </tr>\n",
       "    <tr>\n",
       "      <th>6</th>\n",
       "      <td>unethical</td>\n",
       "      <td>1434</td>\n",
       "      <td>1</td>\n",
       "      <td>99.930314</td>\n",
       "      <td>0.069686</td>\n",
       "    </tr>\n",
       "    <tr>\n",
       "      <th>7</th>\n",
       "      <td>fake</td>\n",
       "      <td>1431</td>\n",
       "      <td>4</td>\n",
       "      <td>99.721254</td>\n",
       "      <td>0.278746</td>\n",
       "    </tr>\n",
       "    <tr>\n",
       "      <th>8</th>\n",
       "      <td>false promise</td>\n",
       "      <td>1435</td>\n",
       "      <td>0</td>\n",
       "      <td>100.000000</td>\n",
       "      <td>0.000000</td>\n",
       "    </tr>\n",
       "    <tr>\n",
       "      <th>9</th>\n",
       "      <td>shutdown</td>\n",
       "      <td>1434</td>\n",
       "      <td>1</td>\n",
       "      <td>99.930314</td>\n",
       "      <td>0.069686</td>\n",
       "    </tr>\n",
       "    <tr>\n",
       "      <th>10</th>\n",
       "      <td>moratorium</td>\n",
       "      <td>1435</td>\n",
       "      <td>0</td>\n",
       "      <td>100.000000</td>\n",
       "      <td>0.000000</td>\n",
       "    </tr>\n",
       "    <tr>\n",
       "      <th>11</th>\n",
       "      <td>no response</td>\n",
       "      <td>1430</td>\n",
       "      <td>5</td>\n",
       "      <td>99.651568</td>\n",
       "      <td>0.348432</td>\n",
       "    </tr>\n",
       "    <tr>\n",
       "      <th>12</th>\n",
       "      <td>scam</td>\n",
       "      <td>1432</td>\n",
       "      <td>3</td>\n",
       "      <td>99.790941</td>\n",
       "      <td>0.209059</td>\n",
       "    </tr>\n",
       "    <tr>\n",
       "      <th>13</th>\n",
       "      <td>no answer</td>\n",
       "      <td>1435</td>\n",
       "      <td>0</td>\n",
       "      <td>100.000000</td>\n",
       "      <td>0.000000</td>\n",
       "    </tr>\n",
       "    <tr>\n",
       "      <th>14</th>\n",
       "      <td>love</td>\n",
       "      <td>1420</td>\n",
       "      <td>15</td>\n",
       "      <td>98.954704</td>\n",
       "      <td>1.045296</td>\n",
       "    </tr>\n",
       "    <tr>\n",
       "      <th>15</th>\n",
       "      <td>responsive</td>\n",
       "      <td>1434</td>\n",
       "      <td>1</td>\n",
       "      <td>99.930314</td>\n",
       "      <td>0.069686</td>\n",
       "    </tr>\n",
       "    <tr>\n",
       "      <th>16</th>\n",
       "      <td>very bad</td>\n",
       "      <td>1434</td>\n",
       "      <td>1</td>\n",
       "      <td>99.930314</td>\n",
       "      <td>0.069686</td>\n",
       "    </tr>\n",
       "    <tr>\n",
       "      <th>17</th>\n",
       "      <td>machine learning</td>\n",
       "      <td>1435</td>\n",
       "      <td>0</td>\n",
       "      <td>100.000000</td>\n",
       "      <td>0.000000</td>\n",
       "    </tr>\n",
       "    <tr>\n",
       "      <th>18</th>\n",
       "      <td>algorithm</td>\n",
       "      <td>1433</td>\n",
       "      <td>2</td>\n",
       "      <td>99.860627</td>\n",
       "      <td>0.139373</td>\n",
       "    </tr>\n",
       "    <tr>\n",
       "      <th>19</th>\n",
       "      <td>delay</td>\n",
       "      <td>1430</td>\n",
       "      <td>5</td>\n",
       "      <td>99.651568</td>\n",
       "      <td>0.348432</td>\n",
       "    </tr>\n",
       "    <tr>\n",
       "      <th>20</th>\n",
       "      <td>leveraging</td>\n",
       "      <td>1435</td>\n",
       "      <td>0</td>\n",
       "      <td>100.000000</td>\n",
       "      <td>0.000000</td>\n",
       "    </tr>\n",
       "  </tbody>\n",
       "</table>\n",
       "</div>"
      ],
      "text/plain": [
       "               words  false_cnt  true_cnt  false_percent  true_percent\n",
       "0         harassment       1435         0     100.000000      0.000000\n",
       "1              fraud       1427         8      99.442509      0.557491\n",
       "2        restructure       1435         0     100.000000      0.000000\n",
       "3     covid19 relief       1435         0     100.000000      0.000000\n",
       "4              force       1433         2      99.860627      0.139373\n",
       "5          money cut       1435         0     100.000000      0.000000\n",
       "6          unethical       1434         1      99.930314      0.069686\n",
       "7               fake       1431         4      99.721254      0.278746\n",
       "8      false promise       1435         0     100.000000      0.000000\n",
       "9           shutdown       1434         1      99.930314      0.069686\n",
       "10        moratorium       1435         0     100.000000      0.000000\n",
       "11       no response       1430         5      99.651568      0.348432\n",
       "12              scam       1432         3      99.790941      0.209059\n",
       "13         no answer       1435         0     100.000000      0.000000\n",
       "14              love       1420        15      98.954704      1.045296\n",
       "15        responsive       1434         1      99.930314      0.069686\n",
       "16          very bad       1434         1      99.930314      0.069686\n",
       "17  machine learning       1435         0     100.000000      0.000000\n",
       "18         algorithm       1433         2      99.860627      0.139373\n",
       "19             delay       1430         5      99.651568      0.348432\n",
       "20        leveraging       1435         0     100.000000      0.000000"
      ]
     },
     "execution_count": 12,
     "metadata": {},
     "output_type": "execute_result"
    }
   ],
   "source": [
    "pre_result"
   ]
  },
  {
   "cell_type": "code",
   "execution_count": 13,
   "metadata": {},
   "outputs": [
    {
     "data": {
      "text/plain": [
       "<AxesSubplot: xlabel='true_cnt', ylabel='words'>"
      ]
     },
     "execution_count": 13,
     "metadata": {},
     "output_type": "execute_result"
    },
    {
     "data": {
      "image/png": "[encoded data removed]",
      "text/plain": [
       "<Figure size 2000x1000 with 2 Axes>"
      ]
     },
     "metadata": {},
     "output_type": "display_data"
    }
   ],
   "source": [
    "fig, axes = plt.subplots(1, 2, figsize=(20, 10))\n",
    "\n",
    "sns.barplot(x='true_cnt', y='words', data=pre_result, orient='h', ax=axes[0])\n",
    "\n",
    "sns.barplot(x='true_cnt', y='words', data=post_result, orient='h', ax=axes[1])"
   ]
  },
  {
   "cell_type": "code",
   "execution_count": null,
   "metadata": {},
   "outputs": [],
   "source": []
  }
 ],
 "metadata": {
  "kernelspec": {
   "display_name": "Python 3.8.13 ('project')",
   "language": "python",
   "name": "python3"
  },
  "language_info": {
   "codemirror_mode": {
    "name": "ipython",
    "version": 3
   },
   "file_extension": ".py",
   "mimetype": "text/x-python",
   "name": "python",
   "nbconvert_exporter": "python",
   "pygments_lexer": "ipython3",
   "version": "3.8.13"
  },
  "orig_nbformat": 4,
  "vscode": {
   "interpreter": {
    "hash": "af77eb27f514ee114388f6898d9553454263f7eea260918546d16a8e581c8922"
   }
  }
 },
 "nbformat": 4,
 "nbformat_minor": 2
}
