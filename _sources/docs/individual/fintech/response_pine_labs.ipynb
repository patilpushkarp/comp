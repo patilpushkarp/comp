{
 "cells": [
  {
   "cell_type": "markdown",
   "metadata": {},
   "source": [
    "# Pine Labs"
   ]
  },
  {
   "cell_type": "code",
   "execution_count": 31,
   "metadata": {},
   "outputs": [],
   "source": [
    "# Load necessary libraries\n",
    "import sys\n",
    "import warnings\n",
    "warnings.filterwarnings('ignore')\n",
    "import datetime\n",
    "import pandas as pd\n",
    "import gensim\n",
    "import tqdm.notebook as tqdm\n",
    "from tqdm.auto import tqdm\n",
    "tqdm.pandas()\n",
    "\n",
    "sys.path.append('/Users/pushkar/Documents/projects/fin_comp/comp/docs')\n",
    "\n",
    "import utils.helper\n",
    "from utils.helper import Processor\n",
    "import importlib\n",
    "importlib.reload(utils.helper)\n",
    "\n",
    "import plotly.io as pio\n",
    "svg_renderer = pio.renderers[\"svg\"]\n",
    "svg_renderer.width = 900\n",
    "svg_renderer.height = 500\n",
    "pio.renderers.default = \"svg\"\n",
    "import plotly.express as px"
   ]
  },
  {
   "cell_type": "code",
   "execution_count": 2,
   "metadata": {},
   "outputs": [],
   "source": [
    "# Load data\n",
    "df = pd.read_csv('./../../data/fintech/pine_labs/pine_labs.csv')"
   ]
  },
  {
   "cell_type": "code",
   "execution_count": 4,
   "metadata": {},
   "outputs": [],
   "source": [
    "# Company username\n",
    "company_username = 'PineLabs'"
   ]
  },
  {
   "cell_type": "code",
   "execution_count": 5,
   "metadata": {},
   "outputs": [],
   "source": [
    "# Correct the format of variables\n",
    "df['inReplyToTweetId'] = df['inReplyToTweetId'].apply(lambda x: '%.0f' % x).values.tolist()\n",
    "df['conversation_id'] = df['conversation_id'].astype(str)"
   ]
  },
  {
   "cell_type": "code",
   "execution_count": 6,
   "metadata": {},
   "outputs": [],
   "source": [
    "# Declare the query words\n",
    "query_words = ['dm', 'customer experience', 'inconvenience', 'concern team', 'resolve', \n",
    "                'solve', 'no noc', 'await response', 'unpleasant experience']"
   ]
  },
  {
   "cell_type": "code",
   "execution_count": 7,
   "metadata": {},
   "outputs": [],
   "source": [
    "# Declare the processor object\n",
    "processor = Processor('./../../data/config.json')"
   ]
  },
  {
   "cell_type": "code",
   "execution_count": 8,
   "metadata": {},
   "outputs": [
    {
     "data": {
      "application/vnd.jupyter.widget-view+json": {
       "model_id": "4d51a57ebb8f4a098fe72d55df6be8b7",
       "version_major": 2,
       "version_minor": 0
      },
      "text/plain": [
       "  0%|          | 0/9 [00:00<?, ?it/s]"
      ]
     },
     "metadata": {},
     "output_type": "display_data"
    }
   ],
   "source": [
    "# Check whether an observation is query for the company or not\n",
    "df['is_query'] = 0\n",
    "\n",
    "for word in tqdm(query_words):\n",
    "    df['is_query'] = df['is_query'] + df['tweet'].apply(processor.word_distribution, find=word).astype(int)"
   ]
  },
  {
   "cell_type": "code",
   "execution_count": 9,
   "metadata": {},
   "outputs": [],
   "source": [
    "# Select observations of queries\n",
    "qdf = df[(df['is_query']>0) & (df['username'] == company_username)]"
   ]
  },
  {
   "cell_type": "code",
   "execution_count": 10,
   "metadata": {},
   "outputs": [
    {
     "data": {
      "text/plain": [
       "(511, 28)"
      ]
     },
     "execution_count": 10,
     "metadata": {},
     "output_type": "execute_result"
    }
   ],
   "source": [
    "qdf.shape"
   ]
  },
  {
   "cell_type": "code",
   "execution_count": 11,
   "metadata": {},
   "outputs": [
    {
     "name": "stdout",
     "output_type": "stream",
     "text": [
      "Total number of unique conversations: 468\n"
     ]
    }
   ],
   "source": [
    "# Get all the conversation ids\n",
    "conversation_ids = qdf['conversation_id'].unique()\n",
    "print(f\"Total number of unique conversations: {len(conversation_ids)}\")"
   ]
  },
  {
   "cell_type": "code",
   "execution_count": 12,
   "metadata": {},
   "outputs": [],
   "source": [
    "df['date'] = pd.to_datetime(df['date'])"
   ]
  },
  {
   "cell_type": "markdown",
   "metadata": {},
   "source": [
    "## Response time"
   ]
  },
  {
   "cell_type": "markdown",
   "metadata": {},
   "source": [
    "Response time is the time the company takes to respond to the first query."
   ]
  },
  {
   "cell_type": "code",
   "execution_count": 13,
   "metadata": {},
   "outputs": [],
   "source": [
    "result = pd.DataFrame()\n",
    "result['conversation_id'] = conversation_ids\n",
    "result['response_time'] = 0"
   ]
  },
  {
   "cell_type": "code",
   "execution_count": 14,
   "metadata": {},
   "outputs": [],
   "source": [
    "for index, conversation_id in enumerate(conversation_ids):\n",
    "    tmp = df[df['conversation_id'] == conversation_id]\n",
    "    tmp.sort_values('date', ascending=True, inplace=True)\n",
    "    comp_tmp = tmp[tmp['username'] == company_username]\n",
    "    response_time = (comp_tmp.iloc[0]['date'] - tmp.iloc[0]['date']) / datetime.timedelta(hours=1)\n",
    "    result.at[index, 'response_time'] = response_time"
   ]
  },
  {
   "cell_type": "code",
   "execution_count": 15,
   "metadata": {},
   "outputs": [
    {
     "data": {
      "text/html": [
       "<div>\n",
       "<style scoped>\n",
       "    .dataframe tbody tr th:only-of-type {\n",
       "        vertical-align: middle;\n",
       "    }\n",
       "\n",
       "    .dataframe tbody tr th {\n",
       "        vertical-align: top;\n",
       "    }\n",
       "\n",
       "    .dataframe thead th {\n",
       "        text-align: right;\n",
       "    }\n",
       "</style>\n",
       "<table border=\"1\" class=\"dataframe\">\n",
       "  <thead>\n",
       "    <tr style=\"text-align: right;\">\n",
       "      <th></th>\n",
       "      <th>conversation_id</th>\n",
       "      <th>response_time</th>\n",
       "    </tr>\n",
       "  </thead>\n",
       "  <tbody>\n",
       "    <tr>\n",
       "      <th>0</th>\n",
       "      <td>1342432402510143490</td>\n",
       "      <td>0.496667</td>\n",
       "    </tr>\n",
       "    <tr>\n",
       "      <th>1</th>\n",
       "      <td>1343827514469191681</td>\n",
       "      <td>0.000000</td>\n",
       "    </tr>\n",
       "    <tr>\n",
       "      <th>2</th>\n",
       "      <td>1343806828421861377</td>\n",
       "      <td>0.600833</td>\n",
       "    </tr>\n",
       "    <tr>\n",
       "      <th>3</th>\n",
       "      <td>1343814255330541571</td>\n",
       "      <td>0.102222</td>\n",
       "    </tr>\n",
       "    <tr>\n",
       "      <th>4</th>\n",
       "      <td>1343472138779443202</td>\n",
       "      <td>0.000000</td>\n",
       "    </tr>\n",
       "    <tr>\n",
       "      <th>...</th>\n",
       "      <td>...</td>\n",
       "      <td>...</td>\n",
       "    </tr>\n",
       "    <tr>\n",
       "      <th>463</th>\n",
       "      <td>1084764264265437184</td>\n",
       "      <td>2.525556</td>\n",
       "    </tr>\n",
       "    <tr>\n",
       "      <th>464</th>\n",
       "      <td>1084103141589565440</td>\n",
       "      <td>0.000000</td>\n",
       "    </tr>\n",
       "    <tr>\n",
       "      <th>465</th>\n",
       "      <td>1080406875424911360</td>\n",
       "      <td>0.000000</td>\n",
       "    </tr>\n",
       "    <tr>\n",
       "      <th>466</th>\n",
       "      <td>1082519608081436672</td>\n",
       "      <td>6.013889</td>\n",
       "    </tr>\n",
       "    <tr>\n",
       "      <th>467</th>\n",
       "      <td>1079959154716958720</td>\n",
       "      <td>0.000000</td>\n",
       "    </tr>\n",
       "  </tbody>\n",
       "</table>\n",
       "<p>468 rows × 2 columns</p>\n",
       "</div>"
      ],
      "text/plain": [
       "         conversation_id  response_time\n",
       "0    1342432402510143490       0.496667\n",
       "1    1343827514469191681       0.000000\n",
       "2    1343806828421861377       0.600833\n",
       "3    1343814255330541571       0.102222\n",
       "4    1343472138779443202       0.000000\n",
       "..                   ...            ...\n",
       "463  1084764264265437184       2.525556\n",
       "464  1084103141589565440       0.000000\n",
       "465  1080406875424911360       0.000000\n",
       "466  1082519608081436672       6.013889\n",
       "467  1079959154716958720       0.000000\n",
       "\n",
       "[468 rows x 2 columns]"
      ]
     },
     "execution_count": 15,
     "metadata": {},
     "output_type": "execute_result"
    }
   ],
   "source": [
    "result"
   ]
  },
  {
   "cell_type": "code",
   "execution_count": 18,
   "metadata": {},
   "outputs": [
    {
     "data": {
      "image/svg+xml": "<svg class=\"main-svg\" xmlns=\"http://www.w3.org/2000/svg\" xmlns:xlink=\"http://www.w3.org/1999/xlink\" width=\"900\" height=\"500\" style=\"\" viewBox=\"0 0 900 500\"><rect x=\"0\" y=\"0\" width=\"900\" height=\"500\" style=\"fill: rgb(255, 255, 255); fill-opacity: 1;\"/><defs id=\"defs-f7fcb8\"><g class=\"clips\"><clipPath id=\"clipf7fcb8xyplot\" class=\"plotclip\"><rect width=\"740\" height=\"266.112\"/></clipPath><clipPath id=\"clipf7fcb8x2y2plot\" class=\"plotclip\"><rect width=\"740\" height=\"50.687999999999995\"/></clipPath><clipPath class=\"axesclip\" id=\"clipf7fcb8x\"><rect x=\"80\" y=\"0\" width=\"740\" height=\"500\"/></clipPath><clipPath class=\"axesclip\" id=\"clipf7fcb8y\"><rect x=\"0\" y=\"153.888\" width=\"900\" height=\"266.112\"/></clipPath><clipPath class=\"axesclip\" id=\"clipf7fcb8xy\"><rect x=\"80\" y=\"153.888\" width=\"740\" height=\"266.112\"/></clipPath><clipPath class=\"axesclip\" id=\"clipf7fcb8y2\"><rect x=\"0\" y=\"100\" width=\"900\" height=\"50.687999999999995\"/></clipPath><clipPath class=\"axesclip\" id=\"clipf7fcb8xy2\"><rect x=\"80\" y=\"100\" width=\"740\" height=\"50.687999999999995\"/></clipPath><clipPath class=\"axesclip\" id=\"clipf7fcb8x2\"><rect x=\"80\" y=\"0\" width=\"740\" height=\"500\"/></clipPath><clipPath class=\"axesclip\" id=\"clipf7fcb8x2y\"><rect x=\"80\" y=\"153.888\" width=\"740\" height=\"266.112\"/></clipPath><clipPath class=\"axesclip\" id=\"clipf7fcb8x2y2\"><rect x=\"80\" y=\"100\" width=\"740\" height=\"50.687999999999995\"/></clipPath></g><g class=\"gradients\"/><g class=\"patterns\"/></defs><g class=\"bglayer\"><rect class=\"bg\" x=\"80\" y=\"153.888\" width=\"740\" height=\"266.112\" style=\"fill: rgb(229, 236, 246); fill-opacity: 1; stroke-width: 0;\"/><rect class=\"bg\" x=\"80\" y=\"100\" width=\"740\" height=\"50.687999999999995\" style=\"fill: rgb(229, 236, 246); fill-opacity: 1; stroke-width: 0;\"/></g><g class=\"layer-below\"><g class=\"imagelayer\"/><g class=\"shapelayer\"/></g><g class=\"cartesianlayer\"><g class=\"subplot xy\"><g class=\"layer-subplot\"><g class=\"shapelayer\"/><g class=\"imagelayer\"/></g><g class=\"minor-gridlayer\"><g class=\"x\"/><g class=\"y\"/></g><g class=\"gridlayer\"><g class=\"x\"/><g class=\"y\"><path class=\"ygrid crisp\" transform=\"translate(0,406.698)\" d=\"M80,0h740\" style=\"stroke: rgb(255, 255, 255); stroke-opacity: 1; stroke-width: 1px;\"/><path class=\"ygrid crisp\" transform=\"translate(0,378.01800000000003)\" d=\"M80,0h740\" style=\"stroke: rgb(255, 255, 255); stroke-opacity: 1; stroke-width: 1px;\"/><path class=\"ygrid crisp\" transform=\"translate(0,340.118)\" d=\"M80,0h740\" style=\"stroke: rgb(255, 255, 255); stroke-opacity: 1; stroke-width: 1px;\"/><path class=\"ygrid crisp\" transform=\"translate(0,311.448)\" d=\"M80,0h740\" style=\"stroke: rgb(255, 255, 255); stroke-opacity: 1; stroke-width: 1px;\"/><path class=\"ygrid crisp\" transform=\"translate(0,282.778)\" d=\"M80,0h740\" style=\"stroke: rgb(255, 255, 255); stroke-opacity: 1; stroke-width: 1px;\"/><path class=\"ygrid crisp\" transform=\"translate(0,244.878)\" d=\"M80,0h740\" style=\"stroke: rgb(255, 255, 255); stroke-opacity: 1; stroke-width: 1px;\"/><path class=\"ygrid crisp\" transform=\"translate(0,216.198)\" d=\"M80,0h740\" style=\"stroke: rgb(255, 255, 255); stroke-opacity: 1; stroke-width: 1px;\"/><path class=\"ygrid crisp\" transform=\"translate(0,187.52800000000002)\" d=\"M80,0h740\" style=\"stroke: rgb(255, 255, 255); stroke-opacity: 1; stroke-width: 1px;\"/></g></g><g class=\"zerolinelayer\"/><path class=\"xlines-below\"/><path class=\"ylines-below\"/><g class=\"overlines-below\"/><g class=\"xaxislayer-below\"/><g class=\"yaxislayer-below\"/><g class=\"overaxes-below\"/><g class=\"plot\" transform=\"translate(80,153.888)\" clip-path=\"url(#clipf7fcb8xyplot)\"><g class=\"barlayer mlayer\"><g class=\"trace bars\" shape-rendering=\"crispEdges\" style=\"opacity: 1;\"><g class=\"points\"><g class=\"point\"><path d=\"M28.24,2794.18V13.31H45.76V2794.18Z\" style=\"vector-effect: non-scaling-stroke; opacity: 1; stroke-width: 0px; fill: rgb(99, 110, 250); fill-opacity: 1;\"/></g><g class=\"point\"><path d=\"M45.76,2794.18V98.2H63.29V2794.18Z\" style=\"vector-effect: non-scaling-stroke; opacity: 1; stroke-width: 0px; fill: rgb(99, 110, 250); fill-opacity: 1;\"/></g><g class=\"point\"><path d=\"M63.29,2794.18V143.64H80.81V2794.18Z\" style=\"vector-effect: non-scaling-stroke; opacity: 1; stroke-width: 0px; fill: rgb(99, 110, 250); fill-opacity: 1;\"/></g><g class=\"point\"><path d=\"M80.81,2794.18V128.89H98.34V2794.18Z\" style=\"vector-effect: non-scaling-stroke; opacity: 1; stroke-width: 0px; fill: rgb(99, 110, 250); fill-opacity: 1;\"/></g><g class=\"point\"><path d=\"M98.34,2794.18V135.61H115.87V2794.18Z\" style=\"vector-effect: non-scaling-stroke; opacity: 1; stroke-width: 0px; fill: rgb(99, 110, 250); fill-opacity: 1;\"/></g><g class=\"point\"><path d=\"M115.87,2794.18V161.92H133.39V2794.18Z\" style=\"vector-effect: non-scaling-stroke; opacity: 1; stroke-width: 0px; fill: rgb(99, 110, 250); fill-opacity: 1;\"/></g><g class=\"point\"><path d=\"M133.39,2794.18V252.81H150.92V2794.18Z\" style=\"vector-effect: non-scaling-stroke; opacity: 1; stroke-width: 0px; fill: rgb(99, 110, 250); fill-opacity: 1;\"/></g><g class=\"point\"><path d=\"M150.92,2794.18V252.81H168.44V2794.18Z\" style=\"vector-effect: non-scaling-stroke; opacity: 1; stroke-width: 0px; fill: rgb(99, 110, 250); fill-opacity: 1;\"/></g><g class=\"point\"><path d=\"M168.44,2794.18V195.46H185.97V2794.18Z\" style=\"vector-effect: non-scaling-stroke; opacity: 1; stroke-width: 0px; fill: rgb(99, 110, 250); fill-opacity: 1;\"/></g><g class=\"point\"><path d=\"M185.97,2794.18V224.13H203.49V2794.18Z\" style=\"vector-effect: non-scaling-stroke; opacity: 1; stroke-width: 0px; fill: rgb(99, 110, 250); fill-opacity: 1;\"/></g><g class=\"point\"><path d=\"M203.49,2794.18V178.69H221.02V2794.18Z\" style=\"vector-effect: non-scaling-stroke; opacity: 1; stroke-width: 0px; fill: rgb(99, 110, 250); fill-opacity: 1;\"/></g><g class=\"point\"><path d=\"M221.02,2794.18V252.81H238.54V2794.18Z\" style=\"vector-effect: non-scaling-stroke; opacity: 1; stroke-width: 0px; fill: rgb(99, 110, 250); fill-opacity: 1;\"/></g><g class=\"point\"><path d=\"M238.54,2794.18V252.81H256.07V2794.18Z\" style=\"vector-effect: non-scaling-stroke; opacity: 1; stroke-width: 0px; fill: rgb(99, 110, 250); fill-opacity: 1;\"/></g><g class=\"point\"><path d=\"M256.07,2794.18V207.36H273.6V2794.18Z\" style=\"vector-effect: non-scaling-stroke; opacity: 1; stroke-width: 0px; fill: rgb(99, 110, 250); fill-opacity: 1;\"/></g><g class=\"point\"><path d=\"M273.6,2794.18V207.36H291.12V2794.18Z\" style=\"vector-effect: non-scaling-stroke; opacity: 1; stroke-width: 0px; fill: rgb(99, 110, 250); fill-opacity: 1;\"/></g><g class=\"point\"><path d=\"M291.12,2794.18V195.46H308.65V2794.18Z\" style=\"vector-effect: non-scaling-stroke; opacity: 1; stroke-width: 0px; fill: rgb(99, 110, 250); fill-opacity: 1;\"/></g><g class=\"point\"><path d=\"M0,0Z\" style=\"vector-effect: non-scaling-stroke; opacity: 1; stroke-width: 0px; fill: rgb(99, 110, 250); fill-opacity: 1;\"/></g><g class=\"point\"><path d=\"M326.17,2794.18V252.81H343.7V2794.18Z\" style=\"vector-effect: non-scaling-stroke; opacity: 1; stroke-width: 0px; fill: rgb(99, 110, 250); fill-opacity: 1;\"/></g><g class=\"point\"><path d=\"M343.7,2794.18V224.13H361.22V2794.18Z\" style=\"vector-effect: non-scaling-stroke; opacity: 1; stroke-width: 0px; fill: rgb(99, 110, 250); fill-opacity: 1;\"/></g><g class=\"point\"><path d=\"M361.22,2794.18V207.36H378.75V2794.18Z\" style=\"vector-effect: non-scaling-stroke; opacity: 1; stroke-width: 0px; fill: rgb(99, 110, 250); fill-opacity: 1;\"/></g><g class=\"point\"><path d=\"M378.75,2794.18V224.13H396.28V2794.18Z\" style=\"vector-effect: non-scaling-stroke; opacity: 1; stroke-width: 0px; fill: rgb(99, 110, 250); fill-opacity: 1;\"/></g><g class=\"point\"><path d=\"M0,0Z\" style=\"vector-effect: non-scaling-stroke; opacity: 1; stroke-width: 0px; fill: rgb(99, 110, 250); fill-opacity: 1;\"/></g><g class=\"point\"><path d=\"M0,0Z\" style=\"vector-effect: non-scaling-stroke; opacity: 1; stroke-width: 0px; fill: rgb(99, 110, 250); fill-opacity: 1;\"/></g><g class=\"point\"><path d=\"M0,0Z\" style=\"vector-effect: non-scaling-stroke; opacity: 1; stroke-width: 0px; fill: rgb(99, 110, 250); fill-opacity: 1;\"/></g><g class=\"point\"><path d=\"M448.85,2794.18V252.81H466.38V2794.18Z\" style=\"vector-effect: non-scaling-stroke; opacity: 1; stroke-width: 0px; fill: rgb(99, 110, 250); fill-opacity: 1;\"/></g><g class=\"point\"><path d=\"M0,0Z\" style=\"vector-effect: non-scaling-stroke; opacity: 1; stroke-width: 0px; fill: rgb(99, 110, 250); fill-opacity: 1;\"/></g><g class=\"point\"><path d=\"M0,0Z\" style=\"vector-effect: non-scaling-stroke; opacity: 1; stroke-width: 0px; fill: rgb(99, 110, 250); fill-opacity: 1;\"/></g><g class=\"point\"><path d=\"M0,0Z\" style=\"vector-effect: non-scaling-stroke; opacity: 1; stroke-width: 0px; fill: rgb(99, 110, 250); fill-opacity: 1;\"/></g><g class=\"point\"><path d=\"M0,0Z\" style=\"vector-effect: non-scaling-stroke; opacity: 1; stroke-width: 0px; fill: rgb(99, 110, 250); fill-opacity: 1;\"/></g><g class=\"point\"><path d=\"M536.48,2794.18V252.81H554.01V2794.18Z\" style=\"vector-effect: non-scaling-stroke; opacity: 1; stroke-width: 0px; fill: rgb(99, 110, 250); fill-opacity: 1;\"/></g><g class=\"point\"><path d=\"M0,0Z\" style=\"vector-effect: non-scaling-stroke; opacity: 1; stroke-width: 0px; fill: rgb(99, 110, 250); fill-opacity: 1;\"/></g><g class=\"point\"><path d=\"M0,0Z\" style=\"vector-effect: non-scaling-stroke; opacity: 1; stroke-width: 0px; fill: rgb(99, 110, 250); fill-opacity: 1;\"/></g><g class=\"point\"><path d=\"M0,0Z\" style=\"vector-effect: non-scaling-stroke; opacity: 1; stroke-width: 0px; fill: rgb(99, 110, 250); fill-opacity: 1;\"/></g><g class=\"point\"><path d=\"M0,0Z\" style=\"vector-effect: non-scaling-stroke; opacity: 1; stroke-width: 0px; fill: rgb(99, 110, 250); fill-opacity: 1;\"/></g><g class=\"point\"><path d=\"M624.11,2794.18V252.81H641.63V2794.18Z\" style=\"vector-effect: non-scaling-stroke; opacity: 1; stroke-width: 0px; fill: rgb(99, 110, 250); fill-opacity: 1;\"/></g><g class=\"point\"><path d=\"M0,0Z\" style=\"vector-effect: non-scaling-stroke; opacity: 1; stroke-width: 0px; fill: rgb(99, 110, 250); fill-opacity: 1;\"/></g><g class=\"point\"><path d=\"M0,0Z\" style=\"vector-effect: non-scaling-stroke; opacity: 1; stroke-width: 0px; fill: rgb(99, 110, 250); fill-opacity: 1;\"/></g><g class=\"point\"><path d=\"M0,0Z\" style=\"vector-effect: non-scaling-stroke; opacity: 1; stroke-width: 0px; fill: rgb(99, 110, 250); fill-opacity: 1;\"/></g><g class=\"point\"><path d=\"M694.21,2794.18V252.81H711.74V2794.18Z\" style=\"vector-effect: non-scaling-stroke; opacity: 1; stroke-width: 0px; fill: rgb(99, 110, 250); fill-opacity: 1;\"/></g></g></g></g></g><g class=\"overplot\"/><path class=\"xlines-above crisp\" d=\"M0,0\" style=\"fill: none;\"/><path class=\"ylines-above crisp\" d=\"M0,0\" style=\"fill: none;\"/><g class=\"overlines-above\"/><g class=\"xaxislayer-above\"><g class=\"xtick\"><text text-anchor=\"middle\" x=\"0\" y=\"433\" transform=\"translate(117,0)\" style=\"font-family: 'Open Sans', verdana, arial, sans-serif; font-size: 12px; fill: rgb(42, 63, 95); fill-opacity: 1; white-space: pre; opacity: 1;\">0</text></g><g class=\"xtick\"><text text-anchor=\"middle\" x=\"0\" y=\"433\" style=\"font-family: 'Open Sans', verdana, arial, sans-serif; font-size: 12px; fill: rgb(42, 63, 95); fill-opacity: 1; white-space: pre; opacity: 1;\" transform=\"translate(292.26,0)\">50</text></g><g class=\"xtick\"><text text-anchor=\"middle\" x=\"0\" y=\"433\" style=\"font-family: 'Open Sans', verdana, arial, sans-serif; font-size: 12px; fill: rgb(42, 63, 95); fill-opacity: 1; white-space: pre; opacity: 1;\" transform=\"translate(467.51,0)\">100</text></g><g class=\"xtick\"><text text-anchor=\"middle\" x=\"0\" y=\"433\" style=\"font-family: 'Open Sans', verdana, arial, sans-serif; font-size: 12px; fill: rgb(42, 63, 95); fill-opacity: 1; white-space: pre; opacity: 1;\" transform=\"translate(642.77,0)\">150</text></g><g class=\"xtick\"><text text-anchor=\"middle\" x=\"0\" y=\"433\" style=\"font-family: 'Open Sans', verdana, arial, sans-serif; font-size: 12px; fill: rgb(42, 63, 95); fill-opacity: 1; white-space: pre; opacity: 1;\" transform=\"translate(818.02,0)\">200</text></g></g><g class=\"yaxislayer-above\"><g class=\"ytick\"><text text-anchor=\"end\" x=\"79\" y=\"4.199999999999999\" transform=\"translate(0,406.698)\" style=\"font-family: 'Open Sans', verdana, arial, sans-serif; font-size: 12px; fill: rgb(42, 63, 95); fill-opacity: 1; white-space: pre; opacity: 1;\">1</text></g><g class=\"ytick\"><text text-anchor=\"end\" x=\"79\" y=\"3.15\" style=\"font-family: 'Open Sans', verdana, arial, sans-serif; font-size: 9px; fill: rgb(42, 63, 95); fill-opacity: 1; white-space: pre; opacity: 1;\" transform=\"translate(0,378.01800000000003)\">2</text></g><g class=\"ytick\"><text text-anchor=\"end\" x=\"79\" y=\"3.15\" style=\"font-family: 'Open Sans', verdana, arial, sans-serif; font-size: 9px; fill: rgb(42, 63, 95); fill-opacity: 1; white-space: pre; opacity: 1;\" transform=\"translate(0,340.118)\">5</text></g><g class=\"ytick\"><text text-anchor=\"end\" x=\"79\" y=\"4.199999999999999\" style=\"font-family: 'Open Sans', verdana, arial, sans-serif; font-size: 12px; fill: rgb(42, 63, 95); fill-opacity: 1; white-space: pre; opacity: 1;\" transform=\"translate(0,311.448)\">10</text></g><g class=\"ytick\"><text text-anchor=\"end\" x=\"79\" y=\"3.15\" style=\"font-family: 'Open Sans', verdana, arial, sans-serif; font-size: 9px; fill: rgb(42, 63, 95); fill-opacity: 1; white-space: pre; opacity: 1;\" transform=\"translate(0,282.778)\">2</text></g><g class=\"ytick\"><text text-anchor=\"end\" x=\"79\" y=\"3.15\" style=\"font-family: 'Open Sans', verdana, arial, sans-serif; font-size: 9px; fill: rgb(42, 63, 95); fill-opacity: 1; white-space: pre; opacity: 1;\" transform=\"translate(0,244.878)\">5</text></g><g class=\"ytick\"><text text-anchor=\"end\" x=\"79\" y=\"4.199999999999999\" style=\"font-family: 'Open Sans', verdana, arial, sans-serif; font-size: 12px; fill: rgb(42, 63, 95); fill-opacity: 1; white-space: pre; opacity: 1;\" transform=\"translate(0,216.198)\">100</text></g><g class=\"ytick\"><text text-anchor=\"end\" x=\"79\" y=\"3.15\" style=\"font-family: 'Open Sans', verdana, arial, sans-serif; font-size: 9px; fill: rgb(42, 63, 95); fill-opacity: 1; white-space: pre; opacity: 1;\" transform=\"translate(0,187.52800000000002)\">2</text></g></g><g class=\"overaxes-above\"/></g><g class=\"subplot x2y2\"><g class=\"layer-subplot\"><g class=\"shapelayer\"/><g class=\"imagelayer\"/></g><g class=\"minor-gridlayer\"><g class=\"x2\"/><g class=\"y2\"/></g><g class=\"gridlayer\"><g class=\"x2\"><path class=\"x2grid crisp\" transform=\"translate(292.26,0)\" d=\"M0,100v50.687999999999995\" style=\"stroke: rgb(255, 255, 255); stroke-opacity: 1; stroke-width: 1px;\"/><path class=\"x2grid crisp\" transform=\"translate(467.51,0)\" d=\"M0,100v50.687999999999995\" style=\"stroke: rgb(255, 255, 255); stroke-opacity: 1; stroke-width: 1px;\"/><path class=\"x2grid crisp\" transform=\"translate(642.77,0)\" d=\"M0,100v50.687999999999995\" style=\"stroke: rgb(255, 255, 255); stroke-opacity: 1; stroke-width: 1px;\"/><path class=\"x2grid crisp\" transform=\"translate(818.02,0)\" d=\"M0,100v50.687999999999995\" style=\"stroke: rgb(255, 255, 255); stroke-opacity: 1; stroke-width: 1px;\"/></g><g class=\"y2\"/></g><g class=\"zerolinelayer\"><path class=\"x2zl zl crisp\" transform=\"translate(117,0)\" d=\"M0,100v50.687999999999995\" style=\"stroke: rgb(255, 255, 255); stroke-opacity: 1; stroke-width: 2px;\"/></g><path class=\"xlines-below\"/><path class=\"ylines-below\"/><g class=\"overlines-below\"/><g class=\"xaxislayer-below\"/><g class=\"yaxislayer-below\"/><g class=\"overaxes-below\"/><g class=\"plot\" transform=\"translate(80,100)\" clip-path=\"url(#clipf7fcb8x2y2plot)\"><g class=\"boxlayer mlayer\"><g class=\"trace boxes\" style=\"opacity: 1;\"><path class=\"box\" d=\"M38.54,31.55V19.13M37,37.76V12.93H37.47L38.54,19.13L39.6,12.93H51.7V37.76H39.6L38.54,31.55L37.47,37.76ZM37,25.34H37M51.7,25.34H73.14M37,31.55V19.13M73.14,31.55V19.13\" style=\"vector-effect: non-scaling-stroke; stroke-width: 2px; stroke: rgb(99, 110, 250); stroke-opacity: 1; fill: rgb(99, 110, 250); fill-opacity: 0.5;\"/><g class=\"points\"><path class=\"point\" transform=\"translate(73.87,25.34)\" d=\"M3,0A3,3 0 1,1 0,-3A3,3 0 0,1 3,0Z\" style=\"opacity: 1; stroke-width: 0px; fill: rgb(99, 110, 250); fill-opacity: 1;\"/><path class=\"point\" transform=\"translate(77.09,25.34)\" d=\"M3,0A3,3 0 1,1 0,-3A3,3 0 0,1 3,0Z\" style=\"opacity: 1; stroke-width: 0px; fill: rgb(99, 110, 250); fill-opacity: 1;\"/><path class=\"point\" transform=\"translate(78.16,25.34)\" d=\"M3,0A3,3 0 1,1 0,-3A3,3 0 0,1 3,0Z\" style=\"opacity: 1; stroke-width: 0px; fill: rgb(99, 110, 250); fill-opacity: 1;\"/><path class=\"point\" transform=\"translate(80.71,25.34)\" d=\"M3,0A3,3 0 1,1 0,-3A3,3 0 0,1 3,0Z\" style=\"opacity: 1; stroke-width: 0px; fill: rgb(99, 110, 250); fill-opacity: 1;\"/><path class=\"point\" transform=\"translate(81.72,25.34)\" d=\"M3,0A3,3 0 1,1 0,-3A3,3 0 0,1 3,0Z\" style=\"opacity: 1; stroke-width: 0px; fill: rgb(99, 110, 250); fill-opacity: 1;\"/><path class=\"point\" transform=\"translate(82.17,25.34)\" d=\"M3,0A3,3 0 1,1 0,-3A3,3 0 0,1 3,0Z\" style=\"opacity: 1; stroke-width: 0px; fill: rgb(99, 110, 250); fill-opacity: 1;\"/><path class=\"point\" transform=\"translate(82.42,25.34)\" d=\"M3,0A3,3 0 1,1 0,-3A3,3 0 0,1 3,0Z\" style=\"opacity: 1; stroke-width: 0px; fill: rgb(99, 110, 250); fill-opacity: 1;\"/><path class=\"point\" transform=\"translate(83.85,25.34)\" d=\"M3,0A3,3 0 1,1 0,-3A3,3 0 0,1 3,0Z\" style=\"opacity: 1; stroke-width: 0px; fill: rgb(99, 110, 250); fill-opacity: 1;\"/><path class=\"point\" transform=\"translate(84.26,25.34)\" d=\"M3,0A3,3 0 1,1 0,-3A3,3 0 0,1 3,0Z\" style=\"opacity: 1; stroke-width: 0px; fill: rgb(99, 110, 250); fill-opacity: 1;\"/><path class=\"point\" transform=\"translate(86.63,25.34)\" d=\"M3,0A3,3 0 1,1 0,-3A3,3 0 0,1 3,0Z\" style=\"opacity: 1; stroke-width: 0px; fill: rgb(99, 110, 250); fill-opacity: 1;\"/><path class=\"point\" transform=\"translate(86.86,25.34)\" d=\"M3,0A3,3 0 1,1 0,-3A3,3 0 0,1 3,0Z\" style=\"opacity: 1; stroke-width: 0px; fill: rgb(99, 110, 250); fill-opacity: 1;\"/><path class=\"point\" transform=\"translate(87.02,25.34)\" d=\"M3,0A3,3 0 1,1 0,-3A3,3 0 0,1 3,0Z\" style=\"opacity: 1; stroke-width: 0px; fill: rgb(99, 110, 250); fill-opacity: 1;\"/><path class=\"point\" transform=\"translate(88.13,25.34)\" d=\"M3,0A3,3 0 1,1 0,-3A3,3 0 0,1 3,0Z\" style=\"opacity: 1; stroke-width: 0px; fill: rgb(99, 110, 250); fill-opacity: 1;\"/><path class=\"point\" transform=\"translate(88.79,25.34)\" d=\"M3,0A3,3 0 1,1 0,-3A3,3 0 0,1 3,0Z\" style=\"opacity: 1; stroke-width: 0px; fill: rgb(99, 110, 250); fill-opacity: 1;\"/><path class=\"point\" transform=\"translate(89.27,25.34)\" d=\"M3,0A3,3 0 1,1 0,-3A3,3 0 0,1 3,0Z\" style=\"opacity: 1; stroke-width: 0px; fill: rgb(99, 110, 250); fill-opacity: 1;\"/><path class=\"point\" transform=\"translate(90.45,25.34)\" d=\"M3,0A3,3 0 1,1 0,-3A3,3 0 0,1 3,0Z\" style=\"opacity: 1; stroke-width: 0px; fill: rgb(99, 110, 250); fill-opacity: 1;\"/><path class=\"point\" transform=\"translate(90.92,25.34)\" d=\"M3,0A3,3 0 1,1 0,-3A3,3 0 0,1 3,0Z\" style=\"opacity: 1; stroke-width: 0px; fill: rgb(99, 110, 250); fill-opacity: 1;\"/><path class=\"point\" transform=\"translate(91.86,25.34)\" d=\"M3,0A3,3 0 1,1 0,-3A3,3 0 0,1 3,0Z\" style=\"opacity: 1; stroke-width: 0px; fill: rgb(99, 110, 250); fill-opacity: 1;\"/><path class=\"point\" transform=\"translate(91.89,25.34)\" d=\"M3,0A3,3 0 1,1 0,-3A3,3 0 0,1 3,0Z\" style=\"opacity: 1; stroke-width: 0px; fill: rgb(99, 110, 250); fill-opacity: 1;\"/><path class=\"point\" transform=\"translate(91.96,25.34)\" d=\"M3,0A3,3 0 1,1 0,-3A3,3 0 0,1 3,0Z\" style=\"opacity: 1; stroke-width: 0px; fill: rgb(99, 110, 250); fill-opacity: 1;\"/><path class=\"point\" transform=\"translate(93.57,25.34)\" d=\"M3,0A3,3 0 1,1 0,-3A3,3 0 0,1 3,0Z\" style=\"opacity: 1; stroke-width: 0px; fill: rgb(99, 110, 250); fill-opacity: 1;\"/><path class=\"point\" transform=\"translate(93.59,25.34)\" d=\"M3,0A3,3 0 1,1 0,-3A3,3 0 0,1 3,0Z\" style=\"opacity: 1; stroke-width: 0px; fill: rgb(99, 110, 250); fill-opacity: 1;\"/><path class=\"point\" transform=\"translate(94.62,25.34)\" d=\"M3,0A3,3 0 1,1 0,-3A3,3 0 0,1 3,0Z\" style=\"opacity: 1; stroke-width: 0px; fill: rgb(99, 110, 250); fill-opacity: 1;\"/><path class=\"point\" transform=\"translate(96.57,25.34)\" d=\"M3,0A3,3 0 1,1 0,-3A3,3 0 0,1 3,0Z\" style=\"opacity: 1; stroke-width: 0px; fill: rgb(99, 110, 250); fill-opacity: 1;\"/><path class=\"point\" transform=\"translate(98.53,25.34)\" d=\"M3,0A3,3 0 1,1 0,-3A3,3 0 0,1 3,0Z\" style=\"opacity: 1; stroke-width: 0px; fill: rgb(99, 110, 250); fill-opacity: 1;\"/><path class=\"point\" transform=\"translate(101.05,25.34)\" d=\"M3,0A3,3 0 1,1 0,-3A3,3 0 0,1 3,0Z\" style=\"opacity: 1; stroke-width: 0px; fill: rgb(99, 110, 250); fill-opacity: 1;\"/><path class=\"point\" transform=\"translate(101.9,25.34)\" d=\"M3,0A3,3 0 1,1 0,-3A3,3 0 0,1 3,0Z\" style=\"opacity: 1; stroke-width: 0px; fill: rgb(99, 110, 250); fill-opacity: 1;\"/><path class=\"point\" transform=\"translate(101.91,25.34)\" d=\"M3,0A3,3 0 1,1 0,-3A3,3 0 0,1 3,0Z\" style=\"opacity: 1; stroke-width: 0px; fill: rgb(99, 110, 250); fill-opacity: 1;\"/><path class=\"point\" transform=\"translate(102.22,25.34)\" d=\"M3,0A3,3 0 1,1 0,-3A3,3 0 0,1 3,0Z\" style=\"opacity: 1; stroke-width: 0px; fill: rgb(99, 110, 250); fill-opacity: 1;\"/><path class=\"point\" transform=\"translate(104.4,25.34)\" d=\"M3,0A3,3 0 1,1 0,-3A3,3 0 0,1 3,0Z\" style=\"opacity: 1; stroke-width: 0px; fill: rgb(99, 110, 250); fill-opacity: 1;\"/><path class=\"point\" transform=\"translate(104.41,25.34)\" d=\"M3,0A3,3 0 1,1 0,-3A3,3 0 0,1 3,0Z\" style=\"opacity: 1; stroke-width: 0px; fill: rgb(99, 110, 250); fill-opacity: 1;\"/><path class=\"point\" transform=\"translate(106.27,25.34)\" d=\"M3,0A3,3 0 1,1 0,-3A3,3 0 0,1 3,0Z\" style=\"opacity: 1; stroke-width: 0px; fill: rgb(99, 110, 250); fill-opacity: 1;\"/><path class=\"point\" transform=\"translate(106.51,25.34)\" d=\"M3,0A3,3 0 1,1 0,-3A3,3 0 0,1 3,0Z\" style=\"opacity: 1; stroke-width: 0px; fill: rgb(99, 110, 250); fill-opacity: 1;\"/><path class=\"point\" transform=\"translate(106.75,25.34)\" d=\"M3,0A3,3 0 1,1 0,-3A3,3 0 0,1 3,0Z\" style=\"opacity: 1; stroke-width: 0px; fill: rgb(99, 110, 250); fill-opacity: 1;\"/><path class=\"point\" transform=\"translate(107.24,25.34)\" d=\"M3,0A3,3 0 1,1 0,-3A3,3 0 0,1 3,0Z\" style=\"opacity: 1; stroke-width: 0px; fill: rgb(99, 110, 250); fill-opacity: 1;\"/><path class=\"point\" transform=\"translate(109.18,25.34)\" d=\"M3,0A3,3 0 1,1 0,-3A3,3 0 0,1 3,0Z\" style=\"opacity: 1; stroke-width: 0px; fill: rgb(99, 110, 250); fill-opacity: 1;\"/><path class=\"point\" transform=\"translate(109.27,25.34)\" d=\"M3,0A3,3 0 1,1 0,-3A3,3 0 0,1 3,0Z\" style=\"opacity: 1; stroke-width: 0px; fill: rgb(99, 110, 250); fill-opacity: 1;\"/><path class=\"point\" transform=\"translate(110.18,25.34)\" d=\"M3,0A3,3 0 1,1 0,-3A3,3 0 0,1 3,0Z\" style=\"opacity: 1; stroke-width: 0px; fill: rgb(99, 110, 250); fill-opacity: 1;\"/><path class=\"point\" transform=\"translate(111.45,25.34)\" d=\"M3,0A3,3 0 1,1 0,-3A3,3 0 0,1 3,0Z\" style=\"opacity: 1; stroke-width: 0px; fill: rgb(99, 110, 250); fill-opacity: 1;\"/><path class=\"point\" transform=\"translate(113.31,25.34)\" d=\"M3,0A3,3 0 1,1 0,-3A3,3 0 0,1 3,0Z\" style=\"opacity: 1; stroke-width: 0px; fill: rgb(99, 110, 250); fill-opacity: 1;\"/><path class=\"point\" transform=\"translate(114.69,25.34)\" d=\"M3,0A3,3 0 1,1 0,-3A3,3 0 0,1 3,0Z\" style=\"opacity: 1; stroke-width: 0px; fill: rgb(99, 110, 250); fill-opacity: 1;\"/><path class=\"point\" transform=\"translate(117.69,25.34)\" d=\"M3,0A3,3 0 1,1 0,-3A3,3 0 0,1 3,0Z\" style=\"opacity: 1; stroke-width: 0px; fill: rgb(99, 110, 250); fill-opacity: 1;\"/><path class=\"point\" transform=\"translate(118.71,25.34)\" d=\"M3,0A3,3 0 1,1 0,-3A3,3 0 0,1 3,0Z\" style=\"opacity: 1; stroke-width: 0px; fill: rgb(99, 110, 250); fill-opacity: 1;\"/><path class=\"point\" transform=\"translate(121.26,25.34)\" d=\"M3,0A3,3 0 1,1 0,-3A3,3 0 0,1 3,0Z\" style=\"opacity: 1; stroke-width: 0px; fill: rgb(99, 110, 250); fill-opacity: 1;\"/><path class=\"point\" transform=\"translate(124.44,25.34)\" d=\"M3,0A3,3 0 1,1 0,-3A3,3 0 0,1 3,0Z\" style=\"opacity: 1; stroke-width: 0px; fill: rgb(99, 110, 250); fill-opacity: 1;\"/><path class=\"point\" transform=\"translate(124.89,25.34)\" d=\"M3,0A3,3 0 1,1 0,-3A3,3 0 0,1 3,0Z\" style=\"opacity: 1; stroke-width: 0px; fill: rgb(99, 110, 250); fill-opacity: 1;\"/><path class=\"point\" transform=\"translate(125.03,25.34)\" d=\"M3,0A3,3 0 1,1 0,-3A3,3 0 0,1 3,0Z\" style=\"opacity: 1; stroke-width: 0px; fill: rgb(99, 110, 250); fill-opacity: 1;\"/><path class=\"point\" transform=\"translate(127.65,25.34)\" d=\"M3,0A3,3 0 1,1 0,-3A3,3 0 0,1 3,0Z\" style=\"opacity: 1; stroke-width: 0px; fill: rgb(99, 110, 250); fill-opacity: 1;\"/><path class=\"point\" transform=\"translate(128.31,25.34)\" d=\"M3,0A3,3 0 1,1 0,-3A3,3 0 0,1 3,0Z\" style=\"opacity: 1; stroke-width: 0px; fill: rgb(99, 110, 250); fill-opacity: 1;\"/><path class=\"point\" transform=\"translate(128.5,25.34)\" d=\"M3,0A3,3 0 1,1 0,-3A3,3 0 0,1 3,0Z\" style=\"opacity: 1; stroke-width: 0px; fill: rgb(99, 110, 250); fill-opacity: 1;\"/><path class=\"point\" transform=\"translate(136.2,25.34)\" d=\"M3,0A3,3 0 1,1 0,-3A3,3 0 0,1 3,0Z\" style=\"opacity: 1; stroke-width: 0px; fill: rgb(99, 110, 250); fill-opacity: 1;\"/><path class=\"point\" transform=\"translate(151.82,25.34)\" d=\"M3,0A3,3 0 1,1 0,-3A3,3 0 0,1 3,0Z\" style=\"opacity: 1; stroke-width: 0px; fill: rgb(99, 110, 250); fill-opacity: 1;\"/><path class=\"point\" transform=\"translate(171.91,25.34)\" d=\"M3,0A3,3 0 1,1 0,-3A3,3 0 0,1 3,0Z\" style=\"opacity: 1; stroke-width: 0px; fill: rgb(99, 110, 250); fill-opacity: 1;\"/><path class=\"point\" transform=\"translate(174.35,25.34)\" d=\"M3,0A3,3 0 1,1 0,-3A3,3 0 0,1 3,0Z\" style=\"opacity: 1; stroke-width: 0px; fill: rgb(99, 110, 250); fill-opacity: 1;\"/><path class=\"point\" transform=\"translate(175.06,25.34)\" d=\"M3,0A3,3 0 1,1 0,-3A3,3 0 0,1 3,0Z\" style=\"opacity: 1; stroke-width: 0px; fill: rgb(99, 110, 250); fill-opacity: 1;\"/><path class=\"point\" transform=\"translate(178.65,25.34)\" d=\"M3,0A3,3 0 1,1 0,-3A3,3 0 0,1 3,0Z\" style=\"opacity: 1; stroke-width: 0px; fill: rgb(99, 110, 250); fill-opacity: 1;\"/><path class=\"point\" transform=\"translate(191.38,25.34)\" d=\"M3,0A3,3 0 1,1 0,-3A3,3 0 0,1 3,0Z\" style=\"opacity: 1; stroke-width: 0px; fill: rgb(99, 110, 250); fill-opacity: 1;\"/><path class=\"point\" transform=\"translate(200.67,25.34)\" d=\"M3,0A3,3 0 1,1 0,-3A3,3 0 0,1 3,0Z\" style=\"opacity: 1; stroke-width: 0px; fill: rgb(99, 110, 250); fill-opacity: 1;\"/><path class=\"point\" transform=\"translate(206.49,25.34)\" d=\"M3,0A3,3 0 1,1 0,-3A3,3 0 0,1 3,0Z\" style=\"opacity: 1; stroke-width: 0px; fill: rgb(99, 110, 250); fill-opacity: 1;\"/><path class=\"point\" transform=\"translate(210.8,25.34)\" d=\"M3,0A3,3 0 1,1 0,-3A3,3 0 0,1 3,0Z\" style=\"opacity: 1; stroke-width: 0px; fill: rgb(99, 110, 250); fill-opacity: 1;\"/><path class=\"point\" transform=\"translate(211.82,25.34)\" d=\"M3,0A3,3 0 1,1 0,-3A3,3 0 0,1 3,0Z\" style=\"opacity: 1; stroke-width: 0px; fill: rgb(99, 110, 250); fill-opacity: 1;\"/><path class=\"point\" transform=\"translate(214.93,25.34)\" d=\"M3,0A3,3 0 1,1 0,-3A3,3 0 0,1 3,0Z\" style=\"opacity: 1; stroke-width: 0px; fill: rgb(99, 110, 250); fill-opacity: 1;\"/><path class=\"point\" transform=\"translate(218.13,25.34)\" d=\"M3,0A3,3 0 1,1 0,-3A3,3 0 0,1 3,0Z\" style=\"opacity: 1; stroke-width: 0px; fill: rgb(99, 110, 250); fill-opacity: 1;\"/><path class=\"point\" transform=\"translate(218.14,25.34)\" d=\"M3,0A3,3 0 1,1 0,-3A3,3 0 0,1 3,0Z\" style=\"opacity: 1; stroke-width: 0px; fill: rgb(99, 110, 250); fill-opacity: 1;\"/><path class=\"point\" transform=\"translate(226.55,25.34)\" d=\"M3,0A3,3 0 1,1 0,-3A3,3 0 0,1 3,0Z\" style=\"opacity: 1; stroke-width: 0px; fill: rgb(99, 110, 250); fill-opacity: 1;\"/><path class=\"point\" transform=\"translate(238.69,25.34)\" d=\"M3,0A3,3 0 1,1 0,-3A3,3 0 0,1 3,0Z\" style=\"opacity: 1; stroke-width: 0px; fill: rgb(99, 110, 250); fill-opacity: 1;\"/><path class=\"point\" transform=\"translate(259.96,25.34)\" d=\"M3,0A3,3 0 1,1 0,-3A3,3 0 0,1 3,0Z\" style=\"opacity: 1; stroke-width: 0px; fill: rgb(99, 110, 250); fill-opacity: 1;\"/><path class=\"point\" transform=\"translate(260.02,25.34)\" d=\"M3,0A3,3 0 1,1 0,-3A3,3 0 0,1 3,0Z\" style=\"opacity: 1; stroke-width: 0px; fill: rgb(99, 110, 250); fill-opacity: 1;\"/><path class=\"point\" transform=\"translate(270.72,25.34)\" d=\"M3,0A3,3 0 1,1 0,-3A3,3 0 0,1 3,0Z\" style=\"opacity: 1; stroke-width: 0px; fill: rgb(99, 110, 250); fill-opacity: 1;\"/><path class=\"point\" transform=\"translate(276.28,25.34)\" d=\"M3,0A3,3 0 1,1 0,-3A3,3 0 0,1 3,0Z\" style=\"opacity: 1; stroke-width: 0px; fill: rgb(99, 110, 250); fill-opacity: 1;\"/><path class=\"point\" transform=\"translate(282.61,25.34)\" d=\"M3,0A3,3 0 1,1 0,-3A3,3 0 0,1 3,0Z\" style=\"opacity: 1; stroke-width: 0px; fill: rgb(99, 110, 250); fill-opacity: 1;\"/><path class=\"point\" transform=\"translate(288.54,25.34)\" d=\"M3,0A3,3 0 1,1 0,-3A3,3 0 0,1 3,0Z\" style=\"opacity: 1; stroke-width: 0px; fill: rgb(99, 110, 250); fill-opacity: 1;\"/><path class=\"point\" transform=\"translate(291.66,25.34)\" d=\"M3,0A3,3 0 1,1 0,-3A3,3 0 0,1 3,0Z\" style=\"opacity: 1; stroke-width: 0px; fill: rgb(99, 110, 250); fill-opacity: 1;\"/><path class=\"point\" transform=\"translate(293.84,25.34)\" d=\"M3,0A3,3 0 1,1 0,-3A3,3 0 0,1 3,0Z\" style=\"opacity: 1; stroke-width: 0px; fill: rgb(99, 110, 250); fill-opacity: 1;\"/><path class=\"point\" transform=\"translate(296.31,25.34)\" d=\"M3,0A3,3 0 1,1 0,-3A3,3 0 0,1 3,0Z\" style=\"opacity: 1; stroke-width: 0px; fill: rgb(99, 110, 250); fill-opacity: 1;\"/><path class=\"point\" transform=\"translate(302.56,25.34)\" d=\"M3,0A3,3 0 1,1 0,-3A3,3 0 0,1 3,0Z\" style=\"opacity: 1; stroke-width: 0px; fill: rgb(99, 110, 250); fill-opacity: 1;\"/><path class=\"point\" transform=\"translate(333.93,25.34)\" d=\"M3,0A3,3 0 1,1 0,-3A3,3 0 0,1 3,0Z\" style=\"opacity: 1; stroke-width: 0px; fill: rgb(99, 110, 250); fill-opacity: 1;\"/><path class=\"point\" transform=\"translate(346.53,25.34)\" d=\"M3,0A3,3 0 1,1 0,-3A3,3 0 0,1 3,0Z\" style=\"opacity: 1; stroke-width: 0px; fill: rgb(99, 110, 250); fill-opacity: 1;\"/><path class=\"point\" transform=\"translate(352.86,25.34)\" d=\"M3,0A3,3 0 1,1 0,-3A3,3 0 0,1 3,0Z\" style=\"opacity: 1; stroke-width: 0px; fill: rgb(99, 110, 250); fill-opacity: 1;\"/><path class=\"point\" transform=\"translate(362.35,25.34)\" d=\"M3,0A3,3 0 1,1 0,-3A3,3 0 0,1 3,0Z\" style=\"opacity: 1; stroke-width: 0px; fill: rgb(99, 110, 250); fill-opacity: 1;\"/><path class=\"point\" transform=\"translate(375.15,25.34)\" d=\"M3,0A3,3 0 1,1 0,-3A3,3 0 0,1 3,0Z\" style=\"opacity: 1; stroke-width: 0px; fill: rgb(99, 110, 250); fill-opacity: 1;\"/><path class=\"point\" transform=\"translate(377.4,25.34)\" d=\"M3,0A3,3 0 1,1 0,-3A3,3 0 0,1 3,0Z\" style=\"opacity: 1; stroke-width: 0px; fill: rgb(99, 110, 250); fill-opacity: 1;\"/><path class=\"point\" transform=\"translate(381.44,25.34)\" d=\"M3,0A3,3 0 1,1 0,-3A3,3 0 0,1 3,0Z\" style=\"opacity: 1; stroke-width: 0px; fill: rgb(99, 110, 250); fill-opacity: 1;\"/><path class=\"point\" transform=\"translate(389.55,25.34)\" d=\"M3,0A3,3 0 1,1 0,-3A3,3 0 0,1 3,0Z\" style=\"opacity: 1; stroke-width: 0px; fill: rgb(99, 110, 250); fill-opacity: 1;\"/><path class=\"point\" transform=\"translate(449.59,25.34)\" d=\"M3,0A3,3 0 1,1 0,-3A3,3 0 0,1 3,0Z\" style=\"opacity: 1; stroke-width: 0px; fill: rgb(99, 110, 250); fill-opacity: 1;\"/><path class=\"point\" transform=\"translate(544.96,25.34)\" d=\"M3,0A3,3 0 1,1 0,-3A3,3 0 0,1 3,0Z\" style=\"opacity: 1; stroke-width: 0px; fill: rgb(99, 110, 250); fill-opacity: 1;\"/><path class=\"point\" transform=\"translate(632.01,25.34)\" d=\"M3,0A3,3 0 1,1 0,-3A3,3 0 0,1 3,0Z\" style=\"opacity: 1; stroke-width: 0px; fill: rgb(99, 110, 250); fill-opacity: 1;\"/><path class=\"point\" transform=\"translate(703,25.34)\" d=\"M3,0A3,3 0 1,1 0,-3A3,3 0 0,1 3,0Z\" style=\"opacity: 1; stroke-width: 0px; fill: rgb(99, 110, 250); fill-opacity: 1;\"/></g></g></g></g><g class=\"overplot\"/><path class=\"xlines-above crisp\" d=\"M0,0\" style=\"fill: none;\"/><path class=\"ylines-above crisp\" d=\"M0,0\" style=\"fill: none;\"/><g class=\"overlines-above\"/><g class=\"xaxislayer-above\"/><g class=\"yaxislayer-above\"/><g class=\"overaxes-above\"/></g></g><g class=\"polarlayer\"/><g class=\"smithlayer\"/><g class=\"ternarylayer\"/><g class=\"geolayer\"/><g class=\"funnelarealayer\"/><g class=\"pielayer\"/><g class=\"iciclelayer\"/><g class=\"treemaplayer\"/><g class=\"sunburstlayer\"/><g class=\"glimages\"/><defs id=\"topdefs-f7fcb8\"><g class=\"clips\"/></defs><g class=\"layer-above\"><g class=\"imagelayer\"/><g class=\"shapelayer\"/></g><g class=\"infolayer\"><g class=\"g-gtitle\"><text class=\"gtitle\" x=\"45\" y=\"50\" text-anchor=\"start\" dy=\"0em\" style=\"font-family: 'Open Sans', verdana, arial, sans-serif; font-size: 17px; fill: rgb(42, 63, 95); opacity: 1; font-weight: normal; white-space: pre;\">Distribution of response time</text></g><g class=\"g-xtitle\"><text class=\"xtitle\" x=\"450\" y=\"460.3\" text-anchor=\"middle\" style=\"font-family: 'Open Sans', verdana, arial, sans-serif; font-size: 14px; fill: rgb(42, 63, 95); opacity: 1; font-weight: normal; white-space: pre;\">response_time</text></g><g class=\"g-x2title\"/><g class=\"g-ytitle\"><text class=\"ytitle\" transform=\"rotate(-90,31.309375000000003,286.944)\" x=\"31.309375000000003\" y=\"286.944\" text-anchor=\"middle\" style=\"font-family: 'Open Sans', verdana, arial, sans-serif; font-size: 14px; fill: rgb(42, 63, 95); opacity: 1; font-weight: normal; white-space: pre;\">count</text></g><g class=\"g-y2title\"/></g></svg>"
     },
     "metadata": {},
     "output_type": "display_data"
    }
   ],
   "source": [
    "fig = px.histogram(result[result['response_time']<1000], x='response_time', log_y=True, marginal='box', title='Distribution of response time')\n",
    "fig.show()"
   ]
  },
  {
   "cell_type": "markdown",
   "metadata": {},
   "source": [
    "## Resolution time"
   ]
  },
  {
   "cell_type": "markdown",
   "metadata": {},
   "source": [
    "Assuming that if the last query in the conversation is from the company then the issue is resolved.  \n",
    "Resolution time is the time difference between the last date of last tweet in the conversation and the date of first query."
   ]
  },
  {
   "cell_type": "code",
   "execution_count": 19,
   "metadata": {},
   "outputs": [],
   "source": [
    "result['resolution_time'] = 0"
   ]
  },
  {
   "cell_type": "code",
   "execution_count": 20,
   "metadata": {},
   "outputs": [],
   "source": [
    "for index, conversation_id in enumerate(conversation_ids):\n",
    "    tmp = df[df['conversation_id'] == conversation_id]\n",
    "    tmp.sort_values('date', ascending=True, inplace=True)\n",
    "    comp_tmp = tmp[tmp['username'] == company_username]\n",
    "    if tmp.iloc[-1]['username'] == company_username:\n",
    "        resolution_time = (tmp.iloc[-1]['date'] - tmp.iloc[0]['date']) / datetime.timedelta(hours=1)\n",
    "        result.at[index, 'resolution_time'] = resolution_time"
   ]
  },
  {
   "cell_type": "code",
   "execution_count": 21,
   "metadata": {},
   "outputs": [
    {
     "name": "stdout",
     "output_type": "stream",
     "text": [
      "Number of queries resolved: 288\n",
      "Number of queries unresolved: 180\n"
     ]
    }
   ],
   "source": [
    "print(f\"Number of queries resolved: {len(result['resolution_time'].to_numpy().nonzero()[0])}\")\n",
    "print(f\"Number of queries unresolved: {result.shape[0] - len(result['resolution_time'].to_numpy().nonzero()[0])}\")"
   ]
  },
  {
   "cell_type": "code",
   "execution_count": 25,
   "metadata": {},
   "outputs": [
    {
     "data": {
      "image/svg+xml": "<svg class=\"main-svg\" xmlns=\"http://www.w3.org/2000/svg\" xmlns:xlink=\"http://www.w3.org/1999/xlink\" width=\"900\" height=\"500\" style=\"\" viewBox=\"0 0 900 500\"><rect x=\"0\" y=\"0\" width=\"900\" height=\"500\" style=\"fill: rgb(255, 255, 255); fill-opacity: 1;\"/><defs id=\"defs-adfc8d\"><g class=\"clips\"><clipPath id=\"clipadfc8dxyplot\" class=\"plotclip\"><rect width=\"740\" height=\"266.112\"/></clipPath><clipPath id=\"clipadfc8dx2y2plot\" class=\"plotclip\"><rect width=\"740\" height=\"50.687999999999995\"/></clipPath><clipPath class=\"axesclip\" id=\"clipadfc8dx\"><rect x=\"80\" y=\"0\" width=\"740\" height=\"500\"/></clipPath><clipPath class=\"axesclip\" id=\"clipadfc8dy\"><rect x=\"0\" y=\"153.888\" width=\"900\" height=\"266.112\"/></clipPath><clipPath class=\"axesclip\" id=\"clipadfc8dxy\"><rect x=\"80\" y=\"153.888\" width=\"740\" height=\"266.112\"/></clipPath><clipPath class=\"axesclip\" id=\"clipadfc8dy2\"><rect x=\"0\" y=\"100\" width=\"900\" height=\"50.687999999999995\"/></clipPath><clipPath class=\"axesclip\" id=\"clipadfc8dxy2\"><rect x=\"80\" y=\"100\" width=\"740\" height=\"50.687999999999995\"/></clipPath><clipPath class=\"axesclip\" id=\"clipadfc8dx2\"><rect x=\"80\" y=\"0\" width=\"740\" height=\"500\"/></clipPath><clipPath class=\"axesclip\" id=\"clipadfc8dx2y\"><rect x=\"80\" y=\"153.888\" width=\"740\" height=\"266.112\"/></clipPath><clipPath class=\"axesclip\" id=\"clipadfc8dx2y2\"><rect x=\"80\" y=\"100\" width=\"740\" height=\"50.687999999999995\"/></clipPath></g><g class=\"gradients\"/><g class=\"patterns\"/></defs><g class=\"bglayer\"><rect class=\"bg\" x=\"80\" y=\"153.888\" width=\"740\" height=\"266.112\" style=\"fill: rgb(229, 236, 246); fill-opacity: 1; stroke-width: 0;\"/><rect class=\"bg\" x=\"80\" y=\"100\" width=\"740\" height=\"50.687999999999995\" style=\"fill: rgb(229, 236, 246); fill-opacity: 1; stroke-width: 0;\"/></g><g class=\"layer-below\"><g class=\"imagelayer\"/><g class=\"shapelayer\"/></g><g class=\"cartesianlayer\"><g class=\"subplot xy\"><g class=\"layer-subplot\"><g class=\"shapelayer\"/><g class=\"imagelayer\"/></g><g class=\"minor-gridlayer\"><g class=\"x\"/><g class=\"y\"/></g><g class=\"gridlayer\"><g class=\"x\"/><g class=\"y\"><path class=\"ygrid crisp\" transform=\"translate(0,406.698)\" d=\"M80,0h740\" style=\"stroke: rgb(255, 255, 255); stroke-opacity: 1; stroke-width: 1px;\"/><path class=\"ygrid crisp\" transform=\"translate(0,378.70799999999997)\" d=\"M80,0h740\" style=\"stroke: rgb(255, 255, 255); stroke-opacity: 1; stroke-width: 1px;\"/><path class=\"ygrid crisp\" transform=\"translate(0,341.718)\" d=\"M80,0h740\" style=\"stroke: rgb(255, 255, 255); stroke-opacity: 1; stroke-width: 1px;\"/><path class=\"ygrid crisp\" transform=\"translate(0,313.728)\" d=\"M80,0h740\" style=\"stroke: rgb(255, 255, 255); stroke-opacity: 1; stroke-width: 1px;\"/><path class=\"ygrid crisp\" transform=\"translate(0,285.74800000000005)\" d=\"M80,0h740\" style=\"stroke: rgb(255, 255, 255); stroke-opacity: 1; stroke-width: 1px;\"/><path class=\"ygrid crisp\" transform=\"translate(0,248.758)\" d=\"M80,0h740\" style=\"stroke: rgb(255, 255, 255); stroke-opacity: 1; stroke-width: 1px;\"/><path class=\"ygrid crisp\" transform=\"translate(0,220.768)\" d=\"M80,0h740\" style=\"stroke: rgb(255, 255, 255); stroke-opacity: 1; stroke-width: 1px;\"/><path class=\"ygrid crisp\" transform=\"translate(0,192.788)\" d=\"M80,0h740\" style=\"stroke: rgb(255, 255, 255); stroke-opacity: 1; stroke-width: 1px;\"/><path class=\"ygrid crisp\" transform=\"translate(0,155.798)\" d=\"M80,0h740\" style=\"stroke: rgb(255, 255, 255); stroke-opacity: 1; stroke-width: 1px;\"/></g></g><g class=\"zerolinelayer\"/><path class=\"xlines-below\"/><path class=\"ylines-below\"/><g class=\"overlines-below\"/><g class=\"xaxislayer-below\"/><g class=\"yaxislayer-below\"/><g class=\"overaxes-below\"/><g class=\"plot\" transform=\"translate(80,153.888)\" clip-path=\"url(#clipadfc8dxyplot)\"><g class=\"barlayer mlayer\"><g class=\"trace bars\" shape-rendering=\"crispEdges\" style=\"opacity: 1;\"><g class=\"points\"><g class=\"point\"><path d=\"M29.51,2794.18V13.31H44.79V2794.18Z\" style=\"vector-effect: non-scaling-stroke; opacity: 1; stroke-width: 0px; fill: rgb(99, 110, 250); fill-opacity: 1;\"/></g><g class=\"point\"><path d=\"M44.79,2794.18V99.12H60.08V2794.18Z\" style=\"vector-effect: non-scaling-stroke; opacity: 1; stroke-width: 0px; fill: rgb(99, 110, 250); fill-opacity: 1;\"/></g><g class=\"point\"><path d=\"M60.08,2794.18V149.25H75.36V2794.18Z\" style=\"vector-effect: non-scaling-stroke; opacity: 1; stroke-width: 0px; fill: rgb(99, 110, 250); fill-opacity: 1;\"/></g><g class=\"point\"><path d=\"M75.36,2794.18V164.1H90.65V2794.18Z\" style=\"vector-effect: non-scaling-stroke; opacity: 1; stroke-width: 0px; fill: rgb(99, 110, 250); fill-opacity: 1;\"/></g><g class=\"point\"><path d=\"M90.65,2794.18V196.84H105.93V2794.18Z\" style=\"vector-effect: non-scaling-stroke; opacity: 1; stroke-width: 0px; fill: rgb(99, 110, 250); fill-opacity: 1;\"/></g><g class=\"point\"><path d=\"M105.93,2794.18V180.47H121.22V2794.18Z\" style=\"vector-effect: non-scaling-stroke; opacity: 1; stroke-width: 0px; fill: rgb(99, 110, 250); fill-opacity: 1;\"/></g><g class=\"point\"><path d=\"M121.22,2794.18V224.82H136.5V2794.18Z\" style=\"vector-effect: non-scaling-stroke; opacity: 1; stroke-width: 0px; fill: rgb(99, 110, 250); fill-opacity: 1;\"/></g><g class=\"point\"><path d=\"M136.5,2794.18V252.81H151.79V2794.18Z\" style=\"vector-effect: non-scaling-stroke; opacity: 1; stroke-width: 0px; fill: rgb(99, 110, 250); fill-opacity: 1;\"/></g><g class=\"point\"><path d=\"M151.79,2794.18V208.45H167.07V2794.18Z\" style=\"vector-effect: non-scaling-stroke; opacity: 1; stroke-width: 0px; fill: rgb(99, 110, 250); fill-opacity: 1;\"/></g><g class=\"point\"><path d=\"M0,0Z\" style=\"vector-effect: non-scaling-stroke; opacity: 1; stroke-width: 0px; fill: rgb(99, 110, 250); fill-opacity: 1;\"/></g><g class=\"point\"><path d=\"M182.36,2794.18V252.81H197.64V2794.18Z\" style=\"vector-effect: non-scaling-stroke; opacity: 1; stroke-width: 0px; fill: rgb(99, 110, 250); fill-opacity: 1;\"/></g><g class=\"point\"><path d=\"M0,0Z\" style=\"vector-effect: non-scaling-stroke; opacity: 1; stroke-width: 0px; fill: rgb(99, 110, 250); fill-opacity: 1;\"/></g><g class=\"point\"><path d=\"M0,0Z\" style=\"vector-effect: non-scaling-stroke; opacity: 1; stroke-width: 0px; fill: rgb(99, 110, 250); fill-opacity: 1;\"/></g><g class=\"point\"><path d=\"M0,0Z\" style=\"vector-effect: non-scaling-stroke; opacity: 1; stroke-width: 0px; fill: rgb(99, 110, 250); fill-opacity: 1;\"/></g><g class=\"point\"><path d=\"M0,0Z\" style=\"vector-effect: non-scaling-stroke; opacity: 1; stroke-width: 0px; fill: rgb(99, 110, 250); fill-opacity: 1;\"/></g><g class=\"point\"><path d=\"M258.78,2794.18V252.81H274.06V2794.18Z\" style=\"vector-effect: non-scaling-stroke; opacity: 1; stroke-width: 0px; fill: rgb(99, 110, 250); fill-opacity: 1;\"/></g><g class=\"point\"><path d=\"M0,0Z\" style=\"vector-effect: non-scaling-stroke; opacity: 1; stroke-width: 0px; fill: rgb(99, 110, 250); fill-opacity: 1;\"/></g><g class=\"point\"><path d=\"M289.35,2794.18V252.81H304.63V2794.18Z\" style=\"vector-effect: non-scaling-stroke; opacity: 1; stroke-width: 0px; fill: rgb(99, 110, 250); fill-opacity: 1;\"/></g><g class=\"point\"><path d=\"M0,0Z\" style=\"vector-effect: non-scaling-stroke; opacity: 1; stroke-width: 0px; fill: rgb(99, 110, 250); fill-opacity: 1;\"/></g><g class=\"point\"><path d=\"M0,0Z\" style=\"vector-effect: non-scaling-stroke; opacity: 1; stroke-width: 0px; fill: rgb(99, 110, 250); fill-opacity: 1;\"/></g><g class=\"point\"><path d=\"M335.2,2794.18V252.81H350.49V2794.18Z\" style=\"vector-effect: non-scaling-stroke; opacity: 1; stroke-width: 0px; fill: rgb(99, 110, 250); fill-opacity: 1;\"/></g><g class=\"point\"><path d=\"M0,0Z\" style=\"vector-effect: non-scaling-stroke; opacity: 1; stroke-width: 0px; fill: rgb(99, 110, 250); fill-opacity: 1;\"/></g><g class=\"point\"><path d=\"M0,0Z\" style=\"vector-effect: non-scaling-stroke; opacity: 1; stroke-width: 0px; fill: rgb(99, 110, 250); fill-opacity: 1;\"/></g><g class=\"point\"><path d=\"M0,0Z\" style=\"vector-effect: non-scaling-stroke; opacity: 1; stroke-width: 0px; fill: rgb(99, 110, 250); fill-opacity: 1;\"/></g><g class=\"point\"><path d=\"M0,0Z\" style=\"vector-effect: non-scaling-stroke; opacity: 1; stroke-width: 0px; fill: rgb(99, 110, 250); fill-opacity: 1;\"/></g><g class=\"point\"><path d=\"M0,0Z\" style=\"vector-effect: non-scaling-stroke; opacity: 1; stroke-width: 0px; fill: rgb(99, 110, 250); fill-opacity: 1;\"/></g><g class=\"point\"><path d=\"M426.91,2794.18V252.81H442.19V2794.18Z\" style=\"vector-effect: non-scaling-stroke; opacity: 1; stroke-width: 0px; fill: rgb(99, 110, 250); fill-opacity: 1;\"/></g><g class=\"point\"><path d=\"M0,0Z\" style=\"vector-effect: non-scaling-stroke; opacity: 1; stroke-width: 0px; fill: rgb(99, 110, 250); fill-opacity: 1;\"/></g><g class=\"point\"><path d=\"M457.48,2794.18V252.81H472.76V2794.18Z\" style=\"vector-effect: non-scaling-stroke; opacity: 1; stroke-width: 0px; fill: rgb(99, 110, 250); fill-opacity: 1;\"/></g><g class=\"point\"><path d=\"M0,0Z\" style=\"vector-effect: non-scaling-stroke; opacity: 1; stroke-width: 0px; fill: rgb(99, 110, 250); fill-opacity: 1;\"/></g><g class=\"point\"><path d=\"M0,0Z\" style=\"vector-effect: non-scaling-stroke; opacity: 1; stroke-width: 0px; fill: rgb(99, 110, 250); fill-opacity: 1;\"/></g><g class=\"point\"><path d=\"M0,0Z\" style=\"vector-effect: non-scaling-stroke; opacity: 1; stroke-width: 0px; fill: rgb(99, 110, 250); fill-opacity: 1;\"/></g><g class=\"point\"><path d=\"M0,0Z\" style=\"vector-effect: non-scaling-stroke; opacity: 1; stroke-width: 0px; fill: rgb(99, 110, 250); fill-opacity: 1;\"/></g><g class=\"point\"><path d=\"M0,0Z\" style=\"vector-effect: non-scaling-stroke; opacity: 1; stroke-width: 0px; fill: rgb(99, 110, 250); fill-opacity: 1;\"/></g><g class=\"point\"><path d=\"M0,0Z\" style=\"vector-effect: non-scaling-stroke; opacity: 1; stroke-width: 0px; fill: rgb(99, 110, 250); fill-opacity: 1;\"/></g><g class=\"point\"><path d=\"M0,0Z\" style=\"vector-effect: non-scaling-stroke; opacity: 1; stroke-width: 0px; fill: rgb(99, 110, 250); fill-opacity: 1;\"/></g><g class=\"point\"><path d=\"M0,0Z\" style=\"vector-effect: non-scaling-stroke; opacity: 1; stroke-width: 0px; fill: rgb(99, 110, 250); fill-opacity: 1;\"/></g><g class=\"point\"><path d=\"M0,0Z\" style=\"vector-effect: non-scaling-stroke; opacity: 1; stroke-width: 0px; fill: rgb(99, 110, 250); fill-opacity: 1;\"/></g><g class=\"point\"><path d=\"M0,0Z\" style=\"vector-effect: non-scaling-stroke; opacity: 1; stroke-width: 0px; fill: rgb(99, 110, 250); fill-opacity: 1;\"/></g><g class=\"point\"><path d=\"M0,0Z\" style=\"vector-effect: non-scaling-stroke; opacity: 1; stroke-width: 0px; fill: rgb(99, 110, 250); fill-opacity: 1;\"/></g><g class=\"point\"><path d=\"M0,0Z\" style=\"vector-effect: non-scaling-stroke; opacity: 1; stroke-width: 0px; fill: rgb(99, 110, 250); fill-opacity: 1;\"/></g><g class=\"point\"><path d=\"M0,0Z\" style=\"vector-effect: non-scaling-stroke; opacity: 1; stroke-width: 0px; fill: rgb(99, 110, 250); fill-opacity: 1;\"/></g><g class=\"point\"><path d=\"M0,0Z\" style=\"vector-effect: non-scaling-stroke; opacity: 1; stroke-width: 0px; fill: rgb(99, 110, 250); fill-opacity: 1;\"/></g><g class=\"point\"><path d=\"M0,0Z\" style=\"vector-effect: non-scaling-stroke; opacity: 1; stroke-width: 0px; fill: rgb(99, 110, 250); fill-opacity: 1;\"/></g><g class=\"point\"><path d=\"M702.03,2794.18V252.81H717.32V2794.18Z\" style=\"vector-effect: non-scaling-stroke; opacity: 1; stroke-width: 0px; fill: rgb(99, 110, 250); fill-opacity: 1;\"/></g></g></g></g></g><g class=\"overplot\"/><path class=\"xlines-above crisp\" d=\"M0,0\" style=\"fill: none;\"/><path class=\"ylines-above crisp\" d=\"M0,0\" style=\"fill: none;\"/><g class=\"overlines-above\"/><g class=\"xaxislayer-above\"><g class=\"xtick\"><text text-anchor=\"middle\" x=\"0\" y=\"433\" transform=\"translate(117.15,0)\" style=\"font-family: 'Open Sans', verdana, arial, sans-serif; font-size: 12px; fill: rgb(42, 63, 95); fill-opacity: 1; white-space: pre; opacity: 1;\">0</text></g><g class=\"xtick\"><text text-anchor=\"middle\" x=\"0\" y=\"433\" style=\"font-family: 'Open Sans', verdana, arial, sans-serif; font-size: 12px; fill: rgb(42, 63, 95); fill-opacity: 1; white-space: pre; opacity: 1;\" transform=\"translate(270,0)\">500</text></g><g class=\"xtick\"><text text-anchor=\"middle\" x=\"0\" y=\"433\" style=\"font-family: 'Open Sans', verdana, arial, sans-serif; font-size: 12px; fill: rgb(42, 63, 95); fill-opacity: 1; white-space: pre; opacity: 1;\" transform=\"translate(422.84,0)\">1000</text></g><g class=\"xtick\"><text text-anchor=\"middle\" x=\"0\" y=\"433\" style=\"font-family: 'Open Sans', verdana, arial, sans-serif; font-size: 12px; fill: rgb(42, 63, 95); fill-opacity: 1; white-space: pre; opacity: 1;\" transform=\"translate(575.69,0)\">1500</text></g><g class=\"xtick\"><text text-anchor=\"middle\" x=\"0\" y=\"433\" style=\"font-family: 'Open Sans', verdana, arial, sans-serif; font-size: 12px; fill: rgb(42, 63, 95); fill-opacity: 1; white-space: pre; opacity: 1;\" transform=\"translate(728.54,0)\">2000</text></g></g><g class=\"yaxislayer-above\"><g class=\"ytick\"><text text-anchor=\"end\" x=\"79\" y=\"4.199999999999999\" transform=\"translate(0,406.698)\" style=\"font-family: 'Open Sans', verdana, arial, sans-serif; font-size: 12px; fill: rgb(42, 63, 95); fill-opacity: 1; white-space: pre; opacity: 1;\">1</text></g><g class=\"ytick\"><text text-anchor=\"end\" x=\"79\" y=\"3.15\" style=\"font-family: 'Open Sans', verdana, arial, sans-serif; font-size: 9px; fill: rgb(42, 63, 95); fill-opacity: 1; white-space: pre; opacity: 1;\" transform=\"translate(0,378.70799999999997)\">2</text></g><g class=\"ytick\"><text text-anchor=\"end\" x=\"79\" y=\"3.15\" style=\"font-family: 'Open Sans', verdana, arial, sans-serif; font-size: 9px; fill: rgb(42, 63, 95); fill-opacity: 1; white-space: pre; opacity: 1;\" transform=\"translate(0,341.718)\">5</text></g><g class=\"ytick\"><text text-anchor=\"end\" x=\"79\" y=\"4.199999999999999\" style=\"font-family: 'Open Sans', verdana, arial, sans-serif; font-size: 12px; fill: rgb(42, 63, 95); fill-opacity: 1; white-space: pre; opacity: 1;\" transform=\"translate(0,313.728)\">10</text></g><g class=\"ytick\"><text text-anchor=\"end\" x=\"79\" y=\"3.15\" style=\"font-family: 'Open Sans', verdana, arial, sans-serif; font-size: 9px; fill: rgb(42, 63, 95); fill-opacity: 1; white-space: pre; opacity: 1;\" transform=\"translate(0,285.74800000000005)\">2</text></g><g class=\"ytick\"><text text-anchor=\"end\" x=\"79\" y=\"3.15\" style=\"font-family: 'Open Sans', verdana, arial, sans-serif; font-size: 9px; fill: rgb(42, 63, 95); fill-opacity: 1; white-space: pre; opacity: 1;\" transform=\"translate(0,248.758)\">5</text></g><g class=\"ytick\"><text text-anchor=\"end\" x=\"79\" y=\"4.199999999999999\" style=\"font-family: 'Open Sans', verdana, arial, sans-serif; font-size: 12px; fill: rgb(42, 63, 95); fill-opacity: 1; white-space: pre; opacity: 1;\" transform=\"translate(0,220.768)\">100</text></g><g class=\"ytick\"><text text-anchor=\"end\" x=\"79\" y=\"3.15\" style=\"font-family: 'Open Sans', verdana, arial, sans-serif; font-size: 9px; fill: rgb(42, 63, 95); fill-opacity: 1; white-space: pre; opacity: 1;\" transform=\"translate(0,192.788)\">2</text></g><g class=\"ytick\"><text text-anchor=\"end\" x=\"79\" y=\"3.15\" style=\"font-family: 'Open Sans', verdana, arial, sans-serif; font-size: 9px; fill: rgb(42, 63, 95); fill-opacity: 1; white-space: pre; opacity: 1;\" transform=\"translate(0,155.798)\">5</text></g></g><g class=\"overaxes-above\"/></g><g class=\"subplot x2y2\"><g class=\"layer-subplot\"><g class=\"shapelayer\"/><g class=\"imagelayer\"/></g><g class=\"minor-gridlayer\"><g class=\"x2\"/><g class=\"y2\"/></g><g class=\"gridlayer\"><g class=\"x2\"><path class=\"x2grid crisp\" transform=\"translate(270,0)\" d=\"M0,100v50.687999999999995\" style=\"stroke: rgb(255, 255, 255); stroke-opacity: 1; stroke-width: 1px;\"/><path class=\"x2grid crisp\" transform=\"translate(422.84,0)\" d=\"M0,100v50.687999999999995\" style=\"stroke: rgb(255, 255, 255); stroke-opacity: 1; stroke-width: 1px;\"/><path class=\"x2grid crisp\" transform=\"translate(575.69,0)\" d=\"M0,100v50.687999999999995\" style=\"stroke: rgb(255, 255, 255); stroke-opacity: 1; stroke-width: 1px;\"/><path class=\"x2grid crisp\" transform=\"translate(728.54,0)\" d=\"M0,100v50.687999999999995\" style=\"stroke: rgb(255, 255, 255); stroke-opacity: 1; stroke-width: 1px;\"/></g><g class=\"y2\"/></g><g class=\"zerolinelayer\"><path class=\"x2zl zl crisp\" transform=\"translate(117.15,0)\" d=\"M0,100v50.687999999999995\" style=\"stroke: rgb(255, 255, 255); stroke-opacity: 1; stroke-width: 2px;\"/></g><path class=\"xlines-below\"/><path class=\"ylines-below\"/><g class=\"overlines-below\"/><g class=\"xaxislayer-below\"/><g class=\"yaxislayer-below\"/><g class=\"overaxes-below\"/><g class=\"plot\" transform=\"translate(80,100)\" clip-path=\"url(#clipadfc8dx2y2plot)\"><g class=\"boxlayer mlayer\"><g class=\"trace boxes\" style=\"opacity: 1;\"><path class=\"box\" d=\"M38.15,31.55V19.13M37.15,37.76V12.93H37L38.15,19.13L37.75,12.93H42.3V37.76H37.75L38.15,31.55L37,37.76ZM37.15,25.34H37.15M42.3,25.34H50.02M37.15,31.55V19.13M50.02,31.55V19.13\" style=\"vector-effect: non-scaling-stroke; stroke-width: 2px; stroke: rgb(99, 110, 250); stroke-opacity: 1; fill: rgb(99, 110, 250); fill-opacity: 0.5;\"/><g class=\"points\"><path class=\"point\" transform=\"translate(50.61,25.34)\" d=\"M3,0A3,3 0 1,1 0,-3A3,3 0 0,1 3,0Z\" style=\"opacity: 1; stroke-width: 0px; fill: rgb(99, 110, 250); fill-opacity: 1;\"/><path class=\"point\" transform=\"translate(50.69,25.34)\" d=\"M3,0A3,3 0 1,1 0,-3A3,3 0 0,1 3,0Z\" style=\"opacity: 1; stroke-width: 0px; fill: rgb(99, 110, 250); fill-opacity: 1;\"/><path class=\"point\" transform=\"translate(50.81,25.34)\" d=\"M3,0A3,3 0 1,1 0,-3A3,3 0 0,1 3,0Z\" style=\"opacity: 1; stroke-width: 0px; fill: rgb(99, 110, 250); fill-opacity: 1;\"/><path class=\"point\" transform=\"translate(51.11,25.34)\" d=\"M3,0A3,3 0 1,1 0,-3A3,3 0 0,1 3,0Z\" style=\"opacity: 1; stroke-width: 0px; fill: rgb(99, 110, 250); fill-opacity: 1;\"/><path class=\"point\" transform=\"translate(51.74,25.34)\" d=\"M3,0A3,3 0 1,1 0,-3A3,3 0 0,1 3,0Z\" style=\"opacity: 1; stroke-width: 0px; fill: rgb(99, 110, 250); fill-opacity: 1;\"/><path class=\"point\" transform=\"translate(51.93,25.34)\" d=\"M3,0A3,3 0 1,1 0,-3A3,3 0 0,1 3,0Z\" style=\"opacity: 1; stroke-width: 0px; fill: rgb(99, 110, 250); fill-opacity: 1;\"/><path class=\"point\" transform=\"translate(52.06,25.34)\" d=\"M3,0A3,3 0 1,1 0,-3A3,3 0 0,1 3,0Z\" style=\"opacity: 1; stroke-width: 0px; fill: rgb(99, 110, 250); fill-opacity: 1;\"/><path class=\"point\" transform=\"translate(52.74,25.34)\" d=\"M3,0A3,3 0 1,1 0,-3A3,3 0 0,1 3,0Z\" style=\"opacity: 1; stroke-width: 0px; fill: rgb(99, 110, 250); fill-opacity: 1;\"/><path class=\"point\" transform=\"translate(52.95,25.34)\" d=\"M3,0A3,3 0 1,1 0,-3A3,3 0 0,1 3,0Z\" style=\"opacity: 1; stroke-width: 0px; fill: rgb(99, 110, 250); fill-opacity: 1;\"/><path class=\"point\" transform=\"translate(52.95,25.34)\" d=\"M3,0A3,3 0 1,1 0,-3A3,3 0 0,1 3,0Z\" style=\"opacity: 1; stroke-width: 0px; fill: rgb(99, 110, 250); fill-opacity: 1;\"/><path class=\"point\" transform=\"translate(54.01,25.34)\" d=\"M3,0A3,3 0 1,1 0,-3A3,3 0 0,1 3,0Z\" style=\"opacity: 1; stroke-width: 0px; fill: rgb(99, 110, 250); fill-opacity: 1;\"/><path class=\"point\" transform=\"translate(54.74,25.34)\" d=\"M3,0A3,3 0 1,1 0,-3A3,3 0 0,1 3,0Z\" style=\"opacity: 1; stroke-width: 0px; fill: rgb(99, 110, 250); fill-opacity: 1;\"/><path class=\"point\" transform=\"translate(54.83,25.34)\" d=\"M3,0A3,3 0 1,1 0,-3A3,3 0 0,1 3,0Z\" style=\"opacity: 1; stroke-width: 0px; fill: rgb(99, 110, 250); fill-opacity: 1;\"/><path class=\"point\" transform=\"translate(57.49,25.34)\" d=\"M3,0A3,3 0 1,1 0,-3A3,3 0 0,1 3,0Z\" style=\"opacity: 1; stroke-width: 0px; fill: rgb(99, 110, 250); fill-opacity: 1;\"/><path class=\"point\" transform=\"translate(57.53,25.34)\" d=\"M3,0A3,3 0 1,1 0,-3A3,3 0 0,1 3,0Z\" style=\"opacity: 1; stroke-width: 0px; fill: rgb(99, 110, 250); fill-opacity: 1;\"/><path class=\"point\" transform=\"translate(57.72,25.34)\" d=\"M3,0A3,3 0 1,1 0,-3A3,3 0 0,1 3,0Z\" style=\"opacity: 1; stroke-width: 0px; fill: rgb(99, 110, 250); fill-opacity: 1;\"/><path class=\"point\" transform=\"translate(58.02,25.34)\" d=\"M3,0A3,3 0 1,1 0,-3A3,3 0 0,1 3,0Z\" style=\"opacity: 1; stroke-width: 0px; fill: rgb(99, 110, 250); fill-opacity: 1;\"/><path class=\"point\" transform=\"translate(58.3,25.34)\" d=\"M3,0A3,3 0 1,1 0,-3A3,3 0 0,1 3,0Z\" style=\"opacity: 1; stroke-width: 0px; fill: rgb(99, 110, 250); fill-opacity: 1;\"/><path class=\"point\" transform=\"translate(58.32,25.34)\" d=\"M3,0A3,3 0 1,1 0,-3A3,3 0 0,1 3,0Z\" style=\"opacity: 1; stroke-width: 0px; fill: rgb(99, 110, 250); fill-opacity: 1;\"/><path class=\"point\" transform=\"translate(58.57,25.34)\" d=\"M3,0A3,3 0 1,1 0,-3A3,3 0 0,1 3,0Z\" style=\"opacity: 1; stroke-width: 0px; fill: rgb(99, 110, 250); fill-opacity: 1;\"/><path class=\"point\" transform=\"translate(59.04,25.34)\" d=\"M3,0A3,3 0 1,1 0,-3A3,3 0 0,1 3,0Z\" style=\"opacity: 1; stroke-width: 0px; fill: rgb(99, 110, 250); fill-opacity: 1;\"/><path class=\"point\" transform=\"translate(59.05,25.34)\" d=\"M3,0A3,3 0 1,1 0,-3A3,3 0 0,1 3,0Z\" style=\"opacity: 1; stroke-width: 0px; fill: rgb(99, 110, 250); fill-opacity: 1;\"/><path class=\"point\" transform=\"translate(59.09,25.34)\" d=\"M3,0A3,3 0 1,1 0,-3A3,3 0 0,1 3,0Z\" style=\"opacity: 1; stroke-width: 0px; fill: rgb(99, 110, 250); fill-opacity: 1;\"/><path class=\"point\" transform=\"translate(59.36,25.34)\" d=\"M3,0A3,3 0 1,1 0,-3A3,3 0 0,1 3,0Z\" style=\"opacity: 1; stroke-width: 0px; fill: rgb(99, 110, 250); fill-opacity: 1;\"/><path class=\"point\" transform=\"translate(59.55,25.34)\" d=\"M3,0A3,3 0 1,1 0,-3A3,3 0 0,1 3,0Z\" style=\"opacity: 1; stroke-width: 0px; fill: rgb(99, 110, 250); fill-opacity: 1;\"/><path class=\"point\" transform=\"translate(59.77,25.34)\" d=\"M3,0A3,3 0 1,1 0,-3A3,3 0 0,1 3,0Z\" style=\"opacity: 1; stroke-width: 0px; fill: rgb(99, 110, 250); fill-opacity: 1;\"/><path class=\"point\" transform=\"translate(60.31,25.34)\" d=\"M3,0A3,3 0 1,1 0,-3A3,3 0 0,1 3,0Z\" style=\"opacity: 1; stroke-width: 0px; fill: rgb(99, 110, 250); fill-opacity: 1;\"/><path class=\"point\" transform=\"translate(63.05,25.34)\" d=\"M3,0A3,3 0 1,1 0,-3A3,3 0 0,1 3,0Z\" style=\"opacity: 1; stroke-width: 0px; fill: rgb(99, 110, 250); fill-opacity: 1;\"/><path class=\"point\" transform=\"translate(64.15,25.34)\" d=\"M3,0A3,3 0 1,1 0,-3A3,3 0 0,1 3,0Z\" style=\"opacity: 1; stroke-width: 0px; fill: rgb(99, 110, 250); fill-opacity: 1;\"/><path class=\"point\" transform=\"translate(64.7,25.34)\" d=\"M3,0A3,3 0 1,1 0,-3A3,3 0 0,1 3,0Z\" style=\"opacity: 1; stroke-width: 0px; fill: rgb(99, 110, 250); fill-opacity: 1;\"/><path class=\"point\" transform=\"translate(65.53,25.34)\" d=\"M3,0A3,3 0 1,1 0,-3A3,3 0 0,1 3,0Z\" style=\"opacity: 1; stroke-width: 0px; fill: rgb(99, 110, 250); fill-opacity: 1;\"/><path class=\"point\" transform=\"translate(65.68,25.34)\" d=\"M3,0A3,3 0 1,1 0,-3A3,3 0 0,1 3,0Z\" style=\"opacity: 1; stroke-width: 0px; fill: rgb(99, 110, 250); fill-opacity: 1;\"/><path class=\"point\" transform=\"translate(66.83,25.34)\" d=\"M3,0A3,3 0 1,1 0,-3A3,3 0 0,1 3,0Z\" style=\"opacity: 1; stroke-width: 0px; fill: rgb(99, 110, 250); fill-opacity: 1;\"/><path class=\"point\" transform=\"translate(66.94,25.34)\" d=\"M3,0A3,3 0 1,1 0,-3A3,3 0 0,1 3,0Z\" style=\"opacity: 1; stroke-width: 0px; fill: rgb(99, 110, 250); fill-opacity: 1;\"/><path class=\"point\" transform=\"translate(66.96,25.34)\" d=\"M3,0A3,3 0 1,1 0,-3A3,3 0 0,1 3,0Z\" style=\"opacity: 1; stroke-width: 0px; fill: rgb(99, 110, 250); fill-opacity: 1;\"/><path class=\"point\" transform=\"translate(67.14,25.34)\" d=\"M3,0A3,3 0 1,1 0,-3A3,3 0 0,1 3,0Z\" style=\"opacity: 1; stroke-width: 0px; fill: rgb(99, 110, 250); fill-opacity: 1;\"/><path class=\"point\" transform=\"translate(67.19,25.34)\" d=\"M3,0A3,3 0 1,1 0,-3A3,3 0 0,1 3,0Z\" style=\"opacity: 1; stroke-width: 0px; fill: rgb(99, 110, 250); fill-opacity: 1;\"/><path class=\"point\" transform=\"translate(67.9,25.34)\" d=\"M3,0A3,3 0 1,1 0,-3A3,3 0 0,1 3,0Z\" style=\"opacity: 1; stroke-width: 0px; fill: rgb(99, 110, 250); fill-opacity: 1;\"/><path class=\"point\" transform=\"translate(74.52,25.34)\" d=\"M3,0A3,3 0 1,1 0,-3A3,3 0 0,1 3,0Z\" style=\"opacity: 1; stroke-width: 0px; fill: rgb(99, 110, 250); fill-opacity: 1;\"/><path class=\"point\" transform=\"translate(75.45,25.34)\" d=\"M3,0A3,3 0 1,1 0,-3A3,3 0 0,1 3,0Z\" style=\"opacity: 1; stroke-width: 0px; fill: rgb(99, 110, 250); fill-opacity: 1;\"/><path class=\"point\" transform=\"translate(76.33,25.34)\" d=\"M3,0A3,3 0 1,1 0,-3A3,3 0 0,1 3,0Z\" style=\"opacity: 1; stroke-width: 0px; fill: rgb(99, 110, 250); fill-opacity: 1;\"/><path class=\"point\" transform=\"translate(76.73,25.34)\" d=\"M3,0A3,3 0 1,1 0,-3A3,3 0 0,1 3,0Z\" style=\"opacity: 1; stroke-width: 0px; fill: rgb(99, 110, 250); fill-opacity: 1;\"/><path class=\"point\" transform=\"translate(80.85,25.34)\" d=\"M3,0A3,3 0 1,1 0,-3A3,3 0 0,1 3,0Z\" style=\"opacity: 1; stroke-width: 0px; fill: rgb(99, 110, 250); fill-opacity: 1;\"/><path class=\"point\" transform=\"translate(81.11,25.34)\" d=\"M3,0A3,3 0 1,1 0,-3A3,3 0 0,1 3,0Z\" style=\"opacity: 1; stroke-width: 0px; fill: rgb(99, 110, 250); fill-opacity: 1;\"/><path class=\"point\" transform=\"translate(81.45,25.34)\" d=\"M3,0A3,3 0 1,1 0,-3A3,3 0 0,1 3,0Z\" style=\"opacity: 1; stroke-width: 0px; fill: rgb(99, 110, 250); fill-opacity: 1;\"/><path class=\"point\" transform=\"translate(83.87,25.34)\" d=\"M3,0A3,3 0 1,1 0,-3A3,3 0 0,1 3,0Z\" style=\"opacity: 1; stroke-width: 0px; fill: rgb(99, 110, 250); fill-opacity: 1;\"/><path class=\"point\" transform=\"translate(84.7,25.34)\" d=\"M3,0A3,3 0 1,1 0,-3A3,3 0 0,1 3,0Z\" style=\"opacity: 1; stroke-width: 0px; fill: rgb(99, 110, 250); fill-opacity: 1;\"/><path class=\"point\" transform=\"translate(89.04,25.34)\" d=\"M3,0A3,3 0 1,1 0,-3A3,3 0 0,1 3,0Z\" style=\"opacity: 1; stroke-width: 0px; fill: rgb(99, 110, 250); fill-opacity: 1;\"/><path class=\"point\" transform=\"translate(95.23,25.34)\" d=\"M3,0A3,3 0 1,1 0,-3A3,3 0 0,1 3,0Z\" style=\"opacity: 1; stroke-width: 0px; fill: rgb(99, 110, 250); fill-opacity: 1;\"/><path class=\"point\" transform=\"translate(102.64,25.34)\" d=\"M3,0A3,3 0 1,1 0,-3A3,3 0 0,1 3,0Z\" style=\"opacity: 1; stroke-width: 0px; fill: rgb(99, 110, 250); fill-opacity: 1;\"/><path class=\"point\" transform=\"translate(103.63,25.34)\" d=\"M3,0A3,3 0 1,1 0,-3A3,3 0 0,1 3,0Z\" style=\"opacity: 1; stroke-width: 0px; fill: rgb(99, 110, 250); fill-opacity: 1;\"/><path class=\"point\" transform=\"translate(103.68,25.34)\" d=\"M3,0A3,3 0 1,1 0,-3A3,3 0 0,1 3,0Z\" style=\"opacity: 1; stroke-width: 0px; fill: rgb(99, 110, 250); fill-opacity: 1;\"/><path class=\"point\" transform=\"translate(108.49,25.34)\" d=\"M3,0A3,3 0 1,1 0,-3A3,3 0 0,1 3,0Z\" style=\"opacity: 1; stroke-width: 0px; fill: rgb(99, 110, 250); fill-opacity: 1;\"/><path class=\"point\" transform=\"translate(109.87,25.34)\" d=\"M3,0A3,3 0 1,1 0,-3A3,3 0 0,1 3,0Z\" style=\"opacity: 1; stroke-width: 0px; fill: rgb(99, 110, 250); fill-opacity: 1;\"/><path class=\"point\" transform=\"translate(111.53,25.34)\" d=\"M3,0A3,3 0 1,1 0,-3A3,3 0 0,1 3,0Z\" style=\"opacity: 1; stroke-width: 0px; fill: rgb(99, 110, 250); fill-opacity: 1;\"/><path class=\"point\" transform=\"translate(115.92,25.34)\" d=\"M3,0A3,3 0 1,1 0,-3A3,3 0 0,1 3,0Z\" style=\"opacity: 1; stroke-width: 0px; fill: rgb(99, 110, 250); fill-opacity: 1;\"/><path class=\"point\" transform=\"translate(117.97,25.34)\" d=\"M3,0A3,3 0 1,1 0,-3A3,3 0 0,1 3,0Z\" style=\"opacity: 1; stroke-width: 0px; fill: rgb(99, 110, 250); fill-opacity: 1;\"/><path class=\"point\" transform=\"translate(121.13,25.34)\" d=\"M3,0A3,3 0 1,1 0,-3A3,3 0 0,1 3,0Z\" style=\"opacity: 1; stroke-width: 0px; fill: rgb(99, 110, 250); fill-opacity: 1;\"/><path class=\"point\" transform=\"translate(126.89,25.34)\" d=\"M3,0A3,3 0 1,1 0,-3A3,3 0 0,1 3,0Z\" style=\"opacity: 1; stroke-width: 0px; fill: rgb(99, 110, 250); fill-opacity: 1;\"/><path class=\"point\" transform=\"translate(133.83,25.34)\" d=\"M3,0A3,3 0 1,1 0,-3A3,3 0 0,1 3,0Z\" style=\"opacity: 1; stroke-width: 0px; fill: rgb(99, 110, 250); fill-opacity: 1;\"/><path class=\"point\" transform=\"translate(148.87,25.34)\" d=\"M3,0A3,3 0 1,1 0,-3A3,3 0 0,1 3,0Z\" style=\"opacity: 1; stroke-width: 0px; fill: rgb(99, 110, 250); fill-opacity: 1;\"/><path class=\"point\" transform=\"translate(156.72,25.34)\" d=\"M3,0A3,3 0 1,1 0,-3A3,3 0 0,1 3,0Z\" style=\"opacity: 1; stroke-width: 0px; fill: rgb(99, 110, 250); fill-opacity: 1;\"/><path class=\"point\" transform=\"translate(156.92,25.34)\" d=\"M3,0A3,3 0 1,1 0,-3A3,3 0 0,1 3,0Z\" style=\"opacity: 1; stroke-width: 0px; fill: rgb(99, 110, 250); fill-opacity: 1;\"/><path class=\"point\" transform=\"translate(160.55,25.34)\" d=\"M3,0A3,3 0 1,1 0,-3A3,3 0 0,1 3,0Z\" style=\"opacity: 1; stroke-width: 0px; fill: rgb(99, 110, 250); fill-opacity: 1;\"/><path class=\"point\" transform=\"translate(189.62,25.34)\" d=\"M3,0A3,3 0 1,1 0,-3A3,3 0 0,1 3,0Z\" style=\"opacity: 1; stroke-width: 0px; fill: rgb(99, 110, 250); fill-opacity: 1;\"/><path class=\"point\" transform=\"translate(268.68,25.34)\" d=\"M3,0A3,3 0 1,1 0,-3A3,3 0 0,1 3,0Z\" style=\"opacity: 1; stroke-width: 0px; fill: rgb(99, 110, 250); fill-opacity: 1;\"/><path class=\"point\" transform=\"translate(294.86,25.34)\" d=\"M3,0A3,3 0 1,1 0,-3A3,3 0 0,1 3,0Z\" style=\"opacity: 1; stroke-width: 0px; fill: rgb(99, 110, 250); fill-opacity: 1;\"/><path class=\"point\" transform=\"translate(336.68,25.34)\" d=\"M3,0A3,3 0 1,1 0,-3A3,3 0 0,1 3,0Z\" style=\"opacity: 1; stroke-width: 0px; fill: rgb(99, 110, 250); fill-opacity: 1;\"/><path class=\"point\" transform=\"translate(428.23,25.34)\" d=\"M3,0A3,3 0 1,1 0,-3A3,3 0 0,1 3,0Z\" style=\"opacity: 1; stroke-width: 0px; fill: rgb(99, 110, 250); fill-opacity: 1;\"/><path class=\"point\" transform=\"translate(460.19,25.34)\" d=\"M3,0A3,3 0 1,1 0,-3A3,3 0 0,1 3,0Z\" style=\"opacity: 1; stroke-width: 0px; fill: rgb(99, 110, 250); fill-opacity: 1;\"/><path class=\"point\" transform=\"translate(703,25.34)\" d=\"M3,0A3,3 0 1,1 0,-3A3,3 0 0,1 3,0Z\" style=\"opacity: 1; stroke-width: 0px; fill: rgb(99, 110, 250); fill-opacity: 1;\"/></g></g></g></g><g class=\"overplot\"/><path class=\"xlines-above crisp\" d=\"M0,0\" style=\"fill: none;\"/><path class=\"ylines-above crisp\" d=\"M0,0\" style=\"fill: none;\"/><g class=\"overlines-above\"/><g class=\"xaxislayer-above\"/><g class=\"yaxislayer-above\"/><g class=\"overaxes-above\"/></g></g><g class=\"polarlayer\"/><g class=\"smithlayer\"/><g class=\"ternarylayer\"/><g class=\"geolayer\"/><g class=\"funnelarealayer\"/><g class=\"pielayer\"/><g class=\"iciclelayer\"/><g class=\"treemaplayer\"/><g class=\"sunburstlayer\"/><g class=\"glimages\"/><defs id=\"topdefs-adfc8d\"><g class=\"clips\"/></defs><g class=\"layer-above\"><g class=\"imagelayer\"/><g class=\"shapelayer\"/></g><g class=\"infolayer\"><g class=\"g-gtitle\"><text class=\"gtitle\" x=\"45\" y=\"50\" text-anchor=\"start\" dy=\"0em\" style=\"font-family: 'Open Sans', verdana, arial, sans-serif; font-size: 17px; fill: rgb(42, 63, 95); opacity: 1; font-weight: normal; white-space: pre;\">Distribution of resolution time</text></g><g class=\"g-xtitle\"><text class=\"xtitle\" x=\"450\" y=\"460.3\" text-anchor=\"middle\" style=\"font-family: 'Open Sans', verdana, arial, sans-serif; font-size: 14px; fill: rgb(42, 63, 95); opacity: 1; font-weight: normal; white-space: pre;\">resolution_time</text></g><g class=\"g-x2title\"/><g class=\"g-ytitle\"><text class=\"ytitle\" transform=\"rotate(-90,31.309375000000003,286.944)\" x=\"31.309375000000003\" y=\"286.944\" text-anchor=\"middle\" style=\"font-family: 'Open Sans', verdana, arial, sans-serif; font-size: 14px; fill: rgb(42, 63, 95); opacity: 1; font-weight: normal; white-space: pre;\">count</text></g><g class=\"g-y2title\"/></g></svg>"
     },
     "metadata": {},
     "output_type": "display_data"
    }
   ],
   "source": [
    "fig = px.histogram(result[result['resolution_time']<3000], x='resolution_time', log_y=True, marginal='box', title='Distribution of resolution time')\n",
    "fig.show()"
   ]
  },
  {
   "cell_type": "code",
   "execution_count": 26,
   "metadata": {},
   "outputs": [
    {
     "data": {
      "text/html": [
       "<div>\n",
       "<style scoped>\n",
       "    .dataframe tbody tr th:only-of-type {\n",
       "        vertical-align: middle;\n",
       "    }\n",
       "\n",
       "    .dataframe tbody tr th {\n",
       "        vertical-align: top;\n",
       "    }\n",
       "\n",
       "    .dataframe thead th {\n",
       "        text-align: right;\n",
       "    }\n",
       "</style>\n",
       "<table border=\"1\" class=\"dataframe\">\n",
       "  <thead>\n",
       "    <tr style=\"text-align: right;\">\n",
       "      <th></th>\n",
       "      <th>response_time</th>\n",
       "      <th>resolution_time</th>\n",
       "    </tr>\n",
       "  </thead>\n",
       "  <tbody>\n",
       "    <tr>\n",
       "      <th>count</th>\n",
       "      <td>468.000000</td>\n",
       "      <td>468.000000</td>\n",
       "    </tr>\n",
       "    <tr>\n",
       "      <th>mean</th>\n",
       "      <td>11.482594</td>\n",
       "      <td>64.629625</td>\n",
       "    </tr>\n",
       "    <tr>\n",
       "      <th>std</th>\n",
       "      <td>62.884684</td>\n",
       "      <td>573.200856</td>\n",
       "    </tr>\n",
       "    <tr>\n",
       "      <th>min</th>\n",
       "      <td>0.000000</td>\n",
       "      <td>0.000000</td>\n",
       "    </tr>\n",
       "    <tr>\n",
       "      <th>25%</th>\n",
       "      <td>0.000000</td>\n",
       "      <td>0.000000</td>\n",
       "    </tr>\n",
       "    <tr>\n",
       "      <th>50%</th>\n",
       "      <td>0.442778</td>\n",
       "      <td>0.754444</td>\n",
       "    </tr>\n",
       "    <tr>\n",
       "      <th>75%</th>\n",
       "      <td>4.286528</td>\n",
       "      <td>17.082917</td>\n",
       "    </tr>\n",
       "    <tr>\n",
       "      <th>max</th>\n",
       "      <td>1279.305278</td>\n",
       "      <td>11950.471389</td>\n",
       "    </tr>\n",
       "  </tbody>\n",
       "</table>\n",
       "</div>"
      ],
      "text/plain": [
       "       response_time  resolution_time\n",
       "count     468.000000       468.000000\n",
       "mean       11.482594        64.629625\n",
       "std        62.884684       573.200856\n",
       "min         0.000000         0.000000\n",
       "25%         0.000000         0.000000\n",
       "50%         0.442778         0.754444\n",
       "75%         4.286528        17.082917\n",
       "max      1279.305278     11950.471389"
      ]
     },
     "execution_count": 26,
     "metadata": {},
     "output_type": "execute_result"
    }
   ],
   "source": [
    "result.describe()"
   ]
  },
  {
   "cell_type": "markdown",
   "metadata": {},
   "source": [
    "## Query Tweets Topics\n"
   ]
  },
  {
   "cell_type": "code",
   "execution_count": 37,
   "metadata": {},
   "outputs": [
    {
     "data": {
      "text/plain": [
       "(299, 28)"
      ]
     },
     "execution_count": 37,
     "metadata": {},
     "output_type": "execute_result"
    }
   ],
   "source": [
    "queries = df[df['conversation_id'].isin(conversation_ids)]\n",
    "queries.sort_values('date', ascending=True, inplace=True)\n",
    "queries = queries[(queries['inReplyToTweetId'] == 'nan') & (queries['username'] != company_username)]\n",
    "queries.shape"
   ]
  },
  {
   "cell_type": "code",
   "execution_count": 38,
   "metadata": {},
   "outputs": [],
   "source": [
    "processor = Processor('./../../data/config.json')\n",
    "pre_queries, post_queries = processor.preprocess(queries)\n",
    "pre_id2word = gensim.corpora.Dictionary(pre_queries['bigram'].values.tolist())\n",
    "post_id2word = gensim.corpora.Dictionary(post_queries['bigram'].values.tolist())\n",
    "pre_corpus = [pre_id2word.doc2bow(text) for text in pre_queries['bigram'].values.tolist()]\n",
    "post_corpus = [post_id2word.doc2bow(text) for text in post_queries['bigram'].values.tolist()]\n"
   ]
  },
  {
   "cell_type": "code",
   "execution_count": 39,
   "metadata": {},
   "outputs": [
    {
     "data": {
      "text/plain": [
       "(73, 31)"
      ]
     },
     "execution_count": 39,
     "metadata": {},
     "output_type": "execute_result"
    }
   ],
   "source": [
    "pre_queries.shape"
   ]
  },
  {
   "cell_type": "code",
   "execution_count": 40,
   "metadata": {},
   "outputs": [
    {
     "data": {
      "text/plain": [
       "(209, 31)"
      ]
     },
     "execution_count": 40,
     "metadata": {},
     "output_type": "execute_result"
    }
   ],
   "source": [
    "post_queries.shape\n"
   ]
  },
  {
   "cell_type": "code",
   "execution_count": 43,
   "metadata": {},
   "outputs": [
    {
     "name": "stdout",
     "output_type": "stream",
     "text": [
      "Pre-COVID coherence Score:  -12.722334284060025\n"
     ]
    }
   ],
   "source": [
    "pre_lda_model = gensim.models.LdaMulticore(corpus=pre_corpus,\n",
    "                                        id2word=pre_id2word,\n",
    "                                        num_topics=3,\n",
    "                                        random_state=100,\n",
    "                                        chunksize=100,\n",
    "                                        passes=10,\n",
    "                                        per_word_topics=True,\n",
    "                                        alpha=0.6,\n",
    "                                        eta=0.3)\n",
    "pre_coherence_model = gensim.models.CoherenceModel(model=pre_lda_model, \n",
    "                                                    texts=pre_queries['bigram'].values.tolist(), \n",
    "                                                    dictionary=pre_id2word, \n",
    "                                                    coherence='u_mass')\n",
    "pre_coherence_model_score = pre_coherence_model.get_coherence()\n",
    "print('Pre-COVID coherence Score: ', pre_coherence_model_score)"
   ]
  },
  {
   "cell_type": "code",
   "execution_count": 44,
   "metadata": {},
   "outputs": [
    {
     "name": "stderr",
     "output_type": "stream",
     "text": [
      "/Users/pushkar/miniforge3/envs/project/lib/python3.8/site-packages/past/builtins/misc.py:45: DeprecationWarning: the imp module is deprecated in favour of importlib; see the module's documentation for alternative uses\n",
      "  from imp import reload\n",
      "/Users/pushkar/miniforge3/envs/project/lib/python3.8/site-packages/past/builtins/misc.py:45: DeprecationWarning: the imp module is deprecated in favour of importlib; see the module's documentation for alternative uses\n",
      "  from imp import reload\n",
      "/Users/pushkar/miniforge3/envs/project/lib/python3.8/site-packages/past/builtins/misc.py:45: DeprecationWarning: the imp module is deprecated in favour of importlib; see the module's documentation for alternative uses\n",
      "  from imp import reload\n",
      "/Users/pushkar/miniforge3/envs/project/lib/python3.8/site-packages/past/builtins/misc.py:45: DeprecationWarning: the imp module is deprecated in favour of importlib; see the module's documentation for alternative uses\n",
      "  from imp import reload\n",
      "/Users/pushkar/miniforge3/envs/project/lib/python3.8/site-packages/past/builtins/misc.py:45: DeprecationWarning: the imp module is deprecated in favour of importlib; see the module's documentation for alternative uses\n",
      "  from imp import reload\n",
      "/Users/pushkar/miniforge3/envs/project/lib/python3.8/site-packages/past/builtins/misc.py:45: DeprecationWarning: the imp module is deprecated in favour of importlib; see the module's documentation for alternative uses\n",
      "  from imp import reload\n",
      "/Users/pushkar/miniforge3/envs/project/lib/python3.8/site-packages/past/builtins/misc.py:45: DeprecationWarning: the imp module is deprecated in favour of importlib; see the module's documentation for alternative uses\n",
      "  from imp import reload\n",
      "/Users/pushkar/miniforge3/envs/project/lib/python3.8/site-packages/past/builtins/misc.py:45: DeprecationWarning: the imp module is deprecated in favour of importlib; see the module's documentation for alternative uses\n",
      "  from imp import reload\n"
     ]
    },
    {
     "data": {
      "text/html": [
       "\n",
       "<link rel=\"stylesheet\" type=\"text/css\" href=\"https://cdn.jsdelivr.net/gh/bmabey/pyLDAvis@3.3.1/pyLDAvis/js/ldavis.v1.0.0.css\">\n",
       "\n",
       "\n",
       "<div id=\"ldavis_el9153563300097448697462312\"></div>\n",
       "<script type=\"text/javascript\">\n",
       "\n",
       "var ldavis_el9153563300097448697462312_data = {\"mdsDat\": {\"x\": [0.06474360737807594, -0.09423921735382962, 0.029495609975753744], \"y\": [0.0643335778848019, 0.018326528068976732, -0.08266010595377855], \"topics\": [1, 2, 3], \"cluster\": [1, 1, 1], \"Freq\": [42.03892386182948, 36.857870018671136, 21.103206119499387]}, \"tinfo\": {\"Term\": [\"response\", \"getting\", \"faulty\", \"doesnt\", \"pos\", \"need\", \"payment\", \"money\", \"service\", \"know\", \"ct_ct\", \"help\", \"rs\", \"receive\", \"deducted\", \"check\", \"jan\", \"experience\", \"april\", \"dont\", \"sales\", \"machines\", \"able\", \"account\", \"got\", \"days\", \"worst\", \"responding\", \"received\", \"issue\", \"need\", \"pls\", \"promised\", \"card\", \"operations\", \"come\", \"provided\", \"offer\", \"file\", \"resolution\", \"poorest\", \"simple\", \"installation\", \"believe\", \"rental\", \"swiping\", \"day\", \"like\", \"pin\", \"time\", \"asap\", \"services\", \"pathetic\", \"edc\", \"charging\", \"settled\", \"scam\", \"beware\", \"sudha\", \"android\", \"worst\", \"refund\", \"company\", \"request\", \"help\", \"customer\", \"machine\", \"executive\", \"month\", \"account\", \"payment\", \"support\", \"money\", \"service\", \"applied\", \"care\", \"times\", \"machines\", \"pos\", \"total\", \"kindly\", \"complain\", \"look\", \"calling\", \"team\", \"response\", \"ct_ct\", \"got\", \"issue\", \"felix\", \"hospital\", \"person\", \"resolved\", \"complained\", \"fed\", \"solution\", \"showing\", \"thanks\", \"deactivate\", \"november\", \"waiting\", \"didnt\", \"picking\", \"paid\", \"aka\", \"today\", \"distt\", \"maheshkhunt\", \"statebihar\", \"hell\", \"khagaria\", \"raised\", \"becz\", \"pinlab\", \"servicepoor\", \"pos\", \"swipe\", \"pinelab\", \"shame\", \"service\", \"shop\", \"installed\", \"phone\", \"tid\", \"machine\", \"ur\", \"working\", \"team\", \"people\", \"machines\", \"applied\", \"customer\", \"company\", \"worst\", \"payment\", \"times\", \"care\", \"days\", \"problem\", \"solutions\", \"support\", \"ago\", \"mail\", \"rs\", \"receive\", \"deducted\", \"check\", \"jan\", \"experience\", \"faulty\", \"doesnt\", \"success\", \"plutussupport\", \"completed\", \"plz\", \"hdfc\", \"no\", \"second\", \"embarrassing\", \"reply\", \"long\", \"placed\", \"contactless\", \"anymore\", \"delivered\", \"reps\", \"delayed\", \"sense\", \"fake\", \"chosen\", \"cons\", \"ordered\", \"chargers\", \"getting\", \"april\", \"dont\", \"sales\", \"able\", \"know\", \"payment\", \"money\", \"machines\", \"responding\", \"days\", \"received\", \"service\", \"account\", \"help\", \"month\", \"pos\", \"poor\", \"machine\", \"debit\", \"customer\", \"work\"], \"Freq\": [8.0, 4.0, 2.0, 2.0, 11.0, 4.0, 8.0, 4.0, 13.0, 4.0, 3.0, 6.0, 1.0, 1.0, 1.0, 1.0, 1.0, 1.0, 2.0, 2.0, 2.0, 7.0, 2.0, 4.0, 2.0, 5.0, 7.0, 3.0, 3.0, 2.0, 4.38514748016013, 2.301589736542678, 2.30047299471289, 2.299957805980812, 1.6041238589111841, 1.603870760737716, 1.603906730278283, 1.603423014894201, 1.6031957698280155, 1.6027768745534967, 1.6026706520040102, 1.6025125358986017, 1.6024625157562506, 1.6024293563360406, 1.6021185570245797, 1.6018026994964767, 1.6018107551748328, 1.6014066598675267, 1.6008691775139516, 1.5993749428495685, 1.5969050343973086, 3.053175347442848, 2.3176505110885097, 2.389593526390797, 0.9069887324456846, 0.9069763679161147, 0.9069161376698008, 0.9068820415428052, 0.9068108518270999, 0.9068136619474566, 5.124414460122925, 2.2978749447723605, 4.458675216002288, 2.5698509447732847, 3.827924593102669, 5.5662545546960756, 11.256200865747415, 2.325640245286931, 2.9567466294237197, 2.357526493634054, 2.951994153876319, 2.2964563960162536, 2.2379907179451246, 3.3722362254112643, 2.276061666514825, 2.0320313767553775, 2.0159792199119724, 2.2221581251722635, 2.064223553538676, 1.6617420046827054, 1.6202101118815846, 1.6276308903784347, 1.616157356303024, 1.619489784363461, 1.6195338095823841, 7.82581805493932, 2.910075167713753, 2.2303012452650566, 2.1591732906638295, 1.5590958892482885, 1.5586831224140172, 1.5586121652821407, 1.5581719682603155, 1.5576529299808495, 1.557056692969944, 1.556899995970384, 1.5569578128926536, 1.5565755970457178, 1.5557983536474798, 1.5558913206304474, 1.5557912907848161, 1.5552187061512028, 1.55484174638811, 1.5535011165029833, 1.5318478578499137, 1.3595497338025238, 0.881635711332407, 0.8815550632959458, 0.8814660383758601, 0.8813610809516264, 0.8813289695644, 0.8812557128958425, 0.8812622008743357, 0.8811679198704074, 0.8810395564478117, 7.261384950355614, 2.988243318117026, 2.9840069145398163, 2.9712753654518558, 7.20779720454793, 1.5836554337611264, 1.6157300284006728, 1.5539664441756815, 1.5526657276772353, 9.669281056034222, 2.257513305339633, 2.2530747067870998, 2.2214613335047493, 2.230128123003488, 2.954732827072704, 2.4070712290205467, 3.14418672665633, 2.1805872332494363, 2.2154038611286673, 2.0925995684596748, 1.830876487070477, 1.8309109801206946, 1.6793097538459343, 1.5825597045325452, 1.5796723077240864, 1.6094614914077825, 1.5868885823348622, 1.5676718470481206, 1.3211804473499342, 1.3195814193541497, 1.3190516702098662, 1.3182060276915992, 1.314885996794982, 1.3146375328789164, 1.9816090096048724, 1.93169052109329, 0.7467763091369894, 0.746752845190336, 0.7467359643148879, 0.7467210113388643, 0.7467223749750426, 0.7466883310925233, 0.7466167166821963, 0.7466011994429266, 0.7465560583832326, 0.7465025474187204, 0.7464887229691891, 0.7464608389604406, 0.7464370458602269, 0.7463947261167638, 0.7461485662756201, 0.7460971242763439, 0.7460496321197908, 0.7459436916953216, 0.7459393186551637, 0.7459291619167325, 0.7459164659936937, 0.7458811525188705, 2.502749001453854, 1.3714485909863963, 1.3622306925530132, 1.3373290031483318, 1.3336033610215894, 2.0330589085665727, 3.224496991109333, 1.945539986295149, 2.5191513816691558, 1.3869785261792376, 1.8375691545783768, 1.5060447482371646, 3.1517132392485134, 1.6234355786733248, 1.9875268144430034, 1.9586508309077653, 2.4554278166644137, 1.3700393435290752, 3.216952415332481, 0.8930363049274963, 1.3353718560789751, 0.810886347443424], \"Total\": [8.0, 4.0, 2.0, 2.0, 11.0, 4.0, 8.0, 4.0, 13.0, 4.0, 3.0, 6.0, 1.0, 1.0, 1.0, 1.0, 1.0, 1.0, 2.0, 2.0, 2.0, 7.0, 2.0, 4.0, 2.0, 5.0, 7.0, 3.0, 3.0, 2.0, 4.782963307218005, 2.6851065429702636, 2.6849468940837937, 2.6850619011956476, 1.985581257262528, 1.9854542716032866, 1.9856736182700172, 1.9854990427806376, 1.9853742673564805, 1.9854257708396488, 1.98561277135571, 1.985539384919267, 1.98550858607787, 1.985582740054132, 1.9854538145426721, 1.9852900159680604, 1.9854168972047306, 1.9850981038997442, 1.985052519704417, 1.9854703024508904, 1.9852363346147701, 4.06572782636057, 3.26370719349733, 3.366850019528806, 1.2859907368839179, 1.285982929926578, 1.286009671402263, 1.2859760182536637, 1.2859676073047086, 1.2859771260254527, 7.52298263804391, 3.3637777211792352, 6.823849990772191, 4.018432145693218, 6.479265067153415, 10.04581313743138, 24.14243433711412, 4.044584445193753, 6.45935418558662, 4.463740559310752, 8.269090713445326, 4.6255676641986145, 4.402024672370547, 13.731746669207707, 5.319692182038379, 4.612523618609796, 4.609666261588549, 7.696042333914123, 11.781036320558705, 2.6659929902409263, 2.5647914770970255, 3.345047074062485, 2.6649969199168817, 3.2391771091680246, 4.0236144168501, 8.736936458999589, 3.303867914470279, 2.6243651664431624, 2.6260818996160142, 1.945543992746893, 1.9454943799671773, 1.9454144625684853, 1.9454920843157888, 1.9454879315576372, 1.9453164505438205, 1.9451782028837823, 1.9453772352936012, 1.9451385983825995, 1.9449872169787028, 1.945144792520676, 1.9454126852554698, 1.9450830480358323, 1.9453564947518045, 1.9449680520679167, 1.942624716178123, 1.9502414774801866, 1.2660188546440494, 1.2660276601444995, 1.2660008320969234, 1.2660158476825203, 1.2660072467053753, 1.265959262848114, 1.2660174767101857, 1.2660158444053595, 1.2659466224683062, 11.781036320558705, 4.700339831483569, 4.7016230200781575, 4.702394585830054, 13.731746669207707, 2.5252703540592862, 2.6430999237367647, 2.5221159847619816, 2.520329581190388, 24.14243433711412, 4.022778454815248, 4.023349693179401, 4.0236144168501, 4.5938166792271895, 7.696042333914123, 5.319692182038379, 10.04581313743138, 6.823849990772191, 7.52298263804391, 8.269090713445326, 4.609666261588549, 4.612523618609796, 5.081774892214906, 2.6440784768921506, 2.6441165215616085, 4.6255676641986145, 3.3435508815788864, 3.3440429761907624, 1.7379511973169095, 1.7382437600648162, 1.7383628236732702, 1.7385465890074538, 1.739108032903089, 1.739254547411385, 2.994764841271305, 2.9869074968513933, 1.1622406893744532, 1.162234864308489, 1.1622468714420586, 1.1622485686528654, 1.1622511726174418, 1.1622546598340988, 1.1622723354052413, 1.1622654605123046, 1.1622790951060538, 1.1622843324466579, 1.1622859568691921, 1.162291036451316, 1.162296999770674, 1.162304070068913, 1.16234831967228, 1.1623657218725145, 1.1623714503148297, 1.1624035833401154, 1.1624067369201792, 1.16240031284797, 1.1623993167440647, 1.1624008713219005, 4.242958118014541, 2.4268591125786507, 2.428809656574384, 2.4147210596145365, 2.4349380845994273, 4.3665594353464225, 8.269090713445326, 4.402024672370547, 7.696042333914123, 3.1039776544319206, 5.081774892214906, 3.7715370549028604, 13.731746669207707, 4.463740559310752, 6.479265067153415, 6.45935418558662, 11.781036320558705, 3.8078754918347983, 24.14243433711412, 1.8155258835949728, 10.04581313743138, 2.5267663405816263], \"Category\": [\"Default\", \"Default\", \"Default\", \"Default\", \"Default\", \"Default\", \"Default\", \"Default\", \"Default\", \"Default\", \"Default\", \"Default\", \"Default\", \"Default\", \"Default\", \"Default\", \"Default\", \"Default\", \"Default\", \"Default\", \"Default\", \"Default\", \"Default\", \"Default\", \"Default\", \"Default\", \"Default\", \"Default\", \"Default\", \"Default\", \"Topic1\", \"Topic1\", \"Topic1\", \"Topic1\", \"Topic1\", \"Topic1\", \"Topic1\", \"Topic1\", \"Topic1\", \"Topic1\", \"Topic1\", \"Topic1\", \"Topic1\", \"Topic1\", \"Topic1\", \"Topic1\", \"Topic1\", \"Topic1\", \"Topic1\", \"Topic1\", \"Topic1\", \"Topic1\", \"Topic1\", \"Topic1\", \"Topic1\", \"Topic1\", \"Topic1\", \"Topic1\", \"Topic1\", \"Topic1\", \"Topic1\", \"Topic1\", \"Topic1\", \"Topic1\", \"Topic1\", \"Topic1\", \"Topic1\", \"Topic1\", \"Topic1\", \"Topic1\", \"Topic1\", \"Topic1\", \"Topic1\", \"Topic1\", \"Topic1\", \"Topic1\", \"Topic1\", \"Topic1\", \"Topic1\", \"Topic1\", \"Topic1\", \"Topic1\", \"Topic1\", \"Topic1\", \"Topic1\", \"Topic2\", \"Topic2\", \"Topic2\", \"Topic2\", \"Topic2\", \"Topic2\", \"Topic2\", \"Topic2\", \"Topic2\", \"Topic2\", \"Topic2\", \"Topic2\", \"Topic2\", \"Topic2\", \"Topic2\", \"Topic2\", \"Topic2\", \"Topic2\", \"Topic2\", \"Topic2\", \"Topic2\", \"Topic2\", \"Topic2\", \"Topic2\", \"Topic2\", \"Topic2\", \"Topic2\", \"Topic2\", \"Topic2\", \"Topic2\", \"Topic2\", \"Topic2\", \"Topic2\", \"Topic2\", \"Topic2\", \"Topic2\", \"Topic2\", \"Topic2\", \"Topic2\", \"Topic2\", \"Topic2\", \"Topic2\", \"Topic2\", \"Topic2\", \"Topic2\", \"Topic2\", \"Topic2\", \"Topic2\", \"Topic2\", \"Topic2\", \"Topic2\", \"Topic2\", \"Topic2\", \"Topic2\", \"Topic2\", \"Topic2\", \"Topic2\", \"Topic2\", \"Topic3\", \"Topic3\", \"Topic3\", \"Topic3\", \"Topic3\", \"Topic3\", \"Topic3\", \"Topic3\", \"Topic3\", \"Topic3\", \"Topic3\", \"Topic3\", \"Topic3\", \"Topic3\", \"Topic3\", \"Topic3\", \"Topic3\", \"Topic3\", \"Topic3\", \"Topic3\", \"Topic3\", \"Topic3\", \"Topic3\", \"Topic3\", \"Topic3\", \"Topic3\", \"Topic3\", \"Topic3\", \"Topic3\", \"Topic3\", \"Topic3\", \"Topic3\", \"Topic3\", \"Topic3\", \"Topic3\", \"Topic3\", \"Topic3\", \"Topic3\", \"Topic3\", \"Topic3\", \"Topic3\", \"Topic3\", \"Topic3\", \"Topic3\", \"Topic3\", \"Topic3\", \"Topic3\", \"Topic3\", \"Topic3\", \"Topic3\", \"Topic3\", \"Topic3\"], \"logprob\": [30.0, 29.0, 28.0, 27.0, 26.0, 25.0, 24.0, 23.0, 22.0, 21.0, 20.0, 19.0, 18.0, 17.0, 16.0, 15.0, 14.0, 13.0, 12.0, 11.0, 10.0, 9.0, 8.0, 7.0, 6.0, 5.0, 4.0, 3.0, 2.0, 1.0, -4.519, -5.1636, -5.1641, -5.1643, -5.5247, -5.5248, -5.5248, -5.5251, -5.5252, -5.5255, -5.5256, -5.5257, -5.5257, -5.5257, -5.5259, -5.5261, -5.5261, -5.5263, -5.5267, -5.5276, -5.5292, -4.881, -5.1567, -5.1261, -6.0949, -6.0949, -6.0949, -6.095, -6.0951, -6.095, -4.3632, -5.1652, -4.5024, -5.0534, -4.6549, -4.2805, -3.5763, -5.1532, -4.9131, -5.1396, -4.9147, -5.1659, -5.1917, -4.7817, -5.1748, -5.2882, -5.2961, -5.1988, -5.2725, -5.4894, -5.5147, -5.5101, -5.5172, -5.5151, -5.5151, -3.8083, -4.7975, -5.0636, -5.096, -5.4216, -5.4219, -5.4219, -5.4222, -5.4225, -5.4229, -5.423, -5.423, -5.4232, -5.4237, -5.4237, -5.4237, -5.4241, -5.4243, -5.4252, -5.4392, -5.5585, -5.9917, -5.9918, -5.9919, -5.992, -5.992, -5.9921, -5.9921, -5.9922, -5.9924, -3.8831, -4.771, -4.7724, -4.7767, -3.8905, -5.406, -5.3859, -5.4249, -5.4257, -3.5967, -5.0514, -5.0534, -5.0675, -5.0636, -4.7823, -4.9873, -4.7201, -5.0861, -5.0703, -5.1273, -5.2609, -5.2609, -5.3473, -5.4067, -5.4085, -5.3898, -5.4039, -5.4161, -5.0295, -5.0307, -5.0311, -5.0318, -5.0343, -5.0345, -4.6241, -4.6497, -5.6, -5.6001, -5.6001, -5.6001, -5.6001, -5.6002, -5.6003, -5.6003, -5.6003, -5.6004, -5.6004, -5.6005, -5.6005, -5.6006, -5.6009, -5.601, -5.601, -5.6012, -5.6012, -5.6012, -5.6012, -5.6012, -4.3907, -4.9922, -4.9989, -5.0174, -5.0202, -4.5985, -4.1373, -4.6425, -4.3841, -4.9809, -4.6996, -4.8986, -4.1601, -4.8235, -4.6212, -4.6358, -4.4098, -4.9932, -4.1396, -5.4212, -5.0188, -5.5177], \"loglift\": [30.0, 29.0, 28.0, 27.0, 26.0, 25.0, 24.0, 23.0, 22.0, 21.0, 20.0, 19.0, 18.0, 17.0, 16.0, 15.0, 14.0, 13.0, 12.0, 11.0, 10.0, 9.0, 8.0, 7.0, 6.0, 5.0, 4.0, 3.0, 2.0, 1.0, 0.7797, 0.7125, 0.712, 0.7118, 0.6532, 0.6531, 0.6531, 0.6528, 0.6528, 0.6525, 0.6523, 0.6523, 0.6522, 0.6522, 0.6521, 0.6519, 0.6519, 0.6518, 0.6515, 0.6503, 0.6489, 0.5802, 0.5243, 0.5237, 0.5174, 0.5174, 0.5173, 0.5173, 0.5172, 0.5172, 0.4826, 0.4855, 0.441, 0.4195, 0.3403, 0.2761, 0.1035, 0.3132, 0.0851, 0.2282, -0.1635, 0.1663, 0.1901, -0.5376, 0.0176, 0.0468, 0.0395, -0.3757, -0.8752, 0.3939, 0.4073, 0.1462, 0.3664, 0.1734, -0.0435, 0.888, 0.8712, 0.8354, 0.8023, 0.7767, 0.7764, 0.7764, 0.7761, 0.7758, 0.7755, 0.7754, 0.7754, 0.7753, 0.7748, 0.7748, 0.7746, 0.7744, 0.774, 0.7734, 0.7605, 0.6373, 0.6362, 0.6361, 0.6361, 0.6359, 0.6359, 0.6359, 0.6358, 0.6357, 0.6356, 0.5142, 0.5452, 0.5435, 0.539, 0.3536, 0.5315, 0.5059, 0.5138, 0.5137, 0.0831, 0.4204, 0.4183, 0.4041, 0.2754, 0.0408, 0.2051, -0.1635, -0.1427, -0.2244, -0.376, 0.0747, 0.0741, -0.1092, 0.4848, 0.483, -0.0576, 0.2528, 0.2405, 1.2816, 1.2802, 1.2797, 1.279, 1.2761, 1.2758, 1.1428, 1.1199, 1.1134, 1.1134, 1.1133, 1.1133, 1.1133, 1.1133, 1.1132, 1.1132, 1.1131, 1.113, 1.113, 1.1129, 1.1129, 1.1128, 1.1125, 1.1124, 1.1123, 1.1122, 1.1121, 1.1121, 1.1121, 1.1121, 1.0279, 0.985, 0.9775, 0.9648, 0.9537, 0.7913, 0.614, 0.7392, 0.439, 0.7502, 0.5385, 0.6377, 0.084, 0.5443, 0.374, 0.3625, -0.0124, 0.5335, -0.4598, 0.8462, -0.4622, 0.4192]}, \"token.table\": {\"Topic\": [1, 3, 1, 3, 1, 2, 2, 1, 3, 1, 2, 3, 1, 3, 1, 2, 1, 1, 1, 2, 3, 1, 1, 2, 3, 3, 1, 3, 3, 1, 1, 2, 1, 2, 2, 3, 3, 3, 2, 1, 2, 3, 1, 1, 2, 3, 2, 2, 3, 3, 3, 3, 2, 2, 2, 3, 1, 3, 1, 2, 3, 1, 2, 3, 3, 1, 3, 2, 2, 1, 2, 3, 2, 3, 2, 1, 2, 3, 2, 1, 1, 2, 2, 3, 2, 1, 3, 1, 2, 3, 1, 3, 1, 2, 1, 2, 3, 1, 2, 3, 2, 1, 2, 1, 3, 1, 2, 3, 1, 3, 2, 1, 1, 3, 2, 1, 3, 1, 2, 3, 1, 2, 3, 2, 2, 3, 2, 1, 1, 2, 2, 3, 1, 3, 3, 1, 2, 3, 1, 1, 2, 3, 1, 2, 1, 1, 2, 3, 1, 2, 3, 1, 2, 1, 3, 3, 1, 2, 1, 2, 1, 2, 3, 1, 2, 3, 2, 3, 1, 3, 3, 1, 2, 3, 2, 1, 2, 1, 1, 2, 2, 3, 2, 1, 2, 1, 2, 2, 3, 1, 1, 2, 3, 1, 2, 1, 1, 2, 2, 2, 3, 1, 1, 2, 3, 2, 1, 2, 1, 2, 2, 1, 2, 3, 1, 2, 1, 2], \"Freq\": [0.4106880607457049, 0.4106880607457049, 0.4480547140734409, 0.4480547140734409, 0.5981664615959316, 0.5981664615959316, 1.0295349293891185, 0.7776188081126161, 0.8603652940662362, 0.3759616029575696, 0.3759616029575696, 0.1879808014787848, 0.4120552341983517, 0.4120552341983517, 1.007436729384713, 0.7898785114709108, 1.0072609716306635, 0.7776194779728358, 0.6174407673909796, 0.3087203836954898, 0.3087203836954898, 0.7448617847914075, 0.43360211575519164, 0.43360211575519164, 0.21680105787759582, 0.8602884122607241, 0.7776105778359637, 0.5751930988348755, 0.8602840711759129, 1.0073261462652412, 0.5861793570212053, 0.29308967851060264, 0.5978989101552596, 0.5978989101552596, 1.0280197412474916, 0.8604024020811081, 0.8602888255853297, 0.8603697083074652, 0.9080266153681875, 0.5972637473858232, 0.2986318736929116, 0.09954395789763719, 1.0073451086347662, 0.3935632810229212, 0.3935632810229212, 0.3935632810229212, 1.0282843931009238, 0.5508045955367337, 0.5508045955367337, 0.5752539034900304, 0.8603144270196206, 0.8603600604622421, 1.0282337312124659, 0.7898776517677989, 0.3347944323867197, 0.6695888647734394, 0.41172431824501615, 0.41172431824501615, 0.594027054486942, 0.297013527243471, 0.8603886409557581, 0.494488377508506, 0.494488377508506, 0.5749589681903362, 0.8602864051111613, 0.33391603448085455, 0.6678320689617091, 1.028110361910985, 1.0279901186794658, 1.007366738294132, 0.47136925333024127, 0.707053879995362, 0.762089066557238, 0.8603992179659025, 0.7898795278357137, 0.617353968164996, 0.154338492041249, 0.308676984082498, 1.0280163338399066, 1.007298590408393, 0.37834362258473336, 0.7566872451694667, 0.761590870525569, 0.5750074067168227, 0.78988489410497, 0.7797904889576879, 0.38989524447884394, 0.458026514836922, 0.229013257418461, 0.458026514836922, 1.007506881433709, 0.8603746708819154, 0.7504699105102072, 0.3752349552551036, 0.45562928105761563, 0.4142084373251051, 0.12426253119753153, 0.25987383036948836, 0.3898107455542325, 0.3898107455542325, 0.7898721579952399, 0.5980784380583, 0.5980784380583, 0.45433639037806084, 0.45433639037806084, 0.464442715758518, 0.3096284771723453, 0.3096284771723453, 0.8363016278974105, 0.8603966364331384, 1.028201092119337, 1.0073034319870808, 1.0072617238326227, 0.8602895627993374, 1.028294525390056, 0.6128000710311381, 0.30640003551556905, 0.36279684235681176, 0.24186456157120784, 0.36279684235681176, 0.4353678302061581, 0.4353678302061581, 0.21768391510307905, 1.0280585646307197, 0.7929849428351111, 0.39649247141755556, 1.0280891987641407, 1.0075300175422102, 0.42538501948349594, 0.6380775292252439, 0.789879529880366, 0.8603734684136286, 0.7448494009431749, 0.8604112909613875, 0.860401145650862, 0.5252272571118952, 0.2626136285559476, 0.2626136285559476, 1.0072457373622083, 0.16976435226753903, 0.5941752329363866, 0.16976435226753903, 0.3782036005131738, 0.7564072010263476, 0.7448936902278942, 1.0072148723728649, 0.789914833238972, 0.5752933063672909, 0.265143888404871, 0.265143888404871, 0.530287776809742, 0.5945696076787329, 0.29728480383936645, 1.0073263781563604, 0.860378547812351, 0.8603273072928316, 0.7465598251336084, 0.24885327504453617, 1.007340606420248, 1.0280175468837136, 0.32216726772249155, 0.32216726772249155, 0.32216726772249155, 0.11445659524854822, 0.9156527619883857, 0.5753901499327622, 0.4141265079121108, 0.4141265079121108, 0.7775991287138622, 0.8603835517183991, 0.8603101871859884, 0.21847184282297086, 0.5097676332535988, 0.21847184282297086, 0.789922720477921, 0.7378752656656423, 0.24595842188854744, 0.7776152985616178, 0.42531522259461035, 0.6379728338919156, 0.7919944083551561, 0.39599720417757805, 1.0280782378427262, 1.0072829656216167, 1.028183431746738, 0.37819815875943413, 0.7563963175188683, 0.7898888963158607, 0.8604069786424573, 0.7776245640400887, 0.4323793629654972, 0.4323793629654972, 0.2161896814827486, 0.42550114921557486, 0.6382517238233623, 1.007409488746543, 0.497065521891063, 0.497065521891063, 1.028204366343364, 0.7935470086635935, 0.39677350433179676, 1.0073180130325665, 0.4338708892367351, 0.4338708892367351, 0.21693544461836756, 0.5127570157578907, 0.7501895193727646, 0.3750947596863823, 0.4971688156492955, 0.4971688156492955, 1.0280595038565619, 0.39576275175876136, 0.39576275175876136, 0.39576275175876136, 0.49709822722854735, 0.49709822722854735, 0.6646300065501781, 0.26585200262007125], \"Term\": [\"able\", \"able\", \"account\", \"account\", \"ago\", \"ago\", \"aka\", \"android\", \"anymore\", \"applied\", \"applied\", \"applied\", \"april\", \"april\", \"asap\", \"becz\", \"believe\", \"beware\", \"calling\", \"calling\", \"calling\", \"card\", \"care\", \"care\", \"care\", \"chargers\", \"charging\", \"check\", \"chosen\", \"come\", \"company\", \"company\", \"complain\", \"complain\", \"complained\", \"completed\", \"cons\", \"contactless\", \"ct_ct\", \"customer\", \"customer\", \"customer\", \"day\", \"days\", \"days\", \"days\", \"deactivate\", \"debit\", \"debit\", \"deducted\", \"delayed\", \"delivered\", \"didnt\", \"distt\", \"doesnt\", \"doesnt\", \"dont\", \"dont\", \"edc\", \"edc\", \"embarrassing\", \"executive\", \"executive\", \"experience\", \"fake\", \"faulty\", \"faulty\", \"fed\", \"felix\", \"file\", \"getting\", \"getting\", \"got\", \"hdfc\", \"hell\", \"help\", \"help\", \"help\", \"hospital\", \"installation\", \"installed\", \"installed\", \"issue\", \"jan\", \"khagaria\", \"kindly\", \"kindly\", \"know\", \"know\", \"know\", \"like\", \"long\", \"look\", \"look\", \"machine\", \"machine\", \"machine\", \"machines\", \"machines\", \"machines\", \"maheshkhunt\", \"mail\", \"mail\", \"money\", \"money\", \"month\", \"month\", \"month\", \"need\", \"no\", \"november\", \"offer\", \"operations\", \"ordered\", \"paid\", \"pathetic\", \"pathetic\", \"payment\", \"payment\", \"payment\", \"people\", \"people\", \"people\", \"person\", \"phone\", \"phone\", \"picking\", \"pin\", \"pinelab\", \"pinelab\", \"pinlab\", \"placed\", \"pls\", \"plutussupport\", \"plz\", \"poor\", \"poor\", \"poor\", \"poorest\", \"pos\", \"pos\", \"pos\", \"problem\", \"problem\", \"promised\", \"provided\", \"raised\", \"receive\", \"received\", \"received\", \"received\", \"refund\", \"refund\", \"rental\", \"reply\", \"reps\", \"request\", \"request\", \"resolution\", \"resolved\", \"responding\", \"responding\", \"responding\", \"response\", \"response\", \"rs\", \"sales\", \"sales\", \"scam\", \"second\", \"sense\", \"service\", \"service\", \"service\", \"servicepoor\", \"services\", \"services\", \"settled\", \"shame\", \"shame\", \"shop\", \"shop\", \"showing\", \"simple\", \"solution\", \"solutions\", \"solutions\", \"statebihar\", \"success\", \"sudha\", \"support\", \"support\", \"support\", \"swipe\", \"swipe\", \"swiping\", \"team\", \"team\", \"thanks\", \"tid\", \"tid\", \"time\", \"times\", \"times\", \"times\", \"today\", \"total\", \"total\", \"ur\", \"ur\", \"waiting\", \"work\", \"work\", \"work\", \"working\", \"working\", \"worst\", \"worst\"]}, \"R\": 30, \"lambda.step\": 0.01, \"plot.opts\": {\"xlab\": \"PC1\", \"ylab\": \"PC2\"}, \"topic.order\": [3, 1, 2]};\n",
       "\n",
       "function LDAvis_load_lib(url, callback){\n",
       "  var s = document.createElement('script');\n",
       "  s.src = url;\n",
       "  s.async = true;\n",
       "  s.onreadystatechange = s.onload = callback;\n",
       "  s.onerror = function(){console.warn(\"failed to load library \" + url);};\n",
       "  document.getElementsByTagName(\"head\")[0].appendChild(s);\n",
       "}\n",
       "\n",
       "if(typeof(LDAvis) !== \"undefined\"){\n",
       "   // already loaded: just create the visualization\n",
       "   !function(LDAvis){\n",
       "       new LDAvis(\"#\" + \"ldavis_el9153563300097448697462312\", ldavis_el9153563300097448697462312_data);\n",
       "   }(LDAvis);\n",
       "}else if(typeof define === \"function\" && define.amd){\n",
       "   // require.js is available: use it to load d3/LDAvis\n",
       "   require.config({paths: {d3: \"https://d3js.org/d3.v5\"}});\n",
       "   require([\"d3\"], function(d3){\n",
       "      window.d3 = d3;\n",
       "      LDAvis_load_lib(\"https://cdn.jsdelivr.net/gh/bmabey/pyLDAvis@3.3.1/pyLDAvis/js/ldavis.v3.0.0.js\", function(){\n",
       "        new LDAvis(\"#\" + \"ldavis_el9153563300097448697462312\", ldavis_el9153563300097448697462312_data);\n",
       "      });\n",
       "    });\n",
       "}else{\n",
       "    // require.js not available: dynamically load d3 & LDAvis\n",
       "    LDAvis_load_lib(\"https://d3js.org/d3.v5.js\", function(){\n",
       "         LDAvis_load_lib(\"https://cdn.jsdelivr.net/gh/bmabey/pyLDAvis@3.3.1/pyLDAvis/js/ldavis.v3.0.0.js\", function(){\n",
       "                 new LDAvis(\"#\" + \"ldavis_el9153563300097448697462312\", ldavis_el9153563300097448697462312_data);\n",
       "            })\n",
       "         });\n",
       "}\n",
       "</script>"
      ],
      "text/plain": [
       "PreparedData(topic_coordinates=              x         y  topics  cluster       Freq\n",
       "topic                                                \n",
       "2      0.064744  0.064334       1        1  42.038924\n",
       "0     -0.094239  0.018327       2        1  36.857870\n",
       "1      0.029496 -0.082660       3        1  21.103206, topic_info=         Term       Freq      Total Category  logprob  loglift\n",
       "14   response   8.000000   8.000000  Default  30.0000  30.0000\n",
       "89    getting   4.000000   4.000000  Default  29.0000  29.0000\n",
       "199    faulty   2.000000   2.000000  Default  28.0000  28.0000\n",
       "198    doesnt   2.000000   2.000000  Default  27.0000  27.0000\n",
       "46        pos  11.000000  11.000000  Default  26.0000  26.0000\n",
       "..        ...        ...        ...      ...      ...      ...\n",
       "443      poor   1.370039   3.807875   Topic3  -4.9932   0.5335\n",
       "9     machine   3.216952  24.142434   Topic3  -4.1396  -0.4598\n",
       "311     debit   0.893036   1.815526   Topic3  -5.4212   0.8462\n",
       "72   customer   1.335372  10.045813   Topic3  -5.0188  -0.4622\n",
       "279      work   0.810886   2.526766   Topic3  -5.5177   0.4192\n",
       "\n",
       "[195 rows x 6 columns], token_table=      Topic      Freq     Term\n",
       "term                          \n",
       "23        1  0.410688     able\n",
       "23        3  0.410688     able\n",
       "101       1  0.448055  account\n",
       "101       3  0.448055  account\n",
       "146       1  0.598166      ago\n",
       "...     ...       ...      ...\n",
       "279       3  0.395763     work\n",
       "54        1  0.497098  working\n",
       "54        2  0.497098  working\n",
       "55        1  0.664630    worst\n",
       "55        2  0.265852    worst\n",
       "\n",
       "[218 rows x 3 columns], R=30, lambda_step=0.01, plot_opts={'xlab': 'PC1', 'ylab': 'PC2'}, topic_order=[3, 1, 2])"
      ]
     },
     "execution_count": 44,
     "metadata": {},
     "output_type": "execute_result"
    }
   ],
   "source": [
    "import pyLDAvis.gensim_models\n",
    "\n",
    "import pyLDAvis\n",
    "# Visualize the topics\n",
    "pyLDAvis.enable_notebook()\n",
    "LDAvis_prepared = pyLDAvis.gensim_models.prepare(pre_lda_model, pre_corpus, pre_id2word)\n",
    "LDAvis_prepared\n"
   ]
  },
  {
   "cell_type": "code",
   "execution_count": 45,
   "metadata": {},
   "outputs": [],
   "source": [
    "pre_queries_topic_sents_keywords = processor.dominant_topics(ldamodel=pre_lda_model, \n",
    "                                                         corpus=pre_corpus, \n",
    "                                                         texts=pre_queries['bigram'].values.tolist(),\n",
    "                                                         tweets=pre_queries['tweet'].values.tolist())"
   ]
  },
  {
   "cell_type": "code",
   "execution_count": 46,
   "metadata": {},
   "outputs": [
    {
     "data": {
      "text/plain": [
       "array(['machine, response, pos, service, customer, swipe, pinelab, shame, machines, ct_ct',\n",
       "       'payment, machine, service, machines, getting, pos, know, help, faulty, month',\n",
       "       'machine, customer, worst, company, need, help, service, services, month, payment'],\n",
       "      dtype=object)"
      ]
     },
     "execution_count": 46,
     "metadata": {},
     "output_type": "execute_result"
    }
   ],
   "source": [
    "pre_queries_topic_sents_keywords['Topic_Keywords'].unique()"
   ]
  },
  {
   "cell_type": "markdown",
   "metadata": {},
   "source": [
    "Following topics were discussed pre-COVID:\n",
    "1. POS machine not working as expected\n",
    "2. No follows\n",
    "3. Issues related to payments"
   ]
  },
  {
   "cell_type": "code",
   "execution_count": 57,
   "metadata": {},
   "outputs": [
    {
     "data": {
      "text/plain": [
       "array([\"@PineLabs worst service ever in finance sector. From the day of its installation, it's pos machine is not working properly and tired of calling your peoples in Jharkhand. Business is suffering a lot and I become stupid by paying advance rental. https://t.co/4ZnJGVQS0V\",\n",
       "       '@PineLabs applied for swiping machine and it was promised to get on 17th, but now your team is requesting for one more week. Can u pl help to expedite this?',\n",
       "       '@EOWDelhi @PunePolice Dear authorities we have informed Pine Labs Private Limited to discontinue services and stop use of ECS mandate to our account. How can we file FIR in this regard. @PineLabs is not responding. Pls guide. #pinelabs',\n",
       "       '@PineLabs i m from tunmarg aircon Indore(M P) my swipe machine is not working from last three month ur sumeet makwana 📱9907650650 know that but no one give resolution &amp; rental deduct every month why ?\\nJust take machine &amp; give my payment back \\nCall back ASAP\\n9827788674\\n9036699339',\n",
       "       '@PineLabs Been 2 months from the time we applied for upgrading and still there has been no response and you people have taken my money and providing me worst customer support. Kindly take your machine and refund my amount. There are tons of other company out there. @mswipe is one',\n",
       "       '@_vickybindra As last resort I had to directly contact you. We have been facing utter inefficiency by the @PineLabs team down in Chennai! Instead of solving prob, they are ready to let go off customer, when it’s completely their fault. Kindly intervene!\\nRegards',\n",
       "       '@PineLabs Fund is not credited after Swap on EDC machine. Cgeck at Priority.',\n",
       "       '@PineLabs Despite of calling several times none of your technical executive is receiving the call as it is urgent. As this is happening again and again I would request you to look after it. Thankyou',\n",
       "       'Pine Labs has opened its Payment Gateway APIs for developers. We believe that, together with the developer community, we can build much more valuable technology solutions for our merchants. https://t.co/hq8WACvK7f',\n",
       "       'The poorest service is provided by @PineLabs and the customer care executive do not know how to talk to a customer , pine labs catalog machine is a vain Investment on the part of a business man ....',\n",
       "       'Dear @PineLabs I am not using any of your products but still I get daily mail from your executive (rakesh.thakur@pinelabs.com &amp; navision@pinelabs.com) regarding payment collection. Have replied to them several times to remove my mail from your database. Pls look into it.',\n",
       "       '@PineLabs Poorest Level of Services I have ever experienced in my life. From last 3 months I have been trying to put through a simple request of account change and still your incompetent executives and managers have been close on to such a simple request.. Shame on @PineLabs',\n",
       "       '@PineLabs ur card swiping machine does not show the total amount while entering the pin. Make sure that it shows the total amount simultaneously while we enter the pin like in all other machines of @HDFC_Bank @ICICIBank. It will ensure safety of transaction. #DigitalIndia',\n",
       "       '@PineLabs Hi, I have been using your machine yesterday and today I called three times to customer care about some issue they said they will call but I have not been received any call yet. No response',\n",
       "       'Never believe the @PineLabs they charge and cheat the retailer never take there edc machine and they have the worst service centre and worst workers',\n",
       "       \"@FinMinIndia @RBI\\n\\nAnother Scam seems to be brewing.  It's the @PineLabs \\n\\nWonder who are the promoters.  Running such pathetic operations.\\n\\nTaking traders money on false promises.. Regulatory agencies need to keep track\",\n",
       "       '@PineLabs @Apple @imaginestore I bought a Mac air which was on offer with ICICI credit card. But I was not able to get the offer because the card machine did not allow it. Unfortunately I had to buy it that very day. Can someone pls help me undrstnd why this happnd.',\n",
       "       '@PineLabs \\nWorst services provided by Pinelabs. POS machine upgraded to android in April still sending me bill to pay as full amount was settled then also charging me. As staff is also useless.Better not install .Totally feed up .😡',\n",
       "       '@PineLabs Nothing can be worst!!!! Need refund and deinstallation asap.',\n",
       "       '@PineLabs how would somebody trust your company at the time@of installation the machine charges were refundable now they arent! @CimGOI please help US!\\ncompanies butter businesses in the beggining and later we keep chasing them .',\n",
       "       '@PineLabs  What is the problem with your company.. Dont you care about your customers or what ???? I spoke with Akansha like almost a week ago and she promised a resolution and again you are back to square one... Pathetic...',\n",
       "       \"According to @PineLabs refund through NEFT is taking more than 45 days. SERIOUSLY?!\\nI've never come across such an irresponsible company with faulty deliverables, pathetic operations, and poor customer support. #FalseHopes FYI: #FakePromises @_vickybindra #PineLabs\",\n",
       "       '@PineLabs people beware to tale edc machine of pinelabs company. our complain from 15.09.2019 is pending complain no. 1995314. Ms. Sudha at their call centre promised on 19.09.19 that their engineer will come before EOD but no one turn up till 4.50pm of 20.09.19.',\n",
       "       \"@PineLabs it's been 1 month and I have not yet received my swipe machine. If this the the way you work then you need to improve heavily in customer service\",\n",
       "       '@PineLabs @AxisBankSupport  need help regarding my existing account with axisbank and pinelabs',\n",
       "       '@PineLabs I have sent 7 mails to deinstall 22 machines. U have not done process in last one month. So we wil handover your machines to nearest police station. Such poor services from VC funded company.. shame on you #boycottpinelab @EconomicTimes @bsindia',\n",
       "       '@PineLabs worst customer support ever .... Pune teams just sucks',\n",
       "       '@Rekha_i_am @PineLabs @itsme_rooh @Aka5hKr @sanketdhende @imPalak18 @ranchikuldeep @sanjeev_mahto_ @avii4ever @am_vaishali @Zaaid08 @wasimkh00 @Warsibhai_707 @blessedkamal @SunilDSouza_ @JainShantilal12 @taukirmukadam @SushmaSonu333 @chilled_Sup @SujithDifferent @Chhayadhamecha @Smiley_Bharati @Sana_Tokre Thank You 😊',\n",
       "       '@PineLabs PineLab has a very useless service.  I applied for PineLab 15 days ago.  And the payment was also made for 1 year, but till date Pine Lab machine has not been installed and no correct answer is available.pls help me\\nDharmesh jain 7987671117\\nMi store ranapur(mp)',\n",
       "       '@PineLabs Hello, I have Pax A920 terminal here. Do you need it.',\n",
       "       \"@PineLabs  You're deducting money even deactivating the POS. Should I need to file a complaint in consumer forum? @consumerforum\"],\n",
       "      dtype=object)"
      ]
     },
     "execution_count": 57,
     "metadata": {},
     "output_type": "execute_result"
    }
   ],
   "source": [
    "select = pre_queries_topic_sents_keywords['Topic_Keywords'].unique()[2]\n",
    "pre_queries_topic_sents_keywords[pre_queries_topic_sents_keywords['Topic_Keywords'] == select]['Text'].values"
   ]
  },
  {
   "cell_type": "code",
   "execution_count": 51,
   "metadata": {},
   "outputs": [
    {
     "name": "stderr",
     "output_type": "stream",
     "text": [
      "/Users/pushkar/miniforge3/envs/project/lib/python3.8/site-packages/plotly/io/_renderers.py:395: DeprecationWarning:\n",
      "\n",
      "distutils Version classes are deprecated. Use packaging.version instead.\n",
      "\n",
      "/Users/pushkar/miniforge3/envs/project/lib/python3.8/site-packages/plotly/io/_renderers.py:395: DeprecationWarning:\n",
      "\n",
      "distutils Version classes are deprecated. Use packaging.version instead.\n",
      "\n"
     ]
    },
    {
     "data": {
      "image/svg+xml": "<svg class=\"main-svg\" xmlns=\"http://www.w3.org/2000/svg\" xmlns:xlink=\"http://www.w3.org/1999/xlink\" width=\"900\" height=\"500\" style=\"\" viewBox=\"0 0 900 500\"><rect x=\"0\" y=\"0\" width=\"900\" height=\"500\" style=\"fill: rgb(255, 255, 255); fill-opacity: 1;\"/><defs id=\"defs-e0d2b7\"><g class=\"clips\"><clipPath id=\"clipe0d2b7xyplot\" class=\"plotclip\"><rect width=\"740\" height=\"320\"/></clipPath><clipPath class=\"axesclip\" id=\"clipe0d2b7x\"><rect x=\"80\" y=\"0\" width=\"740\" height=\"500\"/></clipPath><clipPath class=\"axesclip\" id=\"clipe0d2b7y\"><rect x=\"0\" y=\"100\" width=\"900\" height=\"320\"/></clipPath><clipPath class=\"axesclip\" id=\"clipe0d2b7xy\"><rect x=\"80\" y=\"100\" width=\"740\" height=\"320\"/></clipPath></g><g class=\"gradients\"/><g class=\"patterns\"/></defs><g class=\"bglayer\"><rect class=\"bg\" x=\"80\" y=\"100\" width=\"740\" height=\"320\" style=\"fill: rgb(229, 236, 246); fill-opacity: 1; stroke-width: 0;\"/></g><g class=\"layer-below\"><g class=\"imagelayer\"/><g class=\"shapelayer\"/></g><g class=\"cartesianlayer\"><g class=\"subplot xy\"><g class=\"layer-subplot\"><g class=\"shapelayer\"/><g class=\"imagelayer\"/></g><g class=\"minor-gridlayer\"><g class=\"x\"/><g class=\"y\"/></g><g class=\"gridlayer\"><g class=\"x\"/><g class=\"y\"><path class=\"ygrid crisp\" transform=\"translate(0,370.97)\" d=\"M80,0h740\" style=\"stroke: rgb(255, 255, 255); stroke-opacity: 1; stroke-width: 1px;\"/><path class=\"ygrid crisp\" transform=\"translate(0,321.94)\" d=\"M80,0h740\" style=\"stroke: rgb(255, 255, 255); stroke-opacity: 1; stroke-width: 1px;\"/><path class=\"ygrid crisp\" transform=\"translate(0,272.9)\" d=\"M80,0h740\" style=\"stroke: rgb(255, 255, 255); stroke-opacity: 1; stroke-width: 1px;\"/><path class=\"ygrid crisp\" transform=\"translate(0,223.87)\" d=\"M80,0h740\" style=\"stroke: rgb(255, 255, 255); stroke-opacity: 1; stroke-width: 1px;\"/><path class=\"ygrid crisp\" transform=\"translate(0,174.84)\" d=\"M80,0h740\" style=\"stroke: rgb(255, 255, 255); stroke-opacity: 1; stroke-width: 1px;\"/><path class=\"ygrid crisp\" transform=\"translate(0,125.81)\" d=\"M80,0h740\" style=\"stroke: rgb(255, 255, 255); stroke-opacity: 1; stroke-width: 1px;\"/></g></g><g class=\"zerolinelayer\"><path class=\"yzl zl crisp\" transform=\"translate(0,420)\" d=\"M80,0h740\" style=\"stroke: rgb(255, 255, 255); stroke-opacity: 1; stroke-width: 2px;\"/></g><path class=\"xlines-below\"/><path class=\"ylines-below\"/><g class=\"overlines-below\"/><g class=\"xaxislayer-below\"/><g class=\"yaxislayer-below\"/><g class=\"overaxes-below\"/><g class=\"plot\" transform=\"translate(80,100)\" clip-path=\"url(#clipe0d2b7xyplot)\"><g class=\"barlayer mlayer\"><g class=\"trace bars\" style=\"opacity: 1;\"><g class=\"points\"><g class=\"point\"><path d=\"M518,320V16H715.33V320Z\" style=\"vector-effect: non-scaling-stroke; opacity: 1; stroke-width: 0.5px; fill: rgb(99, 110, 250); fill-opacity: 1; stroke: rgb(229, 236, 246); stroke-opacity: 1;\"/></g><g class=\"point\"><path d=\"M24.67,320V55.23H222V320Z\" style=\"vector-effect: non-scaling-stroke; opacity: 1; stroke-width: 0.5px; fill: rgb(99, 110, 250); fill-opacity: 1; stroke: rgb(229, 236, 246); stroke-opacity: 1;\"/></g><g class=\"point\"><path d=\"M271.33,320V172.9H468.67V320Z\" style=\"vector-effect: non-scaling-stroke; opacity: 1; stroke-width: 0.5px; fill: rgb(99, 110, 250); fill-opacity: 1; stroke: rgb(229, 236, 246); stroke-opacity: 1;\"/></g></g></g></g></g><g class=\"overplot\"/><path class=\"xlines-above crisp\" d=\"M0,0\" style=\"fill: none;\"/><path class=\"ylines-above crisp\" d=\"M0,0\" style=\"fill: none;\"/><g class=\"overlines-above\"/><g class=\"xaxislayer-above\"><g class=\"xtick\"><text text-anchor=\"middle\" x=\"0\" y=\"433\" transform=\"translate(80,0)\" style=\"font-family: 'Open Sans', verdana, arial, sans-serif; font-size: 12px; fill: rgb(42, 63, 95); fill-opacity: 1; white-space: pre; opacity: 1;\">−0.5</text></g><g class=\"xtick\"><text text-anchor=\"middle\" x=\"0\" y=\"433\" style=\"font-family: 'Open Sans', verdana, arial, sans-serif; font-size: 12px; fill: rgb(42, 63, 95); fill-opacity: 1; white-space: pre; opacity: 1;\" transform=\"translate(203.32999999999998,0)\">0</text></g><g class=\"xtick\"><text text-anchor=\"middle\" x=\"0\" y=\"433\" style=\"font-family: 'Open Sans', verdana, arial, sans-serif; font-size: 12px; fill: rgb(42, 63, 95); fill-opacity: 1; white-space: pre; opacity: 1;\" transform=\"translate(326.66999999999996,0)\">0.5</text></g><g class=\"xtick\"><text text-anchor=\"middle\" x=\"0\" y=\"433\" style=\"font-family: 'Open Sans', verdana, arial, sans-serif; font-size: 12px; fill: rgb(42, 63, 95); fill-opacity: 1; white-space: pre; opacity: 1;\" transform=\"translate(450,0)\">1</text></g><g class=\"xtick\"><text text-anchor=\"middle\" x=\"0\" y=\"433\" style=\"font-family: 'Open Sans', verdana, arial, sans-serif; font-size: 12px; fill: rgb(42, 63, 95); fill-opacity: 1; white-space: pre; opacity: 1;\" transform=\"translate(573.3299999999999,0)\">1.5</text></g><g class=\"xtick\"><text text-anchor=\"middle\" x=\"0\" y=\"433\" style=\"font-family: 'Open Sans', verdana, arial, sans-serif; font-size: 12px; fill: rgb(42, 63, 95); fill-opacity: 1; white-space: pre; opacity: 1;\" transform=\"translate(696.67,0)\">2</text></g><g class=\"xtick\"><text text-anchor=\"middle\" x=\"0\" y=\"433\" style=\"font-family: 'Open Sans', verdana, arial, sans-serif; font-size: 12px; fill: rgb(42, 63, 95); fill-opacity: 1; white-space: pre; opacity: 1;\" transform=\"translate(820,0)\">2.5</text></g></g><g class=\"yaxislayer-above\"><g class=\"ytick\"><text text-anchor=\"end\" x=\"79\" y=\"4.199999999999999\" transform=\"translate(0,420)\" style=\"font-family: 'Open Sans', verdana, arial, sans-serif; font-size: 12px; fill: rgb(42, 63, 95); fill-opacity: 1; white-space: pre; opacity: 1;\">0</text></g><g class=\"ytick\"><text text-anchor=\"end\" x=\"79\" y=\"4.199999999999999\" style=\"font-family: 'Open Sans', verdana, arial, sans-serif; font-size: 12px; fill: rgb(42, 63, 95); fill-opacity: 1; white-space: pre; opacity: 1;\" transform=\"translate(0,370.97)\">5</text></g><g class=\"ytick\"><text text-anchor=\"end\" x=\"79\" y=\"4.199999999999999\" style=\"font-family: 'Open Sans', verdana, arial, sans-serif; font-size: 12px; fill: rgb(42, 63, 95); fill-opacity: 1; white-space: pre; opacity: 1;\" transform=\"translate(0,321.94)\">10</text></g><g class=\"ytick\"><text text-anchor=\"end\" x=\"79\" y=\"4.199999999999999\" style=\"font-family: 'Open Sans', verdana, arial, sans-serif; font-size: 12px; fill: rgb(42, 63, 95); fill-opacity: 1; white-space: pre; opacity: 1;\" transform=\"translate(0,272.9)\">15</text></g><g class=\"ytick\"><text text-anchor=\"end\" x=\"79\" y=\"4.199999999999999\" style=\"font-family: 'Open Sans', verdana, arial, sans-serif; font-size: 12px; fill: rgb(42, 63, 95); fill-opacity: 1; white-space: pre; opacity: 1;\" transform=\"translate(0,223.87)\">20</text></g><g class=\"ytick\"><text text-anchor=\"end\" x=\"79\" y=\"4.199999999999999\" style=\"font-family: 'Open Sans', verdana, arial, sans-serif; font-size: 12px; fill: rgb(42, 63, 95); fill-opacity: 1; white-space: pre; opacity: 1;\" transform=\"translate(0,174.84)\">25</text></g><g class=\"ytick\"><text text-anchor=\"end\" x=\"79\" y=\"4.199999999999999\" style=\"font-family: 'Open Sans', verdana, arial, sans-serif; font-size: 12px; fill: rgb(42, 63, 95); fill-opacity: 1; white-space: pre; opacity: 1;\" transform=\"translate(0,125.81)\">30</text></g></g><g class=\"overaxes-above\"/></g></g><g class=\"polarlayer\"/><g class=\"smithlayer\"/><g class=\"ternarylayer\"/><g class=\"geolayer\"/><g class=\"funnelarealayer\"/><g class=\"pielayer\"/><g class=\"iciclelayer\"/><g class=\"treemaplayer\"/><g class=\"sunburstlayer\"/><g class=\"glimages\"/><defs id=\"topdefs-e0d2b7\"><g class=\"clips\"/></defs><g class=\"layer-above\"><g class=\"imagelayer\"/><g class=\"shapelayer\"/></g><g class=\"infolayer\"><g class=\"g-gtitle\"><text class=\"gtitle\" x=\"45\" y=\"50\" text-anchor=\"start\" dy=\"0em\" style=\"font-family: 'Open Sans', verdana, arial, sans-serif; font-size: 17px; fill: rgb(42, 63, 95); opacity: 1; font-weight: normal; white-space: pre;\">Topics Distribution</text></g><g class=\"g-xtitle\"><text class=\"xtitle\" x=\"450\" y=\"460.3\" text-anchor=\"middle\" style=\"font-family: 'Open Sans', verdana, arial, sans-serif; font-size: 14px; fill: rgb(42, 63, 95); opacity: 1; font-weight: normal; white-space: pre;\">Topic_Numbers</text></g><g class=\"g-ytitle\"><text class=\"ytitle\" transform=\"rotate(-90,38.934375,260)\" x=\"38.934375\" y=\"260\" text-anchor=\"middle\" style=\"font-family: 'Open Sans', verdana, arial, sans-serif; font-size: 14px; fill: rgb(42, 63, 95); opacity: 1; font-weight: normal; white-space: pre;\">Document_Counts</text></g></g></svg>"
     },
     "metadata": {},
     "output_type": "display_data"
    }
   ],
   "source": [
    "pre_queries_dist, fig = processor.plot_topic_distribution(pre_queries_topic_sents_keywords)\n",
    "fig.show()"
   ]
  },
  {
   "cell_type": "code",
   "execution_count": 63,
   "metadata": {},
   "outputs": [
    {
     "name": "stdout",
     "output_type": "stream",
     "text": [
      "Post-COVID coherence Score:  -8.936753749935182\n"
     ]
    }
   ],
   "source": [
    "post_lda_model = gensim.models.LdaMulticore(corpus=post_corpus,\n",
    "                                        id2word=post_id2word,\n",
    "                                        num_topics=4,\n",
    "                                        random_state=100,\n",
    "                                        chunksize=100,\n",
    "                                        passes=10,\n",
    "                                        per_word_topics=True,\n",
    "                                        alpha='symmetric',\n",
    "                                        eta='symmetric')\n",
    "post_coherence_model = gensim.models.CoherenceModel(model=post_lda_model, \n",
    "                                                    texts=post_queries['bigram'].values.tolist(), \n",
    "                                                    dictionary=post_id2word, \n",
    "                                                    coherence='u_mass')\n",
    "post_coherence_model_score = post_coherence_model.get_coherence()\n",
    "print('Post-COVID coherence Score: ', post_coherence_model_score)"
   ]
  },
  {
   "cell_type": "code",
   "execution_count": 64,
   "metadata": {},
   "outputs": [
    {
     "name": "stderr",
     "output_type": "stream",
     "text": [
      "/Users/pushkar/miniforge3/envs/project/lib/python3.8/site-packages/past/builtins/misc.py:45: DeprecationWarning: the imp module is deprecated in favour of importlib; see the module's documentation for alternative uses\n",
      "  from imp import reload\n",
      "/Users/pushkar/miniforge3/envs/project/lib/python3.8/site-packages/past/builtins/misc.py:45: DeprecationWarning: the imp module is deprecated in favour of importlib; see the module's documentation for alternative uses\n",
      "  from imp import reload\n",
      "/Users/pushkar/miniforge3/envs/project/lib/python3.8/site-packages/past/builtins/misc.py:45: DeprecationWarning: the imp module is deprecated in favour of importlib; see the module's documentation for alternative uses\n",
      "  from imp import reload\n",
      "/Users/pushkar/miniforge3/envs/project/lib/python3.8/site-packages/past/builtins/misc.py:45: DeprecationWarning: the imp module is deprecated in favour of importlib; see the module's documentation for alternative uses\n",
      "  from imp import reload\n",
      "/Users/pushkar/miniforge3/envs/project/lib/python3.8/site-packages/past/builtins/misc.py:45: DeprecationWarning: the imp module is deprecated in favour of importlib; see the module's documentation for alternative uses\n",
      "  from imp import reload\n",
      "/Users/pushkar/miniforge3/envs/project/lib/python3.8/site-packages/past/builtins/misc.py:45: DeprecationWarning: the imp module is deprecated in favour of importlib; see the module's documentation for alternative uses\n",
      "  from imp import reload\n",
      "/Users/pushkar/miniforge3/envs/project/lib/python3.8/site-packages/past/builtins/misc.py:45: DeprecationWarning: the imp module is deprecated in favour of importlib; see the module's documentation for alternative uses\n",
      "  from imp import reload\n",
      "/Users/pushkar/miniforge3/envs/project/lib/python3.8/site-packages/past/builtins/misc.py:45: DeprecationWarning: the imp module is deprecated in favour of importlib; see the module's documentation for alternative uses\n",
      "  from imp import reload\n"
     ]
    },
    {
     "data": {
      "text/html": [
       "\n",
       "<link rel=\"stylesheet\" type=\"text/css\" href=\"https://cdn.jsdelivr.net/gh/bmabey/pyLDAvis@3.3.1/pyLDAvis/js/ldavis.v1.0.0.css\">\n",
       "\n",
       "\n",
       "<div id=\"ldavis_el9153563383054889449993004\"></div>\n",
       "<script type=\"text/javascript\">\n",
       "\n",
       "var ldavis_el9153563383054889449993004_data = {\"mdsDat\": {\"x\": [0.003861734682558611, -0.08709281419953871, -0.013195502944458716, 0.0964265824614388], \"y\": [0.08732304683182633, 0.012323669940669945, -0.09436672337908598, -0.005279993393410285], \"topics\": [1, 2, 3, 4], \"cluster\": [1, 1, 1, 1], \"Freq\": [26.941582591099806, 24.505463775479612, 24.28665553869344, 24.266298094727144]}, \"tinfo\": {\"Term\": [\"bank\", \"card\", \"dont\", \"refund\", \"transaction\", \"ur\", \"trying\", \"following\", \"service\", \"guys\", \"gift\", \"customer\", \"sales\", \"support\", \"received\", \"issue\", \"response\", \"th\", \"proper\", \"know\", \"deducted\", \"time\", \"machines\", \"cashback\", \"payment\", \"help\", \"people\", \"action\", \"machine\", \"charges\", \"proper\", \"visited\", \"plutus\", \"bank\", \"axis\", \"recieved\", \"registered\", \"ill\", \"paid\", \"inr\", \"center\", \"useless\", \"stuck\", \"management\", \"integration\", \"awaiting\", \"fee\", \"shall\", \"bills\", \"showroom\", \"issue\", \"getting\", \"answer\", \"cashback\", \"tid\", \"install\", \"iphone\", \"deleted\", \"ecs\", \"disgusting\", \"emi\", \"hdfc\", \"resolve\", \"received\", \"account\", \"credit\", \"months\", \"team\", \"machine\", \"worst\", \"able\", \"response\", \"days\", \"help\", \"transaction\", \"service\", \"money\", \"time\", \"company\", \"poor\", \"purchased\", \"sales\", \"charges\", \"complaint\", \"false\", \"terminate\", \"refund\", \"math\", \"representative\", \"login\", \"commitments\", \"shops\", \"everyday\", \"sending\", \"provided\", \"talk\", \"horrible\", \"june\", \"swiped\", \"stopped\", \"terminals\", \"responding\", \"ordered\", \"rbi\", \"instead\", \"dint\", \"stupid\", \"following\", \"let\", \"printed\", \"respond\", \"long\", \"quality\", \"level\", \"day\", \"information\", \"kindly\", \"emails\", \"service\", \"th\", \"support\", \"response\", \"team\", \"raised\", \"connect\", \"request\", \"help\", \"machine\", \"know\", \"sales\", \"months\", \"payment\", \"solution\", \"settlement\", \"query\", \"sent\", \"days\", \"month\", \"pos\", \"working\", \"bad\", \"worst\", \"customer\", \"account\", \"services\", \"gift\", \"class\", \"opt\", \"december\", \"ask\", \"paylater\", \"tell\", \"dealer\", \"attended\", \"delhi\", \"helping\", \"signed\", \"encourage\", \"nos\", \"promised\", \"body\", \"waiver\", \"harassment\", \"matter\", \"charged\", \"card\", \"amazon\", \"fake\", \"ur\", \"right\", \"option\", \"machines\", \"guy\", \"applied\", \"digital\", \"rs\", \"action\", \"payments\", \"monthly\", \"store\", \"deducted\", \"machine\", \"employees\", \"charges\", \"time\", \"sales\", \"legal\", \"rent\", \"calls\", \"customer\", \"customer_care\", \"installation\", \"payment\", \"pos\", \"swipe_machine\", \"company\", \"complaint\", \"debited\", \"support\", \"team\", \"service\", \"worst\", \"month\", \"services\", \"days\", \"th\", \"pay\", \"rd\", \"partner\", \"india\", \"trying\", \"bob\", \"cleared\", \"st\", \"ji\", \"retail\", \"electronics\", \"sucks\", \"looting\", \"vendor\", \"trust\", \"bought\", \"isnt\", \"come\", \"appropriate\", \"solutions\", \"later\", \"dont\", \"complain\", \"application\", \"contact\", \"tens\", \"workin\", \"followup\", \"ledger\", \"passes\", \"people\", \"giving\", \"guys\", \"care\", \"best\", \"transaction\", \"epos\", \"customer\", \"service\", \"working\", \"business\", \"days\", \"payment\", \"want\", \"pathetic\", \"small\", \"customers\", \"cash\", \"know\", \"edc\", \"received\", \"month\", \"money\", \"pos\", \"customer_care\", \"use\", \"worst\", \"account\", \"machine\", \"months\"], \"Freq\": [11.0, 12.0, 12.0, 7.0, 15.0, 9.0, 6.0, 7.0, 46.0, 7.0, 4.0, 17.0, 14.0, 12.0, 15.0, 9.0, 13.0, 10.0, 4.0, 8.0, 6.0, 11.0, 6.0, 8.0, 21.0, 9.0, 7.0, 7.0, 36.0, 10.0, 3.8190211944052903, 3.1147349808850984, 3.110557694658291, 9.56968610179571, 2.384851309980969, 2.383997393314172, 2.382806289040485, 2.3764487362946056, 2.3476641654815147, 1.6510588229026708, 1.650874060262932, 1.6508105638954007, 1.6506578020774942, 1.6485027993651324, 1.64693324326693, 1.6435834309225636, 1.6429592464714489, 1.6414526814646433, 1.6341750208783865, 1.6229063525334637, 6.726535695639951, 4.531131103587431, 2.890265721416106, 5.295225842560578, 2.3901263928220144, 2.384914469497744, 2.369207624015389, 0.917189112788529, 0.9171879338108826, 0.9171859969190348, 4.363595348367798, 3.055776666740623, 4.58484835681723, 7.893066032965388, 7.403175893902782, 3.6610135996736393, 7.42292882224243, 10.26593034036398, 11.309458276684367, 6.7988764166240845, 3.136191026647756, 5.275962358369592, 8.01508550346404, 4.100479875349159, 5.294800736906338, 9.155786124809186, 4.080303525609051, 3.824995579416068, 3.8749296618037357, 3.1373757307570767, 3.0391729561200633, 3.5839367570582734, 3.233174064696811, 3.1141997250336027, 2.3264435677339215, 2.312450494222146, 5.982107328286768, 1.6135168397137645, 1.6135085671311387, 1.613471340509322, 1.613061847669338, 1.6128191852456437, 1.612704901048626, 1.611957151496826, 1.6108788050319374, 1.6104605800214038, 1.6102736809324474, 1.610226036984361, 1.6098318637418325, 1.6096923022090133, 1.6094787470204845, 1.6093281553774974, 1.6084137286053821, 1.6078752447548232, 1.605548044705367, 1.6052123923251183, 1.604412096554046, 5.19727699723767, 3.051452096287313, 1.4286554104149143, 2.321476954238867, 2.325420984603771, 0.8963715541423024, 0.8963674944489767, 2.1993353356863694, 3.051693226751262, 3.0542843834648754, 3.034261669590612, 17.747252394901402, 5.247971383569423, 5.695993623937738, 5.918518130384819, 9.88088850457825, 3.7661542124565814, 2.824640247296352, 3.0427239088330493, 4.146506726944716, 9.364597848461196, 3.7670660348971294, 4.8779406010628685, 5.298735627265574, 5.5213961717380595, 2.3288367952484106, 3.052787965185428, 2.3315998378454745, 2.327884069482657, 5.781484331145886, 3.7764790083576516, 3.75617717141775, 3.77531410616714, 3.0549183084075815, 3.766819389378097, 3.2815711399769554, 3.031553777544388, 2.694576252115747, 3.750116882095673, 2.986199898964783, 2.334635401927968, 1.6211394661032053, 1.6211277753399473, 1.6210995353144155, 1.6210462436533313, 1.6210208883615904, 1.6198873398098668, 1.6191591722698098, 1.6185905760568169, 1.61855823667274, 1.6178894339175374, 1.617922228785897, 1.617717868171027, 1.6174990838872025, 1.615958787870964, 1.6149725125706698, 1.6131165659464708, 2.1489719613813754, 9.66304743744186, 1.604816427689623, 3.060424706716635, 6.444907653941388, 1.4612401903553849, 1.4575361921678884, 4.347167805545661, 1.4402750079598916, 2.343705156794605, 2.334731812767821, 2.3347787276489465, 4.486494678177831, 2.3419899548137826, 4.507511937609654, 3.6431782821866188, 3.6382062157558868, 12.688606644249479, 2.34052405456373, 5.07314051867219, 5.235372784916366, 5.800554080413219, 2.273932707906843, 3.7919020992285497, 3.065684031901701, 6.270259797117431, 4.517856896639957, 2.2310611607595567, 6.700648110532821, 5.2248638515442645, 3.0647873351770185, 4.427178174657274, 3.984392186377225, 3.0163587279518276, 3.785084714140217, 4.742185942466725, 5.593118642978252, 3.7648718399517676, 3.3305970309795843, 3.1111358975108874, 3.7731485966821, 3.0646679982949325, 2.983831531139156, 2.893345323677229, 2.2693181963221183, 2.2664850316277643, 5.048017741810635, 1.6112424245576586, 1.6112311986962653, 1.6111899360706035, 1.6111743108851504, 1.6111453360266892, 1.6110761604483734, 1.6101127084793307, 1.6085638430087077, 1.6064993464181387, 1.6060475813474713, 1.60603119765787, 1.6038741635612208, 1.6016336940082698, 1.5914409152647673, 1.5252951059185562, 1.5006236965925657, 8.686018748351024, 2.329220151221182, 2.3259409860876867, 2.324213417039748, 0.8950886728193101, 0.895087914315162, 0.895087079960599, 0.8950867007085249, 0.8950861697556212, 4.458203399162543, 3.041358912951867, 4.714545640678032, 3.015771837418171, 3.7420881035845084, 7.375629409135145, 4.466534808726364, 7.372495876798104, 14.336120395911022, 6.321650880209752, 5.186179272405141, 9.153563132514362, 7.7192366426959875, 3.769729511753188, 3.763713967054649, 2.800204351696604, 3.045764305044609, 3.0511360314221565, 3.7606620497639542, 3.7693241671363906, 5.454806247104866, 4.734885687916145, 4.442028146501364, 4.317573089266477, 3.7617363950394638, 2.961519373115725, 3.7661527095919394, 3.635044964174027, 3.526216912802003, 3.0508244379180764], \"Total\": [11.0, 12.0, 12.0, 7.0, 15.0, 9.0, 6.0, 7.0, 46.0, 7.0, 4.0, 17.0, 14.0, 12.0, 15.0, 9.0, 13.0, 10.0, 4.0, 8.0, 6.0, 11.0, 6.0, 8.0, 21.0, 9.0, 7.0, 7.0, 36.0, 10.0, 4.39056298330603, 3.6573512835019475, 3.657227446015595, 11.691235363685205, 2.923532935566951, 2.9235162740013405, 2.923486340538378, 2.923349992954092, 2.9226486698711986, 2.1896463059724174, 2.1896424460981474, 2.1896402851690873, 2.189637489963287, 2.1895905229380133, 2.1895524142679736, 2.1895057236036286, 2.1894952790759046, 2.189466695129612, 2.189247320832038, 2.1890312817058915, 9.479566525556024, 6.557074413698295, 4.36935887401754, 8.008962832897463, 3.640749177586204, 3.644014429629606, 3.6392728851261986, 1.4557482132231938, 1.4557482045120151, 1.4557481740871916, 7.269528046185226, 5.090342723801048, 7.994086178221014, 15.95747673430545, 16.67075568652446, 6.54054516933776, 17.384609005589944, 27.505453013957816, 36.88887968219705, 18.09672035554589, 5.810548592338344, 13.032122665110592, 26.72328156380639, 9.416106247466445, 15.181938457664554, 46.83227755859986, 12.2914536174563, 11.586298177706482, 13.014941301728799, 7.96639277437384, 7.251653864772655, 14.452316315124767, 10.851833861400936, 10.843171486241161, 2.8735349140251545, 2.8736617485593974, 7.9254523182313665, 2.1563028506640842, 2.1563027115603357, 2.1563010470021498, 2.1563012537392376, 2.15631839187605, 2.156323091936684, 2.1563075396285867, 2.15631546194318, 2.156316456025084, 2.15630576694968, 2.1563796482874538, 2.1563197653933694, 2.1563434122846163, 2.1562967541742744, 2.1563296215493724, 2.156324960171941, 2.1563095603003277, 2.156426985390229, 2.156464971201053, 2.1563418170052167, 7.209966836957991, 4.3068286819000114, 2.1600806207497665, 3.5941333842496723, 3.607336038048345, 1.4390835881929303, 1.4390834718740029, 3.5946418258301316, 5.0317983331536045, 5.044835035133907, 5.058563310878982, 46.83227755859986, 10.058374768360691, 12.211254968559729, 13.032122665110592, 27.505453013957816, 7.195064758029407, 5.025701305752099, 5.765700781237125, 9.416106247466445, 36.88887968219705, 8.60943113400549, 14.452316315124767, 17.384609005589944, 21.573519390848247, 4.305828646316174, 7.185888983420204, 4.323297635586186, 4.327971671191989, 26.72328156380639, 12.943352875910055, 14.386955746805256, 15.12431069010124, 8.665624278496692, 18.09672035554589, 17.972679295167595, 16.67075568652446, 10.088758708332703, 4.324984130088992, 3.604067310514563, 2.883614706042299, 2.1630611546746454, 2.163061262668781, 2.163060147908009, 2.1630578061348045, 2.1630593729775054, 2.16305142312296, 2.1630500018537746, 2.1630483989566085, 2.163048538376549, 2.163043473980989, 2.1631130417334514, 2.163108192381694, 2.163042505513673, 2.1631544424859714, 2.163019989547643, 2.1630787252275447, 2.882415349336472, 12.968302817722215, 2.1631302051607, 4.3378364319450675, 9.388960602700376, 2.162014169113864, 2.165472677651265, 6.4941501086102775, 2.162093364512599, 3.6007706719910417, 3.6007965404037625, 3.600895128033252, 7.229996852283823, 3.6173535434287665, 7.912146333617756, 6.489993153480239, 6.528459320662409, 36.88887968219705, 3.6173326292293093, 10.851833861400936, 11.586298177706482, 14.452316315124767, 3.6002917453244145, 7.908791061537093, 5.789011372326468, 17.972679295167595, 10.798029722899042, 3.6167687536289073, 21.573519390848247, 14.386955746805256, 6.504206872696669, 13.014941301728799, 10.843171486241161, 6.49321649175986, 12.211254968559729, 27.505453013957816, 46.83227755859986, 18.09672035554589, 12.943352875910055, 10.088758708332703, 26.72328156380639, 10.058374768360691, 3.587898602731391, 3.587901133510761, 2.871871319173842, 2.871945311637944, 6.453815793186954, 2.154272361615898, 2.1542720523342247, 2.1542705946591285, 2.154270258350473, 2.1542694246087857, 2.1542681240427766, 2.1542998068198673, 2.154273126487659, 2.1543829097857228, 2.154394523816518, 2.154397684661909, 2.1543063224447967, 2.1543080142643207, 2.15463250602848, 2.156342507978957, 2.156944948140725, 12.918225022627242, 3.5875772014147587, 3.590983450915625, 3.604248186028792, 1.4380682148066204, 1.4380679653580404, 1.4380682028680516, 1.4380680538440969, 1.4380682643757967, 7.204350343140907, 5.021037586306195, 7.9004602395280115, 5.054408165330816, 6.458220898730042, 15.181938457664554, 8.66186314752469, 17.972679295167595, 46.83227755859986, 15.12431069010124, 11.543491420018771, 26.72328156380639, 21.573519390848247, 7.898969670970071, 7.908649232784375, 5.026759737857633, 5.741484558507512, 5.774685952359503, 8.60943113400549, 8.64242109719427, 15.95747673430545, 12.943352875910055, 12.2914536174563, 14.386955746805256, 10.798029722899042, 6.4958335188540035, 18.09672035554589, 16.67075568652446, 36.88887968219705, 17.384609005589944], \"Category\": [\"Default\", \"Default\", \"Default\", \"Default\", \"Default\", \"Default\", \"Default\", \"Default\", \"Default\", \"Default\", \"Default\", \"Default\", \"Default\", \"Default\", \"Default\", \"Default\", \"Default\", \"Default\", \"Default\", \"Default\", \"Default\", \"Default\", \"Default\", \"Default\", \"Default\", \"Default\", \"Default\", \"Default\", \"Default\", \"Default\", \"Topic1\", \"Topic1\", \"Topic1\", \"Topic1\", \"Topic1\", \"Topic1\", \"Topic1\", \"Topic1\", \"Topic1\", \"Topic1\", \"Topic1\", \"Topic1\", \"Topic1\", \"Topic1\", \"Topic1\", \"Topic1\", \"Topic1\", \"Topic1\", \"Topic1\", \"Topic1\", \"Topic1\", \"Topic1\", \"Topic1\", \"Topic1\", \"Topic1\", \"Topic1\", \"Topic1\", \"Topic1\", \"Topic1\", \"Topic1\", \"Topic1\", \"Topic1\", \"Topic1\", \"Topic1\", \"Topic1\", \"Topic1\", \"Topic1\", \"Topic1\", \"Topic1\", \"Topic1\", \"Topic1\", \"Topic1\", \"Topic1\", \"Topic1\", \"Topic1\", \"Topic1\", \"Topic1\", \"Topic1\", \"Topic1\", \"Topic1\", \"Topic1\", \"Topic1\", \"Topic1\", \"Topic1\", \"Topic2\", \"Topic2\", \"Topic2\", \"Topic2\", \"Topic2\", \"Topic2\", \"Topic2\", \"Topic2\", \"Topic2\", \"Topic2\", \"Topic2\", \"Topic2\", \"Topic2\", \"Topic2\", \"Topic2\", \"Topic2\", \"Topic2\", \"Topic2\", \"Topic2\", \"Topic2\", \"Topic2\", \"Topic2\", \"Topic2\", \"Topic2\", \"Topic2\", \"Topic2\", \"Topic2\", \"Topic2\", \"Topic2\", \"Topic2\", \"Topic2\", \"Topic2\", \"Topic2\", \"Topic2\", \"Topic2\", \"Topic2\", \"Topic2\", \"Topic2\", \"Topic2\", \"Topic2\", \"Topic2\", \"Topic2\", \"Topic2\", \"Topic2\", \"Topic2\", \"Topic2\", \"Topic2\", \"Topic2\", \"Topic2\", \"Topic2\", \"Topic2\", \"Topic2\", \"Topic2\", \"Topic2\", \"Topic2\", \"Topic2\", \"Topic2\", \"Topic2\", \"Topic2\", \"Topic2\", \"Topic2\", \"Topic3\", \"Topic3\", \"Topic3\", \"Topic3\", \"Topic3\", \"Topic3\", \"Topic3\", \"Topic3\", \"Topic3\", \"Topic3\", \"Topic3\", \"Topic3\", \"Topic3\", \"Topic3\", \"Topic3\", \"Topic3\", \"Topic3\", \"Topic3\", \"Topic3\", \"Topic3\", \"Topic3\", \"Topic3\", \"Topic3\", \"Topic3\", \"Topic3\", \"Topic3\", \"Topic3\", \"Topic3\", \"Topic3\", \"Topic3\", \"Topic3\", \"Topic3\", \"Topic3\", \"Topic3\", \"Topic3\", \"Topic3\", \"Topic3\", \"Topic3\", \"Topic3\", \"Topic3\", \"Topic3\", \"Topic3\", \"Topic3\", \"Topic3\", \"Topic3\", \"Topic3\", \"Topic3\", \"Topic3\", \"Topic3\", \"Topic3\", \"Topic3\", \"Topic3\", \"Topic3\", \"Topic3\", \"Topic3\", \"Topic3\", \"Topic3\", \"Topic3\", \"Topic3\", \"Topic3\", \"Topic3\", \"Topic4\", \"Topic4\", \"Topic4\", \"Topic4\", \"Topic4\", \"Topic4\", \"Topic4\", \"Topic4\", \"Topic4\", \"Topic4\", \"Topic4\", \"Topic4\", \"Topic4\", \"Topic4\", \"Topic4\", \"Topic4\", \"Topic4\", \"Topic4\", \"Topic4\", \"Topic4\", \"Topic4\", \"Topic4\", \"Topic4\", \"Topic4\", \"Topic4\", \"Topic4\", \"Topic4\", \"Topic4\", \"Topic4\", \"Topic4\", \"Topic4\", \"Topic4\", \"Topic4\", \"Topic4\", \"Topic4\", \"Topic4\", \"Topic4\", \"Topic4\", \"Topic4\", \"Topic4\", \"Topic4\", \"Topic4\", \"Topic4\", \"Topic4\", \"Topic4\", \"Topic4\", \"Topic4\", \"Topic4\", \"Topic4\", \"Topic4\", \"Topic4\", \"Topic4\", \"Topic4\", \"Topic4\", \"Topic4\", \"Topic4\", \"Topic4\", \"Topic4\", \"Topic4\", \"Topic4\"], \"logprob\": [30.0, 29.0, 28.0, 27.0, 26.0, 25.0, 24.0, 23.0, 22.0, 21.0, 20.0, 19.0, 18.0, 17.0, 16.0, 15.0, 14.0, 13.0, 12.0, 11.0, 10.0, 9.0, 8.0, 7.0, 6.0, 5.0, 4.0, 3.0, 2.0, 1.0, -5.2439, -5.4478, -5.4491, -4.3253, -5.7148, -5.7152, -5.7157, -5.7183, -5.7305, -6.0825, -6.0826, -6.0827, -6.0828, -6.0841, -6.085, -6.0871, -6.0874, -6.0884, -6.0928, -6.0997, -4.6779, -5.073, -5.5226, -4.9171, -5.7126, -5.7148, -5.7214, -6.6704, -6.6704, -6.6704, -5.1106, -5.4669, -5.0612, -4.518, -4.582, -5.2862, -4.5794, -4.2551, -4.1583, -4.6672, -5.4409, -4.9208, -4.5026, -5.1728, -4.9172, -4.3696, -5.1778, -5.2424, -5.2294, -5.4406, -5.4724, -5.3075, -5.4105, -5.448, -5.6448, -5.6509, -4.7004, -6.0107, -6.0108, -6.0108, -6.011, -6.0112, -6.0112, -6.0117, -6.0124, -6.0126, -6.0128, -6.0128, -6.013, -6.0131, -6.0133, -6.0133, -6.0139, -6.0142, -6.0157, -6.0159, -6.0164, -4.841, -5.3735, -6.1324, -5.647, -5.6453, -6.5986, -6.5986, -5.701, -5.3735, -5.3726, -5.3792, -3.6129, -4.8313, -4.7494, -4.7111, -4.1986, -5.1631, -5.4508, -5.3764, -5.0669, -4.2522, -5.1629, -4.9044, -4.8217, -4.7805, -5.6438, -5.3731, -5.6426, -5.6442, -4.7345, -5.1604, -5.1658, -5.1607, -5.3724, -5.1629, -5.3008, -5.3801, -5.4979, -5.1584, -5.3862, -5.6323, -5.9971, -5.9971, -5.9971, -5.9971, -5.9971, -5.9978, -5.9983, -5.9986, -5.9987, -5.9991, -5.9991, -5.9992, -5.9993, -6.0003, -6.0009, -6.002, -5.7152, -4.2119, -6.0072, -5.3616, -4.6169, -6.1009, -6.1034, -5.0107, -6.1154, -5.6285, -5.6323, -5.6323, -4.9791, -5.6292, -4.9744, -5.1873, -5.1887, -3.9395, -5.6298, -4.8562, -4.8248, -4.7222, -5.6587, -5.1473, -5.3599, -4.6444, -4.9722, -5.6777, -4.578, -4.8268, -5.3602, -4.9924, -5.0978, -5.3761, -5.1491, -4.9237, -4.7587, -5.1545, -5.277, -5.3452, -5.1523, -5.3603, -5.3861, -5.4169, -5.6599, -5.6611, -4.8604, -6.0023, -6.0024, -6.0024, -6.0024, -6.0024, -6.0025, -6.0031, -6.004, -6.0053, -6.0056, -6.0056, -6.0069, -6.0083, -6.0147, -6.0572, -6.0735, -4.3176, -5.6338, -5.6352, -5.636, -6.5902, -6.5902, -6.5902, -6.5902, -6.5902, -4.9846, -5.367, -4.9287, -5.3755, -5.1597, -4.4812, -4.9827, -4.4816, -3.8166, -4.6354, -4.8334, -4.2652, -4.4356, -5.1524, -5.1539, -5.4497, -5.3656, -5.3638, -5.1548, -5.1525, -4.7829, -4.9244, -4.9882, -5.0167, -5.1545, -5.3937, -5.1533, -5.1887, -5.2191, -5.3639], \"loglift\": [30.0, 29.0, 28.0, 27.0, 26.0, 25.0, 24.0, 23.0, 22.0, 21.0, 20.0, 19.0, 18.0, 17.0, 16.0, 15.0, 14.0, 13.0, 12.0, 11.0, 10.0, 9.0, 8.0, 7.0, 6.0, 5.0, 4.0, 3.0, 2.0, 1.0, 1.172, 1.1509, 1.1496, 1.1113, 1.1078, 1.1075, 1.107, 1.1044, 1.0924, 1.0292, 1.0291, 1.029, 1.0289, 1.0277, 1.0267, 1.0247, 1.0243, 1.0234, 1.0191, 1.0123, 0.9684, 0.9419, 0.8982, 0.8977, 0.8907, 0.8876, 0.8823, 0.8495, 0.8495, 0.8495, 0.8011, 0.8012, 0.7556, 0.6076, 0.4998, 0.7312, 0.4605, 0.3259, 0.1292, 0.3325, 0.6948, 0.4072, 0.1073, 0.4802, 0.2581, -0.3207, 0.2088, 0.2032, 0.0999, 0.3797, 0.4419, -0.0829, 0.1006, 0.0639, 1.1951, 1.189, 1.125, 1.1163, 1.1163, 1.1163, 1.116, 1.1159, 1.1158, 1.1153, 1.1147, 1.1144, 1.1143, 1.1142, 1.114, 1.1139, 1.1138, 1.1137, 1.1131, 1.1128, 1.1113, 1.1111, 1.1106, 1.0789, 1.0617, 0.9929, 0.9692, 0.9672, 0.9329, 0.9329, 0.915, 0.9062, 0.9045, 0.8952, 0.4359, 0.7557, 0.6437, 0.6169, 0.3825, 0.7589, 0.8301, 0.7671, 0.5861, 0.0353, 0.5797, 0.3201, 0.2182, 0.0434, 0.7917, 0.5502, 0.7888, 0.7861, -0.1246, 0.1745, 0.0634, 0.0185, 0.3637, -0.1632, -0.2943, -0.2983, 0.0861, 1.2726, 1.2272, 1.2041, 1.1268, 1.1268, 1.1268, 1.1268, 1.1268, 1.1261, 1.1256, 1.1253, 1.1253, 1.1248, 1.1248, 1.1247, 1.1246, 1.1236, 1.1231, 1.1219, 1.1216, 1.121, 1.1167, 1.0664, 1.039, 1.0235, 1.0194, 1.0139, 1.009, 0.9858, 0.982, 0.982, 0.9381, 0.9805, 0.8526, 0.8378, 0.8306, 0.348, 0.9799, 0.6549, 0.6209, 0.5023, 0.9557, 0.6801, 0.7796, 0.3622, 0.5439, 0.9321, 0.246, 0.4023, 0.6628, 0.3369, 0.4141, 0.6485, 0.244, -0.3426, -0.7098, -0.1548, 0.0578, 0.2388, -0.5424, 0.2268, 1.2317, 1.2009, 1.1806, 1.1793, 1.1704, 1.1256, 1.1256, 1.1256, 1.1256, 1.1256, 1.1255, 1.1249, 1.124, 1.1226, 1.1223, 1.1223, 1.121, 1.1196, 1.1131, 1.0699, 1.0533, 1.0192, 0.9841, 0.9818, 0.9774, 0.9419, 0.9419, 0.9419, 0.9419, 0.9419, 0.9361, 0.9147, 0.8998, 0.8997, 0.8704, 0.6942, 0.7538, 0.525, 0.2323, 0.5438, 0.616, 0.3447, 0.3883, 0.6764, 0.6735, 0.831, 0.7821, 0.7781, 0.5878, 0.5863, 0.3427, 0.4105, 0.3983, 0.2125, 0.3616, 0.6306, -0.1536, -0.107, -0.9316, -0.3241]}, \"token.table\": {\"Topic\": [1, 3, 4, 1, 2, 3, 4, 1, 2, 3, 3, 1, 2, 3, 4, 2, 3, 4, 3, 3, 1, 1, 1, 2, 3, 4, 1, 4, 2, 3, 4, 1, 4, 3, 4, 1, 2, 3, 4, 1, 2, 3, 1, 2, 3, 4, 1, 4, 1, 3, 4, 1, 2, 4, 1, 3, 1, 3, 4, 3, 4, 4, 2, 1, 2, 3, 4, 2, 4, 1, 2, 3, 4, 2, 4, 1, 4, 1, 3, 4, 1, 2, 3, 4, 1, 2, 3, 4, 2, 3, 4, 2, 3, 1, 2, 3, 4, 3, 1, 2, 3, 3, 1, 3, 1, 3, 2, 3, 2, 1, 2, 3, 4, 1, 1, 2, 3, 4, 4, 1, 2, 1, 2, 4, 1, 3, 3, 1, 3, 4, 2, 1, 3, 2, 1, 1, 2, 4, 1, 2, 4, 3, 2, 4, 3, 3, 4, 3, 1, 2, 1, 2, 4, 3, 2, 1, 4, 2, 3, 1, 1, 3, 1, 3, 2, 1, 1, 4, 4, 1, 2, 3, 4, 4, 2, 1, 2, 3, 2, 3, 4, 4, 4, 2, 3, 2, 4, 2, 2, 1, 2, 4, 1, 2, 3, 4, 1, 3, 4, 1, 2, 3, 1, 2, 3, 4, 1, 2, 3, 4, 2, 3, 4, 1, 2, 3, 4, 3, 3, 3, 2, 1, 4, 4, 1, 2, 3, 4, 4, 3, 1, 2, 3, 4, 1, 3, 1, 2, 4, 1, 1, 2, 3, 4, 1, 2, 3, 4, 2, 3, 1, 2, 1, 2, 3, 2, 1, 2, 4, 1, 2, 3, 4, 2, 4, 1, 2, 3, 4, 1, 1, 2, 1, 2, 3, 4, 2, 1, 2, 3, 1, 3, 4, 2, 3, 2, 1, 2, 3, 4, 4, 3, 2, 3, 1, 2, 3, 2, 1, 2, 3, 1, 2, 3, 4, 1, 2, 3, 4, 2, 3, 4, 1, 2, 1, 3, 2, 4, 2, 4, 4, 4, 2, 1, 3, 4, 1, 2, 4, 2, 3, 4, 1, 3, 4, 2, 2, 1, 2, 3, 4, 3, 4, 2, 2, 2, 3, 4, 1, 2, 1, 2, 3, 1, 3, 4, 4, 2, 4, 1, 3, 4, 1, 3, 4, 1, 4, 1, 3, 2, 3, 4, 4, 1, 2, 3, 4, 1, 2, 3, 4], \"Freq\": [0.5163023684124647, 0.17210078947082155, 0.3442015789416431, 0.4198969819741489, 0.17995584941749238, 0.17995584941749238, 0.2399411325566565, 0.2766252933247456, 0.1383126466623728, 0.5532505866494912, 0.924586044440824, 0.6865995873764332, 0.22886652912547775, 0.2784752460346263, 0.5569504920692526, 0.2777183250737407, 0.5554366501474814, 0.928232538219009, 0.9246155134470874, 0.9246197194482088, 0.913448171630386, 0.6841038031993804, 0.23079699000600554, 0.3461954850090083, 0.23079699000600554, 0.23079699000600554, 0.8553416032544819, 0.1710683206508964, 0.30968281069377546, 0.15484140534688773, 0.6193656213875509, 0.9135559883841203, 0.9283877171871714, 0.9246235313924382, 0.9283337121269982, 0.25988670938823477, 0.08662890312941159, 0.25988670938823477, 0.43314451564705797, 0.3454821335402295, 0.17274106677011475, 0.5182232003103443, 0.07711109264301114, 0.07711109264301114, 0.7711109264301114, 0.15422218528602227, 0.395694200899404, 0.593541301349106, 0.3463391804333206, 0.1731695902166603, 0.5195087706499809, 0.6243005622977915, 0.24972022491911663, 0.12486011245955832, 0.9133911354175279, 0.6938625276403684, 0.27645097025220305, 0.4607516170870051, 0.18430064683480205, 0.8323928887919914, 0.928387850472708, 0.9283723528656993, 0.9275141850109321, 0.30733907339779337, 0.15366953669889669, 0.30733907339779337, 0.15366953669889669, 0.2787396462452852, 0.5574792924905704, 0.2766718209526321, 0.09222394031754402, 0.3688957612701761, 0.2766718209526321, 0.5969316156068388, 0.39795441040455926, 0.27745037200166095, 0.5549007440033219, 0.6115698151206265, 0.15289245378015662, 0.30578490756031323, 0.055640006900299785, 0.16692002070089934, 0.3338400414017987, 0.3894800483020985, 0.09260948762525921, 0.09260948762525921, 0.46304743812629606, 0.37043795050103684, 0.34834196271354184, 0.17417098135677092, 0.5225129440703128, 0.5563836668311531, 0.2781918334155766, 0.29936443175583194, 0.22452332381687398, 0.14968221587791597, 0.33678498572531096, 0.9246163212094127, 0.154006877988596, 0.308013755977192, 0.46202063396578796, 0.9246155596099306, 0.459526490500611, 0.612701987334148, 0.6869319782889413, 0.9246203269854891, 0.2777163299228977, 0.5554326598457954, 0.9274437687184368, 0.686931996756264, 0.07741001555929122, 0.23223004667787367, 0.696690140033621, 0.6869319823995335, 0.2314166340088766, 0.2314166340088766, 0.1157083170044383, 0.4628332680177532, 0.9283895433808529, 0.3953691744252337, 0.5930537616378506, 0.5502420479826128, 0.1375605119956532, 0.2751210239913064, 0.27644679173810316, 0.5528935834762063, 0.924623117407384, 0.23089720605566738, 0.23089720605566738, 0.46179441211133476, 0.9275047915958254, 0.23052966973021716, 0.6915890091906515, 0.6960068556113226, 0.9134525290431854, 0.2773937862998319, 0.6934844657495798, 0.695377311038254, 0.7625351924563443, 0.15250703849126884, 0.15250703849126884, 0.924858884954497, 0.39832404470633154, 0.5974860670594974, 0.4625147167154968, 0.3797247133768533, 0.6328745222947555, 0.9246331562651273, 0.5893512800175167, 0.3929008533450111, 0.4248040426557702, 0.4248040426557702, 0.10620101066394255, 0.9246210121626227, 0.9275122436968711, 0.6841466142680261, 0.6963920907182417, 0.5962083138812511, 0.3974722092541674, 0.9133895253059165, 0.5488452470818808, 0.2744226235409404, 0.27648989142494773, 0.5529797828498955, 0.9274601057907268, 0.9134286929909617, 0.5495603278814434, 0.2747801639407217, 0.9283730819349388, 0.7384303893146016, 0.10549005561637166, 0.10549005561637166, 0.10549005561637166, 0.9283886235942385, 0.9274804655053915, 0.19822253711680715, 0.5946676113504215, 0.19822253711680715, 0.46460677107931314, 0.11615169276982829, 0.46460677107931314, 0.92723738810487, 0.6953773830987359, 0.27775526838864334, 0.5555105367772867, 0.6965682226014415, 0.23218940753381384, 0.6948867244634395, 0.9275142739370965, 0.27721287660825294, 0.5544257532165059, 0.9283873875643676, 0.29819284550700825, 0.243975964505734, 0.35240972650828245, 0.10843376200254845, 0.153984737536964, 0.615938950147856, 0.153984737536964, 0.9134127952455608, 0.9275134981081404, 0.9246080490156965, 0.32542936942130324, 0.08135734235532581, 0.24407202706597741, 0.32542936942130324, 0.0772597339798394, 0.3090389359193576, 0.23177920193951818, 0.386298669899197, 0.2527759113228532, 0.631939778307133, 0.2527759113228532, 0.40265501500489204, 0.2876107250034943, 0.11504429000139772, 0.1725664350020966, 0.924593380657195, 0.6935739354530336, 0.4617929426311807, 0.9275039880076906, 0.6843107830980383, 0.6964100329451198, 0.6953772812962093, 0.12644384275567788, 0.25288768551135576, 0.12644384275567788, 0.5057753710227115, 0.8361440308586657, 0.9246159899595433, 0.09270624619775411, 0.27811873859326236, 0.32447186169213943, 0.37082498479101644, 0.27644519342506235, 0.5528903868501247, 0.2776100418137151, 0.13880502090685756, 0.5552200836274302, 0.8202935267994835, 0.3765819844648321, 0.25105465630988805, 0.25105465630988805, 0.12552732815494402, 0.06950740779348392, 0.2780296311739357, 0.3475370389674196, 0.2780296311739357, 0.46294568378327416, 0.9245954534515893, 0.911044896795458, 0.9275080735161473, 0.41369873079208974, 0.27579915386139314, 0.27579915386139314, 0.6948866682968073, 0.23130491682292245, 0.4626098336458449, 0.23130491682292245, 0.1389841556163952, 0.5559366224655808, 0.1389841556163952, 0.2779683112327904, 0.9275106120298622, 0.836143441072051, 0.501332393159726, 0.06266654914496575, 0.1253330982899315, 0.3133327457248287, 0.6841077020114043, 0.2523515276723433, 0.7570545830170299, 0.684114706563564, 0.25288315046361776, 0.5057663009272355, 0.25288315046361776, 0.9275135579423204, 0.17343945479346118, 0.5203183643803835, 0.34687890958692236, 0.6254623591151589, 0.12509247182303176, 0.25018494364606353, 0.5564623752597677, 0.27823118762988386, 0.9275019830052486, 0.3836673524709775, 0.460400822965173, 0.0767334704941955, 0.0767334704941955, 0.928388982897624, 0.46253165880493097, 0.2777087264260826, 0.5554174528521651, 0.2767722427867071, 0.3459653034833839, 0.41515836418006064, 0.9275114811983128, 0.23105511680130403, 0.46211023360260806, 0.23105511680130403, 0.192175150754489, 0.384350301508978, 0.12811676716965933, 0.29893912339587175, 0.19824044343018346, 0.2973606651452752, 0.2973606651452752, 0.2973606651452752, 0.41748488000883593, 0.278323253339224, 0.278323253339224, 0.9134644543572763, 0.9275068132493879, 0.9136461487390983, 0.9246209525658989, 0.39787061731587453, 0.5968059259738118, 0.46448666778950626, 0.46448666778950626, 0.9274964401988764, 0.9283884786611318, 0.9274960512347277, 0.15408336747840065, 0.6163334699136026, 0.3081667349568013, 0.9133932028326448, 0.9274967374039297, 0.928375889775694, 0.4913499894522043, 0.32756665963480286, 0.24567499472610216, 0.30749329459301045, 0.46123994188951567, 0.30749329459301045, 0.9275062224526553, 0.9275076459263151, 0.3635642719618338, 0.3635642719618338, 0.1817821359809169, 0.10906928158855013, 0.9246169909688292, 0.6953773052653638, 0.9275161204636112, 0.6959761360231854, 0.4970982007677665, 0.29825892046065994, 0.1988392803071066, 0.5493374858978857, 0.27466874294894283, 0.3452353753243215, 0.17261768766216076, 0.4315442191554019, 0.3293387082250861, 0.13173548329003443, 0.4610741915151205, 0.9283350741427769, 0.15494709363345352, 0.7747354681672676, 0.21301612442859505, 0.6390483732857851, 0.10650806221429752, 0.3078896640739094, 0.3078896640739094, 0.46183449611086413, 0.9133920368320028, 0.9283400786905249, 0.8202657517566845, 0.9245756848047942, 0.2531975793438362, 0.2531975793438362, 0.5063951586876724, 0.6953774258861449, 0.1983561473623707, 0.2644748631498276, 0.1322374315749138, 0.3967122947247414, 0.3868104199253315, 0.221034525671618, 0.221034525671618, 0.221034525671618], \"Term\": [\"able\", \"able\", \"able\", \"account\", \"account\", \"account\", \"account\", \"action\", \"action\", \"action\", \"amazon\", \"answer\", \"answer\", \"application\", \"application\", \"applied\", \"applied\", \"appropriate\", \"ask\", \"attended\", \"awaiting\", \"axis\", \"bad\", \"bad\", \"bad\", \"bad\", \"bank\", \"bank\", \"best\", \"best\", \"best\", \"bills\", \"bob\", \"body\", \"bought\", \"business\", \"business\", \"business\", \"business\", \"calls\", \"calls\", \"calls\", \"card\", \"card\", \"card\", \"card\", \"care\", \"care\", \"cash\", \"cash\", \"cash\", \"cashback\", \"cashback\", \"cashback\", \"center\", \"charged\", \"charges\", \"charges\", \"charges\", \"class\", \"cleared\", \"come\", \"commitments\", \"company\", \"company\", \"company\", \"company\", \"complain\", \"complain\", \"complaint\", \"complaint\", \"complaint\", \"complaint\", \"connect\", \"connect\", \"contact\", \"contact\", \"credit\", \"credit\", \"credit\", \"customer\", \"customer\", \"customer\", \"customer\", \"customer_care\", \"customer_care\", \"customer_care\", \"customer_care\", \"customers\", \"customers\", \"customers\", \"day\", \"day\", \"days\", \"days\", \"days\", \"days\", \"dealer\", \"debited\", \"debited\", \"debited\", \"december\", \"deducted\", \"deducted\", \"deleted\", \"delhi\", \"digital\", \"digital\", \"dint\", \"disgusting\", \"dont\", \"dont\", \"dont\", \"ecs\", \"edc\", \"edc\", \"edc\", \"edc\", \"electronics\", \"emails\", \"emails\", \"emi\", \"emi\", \"emi\", \"employees\", \"employees\", \"encourage\", \"epos\", \"epos\", \"epos\", \"everyday\", \"fake\", \"fake\", \"false\", \"fee\", \"following\", \"following\", \"followup\", \"getting\", \"getting\", \"getting\", \"gift\", \"giving\", \"giving\", \"guy\", \"guys\", \"guys\", \"harassment\", \"hdfc\", \"hdfc\", \"help\", \"help\", \"help\", \"helping\", \"horrible\", \"ill\", \"india\", \"information\", \"information\", \"inr\", \"install\", \"install\", \"installation\", \"installation\", \"instead\", \"integration\", \"iphone\", \"iphone\", \"isnt\", \"issue\", \"issue\", \"issue\", \"issue\", \"ji\", \"june\", \"kindly\", \"kindly\", \"kindly\", \"know\", \"know\", \"know\", \"later\", \"ledger\", \"legal\", \"legal\", \"let\", \"let\", \"level\", \"login\", \"long\", \"long\", \"looting\", \"machine\", \"machine\", \"machine\", \"machine\", \"machines\", \"machines\", \"machines\", \"management\", \"math\", \"matter\", \"money\", \"money\", \"money\", \"money\", \"month\", \"month\", \"month\", \"month\", \"monthly\", \"monthly\", \"monthly\", \"months\", \"months\", \"months\", \"months\", \"nos\", \"opt\", \"option\", \"ordered\", \"paid\", \"partner\", \"passes\", \"pathetic\", \"pathetic\", \"pathetic\", \"pathetic\", \"pay\", \"paylater\", \"payment\", \"payment\", \"payment\", \"payment\", \"payments\", \"payments\", \"people\", \"people\", \"people\", \"plutus\", \"poor\", \"poor\", \"poor\", \"poor\", \"pos\", \"pos\", \"pos\", \"pos\", \"printed\", \"promised\", \"proper\", \"provided\", \"purchased\", \"purchased\", \"purchased\", \"quality\", \"query\", \"query\", \"query\", \"raised\", \"raised\", \"raised\", \"raised\", \"rbi\", \"rd\", \"received\", \"received\", \"received\", \"received\", \"recieved\", \"refund\", \"refund\", \"registered\", \"rent\", \"rent\", \"rent\", \"representative\", \"request\", \"request\", \"request\", \"resolve\", \"resolve\", \"resolve\", \"respond\", \"respond\", \"responding\", \"response\", \"response\", \"response\", \"response\", \"retail\", \"right\", \"rs\", \"rs\", \"sales\", \"sales\", \"sales\", \"sending\", \"sent\", \"sent\", \"sent\", \"service\", \"service\", \"service\", \"service\", \"services\", \"services\", \"services\", \"services\", \"settlement\", \"settlement\", \"settlement\", \"shall\", \"shops\", \"showroom\", \"signed\", \"small\", \"small\", \"solution\", \"solution\", \"solutions\", \"st\", \"stopped\", \"store\", \"store\", \"store\", \"stuck\", \"stupid\", \"sucks\", \"support\", \"support\", \"support\", \"swipe_machine\", \"swipe_machine\", \"swipe_machine\", \"swiped\", \"talk\", \"team\", \"team\", \"team\", \"team\", \"tell\", \"tens\", \"terminals\", \"terminate\", \"th\", \"th\", \"th\", \"tid\", \"tid\", \"time\", \"time\", \"time\", \"transaction\", \"transaction\", \"transaction\", \"trust\", \"trying\", \"trying\", \"ur\", \"ur\", \"ur\", \"use\", \"use\", \"use\", \"useless\", \"vendor\", \"visited\", \"waiver\", \"want\", \"want\", \"want\", \"workin\", \"working\", \"working\", \"working\", \"working\", \"worst\", \"worst\", \"worst\", \"worst\"]}, \"R\": 30, \"lambda.step\": 0.01, \"plot.opts\": {\"xlab\": \"PC1\", \"ylab\": \"PC2\"}, \"topic.order\": [2, 3, 4, 1]};\n",
       "\n",
       "function LDAvis_load_lib(url, callback){\n",
       "  var s = document.createElement('script');\n",
       "  s.src = url;\n",
       "  s.async = true;\n",
       "  s.onreadystatechange = s.onload = callback;\n",
       "  s.onerror = function(){console.warn(\"failed to load library \" + url);};\n",
       "  document.getElementsByTagName(\"head\")[0].appendChild(s);\n",
       "}\n",
       "\n",
       "if(typeof(LDAvis) !== \"undefined\"){\n",
       "   // already loaded: just create the visualization\n",
       "   !function(LDAvis){\n",
       "       new LDAvis(\"#\" + \"ldavis_el9153563383054889449993004\", ldavis_el9153563383054889449993004_data);\n",
       "   }(LDAvis);\n",
       "}else if(typeof define === \"function\" && define.amd){\n",
       "   // require.js is available: use it to load d3/LDAvis\n",
       "   require.config({paths: {d3: \"https://d3js.org/d3.v5\"}});\n",
       "   require([\"d3\"], function(d3){\n",
       "      window.d3 = d3;\n",
       "      LDAvis_load_lib(\"https://cdn.jsdelivr.net/gh/bmabey/pyLDAvis@3.3.1/pyLDAvis/js/ldavis.v3.0.0.js\", function(){\n",
       "        new LDAvis(\"#\" + \"ldavis_el9153563383054889449993004\", ldavis_el9153563383054889449993004_data);\n",
       "      });\n",
       "    });\n",
       "}else{\n",
       "    // require.js not available: dynamically load d3 & LDAvis\n",
       "    LDAvis_load_lib(\"https://d3js.org/d3.v5.js\", function(){\n",
       "         LDAvis_load_lib(\"https://cdn.jsdelivr.net/gh/bmabey/pyLDAvis@3.3.1/pyLDAvis/js/ldavis.v3.0.0.js\", function(){\n",
       "                 new LDAvis(\"#\" + \"ldavis_el9153563383054889449993004\", ldavis_el9153563383054889449993004_data);\n",
       "            })\n",
       "         });\n",
       "}\n",
       "</script>"
      ],
      "text/plain": [
       "PreparedData(topic_coordinates=              x         y  topics  cluster       Freq\n",
       "topic                                                \n",
       "1      0.003862  0.087323       1        1  26.941583\n",
       "2     -0.087093  0.012324       2        1  24.505464\n",
       "3     -0.013196 -0.094367       3        1  24.286656\n",
       "0      0.096427 -0.005280       4        1  24.266298, topic_info=            Term       Freq      Total Category  logprob  loglift\n",
       "234         bank  11.000000  11.000000  Default  30.0000  30.0000\n",
       "21          card  12.000000  12.000000  Default  29.0000  29.0000\n",
       "144         dont  12.000000  12.000000  Default  28.0000  28.0000\n",
       "51        refund   7.000000   7.000000  Default  27.0000  27.0000\n",
       "330  transaction  15.000000  15.000000  Default  26.0000  26.0000\n",
       "..           ...        ...        ...      ...      ...      ...\n",
       "42           use   2.961519   6.495834   Topic4  -5.3937   0.6306\n",
       "29         worst   3.766153  18.096720   Topic4  -5.1533  -0.1536\n",
       "193      account   3.635045  16.670756   Topic4  -5.1887  -0.1070\n",
       "33       machine   3.526217  36.888880   Topic4  -5.2191  -0.9316\n",
       "34        months   3.050824  17.384609   Topic4  -5.3639  -0.3241\n",
       "\n",
       "[266 rows x 6 columns], token_table=      Topic      Freq     Term\n",
       "term                          \n",
       "18        1  0.516302     able\n",
       "18        3  0.172101     able\n",
       "18        4  0.344202     able\n",
       "193       1  0.419897  account\n",
       "193       2  0.179956  account\n",
       "...     ...       ...      ...\n",
       "13        4  0.396712  working\n",
       "29        1  0.386810    worst\n",
       "29        2  0.221035    worst\n",
       "29        3  0.221035    worst\n",
       "29        4  0.221035    worst\n",
       "\n",
       "[381 rows x 3 columns], R=30, lambda_step=0.01, plot_opts={'xlab': 'PC1', 'ylab': 'PC2'}, topic_order=[2, 3, 4, 1])"
      ]
     },
     "execution_count": 64,
     "metadata": {},
     "output_type": "execute_result"
    }
   ],
   "source": [
    "import pyLDAvis.gensim_models\n",
    "\n",
    "import pyLDAvis\n",
    "# Visualize the topics\n",
    "pyLDAvis.enable_notebook()\n",
    "LDAvis_prepared = pyLDAvis.gensim_models.prepare(post_lda_model, post_corpus, post_id2word)\n",
    "LDAvis_prepared"
   ]
  },
  {
   "cell_type": "code",
   "execution_count": 65,
   "metadata": {},
   "outputs": [],
   "source": [
    "post_queries_topic_sents_keywords = processor.dominant_topics(ldamodel=post_lda_model, \n",
    "                                                         corpus=post_corpus, \n",
    "                                                         texts=post_queries['bigram'].values.tolist(),\n",
    "                                                         tweets=post_queries['tweet'].values.tolist())"
   ]
  },
  {
   "cell_type": "code",
   "execution_count": 66,
   "metadata": {},
   "outputs": [
    {
     "data": {
      "text/plain": [
       "array(['service, days, dont, payment, transaction, customer, working, received, business, trying',\n",
       "       'machine, card, payment, ur, customer, sales, service, time, pos, charges',\n",
       "       'machine, team, bank, service, days, received, months, account, worst, issue',\n",
       "       'service, team, machine, refund, response, days, support, payment, months, th'],\n",
       "      dtype=object)"
      ]
     },
     "execution_count": 66,
     "metadata": {},
     "output_type": "execute_result"
    }
   ],
   "source": [
    "post_queries_topic_sents_keywords['Topic_Keywords'].unique()"
   ]
  },
  {
   "cell_type": "markdown",
   "metadata": {},
   "source": [
    "Following topics were discussed post pandemic:\n",
    "1. Poor functioning of POS\n",
    "2. Settlement/refund issues and POS charges\n",
    "3. Issues related to accounts\n",
    "4. No action issues"
   ]
  },
  {
   "cell_type": "code",
   "execution_count": 71,
   "metadata": {},
   "outputs": [],
   "source": [
    "# select = post_queries_topic_sents_keywords['Topic_Keywords'].unique()[3]\n",
    "# post_queries_topic_sents_keywords[post_queries_topic_sents_keywords['Topic_Keywords'] == select]['Text'].values"
   ]
  },
  {
   "cell_type": "code",
   "execution_count": 72,
   "metadata": {},
   "outputs": [
    {
     "name": "stderr",
     "output_type": "stream",
     "text": [
      "/Users/pushkar/miniforge3/envs/project/lib/python3.8/site-packages/plotly/io/_renderers.py:395: DeprecationWarning:\n",
      "\n",
      "distutils Version classes are deprecated. Use packaging.version instead.\n",
      "\n",
      "/Users/pushkar/miniforge3/envs/project/lib/python3.8/site-packages/plotly/io/_renderers.py:395: DeprecationWarning:\n",
      "\n",
      "distutils Version classes are deprecated. Use packaging.version instead.\n",
      "\n"
     ]
    },
    {
     "data": {
      "image/svg+xml": "<svg class=\"main-svg\" xmlns=\"http://www.w3.org/2000/svg\" xmlns:xlink=\"http://www.w3.org/1999/xlink\" width=\"900\" height=\"500\" style=\"\" viewBox=\"0 0 900 500\"><rect x=\"0\" y=\"0\" width=\"900\" height=\"500\" style=\"fill: rgb(255, 255, 255); fill-opacity: 1;\"/><defs id=\"defs-8cc9ec\"><g class=\"clips\"><clipPath id=\"clip8cc9ecxyplot\" class=\"plotclip\"><rect width=\"740\" height=\"320\"/></clipPath><clipPath class=\"axesclip\" id=\"clip8cc9ecx\"><rect x=\"80\" y=\"0\" width=\"740\" height=\"500\"/></clipPath><clipPath class=\"axesclip\" id=\"clip8cc9ecy\"><rect x=\"0\" y=\"100\" width=\"900\" height=\"320\"/></clipPath><clipPath class=\"axesclip\" id=\"clip8cc9ecxy\"><rect x=\"80\" y=\"100\" width=\"740\" height=\"320\"/></clipPath></g><g class=\"gradients\"/><g class=\"patterns\"/></defs><g class=\"bglayer\"><rect class=\"bg\" x=\"80\" y=\"100\" width=\"740\" height=\"320\" style=\"fill: rgb(229, 236, 246); fill-opacity: 1; stroke-width: 0;\"/></g><g class=\"layer-below\"><g class=\"imagelayer\"/><g class=\"shapelayer\"/></g><g class=\"cartesianlayer\"><g class=\"subplot xy\"><g class=\"layer-subplot\"><g class=\"shapelayer\"/><g class=\"imagelayer\"/></g><g class=\"minor-gridlayer\"><g class=\"x\"/><g class=\"y\"/></g><g class=\"gridlayer\"><g class=\"x\"/><g class=\"y\"><path class=\"ygrid crisp\" transform=\"translate(0,368.47)\" d=\"M80,0h740\" style=\"stroke: rgb(255, 255, 255); stroke-opacity: 1; stroke-width: 1px;\"/><path class=\"ygrid crisp\" transform=\"translate(0,316.95)\" d=\"M80,0h740\" style=\"stroke: rgb(255, 255, 255); stroke-opacity: 1; stroke-width: 1px;\"/><path class=\"ygrid crisp\" transform=\"translate(0,265.41999999999996)\" d=\"M80,0h740\" style=\"stroke: rgb(255, 255, 255); stroke-opacity: 1; stroke-width: 1px;\"/><path class=\"ygrid crisp\" transform=\"translate(0,213.9)\" d=\"M80,0h740\" style=\"stroke: rgb(255, 255, 255); stroke-opacity: 1; stroke-width: 1px;\"/><path class=\"ygrid crisp\" transform=\"translate(0,162.37)\" d=\"M80,0h740\" style=\"stroke: rgb(255, 255, 255); stroke-opacity: 1; stroke-width: 1px;\"/><path class=\"ygrid crisp\" transform=\"translate(0,110.85)\" d=\"M80,0h740\" style=\"stroke: rgb(255, 255, 255); stroke-opacity: 1; stroke-width: 1px;\"/></g></g><g class=\"zerolinelayer\"><path class=\"yzl zl crisp\" transform=\"translate(0,420)\" d=\"M80,0h740\" style=\"stroke: rgb(255, 255, 255); stroke-opacity: 1; stroke-width: 2px;\"/></g><path class=\"xlines-below\"/><path class=\"ylines-below\"/><g class=\"overlines-below\"/><g class=\"xaxislayer-below\"/><g class=\"yaxislayer-below\"/><g class=\"overaxes-below\"/><g class=\"plot\" transform=\"translate(80,100)\" clip-path=\"url(#clip8cc9ecxyplot)\"><g class=\"barlayer mlayer\"><g class=\"trace bars\" style=\"opacity: 1;\"><g class=\"points\"><g class=\"point\"><path d=\"M203.5,320V16H351.5V320Z\" style=\"vector-effect: non-scaling-stroke; opacity: 1; stroke-width: 0.5px; fill: rgb(99, 110, 250); fill-opacity: 1; stroke: rgb(229, 236, 246); stroke-opacity: 1;\"/></g><g class=\"point\"><path d=\"M573.5,320V57.22H721.5V320Z\" style=\"vector-effect: non-scaling-stroke; opacity: 1; stroke-width: 0.5px; fill: rgb(99, 110, 250); fill-opacity: 1; stroke: rgb(229, 236, 246); stroke-opacity: 1;\"/></g><g class=\"point\"><path d=\"M18.5,320V62.37H166.5V320Z\" style=\"vector-effect: non-scaling-stroke; opacity: 1; stroke-width: 0.5px; fill: rgb(99, 110, 250); fill-opacity: 1; stroke: rgb(229, 236, 246); stroke-opacity: 1;\"/></g><g class=\"point\"><path d=\"M388.5,320V67.53H536.5V320Z\" style=\"vector-effect: non-scaling-stroke; opacity: 1; stroke-width: 0.5px; fill: rgb(99, 110, 250); fill-opacity: 1; stroke: rgb(229, 236, 246); stroke-opacity: 1;\"/></g></g></g></g></g><g class=\"overplot\"/><path class=\"xlines-above crisp\" d=\"M0,0\" style=\"fill: none;\"/><path class=\"ylines-above crisp\" d=\"M0,0\" style=\"fill: none;\"/><g class=\"overlines-above\"/><g class=\"xaxislayer-above\"><g class=\"xtick\"><text text-anchor=\"middle\" x=\"0\" y=\"433\" transform=\"translate(80,0)\" style=\"font-family: 'Open Sans', verdana, arial, sans-serif; font-size: 12px; fill: rgb(42, 63, 95); fill-opacity: 1; white-space: pre; opacity: 1;\">−0.5</text></g><g class=\"xtick\"><text text-anchor=\"middle\" x=\"0\" y=\"433\" style=\"font-family: 'Open Sans', verdana, arial, sans-serif; font-size: 12px; fill: rgb(42, 63, 95); fill-opacity: 1; white-space: pre; opacity: 1;\" transform=\"translate(172.5,0)\">0</text></g><g class=\"xtick\"><text text-anchor=\"middle\" x=\"0\" y=\"433\" style=\"font-family: 'Open Sans', verdana, arial, sans-serif; font-size: 12px; fill: rgb(42, 63, 95); fill-opacity: 1; white-space: pre; opacity: 1;\" transform=\"translate(265,0)\">0.5</text></g><g class=\"xtick\"><text text-anchor=\"middle\" x=\"0\" y=\"433\" style=\"font-family: 'Open Sans', verdana, arial, sans-serif; font-size: 12px; fill: rgb(42, 63, 95); fill-opacity: 1; white-space: pre; opacity: 1;\" transform=\"translate(357.5,0)\">1</text></g><g class=\"xtick\"><text text-anchor=\"middle\" x=\"0\" y=\"433\" style=\"font-family: 'Open Sans', verdana, arial, sans-serif; font-size: 12px; fill: rgb(42, 63, 95); fill-opacity: 1; white-space: pre; opacity: 1;\" transform=\"translate(450,0)\">1.5</text></g><g class=\"xtick\"><text text-anchor=\"middle\" x=\"0\" y=\"433\" style=\"font-family: 'Open Sans', verdana, arial, sans-serif; font-size: 12px; fill: rgb(42, 63, 95); fill-opacity: 1; white-space: pre; opacity: 1;\" transform=\"translate(542.5,0)\">2</text></g><g class=\"xtick\"><text text-anchor=\"middle\" x=\"0\" y=\"433\" style=\"font-family: 'Open Sans', verdana, arial, sans-serif; font-size: 12px; fill: rgb(42, 63, 95); fill-opacity: 1; white-space: pre; opacity: 1;\" transform=\"translate(635,0)\">2.5</text></g><g class=\"xtick\"><text text-anchor=\"middle\" x=\"0\" y=\"433\" style=\"font-family: 'Open Sans', verdana, arial, sans-serif; font-size: 12px; fill: rgb(42, 63, 95); fill-opacity: 1; white-space: pre; opacity: 1;\" transform=\"translate(727.5,0)\">3</text></g><g class=\"xtick\"><text text-anchor=\"middle\" x=\"0\" y=\"433\" style=\"font-family: 'Open Sans', verdana, arial, sans-serif; font-size: 12px; fill: rgb(42, 63, 95); fill-opacity: 1; white-space: pre; opacity: 1;\" transform=\"translate(820,0)\">3.5</text></g></g><g class=\"yaxislayer-above\"><g class=\"ytick\"><text text-anchor=\"end\" x=\"79\" y=\"4.199999999999999\" transform=\"translate(0,420)\" style=\"font-family: 'Open Sans', verdana, arial, sans-serif; font-size: 12px; fill: rgb(42, 63, 95); fill-opacity: 1; white-space: pre; opacity: 1;\">0</text></g><g class=\"ytick\"><text text-anchor=\"end\" x=\"79\" y=\"4.199999999999999\" style=\"font-family: 'Open Sans', verdana, arial, sans-serif; font-size: 12px; fill: rgb(42, 63, 95); fill-opacity: 1; white-space: pre; opacity: 1;\" transform=\"translate(0,368.47)\">10</text></g><g class=\"ytick\"><text text-anchor=\"end\" x=\"79\" y=\"4.199999999999999\" style=\"font-family: 'Open Sans', verdana, arial, sans-serif; font-size: 12px; fill: rgb(42, 63, 95); fill-opacity: 1; white-space: pre; opacity: 1;\" transform=\"translate(0,316.95)\">20</text></g><g class=\"ytick\"><text text-anchor=\"end\" x=\"79\" y=\"4.199999999999999\" style=\"font-family: 'Open Sans', verdana, arial, sans-serif; font-size: 12px; fill: rgb(42, 63, 95); fill-opacity: 1; white-space: pre; opacity: 1;\" transform=\"translate(0,265.41999999999996)\">30</text></g><g class=\"ytick\"><text text-anchor=\"end\" x=\"79\" y=\"4.199999999999999\" style=\"font-family: 'Open Sans', verdana, arial, sans-serif; font-size: 12px; fill: rgb(42, 63, 95); fill-opacity: 1; white-space: pre; opacity: 1;\" transform=\"translate(0,213.9)\">40</text></g><g class=\"ytick\"><text text-anchor=\"end\" x=\"79\" y=\"4.199999999999999\" style=\"font-family: 'Open Sans', verdana, arial, sans-serif; font-size: 12px; fill: rgb(42, 63, 95); fill-opacity: 1; white-space: pre; opacity: 1;\" transform=\"translate(0,162.37)\">50</text></g><g class=\"ytick\"><text text-anchor=\"end\" x=\"79\" y=\"4.199999999999999\" style=\"font-family: 'Open Sans', verdana, arial, sans-serif; font-size: 12px; fill: rgb(42, 63, 95); fill-opacity: 1; white-space: pre; opacity: 1;\" transform=\"translate(0,110.85)\">60</text></g></g><g class=\"overaxes-above\"/></g></g><g class=\"polarlayer\"/><g class=\"smithlayer\"/><g class=\"ternarylayer\"/><g class=\"geolayer\"/><g class=\"funnelarealayer\"/><g class=\"pielayer\"/><g class=\"iciclelayer\"/><g class=\"treemaplayer\"/><g class=\"sunburstlayer\"/><g class=\"glimages\"/><defs id=\"topdefs-8cc9ec\"><g class=\"clips\"/></defs><g class=\"layer-above\"><g class=\"imagelayer\"/><g class=\"shapelayer\"/></g><g class=\"infolayer\"><g class=\"g-gtitle\"><text class=\"gtitle\" x=\"45\" y=\"50\" text-anchor=\"start\" dy=\"0em\" style=\"font-family: 'Open Sans', verdana, arial, sans-serif; font-size: 17px; fill: rgb(42, 63, 95); opacity: 1; font-weight: normal; white-space: pre;\">Topics Distribution</text></g><g class=\"g-xtitle\"><text class=\"xtitle\" x=\"450\" y=\"460.3\" text-anchor=\"middle\" style=\"font-family: 'Open Sans', verdana, arial, sans-serif; font-size: 14px; fill: rgb(42, 63, 95); opacity: 1; font-weight: normal; white-space: pre;\">Topic_Numbers</text></g><g class=\"g-ytitle\"><text class=\"ytitle\" transform=\"rotate(-90,38.934375,260)\" x=\"38.934375\" y=\"260\" text-anchor=\"middle\" style=\"font-family: 'Open Sans', verdana, arial, sans-serif; font-size: 14px; fill: rgb(42, 63, 95); opacity: 1; font-weight: normal; white-space: pre;\">Document_Counts</text></g></g></svg>"
     },
     "metadata": {},
     "output_type": "display_data"
    }
   ],
   "source": [
    "post_queries_dist, fig = processor.plot_topic_distribution(post_queries_topic_sents_keywords)\n",
    "fig.show()"
   ]
  },
  {
   "cell_type": "code",
   "execution_count": null,
   "metadata": {},
   "outputs": [],
   "source": []
  }
 ],
 "metadata": {
  "kernelspec": {
   "display_name": "Python 3.8.13 ('project')",
   "language": "python",
   "name": "python3"
  },
  "language_info": {
   "codemirror_mode": {
    "name": "ipython",
    "version": 3
   },
   "file_extension": ".py",
   "mimetype": "text/x-python",
   "name": "python",
   "nbconvert_exporter": "python",
   "pygments_lexer": "ipython3",
   "version": "3.8.13"
  },
  "orig_nbformat": 4,
  "vscode": {
   "interpreter": {
    "hash": "af77eb27f514ee114388f6898d9553454263f7eea260918546d16a8e581c8922"
   }
  }
 },
 "nbformat": 4,
 "nbformat_minor": 2
}
