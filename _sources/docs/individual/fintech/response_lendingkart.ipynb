{
 "cells": [
  {
   "cell_type": "markdown",
   "metadata": {},
   "source": [
    "# Lendingkart"
   ]
  },
  {
   "cell_type": "code",
   "execution_count": 1,
   "metadata": {},
   "outputs": [],
   "source": [
    "# Load necessary libraries\n",
    "import sys\n",
    "import warnings\n",
    "warnings.filterwarnings('ignore')\n",
    "import datetime\n",
    "import gensim\n",
    "import pandas as pd\n",
    "import tqdm.notebook as tqdm\n",
    "from tqdm.auto import tqdm\n",
    "tqdm.pandas()\n",
    "\n",
    "sys.path.append('/Users/pushkar/Documents/projects/fin_comp/comp/docs')\n",
    "\n",
    "import utils.helper\n",
    "from utils.helper import Processor\n",
    "import importlib\n",
    "importlib.reload(utils.helper)\n",
    "\n",
    "import plotly.io as pio\n",
    "svg_renderer = pio.renderers[\"svg\"]\n",
    "svg_renderer.width = 900\n",
    "svg_renderer.height = 500\n",
    "pio.renderers.default = \"svg\"\n",
    "import plotly.express as px"
   ]
  },
  {
   "cell_type": "code",
   "execution_count": 2,
   "metadata": {},
   "outputs": [],
   "source": [
    "# Load data\n",
    "df = pd.read_csv('./../../data/fintech/lendingkart/lendingkart.csv')"
   ]
  },
  {
   "cell_type": "code",
   "execution_count": 3,
   "metadata": {},
   "outputs": [],
   "source": [
    "# Company username\n",
    "company_username = 'Lendingkart'"
   ]
  },
  {
   "cell_type": "code",
   "execution_count": 4,
   "metadata": {},
   "outputs": [],
   "source": [
    "# Correct the format of variables\n",
    "df['inReplyToTweetId'] = df['inReplyToTweetId'].apply(lambda x: '%.0f' % x).values.tolist()\n",
    "df['conversation_id'] = df['conversation_id'].astype(str)"
   ]
  },
  {
   "cell_type": "code",
   "execution_count": 5,
   "metadata": {},
   "outputs": [],
   "source": [
    "# Declare the query words\n",
    "query_words = ['dm', 'customer experience', 'inconvenience', 'concern team', 'resolve', \n",
    "                'solve', 'no noc', 'await response', 'unpleasant experience']"
   ]
  },
  {
   "cell_type": "code",
   "execution_count": 6,
   "metadata": {},
   "outputs": [],
   "source": [
    "# Declare the processor object\n",
    "processor = Processor('./../../data/config.json')"
   ]
  },
  {
   "cell_type": "code",
   "execution_count": 7,
   "metadata": {},
   "outputs": [
    {
     "data": {
      "application/vnd.jupyter.widget-view+json": {
       "model_id": "fd8a0b8f94f542d6a2b97537e6c87075",
       "version_major": 2,
       "version_minor": 0
      },
      "text/plain": [
       "  0%|          | 0/9 [00:00<?, ?it/s]"
      ]
     },
     "metadata": {},
     "output_type": "display_data"
    }
   ],
   "source": [
    "# Check whether an observation is query for the company or not\n",
    "df['is_query'] = 0\n",
    "\n",
    "for word in tqdm(query_words):\n",
    "    df['is_query'] = df['is_query'] + df['tweet'].apply(processor.word_distribution, find=word).astype(int)"
   ]
  },
  {
   "cell_type": "code",
   "execution_count": 8,
   "metadata": {},
   "outputs": [],
   "source": [
    "# Select observations of queries\n",
    "qdf = df[(df['is_query']>0) & (df['username'] == company_username)]"
   ]
  },
  {
   "cell_type": "code",
   "execution_count": 9,
   "metadata": {},
   "outputs": [
    {
     "data": {
      "text/plain": [
       "(1124, 28)"
      ]
     },
     "execution_count": 9,
     "metadata": {},
     "output_type": "execute_result"
    }
   ],
   "source": [
    "qdf.shape"
   ]
  },
  {
   "cell_type": "code",
   "execution_count": 10,
   "metadata": {},
   "outputs": [
    {
     "name": "stdout",
     "output_type": "stream",
     "text": [
      "Total number of unique conversations: 736\n"
     ]
    }
   ],
   "source": [
    "# Get all the conversation ids\n",
    "conversation_ids = qdf['conversation_id'].unique()\n",
    "print(f\"Total number of unique conversations: {len(conversation_ids)}\")"
   ]
  },
  {
   "cell_type": "code",
   "execution_count": 11,
   "metadata": {},
   "outputs": [],
   "source": [
    "df['date'] = pd.to_datetime(df['date'])"
   ]
  },
  {
   "cell_type": "markdown",
   "metadata": {},
   "source": [
    "## Response time"
   ]
  },
  {
   "cell_type": "markdown",
   "metadata": {},
   "source": [
    "Response time is the time the company takes to respond to the first query."
   ]
  },
  {
   "cell_type": "code",
   "execution_count": 12,
   "metadata": {},
   "outputs": [],
   "source": [
    "result = pd.DataFrame()\n",
    "result['conversation_id'] = conversation_ids\n",
    "result['response_time'] = 0"
   ]
  },
  {
   "cell_type": "code",
   "execution_count": 13,
   "metadata": {},
   "outputs": [],
   "source": [
    "for index, conversation_id in enumerate(conversation_ids):\n",
    "    tmp = df[df['conversation_id'] == conversation_id]\n",
    "    tmp.sort_values('date', ascending=True, inplace=True)\n",
    "    comp_tmp = tmp[tmp['username'] == company_username]\n",
    "    response_time = (comp_tmp.iloc[0]['date'] - tmp.iloc[0]['date']) / datetime.timedelta(hours=1)\n",
    "    result.at[index, 'response_time'] = response_time"
   ]
  },
  {
   "cell_type": "code",
   "execution_count": 14,
   "metadata": {},
   "outputs": [
    {
     "data": {
      "text/html": [
       "<div>\n",
       "<style scoped>\n",
       "    .dataframe tbody tr th:only-of-type {\n",
       "        vertical-align: middle;\n",
       "    }\n",
       "\n",
       "    .dataframe tbody tr th {\n",
       "        vertical-align: top;\n",
       "    }\n",
       "\n",
       "    .dataframe thead th {\n",
       "        text-align: right;\n",
       "    }\n",
       "</style>\n",
       "<table border=\"1\" class=\"dataframe\">\n",
       "  <thead>\n",
       "    <tr style=\"text-align: right;\">\n",
       "      <th></th>\n",
       "      <th>conversation_id</th>\n",
       "      <th>response_time</th>\n",
       "    </tr>\n",
       "  </thead>\n",
       "  <tbody>\n",
       "    <tr>\n",
       "      <th>0</th>\n",
       "      <td>1343785976942882818</td>\n",
       "      <td>0.888056</td>\n",
       "    </tr>\n",
       "    <tr>\n",
       "      <th>1</th>\n",
       "      <td>1344177960446640130</td>\n",
       "      <td>0.610278</td>\n",
       "    </tr>\n",
       "    <tr>\n",
       "      <th>2</th>\n",
       "      <td>1313373475407491073</td>\n",
       "      <td>2.497500</td>\n",
       "    </tr>\n",
       "    <tr>\n",
       "      <th>3</th>\n",
       "      <td>1343868209510850564</td>\n",
       "      <td>3.420278</td>\n",
       "    </tr>\n",
       "    <tr>\n",
       "      <th>4</th>\n",
       "      <td>1343518600808677381</td>\n",
       "      <td>0.000000</td>\n",
       "    </tr>\n",
       "    <tr>\n",
       "      <th>...</th>\n",
       "      <td>...</td>\n",
       "      <td>...</td>\n",
       "    </tr>\n",
       "    <tr>\n",
       "      <th>731</th>\n",
       "      <td>1097425529492393984</td>\n",
       "      <td>0.000000</td>\n",
       "    </tr>\n",
       "    <tr>\n",
       "      <th>732</th>\n",
       "      <td>1099926708210167808</td>\n",
       "      <td>7.112778</td>\n",
       "    </tr>\n",
       "    <tr>\n",
       "      <th>733</th>\n",
       "      <td>1096309397372817408</td>\n",
       "      <td>0.346111</td>\n",
       "    </tr>\n",
       "    <tr>\n",
       "      <th>734</th>\n",
       "      <td>1096031343539118080</td>\n",
       "      <td>0.000000</td>\n",
       "    </tr>\n",
       "    <tr>\n",
       "      <th>735</th>\n",
       "      <td>1081796840176128000</td>\n",
       "      <td>23.574444</td>\n",
       "    </tr>\n",
       "  </tbody>\n",
       "</table>\n",
       "<p>736 rows × 2 columns</p>\n",
       "</div>"
      ],
      "text/plain": [
       "         conversation_id  response_time\n",
       "0    1343785976942882818       0.888056\n",
       "1    1344177960446640130       0.610278\n",
       "2    1313373475407491073       2.497500\n",
       "3    1343868209510850564       3.420278\n",
       "4    1343518600808677381       0.000000\n",
       "..                   ...            ...\n",
       "731  1097425529492393984       0.000000\n",
       "732  1099926708210167808       7.112778\n",
       "733  1096309397372817408       0.346111\n",
       "734  1096031343539118080       0.000000\n",
       "735  1081796840176128000      23.574444\n",
       "\n",
       "[736 rows x 2 columns]"
      ]
     },
     "execution_count": 14,
     "metadata": {},
     "output_type": "execute_result"
    }
   ],
   "source": [
    "result"
   ]
  },
  {
   "cell_type": "code",
   "execution_count": 15,
   "metadata": {},
   "outputs": [
    {
     "data": {
      "image/svg+xml": "<svg class=\"main-svg\" xmlns=\"http://www.w3.org/2000/svg\" xmlns:xlink=\"http://www.w3.org/1999/xlink\" width=\"900\" height=\"500\" style=\"\" viewBox=\"0 0 900 500\"><rect x=\"0\" y=\"0\" width=\"900\" height=\"500\" style=\"fill: rgb(255, 255, 255); fill-opacity: 1;\"/><defs id=\"defs-aa6cc3\"><g class=\"clips\"><clipPath id=\"clipaa6cc3xyplot\" class=\"plotclip\"><rect width=\"740\" height=\"266.112\"/></clipPath><clipPath id=\"clipaa6cc3x2y2plot\" class=\"plotclip\"><rect width=\"740\" height=\"50.687999999999995\"/></clipPath><clipPath class=\"axesclip\" id=\"clipaa6cc3x\"><rect x=\"80\" y=\"0\" width=\"740\" height=\"500\"/></clipPath><clipPath class=\"axesclip\" id=\"clipaa6cc3y\"><rect x=\"0\" y=\"153.888\" width=\"900\" height=\"266.112\"/></clipPath><clipPath class=\"axesclip\" id=\"clipaa6cc3xy\"><rect x=\"80\" y=\"153.888\" width=\"740\" height=\"266.112\"/></clipPath><clipPath class=\"axesclip\" id=\"clipaa6cc3y2\"><rect x=\"0\" y=\"100\" width=\"900\" height=\"50.687999999999995\"/></clipPath><clipPath class=\"axesclip\" id=\"clipaa6cc3xy2\"><rect x=\"80\" y=\"100\" width=\"740\" height=\"50.687999999999995\"/></clipPath><clipPath class=\"axesclip\" id=\"clipaa6cc3x2\"><rect x=\"80\" y=\"0\" width=\"740\" height=\"500\"/></clipPath><clipPath class=\"axesclip\" id=\"clipaa6cc3x2y\"><rect x=\"80\" y=\"153.888\" width=\"740\" height=\"266.112\"/></clipPath><clipPath class=\"axesclip\" id=\"clipaa6cc3x2y2\"><rect x=\"80\" y=\"100\" width=\"740\" height=\"50.687999999999995\"/></clipPath></g><g class=\"gradients\"/><g class=\"patterns\"/></defs><g class=\"bglayer\"><rect class=\"bg\" x=\"80\" y=\"153.888\" width=\"740\" height=\"266.112\" style=\"fill: rgb(229, 236, 246); fill-opacity: 1; stroke-width: 0;\"/><rect class=\"bg\" x=\"80\" y=\"100\" width=\"740\" height=\"50.687999999999995\" style=\"fill: rgb(229, 236, 246); fill-opacity: 1; stroke-width: 0;\"/></g><g class=\"layer-below\"><g class=\"imagelayer\"/><g class=\"shapelayer\"/></g><g class=\"cartesianlayer\"><g class=\"subplot xy\"><g class=\"layer-subplot\"><g class=\"shapelayer\"/><g class=\"imagelayer\"/></g><g class=\"minor-gridlayer\"><g class=\"x\"/><g class=\"y\"/></g><g class=\"gridlayer\"><g class=\"x\"/><g class=\"y\"><path class=\"ygrid crisp\" transform=\"translate(0,406.698)\" d=\"M80,0h740\" style=\"stroke: rgb(255, 255, 255); stroke-opacity: 1; stroke-width: 1px;\"/><path class=\"ygrid crisp\" transform=\"translate(0,379.08799999999997)\" d=\"M80,0h740\" style=\"stroke: rgb(255, 255, 255); stroke-opacity: 1; stroke-width: 1px;\"/><path class=\"ygrid crisp\" transform=\"translate(0,342.598)\" d=\"M80,0h740\" style=\"stroke: rgb(255, 255, 255); stroke-opacity: 1; stroke-width: 1px;\"/><path class=\"ygrid crisp\" transform=\"translate(0,314.988)\" d=\"M80,0h740\" style=\"stroke: rgb(255, 255, 255); stroke-opacity: 1; stroke-width: 1px;\"/><path class=\"ygrid crisp\" transform=\"translate(0,287.38800000000003)\" d=\"M80,0h740\" style=\"stroke: rgb(255, 255, 255); stroke-opacity: 1; stroke-width: 1px;\"/><path class=\"ygrid crisp\" transform=\"translate(0,250.89800000000002)\" d=\"M80,0h740\" style=\"stroke: rgb(255, 255, 255); stroke-opacity: 1; stroke-width: 1px;\"/><path class=\"ygrid crisp\" transform=\"translate(0,223.288)\" d=\"M80,0h740\" style=\"stroke: rgb(255, 255, 255); stroke-opacity: 1; stroke-width: 1px;\"/><path class=\"ygrid crisp\" transform=\"translate(0,195.688)\" d=\"M80,0h740\" style=\"stroke: rgb(255, 255, 255); stroke-opacity: 1; stroke-width: 1px;\"/><path class=\"ygrid crisp\" transform=\"translate(0,159.18800000000002)\" d=\"M80,0h740\" style=\"stroke: rgb(255, 255, 255); stroke-opacity: 1; stroke-width: 1px;\"/></g></g><g class=\"zerolinelayer\"/><path class=\"xlines-below\"/><path class=\"ylines-below\"/><g class=\"overlines-below\"/><g class=\"xaxislayer-below\"/><g class=\"yaxislayer-below\"/><g class=\"overaxes-below\"/><g class=\"plot\" transform=\"translate(80,153.888)\" clip-path=\"url(#clipaa6cc3xyplot)\"><g class=\"barlayer mlayer\"><g class=\"trace bars\" shape-rendering=\"crispEdges\" style=\"opacity: 1;\"><g class=\"points\"><g class=\"point\"><path d=\"M29.52,2794.18V13.31H44.48V2794.18Z\" style=\"vector-effect: non-scaling-stroke; opacity: 1; stroke-width: 0px; fill: rgb(99, 110, 250); fill-opacity: 1;\"/></g><g class=\"point\"><path d=\"M44.48,2794.18V66.34H59.43V2794.18Z\" style=\"vector-effect: non-scaling-stroke; opacity: 1; stroke-width: 0px; fill: rgb(99, 110, 250); fill-opacity: 1;\"/></g><g class=\"point\"><path d=\"M59.43,2794.18V97.81H74.38V2794.18Z\" style=\"vector-effect: non-scaling-stroke; opacity: 1; stroke-width: 0px; fill: rgb(99, 110, 250); fill-opacity: 1;\"/></g><g class=\"point\"><path d=\"M74.38,2794.18V95.45H89.33V2794.18Z\" style=\"vector-effect: non-scaling-stroke; opacity: 1; stroke-width: 0px; fill: rgb(99, 110, 250); fill-opacity: 1;\"/></g><g class=\"point\"><path d=\"M89.33,2794.18V107.94H104.28V2794.18Z\" style=\"vector-effect: non-scaling-stroke; opacity: 1; stroke-width: 0px; fill: rgb(99, 110, 250); fill-opacity: 1;\"/></g><g class=\"point\"><path d=\"M104.28,2794.18V113.56H119.23V2794.18Z\" style=\"vector-effect: non-scaling-stroke; opacity: 1; stroke-width: 0px; fill: rgb(99, 110, 250); fill-opacity: 1;\"/></g><g class=\"point\"><path d=\"M119.23,2794.18V169.99H134.18V2794.18Z\" style=\"vector-effect: non-scaling-stroke; opacity: 1; stroke-width: 0px; fill: rgb(99, 110, 250); fill-opacity: 1;\"/></g><g class=\"point\"><path d=\"M134.18,2794.18V197.6H149.13V2794.18Z\" style=\"vector-effect: non-scaling-stroke; opacity: 1; stroke-width: 0px; fill: rgb(99, 110, 250); fill-opacity: 1;\"/></g><g class=\"point\"><path d=\"M149.13,2794.18V165.3H164.08V2794.18Z\" style=\"vector-effect: non-scaling-stroke; opacity: 1; stroke-width: 0px; fill: rgb(99, 110, 250); fill-opacity: 1;\"/></g><g class=\"point\"><path d=\"M164.08,2794.18V169.99H179.03V2794.18Z\" style=\"vector-effect: non-scaling-stroke; opacity: 1; stroke-width: 0px; fill: rgb(99, 110, 250); fill-opacity: 1;\"/></g><g class=\"point\"><path d=\"M179.03,2794.18V225.2H193.98V2794.18Z\" style=\"vector-effect: non-scaling-stroke; opacity: 1; stroke-width: 0px; fill: rgb(99, 110, 250); fill-opacity: 1;\"/></g><g class=\"point\"><path d=\"M193.98,2794.18V209.05H208.93V2794.18Z\" style=\"vector-effect: non-scaling-stroke; opacity: 1; stroke-width: 0px; fill: rgb(99, 110, 250); fill-opacity: 1;\"/></g><g class=\"point\"><path d=\"M0,0Z\" style=\"vector-effect: non-scaling-stroke; opacity: 1; stroke-width: 0px; fill: rgb(99, 110, 250); fill-opacity: 1;\"/></g><g class=\"point\"><path d=\"M223.88,2794.18V225.2H238.83V2794.18Z\" style=\"vector-effect: non-scaling-stroke; opacity: 1; stroke-width: 0px; fill: rgb(99, 110, 250); fill-opacity: 1;\"/></g><g class=\"point\"><path d=\"M238.83,2794.18V225.2H253.78V2794.18Z\" style=\"vector-effect: non-scaling-stroke; opacity: 1; stroke-width: 0px; fill: rgb(99, 110, 250); fill-opacity: 1;\"/></g><g class=\"point\"><path d=\"M253.78,2794.18V252.81H268.73V2794.18Z\" style=\"vector-effect: non-scaling-stroke; opacity: 1; stroke-width: 0px; fill: rgb(99, 110, 250); fill-opacity: 1;\"/></g><g class=\"point\"><path d=\"M0,0Z\" style=\"vector-effect: non-scaling-stroke; opacity: 1; stroke-width: 0px; fill: rgb(99, 110, 250); fill-opacity: 1;\"/></g><g class=\"point\"><path d=\"M0,0Z\" style=\"vector-effect: non-scaling-stroke; opacity: 1; stroke-width: 0px; fill: rgb(99, 110, 250); fill-opacity: 1;\"/></g><g class=\"point\"><path d=\"M298.63,2794.18V252.81H313.58V2794.18Z\" style=\"vector-effect: non-scaling-stroke; opacity: 1; stroke-width: 0px; fill: rgb(99, 110, 250); fill-opacity: 1;\"/></g><g class=\"point\"><path d=\"M313.58,2794.18V252.81H328.53V2794.18Z\" style=\"vector-effect: non-scaling-stroke; opacity: 1; stroke-width: 0px; fill: rgb(99, 110, 250); fill-opacity: 1;\"/></g><g class=\"point\"><path d=\"M0,0Z\" style=\"vector-effect: non-scaling-stroke; opacity: 1; stroke-width: 0px; fill: rgb(99, 110, 250); fill-opacity: 1;\"/></g><g class=\"point\"><path d=\"M0,0Z\" style=\"vector-effect: non-scaling-stroke; opacity: 1; stroke-width: 0px; fill: rgb(99, 110, 250); fill-opacity: 1;\"/></g><g class=\"point\"><path d=\"M0,0Z\" style=\"vector-effect: non-scaling-stroke; opacity: 1; stroke-width: 0px; fill: rgb(99, 110, 250); fill-opacity: 1;\"/></g><g class=\"point\"><path d=\"M373.38,2794.18V252.81H388.34V2794.18Z\" style=\"vector-effect: non-scaling-stroke; opacity: 1; stroke-width: 0px; fill: rgb(99, 110, 250); fill-opacity: 1;\"/></g><g class=\"point\"><path d=\"M0,0Z\" style=\"vector-effect: non-scaling-stroke; opacity: 1; stroke-width: 0px; fill: rgb(99, 110, 250); fill-opacity: 1;\"/></g><g class=\"point\"><path d=\"M0,0Z\" style=\"vector-effect: non-scaling-stroke; opacity: 1; stroke-width: 0px; fill: rgb(99, 110, 250); fill-opacity: 1;\"/></g><g class=\"point\"><path d=\"M0,0Z\" style=\"vector-effect: non-scaling-stroke; opacity: 1; stroke-width: 0px; fill: rgb(99, 110, 250); fill-opacity: 1;\"/></g><g class=\"point\"><path d=\"M0,0Z\" style=\"vector-effect: non-scaling-stroke; opacity: 1; stroke-width: 0px; fill: rgb(99, 110, 250); fill-opacity: 1;\"/></g><g class=\"point\"><path d=\"M448.14,2794.18V225.2H463.09V2794.18Z\" style=\"vector-effect: non-scaling-stroke; opacity: 1; stroke-width: 0px; fill: rgb(99, 110, 250); fill-opacity: 1;\"/></g><g class=\"point\"><path d=\"M0,0Z\" style=\"vector-effect: non-scaling-stroke; opacity: 1; stroke-width: 0px; fill: rgb(99, 110, 250); fill-opacity: 1;\"/></g><g class=\"point\"><path d=\"M0,0Z\" style=\"vector-effect: non-scaling-stroke; opacity: 1; stroke-width: 0px; fill: rgb(99, 110, 250); fill-opacity: 1;\"/></g><g class=\"point\"><path d=\"M0,0Z\" style=\"vector-effect: non-scaling-stroke; opacity: 1; stroke-width: 0px; fill: rgb(99, 110, 250); fill-opacity: 1;\"/></g><g class=\"point\"><path d=\"M0,0Z\" style=\"vector-effect: non-scaling-stroke; opacity: 1; stroke-width: 0px; fill: rgb(99, 110, 250); fill-opacity: 1;\"/></g><g class=\"point\"><path d=\"M0,0Z\" style=\"vector-effect: non-scaling-stroke; opacity: 1; stroke-width: 0px; fill: rgb(99, 110, 250); fill-opacity: 1;\"/></g><g class=\"point\"><path d=\"M0,0Z\" style=\"vector-effect: non-scaling-stroke; opacity: 1; stroke-width: 0px; fill: rgb(99, 110, 250); fill-opacity: 1;\"/></g><g class=\"point\"><path d=\"M0,0Z\" style=\"vector-effect: non-scaling-stroke; opacity: 1; stroke-width: 0px; fill: rgb(99, 110, 250); fill-opacity: 1;\"/></g><g class=\"point\"><path d=\"M0,0Z\" style=\"vector-effect: non-scaling-stroke; opacity: 1; stroke-width: 0px; fill: rgb(99, 110, 250); fill-opacity: 1;\"/></g><g class=\"point\"><path d=\"M0,0Z\" style=\"vector-effect: non-scaling-stroke; opacity: 1; stroke-width: 0px; fill: rgb(99, 110, 250); fill-opacity: 1;\"/></g><g class=\"point\"><path d=\"M0,0Z\" style=\"vector-effect: non-scaling-stroke; opacity: 1; stroke-width: 0px; fill: rgb(99, 110, 250); fill-opacity: 1;\"/></g><g class=\"point\"><path d=\"M0,0Z\" style=\"vector-effect: non-scaling-stroke; opacity: 1; stroke-width: 0px; fill: rgb(99, 110, 250); fill-opacity: 1;\"/></g><g class=\"point\"><path d=\"M0,0Z\" style=\"vector-effect: non-scaling-stroke; opacity: 1; stroke-width: 0px; fill: rgb(99, 110, 250); fill-opacity: 1;\"/></g><g class=\"point\"><path d=\"M0,0Z\" style=\"vector-effect: non-scaling-stroke; opacity: 1; stroke-width: 0px; fill: rgb(99, 110, 250); fill-opacity: 1;\"/></g><g class=\"point\"><path d=\"M657.44,2794.18V252.81H672.39V2794.18Z\" style=\"vector-effect: non-scaling-stroke; opacity: 1; stroke-width: 0px; fill: rgb(99, 110, 250); fill-opacity: 1;\"/></g><g class=\"point\"><path d=\"M0,0Z\" style=\"vector-effect: non-scaling-stroke; opacity: 1; stroke-width: 0px; fill: rgb(99, 110, 250); fill-opacity: 1;\"/></g><g class=\"point\"><path d=\"M0,0Z\" style=\"vector-effect: non-scaling-stroke; opacity: 1; stroke-width: 0px; fill: rgb(99, 110, 250); fill-opacity: 1;\"/></g><g class=\"point\"><path d=\"M702.29,2794.18V252.81H717.24V2794.18Z\" style=\"vector-effect: non-scaling-stroke; opacity: 1; stroke-width: 0px; fill: rgb(99, 110, 250); fill-opacity: 1;\"/></g></g></g></g></g><g class=\"overplot\"/><path class=\"xlines-above crisp\" d=\"M0,0\" style=\"fill: none;\"/><path class=\"ylines-above crisp\" d=\"M0,0\" style=\"fill: none;\"/><g class=\"overlines-above\"/><g class=\"xaxislayer-above\"><g class=\"xtick\"><text text-anchor=\"middle\" x=\"0\" y=\"433\" transform=\"translate(117,0)\" style=\"font-family: 'Open Sans', verdana, arial, sans-serif; font-size: 12px; fill: rgb(42, 63, 95); fill-opacity: 1; white-space: pre; opacity: 1;\">0</text></g><g class=\"xtick\"><text text-anchor=\"middle\" x=\"0\" y=\"433\" style=\"font-family: 'Open Sans', verdana, arial, sans-serif; font-size: 12px; fill: rgb(42, 63, 95); fill-opacity: 1; white-space: pre; opacity: 1;\" transform=\"translate(266.5,0)\">50</text></g><g class=\"xtick\"><text text-anchor=\"middle\" x=\"0\" y=\"433\" style=\"font-family: 'Open Sans', verdana, arial, sans-serif; font-size: 12px; fill: rgb(42, 63, 95); fill-opacity: 1; white-space: pre; opacity: 1;\" transform=\"translate(416.01,0)\">100</text></g><g class=\"xtick\"><text text-anchor=\"middle\" x=\"0\" y=\"433\" style=\"font-family: 'Open Sans', verdana, arial, sans-serif; font-size: 12px; fill: rgb(42, 63, 95); fill-opacity: 1; white-space: pre; opacity: 1;\" transform=\"translate(565.51,0)\">150</text></g><g class=\"xtick\"><text text-anchor=\"middle\" x=\"0\" y=\"433\" style=\"font-family: 'Open Sans', verdana, arial, sans-serif; font-size: 12px; fill: rgb(42, 63, 95); fill-opacity: 1; white-space: pre; opacity: 1;\" transform=\"translate(715.02,0)\">200</text></g></g><g class=\"yaxislayer-above\"><g class=\"ytick\"><text text-anchor=\"end\" x=\"79\" y=\"4.199999999999999\" transform=\"translate(0,406.698)\" style=\"font-family: 'Open Sans', verdana, arial, sans-serif; font-size: 12px; fill: rgb(42, 63, 95); fill-opacity: 1; white-space: pre; opacity: 1;\">1</text></g><g class=\"ytick\"><text text-anchor=\"end\" x=\"79\" y=\"3.15\" style=\"font-family: 'Open Sans', verdana, arial, sans-serif; font-size: 9px; fill: rgb(42, 63, 95); fill-opacity: 1; white-space: pre; opacity: 1;\" transform=\"translate(0,379.08799999999997)\">2</text></g><g class=\"ytick\"><text text-anchor=\"end\" x=\"79\" y=\"3.15\" style=\"font-family: 'Open Sans', verdana, arial, sans-serif; font-size: 9px; fill: rgb(42, 63, 95); fill-opacity: 1; white-space: pre; opacity: 1;\" transform=\"translate(0,342.598)\">5</text></g><g class=\"ytick\"><text text-anchor=\"end\" x=\"79\" y=\"4.199999999999999\" style=\"font-family: 'Open Sans', verdana, arial, sans-serif; font-size: 12px; fill: rgb(42, 63, 95); fill-opacity: 1; white-space: pre; opacity: 1;\" transform=\"translate(0,314.988)\">10</text></g><g class=\"ytick\"><text text-anchor=\"end\" x=\"79\" y=\"3.15\" style=\"font-family: 'Open Sans', verdana, arial, sans-serif; font-size: 9px; fill: rgb(42, 63, 95); fill-opacity: 1; white-space: pre; opacity: 1;\" transform=\"translate(0,287.38800000000003)\">2</text></g><g class=\"ytick\"><text text-anchor=\"end\" x=\"79\" y=\"3.15\" style=\"font-family: 'Open Sans', verdana, arial, sans-serif; font-size: 9px; fill: rgb(42, 63, 95); fill-opacity: 1; white-space: pre; opacity: 1;\" transform=\"translate(0,250.89800000000002)\">5</text></g><g class=\"ytick\"><text text-anchor=\"end\" x=\"79\" y=\"4.199999999999999\" style=\"font-family: 'Open Sans', verdana, arial, sans-serif; font-size: 12px; fill: rgb(42, 63, 95); fill-opacity: 1; white-space: pre; opacity: 1;\" transform=\"translate(0,223.288)\">100</text></g><g class=\"ytick\"><text text-anchor=\"end\" x=\"79\" y=\"3.15\" style=\"font-family: 'Open Sans', verdana, arial, sans-serif; font-size: 9px; fill: rgb(42, 63, 95); fill-opacity: 1; white-space: pre; opacity: 1;\" transform=\"translate(0,195.688)\">2</text></g><g class=\"ytick\"><text text-anchor=\"end\" x=\"79\" y=\"3.15\" style=\"font-family: 'Open Sans', verdana, arial, sans-serif; font-size: 9px; fill: rgb(42, 63, 95); fill-opacity: 1; white-space: pre; opacity: 1;\" transform=\"translate(0,159.18800000000002)\">5</text></g></g><g class=\"overaxes-above\"/></g><g class=\"subplot x2y2\"><g class=\"layer-subplot\"><g class=\"shapelayer\"/><g class=\"imagelayer\"/></g><g class=\"minor-gridlayer\"><g class=\"x2\"/><g class=\"y2\"/></g><g class=\"gridlayer\"><g class=\"x2\"><path class=\"x2grid crisp\" transform=\"translate(266.5,0)\" d=\"M0,100v50.687999999999995\" style=\"stroke: rgb(255, 255, 255); stroke-opacity: 1; stroke-width: 1px;\"/><path class=\"x2grid crisp\" transform=\"translate(416.01,0)\" d=\"M0,100v50.687999999999995\" style=\"stroke: rgb(255, 255, 255); stroke-opacity: 1; stroke-width: 1px;\"/><path class=\"x2grid crisp\" transform=\"translate(565.51,0)\" d=\"M0,100v50.687999999999995\" style=\"stroke: rgb(255, 255, 255); stroke-opacity: 1; stroke-width: 1px;\"/><path class=\"x2grid crisp\" transform=\"translate(715.02,0)\" d=\"M0,100v50.687999999999995\" style=\"stroke: rgb(255, 255, 255); stroke-opacity: 1; stroke-width: 1px;\"/></g><g class=\"y2\"/></g><g class=\"zerolinelayer\"><path class=\"x2zl zl crisp\" transform=\"translate(117,0)\" d=\"M0,100v50.687999999999995\" style=\"stroke: rgb(255, 255, 255); stroke-opacity: 1; stroke-width: 2px;\"/></g><path class=\"xlines-below\"/><path class=\"ylines-below\"/><g class=\"overlines-below\"/><g class=\"xaxislayer-below\"/><g class=\"yaxislayer-below\"/><g class=\"overaxes-below\"/><g class=\"plot\" transform=\"translate(80,100)\" clip-path=\"url(#clipaa6cc3x2y2plot)\"><g class=\"boxlayer mlayer\"><g class=\"trace boxes\" style=\"opacity: 1;\"><path class=\"box\" d=\"M42.09,31.55V19.13M37,37.76V12.93H40.3L42.09,19.13L43.88,12.93H67.94V37.76H43.88L42.09,31.55L40.3,37.76ZM37,25.34H37M67.94,25.34H113.26M37,31.55V19.13M113.26,31.55V19.13\" style=\"vector-effect: non-scaling-stroke; stroke-width: 2px; stroke: rgb(99, 110, 250); stroke-opacity: 1; fill: rgb(99, 110, 250); fill-opacity: 0.5;\"/><g class=\"points\"><path class=\"point\" transform=\"translate(114.82,25.34)\" d=\"M3,0A3,3 0 1,1 0,-3A3,3 0 0,1 3,0Z\" style=\"opacity: 1; stroke-width: 0px; fill: rgb(99, 110, 250); fill-opacity: 1;\"/><path class=\"point\" transform=\"translate(116.07,25.34)\" d=\"M3,0A3,3 0 1,1 0,-3A3,3 0 0,1 3,0Z\" style=\"opacity: 1; stroke-width: 0px; fill: rgb(99, 110, 250); fill-opacity: 1;\"/><path class=\"point\" transform=\"translate(116.78,25.34)\" d=\"M3,0A3,3 0 1,1 0,-3A3,3 0 0,1 3,0Z\" style=\"opacity: 1; stroke-width: 0px; fill: rgb(99, 110, 250); fill-opacity: 1;\"/><path class=\"point\" transform=\"translate(116.96,25.34)\" d=\"M3,0A3,3 0 1,1 0,-3A3,3 0 0,1 3,0Z\" style=\"opacity: 1; stroke-width: 0px; fill: rgb(99, 110, 250); fill-opacity: 1;\"/><path class=\"point\" transform=\"translate(117.17,25.34)\" d=\"M3,0A3,3 0 1,1 0,-3A3,3 0 0,1 3,0Z\" style=\"opacity: 1; stroke-width: 0px; fill: rgb(99, 110, 250); fill-opacity: 1;\"/><path class=\"point\" transform=\"translate(120.31,25.34)\" d=\"M3,0A3,3 0 1,1 0,-3A3,3 0 0,1 3,0Z\" style=\"opacity: 1; stroke-width: 0px; fill: rgb(99, 110, 250); fill-opacity: 1;\"/><path class=\"point\" transform=\"translate(120.37,25.34)\" d=\"M3,0A3,3 0 1,1 0,-3A3,3 0 0,1 3,0Z\" style=\"opacity: 1; stroke-width: 0px; fill: rgb(99, 110, 250); fill-opacity: 1;\"/><path class=\"point\" transform=\"translate(120.38,25.34)\" d=\"M3,0A3,3 0 1,1 0,-3A3,3 0 0,1 3,0Z\" style=\"opacity: 1; stroke-width: 0px; fill: rgb(99, 110, 250); fill-opacity: 1;\"/><path class=\"point\" transform=\"translate(125.98,25.34)\" d=\"M3,0A3,3 0 1,1 0,-3A3,3 0 0,1 3,0Z\" style=\"opacity: 1; stroke-width: 0px; fill: rgb(99, 110, 250); fill-opacity: 1;\"/><path class=\"point\" transform=\"translate(126.2,25.34)\" d=\"M3,0A3,3 0 1,1 0,-3A3,3 0 0,1 3,0Z\" style=\"opacity: 1; stroke-width: 0px; fill: rgb(99, 110, 250); fill-opacity: 1;\"/><path class=\"point\" transform=\"translate(130.48,25.34)\" d=\"M3,0A3,3 0 1,1 0,-3A3,3 0 0,1 3,0Z\" style=\"opacity: 1; stroke-width: 0px; fill: rgb(99, 110, 250); fill-opacity: 1;\"/><path class=\"point\" transform=\"translate(133.53,25.34)\" d=\"M3,0A3,3 0 1,1 0,-3A3,3 0 0,1 3,0Z\" style=\"opacity: 1; stroke-width: 0px; fill: rgb(99, 110, 250); fill-opacity: 1;\"/><path class=\"point\" transform=\"translate(133.56,25.34)\" d=\"M3,0A3,3 0 1,1 0,-3A3,3 0 0,1 3,0Z\" style=\"opacity: 1; stroke-width: 0px; fill: rgb(99, 110, 250); fill-opacity: 1;\"/><path class=\"point\" transform=\"translate(135.33,25.34)\" d=\"M3,0A3,3 0 1,1 0,-3A3,3 0 0,1 3,0Z\" style=\"opacity: 1; stroke-width: 0px; fill: rgb(99, 110, 250); fill-opacity: 1;\"/><path class=\"point\" transform=\"translate(142.13,25.34)\" d=\"M3,0A3,3 0 1,1 0,-3A3,3 0 0,1 3,0Z\" style=\"opacity: 1; stroke-width: 0px; fill: rgb(99, 110, 250); fill-opacity: 1;\"/><path class=\"point\" transform=\"translate(143.43,25.34)\" d=\"M3,0A3,3 0 1,1 0,-3A3,3 0 0,1 3,0Z\" style=\"opacity: 1; stroke-width: 0px; fill: rgb(99, 110, 250); fill-opacity: 1;\"/><path class=\"point\" transform=\"translate(146.41,25.34)\" d=\"M3,0A3,3 0 1,1 0,-3A3,3 0 0,1 3,0Z\" style=\"opacity: 1; stroke-width: 0px; fill: rgb(99, 110, 250); fill-opacity: 1;\"/><path class=\"point\" transform=\"translate(149.43,25.34)\" d=\"M3,0A3,3 0 1,1 0,-3A3,3 0 0,1 3,0Z\" style=\"opacity: 1; stroke-width: 0px; fill: rgb(99, 110, 250); fill-opacity: 1;\"/><path class=\"point\" transform=\"translate(151.72,25.34)\" d=\"M3,0A3,3 0 1,1 0,-3A3,3 0 0,1 3,0Z\" style=\"opacity: 1; stroke-width: 0px; fill: rgb(99, 110, 250); fill-opacity: 1;\"/><path class=\"point\" transform=\"translate(153.48,25.34)\" d=\"M3,0A3,3 0 1,1 0,-3A3,3 0 0,1 3,0Z\" style=\"opacity: 1; stroke-width: 0px; fill: rgb(99, 110, 250); fill-opacity: 1;\"/><path class=\"point\" transform=\"translate(155.11,25.34)\" d=\"M3,0A3,3 0 1,1 0,-3A3,3 0 0,1 3,0Z\" style=\"opacity: 1; stroke-width: 0px; fill: rgb(99, 110, 250); fill-opacity: 1;\"/><path class=\"point\" transform=\"translate(157.82,25.34)\" d=\"M3,0A3,3 0 1,1 0,-3A3,3 0 0,1 3,0Z\" style=\"opacity: 1; stroke-width: 0px; fill: rgb(99, 110, 250); fill-opacity: 1;\"/><path class=\"point\" transform=\"translate(159.22,25.34)\" d=\"M3,0A3,3 0 1,1 0,-3A3,3 0 0,1 3,0Z\" style=\"opacity: 1; stroke-width: 0px; fill: rgb(99, 110, 250); fill-opacity: 1;\"/><path class=\"point\" transform=\"translate(160.33,25.34)\" d=\"M3,0A3,3 0 1,1 0,-3A3,3 0 0,1 3,0Z\" style=\"opacity: 1; stroke-width: 0px; fill: rgb(99, 110, 250); fill-opacity: 1;\"/><path class=\"point\" transform=\"translate(160.98,25.34)\" d=\"M3,0A3,3 0 1,1 0,-3A3,3 0 0,1 3,0Z\" style=\"opacity: 1; stroke-width: 0px; fill: rgb(99, 110, 250); fill-opacity: 1;\"/><path class=\"point\" transform=\"translate(161.69,25.34)\" d=\"M3,0A3,3 0 1,1 0,-3A3,3 0 0,1 3,0Z\" style=\"opacity: 1; stroke-width: 0px; fill: rgb(99, 110, 250); fill-opacity: 1;\"/><path class=\"point\" transform=\"translate(164.62,25.34)\" d=\"M3,0A3,3 0 1,1 0,-3A3,3 0 0,1 3,0Z\" style=\"opacity: 1; stroke-width: 0px; fill: rgb(99, 110, 250); fill-opacity: 1;\"/><path class=\"point\" transform=\"translate(165.99,25.34)\" d=\"M3,0A3,3 0 1,1 0,-3A3,3 0 0,1 3,0Z\" style=\"opacity: 1; stroke-width: 0px; fill: rgb(99, 110, 250); fill-opacity: 1;\"/><path class=\"point\" transform=\"translate(170.5,25.34)\" d=\"M3,0A3,3 0 1,1 0,-3A3,3 0 0,1 3,0Z\" style=\"opacity: 1; stroke-width: 0px; fill: rgb(99, 110, 250); fill-opacity: 1;\"/><path class=\"point\" transform=\"translate(172.05,25.34)\" d=\"M3,0A3,3 0 1,1 0,-3A3,3 0 0,1 3,0Z\" style=\"opacity: 1; stroke-width: 0px; fill: rgb(99, 110, 250); fill-opacity: 1;\"/><path class=\"point\" transform=\"translate(172.49,25.34)\" d=\"M3,0A3,3 0 1,1 0,-3A3,3 0 0,1 3,0Z\" style=\"opacity: 1; stroke-width: 0px; fill: rgb(99, 110, 250); fill-opacity: 1;\"/><path class=\"point\" transform=\"translate(172.6,25.34)\" d=\"M3,0A3,3 0 1,1 0,-3A3,3 0 0,1 3,0Z\" style=\"opacity: 1; stroke-width: 0px; fill: rgb(99, 110, 250); fill-opacity: 1;\"/><path class=\"point\" transform=\"translate(172.72,25.34)\" d=\"M3,0A3,3 0 1,1 0,-3A3,3 0 0,1 3,0Z\" style=\"opacity: 1; stroke-width: 0px; fill: rgb(99, 110, 250); fill-opacity: 1;\"/><path class=\"point\" transform=\"translate(175.4,25.34)\" d=\"M3,0A3,3 0 1,1 0,-3A3,3 0 0,1 3,0Z\" style=\"opacity: 1; stroke-width: 0px; fill: rgb(99, 110, 250); fill-opacity: 1;\"/><path class=\"point\" transform=\"translate(179.29,25.34)\" d=\"M3,0A3,3 0 1,1 0,-3A3,3 0 0,1 3,0Z\" style=\"opacity: 1; stroke-width: 0px; fill: rgb(99, 110, 250); fill-opacity: 1;\"/><path class=\"point\" transform=\"translate(186.44,25.34)\" d=\"M3,0A3,3 0 1,1 0,-3A3,3 0 0,1 3,0Z\" style=\"opacity: 1; stroke-width: 0px; fill: rgb(99, 110, 250); fill-opacity: 1;\"/><path class=\"point\" transform=\"translate(198.94,25.34)\" d=\"M3,0A3,3 0 1,1 0,-3A3,3 0 0,1 3,0Z\" style=\"opacity: 1; stroke-width: 0px; fill: rgb(99, 110, 250); fill-opacity: 1;\"/><path class=\"point\" transform=\"translate(204.14,25.34)\" d=\"M3,0A3,3 0 1,1 0,-3A3,3 0 0,1 3,0Z\" style=\"opacity: 1; stroke-width: 0px; fill: rgb(99, 110, 250); fill-opacity: 1;\"/><path class=\"point\" transform=\"translate(205.85,25.34)\" d=\"M3,0A3,3 0 1,1 0,-3A3,3 0 0,1 3,0Z\" style=\"opacity: 1; stroke-width: 0px; fill: rgb(99, 110, 250); fill-opacity: 1;\"/><path class=\"point\" transform=\"translate(237.51,25.34)\" d=\"M3,0A3,3 0 1,1 0,-3A3,3 0 0,1 3,0Z\" style=\"opacity: 1; stroke-width: 0px; fill: rgb(99, 110, 250); fill-opacity: 1;\"/><path class=\"point\" transform=\"translate(238.54,25.34)\" d=\"M3,0A3,3 0 1,1 0,-3A3,3 0 0,1 3,0Z\" style=\"opacity: 1; stroke-width: 0px; fill: rgb(99, 110, 250); fill-opacity: 1;\"/><path class=\"point\" transform=\"translate(244.64,25.34)\" d=\"M3,0A3,3 0 1,1 0,-3A3,3 0 0,1 3,0Z\" style=\"opacity: 1; stroke-width: 0px; fill: rgb(99, 110, 250); fill-opacity: 1;\"/><path class=\"point\" transform=\"translate(251.31,25.34)\" d=\"M3,0A3,3 0 1,1 0,-3A3,3 0 0,1 3,0Z\" style=\"opacity: 1; stroke-width: 0px; fill: rgb(99, 110, 250); fill-opacity: 1;\"/><path class=\"point\" transform=\"translate(257.76,25.34)\" d=\"M3,0A3,3 0 1,1 0,-3A3,3 0 0,1 3,0Z\" style=\"opacity: 1; stroke-width: 0px; fill: rgb(99, 110, 250); fill-opacity: 1;\"/><path class=\"point\" transform=\"translate(301.8,25.34)\" d=\"M3,0A3,3 0 1,1 0,-3A3,3 0 0,1 3,0Z\" style=\"opacity: 1; stroke-width: 0px; fill: rgb(99, 110, 250); fill-opacity: 1;\"/><path class=\"point\" transform=\"translate(319.63,25.34)\" d=\"M3,0A3,3 0 1,1 0,-3A3,3 0 0,1 3,0Z\" style=\"opacity: 1; stroke-width: 0px; fill: rgb(99, 110, 250); fill-opacity: 1;\"/><path class=\"point\" transform=\"translate(386.23,25.34)\" d=\"M3,0A3,3 0 1,1 0,-3A3,3 0 0,1 3,0Z\" style=\"opacity: 1; stroke-width: 0px; fill: rgb(99, 110, 250); fill-opacity: 1;\"/><path class=\"point\" transform=\"translate(448.3,25.34)\" d=\"M3,0A3,3 0 1,1 0,-3A3,3 0 0,1 3,0Z\" style=\"opacity: 1; stroke-width: 0px; fill: rgb(99, 110, 250); fill-opacity: 1;\"/><path class=\"point\" transform=\"translate(448.64,25.34)\" d=\"M3,0A3,3 0 1,1 0,-3A3,3 0 0,1 3,0Z\" style=\"opacity: 1; stroke-width: 0px; fill: rgb(99, 110, 250); fill-opacity: 1;\"/><path class=\"point\" transform=\"translate(658.58,25.34)\" d=\"M3,0A3,3 0 1,1 0,-3A3,3 0 0,1 3,0Z\" style=\"opacity: 1; stroke-width: 0px; fill: rgb(99, 110, 250); fill-opacity: 1;\"/><path class=\"point\" transform=\"translate(703,25.34)\" d=\"M3,0A3,3 0 1,1 0,-3A3,3 0 0,1 3,0Z\" style=\"opacity: 1; stroke-width: 0px; fill: rgb(99, 110, 250); fill-opacity: 1;\"/></g></g></g></g><g class=\"overplot\"/><path class=\"xlines-above crisp\" d=\"M0,0\" style=\"fill: none;\"/><path class=\"ylines-above crisp\" d=\"M0,0\" style=\"fill: none;\"/><g class=\"overlines-above\"/><g class=\"xaxislayer-above\"/><g class=\"yaxislayer-above\"/><g class=\"overaxes-above\"/></g></g><g class=\"polarlayer\"/><g class=\"smithlayer\"/><g class=\"ternarylayer\"/><g class=\"geolayer\"/><g class=\"funnelarealayer\"/><g class=\"pielayer\"/><g class=\"iciclelayer\"/><g class=\"treemaplayer\"/><g class=\"sunburstlayer\"/><g class=\"glimages\"/><defs id=\"topdefs-aa6cc3\"><g class=\"clips\"/></defs><g class=\"layer-above\"><g class=\"imagelayer\"/><g class=\"shapelayer\"/></g><g class=\"infolayer\"><g class=\"g-gtitle\"><text class=\"gtitle\" x=\"45\" y=\"50\" text-anchor=\"start\" dy=\"0em\" style=\"font-family: 'Open Sans', verdana, arial, sans-serif; font-size: 17px; fill: rgb(42, 63, 95); opacity: 1; font-weight: normal; white-space: pre;\">Distribution of response time</text></g><g class=\"g-xtitle\"><text class=\"xtitle\" x=\"450\" y=\"460.3\" text-anchor=\"middle\" style=\"font-family: 'Open Sans', verdana, arial, sans-serif; font-size: 14px; fill: rgb(42, 63, 95); opacity: 1; font-weight: normal; white-space: pre;\">response_time</text></g><g class=\"g-x2title\"/><g class=\"g-ytitle\"><text class=\"ytitle\" transform=\"rotate(-90,31.309375000000003,286.944)\" x=\"31.309375000000003\" y=\"286.944\" text-anchor=\"middle\" style=\"font-family: 'Open Sans', verdana, arial, sans-serif; font-size: 14px; fill: rgb(42, 63, 95); opacity: 1; font-weight: normal; white-space: pre;\">count</text></g><g class=\"g-y2title\"/></g></svg>"
     },
     "metadata": {},
     "output_type": "display_data"
    }
   ],
   "source": [
    "fig = px.histogram(result[result['response_time']<1000], x='response_time', log_y=True, marginal='box', title='Distribution of response time')\n",
    "fig.show()"
   ]
  },
  {
   "cell_type": "markdown",
   "metadata": {},
   "source": [
    "## Resolution time"
   ]
  },
  {
   "cell_type": "markdown",
   "metadata": {},
   "source": [
    "Assuming that if the last query in the conversation is from the company then the issue is resolved.  \n",
    "Resolution time is the time difference between the last date of last tweet in the conversation and the date of first query."
   ]
  },
  {
   "cell_type": "code",
   "execution_count": 16,
   "metadata": {},
   "outputs": [],
   "source": [
    "result['resolution_time'] = 0"
   ]
  },
  {
   "cell_type": "code",
   "execution_count": 17,
   "metadata": {},
   "outputs": [],
   "source": [
    "for index, conversation_id in enumerate(conversation_ids):\n",
    "    tmp = df[df['conversation_id'] == conversation_id]\n",
    "    tmp.sort_values('date', ascending=True, inplace=True)\n",
    "    comp_tmp = tmp[tmp['username'] == company_username]\n",
    "    if tmp.iloc[-1]['username'] == company_username:\n",
    "        resolution_time = (tmp.iloc[-1]['date'] - tmp.iloc[0]['date']) / datetime.timedelta(hours=1)\n",
    "        result.at[index, 'resolution_time'] = resolution_time"
   ]
  },
  {
   "cell_type": "code",
   "execution_count": 18,
   "metadata": {},
   "outputs": [
    {
     "name": "stdout",
     "output_type": "stream",
     "text": [
      "Number of queries resolved: 547\n",
      "Number of queries unresolved: 189\n"
     ]
    }
   ],
   "source": [
    "print(f\"Number of queries resolved: {len(result['resolution_time'].to_numpy().nonzero()[0])}\")\n",
    "print(f\"Number of queries unresolved: {result.shape[0] - len(result['resolution_time'].to_numpy().nonzero()[0])}\")"
   ]
  },
  {
   "cell_type": "code",
   "execution_count": 19,
   "metadata": {},
   "outputs": [
    {
     "data": {
      "image/svg+xml": "<svg class=\"main-svg\" xmlns=\"http://www.w3.org/2000/svg\" xmlns:xlink=\"http://www.w3.org/1999/xlink\" width=\"900\" height=\"500\" style=\"\" viewBox=\"0 0 900 500\"><rect x=\"0\" y=\"0\" width=\"900\" height=\"500\" style=\"fill: rgb(255, 255, 255); fill-opacity: 1;\"/><defs id=\"defs-bb9c21\"><g class=\"clips\"><clipPath id=\"clipbb9c21xyplot\" class=\"plotclip\"><rect width=\"740\" height=\"266.112\"/></clipPath><clipPath id=\"clipbb9c21x2y2plot\" class=\"plotclip\"><rect width=\"740\" height=\"50.687999999999995\"/></clipPath><clipPath class=\"axesclip\" id=\"clipbb9c21x\"><rect x=\"80\" y=\"0\" width=\"740\" height=\"500\"/></clipPath><clipPath class=\"axesclip\" id=\"clipbb9c21y\"><rect x=\"0\" y=\"153.888\" width=\"900\" height=\"266.112\"/></clipPath><clipPath class=\"axesclip\" id=\"clipbb9c21xy\"><rect x=\"80\" y=\"153.888\" width=\"740\" height=\"266.112\"/></clipPath><clipPath class=\"axesclip\" id=\"clipbb9c21y2\"><rect x=\"0\" y=\"100\" width=\"900\" height=\"50.687999999999995\"/></clipPath><clipPath class=\"axesclip\" id=\"clipbb9c21xy2\"><rect x=\"80\" y=\"100\" width=\"740\" height=\"50.687999999999995\"/></clipPath><clipPath class=\"axesclip\" id=\"clipbb9c21x2\"><rect x=\"80\" y=\"0\" width=\"740\" height=\"500\"/></clipPath><clipPath class=\"axesclip\" id=\"clipbb9c21x2y\"><rect x=\"80\" y=\"153.888\" width=\"740\" height=\"266.112\"/></clipPath><clipPath class=\"axesclip\" id=\"clipbb9c21x2y2\"><rect x=\"80\" y=\"100\" width=\"740\" height=\"50.687999999999995\"/></clipPath></g><g class=\"gradients\"/><g class=\"patterns\"/></defs><g class=\"bglayer\"><rect class=\"bg\" x=\"80\" y=\"153.888\" width=\"740\" height=\"266.112\" style=\"fill: rgb(229, 236, 246); fill-opacity: 1; stroke-width: 0;\"/><rect class=\"bg\" x=\"80\" y=\"100\" width=\"740\" height=\"50.687999999999995\" style=\"fill: rgb(229, 236, 246); fill-opacity: 1; stroke-width: 0;\"/></g><g class=\"layer-below\"><g class=\"imagelayer\"/><g class=\"shapelayer\"/></g><g class=\"cartesianlayer\"><g class=\"subplot xy\"><g class=\"layer-subplot\"><g class=\"shapelayer\"/><g class=\"imagelayer\"/></g><g class=\"minor-gridlayer\"><g class=\"x\"/><g class=\"y\"/></g><g class=\"gridlayer\"><g class=\"x\"/><g class=\"y\"><path class=\"ygrid crisp\" transform=\"translate(0,406.698)\" d=\"M80,0h740\" style=\"stroke: rgb(255, 255, 255); stroke-opacity: 1; stroke-width: 1px;\"/><path class=\"ygrid crisp\" transform=\"translate(0,380.238)\" d=\"M80,0h740\" style=\"stroke: rgb(255, 255, 255); stroke-opacity: 1; stroke-width: 1px;\"/><path class=\"ygrid crisp\" transform=\"translate(0,345.26800000000003)\" d=\"M80,0h740\" style=\"stroke: rgb(255, 255, 255); stroke-opacity: 1; stroke-width: 1px;\"/><path class=\"ygrid crisp\" transform=\"translate(0,318.808)\" d=\"M80,0h740\" style=\"stroke: rgb(255, 255, 255); stroke-opacity: 1; stroke-width: 1px;\"/><path class=\"ygrid crisp\" transform=\"translate(0,292.348)\" d=\"M80,0h740\" style=\"stroke: rgb(255, 255, 255); stroke-opacity: 1; stroke-width: 1px;\"/><path class=\"ygrid crisp\" transform=\"translate(0,257.378)\" d=\"M80,0h740\" style=\"stroke: rgb(255, 255, 255); stroke-opacity: 1; stroke-width: 1px;\"/><path class=\"ygrid crisp\" transform=\"translate(0,230.918)\" d=\"M80,0h740\" style=\"stroke: rgb(255, 255, 255); stroke-opacity: 1; stroke-width: 1px;\"/><path class=\"ygrid crisp\" transform=\"translate(0,204.46800000000002)\" d=\"M80,0h740\" style=\"stroke: rgb(255, 255, 255); stroke-opacity: 1; stroke-width: 1px;\"/><path class=\"ygrid crisp\" transform=\"translate(0,169.488)\" d=\"M80,0h740\" style=\"stroke: rgb(255, 255, 255); stroke-opacity: 1; stroke-width: 1px;\"/></g></g><g class=\"zerolinelayer\"/><path class=\"xlines-below\"/><path class=\"ylines-below\"/><g class=\"overlines-below\"/><g class=\"xaxislayer-below\"/><g class=\"yaxislayer-below\"/><g class=\"overaxes-below\"/><g class=\"plot\" transform=\"translate(80,153.888)\" clip-path=\"url(#clipbb9c21xyplot)\"><g class=\"barlayer mlayer\"><g class=\"trace bars\" shape-rendering=\"crispEdges\" style=\"opacity: 1;\"><g class=\"points\"><g class=\"point\"><path d=\"M33.99,2794.18V13.31H40.01V2794.18Z\" style=\"vector-effect: non-scaling-stroke; opacity: 1; stroke-width: 0px; fill: rgb(99, 110, 250); fill-opacity: 1;\"/></g><g class=\"point\"><path d=\"M40.01,2794.18V72.37H46.02V2794.18Z\" style=\"vector-effect: non-scaling-stroke; opacity: 1; stroke-width: 0px; fill: rgb(99, 110, 250); fill-opacity: 1;\"/></g><g class=\"point\"><path d=\"M46.02,2794.18V121.73H52.03V2794.18Z\" style=\"vector-effect: non-scaling-stroke; opacity: 1; stroke-width: 0px; fill: rgb(99, 110, 250); fill-opacity: 1;\"/></g><g class=\"point\"><path d=\"M52.03,2794.18V152.08H58.04V2794.18Z\" style=\"vector-effect: non-scaling-stroke; opacity: 1; stroke-width: 0px; fill: rgb(99, 110, 250); fill-opacity: 1;\"/></g><g class=\"point\"><path d=\"M58.04,2794.18V173.44H64.05V2794.18Z\" style=\"vector-effect: non-scaling-stroke; opacity: 1; stroke-width: 0px; fill: rgb(99, 110, 250); fill-opacity: 1;\"/></g><g class=\"point\"><path d=\"M64.05,2794.18V199.89H70.06V2794.18Z\" style=\"vector-effect: non-scaling-stroke; opacity: 1; stroke-width: 0px; fill: rgb(99, 110, 250); fill-opacity: 1;\"/></g><g class=\"point\"><path d=\"M70.06,2794.18V191.38H76.07V2794.18Z\" style=\"vector-effect: non-scaling-stroke; opacity: 1; stroke-width: 0px; fill: rgb(99, 110, 250); fill-opacity: 1;\"/></g><g class=\"point\"><path d=\"M76.07,2794.18V184.42H82.08V2794.18Z\" style=\"vector-effect: non-scaling-stroke; opacity: 1; stroke-width: 0px; fill: rgb(99, 110, 250); fill-opacity: 1;\"/></g><g class=\"point\"><path d=\"M0,0Z\" style=\"vector-effect: non-scaling-stroke; opacity: 1; stroke-width: 0px; fill: rgb(99, 110, 250); fill-opacity: 1;\"/></g><g class=\"point\"><path d=\"M88.09,2794.18V210.87H94.1V2794.18Z\" style=\"vector-effect: non-scaling-stroke; opacity: 1; stroke-width: 0px; fill: rgb(99, 110, 250); fill-opacity: 1;\"/></g><g class=\"point\"><path d=\"M94.1,2794.18V252.81H100.11V2794.18Z\" style=\"vector-effect: non-scaling-stroke; opacity: 1; stroke-width: 0px; fill: rgb(99, 110, 250); fill-opacity: 1;\"/></g><g class=\"point\"><path d=\"M100.11,2794.18V210.87H106.12V2794.18Z\" style=\"vector-effect: non-scaling-stroke; opacity: 1; stroke-width: 0px; fill: rgb(99, 110, 250); fill-opacity: 1;\"/></g><g class=\"point\"><path d=\"M0,0Z\" style=\"vector-effect: non-scaling-stroke; opacity: 1; stroke-width: 0px; fill: rgb(99, 110, 250); fill-opacity: 1;\"/></g><g class=\"point\"><path d=\"M112.13,2794.18V252.81H118.14V2794.18Z\" style=\"vector-effect: non-scaling-stroke; opacity: 1; stroke-width: 0px; fill: rgb(99, 110, 250); fill-opacity: 1;\"/></g><g class=\"point\"><path d=\"M0,0Z\" style=\"vector-effect: non-scaling-stroke; opacity: 1; stroke-width: 0px; fill: rgb(99, 110, 250); fill-opacity: 1;\"/></g><g class=\"point\"><path d=\"M124.15,2794.18V252.81H130.16V2794.18Z\" style=\"vector-effect: non-scaling-stroke; opacity: 1; stroke-width: 0px; fill: rgb(99, 110, 250); fill-opacity: 1;\"/></g><g class=\"point\"><path d=\"M130.16,2794.18V252.81H136.17V2794.18Z\" style=\"vector-effect: non-scaling-stroke; opacity: 1; stroke-width: 0px; fill: rgb(99, 110, 250); fill-opacity: 1;\"/></g><g class=\"point\"><path d=\"M136.17,2794.18V252.81H142.18V2794.18Z\" style=\"vector-effect: non-scaling-stroke; opacity: 1; stroke-width: 0px; fill: rgb(99, 110, 250); fill-opacity: 1;\"/></g><g class=\"point\"><path d=\"M142.18,2794.18V252.81H148.2V2794.18Z\" style=\"vector-effect: non-scaling-stroke; opacity: 1; stroke-width: 0px; fill: rgb(99, 110, 250); fill-opacity: 1;\"/></g><g class=\"point\"><path d=\"M0,0Z\" style=\"vector-effect: non-scaling-stroke; opacity: 1; stroke-width: 0px; fill: rgb(99, 110, 250); fill-opacity: 1;\"/></g><g class=\"point\"><path d=\"M154.21,2794.18V252.81H160.22V2794.18Z\" style=\"vector-effect: non-scaling-stroke; opacity: 1; stroke-width: 0px; fill: rgb(99, 110, 250); fill-opacity: 1;\"/></g><g class=\"point\"><path d=\"M0,0Z\" style=\"vector-effect: non-scaling-stroke; opacity: 1; stroke-width: 0px; fill: rgb(99, 110, 250); fill-opacity: 1;\"/></g><g class=\"point\"><path d=\"M166.23,2794.18V252.81H172.24V2794.18Z\" style=\"vector-effect: non-scaling-stroke; opacity: 1; stroke-width: 0px; fill: rgb(99, 110, 250); fill-opacity: 1;\"/></g><g class=\"point\"><path d=\"M0,0Z\" style=\"vector-effect: non-scaling-stroke; opacity: 1; stroke-width: 0px; fill: rgb(99, 110, 250); fill-opacity: 1;\"/></g><g class=\"point\"><path d=\"M0,0Z\" style=\"vector-effect: non-scaling-stroke; opacity: 1; stroke-width: 0px; fill: rgb(99, 110, 250); fill-opacity: 1;\"/></g><g class=\"point\"><path d=\"M184.26,2794.18V252.81H190.27V2794.18Z\" style=\"vector-effect: non-scaling-stroke; opacity: 1; stroke-width: 0px; fill: rgb(99, 110, 250); fill-opacity: 1;\"/></g><g class=\"point\"><path d=\"M0,0Z\" style=\"vector-effect: non-scaling-stroke; opacity: 1; stroke-width: 0px; fill: rgb(99, 110, 250); fill-opacity: 1;\"/></g><g class=\"point\"><path d=\"M0,0Z\" style=\"vector-effect: non-scaling-stroke; opacity: 1; stroke-width: 0px; fill: rgb(99, 110, 250); fill-opacity: 1;\"/></g><g class=\"point\"><path d=\"M0,0Z\" style=\"vector-effect: non-scaling-stroke; opacity: 1; stroke-width: 0px; fill: rgb(99, 110, 250); fill-opacity: 1;\"/></g><g class=\"point\"><path d=\"M0,0Z\" style=\"vector-effect: non-scaling-stroke; opacity: 1; stroke-width: 0px; fill: rgb(99, 110, 250); fill-opacity: 1;\"/></g><g class=\"point\"><path d=\"M0,0Z\" style=\"vector-effect: non-scaling-stroke; opacity: 1; stroke-width: 0px; fill: rgb(99, 110, 250); fill-opacity: 1;\"/></g><g class=\"point\"><path d=\"M0,0Z\" style=\"vector-effect: non-scaling-stroke; opacity: 1; stroke-width: 0px; fill: rgb(99, 110, 250); fill-opacity: 1;\"/></g><g class=\"point\"><path d=\"M226.33,2794.18V252.81H232.34V2794.18Z\" style=\"vector-effect: non-scaling-stroke; opacity: 1; stroke-width: 0px; fill: rgb(99, 110, 250); fill-opacity: 1;\"/></g><g class=\"point\"><path d=\"M232.34,2794.18V252.81H238.35V2794.18Z\" style=\"vector-effect: non-scaling-stroke; opacity: 1; stroke-width: 0px; fill: rgb(99, 110, 250); fill-opacity: 1;\"/></g><g class=\"point\"><path d=\"M0,0Z\" style=\"vector-effect: non-scaling-stroke; opacity: 1; stroke-width: 0px; fill: rgb(99, 110, 250); fill-opacity: 1;\"/></g><g class=\"point\"><path d=\"M0,0Z\" style=\"vector-effect: non-scaling-stroke; opacity: 1; stroke-width: 0px; fill: rgb(99, 110, 250); fill-opacity: 1;\"/></g><g class=\"point\"><path d=\"M250.37,2794.18V226.35H256.39V2794.18Z\" style=\"vector-effect: non-scaling-stroke; opacity: 1; stroke-width: 0px; fill: rgb(99, 110, 250); fill-opacity: 1;\"/></g><g class=\"point\"><path d=\"M0,0Z\" style=\"vector-effect: non-scaling-stroke; opacity: 1; stroke-width: 0px; fill: rgb(99, 110, 250); fill-opacity: 1;\"/></g><g class=\"point\"><path d=\"M0,0Z\" style=\"vector-effect: non-scaling-stroke; opacity: 1; stroke-width: 0px; fill: rgb(99, 110, 250); fill-opacity: 1;\"/></g><g class=\"point\"><path d=\"M0,0Z\" style=\"vector-effect: non-scaling-stroke; opacity: 1; stroke-width: 0px; fill: rgb(99, 110, 250); fill-opacity: 1;\"/></g><g class=\"point\"><path d=\"M0,0Z\" style=\"vector-effect: non-scaling-stroke; opacity: 1; stroke-width: 0px; fill: rgb(99, 110, 250); fill-opacity: 1;\"/></g><g class=\"point\"><path d=\"M0,0Z\" style=\"vector-effect: non-scaling-stroke; opacity: 1; stroke-width: 0px; fill: rgb(99, 110, 250); fill-opacity: 1;\"/></g><g class=\"point\"><path d=\"M0,0Z\" style=\"vector-effect: non-scaling-stroke; opacity: 1; stroke-width: 0px; fill: rgb(99, 110, 250); fill-opacity: 1;\"/></g><g class=\"point\"><path d=\"M292.45,2794.18V252.81H298.46V2794.18Z\" style=\"vector-effect: non-scaling-stroke; opacity: 1; stroke-width: 0px; fill: rgb(99, 110, 250); fill-opacity: 1;\"/></g><g class=\"point\"><path d=\"M0,0Z\" style=\"vector-effect: non-scaling-stroke; opacity: 1; stroke-width: 0px; fill: rgb(99, 110, 250); fill-opacity: 1;\"/></g><g class=\"point\"><path d=\"M0,0Z\" style=\"vector-effect: non-scaling-stroke; opacity: 1; stroke-width: 0px; fill: rgb(99, 110, 250); fill-opacity: 1;\"/></g><g class=\"point\"><path d=\"M0,0Z\" style=\"vector-effect: non-scaling-stroke; opacity: 1; stroke-width: 0px; fill: rgb(99, 110, 250); fill-opacity: 1;\"/></g><g class=\"point\"><path d=\"M0,0Z\" style=\"vector-effect: non-scaling-stroke; opacity: 1; stroke-width: 0px; fill: rgb(99, 110, 250); fill-opacity: 1;\"/></g><g class=\"point\"><path d=\"M0,0Z\" style=\"vector-effect: non-scaling-stroke; opacity: 1; stroke-width: 0px; fill: rgb(99, 110, 250); fill-opacity: 1;\"/></g><g class=\"point\"><path d=\"M0,0Z\" style=\"vector-effect: non-scaling-stroke; opacity: 1; stroke-width: 0px; fill: rgb(99, 110, 250); fill-opacity: 1;\"/></g><g class=\"point\"><path d=\"M0,0Z\" style=\"vector-effect: non-scaling-stroke; opacity: 1; stroke-width: 0px; fill: rgb(99, 110, 250); fill-opacity: 1;\"/></g><g class=\"point\"><path d=\"M0,0Z\" style=\"vector-effect: non-scaling-stroke; opacity: 1; stroke-width: 0px; fill: rgb(99, 110, 250); fill-opacity: 1;\"/></g><g class=\"point\"><path d=\"M0,0Z\" style=\"vector-effect: non-scaling-stroke; opacity: 1; stroke-width: 0px; fill: rgb(99, 110, 250); fill-opacity: 1;\"/></g><g class=\"point\"><path d=\"M352.55,2794.18V252.81H358.56V2794.18Z\" style=\"vector-effect: non-scaling-stroke; opacity: 1; stroke-width: 0px; fill: rgb(99, 110, 250); fill-opacity: 1;\"/></g><g class=\"point\"><path d=\"M0,0Z\" style=\"vector-effect: non-scaling-stroke; opacity: 1; stroke-width: 0px; fill: rgb(99, 110, 250); fill-opacity: 1;\"/></g><g class=\"point\"><path d=\"M364.58,2794.18V252.81H370.59V2794.18Z\" style=\"vector-effect: non-scaling-stroke; opacity: 1; stroke-width: 0px; fill: rgb(99, 110, 250); fill-opacity: 1;\"/></g><g class=\"point\"><path d=\"M0,0Z\" style=\"vector-effect: non-scaling-stroke; opacity: 1; stroke-width: 0px; fill: rgb(99, 110, 250); fill-opacity: 1;\"/></g><g class=\"point\"><path d=\"M0,0Z\" style=\"vector-effect: non-scaling-stroke; opacity: 1; stroke-width: 0px; fill: rgb(99, 110, 250); fill-opacity: 1;\"/></g><g class=\"point\"><path d=\"M382.61,2794.18V252.81H388.62V2794.18Z\" style=\"vector-effect: non-scaling-stroke; opacity: 1; stroke-width: 0px; fill: rgb(99, 110, 250); fill-opacity: 1;\"/></g><g class=\"point\"><path d=\"M0,0Z\" style=\"vector-effect: non-scaling-stroke; opacity: 1; stroke-width: 0px; fill: rgb(99, 110, 250); fill-opacity: 1;\"/></g><g class=\"point\"><path d=\"M0,0Z\" style=\"vector-effect: non-scaling-stroke; opacity: 1; stroke-width: 0px; fill: rgb(99, 110, 250); fill-opacity: 1;\"/></g><g class=\"point\"><path d=\"M0,0Z\" style=\"vector-effect: non-scaling-stroke; opacity: 1; stroke-width: 0px; fill: rgb(99, 110, 250); fill-opacity: 1;\"/></g><g class=\"point\"><path d=\"M0,0Z\" style=\"vector-effect: non-scaling-stroke; opacity: 1; stroke-width: 0px; fill: rgb(99, 110, 250); fill-opacity: 1;\"/></g><g class=\"point\"><path d=\"M0,0Z\" style=\"vector-effect: non-scaling-stroke; opacity: 1; stroke-width: 0px; fill: rgb(99, 110, 250); fill-opacity: 1;\"/></g><g class=\"point\"><path d=\"M0,0Z\" style=\"vector-effect: non-scaling-stroke; opacity: 1; stroke-width: 0px; fill: rgb(99, 110, 250); fill-opacity: 1;\"/></g><g class=\"point\"><path d=\"M0,0Z\" style=\"vector-effect: non-scaling-stroke; opacity: 1; stroke-width: 0px; fill: rgb(99, 110, 250); fill-opacity: 1;\"/></g><g class=\"point\"><path d=\"M0,0Z\" style=\"vector-effect: non-scaling-stroke; opacity: 1; stroke-width: 0px; fill: rgb(99, 110, 250); fill-opacity: 1;\"/></g><g class=\"point\"><path d=\"M0,0Z\" style=\"vector-effect: non-scaling-stroke; opacity: 1; stroke-width: 0px; fill: rgb(99, 110, 250); fill-opacity: 1;\"/></g><g class=\"point\"><path d=\"M0,0Z\" style=\"vector-effect: non-scaling-stroke; opacity: 1; stroke-width: 0px; fill: rgb(99, 110, 250); fill-opacity: 1;\"/></g><g class=\"point\"><path d=\"M0,0Z\" style=\"vector-effect: non-scaling-stroke; opacity: 1; stroke-width: 0px; fill: rgb(99, 110, 250); fill-opacity: 1;\"/></g><g class=\"point\"><path d=\"M0,0Z\" style=\"vector-effect: non-scaling-stroke; opacity: 1; stroke-width: 0px; fill: rgb(99, 110, 250); fill-opacity: 1;\"/></g><g class=\"point\"><path d=\"M0,0Z\" style=\"vector-effect: non-scaling-stroke; opacity: 1; stroke-width: 0px; fill: rgb(99, 110, 250); fill-opacity: 1;\"/></g><g class=\"point\"><path d=\"M0,0Z\" style=\"vector-effect: non-scaling-stroke; opacity: 1; stroke-width: 0px; fill: rgb(99, 110, 250); fill-opacity: 1;\"/></g><g class=\"point\"><path d=\"M0,0Z\" style=\"vector-effect: non-scaling-stroke; opacity: 1; stroke-width: 0px; fill: rgb(99, 110, 250); fill-opacity: 1;\"/></g><g class=\"point\"><path d=\"M0,0Z\" style=\"vector-effect: non-scaling-stroke; opacity: 1; stroke-width: 0px; fill: rgb(99, 110, 250); fill-opacity: 1;\"/></g><g class=\"point\"><path d=\"M0,0Z\" style=\"vector-effect: non-scaling-stroke; opacity: 1; stroke-width: 0px; fill: rgb(99, 110, 250); fill-opacity: 1;\"/></g><g class=\"point\"><path d=\"M0,0Z\" style=\"vector-effect: non-scaling-stroke; opacity: 1; stroke-width: 0px; fill: rgb(99, 110, 250); fill-opacity: 1;\"/></g><g class=\"point\"><path d=\"M0,0Z\" style=\"vector-effect: non-scaling-stroke; opacity: 1; stroke-width: 0px; fill: rgb(99, 110, 250); fill-opacity: 1;\"/></g><g class=\"point\"><path d=\"M0,0Z\" style=\"vector-effect: non-scaling-stroke; opacity: 1; stroke-width: 0px; fill: rgb(99, 110, 250); fill-opacity: 1;\"/></g><g class=\"point\"><path d=\"M0,0Z\" style=\"vector-effect: non-scaling-stroke; opacity: 1; stroke-width: 0px; fill: rgb(99, 110, 250); fill-opacity: 1;\"/></g><g class=\"point\"><path d=\"M0,0Z\" style=\"vector-effect: non-scaling-stroke; opacity: 1; stroke-width: 0px; fill: rgb(99, 110, 250); fill-opacity: 1;\"/></g><g class=\"point\"><path d=\"M0,0Z\" style=\"vector-effect: non-scaling-stroke; opacity: 1; stroke-width: 0px; fill: rgb(99, 110, 250); fill-opacity: 1;\"/></g><g class=\"point\"><path d=\"M0,0Z\" style=\"vector-effect: non-scaling-stroke; opacity: 1; stroke-width: 0px; fill: rgb(99, 110, 250); fill-opacity: 1;\"/></g><g class=\"point\"><path d=\"M0,0Z\" style=\"vector-effect: non-scaling-stroke; opacity: 1; stroke-width: 0px; fill: rgb(99, 110, 250); fill-opacity: 1;\"/></g><g class=\"point\"><path d=\"M0,0Z\" style=\"vector-effect: non-scaling-stroke; opacity: 1; stroke-width: 0px; fill: rgb(99, 110, 250); fill-opacity: 1;\"/></g><g class=\"point\"><path d=\"M0,0Z\" style=\"vector-effect: non-scaling-stroke; opacity: 1; stroke-width: 0px; fill: rgb(99, 110, 250); fill-opacity: 1;\"/></g><g class=\"point\"><path d=\"M0,0Z\" style=\"vector-effect: non-scaling-stroke; opacity: 1; stroke-width: 0px; fill: rgb(99, 110, 250); fill-opacity: 1;\"/></g><g class=\"point\"><path d=\"M0,0Z\" style=\"vector-effect: non-scaling-stroke; opacity: 1; stroke-width: 0px; fill: rgb(99, 110, 250); fill-opacity: 1;\"/></g><g class=\"point\"><path d=\"M0,0Z\" style=\"vector-effect: non-scaling-stroke; opacity: 1; stroke-width: 0px; fill: rgb(99, 110, 250); fill-opacity: 1;\"/></g><g class=\"point\"><path d=\"M0,0Z\" style=\"vector-effect: non-scaling-stroke; opacity: 1; stroke-width: 0px; fill: rgb(99, 110, 250); fill-opacity: 1;\"/></g><g class=\"point\"><path d=\"M0,0Z\" style=\"vector-effect: non-scaling-stroke; opacity: 1; stroke-width: 0px; fill: rgb(99, 110, 250); fill-opacity: 1;\"/></g><g class=\"point\"><path d=\"M0,0Z\" style=\"vector-effect: non-scaling-stroke; opacity: 1; stroke-width: 0px; fill: rgb(99, 110, 250); fill-opacity: 1;\"/></g><g class=\"point\"><path d=\"M0,0Z\" style=\"vector-effect: non-scaling-stroke; opacity: 1; stroke-width: 0px; fill: rgb(99, 110, 250); fill-opacity: 1;\"/></g><g class=\"point\"><path d=\"M0,0Z\" style=\"vector-effect: non-scaling-stroke; opacity: 1; stroke-width: 0px; fill: rgb(99, 110, 250); fill-opacity: 1;\"/></g><g class=\"point\"><path d=\"M0,0Z\" style=\"vector-effect: non-scaling-stroke; opacity: 1; stroke-width: 0px; fill: rgb(99, 110, 250); fill-opacity: 1;\"/></g><g class=\"point\"><path d=\"M0,0Z\" style=\"vector-effect: non-scaling-stroke; opacity: 1; stroke-width: 0px; fill: rgb(99, 110, 250); fill-opacity: 1;\"/></g><g class=\"point\"><path d=\"M0,0Z\" style=\"vector-effect: non-scaling-stroke; opacity: 1; stroke-width: 0px; fill: rgb(99, 110, 250); fill-opacity: 1;\"/></g><g class=\"point\"><path d=\"M0,0Z\" style=\"vector-effect: non-scaling-stroke; opacity: 1; stroke-width: 0px; fill: rgb(99, 110, 250); fill-opacity: 1;\"/></g><g class=\"point\"><path d=\"M0,0Z\" style=\"vector-effect: non-scaling-stroke; opacity: 1; stroke-width: 0px; fill: rgb(99, 110, 250); fill-opacity: 1;\"/></g><g class=\"point\"><path d=\"M0,0Z\" style=\"vector-effect: non-scaling-stroke; opacity: 1; stroke-width: 0px; fill: rgb(99, 110, 250); fill-opacity: 1;\"/></g><g class=\"point\"><path d=\"M0,0Z\" style=\"vector-effect: non-scaling-stroke; opacity: 1; stroke-width: 0px; fill: rgb(99, 110, 250); fill-opacity: 1;\"/></g><g class=\"point\"><path d=\"M0,0Z\" style=\"vector-effect: non-scaling-stroke; opacity: 1; stroke-width: 0px; fill: rgb(99, 110, 250); fill-opacity: 1;\"/></g><g class=\"point\"><path d=\"M0,0Z\" style=\"vector-effect: non-scaling-stroke; opacity: 1; stroke-width: 0px; fill: rgb(99, 110, 250); fill-opacity: 1;\"/></g><g class=\"point\"><path d=\"M0,0Z\" style=\"vector-effect: non-scaling-stroke; opacity: 1; stroke-width: 0px; fill: rgb(99, 110, 250); fill-opacity: 1;\"/></g><g class=\"point\"><path d=\"M0,0Z\" style=\"vector-effect: non-scaling-stroke; opacity: 1; stroke-width: 0px; fill: rgb(99, 110, 250); fill-opacity: 1;\"/></g><g class=\"point\"><path d=\"M0,0Z\" style=\"vector-effect: non-scaling-stroke; opacity: 1; stroke-width: 0px; fill: rgb(99, 110, 250); fill-opacity: 1;\"/></g><g class=\"point\"><path d=\"M0,0Z\" style=\"vector-effect: non-scaling-stroke; opacity: 1; stroke-width: 0px; fill: rgb(99, 110, 250); fill-opacity: 1;\"/></g><g class=\"point\"><path d=\"M0,0Z\" style=\"vector-effect: non-scaling-stroke; opacity: 1; stroke-width: 0px; fill: rgb(99, 110, 250); fill-opacity: 1;\"/></g><g class=\"point\"><path d=\"M0,0Z\" style=\"vector-effect: non-scaling-stroke; opacity: 1; stroke-width: 0px; fill: rgb(99, 110, 250); fill-opacity: 1;\"/></g><g class=\"point\"><path d=\"M0,0Z\" style=\"vector-effect: non-scaling-stroke; opacity: 1; stroke-width: 0px; fill: rgb(99, 110, 250); fill-opacity: 1;\"/></g><g class=\"point\"><path d=\"M0,0Z\" style=\"vector-effect: non-scaling-stroke; opacity: 1; stroke-width: 0px; fill: rgb(99, 110, 250); fill-opacity: 1;\"/></g><g class=\"point\"><path d=\"M701.17,2794.18V252.81H707.18V2794.18Z\" style=\"vector-effect: non-scaling-stroke; opacity: 1; stroke-width: 0px; fill: rgb(99, 110, 250); fill-opacity: 1;\"/></g></g></g></g></g><g class=\"overplot\"/><path class=\"xlines-above crisp\" d=\"M0,0\" style=\"fill: none;\"/><path class=\"ylines-above crisp\" d=\"M0,0\" style=\"fill: none;\"/><g class=\"overlines-above\"/><g class=\"xaxislayer-above\"><g class=\"xtick\"><text text-anchor=\"middle\" x=\"0\" y=\"433\" transform=\"translate(117,0)\" style=\"font-family: 'Open Sans', verdana, arial, sans-serif; font-size: 12px; fill: rgb(42, 63, 95); fill-opacity: 1; white-space: pre; opacity: 1;\">0</text></g><g class=\"xtick\"><text text-anchor=\"middle\" x=\"0\" y=\"433\" style=\"font-family: 'Open Sans', verdana, arial, sans-serif; font-size: 12px; fill: rgb(42, 63, 95); fill-opacity: 1; white-space: pre; opacity: 1;\" transform=\"translate(237.21,0)\">1000</text></g><g class=\"xtick\"><text text-anchor=\"middle\" x=\"0\" y=\"433\" style=\"font-family: 'Open Sans', verdana, arial, sans-serif; font-size: 12px; fill: rgb(42, 63, 95); fill-opacity: 1; white-space: pre; opacity: 1;\" transform=\"translate(357.42,0)\">2000</text></g><g class=\"xtick\"><text text-anchor=\"middle\" x=\"0\" y=\"433\" style=\"font-family: 'Open Sans', verdana, arial, sans-serif; font-size: 12px; fill: rgb(42, 63, 95); fill-opacity: 1; white-space: pre; opacity: 1;\" transform=\"translate(477.63,0)\">3000</text></g><g class=\"xtick\"><text text-anchor=\"middle\" x=\"0\" y=\"433\" style=\"font-family: 'Open Sans', verdana, arial, sans-serif; font-size: 12px; fill: rgb(42, 63, 95); fill-opacity: 1; white-space: pre; opacity: 1;\" transform=\"translate(597.84,0)\">4000</text></g><g class=\"xtick\"><text text-anchor=\"middle\" x=\"0\" y=\"433\" style=\"font-family: 'Open Sans', verdana, arial, sans-serif; font-size: 12px; fill: rgb(42, 63, 95); fill-opacity: 1; white-space: pre; opacity: 1;\" transform=\"translate(718.06,0)\">5000</text></g></g><g class=\"yaxislayer-above\"><g class=\"ytick\"><text text-anchor=\"end\" x=\"79\" y=\"4.199999999999999\" transform=\"translate(0,406.698)\" style=\"font-family: 'Open Sans', verdana, arial, sans-serif; font-size: 12px; fill: rgb(42, 63, 95); fill-opacity: 1; white-space: pre; opacity: 1;\">1</text></g><g class=\"ytick\"><text text-anchor=\"end\" x=\"79\" y=\"3.15\" style=\"font-family: 'Open Sans', verdana, arial, sans-serif; font-size: 9px; fill: rgb(42, 63, 95); fill-opacity: 1; white-space: pre; opacity: 1;\" transform=\"translate(0,380.238)\">2</text></g><g class=\"ytick\"><text text-anchor=\"end\" x=\"79\" y=\"3.15\" style=\"font-family: 'Open Sans', verdana, arial, sans-serif; font-size: 9px; fill: rgb(42, 63, 95); fill-opacity: 1; white-space: pre; opacity: 1;\" transform=\"translate(0,345.26800000000003)\">5</text></g><g class=\"ytick\"><text text-anchor=\"end\" x=\"79\" y=\"4.199999999999999\" style=\"font-family: 'Open Sans', verdana, arial, sans-serif; font-size: 12px; fill: rgb(42, 63, 95); fill-opacity: 1; white-space: pre; opacity: 1;\" transform=\"translate(0,318.808)\">10</text></g><g class=\"ytick\"><text text-anchor=\"end\" x=\"79\" y=\"3.15\" style=\"font-family: 'Open Sans', verdana, arial, sans-serif; font-size: 9px; fill: rgb(42, 63, 95); fill-opacity: 1; white-space: pre; opacity: 1;\" transform=\"translate(0,292.348)\">2</text></g><g class=\"ytick\"><text text-anchor=\"end\" x=\"79\" y=\"3.15\" style=\"font-family: 'Open Sans', verdana, arial, sans-serif; font-size: 9px; fill: rgb(42, 63, 95); fill-opacity: 1; white-space: pre; opacity: 1;\" transform=\"translate(0,257.378)\">5</text></g><g class=\"ytick\"><text text-anchor=\"end\" x=\"79\" y=\"4.199999999999999\" style=\"font-family: 'Open Sans', verdana, arial, sans-serif; font-size: 12px; fill: rgb(42, 63, 95); fill-opacity: 1; white-space: pre; opacity: 1;\" transform=\"translate(0,230.918)\">100</text></g><g class=\"ytick\"><text text-anchor=\"end\" x=\"79\" y=\"3.15\" style=\"font-family: 'Open Sans', verdana, arial, sans-serif; font-size: 9px; fill: rgb(42, 63, 95); fill-opacity: 1; white-space: pre; opacity: 1;\" transform=\"translate(0,204.46800000000002)\">2</text></g><g class=\"ytick\"><text text-anchor=\"end\" x=\"79\" y=\"3.15\" style=\"font-family: 'Open Sans', verdana, arial, sans-serif; font-size: 9px; fill: rgb(42, 63, 95); fill-opacity: 1; white-space: pre; opacity: 1;\" transform=\"translate(0,169.488)\">5</text></g></g><g class=\"overaxes-above\"/></g><g class=\"subplot x2y2\"><g class=\"layer-subplot\"><g class=\"shapelayer\"/><g class=\"imagelayer\"/></g><g class=\"minor-gridlayer\"><g class=\"x2\"/><g class=\"y2\"/></g><g class=\"gridlayer\"><g class=\"x2\"><path class=\"x2grid crisp\" transform=\"translate(237.21,0)\" d=\"M0,100v50.687999999999995\" style=\"stroke: rgb(255, 255, 255); stroke-opacity: 1; stroke-width: 1px;\"/><path class=\"x2grid crisp\" transform=\"translate(357.42,0)\" d=\"M0,100v50.687999999999995\" style=\"stroke: rgb(255, 255, 255); stroke-opacity: 1; stroke-width: 1px;\"/><path class=\"x2grid crisp\" transform=\"translate(477.63,0)\" d=\"M0,100v50.687999999999995\" style=\"stroke: rgb(255, 255, 255); stroke-opacity: 1; stroke-width: 1px;\"/><path class=\"x2grid crisp\" transform=\"translate(597.84,0)\" d=\"M0,100v50.687999999999995\" style=\"stroke: rgb(255, 255, 255); stroke-opacity: 1; stroke-width: 1px;\"/><path class=\"x2grid crisp\" transform=\"translate(718.06,0)\" d=\"M0,100v50.687999999999995\" style=\"stroke: rgb(255, 255, 255); stroke-opacity: 1; stroke-width: 1px;\"/></g><g class=\"y2\"/></g><g class=\"zerolinelayer\"><path class=\"x2zl zl crisp\" transform=\"translate(117,0)\" d=\"M0,100v50.687999999999995\" style=\"stroke: rgb(255, 255, 255); stroke-opacity: 1; stroke-width: 2px;\"/></g><path class=\"xlines-below\"/><path class=\"ylines-below\"/><g class=\"overlines-below\"/><g class=\"xaxislayer-below\"/><g class=\"yaxislayer-below\"/><g class=\"overaxes-below\"/><g class=\"plot\" transform=\"translate(80,100)\" clip-path=\"url(#clipbb9c21x2y2plot)\"><g class=\"boxlayer mlayer\"><g class=\"trace boxes\" style=\"opacity: 1;\"><path class=\"box\" d=\"M38,31.55V19.13M37,37.76V12.93H37.33L38,19.13L37.72,12.93H40.4V37.76H37.72L38,31.55L37.33,37.76ZM37,25.34H37M40.4,25.34H45.36M37,31.55V19.13M45.36,31.55V19.13\" style=\"vector-effect: non-scaling-stroke; stroke-width: 2px; stroke: rgb(99, 110, 250); stroke-opacity: 1; fill: rgb(99, 110, 250); fill-opacity: 0.5;\"/><g class=\"points\"><path class=\"point\" transform=\"translate(45.54,25.34)\" d=\"M3,0A3,3 0 1,1 0,-3A3,3 0 0,1 3,0Z\" style=\"opacity: 1; stroke-width: 0px; fill: rgb(99, 110, 250); fill-opacity: 1;\"/><path class=\"point\" transform=\"translate(45.58,25.34)\" d=\"M3,0A3,3 0 1,1 0,-3A3,3 0 0,1 3,0Z\" style=\"opacity: 1; stroke-width: 0px; fill: rgb(99, 110, 250); fill-opacity: 1;\"/><path class=\"point\" transform=\"translate(45.6,25.34)\" d=\"M3,0A3,3 0 1,1 0,-3A3,3 0 0,1 3,0Z\" style=\"opacity: 1; stroke-width: 0px; fill: rgb(99, 110, 250); fill-opacity: 1;\"/><path class=\"point\" transform=\"translate(45.6,25.34)\" d=\"M3,0A3,3 0 1,1 0,-3A3,3 0 0,1 3,0Z\" style=\"opacity: 1; stroke-width: 0px; fill: rgb(99, 110, 250); fill-opacity: 1;\"/><path class=\"point\" transform=\"translate(45.62,25.34)\" d=\"M3,0A3,3 0 1,1 0,-3A3,3 0 0,1 3,0Z\" style=\"opacity: 1; stroke-width: 0px; fill: rgb(99, 110, 250); fill-opacity: 1;\"/><path class=\"point\" transform=\"translate(45.88,25.34)\" d=\"M3,0A3,3 0 1,1 0,-3A3,3 0 0,1 3,0Z\" style=\"opacity: 1; stroke-width: 0px; fill: rgb(99, 110, 250); fill-opacity: 1;\"/><path class=\"point\" transform=\"translate(45.89,25.34)\" d=\"M3,0A3,3 0 1,1 0,-3A3,3 0 0,1 3,0Z\" style=\"opacity: 1; stroke-width: 0px; fill: rgb(99, 110, 250); fill-opacity: 1;\"/><path class=\"point\" transform=\"translate(45.91,25.34)\" d=\"M3,0A3,3 0 1,1 0,-3A3,3 0 0,1 3,0Z\" style=\"opacity: 1; stroke-width: 0px; fill: rgb(99, 110, 250); fill-opacity: 1;\"/><path class=\"point\" transform=\"translate(45.94,25.34)\" d=\"M3,0A3,3 0 1,1 0,-3A3,3 0 0,1 3,0Z\" style=\"opacity: 1; stroke-width: 0px; fill: rgb(99, 110, 250); fill-opacity: 1;\"/><path class=\"point\" transform=\"translate(46.07,25.34)\" d=\"M3,0A3,3 0 1,1 0,-3A3,3 0 0,1 3,0Z\" style=\"opacity: 1; stroke-width: 0px; fill: rgb(99, 110, 250); fill-opacity: 1;\"/><path class=\"point\" transform=\"translate(46.21,25.34)\" d=\"M3,0A3,3 0 1,1 0,-3A3,3 0 0,1 3,0Z\" style=\"opacity: 1; stroke-width: 0px; fill: rgb(99, 110, 250); fill-opacity: 1;\"/><path class=\"point\" transform=\"translate(46.47,25.34)\" d=\"M3,0A3,3 0 1,1 0,-3A3,3 0 0,1 3,0Z\" style=\"opacity: 1; stroke-width: 0px; fill: rgb(99, 110, 250); fill-opacity: 1;\"/><path class=\"point\" transform=\"translate(46.68,25.34)\" d=\"M3,0A3,3 0 1,1 0,-3A3,3 0 0,1 3,0Z\" style=\"opacity: 1; stroke-width: 0px; fill: rgb(99, 110, 250); fill-opacity: 1;\"/><path class=\"point\" transform=\"translate(46.79,25.34)\" d=\"M3,0A3,3 0 1,1 0,-3A3,3 0 0,1 3,0Z\" style=\"opacity: 1; stroke-width: 0px; fill: rgb(99, 110, 250); fill-opacity: 1;\"/><path class=\"point\" transform=\"translate(46.96,25.34)\" d=\"M3,0A3,3 0 1,1 0,-3A3,3 0 0,1 3,0Z\" style=\"opacity: 1; stroke-width: 0px; fill: rgb(99, 110, 250); fill-opacity: 1;\"/><path class=\"point\" transform=\"translate(47.01,25.34)\" d=\"M3,0A3,3 0 1,1 0,-3A3,3 0 0,1 3,0Z\" style=\"opacity: 1; stroke-width: 0px; fill: rgb(99, 110, 250); fill-opacity: 1;\"/><path class=\"point\" transform=\"translate(47.4,25.34)\" d=\"M3,0A3,3 0 1,1 0,-3A3,3 0 0,1 3,0Z\" style=\"opacity: 1; stroke-width: 0px; fill: rgb(99, 110, 250); fill-opacity: 1;\"/><path class=\"point\" transform=\"translate(47.65,25.34)\" d=\"M3,0A3,3 0 1,1 0,-3A3,3 0 0,1 3,0Z\" style=\"opacity: 1; stroke-width: 0px; fill: rgb(99, 110, 250); fill-opacity: 1;\"/><path class=\"point\" transform=\"translate(47.74,25.34)\" d=\"M3,0A3,3 0 1,1 0,-3A3,3 0 0,1 3,0Z\" style=\"opacity: 1; stroke-width: 0px; fill: rgb(99, 110, 250); fill-opacity: 1;\"/><path class=\"point\" transform=\"translate(48.01,25.34)\" d=\"M3,0A3,3 0 1,1 0,-3A3,3 0 0,1 3,0Z\" style=\"opacity: 1; stroke-width: 0px; fill: rgb(99, 110, 250); fill-opacity: 1;\"/><path class=\"point\" transform=\"translate(48.03,25.34)\" d=\"M3,0A3,3 0 1,1 0,-3A3,3 0 0,1 3,0Z\" style=\"opacity: 1; stroke-width: 0px; fill: rgb(99, 110, 250); fill-opacity: 1;\"/><path class=\"point\" transform=\"translate(48.36,25.34)\" d=\"M3,0A3,3 0 1,1 0,-3A3,3 0 0,1 3,0Z\" style=\"opacity: 1; stroke-width: 0px; fill: rgb(99, 110, 250); fill-opacity: 1;\"/><path class=\"point\" transform=\"translate(48.52,25.34)\" d=\"M3,0A3,3 0 1,1 0,-3A3,3 0 0,1 3,0Z\" style=\"opacity: 1; stroke-width: 0px; fill: rgb(99, 110, 250); fill-opacity: 1;\"/><path class=\"point\" transform=\"translate(48.83,25.34)\" d=\"M3,0A3,3 0 1,1 0,-3A3,3 0 0,1 3,0Z\" style=\"opacity: 1; stroke-width: 0px; fill: rgb(99, 110, 250); fill-opacity: 1;\"/><path class=\"point\" transform=\"translate(49.11,25.34)\" d=\"M3,0A3,3 0 1,1 0,-3A3,3 0 0,1 3,0Z\" style=\"opacity: 1; stroke-width: 0px; fill: rgb(99, 110, 250); fill-opacity: 1;\"/><path class=\"point\" transform=\"translate(49.18,25.34)\" d=\"M3,0A3,3 0 1,1 0,-3A3,3 0 0,1 3,0Z\" style=\"opacity: 1; stroke-width: 0px; fill: rgb(99, 110, 250); fill-opacity: 1;\"/><path class=\"point\" transform=\"translate(49.23,25.34)\" d=\"M3,0A3,3 0 1,1 0,-3A3,3 0 0,1 3,0Z\" style=\"opacity: 1; stroke-width: 0px; fill: rgb(99, 110, 250); fill-opacity: 1;\"/><path class=\"point\" transform=\"translate(49.51,25.34)\" d=\"M3,0A3,3 0 1,1 0,-3A3,3 0 0,1 3,0Z\" style=\"opacity: 1; stroke-width: 0px; fill: rgb(99, 110, 250); fill-opacity: 1;\"/><path class=\"point\" transform=\"translate(49.58,25.34)\" d=\"M3,0A3,3 0 1,1 0,-3A3,3 0 0,1 3,0Z\" style=\"opacity: 1; stroke-width: 0px; fill: rgb(99, 110, 250); fill-opacity: 1;\"/><path class=\"point\" transform=\"translate(49.74,25.34)\" d=\"M3,0A3,3 0 1,1 0,-3A3,3 0 0,1 3,0Z\" style=\"opacity: 1; stroke-width: 0px; fill: rgb(99, 110, 250); fill-opacity: 1;\"/><path class=\"point\" transform=\"translate(49.94,25.34)\" d=\"M3,0A3,3 0 1,1 0,-3A3,3 0 0,1 3,0Z\" style=\"opacity: 1; stroke-width: 0px; fill: rgb(99, 110, 250); fill-opacity: 1;\"/><path class=\"point\" transform=\"translate(50.41,25.34)\" d=\"M3,0A3,3 0 1,1 0,-3A3,3 0 0,1 3,0Z\" style=\"opacity: 1; stroke-width: 0px; fill: rgb(99, 110, 250); fill-opacity: 1;\"/><path class=\"point\" transform=\"translate(51,25.34)\" d=\"M3,0A3,3 0 1,1 0,-3A3,3 0 0,1 3,0Z\" style=\"opacity: 1; stroke-width: 0px; fill: rgb(99, 110, 250); fill-opacity: 1;\"/><path class=\"point\" transform=\"translate(51.04,25.34)\" d=\"M3,0A3,3 0 1,1 0,-3A3,3 0 0,1 3,0Z\" style=\"opacity: 1; stroke-width: 0px; fill: rgb(99, 110, 250); fill-opacity: 1;\"/><path class=\"point\" transform=\"translate(51.18,25.34)\" d=\"M3,0A3,3 0 1,1 0,-3A3,3 0 0,1 3,0Z\" style=\"opacity: 1; stroke-width: 0px; fill: rgb(99, 110, 250); fill-opacity: 1;\"/><path class=\"point\" transform=\"translate(51.59,25.34)\" d=\"M3,0A3,3 0 1,1 0,-3A3,3 0 0,1 3,0Z\" style=\"opacity: 1; stroke-width: 0px; fill: rgb(99, 110, 250); fill-opacity: 1;\"/><path class=\"point\" transform=\"translate(51.66,25.34)\" d=\"M3,0A3,3 0 1,1 0,-3A3,3 0 0,1 3,0Z\" style=\"opacity: 1; stroke-width: 0px; fill: rgb(99, 110, 250); fill-opacity: 1;\"/><path class=\"point\" transform=\"translate(51.8,25.34)\" d=\"M3,0A3,3 0 1,1 0,-3A3,3 0 0,1 3,0Z\" style=\"opacity: 1; stroke-width: 0px; fill: rgb(99, 110, 250); fill-opacity: 1;\"/><path class=\"point\" transform=\"translate(51.86,25.34)\" d=\"M3,0A3,3 0 1,1 0,-3A3,3 0 0,1 3,0Z\" style=\"opacity: 1; stroke-width: 0px; fill: rgb(99, 110, 250); fill-opacity: 1;\"/><path class=\"point\" transform=\"translate(51.9,25.34)\" d=\"M3,0A3,3 0 1,1 0,-3A3,3 0 0,1 3,0Z\" style=\"opacity: 1; stroke-width: 0px; fill: rgb(99, 110, 250); fill-opacity: 1;\"/><path class=\"point\" transform=\"translate(52.09,25.34)\" d=\"M3,0A3,3 0 1,1 0,-3A3,3 0 0,1 3,0Z\" style=\"opacity: 1; stroke-width: 0px; fill: rgb(99, 110, 250); fill-opacity: 1;\"/><path class=\"point\" transform=\"translate(52.11,25.34)\" d=\"M3,0A3,3 0 1,1 0,-3A3,3 0 0,1 3,0Z\" style=\"opacity: 1; stroke-width: 0px; fill: rgb(99, 110, 250); fill-opacity: 1;\"/><path class=\"point\" transform=\"translate(52.25,25.34)\" d=\"M3,0A3,3 0 1,1 0,-3A3,3 0 0,1 3,0Z\" style=\"opacity: 1; stroke-width: 0px; fill: rgb(99, 110, 250); fill-opacity: 1;\"/><path class=\"point\" transform=\"translate(52.99,25.34)\" d=\"M3,0A3,3 0 1,1 0,-3A3,3 0 0,1 3,0Z\" style=\"opacity: 1; stroke-width: 0px; fill: rgb(99, 110, 250); fill-opacity: 1;\"/><path class=\"point\" transform=\"translate(53.54,25.34)\" d=\"M3,0A3,3 0 1,1 0,-3A3,3 0 0,1 3,0Z\" style=\"opacity: 1; stroke-width: 0px; fill: rgb(99, 110, 250); fill-opacity: 1;\"/><path class=\"point\" transform=\"translate(53.55,25.34)\" d=\"M3,0A3,3 0 1,1 0,-3A3,3 0 0,1 3,0Z\" style=\"opacity: 1; stroke-width: 0px; fill: rgb(99, 110, 250); fill-opacity: 1;\"/><path class=\"point\" transform=\"translate(53.6,25.34)\" d=\"M3,0A3,3 0 1,1 0,-3A3,3 0 0,1 3,0Z\" style=\"opacity: 1; stroke-width: 0px; fill: rgb(99, 110, 250); fill-opacity: 1;\"/><path class=\"point\" transform=\"translate(53.76,25.34)\" d=\"M3,0A3,3 0 1,1 0,-3A3,3 0 0,1 3,0Z\" style=\"opacity: 1; stroke-width: 0px; fill: rgb(99, 110, 250); fill-opacity: 1;\"/><path class=\"point\" transform=\"translate(53.89,25.34)\" d=\"M3,0A3,3 0 1,1 0,-3A3,3 0 0,1 3,0Z\" style=\"opacity: 1; stroke-width: 0px; fill: rgb(99, 110, 250); fill-opacity: 1;\"/><path class=\"point\" transform=\"translate(54,25.34)\" d=\"M3,0A3,3 0 1,1 0,-3A3,3 0 0,1 3,0Z\" style=\"opacity: 1; stroke-width: 0px; fill: rgb(99, 110, 250); fill-opacity: 1;\"/><path class=\"point\" transform=\"translate(55.16,25.34)\" d=\"M3,0A3,3 0 1,1 0,-3A3,3 0 0,1 3,0Z\" style=\"opacity: 1; stroke-width: 0px; fill: rgb(99, 110, 250); fill-opacity: 1;\"/><path class=\"point\" transform=\"translate(55.65,25.34)\" d=\"M3,0A3,3 0 1,1 0,-3A3,3 0 0,1 3,0Z\" style=\"opacity: 1; stroke-width: 0px; fill: rgb(99, 110, 250); fill-opacity: 1;\"/><path class=\"point\" transform=\"translate(56.53,25.34)\" d=\"M3,0A3,3 0 1,1 0,-3A3,3 0 0,1 3,0Z\" style=\"opacity: 1; stroke-width: 0px; fill: rgb(99, 110, 250); fill-opacity: 1;\"/><path class=\"point\" transform=\"translate(57.34,25.34)\" d=\"M3,0A3,3 0 1,1 0,-3A3,3 0 0,1 3,0Z\" style=\"opacity: 1; stroke-width: 0px; fill: rgb(99, 110, 250); fill-opacity: 1;\"/><path class=\"point\" transform=\"translate(59.61,25.34)\" d=\"M3,0A3,3 0 1,1 0,-3A3,3 0 0,1 3,0Z\" style=\"opacity: 1; stroke-width: 0px; fill: rgb(99, 110, 250); fill-opacity: 1;\"/><path class=\"point\" transform=\"translate(59.83,25.34)\" d=\"M3,0A3,3 0 1,1 0,-3A3,3 0 0,1 3,0Z\" style=\"opacity: 1; stroke-width: 0px; fill: rgb(99, 110, 250); fill-opacity: 1;\"/><path class=\"point\" transform=\"translate(59.89,25.34)\" d=\"M3,0A3,3 0 1,1 0,-3A3,3 0 0,1 3,0Z\" style=\"opacity: 1; stroke-width: 0px; fill: rgb(99, 110, 250); fill-opacity: 1;\"/><path class=\"point\" transform=\"translate(60.15,25.34)\" d=\"M3,0A3,3 0 1,1 0,-3A3,3 0 0,1 3,0Z\" style=\"opacity: 1; stroke-width: 0px; fill: rgb(99, 110, 250); fill-opacity: 1;\"/><path class=\"point\" transform=\"translate(60.79,25.34)\" d=\"M3,0A3,3 0 1,1 0,-3A3,3 0 0,1 3,0Z\" style=\"opacity: 1; stroke-width: 0px; fill: rgb(99, 110, 250); fill-opacity: 1;\"/><path class=\"point\" transform=\"translate(62.49,25.34)\" d=\"M3,0A3,3 0 1,1 0,-3A3,3 0 0,1 3,0Z\" style=\"opacity: 1; stroke-width: 0px; fill: rgb(99, 110, 250); fill-opacity: 1;\"/><path class=\"point\" transform=\"translate(63.07,25.34)\" d=\"M3,0A3,3 0 1,1 0,-3A3,3 0 0,1 3,0Z\" style=\"opacity: 1; stroke-width: 0px; fill: rgb(99, 110, 250); fill-opacity: 1;\"/><path class=\"point\" transform=\"translate(63.78,25.34)\" d=\"M3,0A3,3 0 1,1 0,-3A3,3 0 0,1 3,0Z\" style=\"opacity: 1; stroke-width: 0px; fill: rgb(99, 110, 250); fill-opacity: 1;\"/><path class=\"point\" transform=\"translate(64.48,25.34)\" d=\"M3,0A3,3 0 1,1 0,-3A3,3 0 0,1 3,0Z\" style=\"opacity: 1; stroke-width: 0px; fill: rgb(99, 110, 250); fill-opacity: 1;\"/><path class=\"point\" transform=\"translate(65.6,25.34)\" d=\"M3,0A3,3 0 1,1 0,-3A3,3 0 0,1 3,0Z\" style=\"opacity: 1; stroke-width: 0px; fill: rgb(99, 110, 250); fill-opacity: 1;\"/><path class=\"point\" transform=\"translate(65.81,25.34)\" d=\"M3,0A3,3 0 1,1 0,-3A3,3 0 0,1 3,0Z\" style=\"opacity: 1; stroke-width: 0px; fill: rgb(99, 110, 250); fill-opacity: 1;\"/><path class=\"point\" transform=\"translate(69.33,25.34)\" d=\"M3,0A3,3 0 1,1 0,-3A3,3 0 0,1 3,0Z\" style=\"opacity: 1; stroke-width: 0px; fill: rgb(99, 110, 250); fill-opacity: 1;\"/><path class=\"point\" transform=\"translate(71.15,25.34)\" d=\"M3,0A3,3 0 1,1 0,-3A3,3 0 0,1 3,0Z\" style=\"opacity: 1; stroke-width: 0px; fill: rgb(99, 110, 250); fill-opacity: 1;\"/><path class=\"point\" transform=\"translate(71.26,25.34)\" d=\"M3,0A3,3 0 1,1 0,-3A3,3 0 0,1 3,0Z\" style=\"opacity: 1; stroke-width: 0px; fill: rgb(99, 110, 250); fill-opacity: 1;\"/><path class=\"point\" transform=\"translate(71.88,25.34)\" d=\"M3,0A3,3 0 1,1 0,-3A3,3 0 0,1 3,0Z\" style=\"opacity: 1; stroke-width: 0px; fill: rgb(99, 110, 250); fill-opacity: 1;\"/><path class=\"point\" transform=\"translate(74.37,25.34)\" d=\"M3,0A3,3 0 1,1 0,-3A3,3 0 0,1 3,0Z\" style=\"opacity: 1; stroke-width: 0px; fill: rgb(99, 110, 250); fill-opacity: 1;\"/><path class=\"point\" transform=\"translate(74.56,25.34)\" d=\"M3,0A3,3 0 1,1 0,-3A3,3 0 0,1 3,0Z\" style=\"opacity: 1; stroke-width: 0px; fill: rgb(99, 110, 250); fill-opacity: 1;\"/><path class=\"point\" transform=\"translate(76.6,25.34)\" d=\"M3,0A3,3 0 1,1 0,-3A3,3 0 0,1 3,0Z\" style=\"opacity: 1; stroke-width: 0px; fill: rgb(99, 110, 250); fill-opacity: 1;\"/><path class=\"point\" transform=\"translate(77.51,25.34)\" d=\"M3,0A3,3 0 1,1 0,-3A3,3 0 0,1 3,0Z\" style=\"opacity: 1; stroke-width: 0px; fill: rgb(99, 110, 250); fill-opacity: 1;\"/><path class=\"point\" transform=\"translate(77.58,25.34)\" d=\"M3,0A3,3 0 1,1 0,-3A3,3 0 0,1 3,0Z\" style=\"opacity: 1; stroke-width: 0px; fill: rgb(99, 110, 250); fill-opacity: 1;\"/><path class=\"point\" transform=\"translate(77.61,25.34)\" d=\"M3,0A3,3 0 1,1 0,-3A3,3 0 0,1 3,0Z\" style=\"opacity: 1; stroke-width: 0px; fill: rgb(99, 110, 250); fill-opacity: 1;\"/><path class=\"point\" transform=\"translate(78.06,25.34)\" d=\"M3,0A3,3 0 1,1 0,-3A3,3 0 0,1 3,0Z\" style=\"opacity: 1; stroke-width: 0px; fill: rgb(99, 110, 250); fill-opacity: 1;\"/><path class=\"point\" transform=\"translate(79.92,25.34)\" d=\"M3,0A3,3 0 1,1 0,-3A3,3 0 0,1 3,0Z\" style=\"opacity: 1; stroke-width: 0px; fill: rgb(99, 110, 250); fill-opacity: 1;\"/><path class=\"point\" transform=\"translate(89.03,25.34)\" d=\"M3,0A3,3 0 1,1 0,-3A3,3 0 0,1 3,0Z\" style=\"opacity: 1; stroke-width: 0px; fill: rgb(99, 110, 250); fill-opacity: 1;\"/><path class=\"point\" transform=\"translate(89.65,25.34)\" d=\"M3,0A3,3 0 1,1 0,-3A3,3 0 0,1 3,0Z\" style=\"opacity: 1; stroke-width: 0px; fill: rgb(99, 110, 250); fill-opacity: 1;\"/><path class=\"point\" transform=\"translate(90.96,25.34)\" d=\"M3,0A3,3 0 1,1 0,-3A3,3 0 0,1 3,0Z\" style=\"opacity: 1; stroke-width: 0px; fill: rgb(99, 110, 250); fill-opacity: 1;\"/><path class=\"point\" transform=\"translate(97.46,25.34)\" d=\"M3,0A3,3 0 1,1 0,-3A3,3 0 0,1 3,0Z\" style=\"opacity: 1; stroke-width: 0px; fill: rgb(99, 110, 250); fill-opacity: 1;\"/><path class=\"point\" transform=\"translate(100.6,25.34)\" d=\"M3,0A3,3 0 1,1 0,-3A3,3 0 0,1 3,0Z\" style=\"opacity: 1; stroke-width: 0px; fill: rgb(99, 110, 250); fill-opacity: 1;\"/><path class=\"point\" transform=\"translate(100.67,25.34)\" d=\"M3,0A3,3 0 1,1 0,-3A3,3 0 0,1 3,0Z\" style=\"opacity: 1; stroke-width: 0px; fill: rgb(99, 110, 250); fill-opacity: 1;\"/><path class=\"point\" transform=\"translate(101.6,25.34)\" d=\"M3,0A3,3 0 1,1 0,-3A3,3 0 0,1 3,0Z\" style=\"opacity: 1; stroke-width: 0px; fill: rgb(99, 110, 250); fill-opacity: 1;\"/><path class=\"point\" transform=\"translate(115.76,25.34)\" d=\"M3,0A3,3 0 1,1 0,-3A3,3 0 0,1 3,0Z\" style=\"opacity: 1; stroke-width: 0px; fill: rgb(99, 110, 250); fill-opacity: 1;\"/><path class=\"point\" transform=\"translate(126.59,25.34)\" d=\"M3,0A3,3 0 1,1 0,-3A3,3 0 0,1 3,0Z\" style=\"opacity: 1; stroke-width: 0px; fill: rgb(99, 110, 250); fill-opacity: 1;\"/><path class=\"point\" transform=\"translate(135.47,25.34)\" d=\"M3,0A3,3 0 1,1 0,-3A3,3 0 0,1 3,0Z\" style=\"opacity: 1; stroke-width: 0px; fill: rgb(99, 110, 250); fill-opacity: 1;\"/><path class=\"point\" transform=\"translate(137.94,25.34)\" d=\"M3,0A3,3 0 1,1 0,-3A3,3 0 0,1 3,0Z\" style=\"opacity: 1; stroke-width: 0px; fill: rgb(99, 110, 250); fill-opacity: 1;\"/><path class=\"point\" transform=\"translate(146.31,25.34)\" d=\"M3,0A3,3 0 1,1 0,-3A3,3 0 0,1 3,0Z\" style=\"opacity: 1; stroke-width: 0px; fill: rgb(99, 110, 250); fill-opacity: 1;\"/><path class=\"point\" transform=\"translate(155.63,25.34)\" d=\"M3,0A3,3 0 1,1 0,-3A3,3 0 0,1 3,0Z\" style=\"opacity: 1; stroke-width: 0px; fill: rgb(99, 110, 250); fill-opacity: 1;\"/><path class=\"point\" transform=\"translate(168.55,25.34)\" d=\"M3,0A3,3 0 1,1 0,-3A3,3 0 0,1 3,0Z\" style=\"opacity: 1; stroke-width: 0px; fill: rgb(99, 110, 250); fill-opacity: 1;\"/><path class=\"point\" transform=\"translate(186.32,25.34)\" d=\"M3,0A3,3 0 1,1 0,-3A3,3 0 0,1 3,0Z\" style=\"opacity: 1; stroke-width: 0px; fill: rgb(99, 110, 250); fill-opacity: 1;\"/><path class=\"point\" transform=\"translate(226.93,25.34)\" d=\"M3,0A3,3 0 1,1 0,-3A3,3 0 0,1 3,0Z\" style=\"opacity: 1; stroke-width: 0px; fill: rgb(99, 110, 250); fill-opacity: 1;\"/><path class=\"point\" transform=\"translate(235.53,25.34)\" d=\"M3,0A3,3 0 1,1 0,-3A3,3 0 0,1 3,0Z\" style=\"opacity: 1; stroke-width: 0px; fill: rgb(99, 110, 250); fill-opacity: 1;\"/><path class=\"point\" transform=\"translate(254.9,25.34)\" d=\"M3,0A3,3 0 1,1 0,-3A3,3 0 0,1 3,0Z\" style=\"opacity: 1; stroke-width: 0px; fill: rgb(99, 110, 250); fill-opacity: 1;\"/><path class=\"point\" transform=\"translate(256.36,25.34)\" d=\"M3,0A3,3 0 1,1 0,-3A3,3 0 0,1 3,0Z\" style=\"opacity: 1; stroke-width: 0px; fill: rgb(99, 110, 250); fill-opacity: 1;\"/><path class=\"point\" transform=\"translate(294.06,25.34)\" d=\"M3,0A3,3 0 1,1 0,-3A3,3 0 0,1 3,0Z\" style=\"opacity: 1; stroke-width: 0px; fill: rgb(99, 110, 250); fill-opacity: 1;\"/><path class=\"point\" transform=\"translate(354.52,25.34)\" d=\"M3,0A3,3 0 1,1 0,-3A3,3 0 0,1 3,0Z\" style=\"opacity: 1; stroke-width: 0px; fill: rgb(99, 110, 250); fill-opacity: 1;\"/><path class=\"point\" transform=\"translate(365.08,25.34)\" d=\"M3,0A3,3 0 1,1 0,-3A3,3 0 0,1 3,0Z\" style=\"opacity: 1; stroke-width: 0px; fill: rgb(99, 110, 250); fill-opacity: 1;\"/><path class=\"point\" transform=\"translate(386.41,25.34)\" d=\"M3,0A3,3 0 1,1 0,-3A3,3 0 0,1 3,0Z\" style=\"opacity: 1; stroke-width: 0px; fill: rgb(99, 110, 250); fill-opacity: 1;\"/><path class=\"point\" transform=\"translate(703,25.34)\" d=\"M3,0A3,3 0 1,1 0,-3A3,3 0 0,1 3,0Z\" style=\"opacity: 1; stroke-width: 0px; fill: rgb(99, 110, 250); fill-opacity: 1;\"/></g></g></g></g><g class=\"overplot\"/><path class=\"xlines-above crisp\" d=\"M0,0\" style=\"fill: none;\"/><path class=\"ylines-above crisp\" d=\"M0,0\" style=\"fill: none;\"/><g class=\"overlines-above\"/><g class=\"xaxislayer-above\"/><g class=\"yaxislayer-above\"/><g class=\"overaxes-above\"/></g></g><g class=\"polarlayer\"/><g class=\"smithlayer\"/><g class=\"ternarylayer\"/><g class=\"geolayer\"/><g class=\"funnelarealayer\"/><g class=\"pielayer\"/><g class=\"iciclelayer\"/><g class=\"treemaplayer\"/><g class=\"sunburstlayer\"/><g class=\"glimages\"/><defs id=\"topdefs-bb9c21\"><g class=\"clips\"/></defs><g class=\"layer-above\"><g class=\"imagelayer\"/><g class=\"shapelayer\"/></g><g class=\"infolayer\"><g class=\"g-gtitle\"><text class=\"gtitle\" x=\"45\" y=\"50\" text-anchor=\"start\" dy=\"0em\" style=\"font-family: 'Open Sans', verdana, arial, sans-serif; font-size: 17px; fill: rgb(42, 63, 95); opacity: 1; font-weight: normal; white-space: pre;\">Distribution of resolution time</text></g><g class=\"g-xtitle\"><text class=\"xtitle\" x=\"450\" y=\"460.3\" text-anchor=\"middle\" style=\"font-family: 'Open Sans', verdana, arial, sans-serif; font-size: 14px; fill: rgb(42, 63, 95); opacity: 1; font-weight: normal; white-space: pre;\">resolution_time</text></g><g class=\"g-x2title\"/><g class=\"g-ytitle\"><text class=\"ytitle\" transform=\"rotate(-90,31.309375000000003,286.944)\" x=\"31.309375000000003\" y=\"286.944\" text-anchor=\"middle\" style=\"font-family: 'Open Sans', verdana, arial, sans-serif; font-size: 14px; fill: rgb(42, 63, 95); opacity: 1; font-weight: normal; white-space: pre;\">count</text></g><g class=\"g-y2title\"/></g></svg>"
     },
     "metadata": {},
     "output_type": "display_data"
    }
   ],
   "source": [
    "fig = px.histogram(result, x='resolution_time', log_y=True, marginal='box', title='Distribution of resolution time')\n",
    "fig.show()"
   ]
  },
  {
   "cell_type": "code",
   "execution_count": 20,
   "metadata": {},
   "outputs": [
    {
     "data": {
      "text/html": [
       "<div>\n",
       "<style scoped>\n",
       "    .dataframe tbody tr th:only-of-type {\n",
       "        vertical-align: middle;\n",
       "    }\n",
       "\n",
       "    .dataframe tbody tr th {\n",
       "        vertical-align: top;\n",
       "    }\n",
       "\n",
       "    .dataframe thead th {\n",
       "        text-align: right;\n",
       "    }\n",
       "</style>\n",
       "<table border=\"1\" class=\"dataframe\">\n",
       "  <thead>\n",
       "    <tr style=\"text-align: right;\">\n",
       "      <th></th>\n",
       "      <th>response_time</th>\n",
       "      <th>resolution_time</th>\n",
       "    </tr>\n",
       "  </thead>\n",
       "  <tbody>\n",
       "    <tr>\n",
       "      <th>count</th>\n",
       "      <td>736.000000</td>\n",
       "      <td>736.000000</td>\n",
       "    </tr>\n",
       "    <tr>\n",
       "      <th>mean</th>\n",
       "      <td>15.893941</td>\n",
       "      <td>71.104340</td>\n",
       "    </tr>\n",
       "    <tr>\n",
       "      <th>std</th>\n",
       "      <td>204.717685</td>\n",
       "      <td>324.559220</td>\n",
       "    </tr>\n",
       "    <tr>\n",
       "      <th>min</th>\n",
       "      <td>0.000000</td>\n",
       "      <td>0.000000</td>\n",
       "    </tr>\n",
       "    <tr>\n",
       "      <th>25%</th>\n",
       "      <td>0.000000</td>\n",
       "      <td>0.000000</td>\n",
       "    </tr>\n",
       "    <tr>\n",
       "      <th>50%</th>\n",
       "      <td>1.708194</td>\n",
       "      <td>4.345417</td>\n",
       "    </tr>\n",
       "    <tr>\n",
       "      <th>75%</th>\n",
       "      <td>10.396875</td>\n",
       "      <td>28.168056</td>\n",
       "    </tr>\n",
       "    <tr>\n",
       "      <th>max</th>\n",
       "      <td>5540.252222</td>\n",
       "      <td>5540.254722</td>\n",
       "    </tr>\n",
       "  </tbody>\n",
       "</table>\n",
       "</div>"
      ],
      "text/plain": [
       "       response_time  resolution_time\n",
       "count     736.000000       736.000000\n",
       "mean       15.893941        71.104340\n",
       "std       204.717685       324.559220\n",
       "min         0.000000         0.000000\n",
       "25%         0.000000         0.000000\n",
       "50%         1.708194         4.345417\n",
       "75%        10.396875        28.168056\n",
       "max      5540.252222      5540.254722"
      ]
     },
     "execution_count": 20,
     "metadata": {},
     "output_type": "execute_result"
    }
   ],
   "source": [
    "result.describe()"
   ]
  },
  {
   "cell_type": "markdown",
   "metadata": {},
   "source": [
    "## Query Tweets Topics"
   ]
  },
  {
   "cell_type": "code",
   "execution_count": 21,
   "metadata": {},
   "outputs": [],
   "source": [
    "queries = df[df['conversation_id'].isin(conversation_ids)]\n",
    "queries.sort_values('date', ascending=True, inplace=True)\n",
    "queries = queries[queries['inReplyToTweetId'] == 'nan']"
   ]
  },
  {
   "cell_type": "code",
   "execution_count": 22,
   "metadata": {},
   "outputs": [
    {
     "data": {
      "text/plain": [
       "(648, 28)"
      ]
     },
     "execution_count": 22,
     "metadata": {},
     "output_type": "execute_result"
    }
   ],
   "source": [
    "queries.shape"
   ]
  },
  {
   "cell_type": "code",
   "execution_count": 23,
   "metadata": {},
   "outputs": [],
   "source": [
    "processor = Processor('./../../data/config.json')"
   ]
  },
  {
   "cell_type": "code",
   "execution_count": 24,
   "metadata": {},
   "outputs": [],
   "source": [
    "queries = processor.preprocess_individual(queries)"
   ]
  },
  {
   "cell_type": "code",
   "execution_count": 26,
   "metadata": {},
   "outputs": [],
   "source": [
    "id2word = gensim.corpora.Dictionary(queries['bigram'].values.tolist())"
   ]
  },
  {
   "cell_type": "code",
   "execution_count": 27,
   "metadata": {},
   "outputs": [],
   "source": [
    "corpus = [id2word.doc2bow(text) for text in queries['bigram'].values.tolist()]"
   ]
  },
  {
   "cell_type": "code",
   "execution_count": 62,
   "metadata": {},
   "outputs": [],
   "source": [
    "lda_model = gensim.models.LdaMulticore(corpus=corpus,\n",
    "                                        id2word=id2word,\n",
    "                                        num_topics=4,\n",
    "                                        random_state=100,\n",
    "                                        chunksize=100,\n",
    "                                        passes=10,\n",
    "                                        per_word_topics=True,\n",
    "                                        alpha=0.9,\n",
    "                                        eta=0.3)"
   ]
  },
  {
   "cell_type": "code",
   "execution_count": 63,
   "metadata": {},
   "outputs": [
    {
     "name": "stdout",
     "output_type": "stream",
     "text": [
      "Coherence Score:  -9.638592704311312\n"
     ]
    }
   ],
   "source": [
    "coherence_model = gensim.models.CoherenceModel(model=lda_model, \n",
    "                                                    texts=queries['bigram'].values.tolist(), \n",
    "                                                    dictionary=id2word, \n",
    "                                                    coherence='u_mass')\n",
    "coherence_model_score = coherence_model.get_coherence()\n",
    "print('Coherence Score: ', coherence_model_score)"
   ]
  },
  {
   "cell_type": "code",
   "execution_count": 64,
   "metadata": {},
   "outputs": [
    {
     "data": {
      "text/html": [
       "\n",
       "<link rel=\"stylesheet\" type=\"text/css\" href=\"https://cdn.jsdelivr.net/gh/bmabey/pyLDAvis@3.3.1/pyLDAvis/js/ldavis.v1.0.0.css\">\n",
       "\n",
       "\n",
       "<div id=\"ldavis_el4047859333204488174766719\"></div>\n",
       "<script type=\"text/javascript\">\n",
       "\n",
       "var ldavis_el4047859333204488174766719_data = {\"mdsDat\": {\"x\": [-0.06134666333571699, -0.05032071887795868, -0.004442616081458803, 0.11610999829513442], \"y\": [-0.08084157912239011, 0.022521521358053707, 0.08790853566617732, -0.029588477901840948], \"topics\": [1, 2, 3, 4], \"cluster\": [1, 1, 1, 1], \"Freq\": [29.32092949380179, 25.461929490307167, 23.029211215528832, 22.187929800362213]}, \"tinfo\": {\"Term\": [\"contact_details\", \"ecs\", \"share_registered\", \"kindly_dm\", \"emi\", \"experience_officer\", \"contact_solve\", \"forward_serve\", \"concern_looking\", \"account\", \"hai\", \"shall_happy\", \"inconvenience_caused\", \"hello_sorry\", \"customer_experience\", \"loan\", \"serve\", \"solve_concern\", \"happy_contact\", \"giving_chance\", \"serve_kindly\", \"registered_contact\", \"lai\", \"hello_thanks\", \"officer_shall\", \"corona_pandemic\", \"village_want\", \"gave_emi\", \"prove_sending\", \"date_present\", \"releaf\", \"rs\", \"upto\", \"years\", \"tenure\", \"bounced\", \"status\", \"balance\", \"reverse\", \"paying\", \"application\", \"ago\", \"availed\", \"difficult\", \"education\", \"hit\", \"restructuring\", \"mobile_number\", \"saying\", \"regular\", \"forcing\", \"year\", \"lai\", \"travel\", \"statement\", \"gratia\", \"ex\", \"currently\", \"registered\", \"update\", \"plan\", \"check\", \"loan_restructuring\", \"emi_holiday\", \"account\", \"showing\", \"requested\", \"business_loan\", \"months\", \"emi\", \"loan\", \"payment\", \"paid\", \"id_lai\", \"th\", \"applied\", \"till_st\", \"time\", \"kindly\", \"month\", \"moratorium\", \"cheque\", \"debited\", \"pay\", \"times\", \"lockdown\", \"plz\", \"team\", \"service\", \"reply\", \"dont\", \"business\", \"rbi\", \"companies\", \"deeply_value\", \"association_reassure\", \"team_fully\", \"committed_serving\", \"data_sent\", \"person\", \"properly\", \"better\", \"village\", \"harassed\", \"directors\", \"justice\", \"emisi\", \"raised\", \"lack\", \"cyber\", \"worse\", \"bullied\", \"ban\", \"arrest\", \"war\", \"harrsment\", \"apps\", \"threats\", \"contacts\", \"unknown\", \"requesting\", \"complnt\", \"china\", \"run\", \"fintech\", \"deducted\", \"response\", \"personal\", \"said\", \"today\", \"important\", \"got\", \"respond\", \"private\", \"going\", \"money\", \"business\", \"customers\", \"pay_emi\", \"ur\", \"cibil\", \"service\", \"emi\", \"pay\", \"moratorium\", \"rbi\", \"customer\", \"need\", \"days\", \"covid\", \"loan\", \"request\", \"time\", \"team\", \"mail\", \"company\", \"help\", \"people\", \"want\", \"serve_kindly\", \"registered_contact\", \"serve\", \"dm_share\", \"solve_concern\", \"happy_contact\", \"giving_chance\", \"hello_thanks\", \"details_infocom\", \"recived\", \"axis\", \"type\", \"looking_forward\", \"mental\", \"frm\", \"details_carecom\", \"advance\", \"send\", \"officer_shall\", \"issue\", \"tomarow\", \"soon\", \"morotoriom\", \"msgs\", \"revival\", \"avoid\", \"inform\", \"trader\", \"consumer\", \"august\", \"mailed\", \"documents\", \"regularly\", \"credit\", \"messages\", \"resolve\", \"harassment\", \"march\", \"like\", \"know\", \"mail\", \"confirmation\", \"request\", \"customer_experience\", \"want\", \"dont\", \"till\", \"moratorium\", \"loan\", \"bank\", \"details\", \"need\", \"email\", \"emi\", \"reply\", \"customer\", \"days\", \"contact\", \"forward_serve\", \"share_registered\", \"contact_solve\", \"concern_looking\", \"experience_officer\", \"shall_happy\", \"corona_pandemic\", \"contact_details\", \"village_want\", \"gave_emi\", \"prove_sending\", \"date_present\", \"inconvenience_caused\", \"hello_sorry\", \"kindly_dm\", \"reassure_team\", \"soon_deeply\", \"fully_committed\", \"value_association\", \"bussiness_stopped\", \"stranger_strangers\", \"serving_better\", \"carecom_customer\", \"officer_connect\", \"infocom_customer\", \"kar\", \"koi\", \"phone_number\", \"se\", \"certainly\", \"hai\", \"ecs\", \"regret_inconvenience\", \"number\", \"company\", \"mail\", \"times\", \"moratorium\", \"help\", \"customer_experience\", \"month\", \"bank\", \"time\", \"loan\", \"emi\", \"customer\"], \"Freq\": [17.0, 25.0, 15.0, 15.0, 109.0, 13.0, 12.0, 12.0, 12.0, 39.0, 14.0, 10.0, 10.0, 10.0, 18.0, 106.0, 10.0, 10.0, 10.0, 10.0, 9.0, 9.0, 21.0, 10.0, 12.0, 8.0, 8.0, 8.0, 8.0, 8.0, 4.7378617400633765, 7.303143991082974, 4.6778288051912265, 5.295513386232262, 5.2595966398782705, 8.393873252372371, 3.9215874059070353, 7.682299281491165, 3.2169896994531673, 5.057407488813039, 13.074615802986477, 3.820002483247095, 3.2045123792365056, 3.1661133373682664, 3.1589626038214047, 6.192094078076275, 10.415668638318708, 4.975149188396426, 3.131268687084726, 3.1130233288751374, 3.1105768717628304, 3.09816706109401, 16.755797541774577, 2.4823583009049273, 6.027137415005267, 2.4773903760716007, 2.471959608000811, 2.471235061084062, 4.240292758022047, 7.72698671272314, 5.376849333978781, 8.772226762718544, 8.740217791261408, 4.736748249249599, 28.512545848314485, 6.36965807975238, 9.166355837528178, 9.60651975635592, 14.039816755314881, 57.77160171960952, 54.345899446486754, 10.546741620348904, 11.651247830105174, 6.131005438340763, 13.262770191344519, 10.1385938962221, 7.358057868636096, 21.863847748517227, 13.869833825825992, 15.66663239058537, 34.25331998532798, 8.911434228538015, 8.248253768593322, 12.026849840196943, 11.909769948313542, 9.294830118692088, 10.169476041646131, 12.954733292507917, 11.782686419398576, 10.822409496806548, 10.289156301298236, 9.577983498265107, 9.675522848761817, 6.6041933176040555, 6.575033082224311, 6.566073915342023, 6.562992633582529, 6.533453148678363, 4.506651049058893, 7.974524623068921, 3.6813278480058695, 8.387237369205597, 3.0593484953319567, 3.0507866719399512, 3.0422557289163463, 4.192241130668668, 3.01258451994072, 4.7316193579164345, 3.0093700665924974, 2.3672417560428056, 2.3646461163269894, 2.3631665124254098, 2.3629682025595855, 2.3618282827104147, 2.361404642656416, 2.361972069425781, 2.359657006807232, 2.3590191341974527, 2.357617213722631, 2.356998158837346, 5.70885804881154, 2.35622035955825, 2.355203478676926, 4.012741993005431, 2.891119244617751, 11.494535839077683, 16.69467600641742, 3.3421448778247203, 8.830488387161902, 7.575384763855918, 3.716957520565585, 12.13196261353835, 3.261537707436331, 2.819709116449488, 5.254312536112634, 12.256646926014227, 13.85675760523233, 12.480128152130966, 12.31657414094207, 10.584904407232857, 6.605522620962559, 13.809070596329363, 32.36662702179108, 11.186544694763022, 26.975729168724353, 13.098321282135485, 12.240655720240165, 8.636572218754411, 10.476880053509223, 7.4261558660647085, 18.299943707158462, 10.043776131607125, 11.131448327466883, 9.562834659006104, 8.581898526500757, 7.67152741333158, 7.298504625693572, 6.926745520631216, 6.665434395706201, 8.399422279717292, 8.394780670441879, 8.986539594070239, 7.704274520677309, 8.957405160521297, 8.950866059977598, 8.82504248879779, 8.710011226510511, 4.995446447177978, 3.6548247891745302, 3.6546764112924657, 3.5639754122167497, 9.26276422337727, 2.9547611399800826, 3.502262650835589, 2.9299466848269007, 2.91124976247014, 7.381352753451299, 9.448021864434706, 6.730484009258176, 2.2960545523696587, 5.5411165822038235, 2.2917677407945947, 2.289115486152688, 2.2838609453026875, 2.2733287341093056, 2.263437820850318, 2.263308208406279, 2.2615353109183736, 3.2873798382045574, 6.4639663482769265, 5.866436397847321, 5.783830066846538, 3.7290831186870306, 3.2471607040543096, 3.709509894015017, 4.998564564729014, 3.6907662762659594, 8.662552124526576, 9.562827941465674, 19.918796759342225, 7.136681989981937, 14.021261230225212, 9.42777526602144, 10.579528899972388, 13.550745365276216, 11.117499095730146, 25.50247117296096, 24.76185606680099, 11.12360091792729, 6.527401820509412, 7.84429698235964, 7.152519146864668, 10.949283963644447, 7.563888096778384, 7.461600748938324, 7.2209846292991475, 6.734587966913872, 10.955516304348217, 14.12104231265467, 11.568655895989027, 10.913881199315702, 12.1148316806204, 9.56946279443276, 7.671152264634905, 15.834698868518247, 7.663578040906282, 7.652881457601287, 7.637689281973297, 7.628736779939887, 9.495171996044672, 9.448460218574086, 13.137653776547955, 6.936287741391791, 6.934445692199213, 6.919213572569101, 6.910969971457555, 5.6131149205425785, 5.61274827664942, 5.589322170563029, 7.381332040062055, 6.1486273384601935, 4.943886381585743, 3.6078604217801473, 3.5870474943588717, 6.376567576335741, 5.748847162530992, 3.488861563206849, 11.34091537812409, 19.07392029934958, 4.933017828840034, 7.416022775209928, 12.391769754277432, 13.345140583021323, 10.11294172822615, 15.398392635659476, 8.820722986242128, 8.016683860587937, 8.948321788472215, 8.982599628777105, 8.91368571353777, 8.879631559644762, 8.751922596061455, 7.435262329410792], \"Total\": [17.0, 25.0, 15.0, 15.0, 109.0, 13.0, 12.0, 12.0, 12.0, 39.0, 14.0, 10.0, 10.0, 10.0, 18.0, 106.0, 10.0, 10.0, 10.0, 10.0, 9.0, 9.0, 21.0, 10.0, 12.0, 8.0, 8.0, 8.0, 8.0, 8.0, 5.507958443862035, 8.553765285337205, 5.503185244549886, 6.262605527296937, 6.262196883347811, 10.086696034762454, 4.731787371788376, 9.30393773145924, 3.9640803136783713, 6.248971747569622, 16.155313209259702, 4.724312308423842, 3.9632950517464844, 3.9596526236789824, 3.959908657296314, 7.76549472670475, 13.085189224119361, 6.253097802359461, 3.957838479105083, 3.957683388367948, 3.9551204656283994, 3.953665350800254, 21.437516752840967, 3.193538592712942, 7.7656740511031455, 3.193586109415796, 3.1931908178183077, 3.1926148354370305, 5.483827244797773, 10.032996369406739, 6.9928651686257535, 11.524417022532788, 11.505927317590062, 6.214887332082001, 39.548729127521256, 8.530016556270606, 12.965635948152393, 13.815685657993905, 21.344521113413933, 109.8394353011065, 106.28733078009097, 16.01449892997786, 18.191051260399675, 8.477571917347806, 21.883535490820528, 16.01965769292067, 10.687119812537663, 44.21252593369152, 24.77283674216008, 29.926632780628218, 102.12991296267278, 14.38041735677955, 12.978035830438058, 25.70363695063899, 25.981657556916872, 17.469607744070093, 20.890483037954436, 34.24378618076673, 32.179836122695626, 28.960381587557993, 31.891940391948992, 28.483070755628976, 34.85298314084685, 7.536412445521084, 7.534953693971503, 7.533699306321868, 7.53489123003208, 7.534060633082725, 5.318204363975684, 9.739573588137862, 4.577608626668146, 10.490301150742619, 3.8389722503732884, 3.838128510664596, 3.837731805630374, 5.3078234098899415, 3.839957736793471, 6.03749258374277, 3.840058872324795, 3.099032335534921, 3.0995642016158507, 3.0990419211046265, 3.098840222651217, 3.0988396586168063, 3.098538946422741, 3.0993330135373376, 3.0989215278224123, 3.098940871937186, 3.0997354655624205, 3.099336188718647, 7.50867123456703, 3.099297923196823, 3.098517065569667, 5.297148344584316, 3.833708726582341, 17.13082478628218, 26.632054202317953, 4.565078565721208, 14.09904795733781, 11.922330425985871, 5.292720688684369, 22.587885250180168, 4.576282742738208, 3.8399951384269357, 8.30974858526774, 23.985831811941367, 28.483070755628976, 24.968181829204728, 24.664925356537847, 20.79499677848063, 11.287186799021335, 32.179836122695626, 109.8394353011065, 25.70363695063899, 102.12991296267278, 34.85298314084685, 32.31615120995976, 19.10529030692684, 28.935243580985215, 15.815089714976352, 106.28733078009097, 31.4774276971676, 44.21252593369152, 34.24378618076673, 48.71508849491032, 33.668990947497036, 24.255374579096316, 17.19144921004575, 21.9755753636252, 9.497290357946802, 9.499118727217157, 10.216373537298228, 8.781575895193004, 10.220013694294488, 10.218426807713222, 10.213008196274696, 10.2154633197257, 5.907286432073281, 4.467836137274091, 4.469157733201838, 4.474001671843135, 11.666526217298896, 3.750827310026603, 4.474482744357208, 3.753391932418213, 3.753789444090474, 9.523718591450372, 12.34186453493481, 8.816017892348043, 3.0326845148479302, 7.3303907275197755, 3.0326458868248634, 3.033360201567214, 3.034738025489615, 3.03403220385991, 3.0338421218243523, 3.0348720129829747, 3.0347121794340555, 4.482768255390053, 8.830563454941807, 8.156457635886152, 8.093059624057318, 5.183478550302641, 4.4826452795940135, 5.202082386152456, 7.3960299465479755, 5.232536620262414, 14.680204783113489, 16.95806550333949, 48.71508849491032, 12.554217379683166, 31.4774276971676, 18.711798894529245, 21.9755753636252, 31.891940391948992, 27.169815000716014, 102.12991296267278, 106.28733078009097, 31.513494995110836, 12.572897374378195, 19.10529030692684, 17.87075796605121, 109.8394353011065, 28.960381587557993, 32.31615120995976, 28.935243580985215, 19.765319465931007, 12.186950400111536, 15.721179783126507, 12.897704856956208, 12.189842763804432, 13.603235860080638, 10.775142946320377, 8.64761878730632, 17.852265359401244, 8.648100086940286, 8.64778133243617, 8.650056256670027, 8.649042977188412, 10.777045993224647, 10.78244348185791, 15.039112472964828, 7.946847725074916, 7.946315903303557, 7.946184973515326, 7.947389485137284, 6.52991783120887, 6.5308012103141575, 6.534305657045937, 8.657409199348253, 7.242203682440225, 5.825526925958053, 4.411882194542007, 4.411396482612485, 7.970506680065341, 7.274593817928726, 4.415832114548521, 14.38377287250315, 25.967636401580727, 6.54516983084305, 12.410125498021705, 33.668990947497036, 48.71508849491032, 25.981657556916872, 102.12991296267278, 24.255374579096316, 18.711798894529245, 29.926632780628218, 31.513494995110836, 44.21252593369152, 106.28733078009097, 109.8394353011065, 32.31615120995976], \"Category\": [\"Default\", \"Default\", \"Default\", \"Default\", \"Default\", \"Default\", \"Default\", \"Default\", \"Default\", \"Default\", \"Default\", \"Default\", \"Default\", \"Default\", \"Default\", \"Default\", \"Default\", \"Default\", \"Default\", \"Default\", \"Default\", \"Default\", \"Default\", \"Default\", \"Default\", \"Default\", \"Default\", \"Default\", \"Default\", \"Default\", \"Topic1\", \"Topic1\", \"Topic1\", \"Topic1\", \"Topic1\", \"Topic1\", \"Topic1\", \"Topic1\", \"Topic1\", \"Topic1\", \"Topic1\", \"Topic1\", \"Topic1\", \"Topic1\", \"Topic1\", \"Topic1\", \"Topic1\", \"Topic1\", \"Topic1\", \"Topic1\", \"Topic1\", \"Topic1\", \"Topic1\", \"Topic1\", \"Topic1\", \"Topic1\", \"Topic1\", \"Topic1\", \"Topic1\", \"Topic1\", \"Topic1\", \"Topic1\", \"Topic1\", \"Topic1\", \"Topic1\", \"Topic1\", \"Topic1\", \"Topic1\", \"Topic1\", \"Topic1\", \"Topic1\", \"Topic1\", \"Topic1\", \"Topic1\", \"Topic1\", \"Topic1\", \"Topic1\", \"Topic1\", \"Topic1\", \"Topic1\", \"Topic1\", \"Topic1\", \"Topic1\", \"Topic1\", \"Topic1\", \"Topic1\", \"Topic1\", \"Topic1\", \"Topic1\", \"Topic1\", \"Topic1\", \"Topic1\", \"Topic1\", \"Topic2\", \"Topic2\", \"Topic2\", \"Topic2\", \"Topic2\", \"Topic2\", \"Topic2\", \"Topic2\", \"Topic2\", \"Topic2\", \"Topic2\", \"Topic2\", \"Topic2\", \"Topic2\", \"Topic2\", \"Topic2\", \"Topic2\", \"Topic2\", \"Topic2\", \"Topic2\", \"Topic2\", \"Topic2\", \"Topic2\", \"Topic2\", \"Topic2\", \"Topic2\", \"Topic2\", \"Topic2\", \"Topic2\", \"Topic2\", \"Topic2\", \"Topic2\", \"Topic2\", \"Topic2\", \"Topic2\", \"Topic2\", \"Topic2\", \"Topic2\", \"Topic2\", \"Topic2\", \"Topic2\", \"Topic2\", \"Topic2\", \"Topic2\", \"Topic2\", \"Topic2\", \"Topic2\", \"Topic2\", \"Topic2\", \"Topic2\", \"Topic2\", \"Topic2\", \"Topic2\", \"Topic2\", \"Topic2\", \"Topic2\", \"Topic2\", \"Topic2\", \"Topic2\", \"Topic2\", \"Topic2\", \"Topic2\", \"Topic2\", \"Topic2\", \"Topic2\", \"Topic2\", \"Topic3\", \"Topic3\", \"Topic3\", \"Topic3\", \"Topic3\", \"Topic3\", \"Topic3\", \"Topic3\", \"Topic3\", \"Topic3\", \"Topic3\", \"Topic3\", \"Topic3\", \"Topic3\", \"Topic3\", \"Topic3\", \"Topic3\", \"Topic3\", \"Topic3\", \"Topic3\", \"Topic3\", \"Topic3\", \"Topic3\", \"Topic3\", \"Topic3\", \"Topic3\", \"Topic3\", \"Topic3\", \"Topic3\", \"Topic3\", \"Topic3\", \"Topic3\", \"Topic3\", \"Topic3\", \"Topic3\", \"Topic3\", \"Topic3\", \"Topic3\", \"Topic3\", \"Topic3\", \"Topic3\", \"Topic3\", \"Topic3\", \"Topic3\", \"Topic3\", \"Topic3\", \"Topic3\", \"Topic3\", \"Topic3\", \"Topic3\", \"Topic3\", \"Topic3\", \"Topic3\", \"Topic3\", \"Topic3\", \"Topic3\", \"Topic3\", \"Topic3\", \"Topic4\", \"Topic4\", \"Topic4\", \"Topic4\", \"Topic4\", \"Topic4\", \"Topic4\", \"Topic4\", \"Topic4\", \"Topic4\", \"Topic4\", \"Topic4\", \"Topic4\", \"Topic4\", \"Topic4\", \"Topic4\", \"Topic4\", \"Topic4\", \"Topic4\", \"Topic4\", \"Topic4\", \"Topic4\", \"Topic4\", \"Topic4\", \"Topic4\", \"Topic4\", \"Topic4\", \"Topic4\", \"Topic4\", \"Topic4\", \"Topic4\", \"Topic4\", \"Topic4\", \"Topic4\", \"Topic4\", \"Topic4\", \"Topic4\", \"Topic4\", \"Topic4\", \"Topic4\", \"Topic4\", \"Topic4\", \"Topic4\", \"Topic4\", \"Topic4\", \"Topic4\"], \"logprob\": [30.0, 29.0, 28.0, 27.0, 26.0, 25.0, 24.0, 23.0, 22.0, 21.0, 20.0, 19.0, 18.0, 17.0, 16.0, 15.0, 14.0, 13.0, 12.0, 11.0, 10.0, 9.0, 8.0, 7.0, 6.0, 5.0, 4.0, 3.0, 2.0, 1.0, -6.222, -5.7892, -6.2347, -6.1107, -6.1175, -5.6501, -6.4111, -5.7386, -6.6091, -6.1567, -5.2069, -6.4373, -6.613, -6.625, -6.6273, -5.9543, -5.4342, -6.1731, -6.6361, -6.642, -6.6427, -6.6467, -4.9588, -6.8683, -5.9813, -6.8703, -6.8725, -6.8728, -6.3329, -5.7328, -6.0955, -5.606, -5.6096, -6.2222, -4.4272, -5.926, -5.562, -5.5151, -5.1357, -3.7211, -3.7822, -5.4217, -5.3221, -5.9642, -5.1926, -5.4612, -5.7818, -4.6927, -5.1478, -5.026, -4.2438, -5.5902, -5.6676, -5.2904, -5.3002, -5.5481, -5.4582, -5.2161, -5.3109, -5.3959, -5.4465, -5.5181, -5.508, -5.7487, -5.7532, -5.7545, -5.755, -5.7595, -6.1309, -5.5602, -6.3332, -5.5097, -6.5182, -6.521, -6.5238, -6.2032, -6.5336, -6.0822, -6.5347, -6.7747, -6.7758, -6.7764, -6.7765, -6.777, -6.7772, -6.7769, -6.7779, -6.7782, -6.7788, -6.779, -5.8944, -6.7794, -6.7798, -6.247, -6.5748, -5.1946, -4.8213, -6.4298, -5.4582, -5.6115, -6.3235, -5.1406, -6.4542, -6.5998, -5.9774, -5.1304, -5.0077, -5.1123, -5.1255, -5.277, -5.7485, -5.0111, -4.1593, -5.2217, -4.3415, -5.064, -5.1317, -5.4804, -5.2873, -5.6314, -4.7295, -5.3295, -5.2267, -5.3786, -5.4868, -5.5989, -5.6488, -5.701, -5.7395, -5.4079, -5.4084, -5.3403, -5.4942, -5.3435, -5.3443, -5.3584, -5.3715, -5.9275, -6.24, -6.24, -6.2651, -5.31, -6.4526, -6.2826, -6.461, -6.4674, -5.5371, -5.2902, -5.6294, -6.7048, -5.8238, -6.7067, -6.7079, -6.7101, -6.7148, -6.7191, -6.7192, -6.72, -6.3459, -5.6698, -5.7668, -5.7809, -6.2199, -6.3582, -6.2251, -5.9269, -6.2302, -5.377, -5.2781, -4.5444, -5.5708, -4.8954, -5.2924, -5.1771, -4.9296, -5.1275, -4.2972, -4.3267, -5.1269, -5.66, -5.4762, -5.5686, -5.1427, -5.5126, -5.5262, -5.559, -5.6288, -5.105, -4.8511, -5.0505, -5.1088, -5.0044, -5.2402, -5.4613, -4.7366, -5.4623, -5.4637, -5.4657, -5.4669, -5.248, -5.2529, -4.9233, -5.562, -5.5623, -5.5645, -5.5657, -5.7737, -5.7738, -5.7779, -5.4998, -5.6826, -5.9006, -6.2157, -6.2215, -5.6462, -5.7498, -6.2492, -5.0704, -4.5505, -5.9028, -5.4952, -4.9818, -4.9076, -5.185, -4.7645, -5.3217, -5.4173, -5.3073, -5.3035, -5.3112, -5.315, -5.3295, -5.4926], \"loglift\": [30.0, 29.0, 28.0, 27.0, 26.0, 25.0, 24.0, 23.0, 22.0, 21.0, 20.0, 19.0, 18.0, 17.0, 16.0, 15.0, 14.0, 13.0, 12.0, 11.0, 10.0, 9.0, 8.0, 7.0, 6.0, 5.0, 4.0, 3.0, 2.0, 1.0, 1.0763, 1.0688, 1.0644, 1.0591, 1.0524, 1.0432, 1.0391, 1.0353, 1.018, 1.0153, 1.0153, 1.0144, 1.0144, 1.0032, 1.0009, 1.0005, 0.9987, 0.9982, 0.9926, 0.9868, 0.9867, 0.983, 0.9805, 0.9749, 0.9734, 0.9729, 0.9709, 0.9707, 0.9697, 0.9657, 0.9641, 0.954, 0.9519, 0.9553, 0.8997, 0.9348, 0.8801, 0.8635, 0.808, 0.5843, 0.5561, 0.8092, 0.7814, 0.9028, 0.7261, 0.7694, 0.8536, 0.5227, 0.6468, 0.5797, 0.1344, 0.7483, 0.7736, 0.4674, 0.4468, 0.5959, 0.507, 0.2548, 0.2222, 0.2426, 0.0956, 0.137, -0.0547, 1.2359, 1.2317, 1.2305, 1.2299, 1.2255, 1.2024, 1.168, 1.1501, 1.1442, 1.141, 1.1384, 1.1357, 1.132, 1.1253, 1.1243, 1.1242, 1.0986, 1.0974, 1.0969, 1.0969, 1.0964, 1.0963, 1.0963, 1.0954, 1.0952, 1.0943, 1.0942, 1.0939, 1.0939, 1.0937, 1.0903, 1.0858, 0.969, 0.901, 1.0562, 0.9001, 0.9145, 1.0146, 0.7464, 1.0293, 1.0591, 0.9096, 0.6966, 0.6474, 0.6745, 0.6735, 0.6927, 0.8322, 0.522, 0.1461, 0.5361, 0.0367, 0.3893, 0.3972, 0.574, 0.3521, 0.612, -0.3913, 0.2257, -0.0112, 0.0924, -0.3683, -0.1111, 0.167, 0.459, 0.175, 1.3456, 1.3448, 1.3401, 1.3375, 1.3365, 1.336, 1.3223, 1.309, 1.3007, 1.2676, 1.2672, 1.241, 1.2377, 1.2298, 1.2234, 1.2207, 1.2142, 1.2136, 1.2012, 1.1985, 1.1902, 1.1886, 1.1883, 1.1869, 1.1841, 1.1798, 1.1755, 1.1751, 1.1743, 1.1583, 1.1564, 1.1388, 1.1325, 1.1391, 1.146, 1.1302, 1.0766, 1.1193, 0.9409, 0.8955, 0.5741, 0.9036, 0.6597, 0.7829, 0.7374, 0.6125, 0.5748, 0.0809, 0.0116, 0.4271, 0.8129, 0.5782, 0.5527, -0.8373, 0.1259, 0.0026, 0.0803, 0.3917, 1.3991, 1.3983, 1.3969, 1.3951, 1.3897, 1.387, 1.3858, 1.3857, 1.3848, 1.3834, 1.3812, 1.3801, 1.379, 1.3736, 1.3704, 1.3696, 1.3694, 1.3672, 1.3659, 1.3543, 1.3541, 1.3494, 1.3462, 1.3419, 1.3415, 1.3044, 1.2988, 1.2825, 1.2702, 1.27, 1.2679, 1.1971, 1.2228, 0.9908, 0.5061, 0.2108, 0.562, -0.3864, 0.4941, 0.658, 0.2983, 0.2505, -0.0958, -0.9768, -1.0241, 0.0363]}, \"token.table\": {\"Topic\": [1, 2, 3, 4, 3, 1, 1, 2, 3, 4, 1, 2, 3, 4, 2, 2, 2, 3, 1, 3, 3, 1, 3, 4, 2, 1, 2, 3, 4, 1, 2, 3, 1, 2, 2, 1, 2, 3, 4, 1, 2, 3, 4, 4, 3, 4, 4, 1, 2, 3, 4, 1, 2, 3, 4, 2, 1, 2, 3, 4, 2, 2, 1, 2, 3, 4, 2, 4, 1, 2, 3, 4, 3, 1, 2, 3, 4, 1, 2, 3, 4, 4, 2, 4, 1, 2, 3, 4, 3, 4, 1, 1, 2, 3, 4, 1, 2, 3, 4, 1, 2, 3, 4, 2, 2, 4, 1, 2, 3, 4, 1, 2, 3, 4, 1, 2, 3, 4, 2, 1, 2, 3, 3, 3, 1, 2, 3, 1, 3, 1, 2, 3, 4, 1, 2, 3, 4, 1, 1, 2, 3, 4, 1, 2, 3, 4, 1, 4, 2, 1, 3, 4, 2, 1, 4, 3, 4, 4, 3, 4, 1, 2, 3, 4, 1, 2, 3, 4, 1, 2, 4, 3, 2, 1, 3, 4, 2, 2, 4, 3, 4, 1, 2, 3, 4, 1, 3, 1, 3, 2, 3, 4, 4, 3, 1, 2, 3, 4, 2, 3, 4, 1, 2, 3, 4, 1, 2, 3, 4, 1, 2, 3, 4, 4, 2, 1, 2, 3, 4, 1, 2, 3, 4, 1, 2, 3, 4, 1, 4, 1, 2, 3, 4, 2, 3, 4, 1, 2, 3, 4, 1, 2, 3, 4, 1, 3, 3, 2, 3, 1, 2, 1, 2, 3, 4, 1, 2, 3, 4, 1, 2, 3, 4, 1, 2, 3, 4, 3, 3, 1, 2, 3, 4, 1, 2, 3, 4, 4, 3, 4, 1, 2, 3, 4, 1, 2, 3, 4, 1, 2, 3, 4, 1, 1, 2, 3, 4, 1, 2, 3, 4, 2, 3, 2, 4, 2, 4, 1, 3, 1, 2, 3, 4, 2, 2, 4, 2, 4, 1, 2, 3, 4, 4, 3, 1, 2, 3, 3, 4, 1, 1, 2, 3, 4, 1, 1, 2, 3, 4, 1, 2, 3, 4, 1, 3, 4, 2, 3, 4, 2, 3, 1, 2, 1, 2, 3, 4, 1, 2, 3, 4, 1, 3, 1, 4, 2, 4, 1, 2, 3, 4, 1, 1, 2, 4, 1, 2, 3, 4, 3, 3, 1, 2, 3, 4, 4, 4, 2, 3, 4, 1, 2, 3, 3, 4, 4, 1, 2, 1, 4, 1, 2, 3, 4, 2, 1, 1, 2, 3, 4, 2, 1, 2, 3, 4, 1, 2, 4, 1, 2, 3, 4, 1, 2, 3, 4, 1, 2, 3, 4, 3, 3, 1, 3, 2, 1, 2, 3, 4, 1, 1, 2, 3, 4, 4, 2, 4, 1, 2, 3, 4, 2, 2, 1, 1], \"Freq\": [0.7332726143106181, 0.10114105024974042, 0.07585578768730532, 0.10114105024974042, 0.7991924013540099, 0.8466840756627514, 0.8046888247606875, 0.06189914036620673, 0.06189914036620673, 0.06189914036620673, 0.6242330636327611, 0.18726991908982832, 0.12484661272655222, 0.06242330636327611, 0.6453858163376548, 0.6454028669856113, 0.9291584008570641, 0.6692293308700084, 0.7569459151616799, 0.6591887843034726, 0.8950232322935446, 0.8598509825522308, 0.10748137281902885, 0.10748137281902885, 0.6454027495128152, 0.2538594973753676, 0.09519731151576286, 0.3490568088911305, 0.2855919345472886, 0.09532614799425553, 0.7626091839540442, 0.09532614799425553, 0.793123930019212, 0.0991404912524015, 0.6453607440350847, 0.3510857409229216, 0.49152003729209026, 0.14043429636916865, 0.035108574092292164, 0.7238149627567628, 0.21714448882702883, 0.07238149627567628, 0.07238149627567628, 0.9188477030022953, 0.11550799748211994, 0.8085559823748396, 0.6793736542012361, 0.780950566297888, 0.08677228514420977, 0.08677228514420977, 0.08677228514420977, 0.6258510985258027, 0.06953901094731141, 0.06953901094731141, 0.2086170328419342, 0.6454700612185581, 0.2657881058777301, 0.6201722470480369, 0.0885960352925767, 0.0885960352925767, 0.9291138392571971, 0.9288239000454551, 0.20790643862525326, 0.23760735842886085, 0.17820551882164565, 0.3564110376432913, 0.6453074372201903, 0.9023906389229681, 0.23896352192013037, 0.07965450730671013, 0.5575815511469708, 0.07965450730671013, 0.6590410825625581, 0.20237466977929203, 0.151781002334469, 0.35415567211376103, 0.303562004668938, 0.05601530001196103, 0.05601530001196103, 0.05601530001196103, 0.8962448001913765, 0.9303980927682616, 0.6452163490141947, 0.9251101600064809, 0.3793845060719576, 0.4426152570839505, 0.12646150202398587, 0.06323075101199294, 0.7716825605010862, 0.19292064012527155, 0.6264457515515567, 0.15472139511647698, 0.3713313482795447, 0.21660995316306778, 0.21660995316306778, 0.0534422160924554, 0.0534422160924554, 0.4809799448320986, 0.4275377287396432, 0.08010194789837058, 0.4806116873902235, 0.12015292184755587, 0.280356817644297, 0.6453627401905705, 0.9401669544459162, 0.9249578272532298, 0.2764794420205675, 0.34559930252570936, 0.24191951176799656, 0.10367979075771282, 0.6164260990278041, 0.15410652475695102, 0.07705326237847551, 0.07705326237847551, 0.11674861105353997, 0.6421173607944698, 0.11674861105353997, 0.11674861105353997, 0.9290037184436177, 0.15907232362173893, 0.31814464724347785, 0.5567531326760863, 0.7992770416776533, 0.8464123176510927, 0.7576422189309747, 0.7817117380632671, 0.9109982189391729, 0.24520448573171696, 0.7356134571951509, 0.31355884518473714, 0.21949119162931602, 0.43898238325863204, 0.06271176903694743, 0.1540378930966743, 0.03850947327416857, 0.07701894654833714, 0.7316799922092029, 0.7575932324783204, 0.3357440132868512, 0.1678720066434256, 0.39170134883465973, 0.05595733554780853, 0.5280435013253907, 0.29133434555883625, 0.10014618128584996, 0.0819377846884227, 0.8045198139295936, 0.16090396278591873, 0.7812585985660165, 0.6263327543220437, 0.0735119210080411, 0.8821430520964934, 0.7825320633251206, 0.7585103983737579, 0.9026048058667184, 0.8939580792985333, 0.8809258812035001, 0.925092771482731, 0.8812290979344212, 0.09791434421493568, 0.24068116856697414, 0.6017029214174353, 0.12034058428348707, 0.12034058428348707, 0.35417215517934286, 0.5312582327690143, 0.08854303879483572, 0.04427151939741786, 0.6262552289112571, 0.13904557710469104, 0.7647506740758008, 0.8807618011420788, 0.7816309411381671, 0.13520767320131527, 0.6760383660065764, 0.13520767320131527, 0.6453001311134862, 0.09274335652049169, 0.8346902086844252, 0.8810173085954229, 0.0978908120661581, 0.20613987979015105, 0.28859583170621145, 0.12368392787409063, 0.37105178362227187, 0.7726487765636628, 0.1287747960939438, 0.7077498201722233, 0.23591660672407444, 0.7557549765571125, 0.18893874413927814, 0.8351082481839786, 0.8582914581890309, 0.6592300850504812, 0.113429896832215, 0.113429896832215, 0.794009277825505, 0.113429896832215, 0.7536045740607902, 0.18840114351519754, 0.9066425220846669, 0.5651351173753089, 0.12110038229470903, 0.04036679409823634, 0.28256755868765443, 0.06649328554445333, 0.06649328554445333, 0.06649328554445333, 0.8644127120778934, 0.1769069708693613, 0.1769069708693613, 0.589689902897871, 0.0589689902897871, 0.9067423469565694, 0.7812380225784876, 0.7930022957415115, 0.04664719386714774, 0.09329438773429548, 0.04664719386714774, 0.0681189407623449, 0.2724757630493796, 0.6130704668611041, 0.0681189407623449, 0.5080567891174751, 0.16935226303915837, 0.23521147644327553, 0.08467613151957919, 0.7822055321209057, 0.1738234515824235, 0.5151804283101303, 0.34345361887342024, 0.05724226981223671, 0.05724226981223671, 0.08571531759961415, 0.7714378583965273, 0.08571531759961415, 0.14369264669880155, 0.18474768861274485, 0.41055041913943296, 0.2668577724406314, 0.11324305692411674, 0.11324305692411674, 0.6794583415447004, 0.11324305692411674, 0.19111189707256163, 0.7644475882902465, 0.7998235461228744, 0.22308256344802024, 0.6692476903440607, 0.7996036777344768, 0.15992073554689537, 0.3335302299592209, 0.5002953449388313, 0.08338255748980522, 0.08338255748980522, 0.5346408370525716, 0.1336602092631429, 0.033415052315785725, 0.30073547084207153, 0.655906025045543, 0.1874017214415837, 0.09370086072079185, 0.04685043036039593, 0.3329093212135271, 0.26436916684603623, 0.254577716222109, 0.14687175935890903, 0.6594901200594743, 0.6593348191773206, 0.05234152341759699, 0.47107371075837295, 0.41873218734077594, 0.10468304683519399, 0.24173808721581658, 0.08057936240527219, 0.16115872481054438, 0.5640555368369053, 0.828477113195238, 0.7292253106914803, 0.1620500690425512, 0.6596650093622104, 0.054972084113517526, 0.1649162523405526, 0.10994416822703505, 0.4668600020707062, 0.42795500189814734, 0.03890500017255885, 0.0778100003451177, 0.28380381853231657, 0.4865208317696855, 0.12163020794242138, 0.08108680529494758, 0.8001316379682181, 0.6868775631442879, 0.1873302444938967, 0.1248868296625978, 0.0624434148312989, 0.290842263436306, 0.40717916881082833, 0.23267381074904478, 0.058168452687261195, 0.8213911961960486, 0.10267389952450608, 0.6571628410793953, 0.2190542803597984, 0.12546253834791368, 0.752775230087482, 0.7150145011279556, 0.14300290022559112, 0.47868687295701634, 0.04786868729570164, 0.19147474918280655, 0.23934343647850817, 0.7812509890908242, 0.8738186957917011, 0.924849476421755, 0.828158367177719, 0.1656316734355438, 0.28691948576075377, 0.3729953314889799, 0.20084364003252764, 0.14345974288037688, 0.8808524137077272, 0.8952879821685836, 0.7294175803576955, 0.1823543950894239, 0.8421833887682826, 0.1527844236046653, 0.7639221180233264, 0.7580192010349587, 0.1235626631277266, 0.1235626631277266, 0.7413759787663595, 0.1235626631277266, 0.9077773645100584, 0.37982924937445706, 0.1726496588065714, 0.27623945409051426, 0.1726496588065714, 0.12707518665382966, 0.31768796663457416, 0.44476315328840377, 0.12707518665382966, 0.6941425808953476, 0.0771269534328164, 0.1542539068656328, 0.7990761364511887, 0.13317935607519812, 0.13317935607519812, 0.19223071181300844, 0.7689228472520337, 0.21851796670274187, 0.6555539001082257, 0.11264621111122894, 0.6383285296302973, 0.11264621111122894, 0.15019494814830525, 0.764222804020857, 0.0764222804020857, 0.0764222804020857, 0.0764222804020857, 0.7567959684490407, 0.6590354696851721, 0.8183530604936452, 0.11690758007052074, 0.7551232738440314, 0.18878081846100786, 0.07092677484507405, 0.6383409736056664, 0.21278032453522214, 0.07092677484507405, 0.757989497509342, 0.13746471968447677, 0.13746471968447677, 0.8247883181068607, 0.1050010025388318, 0.1050010025388318, 0.7350070177718225, 0.1050010025388318, 0.8809388152403143, 0.8423455215630052, 0.37290432288860237, 0.4350550433700361, 0.062150720481433726, 0.12430144096286745, 0.9182306912028526, 0.9280619338247311, 0.06360845774903591, 0.06360845774903591, 0.8905184084865028, 0.7033984002749989, 0.23446613342499964, 0.8806250430979771, 0.8185102572329168, 0.13641837620548614, 0.8809113663716616, 0.7726309346125178, 0.12877182243541963, 0.8453465225104151, 0.9187234164353589, 0.3796309184789135, 0.29202378344531804, 0.14601189172265902, 0.17521427006719084, 0.9290114198463616, 0.7984418396834191, 0.5940539180907537, 0.13708936571325087, 0.04569645523775029, 0.22848227618875144, 0.6453817877298754, 0.29444440456400506, 0.07361110114100126, 0.404861056275507, 0.25763885399350445, 0.654994060400437, 0.09357058005720527, 0.18714116011441054, 0.4975965415998821, 0.24879827079994105, 0.04523604923635292, 0.20356222156358814, 0.46186429690685166, 0.07697738281780861, 0.07697738281780861, 0.384886914089043, 0.08387621918449797, 0.6710097534759838, 0.2516286575534939, 0.08387621918449797, 0.659481719977156, 0.6590063737265153, 0.6262645469710703, 0.894054203236839, 0.6452994700219522, 0.797368971885021, 0.09967112148562762, 0.09967112148562762, 0.09967112148562762, 0.9085647271190409, 0.19235396103255645, 0.5289733928395303, 0.2885309415488347, 0.04808849025813911, 0.8807923674926171, 0.781459152174984, 0.9250586741105138, 0.09101013133473972, 0.318535459671589, 0.5005557223410685, 0.13651519700210957, 0.6454655031233341, 0.6452519999286896, 0.7587895620434277, 0.7983897402137825], \"Term\": [\"account\", \"account\", \"account\", \"account\", \"advance\", \"ago\", \"application\", \"application\", \"application\", \"application\", \"applied\", \"applied\", \"applied\", \"applied\", \"apps\", \"arrest\", \"association_reassure\", \"august\", \"availed\", \"avoid\", \"axis\", \"balance\", \"balance\", \"balance\", \"ban\", \"bank\", \"bank\", \"bank\", \"bank\", \"better\", \"better\", \"better\", \"bounced\", \"bounced\", \"bullied\", \"business\", \"business\", \"business\", \"business\", \"business_loan\", \"business_loan\", \"business_loan\", \"business_loan\", \"bussiness_stopped\", \"carecom_customer\", \"carecom_customer\", \"certainly\", \"check\", \"check\", \"check\", \"check\", \"cheque\", \"cheque\", \"cheque\", \"cheque\", \"china\", \"cibil\", \"cibil\", \"cibil\", \"cibil\", \"committed_serving\", \"companies\", \"company\", \"company\", \"company\", \"company\", \"complnt\", \"concern_looking\", \"confirmation\", \"confirmation\", \"confirmation\", \"confirmation\", \"consumer\", \"contact\", \"contact\", \"contact\", \"contact\", \"contact_details\", \"contact_details\", \"contact_details\", \"contact_details\", \"contact_solve\", \"contacts\", \"corona_pandemic\", \"covid\", \"covid\", \"covid\", \"covid\", \"credit\", \"credit\", \"currently\", \"customer\", \"customer\", \"customer\", \"customer\", \"customer_experience\", \"customer_experience\", \"customer_experience\", \"customer_experience\", \"customers\", \"customers\", \"customers\", \"customers\", \"cyber\", \"data_sent\", \"date_present\", \"days\", \"days\", \"days\", \"days\", \"debited\", \"debited\", \"debited\", \"debited\", \"deducted\", \"deducted\", \"deducted\", \"deducted\", \"deeply_value\", \"details\", \"details\", \"details\", \"details_carecom\", \"details_infocom\", \"difficult\", \"directors\", \"dm_share\", \"documents\", \"documents\", \"dont\", \"dont\", \"dont\", \"dont\", \"ecs\", \"ecs\", \"ecs\", \"ecs\", \"education\", \"email\", \"email\", \"email\", \"email\", \"emi\", \"emi\", \"emi\", \"emi\", \"emi_holiday\", \"emi_holiday\", \"emisi\", \"ex\", \"experience_officer\", \"experience_officer\", \"fintech\", \"forcing\", \"forward_serve\", \"frm\", \"fully_committed\", \"gave_emi\", \"giving_chance\", \"giving_chance\", \"going\", \"going\", \"going\", \"going\", \"got\", \"got\", \"got\", \"got\", \"gratia\", \"hai\", \"hai\", \"happy_contact\", \"harassed\", \"harassment\", \"harassment\", \"harassment\", \"harrsment\", \"hello_sorry\", \"hello_sorry\", \"hello_thanks\", \"hello_thanks\", \"help\", \"help\", \"help\", \"help\", \"hit\", \"hit\", \"id_lai\", \"id_lai\", \"important\", \"important\", \"inconvenience_caused\", \"infocom_customer\", \"inform\", \"issue\", \"issue\", \"issue\", \"issue\", \"justice\", \"justice\", \"kar\", \"kindly\", \"kindly\", \"kindly\", \"kindly\", \"kindly_dm\", \"kindly_dm\", \"kindly_dm\", \"kindly_dm\", \"know\", \"know\", \"know\", \"know\", \"koi\", \"lack\", \"lai\", \"lai\", \"lai\", \"lai\", \"like\", \"like\", \"like\", \"like\", \"loan\", \"loan\", \"loan\", \"loan\", \"loan_restructuring\", \"loan_restructuring\", \"lockdown\", \"lockdown\", \"lockdown\", \"lockdown\", \"looking_forward\", \"looking_forward\", \"looking_forward\", \"mail\", \"mail\", \"mail\", \"mail\", \"mailed\", \"mailed\", \"mailed\", \"mailed\", \"march\", \"march\", \"mental\", \"messages\", \"messages\", \"mobile_number\", \"mobile_number\", \"money\", \"money\", \"money\", \"money\", \"month\", \"month\", \"month\", \"month\", \"months\", \"months\", \"months\", \"months\", \"moratorium\", \"moratorium\", \"moratorium\", \"moratorium\", \"morotoriom\", \"msgs\", \"need\", \"need\", \"need\", \"need\", \"number\", \"number\", \"number\", \"number\", \"officer_connect\", \"officer_shall\", \"officer_shall\", \"paid\", \"paid\", \"paid\", \"paid\", \"pay\", \"pay\", \"pay\", \"pay\", \"pay_emi\", \"pay_emi\", \"pay_emi\", \"pay_emi\", \"paying\", \"payment\", \"payment\", \"payment\", \"payment\", \"people\", \"people\", \"people\", \"people\", \"person\", \"person\", \"personal\", \"personal\", \"phone_number\", \"phone_number\", \"plan\", \"plan\", \"plz\", \"plz\", \"plz\", \"plz\", \"private\", \"properly\", \"prove_sending\", \"raised\", \"raised\", \"rbi\", \"rbi\", \"rbi\", \"rbi\", \"reassure_team\", \"recived\", \"registered\", \"registered\", \"registered_contact\", \"regret_inconvenience\", \"regret_inconvenience\", \"regular\", \"regularly\", \"regularly\", \"regularly\", \"regularly\", \"releaf\", \"reply\", \"reply\", \"reply\", \"reply\", \"request\", \"request\", \"request\", \"request\", \"requested\", \"requested\", \"requested\", \"requesting\", \"requesting\", \"requesting\", \"resolve\", \"resolve\", \"respond\", \"respond\", \"response\", \"response\", \"response\", \"response\", \"restructuring\", \"restructuring\", \"restructuring\", \"restructuring\", \"reverse\", \"revival\", \"rs\", \"rs\", \"run\", \"run\", \"said\", \"said\", \"said\", \"said\", \"saying\", \"se\", \"se\", \"se\", \"send\", \"send\", \"send\", \"send\", \"serve\", \"serve_kindly\", \"service\", \"service\", \"service\", \"service\", \"serving_better\", \"shall_happy\", \"share_registered\", \"share_registered\", \"share_registered\", \"showing\", \"showing\", \"solve_concern\", \"soon\", \"soon\", \"soon_deeply\", \"statement\", \"statement\", \"status\", \"stranger_strangers\", \"team\", \"team\", \"team\", \"team\", \"team_fully\", \"tenure\", \"th\", \"th\", \"th\", \"th\", \"threats\", \"till\", \"till\", \"till\", \"till\", \"till_st\", \"till_st\", \"till_st\", \"time\", \"time\", \"time\", \"time\", \"times\", \"times\", \"times\", \"times\", \"today\", \"today\", \"today\", \"today\", \"tomarow\", \"trader\", \"travel\", \"type\", \"unknown\", \"update\", \"update\", \"update\", \"update\", \"upto\", \"ur\", \"ur\", \"ur\", \"ur\", \"value_association\", \"village\", \"village_want\", \"want\", \"want\", \"want\", \"want\", \"war\", \"worse\", \"year\", \"years\"]}, \"R\": 30, \"lambda.step\": 0.01, \"plot.opts\": {\"xlab\": \"PC1\", \"ylab\": \"PC2\"}, \"topic.order\": [2, 4, 3, 1]};\n",
       "\n",
       "function LDAvis_load_lib(url, callback){\n",
       "  var s = document.createElement('script');\n",
       "  s.src = url;\n",
       "  s.async = true;\n",
       "  s.onreadystatechange = s.onload = callback;\n",
       "  s.onerror = function(){console.warn(\"failed to load library \" + url);};\n",
       "  document.getElementsByTagName(\"head\")[0].appendChild(s);\n",
       "}\n",
       "\n",
       "if(typeof(LDAvis) !== \"undefined\"){\n",
       "   // already loaded: just create the visualization\n",
       "   !function(LDAvis){\n",
       "       new LDAvis(\"#\" + \"ldavis_el4047859333204488174766719\", ldavis_el4047859333204488174766719_data);\n",
       "   }(LDAvis);\n",
       "}else if(typeof define === \"function\" && define.amd){\n",
       "   // require.js is available: use it to load d3/LDAvis\n",
       "   require.config({paths: {d3: \"https://d3js.org/d3.v5\"}});\n",
       "   require([\"d3\"], function(d3){\n",
       "      window.d3 = d3;\n",
       "      LDAvis_load_lib(\"https://cdn.jsdelivr.net/gh/bmabey/pyLDAvis@3.3.1/pyLDAvis/js/ldavis.v3.0.0.js\", function(){\n",
       "        new LDAvis(\"#\" + \"ldavis_el4047859333204488174766719\", ldavis_el4047859333204488174766719_data);\n",
       "      });\n",
       "    });\n",
       "}else{\n",
       "    // require.js not available: dynamically load d3 & LDAvis\n",
       "    LDAvis_load_lib(\"https://d3js.org/d3.v5.js\", function(){\n",
       "         LDAvis_load_lib(\"https://cdn.jsdelivr.net/gh/bmabey/pyLDAvis@3.3.1/pyLDAvis/js/ldavis.v3.0.0.js\", function(){\n",
       "                 new LDAvis(\"#\" + \"ldavis_el4047859333204488174766719\", ldavis_el4047859333204488174766719_data);\n",
       "            })\n",
       "         });\n",
       "}\n",
       "</script>"
      ],
      "text/plain": [
       "PreparedData(topic_coordinates=              x         y  topics  cluster       Freq\n",
       "topic                                                \n",
       "1     -0.061347 -0.080842       1        1  29.320929\n",
       "3     -0.050321  0.022522       2        1  25.461929\n",
       "2     -0.004443  0.087909       3        1  23.029211\n",
       "0      0.116110 -0.029588       4        1  22.187930, topic_info=                 Term        Freq       Total Category  logprob  loglift\n",
       "617   contact_details   17.000000   17.000000  Default  30.0000  30.0000\n",
       "831               ecs   25.000000   25.000000  Default  29.0000  29.0000\n",
       "634  share_registered   15.000000   15.000000  Default  28.0000  28.0000\n",
       "236         kindly_dm   15.000000   15.000000  Default  27.0000  27.0000\n",
       "347               emi  109.000000  109.000000  Default  26.0000  26.0000\n",
       "..                ...         ...         ...      ...      ...      ...\n",
       "19               bank    8.982600   31.513495   Topic4  -5.3035   0.2505\n",
       "250              time    8.913686   44.212526   Topic4  -5.3112  -0.0958\n",
       "21               loan    8.879632  106.287331   Topic4  -5.3150  -0.9768\n",
       "347               emi    8.751923  109.839435   Topic4  -5.3295  -1.0241\n",
       "83           customer    7.435262   32.316151   Topic4  -5.4926   0.0363\n",
       "\n",
       "[263 rows x 6 columns], token_table=      Topic      Freq     Term\n",
       "term                          \n",
       "345       1  0.733273  account\n",
       "345       2  0.101141  account\n",
       "345       3  0.075856  account\n",
       "345       4  0.101141  account\n",
       "1090      3  0.799192  advance\n",
       "...     ...       ...      ...\n",
       "868       4  0.136515     want\n",
       "2415      2  0.645466      war\n",
       "1786      2  0.645252    worse\n",
       "468       1  0.758790     year\n",
       "405       1  0.798390    years\n",
       "\n",
       "[455 rows x 3 columns], R=30, lambda_step=0.01, plot_opts={'xlab': 'PC1', 'ylab': 'PC2'}, topic_order=[2, 4, 3, 1])"
      ]
     },
     "execution_count": 64,
     "metadata": {},
     "output_type": "execute_result"
    }
   ],
   "source": [
    "import pyLDAvis.gensim_models\n",
    "\n",
    "import pyLDAvis\n",
    "# Visualize the topics\n",
    "pyLDAvis.enable_notebook()\n",
    "LDAvis_prepared = pyLDAvis.gensim_models.prepare(lda_model, corpus, id2word)\n",
    "LDAvis_prepared"
   ]
  },
  {
   "cell_type": "code",
   "execution_count": 65,
   "metadata": {},
   "outputs": [],
   "source": [
    "queries_topic_sents_keywords = processor.dominant_topics(ldamodel=lda_model, \n",
    "                                                         corpus=corpus, \n",
    "                                                         texts=queries['bigram'].values.tolist(),\n",
    "                                                         tweets=queries['tweet'].values.tolist())"
   ]
  },
  {
   "cell_type": "code",
   "execution_count": 67,
   "metadata": {},
   "outputs": [
    {
     "data": {
      "text/plain": [
       "array(['ecs, contact_details, moratorium, share_registered, mail, kindly_dm, company, experience_officer, contact_solve, hai',\n",
       "       'emi, moratorium, loan, response, business, service, rbi, customers, pay_emi, money',\n",
       "       'moratorium, loan, mail, request, dont, bank, till, emi, want, know',\n",
       "       'emi, loan, moratorium, account, time, lai, month, months, kindly, th'],\n",
       "      dtype=object)"
      ]
     },
     "execution_count": 67,
     "metadata": {},
     "output_type": "execute_result"
    }
   ],
   "source": [
    "queries_topic_sents_keywords['Topic_Keywords'].unique()"
   ]
  },
  {
   "cell_type": "code",
   "execution_count": 74,
   "metadata": {},
   "outputs": [
    {
     "data": {
      "text/plain": [
       "array(['Rakesh hesitated to get a bank loan because he had no property to place as security. All his problems were solved with a security-free loan from Lendingkart! Watch his full story here: https://t.co/ueOXD9MRJg  #AbHarVyapaariKoLoanMilega https://t.co/o9oJPRDy60',\n",
       "       'Cash की चिंता करने के बजाय अपने business पर ध्यान दीजिये. Lendingkart आपके सपनों को साकार करने में मदद करेगा. \\n#AbHarVyapaariKoLoanMilega https://t.co/7xzJY7zRQi',\n",
       "       \"@Lendingkart \\nCompleted all steps for my loan disbursal as per lendingkart's email on 23.2.19. Amount not being disbursed. For what reason? \\nLAI-101934324\",\n",
       "       '@Lendingkart not a good brand as I thought, intensionally delaying business loan therefore my project going late too..\\n\\nWorst experience',\n",
       "       \"@Lendingkart \\nSee I already told you, nothing is gonna happen. And that's very true.\\nThe most 3rd class customer service. https://t.co/gkNcxtGDXf\",\n",
       "       \"About 3 out of 4 #MSMEs in India rely on personal savings or borrowings from family &amp; relatives to start their business with. Here's how choosing #Lendingkart can help you with your #businessloan needs. https://t.co/2MV7LYXvLl https://t.co/h4dQzjPZw7\",\n",
       "       'Lol @Lendingkart nice platform https://t.co/HnoZ6Kd1m2',\n",
       "       \"At Lendingkart, we are constantly identifying challenges in the fintech eco-system &amp; solving for them, which is why it is important to have a competent team full of top achievers. Here's one such achiever, Kanika Orea telling you about #WorkAtLendingkart. https://t.co/Hr9SawW7pk\",\n",
       "       \"At Lendingkart, we're solving for an important problem #MSMEs face by giving them easy access to #workingcapital. A team full of individuals who resonate with this vision, makes delivering excellence so much easier. Here's what @devanshiseth25 has to say about #WorkAtLendingkart. https://t.co/NLLx577UGq\",\n",
       "       'Businesses in Mumbai require loans to finance company decisions such as regulating cash flow, business expansion, increasing sales, building inventory etc. Working capital loans can supplement short-term business growth objectives. Learn more: https://t.co/TLzEApqalm https://t.co/CJaFVj2udm',\n",
       "       \"Success is important both at a personal as well as an organizational level. Having a team whose personal goals are aligned with the company's vision &amp; values helps us grow together multifold. Here's @adyagupta talking about #WorkAtLendingkart https://t.co/HY1NyLrZYq\",\n",
       "       \"We're excited to be visiting the @ISBedu Hyderabad campus for a pre-placement talk tomorrow, 15 October 2019. Join in for an insightful session on transformation in the #digitallending space with Lendingkart. https://t.co/34otGymNPc\",\n",
       "       'With the recent amendments in the Companies Act, 2013, through the Companies (amendment) Act, 2019, the Government has relaxed the compliance requirements for MSMEs and simplified procedures related to formation of companies. https://t.co/5t0eYUOs4S https://t.co/gedFhNWaNF',\n",
       "       '@logico_stupid @Lendingkart @RBI @IncomeTaxIndia Exactly..... This needs to be stopped...',\n",
       "       '@Lendingkart profitable Indian B2B SME with 160 cr turnover and good ratios has loan application rejected by you folks . Reason: one of directors is a non resident and doesn’t have a PAN Card.  So much for #fintech @harshlunia @anandlunia #fail',\n",
       "       '@Lendingkart Hi. My company has been in touch with a LendingKart representative. This rep has been extremely rude and unprofessional. Wanted to bring this to your notice. Please DM me for more details.',\n",
       "       '@Lendingkart Your customer service is so screwed that you beat even the SBIs of the world. My loan got approved and for the last 18 days I have been chasing you guys to finalize the process &amp; disburse the amount, but to no avail. (Part 1)',\n",
       "       'Working on new breakthrough #Products at Lendingkart has its own thrill. You have a more significant contribution towards the next phase of #growth. Here Simon Gomes talks about his experience. \\n\\n#lendingkart #testimonials #learning #bestplacestowork #bestteamever https://t.co/nDPopYL8Zk',\n",
       "       '@Lendingkart \\nWhat happen my loan process not getting proper reply from your staff \\nIs this kind of service you provide?',\n",
       "       '@Lendingkart your no phone policy is giving a harrowing experience. First you chase, and then you vanish. Not a good sign for customers..',\n",
       "       \"@HDFC_Bank @ICICIBank_Care @Lendingkart How to pay EMI's? You should take some decisions this is the worst time we are facing with no business and no payments. I expect 2 months of waiver or extension in months...expecting a positive response\",\n",
       "       'We at Lendingkart salute and applaud the real heroes, the healthcare professionals, policemen, pilots and everyone who is committed to fighting this pandemic. Let us all contribute the best we can to contain this and flatten the curve.\\n\\n#Lendingkart #covid19 #realheroes https://t.co/4u36X4t6TQ',\n",
       "       '@Lendingkart y are you not extending the EMI moratorium to your customers as advised by @RBI as it is not possible to pay the EMI during the lockdown, expect you to cooperate with your customers @PMOIndia @nsitharaman @AmitShah',\n",
       "       'Is the EMI moratorium merely an eyewash ?  As no banks have issued any circular post the RBI guideline in same . Request for an intervention and solution by concerned authorities...\\n@RBI @FinMinIndia @ICICIBank @Lendingkart @HDFC_Bank   #EMI  #MSME #travelindustry #Airlines',\n",
       "       '@Lendingkart have you started the moratorium for business loan\\n\\nWe have not received any communication for same',\n",
       "       '@Lendingkart is ur firm coming under RBI policies... why you people again and again requesting ecs clearings , we burden with ecs return charges... no work, our outstanding payments not coming... all private finances allowed 3 months EMI postpone procedures except lendingkart https://t.co/9lJI7kpB1L',\n",
       "       '@Lendingkart in lock down frm wher I arrange money to pay emi. https://t.co/ngAqDpz7Aw',\n",
       "       '@Lendingkart Hello, i opted for the moratorium and yet the EMI got  deducted! What was the point of the opt-in then? https://t.co/srJqySMPc7',\n",
       "       'Dear @Lendingkart  \\nSince a before weeks i have sending daily basis mail to you about Moratoriums of my EMI as per @RBI Guidelines but no response from you. Also you deducted EMI before my EMI date which is month of 19th. https://t.co/OoKMVzigpg',\n",
       "       'Dear Sir  @RBI @DasShaktikanta  \\n\\nNeed to take serious action to @Lendingkart  they deducted my EMI before date and I already mail about moratoriums to Lendingkart. But till now they are not responding me. https://t.co/uvnhn3BDoS',\n",
       "       '@Lendingkart , I am regularly writing mail since last 10 days regarding opting for moratorium facility for 3 months of my EMi due dated 21st of every month but no action is being taken. Pressure is being created.I have no money left as I am self employed person. Kindly help.',\n",
       "       '@Lendingkart i have opt for moratorium from 25 days and there was no response till now and today the EMI got deducted from my bank which i was in need, EMI date IS 6th april. \\nIf this EMI will not get refunded to my back account within 2 days i am not going to pay further EMI.',\n",
       "       \"The most pathetic Service from @Lendingkart, I opted for Moratorium and still they deducted the amount from my bank A/c. \\nEven in these hardship days, all they care about their money.\\nDon't even reply me with your caring for customers message, coz you dont mean it\",\n",
       "       '@RBI @narendramodi @ZeeBusiness @indiatvnews @aajtak @HMOIndia @Lendingkart\\nNo relief on EMI is being provided to customers by NBFC https://t.co/DhXrlFZ240 such a situation, how will customers pay emi to banks?',\n",
       "       '@Lendingkart while everyone is differing emis you debited my account 5days before the EMI due date!I had money in another account and was charged with ecs return charges.Your rep who called to remind me said emi wil be deducted on due date. Who is refunding my ecs return charge? https://t.co/yKX3hRRLBM',\n",
       "       '@Lendingkart emi was due on 27th April 2020, got deducted today. Howz that possible? This is how MSMEs are being harassed\\n@RBI',\n",
       "       \"The moratorium thingie is a non starter! 2 experiences! @TheOfficialSBI and @Lendingkart . Why announce things if you can't implement them? 😡\",\n",
       "       '@madmistry Dear Sir, Thanks for giving us a chance to serve you. Hope you are satisfied with the conversation had with our representative. We deeply value this association and re-assure you that our team is fully committed to serving you better. Thank You!',\n",
       "       '@Lendingkart, @RBI  and @FinMinIndia Raised a request not to debit the EMI under moratorium facility. The actual date for next emi falls on 27.4.20. After receiving request, lendingkart has debited the EMI today. Worst business practice.  Pray RBI and Finance ministry to save us.',\n",
       "       'There is still not much clarity on loan moratorium guidelines : Mithun Sundar, CEO @Lendingkart\\n\\n#fintech #startups #Business #CovidImpact #Covid19 #Entrepreneurs https://t.co/z4FDdmLnQz',\n",
       "       \"#etbfsivirtual @ET_Government @Lendingkart @amoldethe @gaurav1119 \\n\\nCommunication is very important during the crisis like covid-19 as the industry is interconnected with the stakeholders, says Mr Harshavardhan Lunia, CEO, LendingKart India's first BFSI Virtual Summit. https://t.co/yLW7d1iQTE\",\n",
       "       '@RBI @Lendingkart \\nLendingkart denied to give moratorium on term loan in this panadamic situation. Request RBI to take appropriate action. \\nNationwide lockdown destroyed the business how customer will apy EMI.\\nThanks https://t.co/p5hzyDK1Y9',\n",
       "       '@Lendingkart team, no response from your customer care email, no response from related managers. We had applied for Moratorium facility on 28/3/20, no response so far. Looks like you are not providing facilities &amp; guidelines provided by @RBI. @FinMinIndia',\n",
       "       'Dear RBI there is lots of bank and private financial companies who are not responding on #moratorium  requests please ask them to respond about it. We are having lots of loss in this #lockdown.  @RBI @loantapin @bandhanbank_in @Lendingkart',\n",
       "       '@RakeshS81563019 Dear Sir, As discussed with our representative, we have forwarded your details to our concerned department and will get back to you shortly. \\nWe deeply value this association and re-assure you that our team is fully committed to serving you better',\n",
       "       '@Lendingkart \\nI have complained about extra charges deducted from my account as I have written the customer care through mail also but there is no response from your side,\\nDeducted my EMI on time then again after 6days again deducted \\nNo response from customer care',\n",
       "       \"@Lendingkart why ur cutting charges from my account. Rbi give rule to don't pay three months loan. But Lendingkart Bank collecting loan amount from customers. U r not following #RBI Rules. lockdown from 45days we are in home only. Not done a business. Then how did I can pay loan\",\n",
       "       'There are some NBFC who are not obeying/following RBI rulings of moratorium to their customers and imposing harsh way of EMI collection attitude during this pandemic .. one of them is Lendingkart who have no mercy for their customer... time will tell them.@Lendingkart @RBI',\n",
       "       \"@nsitharaman @RBI @PMOIndia \\n\\nModiji : Banks and NBFC please give moratorium period for emi payment to your customer's\\n\\n@Lendingkart  : https://t.co/Nmfj3VP3qn\",\n",
       "       '@Lendingkart  continuous calling by customer service people for EMI which I already told on 30 April 2020 that please opt for moratorium as per RBI guidelines, person who called me said he has updated my request so EMI won’t get debited and no charge for cheque return https://t.co/M95QWVXEyW',\n",
       "       '@Lendingkart Hi sir, I need business loan. How can I reach you at this lockdown situation?',\n",
       "       '@Lendingkart very disappointing with you due to the pandemic of covid19 i have raise a request for monotorium 15 days back but stil not receive any confirmation and due to insufficient amount in account my emi has been bounce and also the charged Rs 413 three times.',\n",
       "       \"@RBI please take a note that @Lendingkart isn't Accepting #moratorium ...\\nPlaying delaying tactic\",\n",
       "       '@Lendingkart I received a moratorium approval mail on May 6th and today you deduct my 15000 which was the only money i have left with to run the house. Please explain. https://t.co/KiZA1pi00A',\n",
       "       '@Lendingkart \\nMobile # 9414004532\\nDhanraj Choudhary\\nWhy these charges cut by @Lendingkart https://t.co/uUkEeaXPqN',\n",
       "       '@onlinerajendra Dear Customer, Thanks for giving us a chance to serve you. We deeply value this association and re-assure you that our team is fully committed to serving you better. Feel free to write us at care@lendingkart.com, for any urgent assistance. Thank You!',\n",
       "       'अहमदाबाद स्थित फिनटेक स्टार्टअप लेंडिंगकार्ट ने लगभग देश के 29 राज्यों और केंद्र शासित प्रदेशों के 1300+ शहरों में 89,000 MSME से अधिक 1,00,000+ ऋणों का वितरण करता है।\\n\\n@Lendingkart #Fintech #MSME #FundingAlert #Startups\\n\\nhttps://t.co/SpaJvR13kS',\n",
       "       '@kushk27 @nsitharaman @RBI @Lendingkart Yes, they’ve been laying people off &amp; threatening their customers wrt the EMI payments. \\nNo shame left @Lendingkart ?',\n",
       "       \"@Lendingkart @Dev_Fadnavis @RajThackeray @MumbaiPolice @RBI @PMOIndia @AmitShah \\nHello LANDINGKART\\nRESPECTED SIR/MA'AM\\nI am tasuarali shabbirhasan shah\\nPan no- CKPPS6862M\\nLoan-30208\\nI am not able to pay my emi during the lockdown\\nKindly extend my emi.\",\n",
       "       '@RBI, finance companies like @Lendingkart still collect emi from us even after approval of moratorium. Due to this i lost appx. Rs. 4000 as fine for return of payment due to insufficient fund. Plzz help..',\n",
       "       \"It's a part of not appraisal cycle ,its a part of their profit raising 🤔.such a liar @lendingkart.how can u play with ur own employees emotions in this pandemic. #shameful https://t.co/ZUr0WeDcoy\",\n",
       "       '@Lendingkart @RBI This is how they are supporting businesses in #COVID19Lockdown . When i tried to complain , they are challenging me to complain to anyone claiming RBI has allowed them to do so ! Thanks to @PMOIndia https://t.co/rShU2B4WOj',\n",
       "       '@Lendingkart Even after repeatedly writing down mails and following up with the customer care executive our request from the RBI aproved Moratorium has not been taken into consideration. We are fed up following up with you guys who have no response. All we get is a feedback mail.',\n",
       "       '@Lendingkart @IDFCFIRSTBank @CMOMaharashtra @RBI @FinMinIndia @PMOIndia i Mailed to these loan co. For opting moratorium from june to aug. But they r not replying.. I paid emi from mar to may bcz i have money but now i will not pay emi bcz i donthave money now.\\nI dont hv money 🙏',\n",
       "       \"@Lendingkart @RBI @MumbaiPolice @AUThackeray @OfficeofUT \\nSir I got mail today they said me. To pay EMI. How do I pay money on lock down. Please give me time. Extend time. Don't have money for family. All workers are gone village , company shut down. https://t.co/W4QJxk8j17\",\n",
       "       '@Lendingkart will you plz let me know the Moratorium extension policy, as many of customer have  lossed their business, during lockdown...@RBI @RBIsays @DasShaktikanta @nsitharamanoffc',\n",
       "       \"@S1Gem Dear Ma'am, We have forwarded your statement to the concerned team for further. Our team will get back to you in case of any details required. We deeply value this association and re-assure you that our team is fully committed to serving you better. Thank You!\",\n",
       "       '@Lendingkart CIBIL report is showing you made loan enquiries on me dated 5/7/2019 and 28/12/2017, I have not authorized or applied for any loans from you, I have sent email to support@lendingkart.zendesk.com &amp; raised dispute but no resolution. Let me know if you need more info',\n",
       "       \"@Lendingkart CIBIL report is showing u made loan enquiries on me dated 5/7/2019 &amp; 28/12/2017, I havent authorized or applied for any loans from u, I have raised dispute to info@lendingkart.com but no response. I also DM'ed u my contact, havent been contacted by ur support yet !\",\n",
       "       '@Lendingkart really worst service',\n",
       "       '@saleem1392 Hello, Sorry for the inconvenience caused to you. We have shared your details with our concerned team. Our team will connect with you soon. We deeply value this association and re-assure you that our team is fully committed to serving you better.',\n",
       "       '@RBI I have a PL from @Lendingkart .. i have applied for monatorium for april and may and as lockdown was extented till 31st of may i sent a mail to extend the monatorium till aug 31 but they tried to charge the emi and calling from collection department..what should i do???',\n",
       "       '@Lendingkart I have asking moratorium from last 38 days but there is no reply on mail by your company \\nN then your company person tells me to pay anyhow Emi \\nWhere should we get the money \\nWith our shut business????',\n",
       "       '@S1Gem @RBI @FinMinIndia @nsitharamanoffc @Lendingkart It will not be refunded and if ur luck will be with u then u might get back yr money .need to take strict action against @Lendingkart',\n",
       "       \"@Lendingkart you are holding No. 1 position in making fool to your customers....you don't want to stand on your said things, In my experience @Lendingkart and held 1st position who made me cried.@RBI requesting please advise what customers can do  if any #NBFC will cheat...\",\n",
       "       '@Lendingkart 27 may 2020 se aag 12 June 2020 ho gayi but abi tak problem solf nhi hui hai kab tak wait krna pdega',\n",
       "       '@Lendingkart @RBI @PMOIndia Sir in continuing to our previous tweet The company employ ring us daily 2 to 3 times to pay EMI BUT AS PER RBI WE ARE RIGHT TO TAKE MONETORIUM BUT COMPNAY EMPLOY TOLD US THAT THEY BADLY EFFECT OUR CIBIL.  AS PER RBI NO CIBIL WILL EFFECT FOR THIS.',\n",
       "       '@Lendingkart how will I opt for extended moratorium..',\n",
       "       '@S1Gem Dear Customer, Thanks for giving us a chance to serve you. We have been trying to reach you on your registered mobile number, somehow not able to establish the contact. Please share your suitable time to get in touch with you. Thank You!',\n",
       "       '@S1Gem @RBI @FinMinIndia @nsitharamanoffc @Lendingkart All customer have same issue, why they are not understanding if Government is telling for the moratorium why they are not applying ??? I am not going to pay any further emi if this is the behaviour of lendingkart.',\n",
       "       '@Lendingkart Govt of India has announced 3lacs crore package for msme sector.All banks/nbfc are allowed loan to all existing https://t.co/Z5amrTkDoe i am existing customer of lendingkart,i need fund to run my buisnesd.',\n",
       "       'Hey @Lendingkart maine apke website ke through msme loan apply kiya hai bt its more than 2 week or ap 72 hours me process karte hai kindly check...',\n",
       "       '@Lendingkart your company make us fool they take my all document to provied loan when i got eligible mail after then no one is taking my call and not replying my message i am trying to call our customer care they also not taking my call.\\nRahul Sharma',\n",
       "       '@Lendingkart How many times ,do i have to apply for moratorium?Lendingkart accepted my request for monatorium and confirmed it to my email.Again do i have to apply for moratorium for another three months?Your team still dont contact me.',\n",
       "       \"@Lendingkart \\nI am avail ur sahyog scheme but now I'm facing emi issue today 2 emi amount deducted from my account.i have complaint against this but no response. please resolve https://t.co/pF5ZLsty8k paid all emi ontime https://t.co/qFEz4p5ZP4\",\n",
       "       \"People are going in depression because of LendingKart Finance.Cheating CustomersGiving Moratorium But Still Taking Emi's from ur account#BOYCOTT LENDINGKART FINANCE# @sudeepbhatia @Lendingkart @ndtvindia @RBI @DasShaktikanta @FinMinIndia @RahulGandhi @aajtak @ABPNews @abpmajhatv\",\n",
       "       '@Lendingkart Is there anybody who answers well on your customer care? We have raised request for moratorium 1000 times but in vain.\\n@RBI @DasShaktikanta @FinMinIndia @minmsme',\n",
       "       '@Lendingkart as it has been long time i have been struggling to get the monotorium as R B I HAS directed some entities like you have taken or opted wrong policys as per R b i every borrower who has affected by this pandamic situation and has financial crisis due to lock down and',\n",
       "       '@premkrishna748 Dear Customer, Thanks for giving us a chance to serve you. We have shared your details with our team and will connect with you soon. We deeply value this association and re-assure you that our team is fully committed to serving you better.',\n",
       "       '@premkrishna748 Dear Customer, Thanks for giving us a chance to serve you. We have shared your details with our concerned team and will connect with you soon. We deeply value this association and re-assure you that our team is fully committed to serving you better.',\n",
       "       '@Lendingkart no one can receive call or no one gave reply of mail. Please give service properly.',\n",
       "       '@premkrishna748 Dear Customer, Sorry for the inconvenience caused to you. We have shared your details with our concerned team and will connect with you soon. We deeply value this association and re-assure you that our team is fully committed to serving you better.',\n",
       "       '@Lendingkart Dear Lendingkart, during the training process is the collection team trained to address your customers as thieves and the customers are told that even though they were ineligible the company still gave them the loan.',\n",
       "       \"@Lendingkart @nsitharaman @RBI had foreclosed my loan on 30 april 2020 and was told NOC would come in 40 days but even after more than 60 days have not received it. There is no response on complaint over email and your represent Mr.Santosh says he can't help. I feel cheated.\",\n",
       "       '@gopaysense @kreditbee @CreditMantri @DMIFinanceUK @clixcapital @Lendingkart without proper analysis you guys process the loans to random people and report to CIBIL about those information that they are authentic. 2/3',\n",
       "       '@Lendingkart ..itni buri service dere ho aap..33 minute me baat hoti hai customer care se..uske bad vo bina baat sune phone cut kr deta hai',\n",
       "       '@Lendingkart si anybody will respond on mail or not? Kindly tell me. During  lockdown period when moratorium period was going on still you deducted ecs charges now nobody is responding on mails',\n",
       "       '@Lendingkart  dear team request you to please share contact no punjab and haryana taking care of Bl product because your local Relationship manager not respond properly',\n",
       "       \"@Lendingkart \\nThe worse service. You don't deserve to run a company. Even post getting approved confirmation on moratorium my emi got deducted and this month emi got bounced 100%fraudulent company.I have raised a complaint before 20days.there is no proper response worse service\",\n",
       "       \"@Lendingkart worse service ,100% fraudulent. Even post approval of moratorium you ppl deducted amount again for this month the emi got hit.i have raised a complaint before 20days still I haven't got a proper response even customer care people gives a resolution 3rd class service\",\n",
       "       '@Lendingkart Worst ever service by any lender, despite following for the past 4 month on almost all platform (mail, whatsapp and Twitter), nothing seems to be working. #patheticservicebylendingkart',\n",
       "       \"@Lendingkart \\nTotally false website, only west of time on applying on lendingkart, \\nDear followers don't apply on this website they collect data like phone number, name, address etc and give to insurance and other fraud agency in India &amp; outside India\",\n",
       "       'What About My Refund..Are You Intrested in Giving My Refund.Poor Customer Service,False Promises.Poor RBI Helping These Poor Companies @RBI @DasShaktikanta @Lendingkart @CNBCTV18News @ANI @PIB_India',\n",
       "       '@Lendingkart please consider my request, once things will be but good I will pay. @narendramodi @nsitharaman @RBI @ABPNews https://t.co/ceDeWnrE6N',\n",
       "       '@Lendingkart why you cheat people in covid times.spoil cibil of every common man.',\n",
       "       '@Lendingkart I have send email complain to info@lendingcart.com for Cibil Dispute wrong ownership of business loan LK0000083029.\\nthis loan account doesnot belong to me wrongly reported by you to CIBIL.\\nthere is no acknowledgement of complain .This is unethical way of banking.',\n",
       "       'We are excited to conduct Company-wide Town Hall today with our Event Technology Partner @airmeet_com\\n which is an all-in-one virtual events platform for organizations to host immersive events. Looking forward to an interactive session.\\n\\n #virtualevents #townhall #liveevent https://t.co/V2ISVNb520',\n",
       "       '@Lendingkart I am in stage to kill my self bcz of u .. my bussines is not running bcz of this covid .. so I am not able  to pay emi I requeste give some time we I’ll pay',\n",
       "       'Get Fast, Economical &amp; Hassle free Business loan.\\nLendingkart is committed to your Business Growth.\\nWe are there For You! #businessgrowth #businessloan #Lendingkart https://t.co/kkVYwfkImL',\n",
       "       '@Lendingkart I want to pay EMI but not getting any response from customer service end such a poor service',\n",
       "       \"BackBone of Economy Is Banking Sector,BackBone of Banking Sector is Loyal/Punctual Customer's,Who pay Their Emi's/Dues On Timely Basis.But Now People Don't Have Money,And We are Suffering Because Of Poor Decision Making Of Indian Govt./RBI @ibhomeloans @Lendingkart @Bajaj_Finserv\",\n",
       "       '@Lendingkart @RBI @SupremeCourtFan @DasShaktikanta \\nMy loan running in lendingkart please do not harasment call at this time please my all business are close.i promise to lending when runnings my business ,I will pay just.',\n",
       "       \"@Lendingkart @RBI @PMOIndia @nsitharaman @DasShaktikanta BackBone of Banking Sector is Loyal/Punctual Customer's,Who pay Their Emi's/Dues On Time, even i pay my all EMI in lockdown i got top-up loan but party not giving money on time not possible yo pay full EMI. \\nMob 6290955257\",\n",
       "       '@Lendingkart supreme Court all ready delcare moratorium extend to 28sept so why you deduct my September emi I think @Lendingkart is above of Indian law Supreme Court and rbi also why ??@RBI @PMOIndia  NBFC is continuous harass his customers for payment',\n",
       "       '@Lendingkart u have already my all contacts details and my bio data so why u sent unknown person to my village and my home Ur person has said me that I will come to ur home..why this unnecessary harrsment with me and  tell me where I register my complnt @RBI @FinMinIndia',\n",
       "       '@Lendingkart u have already my all contacts details and my bio data so why u sent unknown person to my village and my home Ur person has said me that I will come to ur home..why this unnecessary harrsment with me and  tell me where I register my complnt @homeodisha',\n",
       "       '@Lendingkart have already my all contacts details and my bio data so why u sent unknown person to my village and my home Ur person has said me that I will come to ur home..why this unnecessary harrsment with me and  tell me where I register my complnt @AmitShah',\n",
       "       'As Supreme Court Extended Moratorium till 28 Sept 2020,But LendingKart Finance Still Trying To Take Money Out Of my account.I want To Restructure My Loan Tenure.But LendingKart Is Not Following Supreme Court Order. @Lendingkart @RBI @BAI1959 @IndiaToday @PMOIndia @nsitharaman',\n",
       "       '@RBI , @Lendingkart , @nsitharaman @zeehelpline,@gopaysense \\n.\\nHi I m here to lets you know about my condition after covid19, I have completely finished after lockdown , n loan nbfc continuously hit esc to bounce in account, i need support from Indian government https://t.co/ExFIE5jcR4',\n",
       "       'Who is Going To Pay My Return Charges..Indian Govt./RBI/NBFC..I want My Return Charges Back..Poor Financial Position of India..Helpless India..Helpless Customers @PMOIndia @RBI @Lendingkart @DasShaktikanta @ndtvindia @nsitharaman @ABPNews @ravishndtv',\n",
       "       '@Lendingkart How can i pay my upcoming https://t.co/bdO1tDUyaH buisness is not running properly due to lack of capital.I know, I m not eligible for top up.Though i m requesting for top https://t.co/lYJsR6oxk6 36 emi,s,i hve comlted 10 emi,s.',\n",
       "       '@Lendingkart Moratorium is https://t.co/9qYEo1gG3a i m ready to pay emi,s.I have completed my 10 emi,s.I know,i m not eiligible for top up.last 3 months, I m requesting for top up.I cant run my buisness properly due lack fund.',\n",
       "       '@Lendingkart Last 3 months,i m requesting for top up.I hve completed my 10 emis.I know ,i m not elligible.I cant run my buisness properly due to lack of fund.I have to face big problem coming days to pay emi.Over all i need top up.Dont say,i m not eligible.',\n",
       "       '@Lendingkart  pathetic service from your team, trying to reach you guys on a service request.',\n",
       "       '@Lendingkart just received a call from 088406 17995, I clearly told that I will pay ,when I will receive salary.. he said I will forward your file n mail... I said do what you can.. I continue requesting for resolution/framework as my reason is genuine..my business is destroyed',\n",
       "       '@SalujaSanket1 @Lendingkart Bilkul sahi kaha',\n",
       "       '@Lendingkart After 3 or 4 months,i will face big problem due to lack of https://t.co/xb9WQXkkNl you provide me top up.I want to continue my emi without https://t.co/DnaS4QGFDf you relise a fund for me,its very urgent.',\n",
       "       '“Be the change you want to see in the World”\\n#GandhiJayanti #MahatmaGandhi #Lendingkart https://t.co/saPmLGFE6K',\n",
       "       '@Lendingkart my mobile no. Is 9525255599\\nPlease call me',\n",
       "       '@Lendingkart please call me very urgent 8058402081',\n",
       "       'Sab bank jaake mai thak chuka hu. Docs submit but no response. Thoda time lagega.. baad me aayiye. Ye response.\\n\\nAny govt/ private /nbfc who can finance me 3 Lakhs for my business support ?? \\n@HDFCBank_Cares @Bajajfinserv0 @Faircent1 @indialends @Lendingkart @BankofIndia_IN',\n",
       "       '@PMOIndia @RBI @nsitharaman @Lendingkart @flexiloansin @IIFL the loan provider are daily processing nach fir collecting emi . Due to which per day rs 1000 is getting detucted..Please do not process nach after emi date',\n",
       "       \"@Lendingkart Dr Sir I'm IMRAN MONDAL from West Bengal in Kolkata.i want some borrow 500000 https://t.co/opZuyyXoCx please accepted My https://t.co/0mq7ColLfM My WhatsApp messenger 7890556551/you can call https://t.co/CKnj2O7Bgm waiting for your feedback\",\n",
       "       '@PMOIndia @RBI @nsitharaman @Lendingkart @flexiloansin @IIFL @IDFCFIRSTBank the loan provider are daily processing nach for collecting emi . Due to which per day rs 1000 is getting detucted..Please do not process nach after emi date',\n",
       "       '#WeWantMoratorium\\nWe want relief and justice\\nWe are not defaulter\\nWe are victim of COVID19\\n@TheOfficialSBI @Lendingkart @ICICIBank @AxisBank @SaveThemIndia @RajeshK39325432 @DigitalDheeru @Vikramreetwal https://t.co/o4YC97pfIX',\n",
       "       '#WeWantMoratorium\\nWe want relief and justice\\nWe are not defaulter\\nWe are victim of COVID19\\n@TheOfficialSBI @Lendingkart @ICICIBank @AxisBank @SaveThemIndia @RajeshK39325432 @DigitalDheeru @Vikramreetwal @PMOIndia @RBI @nsitharaman https://t.co/IlzpI2sQmF',\n",
       "       \"Abhishek Singh, Lendingkart’s Chief Analytics Officer talks about 'How the mobile has become a game-changer from a lending perspective and all the changes taking place during the Covid era'\\n\\nLink to the Video-https://t.co/pRNp1xWnPa\\n\\n#fintech #lendingkart #digitallending #msmes https://t.co/XsrC50Miqt\",\n",
       "       '#moratorium3 @Lendingkart @RBI @SCofIndia @nsitharaman @DasShaktikanta Dear Lendingkart, Following is the mail extract recd from you :\\nOct 24,   \\nThere are no further guidelines available for the extension of the moratorium from the RBI.',\n",
       "       'Moratorium Extension till 31Mar 2022. Not Case Extension\\n#WeWantMoratorium \\n#moratoriumextension \\n#moratorium3forall \\n@TheOfficialSBI @ICICIBank @Lendingkart @AxisBank @AxisBankSupport \\n@LCAI_Support @SaveThemIndia @RealCzar1 https://t.co/D4fyg7fSdF',\n",
       "       '@RBI @DasShaktikanta @FinMinIndia @nsitharaman @PMOIndia 80% moratorium interest charged by @Lendingkart for 18month and @RBI fooling people by promoting no interest on interest https://t.co/7sJ8vtRBMK',\n",
       "       '@RBI @Lendingkart Recv a call from +91 79 4913 3402 named Anjali Raut very rude and inhuman behaviour shows clear incompetency need better training and  request @Lendingkart you should more careful while recruiting a staff abusive language is cannot be  elegibility criteria?',\n",
       "       '@Lendingkart How to apply BUSSINEs loan',\n",
       "       'Respected @FinMinIndia @PMOIndia @narendramodi #मेभी #चोकिदार करके आपने सिक्युरिटी वालो को इज्जत दी पर यही सिक्युरिटी वालो को इन्टरनल पोलिसी केे नाम पर कोइ भी बैंक लोन देने को तैयार नहि है, कोइ बतायेगा ये अन्याय क्यों?@HDFC_Bank @AxisBank @IDFCFIRSTBank @Lendingkart @AmitShah',\n",
       "       \"it's seem that Lendingkart is not going to disburse the fund of ECLGS 1.0 As per reply from RBI,CPGRAM and ECLGS Grievance.Till lendingkart is in implematation of the ECLGS scheme,reply on twitter what is reason of not disbursement of fund.@Lendingkart @FinMinIndia @RBI @cpgrams\",\n",
       "       '@Lendingkart Dear lender,we are writing on behalf of our member Maruti Firewood company, As u issued demand notice,borrower due to loss of business n covid19 was unable to pay EMI, he says intentions r clear will pay as business cycle restarts,plz give some time,Plz help him https://t.co/2xIfLkMV2G',\n",
       "       '@Lendingkart good  evening',\n",
       "       'We are excited to announce that Lendingkart has been awarded the prestigious IFTA 2020 Award for Best Fintech Business Lender in 2020 by India FinTech Forum 🏆. We are thankful to our Employees and Loyal Customers for all the Support and Love. #DigitalLending #Fintech https://t.co/kaGektXpdV',\n",
       "       '@Lendingkart tumhari gair kanooni harkate bandh kardo. https://t.co/4M8JjHXbHr',\n",
       "       '@SanketSaluja Dear Sir, Hope you are satisfied with the conversation had with our representative. Feel free to write us at info@lendingkart.com, for any query. We deeply value this association and re-assure you that our team is fully committed to serving you better. Thank You!',\n",
       "       \"@Lendingkart\\nWe need justice, we're harassed got life threats, bullied and our data is being sent to China for cyber war, help us and ban loan apps and arrest the directors of these companies \\n#SCon20077 #SaveThem #GabbarOnMission @Jantaki_Aawaz\",\n",
       "       \"@Lendingkart\\nWe need justice, we're harassed got life threats, bullied and our data is being sent to China for cyber war, help us and ban loan apps and arrest the directors of these companies \\n#SCon20077 #SaveThem #GabbarOnMission @Jantaki_Aawaz @siddheshdesai17\",\n",
       "       \"@nirafinance @Lendingkart @dealsofloan We need justice, we're harassed got life threats, bullied and our data is being sent to China for cyber war, help us and ban loan apps and arrest the directors of these companies \\n#SCon20077 #SaveThem #GabbarOnMission @Jantaki_Aawaz\",\n",
       "       \"Other then dropping the message to concern https://t.co/wfxCUvWZlQ you have any right to reply and comment. We think you are not dropping the messages to concern teams just dropping it to re- cycle bin that's why reply to qurey are not getting updated.. @Lendingkart\",\n",
       "       '@Lendingkart its been 1 month I am continuously following up for rbi restructuring plan.. On 26th Nov ur executive called me n agreed for 9months moratorium and said u will get emi detials in 48hr, since then I am continuously following up still no response @rbi @rmas @pmo',\n",
       "       '@Lendingkart extra money cut without information\\nAgain nd again requesting for detail nobody reply'],\n",
       "      dtype=object)"
      ]
     },
     "execution_count": 74,
     "metadata": {},
     "output_type": "execute_result"
    }
   ],
   "source": [
    "select = queries_topic_sents_keywords['Topic_Keywords'].unique()[1]\n",
    "queries_topic_sents_keywords[queries_topic_sents_keywords['Topic_Keywords'] == select]['Text'].values"
   ]
  },
  {
   "cell_type": "code",
   "execution_count": 69,
   "metadata": {},
   "outputs": [
    {
     "name": "stderr",
     "output_type": "stream",
     "text": [
      "/Users/pushkar/miniforge3/envs/project/lib/python3.8/site-packages/plotly/io/_renderers.py:395: DeprecationWarning:\n",
      "\n",
      "distutils Version classes are deprecated. Use packaging.version instead.\n",
      "\n",
      "/Users/pushkar/miniforge3/envs/project/lib/python3.8/site-packages/plotly/io/_renderers.py:395: DeprecationWarning:\n",
      "\n",
      "distutils Version classes are deprecated. Use packaging.version instead.\n",
      "\n"
     ]
    },
    {
     "data": {
      "image/svg+xml": "<svg class=\"main-svg\" xmlns=\"http://www.w3.org/2000/svg\" xmlns:xlink=\"http://www.w3.org/1999/xlink\" width=\"900\" height=\"500\" style=\"\" viewBox=\"0 0 900 500\"><rect x=\"0\" y=\"0\" width=\"900\" height=\"500\" style=\"fill: rgb(255, 255, 255); fill-opacity: 1;\"/><defs id=\"defs-9f46ce\"><g class=\"clips\"><clipPath id=\"clip9f46cexyplot\" class=\"plotclip\"><rect width=\"740\" height=\"320\"/></clipPath><clipPath class=\"axesclip\" id=\"clip9f46cex\"><rect x=\"80\" y=\"0\" width=\"740\" height=\"500\"/></clipPath><clipPath class=\"axesclip\" id=\"clip9f46cey\"><rect x=\"0\" y=\"100\" width=\"900\" height=\"320\"/></clipPath><clipPath class=\"axesclip\" id=\"clip9f46cexy\"><rect x=\"80\" y=\"100\" width=\"740\" height=\"320\"/></clipPath></g><g class=\"gradients\"/><g class=\"patterns\"/></defs><g class=\"bglayer\"><rect class=\"bg\" x=\"80\" y=\"100\" width=\"740\" height=\"320\" style=\"fill: rgb(229, 236, 246); fill-opacity: 1; stroke-width: 0;\"/></g><g class=\"layer-below\"><g class=\"imagelayer\"/><g class=\"shapelayer\"/></g><g class=\"cartesianlayer\"><g class=\"subplot xy\"><g class=\"layer-subplot\"><g class=\"shapelayer\"/><g class=\"imagelayer\"/></g><g class=\"minor-gridlayer\"><g class=\"x\"/><g class=\"y\"/></g><g class=\"gridlayer\"><g class=\"x\"/><g class=\"y\"><path class=\"ygrid crisp\" transform=\"translate(0,335.08000000000004)\" d=\"M80,0h740\" style=\"stroke: rgb(255, 255, 255); stroke-opacity: 1; stroke-width: 1px;\"/><path class=\"ygrid crisp\" transform=\"translate(0,250.17)\" d=\"M80,0h740\" style=\"stroke: rgb(255, 255, 255); stroke-opacity: 1; stroke-width: 1px;\"/><path class=\"ygrid crisp\" transform=\"translate(0,165.25)\" d=\"M80,0h740\" style=\"stroke: rgb(255, 255, 255); stroke-opacity: 1; stroke-width: 1px;\"/></g></g><g class=\"zerolinelayer\"><path class=\"yzl zl crisp\" transform=\"translate(0,420)\" d=\"M80,0h740\" style=\"stroke: rgb(255, 255, 255); stroke-opacity: 1; stroke-width: 2px;\"/></g><path class=\"xlines-below\"/><path class=\"ylines-below\"/><g class=\"overlines-below\"/><g class=\"xaxislayer-below\"/><g class=\"yaxislayer-below\"/><g class=\"overaxes-below\"/><g class=\"plot\" transform=\"translate(80,100)\" clip-path=\"url(#clip9f46cexyplot)\"><g class=\"barlayer mlayer\"><g class=\"trace bars\" style=\"opacity: 1;\"><g class=\"points\"><g class=\"point\"><path d=\"M203.5,320V16H351.5V320Z\" style=\"vector-effect: non-scaling-stroke; opacity: 1; stroke-width: 0.5px; fill: rgb(99, 110, 250); fill-opacity: 1; stroke: rgb(229, 236, 246); stroke-opacity: 1;\"/></g><g class=\"point\"><path d=\"M573.5,320V56.76H721.5V320Z\" style=\"vector-effect: non-scaling-stroke; opacity: 1; stroke-width: 0.5px; fill: rgb(99, 110, 250); fill-opacity: 1; stroke: rgb(229, 236, 246); stroke-opacity: 1;\"/></g><g class=\"point\"><path d=\"M388.5,320V89.03H536.5V320Z\" style=\"vector-effect: non-scaling-stroke; opacity: 1; stroke-width: 0.5px; fill: rgb(99, 110, 250); fill-opacity: 1; stroke: rgb(229, 236, 246); stroke-opacity: 1;\"/></g><g class=\"point\"><path d=\"M18.5,320V95.82H166.5V320Z\" style=\"vector-effect: non-scaling-stroke; opacity: 1; stroke-width: 0.5px; fill: rgb(99, 110, 250); fill-opacity: 1; stroke: rgb(229, 236, 246); stroke-opacity: 1;\"/></g></g></g></g></g><g class=\"overplot\"/><path class=\"xlines-above crisp\" d=\"M0,0\" style=\"fill: none;\"/><path class=\"ylines-above crisp\" d=\"M0,0\" style=\"fill: none;\"/><g class=\"overlines-above\"/><g class=\"xaxislayer-above\"><g class=\"xtick\"><text text-anchor=\"middle\" x=\"0\" y=\"433\" transform=\"translate(80,0)\" style=\"font-family: 'Open Sans', verdana, arial, sans-serif; font-size: 12px; fill: rgb(42, 63, 95); fill-opacity: 1; white-space: pre; opacity: 1;\">−0.5</text></g><g class=\"xtick\"><text text-anchor=\"middle\" x=\"0\" y=\"433\" style=\"font-family: 'Open Sans', verdana, arial, sans-serif; font-size: 12px; fill: rgb(42, 63, 95); fill-opacity: 1; white-space: pre; opacity: 1;\" transform=\"translate(172.5,0)\">0</text></g><g class=\"xtick\"><text text-anchor=\"middle\" x=\"0\" y=\"433\" style=\"font-family: 'Open Sans', verdana, arial, sans-serif; font-size: 12px; fill: rgb(42, 63, 95); fill-opacity: 1; white-space: pre; opacity: 1;\" transform=\"translate(265,0)\">0.5</text></g><g class=\"xtick\"><text text-anchor=\"middle\" x=\"0\" y=\"433\" style=\"font-family: 'Open Sans', verdana, arial, sans-serif; font-size: 12px; fill: rgb(42, 63, 95); fill-opacity: 1; white-space: pre; opacity: 1;\" transform=\"translate(357.5,0)\">1</text></g><g class=\"xtick\"><text text-anchor=\"middle\" x=\"0\" y=\"433\" style=\"font-family: 'Open Sans', verdana, arial, sans-serif; font-size: 12px; fill: rgb(42, 63, 95); fill-opacity: 1; white-space: pre; opacity: 1;\" transform=\"translate(450,0)\">1.5</text></g><g class=\"xtick\"><text text-anchor=\"middle\" x=\"0\" y=\"433\" style=\"font-family: 'Open Sans', verdana, arial, sans-serif; font-size: 12px; fill: rgb(42, 63, 95); fill-opacity: 1; white-space: pre; opacity: 1;\" transform=\"translate(542.5,0)\">2</text></g><g class=\"xtick\"><text text-anchor=\"middle\" x=\"0\" y=\"433\" style=\"font-family: 'Open Sans', verdana, arial, sans-serif; font-size: 12px; fill: rgb(42, 63, 95); fill-opacity: 1; white-space: pre; opacity: 1;\" transform=\"translate(635,0)\">2.5</text></g><g class=\"xtick\"><text text-anchor=\"middle\" x=\"0\" y=\"433\" style=\"font-family: 'Open Sans', verdana, arial, sans-serif; font-size: 12px; fill: rgb(42, 63, 95); fill-opacity: 1; white-space: pre; opacity: 1;\" transform=\"translate(727.5,0)\">3</text></g><g class=\"xtick\"><text text-anchor=\"middle\" x=\"0\" y=\"433\" style=\"font-family: 'Open Sans', verdana, arial, sans-serif; font-size: 12px; fill: rgb(42, 63, 95); fill-opacity: 1; white-space: pre; opacity: 1;\" transform=\"translate(820,0)\">3.5</text></g></g><g class=\"yaxislayer-above\"><g class=\"ytick\"><text text-anchor=\"end\" x=\"79\" y=\"4.199999999999999\" transform=\"translate(0,420)\" style=\"font-family: 'Open Sans', verdana, arial, sans-serif; font-size: 12px; fill: rgb(42, 63, 95); fill-opacity: 1; white-space: pre; opacity: 1;\">0</text></g><g class=\"ytick\"><text text-anchor=\"end\" x=\"79\" y=\"4.199999999999999\" style=\"font-family: 'Open Sans', verdana, arial, sans-serif; font-size: 12px; fill: rgb(42, 63, 95); fill-opacity: 1; white-space: pre; opacity: 1;\" transform=\"translate(0,335.08000000000004)\">50</text></g><g class=\"ytick\"><text text-anchor=\"end\" x=\"79\" y=\"4.199999999999999\" style=\"font-family: 'Open Sans', verdana, arial, sans-serif; font-size: 12px; fill: rgb(42, 63, 95); fill-opacity: 1; white-space: pre; opacity: 1;\" transform=\"translate(0,250.17)\">100</text></g><g class=\"ytick\"><text text-anchor=\"end\" x=\"79\" y=\"4.199999999999999\" style=\"font-family: 'Open Sans', verdana, arial, sans-serif; font-size: 12px; fill: rgb(42, 63, 95); fill-opacity: 1; white-space: pre; opacity: 1;\" transform=\"translate(0,165.25)\">150</text></g></g><g class=\"overaxes-above\"/></g></g><g class=\"polarlayer\"/><g class=\"smithlayer\"/><g class=\"ternarylayer\"/><g class=\"geolayer\"/><g class=\"funnelarealayer\"/><g class=\"pielayer\"/><g class=\"iciclelayer\"/><g class=\"treemaplayer\"/><g class=\"sunburstlayer\"/><g class=\"glimages\"/><defs id=\"topdefs-9f46ce\"><g class=\"clips\"/></defs><g class=\"layer-above\"><g class=\"imagelayer\"/><g class=\"shapelayer\"/></g><g class=\"infolayer\"><g class=\"g-gtitle\"><text class=\"gtitle\" x=\"45\" y=\"50\" text-anchor=\"start\" dy=\"0em\" style=\"font-family: 'Open Sans', verdana, arial, sans-serif; font-size: 17px; fill: rgb(42, 63, 95); opacity: 1; font-weight: normal; white-space: pre;\">Topics Distribution</text></g><g class=\"g-xtitle\"><text class=\"xtitle\" x=\"450\" y=\"460.3\" text-anchor=\"middle\" style=\"font-family: 'Open Sans', verdana, arial, sans-serif; font-size: 14px; fill: rgb(42, 63, 95); opacity: 1; font-weight: normal; white-space: pre;\">Topic_Numbers</text></g><g class=\"g-ytitle\"><text class=\"ytitle\" transform=\"rotate(-90,31.309375000000003,260)\" x=\"31.309375000000003\" y=\"260\" text-anchor=\"middle\" style=\"font-family: 'Open Sans', verdana, arial, sans-serif; font-size: 14px; fill: rgb(42, 63, 95); opacity: 1; font-weight: normal; white-space: pre;\">Document_Counts</text></g></g></svg>"
     },
     "metadata": {},
     "output_type": "display_data"
    }
   ],
   "source": [
    "queries_dist, fig = processor.plot_topic_distribution(queries_topic_sents_keywords)\n",
    "fig.show()"
   ]
  },
  {
   "cell_type": "code",
   "execution_count": null,
   "metadata": {},
   "outputs": [],
   "source": []
  }
 ],
 "metadata": {
  "kernelspec": {
   "display_name": "Python 3.8.13 ('project')",
   "language": "python",
   "name": "python3"
  },
  "language_info": {
   "codemirror_mode": {
    "name": "ipython",
    "version": 3
   },
   "file_extension": ".py",
   "mimetype": "text/x-python",
   "name": "python",
   "nbconvert_exporter": "python",
   "pygments_lexer": "ipython3",
   "version": "3.8.13"
  },
  "orig_nbformat": 4,
  "vscode": {
   "interpreter": {
    "hash": "af77eb27f514ee114388f6898d9553454263f7eea260918546d16a8e581c8922"
   }
  }
 },
 "nbformat": 4,
 "nbformat_minor": 2
}
