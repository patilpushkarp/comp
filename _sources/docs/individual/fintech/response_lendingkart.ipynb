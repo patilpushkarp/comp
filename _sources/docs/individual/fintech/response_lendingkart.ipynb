{
 "cells": [
  {
   "cell_type": "markdown",
   "metadata": {},
   "source": [
    "# Lendingkart"
   ]
  },
  {
   "cell_type": "code",
   "execution_count": 1,
   "metadata": {},
   "outputs": [],
   "source": [
    "# Load necessary libraries\n",
    "import sys\n",
    "import warnings\n",
    "warnings.filterwarnings('ignore')\n",
    "import datetime\n",
    "import gensim\n",
    "import pandas as pd\n",
    "import tqdm.notebook as tqdm\n",
    "from tqdm.auto import tqdm\n",
    "tqdm.pandas()\n",
    "\n",
    "sys.path.append('/Users/pushkar/Documents/projects/fin_comp/comp/docs')\n",
    "\n",
    "import utils.helper\n",
    "from utils.helper import Processor\n",
    "import importlib\n",
    "importlib.reload(utils.helper)\n",
    "\n",
    "import plotly.io as pio\n",
    "svg_renderer = pio.renderers[\"svg\"]\n",
    "svg_renderer.width = 900\n",
    "svg_renderer.height = 500\n",
    "pio.renderers.default = \"svg\"\n",
    "import plotly.express as px"
   ]
  },
  {
   "cell_type": "code",
   "execution_count": 2,
   "metadata": {},
   "outputs": [],
   "source": [
    "# Load data\n",
    "df = pd.read_csv('./../../data/fintech/lendingkart/lendingkart.csv')"
   ]
  },
  {
   "cell_type": "code",
   "execution_count": 3,
   "metadata": {},
   "outputs": [],
   "source": [
    "# Company username\n",
    "company_username = 'Lendingkart'"
   ]
  },
  {
   "cell_type": "code",
   "execution_count": 4,
   "metadata": {},
   "outputs": [],
   "source": [
    "# Correct the format of variables\n",
    "df['inReplyToTweetId'] = df['inReplyToTweetId'].apply(lambda x: '%.0f' % x).values.tolist()\n",
    "df['conversation_id'] = df['conversation_id'].astype(str)"
   ]
  },
  {
   "cell_type": "code",
   "execution_count": 5,
   "metadata": {},
   "outputs": [],
   "source": [
    "# Declare the query words\n",
    "query_words = ['dm', 'customer experience', 'inconvenience', 'concern team', 'resolve', \n",
    "                'solve', 'no noc', 'await response', 'unpleasant experience']"
   ]
  },
  {
   "cell_type": "code",
   "execution_count": 6,
   "metadata": {},
   "outputs": [],
   "source": [
    "# Declare the processor object\n",
    "processor = Processor('./../../data/config.json')"
   ]
  },
  {
   "cell_type": "code",
   "execution_count": 7,
   "metadata": {},
   "outputs": [
    {
     "data": {
      "application/vnd.jupyter.widget-view+json": {
       "model_id": "fd8a0b8f94f542d6a2b97537e6c87075",
       "version_major": 2,
       "version_minor": 0
      },
      "text/plain": [
       "  0%|          | 0/9 [00:00<?, ?it/s]"
      ]
     },
     "metadata": {},
     "output_type": "display_data"
    }
   ],
   "source": [
    "# Check whether an observation is query for the company or not\n",
    "df['is_query'] = 0\n",
    "\n",
    "for word in tqdm(query_words):\n",
    "    df['is_query'] = df['is_query'] + df['tweet'].apply(processor.word_distribution, find=word).astype(int)"
   ]
  },
  {
   "cell_type": "code",
   "execution_count": 8,
   "metadata": {},
   "outputs": [],
   "source": [
    "# Select observations of queries\n",
    "qdf = df[(df['is_query']>0) & (df['username'] == company_username)]"
   ]
  },
  {
   "cell_type": "code",
   "execution_count": 9,
   "metadata": {},
   "outputs": [
    {
     "data": {
      "text/plain": [
       "(1124, 28)"
      ]
     },
     "execution_count": 9,
     "metadata": {},
     "output_type": "execute_result"
    }
   ],
   "source": [
    "qdf.shape"
   ]
  },
  {
   "cell_type": "code",
   "execution_count": 10,
   "metadata": {},
   "outputs": [
    {
     "name": "stdout",
     "output_type": "stream",
     "text": [
      "Total number of unique conversations: 736\n"
     ]
    }
   ],
   "source": [
    "# Get all the conversation ids\n",
    "conversation_ids = qdf['conversation_id'].unique()\n",
    "print(f\"Total number of unique conversations: {len(conversation_ids)}\")"
   ]
  },
  {
   "cell_type": "code",
   "execution_count": 11,
   "metadata": {},
   "outputs": [],
   "source": [
    "df['date'] = pd.to_datetime(df['date'])"
   ]
  },
  {
   "cell_type": "markdown",
   "metadata": {},
   "source": [
    "## Response time"
   ]
  },
  {
   "cell_type": "markdown",
   "metadata": {},
   "source": [
    "Response time is the time the company takes to respond to the first query."
   ]
  },
  {
   "cell_type": "code",
   "execution_count": 12,
   "metadata": {},
   "outputs": [],
   "source": [
    "result = pd.DataFrame()\n",
    "result['conversation_id'] = conversation_ids\n",
    "result['response_time'] = 0"
   ]
  },
  {
   "cell_type": "code",
   "execution_count": 13,
   "metadata": {},
   "outputs": [],
   "source": [
    "for index, conversation_id in enumerate(conversation_ids):\n",
    "    tmp = df[df['conversation_id'] == conversation_id]\n",
    "    tmp.sort_values('date', ascending=True, inplace=True)\n",
    "    comp_tmp = tmp[tmp['username'] == company_username]\n",
    "    response_time = (comp_tmp.iloc[0]['date'] - tmp.iloc[0]['date']) / datetime.timedelta(hours=1)\n",
    "    result.at[index, 'response_time'] = response_time"
   ]
  },
  {
   "cell_type": "code",
   "execution_count": 14,
   "metadata": {},
   "outputs": [
    {
     "data": {
      "text/html": [
       "<div>\n",
       "<style scoped>\n",
       "    .dataframe tbody tr th:only-of-type {\n",
       "        vertical-align: middle;\n",
       "    }\n",
       "\n",
       "    .dataframe tbody tr th {\n",
       "        vertical-align: top;\n",
       "    }\n",
       "\n",
       "    .dataframe thead th {\n",
       "        text-align: right;\n",
       "    }\n",
       "</style>\n",
       "<table border=\"1\" class=\"dataframe\">\n",
       "  <thead>\n",
       "    <tr style=\"text-align: right;\">\n",
       "      <th></th>\n",
       "      <th>conversation_id</th>\n",
       "      <th>response_time</th>\n",
       "    </tr>\n",
       "  </thead>\n",
       "  <tbody>\n",
       "    <tr>\n",
       "      <th>0</th>\n",
       "      <td>1343785976942882818</td>\n",
       "      <td>0.888056</td>\n",
       "    </tr>\n",
       "    <tr>\n",
       "      <th>1</th>\n",
       "      <td>1344177960446640130</td>\n",
       "      <td>0.610278</td>\n",
       "    </tr>\n",
       "    <tr>\n",
       "      <th>2</th>\n",
       "      <td>1313373475407491073</td>\n",
       "      <td>2.497500</td>\n",
       "    </tr>\n",
       "    <tr>\n",
       "      <th>3</th>\n",
       "      <td>1343868209510850564</td>\n",
       "      <td>3.420278</td>\n",
       "    </tr>\n",
       "    <tr>\n",
       "      <th>4</th>\n",
       "      <td>1343518600808677381</td>\n",
       "      <td>0.000000</td>\n",
       "    </tr>\n",
       "    <tr>\n",
       "      <th>...</th>\n",
       "      <td>...</td>\n",
       "      <td>...</td>\n",
       "    </tr>\n",
       "    <tr>\n",
       "      <th>731</th>\n",
       "      <td>1097425529492393984</td>\n",
       "      <td>0.000000</td>\n",
       "    </tr>\n",
       "    <tr>\n",
       "      <th>732</th>\n",
       "      <td>1099926708210167808</td>\n",
       "      <td>7.112778</td>\n",
       "    </tr>\n",
       "    <tr>\n",
       "      <th>733</th>\n",
       "      <td>1096309397372817408</td>\n",
       "      <td>0.346111</td>\n",
       "    </tr>\n",
       "    <tr>\n",
       "      <th>734</th>\n",
       "      <td>1096031343539118080</td>\n",
       "      <td>0.000000</td>\n",
       "    </tr>\n",
       "    <tr>\n",
       "      <th>735</th>\n",
       "      <td>1081796840176128000</td>\n",
       "      <td>23.574444</td>\n",
       "    </tr>\n",
       "  </tbody>\n",
       "</table>\n",
       "<p>736 rows × 2 columns</p>\n",
       "</div>"
      ],
      "text/plain": [
       "         conversation_id  response_time\n",
       "0    1343785976942882818       0.888056\n",
       "1    1344177960446640130       0.610278\n",
       "2    1313373475407491073       2.497500\n",
       "3    1343868209510850564       3.420278\n",
       "4    1343518600808677381       0.000000\n",
       "..                   ...            ...\n",
       "731  1097425529492393984       0.000000\n",
       "732  1099926708210167808       7.112778\n",
       "733  1096309397372817408       0.346111\n",
       "734  1096031343539118080       0.000000\n",
       "735  1081796840176128000      23.574444\n",
       "\n",
       "[736 rows x 2 columns]"
      ]
     },
     "execution_count": 14,
     "metadata": {},
     "output_type": "execute_result"
    }
   ],
   "source": [
    "result"
   ]
  },
  {
   "cell_type": "code",
   "execution_count": 15,
   "metadata": {},
   "outputs": [
    {
     "data": {
      "image/svg+xml": "<svg class=\"main-svg\" xmlns=\"http://www.w3.org/2000/svg\" xmlns:xlink=\"http://www.w3.org/1999/xlink\" width=\"900\" height=\"500\" style=\"\" viewBox=\"0 0 900 500\"><rect x=\"0\" y=\"0\" width=\"900\" height=\"500\" style=\"fill: rgb(255, 255, 255); fill-opacity: 1;\"/><defs id=\"defs-aa6cc3\"><g class=\"clips\"><clipPath id=\"clipaa6cc3xyplot\" class=\"plotclip\"><rect width=\"740\" height=\"266.112\"/></clipPath><clipPath id=\"clipaa6cc3x2y2plot\" class=\"plotclip\"><rect width=\"740\" height=\"50.687999999999995\"/></clipPath><clipPath class=\"axesclip\" id=\"clipaa6cc3x\"><rect x=\"80\" y=\"0\" width=\"740\" height=\"500\"/></clipPath><clipPath class=\"axesclip\" id=\"clipaa6cc3y\"><rect x=\"0\" y=\"153.888\" width=\"900\" height=\"266.112\"/></clipPath><clipPath class=\"axesclip\" id=\"clipaa6cc3xy\"><rect x=\"80\" y=\"153.888\" width=\"740\" height=\"266.112\"/></clipPath><clipPath class=\"axesclip\" id=\"clipaa6cc3y2\"><rect x=\"0\" y=\"100\" width=\"900\" height=\"50.687999999999995\"/></clipPath><clipPath class=\"axesclip\" id=\"clipaa6cc3xy2\"><rect x=\"80\" y=\"100\" width=\"740\" height=\"50.687999999999995\"/></clipPath><clipPath class=\"axesclip\" id=\"clipaa6cc3x2\"><rect x=\"80\" y=\"0\" width=\"740\" height=\"500\"/></clipPath><clipPath class=\"axesclip\" id=\"clipaa6cc3x2y\"><rect x=\"80\" y=\"153.888\" width=\"740\" height=\"266.112\"/></clipPath><clipPath class=\"axesclip\" id=\"clipaa6cc3x2y2\"><rect x=\"80\" y=\"100\" width=\"740\" height=\"50.687999999999995\"/></clipPath></g><g class=\"gradients\"/><g class=\"patterns\"/></defs><g class=\"bglayer\"><rect class=\"bg\" x=\"80\" y=\"153.888\" width=\"740\" height=\"266.112\" style=\"fill: rgb(229, 236, 246); fill-opacity: 1; stroke-width: 0;\"/><rect class=\"bg\" x=\"80\" y=\"100\" width=\"740\" height=\"50.687999999999995\" style=\"fill: rgb(229, 236, 246); fill-opacity: 1; stroke-width: 0;\"/></g><g class=\"layer-below\"><g class=\"imagelayer\"/><g class=\"shapelayer\"/></g><g class=\"cartesianlayer\"><g class=\"subplot xy\"><g class=\"layer-subplot\"><g class=\"shapelayer\"/><g class=\"imagelayer\"/></g><g class=\"minor-gridlayer\"><g class=\"x\"/><g class=\"y\"/></g><g class=\"gridlayer\"><g class=\"x\"/><g class=\"y\"><path class=\"ygrid crisp\" transform=\"translate(0,406.698)\" d=\"M80,0h740\" style=\"stroke: rgb(255, 255, 255); stroke-opacity: 1; stroke-width: 1px;\"/><path class=\"ygrid crisp\" transform=\"translate(0,379.08799999999997)\" d=\"M80,0h740\" style=\"stroke: rgb(255, 255, 255); stroke-opacity: 1; stroke-width: 1px;\"/><path class=\"ygrid crisp\" transform=\"translate(0,342.598)\" d=\"M80,0h740\" style=\"stroke: rgb(255, 255, 255); stroke-opacity: 1; stroke-width: 1px;\"/><path class=\"ygrid crisp\" transform=\"translate(0,314.988)\" d=\"M80,0h740\" style=\"stroke: rgb(255, 255, 255); stroke-opacity: 1; stroke-width: 1px;\"/><path class=\"ygrid crisp\" transform=\"translate(0,287.38800000000003)\" d=\"M80,0h740\" style=\"stroke: rgb(255, 255, 255); stroke-opacity: 1; stroke-width: 1px;\"/><path class=\"ygrid crisp\" transform=\"translate(0,250.89800000000002)\" d=\"M80,0h740\" style=\"stroke: rgb(255, 255, 255); stroke-opacity: 1; stroke-width: 1px;\"/><path class=\"ygrid crisp\" transform=\"translate(0,223.288)\" d=\"M80,0h740\" style=\"stroke: rgb(255, 255, 255); stroke-opacity: 1; stroke-width: 1px;\"/><path class=\"ygrid crisp\" transform=\"translate(0,195.688)\" d=\"M80,0h740\" style=\"stroke: rgb(255, 255, 255); stroke-opacity: 1; stroke-width: 1px;\"/><path class=\"ygrid crisp\" transform=\"translate(0,159.18800000000002)\" d=\"M80,0h740\" style=\"stroke: rgb(255, 255, 255); stroke-opacity: 1; stroke-width: 1px;\"/></g></g><g class=\"zerolinelayer\"/><path class=\"xlines-below\"/><path class=\"ylines-below\"/><g class=\"overlines-below\"/><g class=\"xaxislayer-below\"/><g class=\"yaxislayer-below\"/><g class=\"overaxes-below\"/><g class=\"plot\" transform=\"translate(80,153.888)\" clip-path=\"url(#clipaa6cc3xyplot)\"><g class=\"barlayer mlayer\"><g class=\"trace bars\" shape-rendering=\"crispEdges\" style=\"opacity: 1;\"><g class=\"points\"><g class=\"point\"><path d=\"M29.52,2794.18V13.31H44.48V2794.18Z\" style=\"vector-effect: non-scaling-stroke; opacity: 1; stroke-width: 0px; fill: rgb(99, 110, 250); fill-opacity: 1;\"/></g><g class=\"point\"><path d=\"M44.48,2794.18V66.34H59.43V2794.18Z\" style=\"vector-effect: non-scaling-stroke; opacity: 1; stroke-width: 0px; fill: rgb(99, 110, 250); fill-opacity: 1;\"/></g><g class=\"point\"><path d=\"M59.43,2794.18V97.81H74.38V2794.18Z\" style=\"vector-effect: non-scaling-stroke; opacity: 1; stroke-width: 0px; fill: rgb(99, 110, 250); fill-opacity: 1;\"/></g><g class=\"point\"><path d=\"M74.38,2794.18V95.45H89.33V2794.18Z\" style=\"vector-effect: non-scaling-stroke; opacity: 1; stroke-width: 0px; fill: rgb(99, 110, 250); fill-opacity: 1;\"/></g><g class=\"point\"><path d=\"M89.33,2794.18V107.94H104.28V2794.18Z\" style=\"vector-effect: non-scaling-stroke; opacity: 1; stroke-width: 0px; fill: rgb(99, 110, 250); fill-opacity: 1;\"/></g><g class=\"point\"><path d=\"M104.28,2794.18V113.56H119.23V2794.18Z\" style=\"vector-effect: non-scaling-stroke; opacity: 1; stroke-width: 0px; fill: rgb(99, 110, 250); fill-opacity: 1;\"/></g><g class=\"point\"><path d=\"M119.23,2794.18V169.99H134.18V2794.18Z\" style=\"vector-effect: non-scaling-stroke; opacity: 1; stroke-width: 0px; fill: rgb(99, 110, 250); fill-opacity: 1;\"/></g><g class=\"point\"><path d=\"M134.18,2794.18V197.6H149.13V2794.18Z\" style=\"vector-effect: non-scaling-stroke; opacity: 1; stroke-width: 0px; fill: rgb(99, 110, 250); fill-opacity: 1;\"/></g><g class=\"point\"><path d=\"M149.13,2794.18V165.3H164.08V2794.18Z\" style=\"vector-effect: non-scaling-stroke; opacity: 1; stroke-width: 0px; fill: rgb(99, 110, 250); fill-opacity: 1;\"/></g><g class=\"point\"><path d=\"M164.08,2794.18V169.99H179.03V2794.18Z\" style=\"vector-effect: non-scaling-stroke; opacity: 1; stroke-width: 0px; fill: rgb(99, 110, 250); fill-opacity: 1;\"/></g><g class=\"point\"><path d=\"M179.03,2794.18V225.2H193.98V2794.18Z\" style=\"vector-effect: non-scaling-stroke; opacity: 1; stroke-width: 0px; fill: rgb(99, 110, 250); fill-opacity: 1;\"/></g><g class=\"point\"><path d=\"M193.98,2794.18V209.05H208.93V2794.18Z\" style=\"vector-effect: non-scaling-stroke; opacity: 1; stroke-width: 0px; fill: rgb(99, 110, 250); fill-opacity: 1;\"/></g><g class=\"point\"><path d=\"M0,0Z\" style=\"vector-effect: non-scaling-stroke; opacity: 1; stroke-width: 0px; fill: rgb(99, 110, 250); fill-opacity: 1;\"/></g><g class=\"point\"><path d=\"M223.88,2794.18V225.2H238.83V2794.18Z\" style=\"vector-effect: non-scaling-stroke; opacity: 1; stroke-width: 0px; fill: rgb(99, 110, 250); fill-opacity: 1;\"/></g><g class=\"point\"><path d=\"M238.83,2794.18V225.2H253.78V2794.18Z\" style=\"vector-effect: non-scaling-stroke; opacity: 1; stroke-width: 0px; fill: rgb(99, 110, 250); fill-opacity: 1;\"/></g><g class=\"point\"><path d=\"M253.78,2794.18V252.81H268.73V2794.18Z\" style=\"vector-effect: non-scaling-stroke; opacity: 1; stroke-width: 0px; fill: rgb(99, 110, 250); fill-opacity: 1;\"/></g><g class=\"point\"><path d=\"M0,0Z\" style=\"vector-effect: non-scaling-stroke; opacity: 1; stroke-width: 0px; fill: rgb(99, 110, 250); fill-opacity: 1;\"/></g><g class=\"point\"><path d=\"M0,0Z\" style=\"vector-effect: non-scaling-stroke; opacity: 1; stroke-width: 0px; fill: rgb(99, 110, 250); fill-opacity: 1;\"/></g><g class=\"point\"><path d=\"M298.63,2794.18V252.81H313.58V2794.18Z\" style=\"vector-effect: non-scaling-stroke; opacity: 1; stroke-width: 0px; fill: rgb(99, 110, 250); fill-opacity: 1;\"/></g><g class=\"point\"><path d=\"M313.58,2794.18V252.81H328.53V2794.18Z\" style=\"vector-effect: non-scaling-stroke; opacity: 1; stroke-width: 0px; fill: rgb(99, 110, 250); fill-opacity: 1;\"/></g><g class=\"point\"><path d=\"M0,0Z\" style=\"vector-effect: non-scaling-stroke; opacity: 1; stroke-width: 0px; fill: rgb(99, 110, 250); fill-opacity: 1;\"/></g><g class=\"point\"><path d=\"M0,0Z\" style=\"vector-effect: non-scaling-stroke; opacity: 1; stroke-width: 0px; fill: rgb(99, 110, 250); fill-opacity: 1;\"/></g><g class=\"point\"><path d=\"M0,0Z\" style=\"vector-effect: non-scaling-stroke; opacity: 1; stroke-width: 0px; fill: rgb(99, 110, 250); fill-opacity: 1;\"/></g><g class=\"point\"><path d=\"M373.38,2794.18V252.81H388.34V2794.18Z\" style=\"vector-effect: non-scaling-stroke; opacity: 1; stroke-width: 0px; fill: rgb(99, 110, 250); fill-opacity: 1;\"/></g><g class=\"point\"><path d=\"M0,0Z\" style=\"vector-effect: non-scaling-stroke; opacity: 1; stroke-width: 0px; fill: rgb(99, 110, 250); fill-opacity: 1;\"/></g><g class=\"point\"><path d=\"M0,0Z\" style=\"vector-effect: non-scaling-stroke; opacity: 1; stroke-width: 0px; fill: rgb(99, 110, 250); fill-opacity: 1;\"/></g><g class=\"point\"><path d=\"M0,0Z\" style=\"vector-effect: non-scaling-stroke; opacity: 1; stroke-width: 0px; fill: rgb(99, 110, 250); fill-opacity: 1;\"/></g><g class=\"point\"><path d=\"M0,0Z\" style=\"vector-effect: non-scaling-stroke; opacity: 1; stroke-width: 0px; fill: rgb(99, 110, 250); fill-opacity: 1;\"/></g><g class=\"point\"><path d=\"M448.14,2794.18V225.2H463.09V2794.18Z\" style=\"vector-effect: non-scaling-stroke; opacity: 1; stroke-width: 0px; fill: rgb(99, 110, 250); fill-opacity: 1;\"/></g><g class=\"point\"><path d=\"M0,0Z\" style=\"vector-effect: non-scaling-stroke; opacity: 1; stroke-width: 0px; fill: rgb(99, 110, 250); fill-opacity: 1;\"/></g><g class=\"point\"><path d=\"M0,0Z\" style=\"vector-effect: non-scaling-stroke; opacity: 1; stroke-width: 0px; fill: rgb(99, 110, 250); fill-opacity: 1;\"/></g><g class=\"point\"><path d=\"M0,0Z\" style=\"vector-effect: non-scaling-stroke; opacity: 1; stroke-width: 0px; fill: rgb(99, 110, 250); fill-opacity: 1;\"/></g><g class=\"point\"><path d=\"M0,0Z\" style=\"vector-effect: non-scaling-stroke; opacity: 1; stroke-width: 0px; fill: rgb(99, 110, 250); fill-opacity: 1;\"/></g><g class=\"point\"><path d=\"M0,0Z\" style=\"vector-effect: non-scaling-stroke; opacity: 1; stroke-width: 0px; fill: rgb(99, 110, 250); fill-opacity: 1;\"/></g><g class=\"point\"><path d=\"M0,0Z\" style=\"vector-effect: non-scaling-stroke; opacity: 1; stroke-width: 0px; fill: rgb(99, 110, 250); fill-opacity: 1;\"/></g><g class=\"point\"><path d=\"M0,0Z\" style=\"vector-effect: non-scaling-stroke; opacity: 1; stroke-width: 0px; fill: rgb(99, 110, 250); fill-opacity: 1;\"/></g><g class=\"point\"><path d=\"M0,0Z\" style=\"vector-effect: non-scaling-stroke; opacity: 1; stroke-width: 0px; fill: rgb(99, 110, 250); fill-opacity: 1;\"/></g><g class=\"point\"><path d=\"M0,0Z\" style=\"vector-effect: non-scaling-stroke; opacity: 1; stroke-width: 0px; fill: rgb(99, 110, 250); fill-opacity: 1;\"/></g><g class=\"point\"><path d=\"M0,0Z\" style=\"vector-effect: non-scaling-stroke; opacity: 1; stroke-width: 0px; fill: rgb(99, 110, 250); fill-opacity: 1;\"/></g><g class=\"point\"><path d=\"M0,0Z\" style=\"vector-effect: non-scaling-stroke; opacity: 1; stroke-width: 0px; fill: rgb(99, 110, 250); fill-opacity: 1;\"/></g><g class=\"point\"><path d=\"M0,0Z\" style=\"vector-effect: non-scaling-stroke; opacity: 1; stroke-width: 0px; fill: rgb(99, 110, 250); fill-opacity: 1;\"/></g><g class=\"point\"><path d=\"M0,0Z\" style=\"vector-effect: non-scaling-stroke; opacity: 1; stroke-width: 0px; fill: rgb(99, 110, 250); fill-opacity: 1;\"/></g><g class=\"point\"><path d=\"M657.44,2794.18V252.81H672.39V2794.18Z\" style=\"vector-effect: non-scaling-stroke; opacity: 1; stroke-width: 0px; fill: rgb(99, 110, 250); fill-opacity: 1;\"/></g><g class=\"point\"><path d=\"M0,0Z\" style=\"vector-effect: non-scaling-stroke; opacity: 1; stroke-width: 0px; fill: rgb(99, 110, 250); fill-opacity: 1;\"/></g><g class=\"point\"><path d=\"M0,0Z\" style=\"vector-effect: non-scaling-stroke; opacity: 1; stroke-width: 0px; fill: rgb(99, 110, 250); fill-opacity: 1;\"/></g><g class=\"point\"><path d=\"M702.29,2794.18V252.81H717.24V2794.18Z\" style=\"vector-effect: non-scaling-stroke; opacity: 1; stroke-width: 0px; fill: rgb(99, 110, 250); fill-opacity: 1;\"/></g></g></g></g></g><g class=\"overplot\"/><path class=\"xlines-above crisp\" d=\"M0,0\" style=\"fill: none;\"/><path class=\"ylines-above crisp\" d=\"M0,0\" style=\"fill: none;\"/><g class=\"overlines-above\"/><g class=\"xaxislayer-above\"><g class=\"xtick\"><text text-anchor=\"middle\" x=\"0\" y=\"433\" transform=\"translate(117,0)\" style=\"font-family: 'Open Sans', verdana, arial, sans-serif; font-size: 12px; fill: rgb(42, 63, 95); fill-opacity: 1; white-space: pre; opacity: 1;\">0</text></g><g class=\"xtick\"><text text-anchor=\"middle\" x=\"0\" y=\"433\" style=\"font-family: 'Open Sans', verdana, arial, sans-serif; font-size: 12px; fill: rgb(42, 63, 95); fill-opacity: 1; white-space: pre; opacity: 1;\" transform=\"translate(266.5,0)\">50</text></g><g class=\"xtick\"><text text-anchor=\"middle\" x=\"0\" y=\"433\" style=\"font-family: 'Open Sans', verdana, arial, sans-serif; font-size: 12px; fill: rgb(42, 63, 95); fill-opacity: 1; white-space: pre; opacity: 1;\" transform=\"translate(416.01,0)\">100</text></g><g class=\"xtick\"><text text-anchor=\"middle\" x=\"0\" y=\"433\" style=\"font-family: 'Open Sans', verdana, arial, sans-serif; font-size: 12px; fill: rgb(42, 63, 95); fill-opacity: 1; white-space: pre; opacity: 1;\" transform=\"translate(565.51,0)\">150</text></g><g class=\"xtick\"><text text-anchor=\"middle\" x=\"0\" y=\"433\" style=\"font-family: 'Open Sans', verdana, arial, sans-serif; font-size: 12px; fill: rgb(42, 63, 95); fill-opacity: 1; white-space: pre; opacity: 1;\" transform=\"translate(715.02,0)\">200</text></g></g><g class=\"yaxislayer-above\"><g class=\"ytick\"><text text-anchor=\"end\" x=\"79\" y=\"4.199999999999999\" transform=\"translate(0,406.698)\" style=\"font-family: 'Open Sans', verdana, arial, sans-serif; font-size: 12px; fill: rgb(42, 63, 95); fill-opacity: 1; white-space: pre; opacity: 1;\">1</text></g><g class=\"ytick\"><text text-anchor=\"end\" x=\"79\" y=\"3.15\" style=\"font-family: 'Open Sans', verdana, arial, sans-serif; font-size: 9px; fill: rgb(42, 63, 95); fill-opacity: 1; white-space: pre; opacity: 1;\" transform=\"translate(0,379.08799999999997)\">2</text></g><g class=\"ytick\"><text text-anchor=\"end\" x=\"79\" y=\"3.15\" style=\"font-family: 'Open Sans', verdana, arial, sans-serif; font-size: 9px; fill: rgb(42, 63, 95); fill-opacity: 1; white-space: pre; opacity: 1;\" transform=\"translate(0,342.598)\">5</text></g><g class=\"ytick\"><text text-anchor=\"end\" x=\"79\" y=\"4.199999999999999\" style=\"font-family: 'Open Sans', verdana, arial, sans-serif; font-size: 12px; fill: rgb(42, 63, 95); fill-opacity: 1; white-space: pre; opacity: 1;\" transform=\"translate(0,314.988)\">10</text></g><g class=\"ytick\"><text text-anchor=\"end\" x=\"79\" y=\"3.15\" style=\"font-family: 'Open Sans', verdana, arial, sans-serif; font-size: 9px; fill: rgb(42, 63, 95); fill-opacity: 1; white-space: pre; opacity: 1;\" transform=\"translate(0,287.38800000000003)\">2</text></g><g class=\"ytick\"><text text-anchor=\"end\" x=\"79\" y=\"3.15\" style=\"font-family: 'Open Sans', verdana, arial, sans-serif; font-size: 9px; fill: rgb(42, 63, 95); fill-opacity: 1; white-space: pre; opacity: 1;\" transform=\"translate(0,250.89800000000002)\">5</text></g><g class=\"ytick\"><text text-anchor=\"end\" x=\"79\" y=\"4.199999999999999\" style=\"font-family: 'Open Sans', verdana, arial, sans-serif; font-size: 12px; fill: rgb(42, 63, 95); fill-opacity: 1; white-space: pre; opacity: 1;\" transform=\"translate(0,223.288)\">100</text></g><g class=\"ytick\"><text text-anchor=\"end\" x=\"79\" y=\"3.15\" style=\"font-family: 'Open Sans', verdana, arial, sans-serif; font-size: 9px; fill: rgb(42, 63, 95); fill-opacity: 1; white-space: pre; opacity: 1;\" transform=\"translate(0,195.688)\">2</text></g><g class=\"ytick\"><text text-anchor=\"end\" x=\"79\" y=\"3.15\" style=\"font-family: 'Open Sans', verdana, arial, sans-serif; font-size: 9px; fill: rgb(42, 63, 95); fill-opacity: 1; white-space: pre; opacity: 1;\" transform=\"translate(0,159.18800000000002)\">5</text></g></g><g class=\"overaxes-above\"/></g><g class=\"subplot x2y2\"><g class=\"layer-subplot\"><g class=\"shapelayer\"/><g class=\"imagelayer\"/></g><g class=\"minor-gridlayer\"><g class=\"x2\"/><g class=\"y2\"/></g><g class=\"gridlayer\"><g class=\"x2\"><path class=\"x2grid crisp\" transform=\"translate(266.5,0)\" d=\"M0,100v50.687999999999995\" style=\"stroke: rgb(255, 255, 255); stroke-opacity: 1; stroke-width: 1px;\"/><path class=\"x2grid crisp\" transform=\"translate(416.01,0)\" d=\"M0,100v50.687999999999995\" style=\"stroke: rgb(255, 255, 255); stroke-opacity: 1; stroke-width: 1px;\"/><path class=\"x2grid crisp\" transform=\"translate(565.51,0)\" d=\"M0,100v50.687999999999995\" style=\"stroke: rgb(255, 255, 255); stroke-opacity: 1; stroke-width: 1px;\"/><path class=\"x2grid crisp\" transform=\"translate(715.02,0)\" d=\"M0,100v50.687999999999995\" style=\"stroke: rgb(255, 255, 255); stroke-opacity: 1; stroke-width: 1px;\"/></g><g class=\"y2\"/></g><g class=\"zerolinelayer\"><path class=\"x2zl zl crisp\" transform=\"translate(117,0)\" d=\"M0,100v50.687999999999995\" style=\"stroke: rgb(255, 255, 255); stroke-opacity: 1; stroke-width: 2px;\"/></g><path class=\"xlines-below\"/><path class=\"ylines-below\"/><g class=\"overlines-below\"/><g class=\"xaxislayer-below\"/><g class=\"yaxislayer-below\"/><g class=\"overaxes-below\"/><g class=\"plot\" transform=\"translate(80,100)\" clip-path=\"url(#clipaa6cc3x2y2plot)\"><g class=\"boxlayer mlayer\"><g class=\"trace boxes\" style=\"opacity: 1;\"><path class=\"box\" d=\"M42.09,31.55V19.13M37,37.76V12.93H40.3L42.09,19.13L43.88,12.93H67.94V37.76H43.88L42.09,31.55L40.3,37.76ZM37,25.34H37M67.94,25.34H113.26M37,31.55V19.13M113.26,31.55V19.13\" style=\"vector-effect: non-scaling-stroke; stroke-width: 2px; stroke: rgb(99, 110, 250); stroke-opacity: 1; fill: rgb(99, 110, 250); fill-opacity: 0.5;\"/><g class=\"points\"><path class=\"point\" transform=\"translate(114.82,25.34)\" d=\"M3,0A3,3 0 1,1 0,-3A3,3 0 0,1 3,0Z\" style=\"opacity: 1; stroke-width: 0px; fill: rgb(99, 110, 250); fill-opacity: 1;\"/><path class=\"point\" transform=\"translate(116.07,25.34)\" d=\"M3,0A3,3 0 1,1 0,-3A3,3 0 0,1 3,0Z\" style=\"opacity: 1; stroke-width: 0px; fill: rgb(99, 110, 250); fill-opacity: 1;\"/><path class=\"point\" transform=\"translate(116.78,25.34)\" d=\"M3,0A3,3 0 1,1 0,-3A3,3 0 0,1 3,0Z\" style=\"opacity: 1; stroke-width: 0px; fill: rgb(99, 110, 250); fill-opacity: 1;\"/><path class=\"point\" transform=\"translate(116.96,25.34)\" d=\"M3,0A3,3 0 1,1 0,-3A3,3 0 0,1 3,0Z\" style=\"opacity: 1; stroke-width: 0px; fill: rgb(99, 110, 250); fill-opacity: 1;\"/><path class=\"point\" transform=\"translate(117.17,25.34)\" d=\"M3,0A3,3 0 1,1 0,-3A3,3 0 0,1 3,0Z\" style=\"opacity: 1; stroke-width: 0px; fill: rgb(99, 110, 250); fill-opacity: 1;\"/><path class=\"point\" transform=\"translate(120.31,25.34)\" d=\"M3,0A3,3 0 1,1 0,-3A3,3 0 0,1 3,0Z\" style=\"opacity: 1; stroke-width: 0px; fill: rgb(99, 110, 250); fill-opacity: 1;\"/><path class=\"point\" transform=\"translate(120.37,25.34)\" d=\"M3,0A3,3 0 1,1 0,-3A3,3 0 0,1 3,0Z\" style=\"opacity: 1; stroke-width: 0px; fill: rgb(99, 110, 250); fill-opacity: 1;\"/><path class=\"point\" transform=\"translate(120.38,25.34)\" d=\"M3,0A3,3 0 1,1 0,-3A3,3 0 0,1 3,0Z\" style=\"opacity: 1; stroke-width: 0px; fill: rgb(99, 110, 250); fill-opacity: 1;\"/><path class=\"point\" transform=\"translate(125.98,25.34)\" d=\"M3,0A3,3 0 1,1 0,-3A3,3 0 0,1 3,0Z\" style=\"opacity: 1; stroke-width: 0px; fill: rgb(99, 110, 250); fill-opacity: 1;\"/><path class=\"point\" transform=\"translate(126.2,25.34)\" d=\"M3,0A3,3 0 1,1 0,-3A3,3 0 0,1 3,0Z\" style=\"opacity: 1; stroke-width: 0px; fill: rgb(99, 110, 250); fill-opacity: 1;\"/><path class=\"point\" transform=\"translate(130.48,25.34)\" d=\"M3,0A3,3 0 1,1 0,-3A3,3 0 0,1 3,0Z\" style=\"opacity: 1; stroke-width: 0px; fill: rgb(99, 110, 250); fill-opacity: 1;\"/><path class=\"point\" transform=\"translate(133.53,25.34)\" d=\"M3,0A3,3 0 1,1 0,-3A3,3 0 0,1 3,0Z\" style=\"opacity: 1; stroke-width: 0px; fill: rgb(99, 110, 250); fill-opacity: 1;\"/><path class=\"point\" transform=\"translate(133.56,25.34)\" d=\"M3,0A3,3 0 1,1 0,-3A3,3 0 0,1 3,0Z\" style=\"opacity: 1; stroke-width: 0px; fill: rgb(99, 110, 250); fill-opacity: 1;\"/><path class=\"point\" transform=\"translate(135.33,25.34)\" d=\"M3,0A3,3 0 1,1 0,-3A3,3 0 0,1 3,0Z\" style=\"opacity: 1; stroke-width: 0px; fill: rgb(99, 110, 250); fill-opacity: 1;\"/><path class=\"point\" transform=\"translate(142.13,25.34)\" d=\"M3,0A3,3 0 1,1 0,-3A3,3 0 0,1 3,0Z\" style=\"opacity: 1; stroke-width: 0px; fill: rgb(99, 110, 250); fill-opacity: 1;\"/><path class=\"point\" transform=\"translate(143.43,25.34)\" d=\"M3,0A3,3 0 1,1 0,-3A3,3 0 0,1 3,0Z\" style=\"opacity: 1; stroke-width: 0px; fill: rgb(99, 110, 250); fill-opacity: 1;\"/><path class=\"point\" transform=\"translate(146.41,25.34)\" d=\"M3,0A3,3 0 1,1 0,-3A3,3 0 0,1 3,0Z\" style=\"opacity: 1; stroke-width: 0px; fill: rgb(99, 110, 250); fill-opacity: 1;\"/><path class=\"point\" transform=\"translate(149.43,25.34)\" d=\"M3,0A3,3 0 1,1 0,-3A3,3 0 0,1 3,0Z\" style=\"opacity: 1; stroke-width: 0px; fill: rgb(99, 110, 250); fill-opacity: 1;\"/><path class=\"point\" transform=\"translate(151.72,25.34)\" d=\"M3,0A3,3 0 1,1 0,-3A3,3 0 0,1 3,0Z\" style=\"opacity: 1; stroke-width: 0px; fill: rgb(99, 110, 250); fill-opacity: 1;\"/><path class=\"point\" transform=\"translate(153.48,25.34)\" d=\"M3,0A3,3 0 1,1 0,-3A3,3 0 0,1 3,0Z\" style=\"opacity: 1; stroke-width: 0px; fill: rgb(99, 110, 250); fill-opacity: 1;\"/><path class=\"point\" transform=\"translate(155.11,25.34)\" d=\"M3,0A3,3 0 1,1 0,-3A3,3 0 0,1 3,0Z\" style=\"opacity: 1; stroke-width: 0px; fill: rgb(99, 110, 250); fill-opacity: 1;\"/><path class=\"point\" transform=\"translate(157.82,25.34)\" d=\"M3,0A3,3 0 1,1 0,-3A3,3 0 0,1 3,0Z\" style=\"opacity: 1; stroke-width: 0px; fill: rgb(99, 110, 250); fill-opacity: 1;\"/><path class=\"point\" transform=\"translate(159.22,25.34)\" d=\"M3,0A3,3 0 1,1 0,-3A3,3 0 0,1 3,0Z\" style=\"opacity: 1; stroke-width: 0px; fill: rgb(99, 110, 250); fill-opacity: 1;\"/><path class=\"point\" transform=\"translate(160.33,25.34)\" d=\"M3,0A3,3 0 1,1 0,-3A3,3 0 0,1 3,0Z\" style=\"opacity: 1; stroke-width: 0px; fill: rgb(99, 110, 250); fill-opacity: 1;\"/><path class=\"point\" transform=\"translate(160.98,25.34)\" d=\"M3,0A3,3 0 1,1 0,-3A3,3 0 0,1 3,0Z\" style=\"opacity: 1; stroke-width: 0px; fill: rgb(99, 110, 250); fill-opacity: 1;\"/><path class=\"point\" transform=\"translate(161.69,25.34)\" d=\"M3,0A3,3 0 1,1 0,-3A3,3 0 0,1 3,0Z\" style=\"opacity: 1; stroke-width: 0px; fill: rgb(99, 110, 250); fill-opacity: 1;\"/><path class=\"point\" transform=\"translate(164.62,25.34)\" d=\"M3,0A3,3 0 1,1 0,-3A3,3 0 0,1 3,0Z\" style=\"opacity: 1; stroke-width: 0px; fill: rgb(99, 110, 250); fill-opacity: 1;\"/><path class=\"point\" transform=\"translate(165.99,25.34)\" d=\"M3,0A3,3 0 1,1 0,-3A3,3 0 0,1 3,0Z\" style=\"opacity: 1; stroke-width: 0px; fill: rgb(99, 110, 250); fill-opacity: 1;\"/><path class=\"point\" transform=\"translate(170.5,25.34)\" d=\"M3,0A3,3 0 1,1 0,-3A3,3 0 0,1 3,0Z\" style=\"opacity: 1; stroke-width: 0px; fill: rgb(99, 110, 250); fill-opacity: 1;\"/><path class=\"point\" transform=\"translate(172.05,25.34)\" d=\"M3,0A3,3 0 1,1 0,-3A3,3 0 0,1 3,0Z\" style=\"opacity: 1; stroke-width: 0px; fill: rgb(99, 110, 250); fill-opacity: 1;\"/><path class=\"point\" transform=\"translate(172.49,25.34)\" d=\"M3,0A3,3 0 1,1 0,-3A3,3 0 0,1 3,0Z\" style=\"opacity: 1; stroke-width: 0px; fill: rgb(99, 110, 250); fill-opacity: 1;\"/><path class=\"point\" transform=\"translate(172.6,25.34)\" d=\"M3,0A3,3 0 1,1 0,-3A3,3 0 0,1 3,0Z\" style=\"opacity: 1; stroke-width: 0px; fill: rgb(99, 110, 250); fill-opacity: 1;\"/><path class=\"point\" transform=\"translate(172.72,25.34)\" d=\"M3,0A3,3 0 1,1 0,-3A3,3 0 0,1 3,0Z\" style=\"opacity: 1; stroke-width: 0px; fill: rgb(99, 110, 250); fill-opacity: 1;\"/><path class=\"point\" transform=\"translate(175.4,25.34)\" d=\"M3,0A3,3 0 1,1 0,-3A3,3 0 0,1 3,0Z\" style=\"opacity: 1; stroke-width: 0px; fill: rgb(99, 110, 250); fill-opacity: 1;\"/><path class=\"point\" transform=\"translate(179.29,25.34)\" d=\"M3,0A3,3 0 1,1 0,-3A3,3 0 0,1 3,0Z\" style=\"opacity: 1; stroke-width: 0px; fill: rgb(99, 110, 250); fill-opacity: 1;\"/><path class=\"point\" transform=\"translate(186.44,25.34)\" d=\"M3,0A3,3 0 1,1 0,-3A3,3 0 0,1 3,0Z\" style=\"opacity: 1; stroke-width: 0px; fill: rgb(99, 110, 250); fill-opacity: 1;\"/><path class=\"point\" transform=\"translate(198.94,25.34)\" d=\"M3,0A3,3 0 1,1 0,-3A3,3 0 0,1 3,0Z\" style=\"opacity: 1; stroke-width: 0px; fill: rgb(99, 110, 250); fill-opacity: 1;\"/><path class=\"point\" transform=\"translate(204.14,25.34)\" d=\"M3,0A3,3 0 1,1 0,-3A3,3 0 0,1 3,0Z\" style=\"opacity: 1; stroke-width: 0px; fill: rgb(99, 110, 250); fill-opacity: 1;\"/><path class=\"point\" transform=\"translate(205.85,25.34)\" d=\"M3,0A3,3 0 1,1 0,-3A3,3 0 0,1 3,0Z\" style=\"opacity: 1; stroke-width: 0px; fill: rgb(99, 110, 250); fill-opacity: 1;\"/><path class=\"point\" transform=\"translate(237.51,25.34)\" d=\"M3,0A3,3 0 1,1 0,-3A3,3 0 0,1 3,0Z\" style=\"opacity: 1; stroke-width: 0px; fill: rgb(99, 110, 250); fill-opacity: 1;\"/><path class=\"point\" transform=\"translate(238.54,25.34)\" d=\"M3,0A3,3 0 1,1 0,-3A3,3 0 0,1 3,0Z\" style=\"opacity: 1; stroke-width: 0px; fill: rgb(99, 110, 250); fill-opacity: 1;\"/><path class=\"point\" transform=\"translate(244.64,25.34)\" d=\"M3,0A3,3 0 1,1 0,-3A3,3 0 0,1 3,0Z\" style=\"opacity: 1; stroke-width: 0px; fill: rgb(99, 110, 250); fill-opacity: 1;\"/><path class=\"point\" transform=\"translate(251.31,25.34)\" d=\"M3,0A3,3 0 1,1 0,-3A3,3 0 0,1 3,0Z\" style=\"opacity: 1; stroke-width: 0px; fill: rgb(99, 110, 250); fill-opacity: 1;\"/><path class=\"point\" transform=\"translate(257.76,25.34)\" d=\"M3,0A3,3 0 1,1 0,-3A3,3 0 0,1 3,0Z\" style=\"opacity: 1; stroke-width: 0px; fill: rgb(99, 110, 250); fill-opacity: 1;\"/><path class=\"point\" transform=\"translate(301.8,25.34)\" d=\"M3,0A3,3 0 1,1 0,-3A3,3 0 0,1 3,0Z\" style=\"opacity: 1; stroke-width: 0px; fill: rgb(99, 110, 250); fill-opacity: 1;\"/><path class=\"point\" transform=\"translate(319.63,25.34)\" d=\"M3,0A3,3 0 1,1 0,-3A3,3 0 0,1 3,0Z\" style=\"opacity: 1; stroke-width: 0px; fill: rgb(99, 110, 250); fill-opacity: 1;\"/><path class=\"point\" transform=\"translate(386.23,25.34)\" d=\"M3,0A3,3 0 1,1 0,-3A3,3 0 0,1 3,0Z\" style=\"opacity: 1; stroke-width: 0px; fill: rgb(99, 110, 250); fill-opacity: 1;\"/><path class=\"point\" transform=\"translate(448.3,25.34)\" d=\"M3,0A3,3 0 1,1 0,-3A3,3 0 0,1 3,0Z\" style=\"opacity: 1; stroke-width: 0px; fill: rgb(99, 110, 250); fill-opacity: 1;\"/><path class=\"point\" transform=\"translate(448.64,25.34)\" d=\"M3,0A3,3 0 1,1 0,-3A3,3 0 0,1 3,0Z\" style=\"opacity: 1; stroke-width: 0px; fill: rgb(99, 110, 250); fill-opacity: 1;\"/><path class=\"point\" transform=\"translate(658.58,25.34)\" d=\"M3,0A3,3 0 1,1 0,-3A3,3 0 0,1 3,0Z\" style=\"opacity: 1; stroke-width: 0px; fill: rgb(99, 110, 250); fill-opacity: 1;\"/><path class=\"point\" transform=\"translate(703,25.34)\" d=\"M3,0A3,3 0 1,1 0,-3A3,3 0 0,1 3,0Z\" style=\"opacity: 1; stroke-width: 0px; fill: rgb(99, 110, 250); fill-opacity: 1;\"/></g></g></g></g><g class=\"overplot\"/><path class=\"xlines-above crisp\" d=\"M0,0\" style=\"fill: none;\"/><path class=\"ylines-above crisp\" d=\"M0,0\" style=\"fill: none;\"/><g class=\"overlines-above\"/><g class=\"xaxislayer-above\"/><g class=\"yaxislayer-above\"/><g class=\"overaxes-above\"/></g></g><g class=\"polarlayer\"/><g class=\"smithlayer\"/><g class=\"ternarylayer\"/><g class=\"geolayer\"/><g class=\"funnelarealayer\"/><g class=\"pielayer\"/><g class=\"iciclelayer\"/><g class=\"treemaplayer\"/><g class=\"sunburstlayer\"/><g class=\"glimages\"/><defs id=\"topdefs-aa6cc3\"><g class=\"clips\"/></defs><g class=\"layer-above\"><g class=\"imagelayer\"/><g class=\"shapelayer\"/></g><g class=\"infolayer\"><g class=\"g-gtitle\"><text class=\"gtitle\" x=\"45\" y=\"50\" text-anchor=\"start\" dy=\"0em\" style=\"font-family: 'Open Sans', verdana, arial, sans-serif; font-size: 17px; fill: rgb(42, 63, 95); opacity: 1; font-weight: normal; white-space: pre;\">Distribution of response time</text></g><g class=\"g-xtitle\"><text class=\"xtitle\" x=\"450\" y=\"460.3\" text-anchor=\"middle\" style=\"font-family: 'Open Sans', verdana, arial, sans-serif; font-size: 14px; fill: rgb(42, 63, 95); opacity: 1; font-weight: normal; white-space: pre;\">response_time</text></g><g class=\"g-x2title\"/><g class=\"g-ytitle\"><text class=\"ytitle\" transform=\"rotate(-90,31.309375000000003,286.944)\" x=\"31.309375000000003\" y=\"286.944\" text-anchor=\"middle\" style=\"font-family: 'Open Sans', verdana, arial, sans-serif; font-size: 14px; fill: rgb(42, 63, 95); opacity: 1; font-weight: normal; white-space: pre;\">count</text></g><g class=\"g-y2title\"/></g></svg>"
     },
     "metadata": {},
     "output_type": "display_data"
    }
   ],
   "source": [
    "fig = px.histogram(result[result['response_time']<1000], x='response_time', log_y=True, marginal='box', title='Distribution of response time')\n",
    "fig.show()"
   ]
  },
  {
   "cell_type": "markdown",
   "metadata": {},
   "source": [
    "## Resolution time"
   ]
  },
  {
   "cell_type": "markdown",
   "metadata": {},
   "source": [
    "Assuming that if the last query in the conversation is from the company then the issue is resolved.  \n",
    "Resolution time is the time difference between the last date of last tweet in the conversation and the date of first query."
   ]
  },
  {
   "cell_type": "code",
   "execution_count": 16,
   "metadata": {},
   "outputs": [],
   "source": [
    "result['resolution_time'] = 0"
   ]
  },
  {
   "cell_type": "code",
   "execution_count": 17,
   "metadata": {},
   "outputs": [],
   "source": [
    "for index, conversation_id in enumerate(conversation_ids):\n",
    "    tmp = df[df['conversation_id'] == conversation_id]\n",
    "    tmp.sort_values('date', ascending=True, inplace=True)\n",
    "    comp_tmp = tmp[tmp['username'] == company_username]\n",
    "    if tmp.iloc[-1]['username'] == company_username:\n",
    "        resolution_time = (tmp.iloc[-1]['date'] - tmp.iloc[0]['date']) / datetime.timedelta(hours=1)\n",
    "        result.at[index, 'resolution_time'] = resolution_time"
   ]
  },
  {
   "cell_type": "code",
   "execution_count": 18,
   "metadata": {},
   "outputs": [
    {
     "name": "stdout",
     "output_type": "stream",
     "text": [
      "Number of queries resolved: 547\n",
      "Number of queries unresolved: 189\n"
     ]
    }
   ],
   "source": [
    "print(f\"Number of queries resolved: {len(result['resolution_time'].to_numpy().nonzero()[0])}\")\n",
    "print(f\"Number of queries unresolved: {result.shape[0] - len(result['resolution_time'].to_numpy().nonzero()[0])}\")"
   ]
  },
  {
   "cell_type": "code",
   "execution_count": 19,
   "metadata": {},
   "outputs": [
    {
     "data": {
      "image/svg+xml": "<svg class=\"main-svg\" xmlns=\"http://www.w3.org/2000/svg\" xmlns:xlink=\"http://www.w3.org/1999/xlink\" width=\"900\" height=\"500\" style=\"\" viewBox=\"0 0 900 500\"><rect x=\"0\" y=\"0\" width=\"900\" height=\"500\" style=\"fill: rgb(255, 255, 255); fill-opacity: 1;\"/><defs id=\"defs-bb9c21\"><g class=\"clips\"><clipPath id=\"clipbb9c21xyplot\" class=\"plotclip\"><rect width=\"740\" height=\"266.112\"/></clipPath><clipPath id=\"clipbb9c21x2y2plot\" class=\"plotclip\"><rect width=\"740\" height=\"50.687999999999995\"/></clipPath><clipPath class=\"axesclip\" id=\"clipbb9c21x\"><rect x=\"80\" y=\"0\" width=\"740\" height=\"500\"/></clipPath><clipPath class=\"axesclip\" id=\"clipbb9c21y\"><rect x=\"0\" y=\"153.888\" width=\"900\" height=\"266.112\"/></clipPath><clipPath class=\"axesclip\" id=\"clipbb9c21xy\"><rect x=\"80\" y=\"153.888\" width=\"740\" height=\"266.112\"/></clipPath><clipPath class=\"axesclip\" id=\"clipbb9c21y2\"><rect x=\"0\" y=\"100\" width=\"900\" height=\"50.687999999999995\"/></clipPath><clipPath class=\"axesclip\" id=\"clipbb9c21xy2\"><rect x=\"80\" y=\"100\" width=\"740\" height=\"50.687999999999995\"/></clipPath><clipPath class=\"axesclip\" id=\"clipbb9c21x2\"><rect x=\"80\" y=\"0\" width=\"740\" height=\"500\"/></clipPath><clipPath class=\"axesclip\" id=\"clipbb9c21x2y\"><rect x=\"80\" y=\"153.888\" width=\"740\" height=\"266.112\"/></clipPath><clipPath class=\"axesclip\" id=\"clipbb9c21x2y2\"><rect x=\"80\" y=\"100\" width=\"740\" height=\"50.687999999999995\"/></clipPath></g><g class=\"gradients\"/><g class=\"patterns\"/></defs><g class=\"bglayer\"><rect class=\"bg\" x=\"80\" y=\"153.888\" width=\"740\" height=\"266.112\" style=\"fill: rgb(229, 236, 246); fill-opacity: 1; stroke-width: 0;\"/><rect class=\"bg\" x=\"80\" y=\"100\" width=\"740\" height=\"50.687999999999995\" style=\"fill: rgb(229, 236, 246); fill-opacity: 1; stroke-width: 0;\"/></g><g class=\"layer-below\"><g class=\"imagelayer\"/><g class=\"shapelayer\"/></g><g class=\"cartesianlayer\"><g class=\"subplot xy\"><g class=\"layer-subplot\"><g class=\"shapelayer\"/><g class=\"imagelayer\"/></g><g class=\"minor-gridlayer\"><g class=\"x\"/><g class=\"y\"/></g><g class=\"gridlayer\"><g class=\"x\"/><g class=\"y\"><path class=\"ygrid crisp\" transform=\"translate(0,406.698)\" d=\"M80,0h740\" style=\"stroke: rgb(255, 255, 255); stroke-opacity: 1; stroke-width: 1px;\"/><path class=\"ygrid crisp\" transform=\"translate(0,380.238)\" d=\"M80,0h740\" style=\"stroke: rgb(255, 255, 255); stroke-opacity: 1; stroke-width: 1px;\"/><path class=\"ygrid crisp\" transform=\"translate(0,345.26800000000003)\" d=\"M80,0h740\" style=\"stroke: rgb(255, 255, 255); stroke-opacity: 1; stroke-width: 1px;\"/><path class=\"ygrid crisp\" transform=\"translate(0,318.808)\" d=\"M80,0h740\" style=\"stroke: rgb(255, 255, 255); stroke-opacity: 1; stroke-width: 1px;\"/><path class=\"ygrid crisp\" transform=\"translate(0,292.348)\" d=\"M80,0h740\" style=\"stroke: rgb(255, 255, 255); stroke-opacity: 1; stroke-width: 1px;\"/><path class=\"ygrid crisp\" transform=\"translate(0,257.378)\" d=\"M80,0h740\" style=\"stroke: rgb(255, 255, 255); stroke-opacity: 1; stroke-width: 1px;\"/><path class=\"ygrid crisp\" transform=\"translate(0,230.918)\" d=\"M80,0h740\" style=\"stroke: rgb(255, 255, 255); stroke-opacity: 1; stroke-width: 1px;\"/><path class=\"ygrid crisp\" transform=\"translate(0,204.46800000000002)\" d=\"M80,0h740\" style=\"stroke: rgb(255, 255, 255); stroke-opacity: 1; stroke-width: 1px;\"/><path class=\"ygrid crisp\" transform=\"translate(0,169.488)\" d=\"M80,0h740\" style=\"stroke: rgb(255, 255, 255); stroke-opacity: 1; stroke-width: 1px;\"/></g></g><g class=\"zerolinelayer\"/><path class=\"xlines-below\"/><path class=\"ylines-below\"/><g class=\"overlines-below\"/><g class=\"xaxislayer-below\"/><g class=\"yaxislayer-below\"/><g class=\"overaxes-below\"/><g class=\"plot\" transform=\"translate(80,153.888)\" clip-path=\"url(#clipbb9c21xyplot)\"><g class=\"barlayer mlayer\"><g class=\"trace bars\" shape-rendering=\"crispEdges\" style=\"opacity: 1;\"><g class=\"points\"><g class=\"point\"><path d=\"M33.99,2794.18V13.31H40.01V2794.18Z\" style=\"vector-effect: non-scaling-stroke; opacity: 1; stroke-width: 0px; fill: rgb(99, 110, 250); fill-opacity: 1;\"/></g><g class=\"point\"><path d=\"M40.01,2794.18V72.37H46.02V2794.18Z\" style=\"vector-effect: non-scaling-stroke; opacity: 1; stroke-width: 0px; fill: rgb(99, 110, 250); fill-opacity: 1;\"/></g><g class=\"point\"><path d=\"M46.02,2794.18V121.73H52.03V2794.18Z\" style=\"vector-effect: non-scaling-stroke; opacity: 1; stroke-width: 0px; fill: rgb(99, 110, 250); fill-opacity: 1;\"/></g><g class=\"point\"><path d=\"M52.03,2794.18V152.08H58.04V2794.18Z\" style=\"vector-effect: non-scaling-stroke; opacity: 1; stroke-width: 0px; fill: rgb(99, 110, 250); fill-opacity: 1;\"/></g><g class=\"point\"><path d=\"M58.04,2794.18V173.44H64.05V2794.18Z\" style=\"vector-effect: non-scaling-stroke; opacity: 1; stroke-width: 0px; fill: rgb(99, 110, 250); fill-opacity: 1;\"/></g><g class=\"point\"><path d=\"M64.05,2794.18V199.89H70.06V2794.18Z\" style=\"vector-effect: non-scaling-stroke; opacity: 1; stroke-width: 0px; fill: rgb(99, 110, 250); fill-opacity: 1;\"/></g><g class=\"point\"><path d=\"M70.06,2794.18V191.38H76.07V2794.18Z\" style=\"vector-effect: non-scaling-stroke; opacity: 1; stroke-width: 0px; fill: rgb(99, 110, 250); fill-opacity: 1;\"/></g><g class=\"point\"><path d=\"M76.07,2794.18V184.42H82.08V2794.18Z\" style=\"vector-effect: non-scaling-stroke; opacity: 1; stroke-width: 0px; fill: rgb(99, 110, 250); fill-opacity: 1;\"/></g><g class=\"point\"><path d=\"M0,0Z\" style=\"vector-effect: non-scaling-stroke; opacity: 1; stroke-width: 0px; fill: rgb(99, 110, 250); fill-opacity: 1;\"/></g><g class=\"point\"><path d=\"M88.09,2794.18V210.87H94.1V2794.18Z\" style=\"vector-effect: non-scaling-stroke; opacity: 1; stroke-width: 0px; fill: rgb(99, 110, 250); fill-opacity: 1;\"/></g><g class=\"point\"><path d=\"M94.1,2794.18V252.81H100.11V2794.18Z\" style=\"vector-effect: non-scaling-stroke; opacity: 1; stroke-width: 0px; fill: rgb(99, 110, 250); fill-opacity: 1;\"/></g><g class=\"point\"><path d=\"M100.11,2794.18V210.87H106.12V2794.18Z\" style=\"vector-effect: non-scaling-stroke; opacity: 1; stroke-width: 0px; fill: rgb(99, 110, 250); fill-opacity: 1;\"/></g><g class=\"point\"><path d=\"M0,0Z\" style=\"vector-effect: non-scaling-stroke; opacity: 1; stroke-width: 0px; fill: rgb(99, 110, 250); fill-opacity: 1;\"/></g><g class=\"point\"><path d=\"M112.13,2794.18V252.81H118.14V2794.18Z\" style=\"vector-effect: non-scaling-stroke; opacity: 1; stroke-width: 0px; fill: rgb(99, 110, 250); fill-opacity: 1;\"/></g><g class=\"point\"><path d=\"M0,0Z\" style=\"vector-effect: non-scaling-stroke; opacity: 1; stroke-width: 0px; fill: rgb(99, 110, 250); fill-opacity: 1;\"/></g><g class=\"point\"><path d=\"M124.15,2794.18V252.81H130.16V2794.18Z\" style=\"vector-effect: non-scaling-stroke; opacity: 1; stroke-width: 0px; fill: rgb(99, 110, 250); fill-opacity: 1;\"/></g><g class=\"point\"><path d=\"M130.16,2794.18V252.81H136.17V2794.18Z\" style=\"vector-effect: non-scaling-stroke; opacity: 1; stroke-width: 0px; fill: rgb(99, 110, 250); fill-opacity: 1;\"/></g><g class=\"point\"><path d=\"M136.17,2794.18V252.81H142.18V2794.18Z\" style=\"vector-effect: non-scaling-stroke; opacity: 1; stroke-width: 0px; fill: rgb(99, 110, 250); fill-opacity: 1;\"/></g><g class=\"point\"><path d=\"M142.18,2794.18V252.81H148.2V2794.18Z\" style=\"vector-effect: non-scaling-stroke; opacity: 1; stroke-width: 0px; fill: rgb(99, 110, 250); fill-opacity: 1;\"/></g><g class=\"point\"><path d=\"M0,0Z\" style=\"vector-effect: non-scaling-stroke; opacity: 1; stroke-width: 0px; fill: rgb(99, 110, 250); fill-opacity: 1;\"/></g><g class=\"point\"><path d=\"M154.21,2794.18V252.81H160.22V2794.18Z\" style=\"vector-effect: non-scaling-stroke; opacity: 1; stroke-width: 0px; fill: rgb(99, 110, 250); fill-opacity: 1;\"/></g><g class=\"point\"><path d=\"M0,0Z\" style=\"vector-effect: non-scaling-stroke; opacity: 1; stroke-width: 0px; fill: rgb(99, 110, 250); fill-opacity: 1;\"/></g><g class=\"point\"><path d=\"M166.23,2794.18V252.81H172.24V2794.18Z\" style=\"vector-effect: non-scaling-stroke; opacity: 1; stroke-width: 0px; fill: rgb(99, 110, 250); fill-opacity: 1;\"/></g><g class=\"point\"><path d=\"M0,0Z\" style=\"vector-effect: non-scaling-stroke; opacity: 1; stroke-width: 0px; fill: rgb(99, 110, 250); fill-opacity: 1;\"/></g><g class=\"point\"><path d=\"M0,0Z\" style=\"vector-effect: non-scaling-stroke; opacity: 1; stroke-width: 0px; fill: rgb(99, 110, 250); fill-opacity: 1;\"/></g><g class=\"point\"><path d=\"M184.26,2794.18V252.81H190.27V2794.18Z\" style=\"vector-effect: non-scaling-stroke; opacity: 1; stroke-width: 0px; fill: rgb(99, 110, 250); fill-opacity: 1;\"/></g><g class=\"point\"><path d=\"M0,0Z\" style=\"vector-effect: non-scaling-stroke; opacity: 1; stroke-width: 0px; fill: rgb(99, 110, 250); fill-opacity: 1;\"/></g><g class=\"point\"><path d=\"M0,0Z\" style=\"vector-effect: non-scaling-stroke; opacity: 1; stroke-width: 0px; fill: rgb(99, 110, 250); fill-opacity: 1;\"/></g><g class=\"point\"><path d=\"M0,0Z\" style=\"vector-effect: non-scaling-stroke; opacity: 1; stroke-width: 0px; fill: rgb(99, 110, 250); fill-opacity: 1;\"/></g><g class=\"point\"><path d=\"M0,0Z\" style=\"vector-effect: non-scaling-stroke; opacity: 1; stroke-width: 0px; fill: rgb(99, 110, 250); fill-opacity: 1;\"/></g><g class=\"point\"><path d=\"M0,0Z\" style=\"vector-effect: non-scaling-stroke; opacity: 1; stroke-width: 0px; fill: rgb(99, 110, 250); fill-opacity: 1;\"/></g><g class=\"point\"><path d=\"M0,0Z\" style=\"vector-effect: non-scaling-stroke; opacity: 1; stroke-width: 0px; fill: rgb(99, 110, 250); fill-opacity: 1;\"/></g><g class=\"point\"><path d=\"M226.33,2794.18V252.81H232.34V2794.18Z\" style=\"vector-effect: non-scaling-stroke; opacity: 1; stroke-width: 0px; fill: rgb(99, 110, 250); fill-opacity: 1;\"/></g><g class=\"point\"><path d=\"M232.34,2794.18V252.81H238.35V2794.18Z\" style=\"vector-effect: non-scaling-stroke; opacity: 1; stroke-width: 0px; fill: rgb(99, 110, 250); fill-opacity: 1;\"/></g><g class=\"point\"><path d=\"M0,0Z\" style=\"vector-effect: non-scaling-stroke; opacity: 1; stroke-width: 0px; fill: rgb(99, 110, 250); fill-opacity: 1;\"/></g><g class=\"point\"><path d=\"M0,0Z\" style=\"vector-effect: non-scaling-stroke; opacity: 1; stroke-width: 0px; fill: rgb(99, 110, 250); fill-opacity: 1;\"/></g><g class=\"point\"><path d=\"M250.37,2794.18V226.35H256.39V2794.18Z\" style=\"vector-effect: non-scaling-stroke; opacity: 1; stroke-width: 0px; fill: rgb(99, 110, 250); fill-opacity: 1;\"/></g><g class=\"point\"><path d=\"M0,0Z\" style=\"vector-effect: non-scaling-stroke; opacity: 1; stroke-width: 0px; fill: rgb(99, 110, 250); fill-opacity: 1;\"/></g><g class=\"point\"><path d=\"M0,0Z\" style=\"vector-effect: non-scaling-stroke; opacity: 1; stroke-width: 0px; fill: rgb(99, 110, 250); fill-opacity: 1;\"/></g><g class=\"point\"><path d=\"M0,0Z\" style=\"vector-effect: non-scaling-stroke; opacity: 1; stroke-width: 0px; fill: rgb(99, 110, 250); fill-opacity: 1;\"/></g><g class=\"point\"><path d=\"M0,0Z\" style=\"vector-effect: non-scaling-stroke; opacity: 1; stroke-width: 0px; fill: rgb(99, 110, 250); fill-opacity: 1;\"/></g><g class=\"point\"><path d=\"M0,0Z\" style=\"vector-effect: non-scaling-stroke; opacity: 1; stroke-width: 0px; fill: rgb(99, 110, 250); fill-opacity: 1;\"/></g><g class=\"point\"><path d=\"M0,0Z\" style=\"vector-effect: non-scaling-stroke; opacity: 1; stroke-width: 0px; fill: rgb(99, 110, 250); fill-opacity: 1;\"/></g><g class=\"point\"><path d=\"M292.45,2794.18V252.81H298.46V2794.18Z\" style=\"vector-effect: non-scaling-stroke; opacity: 1; stroke-width: 0px; fill: rgb(99, 110, 250); fill-opacity: 1;\"/></g><g class=\"point\"><path d=\"M0,0Z\" style=\"vector-effect: non-scaling-stroke; opacity: 1; stroke-width: 0px; fill: rgb(99, 110, 250); fill-opacity: 1;\"/></g><g class=\"point\"><path d=\"M0,0Z\" style=\"vector-effect: non-scaling-stroke; opacity: 1; stroke-width: 0px; fill: rgb(99, 110, 250); fill-opacity: 1;\"/></g><g class=\"point\"><path d=\"M0,0Z\" style=\"vector-effect: non-scaling-stroke; opacity: 1; stroke-width: 0px; fill: rgb(99, 110, 250); fill-opacity: 1;\"/></g><g class=\"point\"><path d=\"M0,0Z\" style=\"vector-effect: non-scaling-stroke; opacity: 1; stroke-width: 0px; fill: rgb(99, 110, 250); fill-opacity: 1;\"/></g><g class=\"point\"><path d=\"M0,0Z\" style=\"vector-effect: non-scaling-stroke; opacity: 1; stroke-width: 0px; fill: rgb(99, 110, 250); fill-opacity: 1;\"/></g><g class=\"point\"><path d=\"M0,0Z\" style=\"vector-effect: non-scaling-stroke; opacity: 1; stroke-width: 0px; fill: rgb(99, 110, 250); fill-opacity: 1;\"/></g><g class=\"point\"><path d=\"M0,0Z\" style=\"vector-effect: non-scaling-stroke; opacity: 1; stroke-width: 0px; fill: rgb(99, 110, 250); fill-opacity: 1;\"/></g><g class=\"point\"><path d=\"M0,0Z\" style=\"vector-effect: non-scaling-stroke; opacity: 1; stroke-width: 0px; fill: rgb(99, 110, 250); fill-opacity: 1;\"/></g><g class=\"point\"><path d=\"M0,0Z\" style=\"vector-effect: non-scaling-stroke; opacity: 1; stroke-width: 0px; fill: rgb(99, 110, 250); fill-opacity: 1;\"/></g><g class=\"point\"><path d=\"M352.55,2794.18V252.81H358.56V2794.18Z\" style=\"vector-effect: non-scaling-stroke; opacity: 1; stroke-width: 0px; fill: rgb(99, 110, 250); fill-opacity: 1;\"/></g><g class=\"point\"><path d=\"M0,0Z\" style=\"vector-effect: non-scaling-stroke; opacity: 1; stroke-width: 0px; fill: rgb(99, 110, 250); fill-opacity: 1;\"/></g><g class=\"point\"><path d=\"M364.58,2794.18V252.81H370.59V2794.18Z\" style=\"vector-effect: non-scaling-stroke; opacity: 1; stroke-width: 0px; fill: rgb(99, 110, 250); fill-opacity: 1;\"/></g><g class=\"point\"><path d=\"M0,0Z\" style=\"vector-effect: non-scaling-stroke; opacity: 1; stroke-width: 0px; fill: rgb(99, 110, 250); fill-opacity: 1;\"/></g><g class=\"point\"><path d=\"M0,0Z\" style=\"vector-effect: non-scaling-stroke; opacity: 1; stroke-width: 0px; fill: rgb(99, 110, 250); fill-opacity: 1;\"/></g><g class=\"point\"><path d=\"M382.61,2794.18V252.81H388.62V2794.18Z\" style=\"vector-effect: non-scaling-stroke; opacity: 1; stroke-width: 0px; fill: rgb(99, 110, 250); fill-opacity: 1;\"/></g><g class=\"point\"><path d=\"M0,0Z\" style=\"vector-effect: non-scaling-stroke; opacity: 1; stroke-width: 0px; fill: rgb(99, 110, 250); fill-opacity: 1;\"/></g><g class=\"point\"><path d=\"M0,0Z\" style=\"vector-effect: non-scaling-stroke; opacity: 1; stroke-width: 0px; fill: rgb(99, 110, 250); fill-opacity: 1;\"/></g><g class=\"point\"><path d=\"M0,0Z\" style=\"vector-effect: non-scaling-stroke; opacity: 1; stroke-width: 0px; fill: rgb(99, 110, 250); fill-opacity: 1;\"/></g><g class=\"point\"><path d=\"M0,0Z\" style=\"vector-effect: non-scaling-stroke; opacity: 1; stroke-width: 0px; fill: rgb(99, 110, 250); fill-opacity: 1;\"/></g><g class=\"point\"><path d=\"M0,0Z\" style=\"vector-effect: non-scaling-stroke; opacity: 1; stroke-width: 0px; fill: rgb(99, 110, 250); fill-opacity: 1;\"/></g><g class=\"point\"><path d=\"M0,0Z\" style=\"vector-effect: non-scaling-stroke; opacity: 1; stroke-width: 0px; fill: rgb(99, 110, 250); fill-opacity: 1;\"/></g><g class=\"point\"><path d=\"M0,0Z\" style=\"vector-effect: non-scaling-stroke; opacity: 1; stroke-width: 0px; fill: rgb(99, 110, 250); fill-opacity: 1;\"/></g><g class=\"point\"><path d=\"M0,0Z\" style=\"vector-effect: non-scaling-stroke; opacity: 1; stroke-width: 0px; fill: rgb(99, 110, 250); fill-opacity: 1;\"/></g><g class=\"point\"><path d=\"M0,0Z\" style=\"vector-effect: non-scaling-stroke; opacity: 1; stroke-width: 0px; fill: rgb(99, 110, 250); fill-opacity: 1;\"/></g><g class=\"point\"><path d=\"M0,0Z\" style=\"vector-effect: non-scaling-stroke; opacity: 1; stroke-width: 0px; fill: rgb(99, 110, 250); fill-opacity: 1;\"/></g><g class=\"point\"><path d=\"M0,0Z\" style=\"vector-effect: non-scaling-stroke; opacity: 1; stroke-width: 0px; fill: rgb(99, 110, 250); fill-opacity: 1;\"/></g><g class=\"point\"><path d=\"M0,0Z\" style=\"vector-effect: non-scaling-stroke; opacity: 1; stroke-width: 0px; fill: rgb(99, 110, 250); fill-opacity: 1;\"/></g><g class=\"point\"><path d=\"M0,0Z\" style=\"vector-effect: non-scaling-stroke; opacity: 1; stroke-width: 0px; fill: rgb(99, 110, 250); fill-opacity: 1;\"/></g><g class=\"point\"><path d=\"M0,0Z\" style=\"vector-effect: non-scaling-stroke; opacity: 1; stroke-width: 0px; fill: rgb(99, 110, 250); fill-opacity: 1;\"/></g><g class=\"point\"><path d=\"M0,0Z\" style=\"vector-effect: non-scaling-stroke; opacity: 1; stroke-width: 0px; fill: rgb(99, 110, 250); fill-opacity: 1;\"/></g><g class=\"point\"><path d=\"M0,0Z\" style=\"vector-effect: non-scaling-stroke; opacity: 1; stroke-width: 0px; fill: rgb(99, 110, 250); fill-opacity: 1;\"/></g><g class=\"point\"><path d=\"M0,0Z\" style=\"vector-effect: non-scaling-stroke; opacity: 1; stroke-width: 0px; fill: rgb(99, 110, 250); fill-opacity: 1;\"/></g><g class=\"point\"><path d=\"M0,0Z\" style=\"vector-effect: non-scaling-stroke; opacity: 1; stroke-width: 0px; fill: rgb(99, 110, 250); fill-opacity: 1;\"/></g><g class=\"point\"><path d=\"M0,0Z\" style=\"vector-effect: non-scaling-stroke; opacity: 1; stroke-width: 0px; fill: rgb(99, 110, 250); fill-opacity: 1;\"/></g><g class=\"point\"><path d=\"M0,0Z\" style=\"vector-effect: non-scaling-stroke; opacity: 1; stroke-width: 0px; fill: rgb(99, 110, 250); fill-opacity: 1;\"/></g><g class=\"point\"><path d=\"M0,0Z\" style=\"vector-effect: non-scaling-stroke; opacity: 1; stroke-width: 0px; fill: rgb(99, 110, 250); fill-opacity: 1;\"/></g><g class=\"point\"><path d=\"M0,0Z\" style=\"vector-effect: non-scaling-stroke; opacity: 1; stroke-width: 0px; fill: rgb(99, 110, 250); fill-opacity: 1;\"/></g><g class=\"point\"><path d=\"M0,0Z\" style=\"vector-effect: non-scaling-stroke; opacity: 1; stroke-width: 0px; fill: rgb(99, 110, 250); fill-opacity: 1;\"/></g><g class=\"point\"><path d=\"M0,0Z\" style=\"vector-effect: non-scaling-stroke; opacity: 1; stroke-width: 0px; fill: rgb(99, 110, 250); fill-opacity: 1;\"/></g><g class=\"point\"><path d=\"M0,0Z\" style=\"vector-effect: non-scaling-stroke; opacity: 1; stroke-width: 0px; fill: rgb(99, 110, 250); fill-opacity: 1;\"/></g><g class=\"point\"><path d=\"M0,0Z\" style=\"vector-effect: non-scaling-stroke; opacity: 1; stroke-width: 0px; fill: rgb(99, 110, 250); fill-opacity: 1;\"/></g><g class=\"point\"><path d=\"M0,0Z\" style=\"vector-effect: non-scaling-stroke; opacity: 1; stroke-width: 0px; fill: rgb(99, 110, 250); fill-opacity: 1;\"/></g><g class=\"point\"><path d=\"M0,0Z\" style=\"vector-effect: non-scaling-stroke; opacity: 1; stroke-width: 0px; fill: rgb(99, 110, 250); fill-opacity: 1;\"/></g><g class=\"point\"><path d=\"M0,0Z\" style=\"vector-effect: non-scaling-stroke; opacity: 1; stroke-width: 0px; fill: rgb(99, 110, 250); fill-opacity: 1;\"/></g><g class=\"point\"><path d=\"M0,0Z\" style=\"vector-effect: non-scaling-stroke; opacity: 1; stroke-width: 0px; fill: rgb(99, 110, 250); fill-opacity: 1;\"/></g><g class=\"point\"><path d=\"M0,0Z\" style=\"vector-effect: non-scaling-stroke; opacity: 1; stroke-width: 0px; fill: rgb(99, 110, 250); fill-opacity: 1;\"/></g><g class=\"point\"><path d=\"M0,0Z\" style=\"vector-effect: non-scaling-stroke; opacity: 1; stroke-width: 0px; fill: rgb(99, 110, 250); fill-opacity: 1;\"/></g><g class=\"point\"><path d=\"M0,0Z\" style=\"vector-effect: non-scaling-stroke; opacity: 1; stroke-width: 0px; fill: rgb(99, 110, 250); fill-opacity: 1;\"/></g><g class=\"point\"><path d=\"M0,0Z\" style=\"vector-effect: non-scaling-stroke; opacity: 1; stroke-width: 0px; fill: rgb(99, 110, 250); fill-opacity: 1;\"/></g><g class=\"point\"><path d=\"M0,0Z\" style=\"vector-effect: non-scaling-stroke; opacity: 1; stroke-width: 0px; fill: rgb(99, 110, 250); fill-opacity: 1;\"/></g><g class=\"point\"><path d=\"M0,0Z\" style=\"vector-effect: non-scaling-stroke; opacity: 1; stroke-width: 0px; fill: rgb(99, 110, 250); fill-opacity: 1;\"/></g><g class=\"point\"><path d=\"M0,0Z\" style=\"vector-effect: non-scaling-stroke; opacity: 1; stroke-width: 0px; fill: rgb(99, 110, 250); fill-opacity: 1;\"/></g><g class=\"point\"><path d=\"M0,0Z\" style=\"vector-effect: non-scaling-stroke; opacity: 1; stroke-width: 0px; fill: rgb(99, 110, 250); fill-opacity: 1;\"/></g><g class=\"point\"><path d=\"M0,0Z\" style=\"vector-effect: non-scaling-stroke; opacity: 1; stroke-width: 0px; fill: rgb(99, 110, 250); fill-opacity: 1;\"/></g><g class=\"point\"><path d=\"M0,0Z\" style=\"vector-effect: non-scaling-stroke; opacity: 1; stroke-width: 0px; fill: rgb(99, 110, 250); fill-opacity: 1;\"/></g><g class=\"point\"><path d=\"M0,0Z\" style=\"vector-effect: non-scaling-stroke; opacity: 1; stroke-width: 0px; fill: rgb(99, 110, 250); fill-opacity: 1;\"/></g><g class=\"point\"><path d=\"M0,0Z\" style=\"vector-effect: non-scaling-stroke; opacity: 1; stroke-width: 0px; fill: rgb(99, 110, 250); fill-opacity: 1;\"/></g><g class=\"point\"><path d=\"M0,0Z\" style=\"vector-effect: non-scaling-stroke; opacity: 1; stroke-width: 0px; fill: rgb(99, 110, 250); fill-opacity: 1;\"/></g><g class=\"point\"><path d=\"M0,0Z\" style=\"vector-effect: non-scaling-stroke; opacity: 1; stroke-width: 0px; fill: rgb(99, 110, 250); fill-opacity: 1;\"/></g><g class=\"point\"><path d=\"M0,0Z\" style=\"vector-effect: non-scaling-stroke; opacity: 1; stroke-width: 0px; fill: rgb(99, 110, 250); fill-opacity: 1;\"/></g><g class=\"point\"><path d=\"M0,0Z\" style=\"vector-effect: non-scaling-stroke; opacity: 1; stroke-width: 0px; fill: rgb(99, 110, 250); fill-opacity: 1;\"/></g><g class=\"point\"><path d=\"M0,0Z\" style=\"vector-effect: non-scaling-stroke; opacity: 1; stroke-width: 0px; fill: rgb(99, 110, 250); fill-opacity: 1;\"/></g><g class=\"point\"><path d=\"M0,0Z\" style=\"vector-effect: non-scaling-stroke; opacity: 1; stroke-width: 0px; fill: rgb(99, 110, 250); fill-opacity: 1;\"/></g><g class=\"point\"><path d=\"M0,0Z\" style=\"vector-effect: non-scaling-stroke; opacity: 1; stroke-width: 0px; fill: rgb(99, 110, 250); fill-opacity: 1;\"/></g><g class=\"point\"><path d=\"M0,0Z\" style=\"vector-effect: non-scaling-stroke; opacity: 1; stroke-width: 0px; fill: rgb(99, 110, 250); fill-opacity: 1;\"/></g><g class=\"point\"><path d=\"M0,0Z\" style=\"vector-effect: non-scaling-stroke; opacity: 1; stroke-width: 0px; fill: rgb(99, 110, 250); fill-opacity: 1;\"/></g><g class=\"point\"><path d=\"M0,0Z\" style=\"vector-effect: non-scaling-stroke; opacity: 1; stroke-width: 0px; fill: rgb(99, 110, 250); fill-opacity: 1;\"/></g><g class=\"point\"><path d=\"M701.17,2794.18V252.81H707.18V2794.18Z\" style=\"vector-effect: non-scaling-stroke; opacity: 1; stroke-width: 0px; fill: rgb(99, 110, 250); fill-opacity: 1;\"/></g></g></g></g></g><g class=\"overplot\"/><path class=\"xlines-above crisp\" d=\"M0,0\" style=\"fill: none;\"/><path class=\"ylines-above crisp\" d=\"M0,0\" style=\"fill: none;\"/><g class=\"overlines-above\"/><g class=\"xaxislayer-above\"><g class=\"xtick\"><text text-anchor=\"middle\" x=\"0\" y=\"433\" transform=\"translate(117,0)\" style=\"font-family: 'Open Sans', verdana, arial, sans-serif; font-size: 12px; fill: rgb(42, 63, 95); fill-opacity: 1; white-space: pre; opacity: 1;\">0</text></g><g class=\"xtick\"><text text-anchor=\"middle\" x=\"0\" y=\"433\" style=\"font-family: 'Open Sans', verdana, arial, sans-serif; font-size: 12px; fill: rgb(42, 63, 95); fill-opacity: 1; white-space: pre; opacity: 1;\" transform=\"translate(237.21,0)\">1000</text></g><g class=\"xtick\"><text text-anchor=\"middle\" x=\"0\" y=\"433\" style=\"font-family: 'Open Sans', verdana, arial, sans-serif; font-size: 12px; fill: rgb(42, 63, 95); fill-opacity: 1; white-space: pre; opacity: 1;\" transform=\"translate(357.42,0)\">2000</text></g><g class=\"xtick\"><text text-anchor=\"middle\" x=\"0\" y=\"433\" style=\"font-family: 'Open Sans', verdana, arial, sans-serif; font-size: 12px; fill: rgb(42, 63, 95); fill-opacity: 1; white-space: pre; opacity: 1;\" transform=\"translate(477.63,0)\">3000</text></g><g class=\"xtick\"><text text-anchor=\"middle\" x=\"0\" y=\"433\" style=\"font-family: 'Open Sans', verdana, arial, sans-serif; font-size: 12px; fill: rgb(42, 63, 95); fill-opacity: 1; white-space: pre; opacity: 1;\" transform=\"translate(597.84,0)\">4000</text></g><g class=\"xtick\"><text text-anchor=\"middle\" x=\"0\" y=\"433\" style=\"font-family: 'Open Sans', verdana, arial, sans-serif; font-size: 12px; fill: rgb(42, 63, 95); fill-opacity: 1; white-space: pre; opacity: 1;\" transform=\"translate(718.06,0)\">5000</text></g></g><g class=\"yaxislayer-above\"><g class=\"ytick\"><text text-anchor=\"end\" x=\"79\" y=\"4.199999999999999\" transform=\"translate(0,406.698)\" style=\"font-family: 'Open Sans', verdana, arial, sans-serif; font-size: 12px; fill: rgb(42, 63, 95); fill-opacity: 1; white-space: pre; opacity: 1;\">1</text></g><g class=\"ytick\"><text text-anchor=\"end\" x=\"79\" y=\"3.15\" style=\"font-family: 'Open Sans', verdana, arial, sans-serif; font-size: 9px; fill: rgb(42, 63, 95); fill-opacity: 1; white-space: pre; opacity: 1;\" transform=\"translate(0,380.238)\">2</text></g><g class=\"ytick\"><text text-anchor=\"end\" x=\"79\" y=\"3.15\" style=\"font-family: 'Open Sans', verdana, arial, sans-serif; font-size: 9px; fill: rgb(42, 63, 95); fill-opacity: 1; white-space: pre; opacity: 1;\" transform=\"translate(0,345.26800000000003)\">5</text></g><g class=\"ytick\"><text text-anchor=\"end\" x=\"79\" y=\"4.199999999999999\" style=\"font-family: 'Open Sans', verdana, arial, sans-serif; font-size: 12px; fill: rgb(42, 63, 95); fill-opacity: 1; white-space: pre; opacity: 1;\" transform=\"translate(0,318.808)\">10</text></g><g class=\"ytick\"><text text-anchor=\"end\" x=\"79\" y=\"3.15\" style=\"font-family: 'Open Sans', verdana, arial, sans-serif; font-size: 9px; fill: rgb(42, 63, 95); fill-opacity: 1; white-space: pre; opacity: 1;\" transform=\"translate(0,292.348)\">2</text></g><g class=\"ytick\"><text text-anchor=\"end\" x=\"79\" y=\"3.15\" style=\"font-family: 'Open Sans', verdana, arial, sans-serif; font-size: 9px; fill: rgb(42, 63, 95); fill-opacity: 1; white-space: pre; opacity: 1;\" transform=\"translate(0,257.378)\">5</text></g><g class=\"ytick\"><text text-anchor=\"end\" x=\"79\" y=\"4.199999999999999\" style=\"font-family: 'Open Sans', verdana, arial, sans-serif; font-size: 12px; fill: rgb(42, 63, 95); fill-opacity: 1; white-space: pre; opacity: 1;\" transform=\"translate(0,230.918)\">100</text></g><g class=\"ytick\"><text text-anchor=\"end\" x=\"79\" y=\"3.15\" style=\"font-family: 'Open Sans', verdana, arial, sans-serif; font-size: 9px; fill: rgb(42, 63, 95); fill-opacity: 1; white-space: pre; opacity: 1;\" transform=\"translate(0,204.46800000000002)\">2</text></g><g class=\"ytick\"><text text-anchor=\"end\" x=\"79\" y=\"3.15\" style=\"font-family: 'Open Sans', verdana, arial, sans-serif; font-size: 9px; fill: rgb(42, 63, 95); fill-opacity: 1; white-space: pre; opacity: 1;\" transform=\"translate(0,169.488)\">5</text></g></g><g class=\"overaxes-above\"/></g><g class=\"subplot x2y2\"><g class=\"layer-subplot\"><g class=\"shapelayer\"/><g class=\"imagelayer\"/></g><g class=\"minor-gridlayer\"><g class=\"x2\"/><g class=\"y2\"/></g><g class=\"gridlayer\"><g class=\"x2\"><path class=\"x2grid crisp\" transform=\"translate(237.21,0)\" d=\"M0,100v50.687999999999995\" style=\"stroke: rgb(255, 255, 255); stroke-opacity: 1; stroke-width: 1px;\"/><path class=\"x2grid crisp\" transform=\"translate(357.42,0)\" d=\"M0,100v50.687999999999995\" style=\"stroke: rgb(255, 255, 255); stroke-opacity: 1; stroke-width: 1px;\"/><path class=\"x2grid crisp\" transform=\"translate(477.63,0)\" d=\"M0,100v50.687999999999995\" style=\"stroke: rgb(255, 255, 255); stroke-opacity: 1; stroke-width: 1px;\"/><path class=\"x2grid crisp\" transform=\"translate(597.84,0)\" d=\"M0,100v50.687999999999995\" style=\"stroke: rgb(255, 255, 255); stroke-opacity: 1; stroke-width: 1px;\"/><path class=\"x2grid crisp\" transform=\"translate(718.06,0)\" d=\"M0,100v50.687999999999995\" style=\"stroke: rgb(255, 255, 255); stroke-opacity: 1; stroke-width: 1px;\"/></g><g class=\"y2\"/></g><g class=\"zerolinelayer\"><path class=\"x2zl zl crisp\" transform=\"translate(117,0)\" d=\"M0,100v50.687999999999995\" style=\"stroke: rgb(255, 255, 255); stroke-opacity: 1; stroke-width: 2px;\"/></g><path class=\"xlines-below\"/><path class=\"ylines-below\"/><g class=\"overlines-below\"/><g class=\"xaxislayer-below\"/><g class=\"yaxislayer-below\"/><g class=\"overaxes-below\"/><g class=\"plot\" transform=\"translate(80,100)\" clip-path=\"url(#clipbb9c21x2y2plot)\"><g class=\"boxlayer mlayer\"><g class=\"trace boxes\" style=\"opacity: 1;\"><path class=\"box\" d=\"M38,31.55V19.13M37,37.76V12.93H37.33L38,19.13L37.72,12.93H40.4V37.76H37.72L38,31.55L37.33,37.76ZM37,25.34H37M40.4,25.34H45.36M37,31.55V19.13M45.36,31.55V19.13\" style=\"vector-effect: non-scaling-stroke; stroke-width: 2px; stroke: rgb(99, 110, 250); stroke-opacity: 1; fill: rgb(99, 110, 250); fill-opacity: 0.5;\"/><g class=\"points\"><path class=\"point\" transform=\"translate(45.54,25.34)\" d=\"M3,0A3,3 0 1,1 0,-3A3,3 0 0,1 3,0Z\" style=\"opacity: 1; stroke-width: 0px; fill: rgb(99, 110, 250); fill-opacity: 1;\"/><path class=\"point\" transform=\"translate(45.58,25.34)\" d=\"M3,0A3,3 0 1,1 0,-3A3,3 0 0,1 3,0Z\" style=\"opacity: 1; stroke-width: 0px; fill: rgb(99, 110, 250); fill-opacity: 1;\"/><path class=\"point\" transform=\"translate(45.6,25.34)\" d=\"M3,0A3,3 0 1,1 0,-3A3,3 0 0,1 3,0Z\" style=\"opacity: 1; stroke-width: 0px; fill: rgb(99, 110, 250); fill-opacity: 1;\"/><path class=\"point\" transform=\"translate(45.6,25.34)\" d=\"M3,0A3,3 0 1,1 0,-3A3,3 0 0,1 3,0Z\" style=\"opacity: 1; stroke-width: 0px; fill: rgb(99, 110, 250); fill-opacity: 1;\"/><path class=\"point\" transform=\"translate(45.62,25.34)\" d=\"M3,0A3,3 0 1,1 0,-3A3,3 0 0,1 3,0Z\" style=\"opacity: 1; stroke-width: 0px; fill: rgb(99, 110, 250); fill-opacity: 1;\"/><path class=\"point\" transform=\"translate(45.88,25.34)\" d=\"M3,0A3,3 0 1,1 0,-3A3,3 0 0,1 3,0Z\" style=\"opacity: 1; stroke-width: 0px; fill: rgb(99, 110, 250); fill-opacity: 1;\"/><path class=\"point\" transform=\"translate(45.89,25.34)\" d=\"M3,0A3,3 0 1,1 0,-3A3,3 0 0,1 3,0Z\" style=\"opacity: 1; stroke-width: 0px; fill: rgb(99, 110, 250); fill-opacity: 1;\"/><path class=\"point\" transform=\"translate(45.91,25.34)\" d=\"M3,0A3,3 0 1,1 0,-3A3,3 0 0,1 3,0Z\" style=\"opacity: 1; stroke-width: 0px; fill: rgb(99, 110, 250); fill-opacity: 1;\"/><path class=\"point\" transform=\"translate(45.94,25.34)\" d=\"M3,0A3,3 0 1,1 0,-3A3,3 0 0,1 3,0Z\" style=\"opacity: 1; stroke-width: 0px; fill: rgb(99, 110, 250); fill-opacity: 1;\"/><path class=\"point\" transform=\"translate(46.07,25.34)\" d=\"M3,0A3,3 0 1,1 0,-3A3,3 0 0,1 3,0Z\" style=\"opacity: 1; stroke-width: 0px; fill: rgb(99, 110, 250); fill-opacity: 1;\"/><path class=\"point\" transform=\"translate(46.21,25.34)\" d=\"M3,0A3,3 0 1,1 0,-3A3,3 0 0,1 3,0Z\" style=\"opacity: 1; stroke-width: 0px; fill: rgb(99, 110, 250); fill-opacity: 1;\"/><path class=\"point\" transform=\"translate(46.47,25.34)\" d=\"M3,0A3,3 0 1,1 0,-3A3,3 0 0,1 3,0Z\" style=\"opacity: 1; stroke-width: 0px; fill: rgb(99, 110, 250); fill-opacity: 1;\"/><path class=\"point\" transform=\"translate(46.68,25.34)\" d=\"M3,0A3,3 0 1,1 0,-3A3,3 0 0,1 3,0Z\" style=\"opacity: 1; stroke-width: 0px; fill: rgb(99, 110, 250); fill-opacity: 1;\"/><path class=\"point\" transform=\"translate(46.79,25.34)\" d=\"M3,0A3,3 0 1,1 0,-3A3,3 0 0,1 3,0Z\" style=\"opacity: 1; stroke-width: 0px; fill: rgb(99, 110, 250); fill-opacity: 1;\"/><path class=\"point\" transform=\"translate(46.96,25.34)\" d=\"M3,0A3,3 0 1,1 0,-3A3,3 0 0,1 3,0Z\" style=\"opacity: 1; stroke-width: 0px; fill: rgb(99, 110, 250); fill-opacity: 1;\"/><path class=\"point\" transform=\"translate(47.01,25.34)\" d=\"M3,0A3,3 0 1,1 0,-3A3,3 0 0,1 3,0Z\" style=\"opacity: 1; stroke-width: 0px; fill: rgb(99, 110, 250); fill-opacity: 1;\"/><path class=\"point\" transform=\"translate(47.4,25.34)\" d=\"M3,0A3,3 0 1,1 0,-3A3,3 0 0,1 3,0Z\" style=\"opacity: 1; stroke-width: 0px; fill: rgb(99, 110, 250); fill-opacity: 1;\"/><path class=\"point\" transform=\"translate(47.65,25.34)\" d=\"M3,0A3,3 0 1,1 0,-3A3,3 0 0,1 3,0Z\" style=\"opacity: 1; stroke-width: 0px; fill: rgb(99, 110, 250); fill-opacity: 1;\"/><path class=\"point\" transform=\"translate(47.74,25.34)\" d=\"M3,0A3,3 0 1,1 0,-3A3,3 0 0,1 3,0Z\" style=\"opacity: 1; stroke-width: 0px; fill: rgb(99, 110, 250); fill-opacity: 1;\"/><path class=\"point\" transform=\"translate(48.01,25.34)\" d=\"M3,0A3,3 0 1,1 0,-3A3,3 0 0,1 3,0Z\" style=\"opacity: 1; stroke-width: 0px; fill: rgb(99, 110, 250); fill-opacity: 1;\"/><path class=\"point\" transform=\"translate(48.03,25.34)\" d=\"M3,0A3,3 0 1,1 0,-3A3,3 0 0,1 3,0Z\" style=\"opacity: 1; stroke-width: 0px; fill: rgb(99, 110, 250); fill-opacity: 1;\"/><path class=\"point\" transform=\"translate(48.36,25.34)\" d=\"M3,0A3,3 0 1,1 0,-3A3,3 0 0,1 3,0Z\" style=\"opacity: 1; stroke-width: 0px; fill: rgb(99, 110, 250); fill-opacity: 1;\"/><path class=\"point\" transform=\"translate(48.52,25.34)\" d=\"M3,0A3,3 0 1,1 0,-3A3,3 0 0,1 3,0Z\" style=\"opacity: 1; stroke-width: 0px; fill: rgb(99, 110, 250); fill-opacity: 1;\"/><path class=\"point\" transform=\"translate(48.83,25.34)\" d=\"M3,0A3,3 0 1,1 0,-3A3,3 0 0,1 3,0Z\" style=\"opacity: 1; stroke-width: 0px; fill: rgb(99, 110, 250); fill-opacity: 1;\"/><path class=\"point\" transform=\"translate(49.11,25.34)\" d=\"M3,0A3,3 0 1,1 0,-3A3,3 0 0,1 3,0Z\" style=\"opacity: 1; stroke-width: 0px; fill: rgb(99, 110, 250); fill-opacity: 1;\"/><path class=\"point\" transform=\"translate(49.18,25.34)\" d=\"M3,0A3,3 0 1,1 0,-3A3,3 0 0,1 3,0Z\" style=\"opacity: 1; stroke-width: 0px; fill: rgb(99, 110, 250); fill-opacity: 1;\"/><path class=\"point\" transform=\"translate(49.23,25.34)\" d=\"M3,0A3,3 0 1,1 0,-3A3,3 0 0,1 3,0Z\" style=\"opacity: 1; stroke-width: 0px; fill: rgb(99, 110, 250); fill-opacity: 1;\"/><path class=\"point\" transform=\"translate(49.51,25.34)\" d=\"M3,0A3,3 0 1,1 0,-3A3,3 0 0,1 3,0Z\" style=\"opacity: 1; stroke-width: 0px; fill: rgb(99, 110, 250); fill-opacity: 1;\"/><path class=\"point\" transform=\"translate(49.58,25.34)\" d=\"M3,0A3,3 0 1,1 0,-3A3,3 0 0,1 3,0Z\" style=\"opacity: 1; stroke-width: 0px; fill: rgb(99, 110, 250); fill-opacity: 1;\"/><path class=\"point\" transform=\"translate(49.74,25.34)\" d=\"M3,0A3,3 0 1,1 0,-3A3,3 0 0,1 3,0Z\" style=\"opacity: 1; stroke-width: 0px; fill: rgb(99, 110, 250); fill-opacity: 1;\"/><path class=\"point\" transform=\"translate(49.94,25.34)\" d=\"M3,0A3,3 0 1,1 0,-3A3,3 0 0,1 3,0Z\" style=\"opacity: 1; stroke-width: 0px; fill: rgb(99, 110, 250); fill-opacity: 1;\"/><path class=\"point\" transform=\"translate(50.41,25.34)\" d=\"M3,0A3,3 0 1,1 0,-3A3,3 0 0,1 3,0Z\" style=\"opacity: 1; stroke-width: 0px; fill: rgb(99, 110, 250); fill-opacity: 1;\"/><path class=\"point\" transform=\"translate(51,25.34)\" d=\"M3,0A3,3 0 1,1 0,-3A3,3 0 0,1 3,0Z\" style=\"opacity: 1; stroke-width: 0px; fill: rgb(99, 110, 250); fill-opacity: 1;\"/><path class=\"point\" transform=\"translate(51.04,25.34)\" d=\"M3,0A3,3 0 1,1 0,-3A3,3 0 0,1 3,0Z\" style=\"opacity: 1; stroke-width: 0px; fill: rgb(99, 110, 250); fill-opacity: 1;\"/><path class=\"point\" transform=\"translate(51.18,25.34)\" d=\"M3,0A3,3 0 1,1 0,-3A3,3 0 0,1 3,0Z\" style=\"opacity: 1; stroke-width: 0px; fill: rgb(99, 110, 250); fill-opacity: 1;\"/><path class=\"point\" transform=\"translate(51.59,25.34)\" d=\"M3,0A3,3 0 1,1 0,-3A3,3 0 0,1 3,0Z\" style=\"opacity: 1; stroke-width: 0px; fill: rgb(99, 110, 250); fill-opacity: 1;\"/><path class=\"point\" transform=\"translate(51.66,25.34)\" d=\"M3,0A3,3 0 1,1 0,-3A3,3 0 0,1 3,0Z\" style=\"opacity: 1; stroke-width: 0px; fill: rgb(99, 110, 250); fill-opacity: 1;\"/><path class=\"point\" transform=\"translate(51.8,25.34)\" d=\"M3,0A3,3 0 1,1 0,-3A3,3 0 0,1 3,0Z\" style=\"opacity: 1; stroke-width: 0px; fill: rgb(99, 110, 250); fill-opacity: 1;\"/><path class=\"point\" transform=\"translate(51.86,25.34)\" d=\"M3,0A3,3 0 1,1 0,-3A3,3 0 0,1 3,0Z\" style=\"opacity: 1; stroke-width: 0px; fill: rgb(99, 110, 250); fill-opacity: 1;\"/><path class=\"point\" transform=\"translate(51.9,25.34)\" d=\"M3,0A3,3 0 1,1 0,-3A3,3 0 0,1 3,0Z\" style=\"opacity: 1; stroke-width: 0px; fill: rgb(99, 110, 250); fill-opacity: 1;\"/><path class=\"point\" transform=\"translate(52.09,25.34)\" d=\"M3,0A3,3 0 1,1 0,-3A3,3 0 0,1 3,0Z\" style=\"opacity: 1; stroke-width: 0px; fill: rgb(99, 110, 250); fill-opacity: 1;\"/><path class=\"point\" transform=\"translate(52.11,25.34)\" d=\"M3,0A3,3 0 1,1 0,-3A3,3 0 0,1 3,0Z\" style=\"opacity: 1; stroke-width: 0px; fill: rgb(99, 110, 250); fill-opacity: 1;\"/><path class=\"point\" transform=\"translate(52.25,25.34)\" d=\"M3,0A3,3 0 1,1 0,-3A3,3 0 0,1 3,0Z\" style=\"opacity: 1; stroke-width: 0px; fill: rgb(99, 110, 250); fill-opacity: 1;\"/><path class=\"point\" transform=\"translate(52.99,25.34)\" d=\"M3,0A3,3 0 1,1 0,-3A3,3 0 0,1 3,0Z\" style=\"opacity: 1; stroke-width: 0px; fill: rgb(99, 110, 250); fill-opacity: 1;\"/><path class=\"point\" transform=\"translate(53.54,25.34)\" d=\"M3,0A3,3 0 1,1 0,-3A3,3 0 0,1 3,0Z\" style=\"opacity: 1; stroke-width: 0px; fill: rgb(99, 110, 250); fill-opacity: 1;\"/><path class=\"point\" transform=\"translate(53.55,25.34)\" d=\"M3,0A3,3 0 1,1 0,-3A3,3 0 0,1 3,0Z\" style=\"opacity: 1; stroke-width: 0px; fill: rgb(99, 110, 250); fill-opacity: 1;\"/><path class=\"point\" transform=\"translate(53.6,25.34)\" d=\"M3,0A3,3 0 1,1 0,-3A3,3 0 0,1 3,0Z\" style=\"opacity: 1; stroke-width: 0px; fill: rgb(99, 110, 250); fill-opacity: 1;\"/><path class=\"point\" transform=\"translate(53.76,25.34)\" d=\"M3,0A3,3 0 1,1 0,-3A3,3 0 0,1 3,0Z\" style=\"opacity: 1; stroke-width: 0px; fill: rgb(99, 110, 250); fill-opacity: 1;\"/><path class=\"point\" transform=\"translate(53.89,25.34)\" d=\"M3,0A3,3 0 1,1 0,-3A3,3 0 0,1 3,0Z\" style=\"opacity: 1; stroke-width: 0px; fill: rgb(99, 110, 250); fill-opacity: 1;\"/><path class=\"point\" transform=\"translate(54,25.34)\" d=\"M3,0A3,3 0 1,1 0,-3A3,3 0 0,1 3,0Z\" style=\"opacity: 1; stroke-width: 0px; fill: rgb(99, 110, 250); fill-opacity: 1;\"/><path class=\"point\" transform=\"translate(55.16,25.34)\" d=\"M3,0A3,3 0 1,1 0,-3A3,3 0 0,1 3,0Z\" style=\"opacity: 1; stroke-width: 0px; fill: rgb(99, 110, 250); fill-opacity: 1;\"/><path class=\"point\" transform=\"translate(55.65,25.34)\" d=\"M3,0A3,3 0 1,1 0,-3A3,3 0 0,1 3,0Z\" style=\"opacity: 1; stroke-width: 0px; fill: rgb(99, 110, 250); fill-opacity: 1;\"/><path class=\"point\" transform=\"translate(56.53,25.34)\" d=\"M3,0A3,3 0 1,1 0,-3A3,3 0 0,1 3,0Z\" style=\"opacity: 1; stroke-width: 0px; fill: rgb(99, 110, 250); fill-opacity: 1;\"/><path class=\"point\" transform=\"translate(57.34,25.34)\" d=\"M3,0A3,3 0 1,1 0,-3A3,3 0 0,1 3,0Z\" style=\"opacity: 1; stroke-width: 0px; fill: rgb(99, 110, 250); fill-opacity: 1;\"/><path class=\"point\" transform=\"translate(59.61,25.34)\" d=\"M3,0A3,3 0 1,1 0,-3A3,3 0 0,1 3,0Z\" style=\"opacity: 1; stroke-width: 0px; fill: rgb(99, 110, 250); fill-opacity: 1;\"/><path class=\"point\" transform=\"translate(59.83,25.34)\" d=\"M3,0A3,3 0 1,1 0,-3A3,3 0 0,1 3,0Z\" style=\"opacity: 1; stroke-width: 0px; fill: rgb(99, 110, 250); fill-opacity: 1;\"/><path class=\"point\" transform=\"translate(59.89,25.34)\" d=\"M3,0A3,3 0 1,1 0,-3A3,3 0 0,1 3,0Z\" style=\"opacity: 1; stroke-width: 0px; fill: rgb(99, 110, 250); fill-opacity: 1;\"/><path class=\"point\" transform=\"translate(60.15,25.34)\" d=\"M3,0A3,3 0 1,1 0,-3A3,3 0 0,1 3,0Z\" style=\"opacity: 1; stroke-width: 0px; fill: rgb(99, 110, 250); fill-opacity: 1;\"/><path class=\"point\" transform=\"translate(60.79,25.34)\" d=\"M3,0A3,3 0 1,1 0,-3A3,3 0 0,1 3,0Z\" style=\"opacity: 1; stroke-width: 0px; fill: rgb(99, 110, 250); fill-opacity: 1;\"/><path class=\"point\" transform=\"translate(62.49,25.34)\" d=\"M3,0A3,3 0 1,1 0,-3A3,3 0 0,1 3,0Z\" style=\"opacity: 1; stroke-width: 0px; fill: rgb(99, 110, 250); fill-opacity: 1;\"/><path class=\"point\" transform=\"translate(63.07,25.34)\" d=\"M3,0A3,3 0 1,1 0,-3A3,3 0 0,1 3,0Z\" style=\"opacity: 1; stroke-width: 0px; fill: rgb(99, 110, 250); fill-opacity: 1;\"/><path class=\"point\" transform=\"translate(63.78,25.34)\" d=\"M3,0A3,3 0 1,1 0,-3A3,3 0 0,1 3,0Z\" style=\"opacity: 1; stroke-width: 0px; fill: rgb(99, 110, 250); fill-opacity: 1;\"/><path class=\"point\" transform=\"translate(64.48,25.34)\" d=\"M3,0A3,3 0 1,1 0,-3A3,3 0 0,1 3,0Z\" style=\"opacity: 1; stroke-width: 0px; fill: rgb(99, 110, 250); fill-opacity: 1;\"/><path class=\"point\" transform=\"translate(65.6,25.34)\" d=\"M3,0A3,3 0 1,1 0,-3A3,3 0 0,1 3,0Z\" style=\"opacity: 1; stroke-width: 0px; fill: rgb(99, 110, 250); fill-opacity: 1;\"/><path class=\"point\" transform=\"translate(65.81,25.34)\" d=\"M3,0A3,3 0 1,1 0,-3A3,3 0 0,1 3,0Z\" style=\"opacity: 1; stroke-width: 0px; fill: rgb(99, 110, 250); fill-opacity: 1;\"/><path class=\"point\" transform=\"translate(69.33,25.34)\" d=\"M3,0A3,3 0 1,1 0,-3A3,3 0 0,1 3,0Z\" style=\"opacity: 1; stroke-width: 0px; fill: rgb(99, 110, 250); fill-opacity: 1;\"/><path class=\"point\" transform=\"translate(71.15,25.34)\" d=\"M3,0A3,3 0 1,1 0,-3A3,3 0 0,1 3,0Z\" style=\"opacity: 1; stroke-width: 0px; fill: rgb(99, 110, 250); fill-opacity: 1;\"/><path class=\"point\" transform=\"translate(71.26,25.34)\" d=\"M3,0A3,3 0 1,1 0,-3A3,3 0 0,1 3,0Z\" style=\"opacity: 1; stroke-width: 0px; fill: rgb(99, 110, 250); fill-opacity: 1;\"/><path class=\"point\" transform=\"translate(71.88,25.34)\" d=\"M3,0A3,3 0 1,1 0,-3A3,3 0 0,1 3,0Z\" style=\"opacity: 1; stroke-width: 0px; fill: rgb(99, 110, 250); fill-opacity: 1;\"/><path class=\"point\" transform=\"translate(74.37,25.34)\" d=\"M3,0A3,3 0 1,1 0,-3A3,3 0 0,1 3,0Z\" style=\"opacity: 1; stroke-width: 0px; fill: rgb(99, 110, 250); fill-opacity: 1;\"/><path class=\"point\" transform=\"translate(74.56,25.34)\" d=\"M3,0A3,3 0 1,1 0,-3A3,3 0 0,1 3,0Z\" style=\"opacity: 1; stroke-width: 0px; fill: rgb(99, 110, 250); fill-opacity: 1;\"/><path class=\"point\" transform=\"translate(76.6,25.34)\" d=\"M3,0A3,3 0 1,1 0,-3A3,3 0 0,1 3,0Z\" style=\"opacity: 1; stroke-width: 0px; fill: rgb(99, 110, 250); fill-opacity: 1;\"/><path class=\"point\" transform=\"translate(77.51,25.34)\" d=\"M3,0A3,3 0 1,1 0,-3A3,3 0 0,1 3,0Z\" style=\"opacity: 1; stroke-width: 0px; fill: rgb(99, 110, 250); fill-opacity: 1;\"/><path class=\"point\" transform=\"translate(77.58,25.34)\" d=\"M3,0A3,3 0 1,1 0,-3A3,3 0 0,1 3,0Z\" style=\"opacity: 1; stroke-width: 0px; fill: rgb(99, 110, 250); fill-opacity: 1;\"/><path class=\"point\" transform=\"translate(77.61,25.34)\" d=\"M3,0A3,3 0 1,1 0,-3A3,3 0 0,1 3,0Z\" style=\"opacity: 1; stroke-width: 0px; fill: rgb(99, 110, 250); fill-opacity: 1;\"/><path class=\"point\" transform=\"translate(78.06,25.34)\" d=\"M3,0A3,3 0 1,1 0,-3A3,3 0 0,1 3,0Z\" style=\"opacity: 1; stroke-width: 0px; fill: rgb(99, 110, 250); fill-opacity: 1;\"/><path class=\"point\" transform=\"translate(79.92,25.34)\" d=\"M3,0A3,3 0 1,1 0,-3A3,3 0 0,1 3,0Z\" style=\"opacity: 1; stroke-width: 0px; fill: rgb(99, 110, 250); fill-opacity: 1;\"/><path class=\"point\" transform=\"translate(89.03,25.34)\" d=\"M3,0A3,3 0 1,1 0,-3A3,3 0 0,1 3,0Z\" style=\"opacity: 1; stroke-width: 0px; fill: rgb(99, 110, 250); fill-opacity: 1;\"/><path class=\"point\" transform=\"translate(89.65,25.34)\" d=\"M3,0A3,3 0 1,1 0,-3A3,3 0 0,1 3,0Z\" style=\"opacity: 1; stroke-width: 0px; fill: rgb(99, 110, 250); fill-opacity: 1;\"/><path class=\"point\" transform=\"translate(90.96,25.34)\" d=\"M3,0A3,3 0 1,1 0,-3A3,3 0 0,1 3,0Z\" style=\"opacity: 1; stroke-width: 0px; fill: rgb(99, 110, 250); fill-opacity: 1;\"/><path class=\"point\" transform=\"translate(97.46,25.34)\" d=\"M3,0A3,3 0 1,1 0,-3A3,3 0 0,1 3,0Z\" style=\"opacity: 1; stroke-width: 0px; fill: rgb(99, 110, 250); fill-opacity: 1;\"/><path class=\"point\" transform=\"translate(100.6,25.34)\" d=\"M3,0A3,3 0 1,1 0,-3A3,3 0 0,1 3,0Z\" style=\"opacity: 1; stroke-width: 0px; fill: rgb(99, 110, 250); fill-opacity: 1;\"/><path class=\"point\" transform=\"translate(100.67,25.34)\" d=\"M3,0A3,3 0 1,1 0,-3A3,3 0 0,1 3,0Z\" style=\"opacity: 1; stroke-width: 0px; fill: rgb(99, 110, 250); fill-opacity: 1;\"/><path class=\"point\" transform=\"translate(101.6,25.34)\" d=\"M3,0A3,3 0 1,1 0,-3A3,3 0 0,1 3,0Z\" style=\"opacity: 1; stroke-width: 0px; fill: rgb(99, 110, 250); fill-opacity: 1;\"/><path class=\"point\" transform=\"translate(115.76,25.34)\" d=\"M3,0A3,3 0 1,1 0,-3A3,3 0 0,1 3,0Z\" style=\"opacity: 1; stroke-width: 0px; fill: rgb(99, 110, 250); fill-opacity: 1;\"/><path class=\"point\" transform=\"translate(126.59,25.34)\" d=\"M3,0A3,3 0 1,1 0,-3A3,3 0 0,1 3,0Z\" style=\"opacity: 1; stroke-width: 0px; fill: rgb(99, 110, 250); fill-opacity: 1;\"/><path class=\"point\" transform=\"translate(135.47,25.34)\" d=\"M3,0A3,3 0 1,1 0,-3A3,3 0 0,1 3,0Z\" style=\"opacity: 1; stroke-width: 0px; fill: rgb(99, 110, 250); fill-opacity: 1;\"/><path class=\"point\" transform=\"translate(137.94,25.34)\" d=\"M3,0A3,3 0 1,1 0,-3A3,3 0 0,1 3,0Z\" style=\"opacity: 1; stroke-width: 0px; fill: rgb(99, 110, 250); fill-opacity: 1;\"/><path class=\"point\" transform=\"translate(146.31,25.34)\" d=\"M3,0A3,3 0 1,1 0,-3A3,3 0 0,1 3,0Z\" style=\"opacity: 1; stroke-width: 0px; fill: rgb(99, 110, 250); fill-opacity: 1;\"/><path class=\"point\" transform=\"translate(155.63,25.34)\" d=\"M3,0A3,3 0 1,1 0,-3A3,3 0 0,1 3,0Z\" style=\"opacity: 1; stroke-width: 0px; fill: rgb(99, 110, 250); fill-opacity: 1;\"/><path class=\"point\" transform=\"translate(168.55,25.34)\" d=\"M3,0A3,3 0 1,1 0,-3A3,3 0 0,1 3,0Z\" style=\"opacity: 1; stroke-width: 0px; fill: rgb(99, 110, 250); fill-opacity: 1;\"/><path class=\"point\" transform=\"translate(186.32,25.34)\" d=\"M3,0A3,3 0 1,1 0,-3A3,3 0 0,1 3,0Z\" style=\"opacity: 1; stroke-width: 0px; fill: rgb(99, 110, 250); fill-opacity: 1;\"/><path class=\"point\" transform=\"translate(226.93,25.34)\" d=\"M3,0A3,3 0 1,1 0,-3A3,3 0 0,1 3,0Z\" style=\"opacity: 1; stroke-width: 0px; fill: rgb(99, 110, 250); fill-opacity: 1;\"/><path class=\"point\" transform=\"translate(235.53,25.34)\" d=\"M3,0A3,3 0 1,1 0,-3A3,3 0 0,1 3,0Z\" style=\"opacity: 1; stroke-width: 0px; fill: rgb(99, 110, 250); fill-opacity: 1;\"/><path class=\"point\" transform=\"translate(254.9,25.34)\" d=\"M3,0A3,3 0 1,1 0,-3A3,3 0 0,1 3,0Z\" style=\"opacity: 1; stroke-width: 0px; fill: rgb(99, 110, 250); fill-opacity: 1;\"/><path class=\"point\" transform=\"translate(256.36,25.34)\" d=\"M3,0A3,3 0 1,1 0,-3A3,3 0 0,1 3,0Z\" style=\"opacity: 1; stroke-width: 0px; fill: rgb(99, 110, 250); fill-opacity: 1;\"/><path class=\"point\" transform=\"translate(294.06,25.34)\" d=\"M3,0A3,3 0 1,1 0,-3A3,3 0 0,1 3,0Z\" style=\"opacity: 1; stroke-width: 0px; fill: rgb(99, 110, 250); fill-opacity: 1;\"/><path class=\"point\" transform=\"translate(354.52,25.34)\" d=\"M3,0A3,3 0 1,1 0,-3A3,3 0 0,1 3,0Z\" style=\"opacity: 1; stroke-width: 0px; fill: rgb(99, 110, 250); fill-opacity: 1;\"/><path class=\"point\" transform=\"translate(365.08,25.34)\" d=\"M3,0A3,3 0 1,1 0,-3A3,3 0 0,1 3,0Z\" style=\"opacity: 1; stroke-width: 0px; fill: rgb(99, 110, 250); fill-opacity: 1;\"/><path class=\"point\" transform=\"translate(386.41,25.34)\" d=\"M3,0A3,3 0 1,1 0,-3A3,3 0 0,1 3,0Z\" style=\"opacity: 1; stroke-width: 0px; fill: rgb(99, 110, 250); fill-opacity: 1;\"/><path class=\"point\" transform=\"translate(703,25.34)\" d=\"M3,0A3,3 0 1,1 0,-3A3,3 0 0,1 3,0Z\" style=\"opacity: 1; stroke-width: 0px; fill: rgb(99, 110, 250); fill-opacity: 1;\"/></g></g></g></g><g class=\"overplot\"/><path class=\"xlines-above crisp\" d=\"M0,0\" style=\"fill: none;\"/><path class=\"ylines-above crisp\" d=\"M0,0\" style=\"fill: none;\"/><g class=\"overlines-above\"/><g class=\"xaxislayer-above\"/><g class=\"yaxislayer-above\"/><g class=\"overaxes-above\"/></g></g><g class=\"polarlayer\"/><g class=\"smithlayer\"/><g class=\"ternarylayer\"/><g class=\"geolayer\"/><g class=\"funnelarealayer\"/><g class=\"pielayer\"/><g class=\"iciclelayer\"/><g class=\"treemaplayer\"/><g class=\"sunburstlayer\"/><g class=\"glimages\"/><defs id=\"topdefs-bb9c21\"><g class=\"clips\"/></defs><g class=\"layer-above\"><g class=\"imagelayer\"/><g class=\"shapelayer\"/></g><g class=\"infolayer\"><g class=\"g-gtitle\"><text class=\"gtitle\" x=\"45\" y=\"50\" text-anchor=\"start\" dy=\"0em\" style=\"font-family: 'Open Sans', verdana, arial, sans-serif; font-size: 17px; fill: rgb(42, 63, 95); opacity: 1; font-weight: normal; white-space: pre;\">Distribution of resolution time</text></g><g class=\"g-xtitle\"><text class=\"xtitle\" x=\"450\" y=\"460.3\" text-anchor=\"middle\" style=\"font-family: 'Open Sans', verdana, arial, sans-serif; font-size: 14px; fill: rgb(42, 63, 95); opacity: 1; font-weight: normal; white-space: pre;\">resolution_time</text></g><g class=\"g-x2title\"/><g class=\"g-ytitle\"><text class=\"ytitle\" transform=\"rotate(-90,31.309375000000003,286.944)\" x=\"31.309375000000003\" y=\"286.944\" text-anchor=\"middle\" style=\"font-family: 'Open Sans', verdana, arial, sans-serif; font-size: 14px; fill: rgb(42, 63, 95); opacity: 1; font-weight: normal; white-space: pre;\">count</text></g><g class=\"g-y2title\"/></g></svg>"
     },
     "metadata": {},
     "output_type": "display_data"
    }
   ],
   "source": [
    "fig = px.histogram(result, x='resolution_time', log_y=True, marginal='box', title='Distribution of resolution time')\n",
    "fig.show()"
   ]
  },
  {
   "cell_type": "code",
   "execution_count": 20,
   "metadata": {},
   "outputs": [
    {
     "data": {
      "text/html": [
       "<div>\n",
       "<style scoped>\n",
       "    .dataframe tbody tr th:only-of-type {\n",
       "        vertical-align: middle;\n",
       "    }\n",
       "\n",
       "    .dataframe tbody tr th {\n",
       "        vertical-align: top;\n",
       "    }\n",
       "\n",
       "    .dataframe thead th {\n",
       "        text-align: right;\n",
       "    }\n",
       "</style>\n",
       "<table border=\"1\" class=\"dataframe\">\n",
       "  <thead>\n",
       "    <tr style=\"text-align: right;\">\n",
       "      <th></th>\n",
       "      <th>response_time</th>\n",
       "      <th>resolution_time</th>\n",
       "    </tr>\n",
       "  </thead>\n",
       "  <tbody>\n",
       "    <tr>\n",
       "      <th>count</th>\n",
       "      <td>736.000000</td>\n",
       "      <td>736.000000</td>\n",
       "    </tr>\n",
       "    <tr>\n",
       "      <th>mean</th>\n",
       "      <td>15.893941</td>\n",
       "      <td>71.104340</td>\n",
       "    </tr>\n",
       "    <tr>\n",
       "      <th>std</th>\n",
       "      <td>204.717685</td>\n",
       "      <td>324.559220</td>\n",
       "    </tr>\n",
       "    <tr>\n",
       "      <th>min</th>\n",
       "      <td>0.000000</td>\n",
       "      <td>0.000000</td>\n",
       "    </tr>\n",
       "    <tr>\n",
       "      <th>25%</th>\n",
       "      <td>0.000000</td>\n",
       "      <td>0.000000</td>\n",
       "    </tr>\n",
       "    <tr>\n",
       "      <th>50%</th>\n",
       "      <td>1.708194</td>\n",
       "      <td>4.345417</td>\n",
       "    </tr>\n",
       "    <tr>\n",
       "      <th>75%</th>\n",
       "      <td>10.396875</td>\n",
       "      <td>28.168056</td>\n",
       "    </tr>\n",
       "    <tr>\n",
       "      <th>max</th>\n",
       "      <td>5540.252222</td>\n",
       "      <td>5540.254722</td>\n",
       "    </tr>\n",
       "  </tbody>\n",
       "</table>\n",
       "</div>"
      ],
      "text/plain": [
       "       response_time  resolution_time\n",
       "count     736.000000       736.000000\n",
       "mean       15.893941        71.104340\n",
       "std       204.717685       324.559220\n",
       "min         0.000000         0.000000\n",
       "25%         0.000000         0.000000\n",
       "50%         1.708194         4.345417\n",
       "75%        10.396875        28.168056\n",
       "max      5540.252222      5540.254722"
      ]
     },
     "execution_count": 20,
     "metadata": {},
     "output_type": "execute_result"
    }
   ],
   "source": [
    "result.describe()"
   ]
  },
  {
   "cell_type": "markdown",
   "metadata": {},
   "source": [
    "## Query Tweets Topics"
   ]
  },
  {
   "cell_type": "code",
   "execution_count": 170,
   "metadata": {},
   "outputs": [],
   "source": [
    "queries = df[df['conversation_id'].isin(conversation_ids)]\n",
    "queries.sort_values('date', ascending=True, inplace=True)\n",
    "queries = queries[(queries['inReplyToTweetId'] == 'nan') & (queries['username'] != company_username)]"
   ]
  },
  {
   "cell_type": "code",
   "execution_count": 171,
   "metadata": {},
   "outputs": [
    {
     "data": {
      "text/plain": [
       "(512, 28)"
      ]
     },
     "execution_count": 171,
     "metadata": {},
     "output_type": "execute_result"
    }
   ],
   "source": [
    "queries.shape"
   ]
  },
  {
   "cell_type": "code",
   "execution_count": 172,
   "metadata": {},
   "outputs": [],
   "source": [
    "processor = Processor('./../../data/config.json')"
   ]
  },
  {
   "cell_type": "code",
   "execution_count": 179,
   "metadata": {},
   "outputs": [],
   "source": [
    "# queries = processor.preprocess_individual(queries)\n",
    "pre_queries, post_queries = processor.preprocess(queries)"
   ]
  },
  {
   "cell_type": "code",
   "execution_count": 182,
   "metadata": {},
   "outputs": [],
   "source": [
    "# Create dictionaries\n",
    "pre_id2word = gensim.corpora.Dictionary(pre_queries['bigram'].values.tolist())\n",
    "post_id2word = gensim.corpora.Dictionary(post_queries['bigram'].values.tolist())"
   ]
  },
  {
   "cell_type": "code",
   "execution_count": 183,
   "metadata": {},
   "outputs": [],
   "source": [
    "pre_corpus = [pre_id2word.doc2bow(text) for text in pre_queries['bigram'].values.tolist()]\n",
    "post_corpus = [post_id2word.doc2bow(text) for text in post_queries['bigram'].values.tolist()]"
   ]
  },
  {
   "cell_type": "code",
   "execution_count": 180,
   "metadata": {},
   "outputs": [
    {
     "data": {
      "text/plain": [
       "(26, 31)"
      ]
     },
     "execution_count": 180,
     "metadata": {},
     "output_type": "execute_result"
    }
   ],
   "source": [
    "pre_queries.shape"
   ]
  },
  {
   "cell_type": "code",
   "execution_count": 181,
   "metadata": {},
   "outputs": [
    {
     "data": {
      "text/plain": [
       "(440, 31)"
      ]
     },
     "execution_count": 181,
     "metadata": {},
     "output_type": "execute_result"
    }
   ],
   "source": [
    "post_queries.shape"
   ]
  },
  {
   "cell_type": "code",
   "execution_count": 194,
   "metadata": {},
   "outputs": [],
   "source": [
    "pre_lda_model = gensim.models.LdaMulticore(corpus=pre_corpus,\n",
    "                                        id2word=pre_id2word,\n",
    "                                        num_topics=3,\n",
    "                                        random_state=100,\n",
    "                                        chunksize=100,\n",
    "                                        passes=10,\n",
    "                                        per_word_topics=True,\n",
    "                                        alpha='symmetric',\n",
    "                                        eta='symmetric')"
   ]
  },
  {
   "cell_type": "code",
   "execution_count": 195,
   "metadata": {},
   "outputs": [
    {
     "name": "stdout",
     "output_type": "stream",
     "text": [
      "Pre-COVID coherence Score:  -14.375755563142514\n"
     ]
    }
   ],
   "source": [
    "pre_coherence_model = gensim.models.CoherenceModel(model=pre_lda_model, \n",
    "                                                    texts=pre_queries['bigram'].values.tolist(), \n",
    "                                                    dictionary=pre_id2word, \n",
    "                                                    coherence='u_mass')\n",
    "pre_coherence_model_score = pre_coherence_model.get_coherence()\n",
    "print('Pre-COVID coherence Score: ', pre_coherence_model_score)"
   ]
  },
  {
   "cell_type": "code",
   "execution_count": 196,
   "metadata": {},
   "outputs": [
    {
     "name": "stderr",
     "output_type": "stream",
     "text": [
      "/Users/pushkar/miniforge3/envs/project/lib/python3.8/site-packages/past/builtins/misc.py:45: DeprecationWarning: the imp module is deprecated in favour of importlib; see the module's documentation for alternative uses\n",
      "  from imp import reload\n",
      "/Users/pushkar/miniforge3/envs/project/lib/python3.8/site-packages/past/builtins/misc.py:45: DeprecationWarning: the imp module is deprecated in favour of importlib; see the module's documentation for alternative uses\n",
      "  from imp import reload\n",
      "/Users/pushkar/miniforge3/envs/project/lib/python3.8/site-packages/past/builtins/misc.py:45: DeprecationWarning: the imp module is deprecated in favour of importlib; see the module's documentation for alternative uses\n",
      "  from imp import reload\n",
      "/Users/pushkar/miniforge3/envs/project/lib/python3.8/site-packages/past/builtins/misc.py:45: DeprecationWarning: the imp module is deprecated in favour of importlib; see the module's documentation for alternative uses\n",
      "  from imp import reload\n",
      "/Users/pushkar/miniforge3/envs/project/lib/python3.8/site-packages/past/builtins/misc.py:45: DeprecationWarning: the imp module is deprecated in favour of importlib; see the module's documentation for alternative uses\n",
      "  from imp import reload\n",
      "/Users/pushkar/miniforge3/envs/project/lib/python3.8/site-packages/past/builtins/misc.py:45: DeprecationWarning: the imp module is deprecated in favour of importlib; see the module's documentation for alternative uses\n",
      "  from imp import reload\n",
      "/Users/pushkar/miniforge3/envs/project/lib/python3.8/site-packages/past/builtins/misc.py:45: DeprecationWarning: the imp module is deprecated in favour of importlib; see the module's documentation for alternative uses\n",
      "  from imp import reload\n",
      "/Users/pushkar/miniforge3/envs/project/lib/python3.8/site-packages/past/builtins/misc.py:45: DeprecationWarning: the imp module is deprecated in favour of importlib; see the module's documentation for alternative uses\n",
      "  from imp import reload\n"
     ]
    },
    {
     "data": {
      "text/html": [
       "\n",
       "<link rel=\"stylesheet\" type=\"text/css\" href=\"https://cdn.jsdelivr.net/gh/bmabey/pyLDAvis@3.3.1/pyLDAvis/js/ldavis.v1.0.0.css\">\n",
       "\n",
       "\n",
       "<div id=\"ldavis_el4047859667992485041864477\"></div>\n",
       "<script type=\"text/javascript\">\n",
       "\n",
       "var ldavis_el4047859667992485041864477_data = {\"mdsDat\": {\"x\": [0.06417980921254657, -0.09837472243553368, 0.03419491322298714], \"y\": [0.06973976019770854, 0.01577389456852369, -0.08551365476623224], \"topics\": [1, 2, 3], \"cluster\": [1, 1, 1], \"Freq\": [41.00225823700944, 39.29217679499385, 19.70556496799671]}, \"tinfo\": {\"Term\": [\"service\", \"customer\", \"rd\", \"class\", \"loan\", \"application\", \"team\", \"id\", \"benny\", \"parts\", \"look\", \"auto\", \"negligence\", \"pissed\", \"spare\", \"true\", \"told\", \"gon\", \"na\", \"thats\", \"platform\", \"nice\", \"suggest\", \"lol\", \"wont\", \"unsubscribed\", \"getting\", \"messages\", \"applications\", \"assured\", \"team\", \"id\", \"upto\", \"details\", \"doesnt\", \"stop\", \"rs\", \"gtgt\", \"asap\", \"company\", \"page\", \"application\", \"talking\", \"issue\", \"conversation\", \"talk\", \"called\", \"tweet\", \"agent\", \"person\", \"submit\", \"quickly\", \"process\", \"collateralfree\", \"complete\", \"cheap\", \"fedup\", \"delet\", \"got\", \"harassing\", \"good\", \"time\", \"lai\", \"loan\", \"business\", \"approved\", \"customer\", \"looking\", \"care\", \"behaviour\", \"reason\", \"know\", \"rejected\", \"gaurav\", \"disbursal\", \"start\", \"let\", \"docs\", \"cheque\", \"dsa\", \"like\", \"sharma\", \"regards\", \"procedure\", \"associate\", \"partner\", \"mib\", \"month\", \"deducted\", \"kindly\", \"retun\", \"account\", \"completed\", \"lendingkarts\", \"disbursed\", \"steps\", \"needs\", \"stopped\", \"thought\", \"exactly\", \"experience\", \"brand\", \"late\", \"costumer\", \"loan\", \"know\", \"approved\", \"business\", \"email\", \"rejected\", \"list\", \"service\", \"rd\", \"class\", \"benny\", \"parts\", \"look\", \"auto\", \"negligence\", \"pissed\", \"spare\", \"true\", \"told\", \"gon\", \"na\", \"thats\", \"platform\", \"nice\", \"suggest\", \"lol\", \"wont\", \"unsubscribed\", \"getting\", \"messages\", \"applications\", \"assured\", \"numbers\", \"everytime\", \"force\", \"whatsapp\", \"work\", \"customer\", \"number\", \"email\", \"happen\", \"request\", \"ill\", \"receiving\", \"guys\", \"rejected\"], \"Freq\": [2.0, 3.0, 1.0, 1.0, 9.0, 3.0, 2.0, 2.0, 1.0, 1.0, 1.0, 1.0, 1.0, 1.0, 1.0, 1.0, 1.0, 1.0, 1.0, 1.0, 1.0, 1.0, 1.0, 1.0, 1.0, 1.0, 1.0, 1.0, 1.0, 1.0, 2.0577783492715476, 2.0566712076881863, 1.4421750792776025, 1.4421087324402468, 1.4421356114153805, 1.4420001958191366, 1.4417291377998542, 1.441656439812256, 1.4400273697750297, 1.4370135221581226, 1.4368992014537558, 2.6913117102941264, 0.8243862764131219, 0.8243813429303443, 0.8243807758633582, 0.8243803789164681, 0.8243705119509126, 0.8243640473872729, 0.824361495585836, 0.8243595108513853, 0.8240187602995301, 0.8240109914818228, 0.8239916544976019, 0.8239550786770085, 0.8239800863310887, 0.8239484439932728, 0.8239927319248752, 0.8239694821784515, 0.8238837416501764, 0.8239327362377622, 1.4462583018166069, 1.4456927092048242, 1.4452290752371144, 3.921249154367469, 1.4514317673427914, 1.4468190176523106, 1.4379836603576794, 0.8333087919034929, 0.8269136372627857, 0.8268953209991396, 0.825634334142491, 0.825543546718041, 0.8254097756160563, 1.4228742268258798, 1.4209410776105382, 1.4198819592036398, 1.4188607712558494, 1.4174999481083095, 1.4151293487556909, 1.4141205506999872, 0.8129508141201114, 0.8129339138725719, 0.8129308163995501, 0.8129278819514243, 0.8129207088560056, 0.8129165245503447, 0.8128030048811805, 0.8127730083003386, 0.8127674654538787, 0.8127663786212395, 0.8127655091551281, 0.8127620856323147, 0.8127380666309884, 0.8126769322950335, 0.8126444903407535, 0.8126346545053686, 0.8117881749043293, 0.8117656231270659, 0.8116583527455771, 0.8116748726016929, 0.8115652111883979, 0.8115470067416912, 0.8115423877029747, 0.8117984454727697, 5.067150247326218, 1.4206766512294213, 1.4185678698595854, 1.4122413083835499, 0.8175773519819134, 0.8155112287931661, 0.8148587488182235, 1.9508667473679804, 1.051177948239728, 1.0509937174668451, 0.600922790360677, 0.6009090003057836, 0.6009051303694302, 0.6008988621626605, 0.600894719695578, 0.600888505994954, 0.6008862167368294, 0.6008133965260094, 0.6008090905404894, 0.6008056021471567, 0.6007960635716376, 0.6007225892870677, 0.6003813263080676, 0.6003490586697402, 0.600301910853603, 0.6002289271243454, 0.5989664012686388, 0.598797541228878, 0.5986955057238965, 0.5986880383819188, 0.5985849672601667, 0.5984319685088406, 0.5977432288502165, 0.5975351243854629, 0.5974834525592223, 0.5973933539001762, 0.5973869221749691, 1.5042708595887813, 0.6072200489060884, 0.6071077662456922, 0.6023423484225008, 0.6017795724668745, 0.6013940504974657, 0.5995422041931168, 0.5991214712535062, 0.5989923461940506], \"Total\": [2.0, 3.0, 1.0, 1.0, 9.0, 3.0, 2.0, 2.0, 1.0, 1.0, 1.0, 1.0, 1.0, 1.0, 1.0, 1.0, 1.0, 1.0, 1.0, 1.0, 1.0, 1.0, 1.0, 1.0, 1.0, 1.0, 1.0, 1.0, 1.0, 1.0, 2.414384187111848, 2.4144589136504173, 1.7966121043031105, 1.7966046186680296, 1.7967245748404648, 1.7966157069328288, 1.796500030688642, 1.796488274611507, 1.7960363149461216, 1.795212017088342, 1.795178192215996, 3.488129109760461, 1.178254899279072, 1.1782531454268053, 1.178254280414908, 1.1782546411662302, 1.1782534774165094, 1.1782511492199248, 1.1782497620489991, 1.1782488186070474, 1.1781664728717778, 1.1781988094388391, 1.178191716803493, 1.1781512364091207, 1.1781916813733808, 1.1781496542914176, 1.1782137615506534, 1.1782062366497714, 1.1781337163587664, 1.1782130780685574, 2.406388464140681, 2.405999017545788, 2.406000345054176, 9.148017760911697, 3.016214356970645, 3.016615647138237, 3.1487135954190713, 1.7882130726275338, 1.788246181420071, 1.7879295964147934, 1.7881235526213817, 2.3978978156846584, 2.239913350603273, 1.7798016385238082, 1.7797629301245983, 1.7797983853979682, 1.779528520914562, 1.7799229872884268, 1.7791605093447842, 1.7791444180437217, 1.169766676586301, 1.1697640823393018, 1.1697669176557561, 1.1697651282179236, 1.1697635510584996, 1.1697629027118925, 1.1697487570082743, 1.1697468077305113, 1.1697431959597477, 1.1697442583953437, 1.169745195206585, 1.169742722833573, 1.1697295359157616, 1.1697199968495295, 1.1697092327689864, 1.169707342642922, 1.1695929342830524, 1.169583296062671, 1.169434587854148, 1.1695602802143998, 1.169410025100285, 1.1694113882306316, 1.1694098935621955, 1.1697796022002165, 9.148017760911697, 2.3978978156846584, 3.016615647138237, 3.016214356970645, 2.236864030220866, 2.239913350603273, 1.7877242737196817, 2.364098200284131, 1.4617331837568328, 1.4618002927123412, 1.010689471389239, 1.0106942700220292, 1.0106957465481692, 1.0106980751404762, 1.0106995050145606, 1.010701838061225, 1.0107024498932402, 1.010728148613746, 1.0107296774368888, 1.0107309445413444, 1.0107341610970901, 1.0107603822135198, 1.0108834819714492, 1.0108951278155869, 1.0109163617451093, 1.0109384716932013, 1.0113801554253965, 1.0114398730372778, 1.0114758252223184, 1.011478349811208, 1.0115146896027556, 1.0115688792806703, 1.0118628510841325, 1.0119356900830447, 1.0119597674606189, 1.011993185067074, 1.0119929505287428, 3.1487135954190713, 1.626819723831483, 2.236864030220866, 1.6202374146116134, 1.6288727187225187, 1.6290075673248379, 1.6296661429669022, 1.6214595396731304, 2.239913350603273], \"Category\": [\"Default\", \"Default\", \"Default\", \"Default\", \"Default\", \"Default\", \"Default\", \"Default\", \"Default\", \"Default\", \"Default\", \"Default\", \"Default\", \"Default\", \"Default\", \"Default\", \"Default\", \"Default\", \"Default\", \"Default\", \"Default\", \"Default\", \"Default\", \"Default\", \"Default\", \"Default\", \"Default\", \"Default\", \"Default\", \"Default\", \"Topic1\", \"Topic1\", \"Topic1\", \"Topic1\", \"Topic1\", \"Topic1\", \"Topic1\", \"Topic1\", \"Topic1\", \"Topic1\", \"Topic1\", \"Topic1\", \"Topic1\", \"Topic1\", \"Topic1\", \"Topic1\", \"Topic1\", \"Topic1\", \"Topic1\", \"Topic1\", \"Topic1\", \"Topic1\", \"Topic1\", \"Topic1\", \"Topic1\", \"Topic1\", \"Topic1\", \"Topic1\", \"Topic1\", \"Topic1\", \"Topic1\", \"Topic1\", \"Topic1\", \"Topic1\", \"Topic1\", \"Topic1\", \"Topic1\", \"Topic1\", \"Topic1\", \"Topic1\", \"Topic1\", \"Topic1\", \"Topic1\", \"Topic2\", \"Topic2\", \"Topic2\", \"Topic2\", \"Topic2\", \"Topic2\", \"Topic2\", \"Topic2\", \"Topic2\", \"Topic2\", \"Topic2\", \"Topic2\", \"Topic2\", \"Topic2\", \"Topic2\", \"Topic2\", \"Topic2\", \"Topic2\", \"Topic2\", \"Topic2\", \"Topic2\", \"Topic2\", \"Topic2\", \"Topic2\", \"Topic2\", \"Topic2\", \"Topic2\", \"Topic2\", \"Topic2\", \"Topic2\", \"Topic2\", \"Topic2\", \"Topic2\", \"Topic2\", \"Topic2\", \"Topic2\", \"Topic2\", \"Topic2\", \"Topic3\", \"Topic3\", \"Topic3\", \"Topic3\", \"Topic3\", \"Topic3\", \"Topic3\", \"Topic3\", \"Topic3\", \"Topic3\", \"Topic3\", \"Topic3\", \"Topic3\", \"Topic3\", \"Topic3\", \"Topic3\", \"Topic3\", \"Topic3\", \"Topic3\", \"Topic3\", \"Topic3\", \"Topic3\", \"Topic3\", \"Topic3\", \"Topic3\", \"Topic3\", \"Topic3\", \"Topic3\", \"Topic3\", \"Topic3\", \"Topic3\", \"Topic3\", \"Topic3\", \"Topic3\", \"Topic3\", \"Topic3\", \"Topic3\", \"Topic3\", \"Topic3\"], \"logprob\": [30.0, 29.0, 28.0, 27.0, 26.0, 25.0, 24.0, 23.0, 22.0, 21.0, 20.0, 19.0, 18.0, 17.0, 16.0, 15.0, 14.0, 13.0, 12.0, 11.0, 10.0, 9.0, 8.0, 7.0, 6.0, 5.0, 4.0, 3.0, 2.0, 1.0, -4.0806, -4.0811, -4.436, -4.4361, -4.4361, -4.4362, -4.4363, -4.4364, -4.4375, -4.4396, -4.4397, -3.8122, -4.9953, -4.9953, -4.9953, -4.9953, -4.9953, -4.9953, -4.9953, -4.9953, -4.9958, -4.9958, -4.9958, -4.9958, -4.9958, -4.9958, -4.9958, -4.9958, -4.9959, -4.9959, -4.4332, -4.4336, -4.4339, -3.4358, -4.4296, -4.4328, -4.4389, -4.9845, -4.9922, -4.9923, -4.9938, -4.9939, -4.9941, -4.4069, -4.4083, -4.409, -4.4097, -4.4107, -4.4124, -4.4131, -4.9667, -4.9667, -4.9667, -4.9667, -4.9667, -4.9667, -4.9669, -4.9669, -4.9669, -4.9669, -4.9669, -4.9669, -4.9669, -4.967, -4.967, -4.9671, -4.9681, -4.9681, -4.9683, -4.9682, -4.9684, -4.9684, -4.9684, -4.9681, -3.1368, -4.4085, -4.4099, -4.4144, -4.961, -4.9635, -4.9643, -3.4012, -4.0196, -4.0197, -4.5788, -4.5788, -4.5788, -4.5788, -4.5788, -4.5788, -4.5788, -4.5789, -4.5789, -4.5789, -4.579, -4.5791, -4.5797, -4.5797, -4.5798, -4.5799, -4.582, -4.5823, -4.5825, -4.5825, -4.5826, -4.5829, -4.5841, -4.5844, -4.5845, -4.5846, -4.5847, -3.6612, -4.5683, -4.5685, -4.5764, -4.5773, -4.578, -4.5811, -4.5818, -4.582], \"loglift\": [30.0, 29.0, 28.0, 27.0, 26.0, 25.0, 24.0, 23.0, 22.0, 21.0, 20.0, 19.0, 18.0, 17.0, 16.0, 15.0, 14.0, 13.0, 12.0, 11.0, 10.0, 9.0, 8.0, 7.0, 6.0, 5.0, 4.0, 3.0, 2.0, 1.0, 0.7317, 0.7312, 0.6718, 0.6718, 0.6717, 0.6717, 0.6715, 0.6715, 0.6706, 0.669, 0.6689, 0.6322, 0.5344, 0.5344, 0.5344, 0.5344, 0.5344, 0.5344, 0.5344, 0.5344, 0.534, 0.534, 0.534, 0.534, 0.534, 0.534, 0.5339, 0.5339, 0.5339, 0.5339, 0.3824, 0.3822, 0.3818, 0.0444, 0.1601, 0.1568, 0.1078, 0.128, 0.1203, 0.1204, 0.1188, -0.1748, -0.1068, 0.7103, 0.709, 0.7082, 0.7077, 0.7065, 0.7052, 0.7045, 0.5703, 0.5702, 0.5702, 0.5702, 0.5702, 0.5702, 0.5701, 0.5701, 0.5701, 0.57, 0.57, 0.57, 0.57, 0.57, 0.5699, 0.5699, 0.569, 0.569, 0.5689, 0.5689, 0.5689, 0.5688, 0.5688, 0.5688, 0.3434, 0.4107, 0.1797, 0.1753, -0.0723, -0.0762, 0.1485, 1.4321, 1.2946, 1.2943, 1.1043, 1.1043, 1.1043, 1.1043, 1.1043, 1.1043, 1.1043, 1.1041, 1.1041, 1.1041, 1.1041, 1.1039, 1.1033, 1.1032, 1.1031, 1.1029, 1.1004, 1.1001, 1.0999, 1.0998, 1.0996, 1.0993, 1.0979, 1.0975, 1.0974, 1.0972, 1.0972, 0.8856, 0.6388, 0.3201, 0.6348, 0.6285, 0.6278, 0.6243, 0.6287, 0.3053]}, \"token.table\": {\"Topic\": [2, 1, 1, 3, 3, 1, 2, 1, 2, 3, 3, 1, 2, 3, 2, 1, 2, 1, 1, 2, 1, 2, 3, 1, 1, 1, 2, 1, 2, 1, 3, 2, 1, 1, 2, 2, 2, 1, 2, 1, 2, 3, 3, 2, 2, 1, 3, 2, 3, 3, 1, 2, 1, 1, 2, 3, 2, 3, 1, 1, 1, 3, 1, 2, 1, 2, 1, 2, 2, 2, 2, 2, 1, 2, 1, 2, 3, 3, 1, 2, 3, 2, 2, 3, 2, 3, 3, 1, 3, 3, 1, 2, 3, 1, 3, 3, 2, 1, 1, 3, 1, 2, 1, 3, 2, 1, 2, 3, 1, 3, 2, 1, 3, 2, 3, 2, 2, 1, 2, 1, 3, 1, 1, 1, 3, 2, 1, 2, 3, 3, 1, 3, 1, 3, 3, 3], \"Freq\": [0.8548888404944379, 0.8487164879719395, 0.8600599076466002, 0.28668663588220006, 0.9886163891428233, 0.331497319172453, 0.331497319172453, 0.5567816149808744, 0.8548736187711753, 0.9885634290282863, 0.9894151622491324, 0.5593061393497977, 0.5593061393497977, 0.989423584897401, 0.8551310600053603, 0.33154142300561046, 0.33154142300561046, 0.8487138117280537, 0.5592071216983593, 0.5592071216983593, 0.8487886036867164, 0.5620628351110786, 0.6840879735661566, 0.8487874638640565, 0.5570372694039236, 0.848758326687837, 0.854898478063236, 0.8487132333165486, 0.8548618886148457, 0.3175900156352287, 0.6351800312704574, 0.8548884947174432, 0.8487478413316664, 0.5566054932784165, 0.5618725859909846, 0.854913316904199, 0.5618220603597135, 0.5565683321767847, 0.5620679186344868, 0.4470544416154168, 0.4470544416154168, 0.4470544416154168, 0.9882050903036484, 0.8550221967325048, 0.855132056794402, 0.8487424206316303, 0.988181578116855, 0.5618603659840506, 0.9886543751850955, 0.9893829860465844, 0.4155605027624245, 0.4155605027624245, 0.8488000861996203, 0.5566415401270857, 0.6167283089910401, 0.6167283089910401, 0.6171934995339616, 0.6171934995339616, 0.8487429129876052, 0.8283429420532995, 0.6138706903874017, 0.6138706903874017, 0.8487140508653295, 0.8548877182537327, 0.4170319491760643, 0.4170319491760643, 0.41562753806566183, 0.41562753806566183, 0.8551321529817506, 0.8549054497600745, 0.5619465989148997, 0.8548713346137311, 0.5593703764615335, 0.5593703764615335, 0.43725319566950177, 0.5465664945868772, 0.9891798838411198, 0.9894174418120405, 0.5592174754268165, 0.5592174754268165, 0.9886519075634683, 0.854884430531544, 0.854885855119497, 0.9893798374387199, 0.8549983252190122, 0.9894137624867972, 0.989222296640078, 0.6146962600409108, 0.6146962600409108, 0.9882762262974449, 0.5570477651388938, 0.8548740925889112, 0.9894188872548015, 0.8487171675522855, 0.9894114785803163, 0.9892336929373661, 0.8548724661705791, 0.8487583011643146, 0.8487531917268589, 0.684119380412421, 0.5592454718993014, 0.5592454718993014, 0.6136226148623556, 0.6136226148623556, 0.8548711584390046, 0.4464458411887546, 0.4464458411887546, 0.4464458411887546, 0.613921510567304, 0.613921510567304, 0.8548870336017009, 0.5566378975327241, 0.8459885463977886, 0.8548732305066108, 0.9894108796368598, 0.5618613929556954, 0.8549146983556819, 0.5566020580479026, 0.855005371029526, 0.8487764870464379, 0.9892015183864817, 0.8487129734623453, 0.8487127875401671, 0.8283685797298294, 0.9893541709757607, 0.8551140956374039, 0.41562776738788476, 0.41562776738788476, 0.9893842263896928, 0.9893857229281087, 0.8487154887666029, 0.9886895174471175, 0.5566031741659065, 0.9881489468071081, 0.9887478952752342, 0.9881491758193802], \"Term\": [\"account\", \"agent\", \"application\", \"application\", \"applications\", \"approved\", \"approved\", \"asap\", \"associate\", \"assured\", \"auto\", \"behaviour\", \"behaviour\", \"benny\", \"brand\", \"business\", \"business\", \"called\", \"care\", \"care\", \"cheap\", \"cheque\", \"class\", \"collateralfree\", \"company\", \"complete\", \"completed\", \"conversation\", \"costumer\", \"customer\", \"customer\", \"deducted\", \"delet\", \"details\", \"disbursal\", \"disbursed\", \"docs\", \"doesnt\", \"dsa\", \"email\", \"email\", \"email\", \"everytime\", \"exactly\", \"experience\", \"fedup\", \"force\", \"gaurav\", \"getting\", \"gon\", \"good\", \"good\", \"got\", \"gtgt\", \"guys\", \"guys\", \"happen\", \"happen\", \"harassing\", \"id\", \"ill\", \"ill\", \"issue\", \"kindly\", \"know\", \"know\", \"lai\", \"lai\", \"late\", \"lendingkarts\", \"let\", \"like\", \"list\", \"list\", \"loan\", \"loan\", \"lol\", \"look\", \"looking\", \"looking\", \"messages\", \"mib\", \"month\", \"na\", \"needs\", \"negligence\", \"nice\", \"number\", \"number\", \"numbers\", \"page\", \"partner\", \"parts\", \"person\", \"pissed\", \"platform\", \"procedure\", \"process\", \"quickly\", \"rd\", \"reason\", \"reason\", \"receiving\", \"receiving\", \"regards\", \"rejected\", \"rejected\", \"rejected\", \"request\", \"request\", \"retun\", \"rs\", \"service\", \"sharma\", \"spare\", \"start\", \"steps\", \"stop\", \"stopped\", \"submit\", \"suggest\", \"talk\", \"talking\", \"team\", \"thats\", \"thought\", \"time\", \"time\", \"told\", \"true\", \"tweet\", \"unsubscribed\", \"upto\", \"whatsapp\", \"wont\", \"work\"]}, \"R\": 30, \"lambda.step\": 0.01, \"plot.opts\": {\"xlab\": \"PC1\", \"ylab\": \"PC2\"}, \"topic.order\": [1, 3, 2]};\n",
       "\n",
       "function LDAvis_load_lib(url, callback){\n",
       "  var s = document.createElement('script');\n",
       "  s.src = url;\n",
       "  s.async = true;\n",
       "  s.onreadystatechange = s.onload = callback;\n",
       "  s.onerror = function(){console.warn(\"failed to load library \" + url);};\n",
       "  document.getElementsByTagName(\"head\")[0].appendChild(s);\n",
       "}\n",
       "\n",
       "if(typeof(LDAvis) !== \"undefined\"){\n",
       "   // already loaded: just create the visualization\n",
       "   !function(LDAvis){\n",
       "       new LDAvis(\"#\" + \"ldavis_el4047859667992485041864477\", ldavis_el4047859667992485041864477_data);\n",
       "   }(LDAvis);\n",
       "}else if(typeof define === \"function\" && define.amd){\n",
       "   // require.js is available: use it to load d3/LDAvis\n",
       "   require.config({paths: {d3: \"https://d3js.org/d3.v5\"}});\n",
       "   require([\"d3\"], function(d3){\n",
       "      window.d3 = d3;\n",
       "      LDAvis_load_lib(\"https://cdn.jsdelivr.net/gh/bmabey/pyLDAvis@3.3.1/pyLDAvis/js/ldavis.v3.0.0.js\", function(){\n",
       "        new LDAvis(\"#\" + \"ldavis_el4047859667992485041864477\", ldavis_el4047859667992485041864477_data);\n",
       "      });\n",
       "    });\n",
       "}else{\n",
       "    // require.js not available: dynamically load d3 & LDAvis\n",
       "    LDAvis_load_lib(\"https://d3js.org/d3.v5.js\", function(){\n",
       "         LDAvis_load_lib(\"https://cdn.jsdelivr.net/gh/bmabey/pyLDAvis@3.3.1/pyLDAvis/js/ldavis.v3.0.0.js\", function(){\n",
       "                 new LDAvis(\"#\" + \"ldavis_el4047859667992485041864477\", ldavis_el4047859667992485041864477_data);\n",
       "            })\n",
       "         });\n",
       "}\n",
       "</script>"
      ],
      "text/plain": [
       "PreparedData(topic_coordinates=              x         y  topics  cluster       Freq\n",
       "topic                                                \n",
       "0      0.064180  0.069740       1        1  41.002258\n",
       "2     -0.098375  0.015774       2        1  39.292177\n",
       "1      0.034195 -0.085514       3        1  19.705565, topic_info=         Term      Freq     Total Category  logprob  loglift\n",
       "49    service  2.000000  2.000000  Default  30.0000  30.0000\n",
       "51   customer  3.000000  3.000000  Default  29.0000  29.0000\n",
       "48         rd  1.000000  1.000000  Default  28.0000  28.0000\n",
       "46      class  1.000000  1.000000  Default  27.0000  27.0000\n",
       "32       loan  9.000000  9.000000  Default  26.0000  26.0000\n",
       "..        ...       ...       ...      ...      ...      ...\n",
       "65    request  0.601780  1.628873   Topic3  -4.5773   0.6285\n",
       "47        ill  0.601394  1.629008   Topic3  -4.5780   0.6278\n",
       "97  receiving  0.599542  1.629666   Topic3  -4.5811   0.6243\n",
       "4        guys  0.599121  1.621460   Topic3  -4.5818   0.6287\n",
       "98   rejected  0.598992  2.239913   Topic3  -4.5820   0.3053\n",
       "\n",
       "[150 rows x 6 columns], token_table=      Topic      Freq          Term\n",
       "term                               \n",
       "130       2  0.854889       account\n",
       "150       1  0.848716         agent\n",
       "67        1  0.860060   application\n",
       "67        3  0.286687   application\n",
       "93        3  0.988616  applications\n",
       "...     ...       ...           ...\n",
       "99        3  0.988690  unsubscribed\n",
       "169       1  0.556603          upto\n",
       "128       3  0.988149      whatsapp\n",
       "100       3  0.988748          wont\n",
       "129       3  0.988149          work\n",
       "\n",
       "[136 rows x 3 columns], R=30, lambda_step=0.01, plot_opts={'xlab': 'PC1', 'ylab': 'PC2'}, topic_order=[1, 3, 2])"
      ]
     },
     "execution_count": 196,
     "metadata": {},
     "output_type": "execute_result"
    }
   ],
   "source": [
    "import pyLDAvis.gensim_models\n",
    "\n",
    "import pyLDAvis\n",
    "# Visualize the topics\n",
    "pyLDAvis.enable_notebook()\n",
    "LDAvis_prepared = pyLDAvis.gensim_models.prepare(pre_lda_model, pre_corpus, pre_id2word)\n",
    "LDAvis_prepared"
   ]
  },
  {
   "cell_type": "code",
   "execution_count": 197,
   "metadata": {},
   "outputs": [],
   "source": [
    "pre_queries_topic_sents_keywords = processor.dominant_topics(ldamodel=pre_lda_model, \n",
    "                                                         corpus=pre_corpus, \n",
    "                                                         texts=pre_queries['bigram'].values.tolist(),\n",
    "                                                         tweets=pre_queries['tweet'].values.tolist())\n",
    "\n",
    "# pre_queries_topic_sents_keywords.dropna(axis=0, inplace=True)"
   ]
  },
  {
   "cell_type": "code",
   "execution_count": 199,
   "metadata": {},
   "outputs": [
    {
     "data": {
      "text/plain": [
       "array(['loan, gaurav, disbursal, know, start, let, approved, docs, cheque, dsa',\n",
       "       'service, customer, rd, class, number, email, happen, request, ill, benny',\n",
       "       'loan, application, team, id, business, approved, good, time, lai, upto'],\n",
       "      dtype=object)"
      ]
     },
     "execution_count": 199,
     "metadata": {},
     "output_type": "execute_result"
    }
   ],
   "source": [
    "pre_queries_topic_sents_keywords['Topic_Keywords'].unique()"
   ]
  },
  {
   "cell_type": "markdown",
   "metadata": {},
   "source": [
    "Pre-COVID Topics that can be found are:\n",
    "1. General asks like website problems, erroneous deductions etc.\n",
    "2. Problems in loan processing\n",
    "3. Undesirable actions complaints"
   ]
  },
  {
   "cell_type": "code",
   "execution_count": 168,
   "metadata": {},
   "outputs": [
    {
     "data": {
      "text/plain": [
       "array(['@Lendingkart not a good brand as I thought, intensionally delaying business loan therefore my project going late too..\\n\\nWorst experience',\n",
       "       '@Lendingkart \\n\\nDear team,\\nQuickly complete the process of my application.\\nDetails are below.\\nLAI102664621',\n",
       "       '@Lendingkart could you please remove my phone number and email id from your list.',\n",
       "       '@Lendingkart\\nDear Lendingkart Team,\\nWe have take a loan from your company.\\xa0\\nWhy are you update my loan status in settlement While I have paid all EMI on time.\\nMy Loan id is LAI-00014964- Balaji Autos.',\n",
       "       'Got this msg from @Lendingkart \\n\\nCongrats! Your Collateral-FREE Business loan of upto Rs.9899543 is approved.\\n\\nSubmit your details &gt;&gt; https://t.co/dBk9Kbrwil\\n\\nHow cheap!',\n",
       "       \"@Lendingkart\\nHi, Ref ID. 05/11/Dxxx62. You're application for Business Loan of upto Rs.8626945 is approved. \\n\\nCheck your LoanAmount &gt;&gt; https://t.co/JpcBPmvfGJ\\n\\nHi team I receiving this fake sms from couple of days...when I clicked on link it's gives your path..please stop asap.\",\n",
       "       '@logico_stupid @Lendingkart @RBI @IncomeTaxIndia Exactly..... This needs to be stopped...'],\n",
       "      dtype=object)"
      ]
     },
     "execution_count": 168,
     "metadata": {},
     "output_type": "execute_result"
    }
   ],
   "source": [
    "# select = pre_queries_topic_sents_keywords['Topic_Keywords'].unique()[2]\n",
    "# pre_queries_topic_sents_keywords[pre_queries_topic_sents_keywords['Topic_Keywords'] == select]['Text'].values"
   ]
  },
  {
   "cell_type": "code",
   "execution_count": 169,
   "metadata": {},
   "outputs": [
    {
     "name": "stderr",
     "output_type": "stream",
     "text": [
      "/Users/pushkar/miniforge3/envs/project/lib/python3.8/site-packages/plotly/io/_renderers.py:395: DeprecationWarning:\n",
      "\n",
      "distutils Version classes are deprecated. Use packaging.version instead.\n",
      "\n",
      "/Users/pushkar/miniforge3/envs/project/lib/python3.8/site-packages/plotly/io/_renderers.py:395: DeprecationWarning:\n",
      "\n",
      "distutils Version classes are deprecated. Use packaging.version instead.\n",
      "\n"
     ]
    },
    {
     "data": {
      "image/svg+xml": "<svg class=\"main-svg\" xmlns=\"http://www.w3.org/2000/svg\" xmlns:xlink=\"http://www.w3.org/1999/xlink\" width=\"900\" height=\"500\" style=\"\" viewBox=\"0 0 900 500\"><rect x=\"0\" y=\"0\" width=\"900\" height=\"500\" style=\"fill: rgb(255, 255, 255); fill-opacity: 1;\"/><defs id=\"defs-297fd1\"><g class=\"clips\"><clipPath id=\"clip297fd1xyplot\" class=\"plotclip\"><rect width=\"740\" height=\"320\"/></clipPath><clipPath class=\"axesclip\" id=\"clip297fd1x\"><rect x=\"80\" y=\"0\" width=\"740\" height=\"500\"/></clipPath><clipPath class=\"axesclip\" id=\"clip297fd1y\"><rect x=\"0\" y=\"100\" width=\"900\" height=\"320\"/></clipPath><clipPath class=\"axesclip\" id=\"clip297fd1xy\"><rect x=\"80\" y=\"100\" width=\"740\" height=\"320\"/></clipPath></g><g class=\"gradients\"/><g class=\"patterns\"/></defs><g class=\"bglayer\"><rect class=\"bg\" x=\"80\" y=\"100\" width=\"740\" height=\"320\" style=\"fill: rgb(229, 236, 246); fill-opacity: 1; stroke-width: 0;\"/></g><g class=\"layer-below\"><g class=\"imagelayer\"/><g class=\"shapelayer\"/></g><g class=\"cartesianlayer\"><g class=\"subplot xy\"><g class=\"layer-subplot\"><g class=\"shapelayer\"/><g class=\"imagelayer\"/></g><g class=\"minor-gridlayer\"><g class=\"x\"/><g class=\"y\"/></g><g class=\"gridlayer\"><g class=\"x\"/><g class=\"y\"><path class=\"ygrid crisp\" transform=\"translate(0,376.57)\" d=\"M80,0h740\" style=\"stroke: rgb(255, 255, 255); stroke-opacity: 1; stroke-width: 1px;\"/><path class=\"ygrid crisp\" transform=\"translate(0,333.14)\" d=\"M80,0h740\" style=\"stroke: rgb(255, 255, 255); stroke-opacity: 1; stroke-width: 1px;\"/><path class=\"ygrid crisp\" transform=\"translate(0,289.71000000000004)\" d=\"M80,0h740\" style=\"stroke: rgb(255, 255, 255); stroke-opacity: 1; stroke-width: 1px;\"/><path class=\"ygrid crisp\" transform=\"translate(0,246.29)\" d=\"M80,0h740\" style=\"stroke: rgb(255, 255, 255); stroke-opacity: 1; stroke-width: 1px;\"/><path class=\"ygrid crisp\" transform=\"translate(0,202.86)\" d=\"M80,0h740\" style=\"stroke: rgb(255, 255, 255); stroke-opacity: 1; stroke-width: 1px;\"/><path class=\"ygrid crisp\" transform=\"translate(0,159.43)\" d=\"M80,0h740\" style=\"stroke: rgb(255, 255, 255); stroke-opacity: 1; stroke-width: 1px;\"/><path class=\"ygrid crisp\" transform=\"translate(0,116)\" d=\"M80,0h740\" style=\"stroke: rgb(255, 255, 255); stroke-opacity: 1; stroke-width: 1px;\"/></g></g><g class=\"zerolinelayer\"><path class=\"yzl zl crisp\" transform=\"translate(0,420)\" d=\"M80,0h740\" style=\"stroke: rgb(255, 255, 255); stroke-opacity: 1; stroke-width: 2px;\"/></g><path class=\"xlines-below\"/><path class=\"ylines-below\"/><g class=\"overlines-below\"/><g class=\"xaxislayer-below\"/><g class=\"yaxislayer-below\"/><g class=\"overaxes-below\"/><g class=\"plot\" transform=\"translate(80,100)\" clip-path=\"url(#clip297fd1xyplot)\"><g class=\"barlayer mlayer\"><g class=\"trace bars\" style=\"opacity: 1;\"><g class=\"points\"><g class=\"point\"><path d=\"M518,320V16H715.33V320Z\" style=\"vector-effect: non-scaling-stroke; opacity: 1; stroke-width: 0.5px; fill: rgb(99, 110, 250); fill-opacity: 1; stroke: rgb(229, 236, 246); stroke-opacity: 1;\"/></g><g class=\"point\"><path d=\"M24.67,320V168H222V320Z\" style=\"vector-effect: non-scaling-stroke; opacity: 1; stroke-width: 0.5px; fill: rgb(99, 110, 250); fill-opacity: 1; stroke: rgb(229, 236, 246); stroke-opacity: 1;\"/></g><g class=\"point\"><path d=\"M271.33,320V211.43H468.67V320Z\" style=\"vector-effect: non-scaling-stroke; opacity: 1; stroke-width: 0.5px; fill: rgb(99, 110, 250); fill-opacity: 1; stroke: rgb(229, 236, 246); stroke-opacity: 1;\"/></g></g></g></g></g><g class=\"overplot\"/><path class=\"xlines-above crisp\" d=\"M0,0\" style=\"fill: none;\"/><path class=\"ylines-above crisp\" d=\"M0,0\" style=\"fill: none;\"/><g class=\"overlines-above\"/><g class=\"xaxislayer-above\"><g class=\"xtick\"><text text-anchor=\"middle\" x=\"0\" y=\"433\" transform=\"translate(80,0)\" style=\"font-family: 'Open Sans', verdana, arial, sans-serif; font-size: 12px; fill: rgb(42, 63, 95); fill-opacity: 1; white-space: pre; opacity: 1;\">−0.5</text></g><g class=\"xtick\"><text text-anchor=\"middle\" x=\"0\" y=\"433\" style=\"font-family: 'Open Sans', verdana, arial, sans-serif; font-size: 12px; fill: rgb(42, 63, 95); fill-opacity: 1; white-space: pre; opacity: 1;\" transform=\"translate(203.32999999999998,0)\">0</text></g><g class=\"xtick\"><text text-anchor=\"middle\" x=\"0\" y=\"433\" style=\"font-family: 'Open Sans', verdana, arial, sans-serif; font-size: 12px; fill: rgb(42, 63, 95); fill-opacity: 1; white-space: pre; opacity: 1;\" transform=\"translate(326.66999999999996,0)\">0.5</text></g><g class=\"xtick\"><text text-anchor=\"middle\" x=\"0\" y=\"433\" style=\"font-family: 'Open Sans', verdana, arial, sans-serif; font-size: 12px; fill: rgb(42, 63, 95); fill-opacity: 1; white-space: pre; opacity: 1;\" transform=\"translate(450,0)\">1</text></g><g class=\"xtick\"><text text-anchor=\"middle\" x=\"0\" y=\"433\" style=\"font-family: 'Open Sans', verdana, arial, sans-serif; font-size: 12px; fill: rgb(42, 63, 95); fill-opacity: 1; white-space: pre; opacity: 1;\" transform=\"translate(573.3299999999999,0)\">1.5</text></g><g class=\"xtick\"><text text-anchor=\"middle\" x=\"0\" y=\"433\" style=\"font-family: 'Open Sans', verdana, arial, sans-serif; font-size: 12px; fill: rgb(42, 63, 95); fill-opacity: 1; white-space: pre; opacity: 1;\" transform=\"translate(696.67,0)\">2</text></g><g class=\"xtick\"><text text-anchor=\"middle\" x=\"0\" y=\"433\" style=\"font-family: 'Open Sans', verdana, arial, sans-serif; font-size: 12px; fill: rgb(42, 63, 95); fill-opacity: 1; white-space: pre; opacity: 1;\" transform=\"translate(820,0)\">2.5</text></g></g><g class=\"yaxislayer-above\"><g class=\"ytick\"><text text-anchor=\"end\" x=\"79\" y=\"4.199999999999999\" transform=\"translate(0,420)\" style=\"font-family: 'Open Sans', verdana, arial, sans-serif; font-size: 12px; fill: rgb(42, 63, 95); fill-opacity: 1; white-space: pre; opacity: 1;\">0</text></g><g class=\"ytick\"><text text-anchor=\"end\" x=\"79\" y=\"4.199999999999999\" style=\"font-family: 'Open Sans', verdana, arial, sans-serif; font-size: 12px; fill: rgb(42, 63, 95); fill-opacity: 1; white-space: pre; opacity: 1;\" transform=\"translate(0,376.57)\">2</text></g><g class=\"ytick\"><text text-anchor=\"end\" x=\"79\" y=\"4.199999999999999\" style=\"font-family: 'Open Sans', verdana, arial, sans-serif; font-size: 12px; fill: rgb(42, 63, 95); fill-opacity: 1; white-space: pre; opacity: 1;\" transform=\"translate(0,333.14)\">4</text></g><g class=\"ytick\"><text text-anchor=\"end\" x=\"79\" y=\"4.199999999999999\" style=\"font-family: 'Open Sans', verdana, arial, sans-serif; font-size: 12px; fill: rgb(42, 63, 95); fill-opacity: 1; white-space: pre; opacity: 1;\" transform=\"translate(0,289.71000000000004)\">6</text></g><g class=\"ytick\"><text text-anchor=\"end\" x=\"79\" y=\"4.199999999999999\" style=\"font-family: 'Open Sans', verdana, arial, sans-serif; font-size: 12px; fill: rgb(42, 63, 95); fill-opacity: 1; white-space: pre; opacity: 1;\" transform=\"translate(0,246.29)\">8</text></g><g class=\"ytick\"><text text-anchor=\"end\" x=\"79\" y=\"4.199999999999999\" style=\"font-family: 'Open Sans', verdana, arial, sans-serif; font-size: 12px; fill: rgb(42, 63, 95); fill-opacity: 1; white-space: pre; opacity: 1;\" transform=\"translate(0,202.86)\">10</text></g><g class=\"ytick\"><text text-anchor=\"end\" x=\"79\" y=\"4.199999999999999\" style=\"font-family: 'Open Sans', verdana, arial, sans-serif; font-size: 12px; fill: rgb(42, 63, 95); fill-opacity: 1; white-space: pre; opacity: 1;\" transform=\"translate(0,159.43)\">12</text></g><g class=\"ytick\"><text text-anchor=\"end\" x=\"79\" y=\"4.199999999999999\" style=\"font-family: 'Open Sans', verdana, arial, sans-serif; font-size: 12px; fill: rgb(42, 63, 95); fill-opacity: 1; white-space: pre; opacity: 1;\" transform=\"translate(0,116)\">14</text></g></g><g class=\"overaxes-above\"/></g></g><g class=\"polarlayer\"/><g class=\"smithlayer\"/><g class=\"ternarylayer\"/><g class=\"geolayer\"/><g class=\"funnelarealayer\"/><g class=\"pielayer\"/><g class=\"iciclelayer\"/><g class=\"treemaplayer\"/><g class=\"sunburstlayer\"/><g class=\"glimages\"/><defs id=\"topdefs-297fd1\"><g class=\"clips\"/></defs><g class=\"layer-above\"><g class=\"imagelayer\"/><g class=\"shapelayer\"/></g><g class=\"infolayer\"><g class=\"g-gtitle\"><text class=\"gtitle\" x=\"45\" y=\"50\" text-anchor=\"start\" dy=\"0em\" style=\"font-family: 'Open Sans', verdana, arial, sans-serif; font-size: 17px; fill: rgb(42, 63, 95); opacity: 1; font-weight: normal; white-space: pre;\">Topics Distribution</text></g><g class=\"g-xtitle\"><text class=\"xtitle\" x=\"450\" y=\"460.3\" text-anchor=\"middle\" style=\"font-family: 'Open Sans', verdana, arial, sans-serif; font-size: 14px; fill: rgb(42, 63, 95); opacity: 1; font-weight: normal; white-space: pre;\">Topic_Numbers</text></g><g class=\"g-ytitle\"><text class=\"ytitle\" transform=\"rotate(-90,38.934375,260)\" x=\"38.934375\" y=\"260\" text-anchor=\"middle\" style=\"font-family: 'Open Sans', verdana, arial, sans-serif; font-size: 14px; fill: rgb(42, 63, 95); opacity: 1; font-weight: normal; white-space: pre;\">Document_Counts</text></g></g></svg>"
     },
     "metadata": {},
     "output_type": "display_data"
    }
   ],
   "source": [
    "pre_queries_dist, fig = processor.plot_topic_distribution(pre_queries_topic_sents_keywords)\n",
    "fig.show()"
   ]
  },
  {
   "cell_type": "code",
   "execution_count": 208,
   "metadata": {},
   "outputs": [
    {
     "name": "stdout",
     "output_type": "stream",
     "text": [
      "Post-COVID coherence Score:  -4.090643576540043\n"
     ]
    }
   ],
   "source": [
    "post_lda_model = gensim.models.LdaMulticore(corpus=post_corpus,\n",
    "                                        id2word=post_id2word,\n",
    "                                        num_topics=2,\n",
    "                                        random_state=100,\n",
    "                                        chunksize=100,\n",
    "                                        passes=10,\n",
    "                                        per_word_topics=True,\n",
    "                                        alpha='symmetric',\n",
    "                                        eta='symmetric')\n",
    "post_coherence_model = gensim.models.CoherenceModel(model=post_lda_model, \n",
    "                                                    texts=post_queries['bigram'].values.tolist(), \n",
    "                                                    dictionary=post_id2word, \n",
    "                                                    coherence='u_mass')\n",
    "post_coherence_model_score = post_coherence_model.get_coherence()\n",
    "print('Post-COVID coherence Score: ', post_coherence_model_score)\n"
   ]
  },
  {
   "cell_type": "code",
   "execution_count": 209,
   "metadata": {},
   "outputs": [
    {
     "name": "stderr",
     "output_type": "stream",
     "text": [
      "/Users/pushkar/miniforge3/envs/project/lib/python3.8/site-packages/past/builtins/misc.py:45: DeprecationWarning: the imp module is deprecated in favour of importlib; see the module's documentation for alternative uses\n",
      "  from imp import reload\n",
      "/Users/pushkar/miniforge3/envs/project/lib/python3.8/site-packages/past/builtins/misc.py:45: DeprecationWarning: the imp module is deprecated in favour of importlib; see the module's documentation for alternative uses\n",
      "  from imp import reload\n",
      "/Users/pushkar/miniforge3/envs/project/lib/python3.8/site-packages/past/builtins/misc.py:45: DeprecationWarning: the imp module is deprecated in favour of importlib; see the module's documentation for alternative uses\n",
      "  from imp import reload\n",
      "/Users/pushkar/miniforge3/envs/project/lib/python3.8/site-packages/past/builtins/misc.py:45: DeprecationWarning: the imp module is deprecated in favour of importlib; see the module's documentation for alternative uses\n",
      "  from imp import reload\n",
      "/Users/pushkar/miniforge3/envs/project/lib/python3.8/site-packages/past/builtins/misc.py:45: DeprecationWarning: the imp module is deprecated in favour of importlib; see the module's documentation for alternative uses\n",
      "  from imp import reload\n",
      "/Users/pushkar/miniforge3/envs/project/lib/python3.8/site-packages/past/builtins/misc.py:45: DeprecationWarning: the imp module is deprecated in favour of importlib; see the module's documentation for alternative uses\n",
      "  from imp import reload\n",
      "/Users/pushkar/miniforge3/envs/project/lib/python3.8/site-packages/past/builtins/misc.py:45: DeprecationWarning: the imp module is deprecated in favour of importlib; see the module's documentation for alternative uses\n",
      "  from imp import reload\n",
      "/Users/pushkar/miniforge3/envs/project/lib/python3.8/site-packages/past/builtins/misc.py:45: DeprecationWarning: the imp module is deprecated in favour of importlib; see the module's documentation for alternative uses\n",
      "  from imp import reload\n"
     ]
    },
    {
     "data": {
      "text/html": [
       "\n",
       "<link rel=\"stylesheet\" type=\"text/css\" href=\"https://cdn.jsdelivr.net/gh/bmabey/pyLDAvis@3.3.1/pyLDAvis/js/ldavis.v1.0.0.css\">\n",
       "\n",
       "\n",
       "<div id=\"ldavis_el4047859677922722819242261\"></div>\n",
       "<script type=\"text/javascript\">\n",
       "\n",
       "var ldavis_el4047859677922722819242261_data = {\"mdsDat\": {\"x\": [0.06258154501240014, -0.06258154501240014], \"y\": [0.0, 0.0], \"topics\": [1, 2], \"cluster\": [1, 1], \"Freq\": [51.37235186480622, 48.62764813519378]}, \"tinfo\": {\"Term\": [\"business\", \"account\", \"cheque\", \"reply\", \"apply\", \"charges\", \"update\", \"date_present\", \"village_want\", \"gave_emi\", \"corona_pandemic\", \"prove_sending\", \"emi\", \"bounced\", \"harassment\", \"december\", \"pay_emi\", \"loan_restructuring\", \"time\", \"fund\", \"response\", \"covid\", \"phone_number\", \"extend\", \"lai\", \"restructuring\", \"information\", \"deducted\", \"rs\", \"damage\", \"apply\", \"update\", \"date_present\", \"village_want\", \"gave_emi\", \"corona_pandemic\", \"prove_sending\", \"phone_number\", \"damage\", \"stranger_strangers\", \"bussiness_stopped\", \"responding\", \"emi_date\", \"business\", \"hey\", \"bt\", \"aug\", \"available\", \"extend\", \"tried\", \"period\", \"extended\", \"respond\", \"statement\", \"solution\", \"avail\", \"but\", \"talk\", \"lakhs\", \"collecting\", \"documents\", \"account\", \"application\", \"pay_emi\", \"deducted\", \"received\", \"response\", \"april\", \"emi\", \"team\", \"number\", \"moratorium\", \"loan\", \"rbi\", \"customer_care\", \"contact\", \"month\", \"till\", \"kindly\", \"customers\", \"request\", \"company\", \"th\", \"money\", \"mail\", \"bank\", \"days\", \"lockdown\", \"dont\", \"service\", \"plz\", \"paid\", \"customer\", \"time\", \"harassment\", \"cheque\", \"data_sent\", \"releaf\", \"justice\", \"banks_nbfcs\", \"things\", \"plan\", \"years\", \"fund\", \"bounced\", \"rs\", \"sector\", \"come\", \"december\", \"resolution\", \"recived\", \"monetorium\", \"register\", \"unnecessary\", \"upto\", \"close\", \"despite\", \"life\", \"ppl\", \"mental\", \"submitted\", \"education\", \"advance\", \"hve\", \"information\", \"loan_restructuring\", \"charges\", \"tweet\", \"restructuring\", \"penalty\", \"reply\", \"covid\", \"lai\", \"till_st\", \"time\", \"lending_kart\", \"pay\", \"got\", \"help\", \"times\", \"tell\", \"mail\", \"loan\", \"ecs\", \"moratorium\", \"emi\", \"dont\", \"months\", \"service\", \"bank\", \"ur\", \"days\", \"want\", \"company\", \"customer\", \"people\", \"request\", \"mails\", \"day\", \"month\", \"rbi\"], \"Freq\": [31.0, 36.0, 13.0, 28.0, 9.0, 16.0, 9.0, 9.0, 9.0, 9.0, 9.0, 9.0, 106.0, 9.0, 7.0, 9.0, 25.0, 11.0, 41.0, 8.0, 26.0, 14.0, 7.0, 9.0, 17.0, 11.0, 9.0, 16.0, 6.0, 6.0, 9.538109993758733, 8.766133217010628, 8.727430560079126, 8.725955978868928, 8.712262190120466, 8.706347108675011, 8.69698672360158, 7.21426107498989, 6.4769813981111986, 6.4516577971797355, 6.441325529035946, 5.706107643078627, 5.6719354620639315, 28.897225180841406, 4.928825215311121, 4.208969857362126, 4.200942715181313, 4.194885202596238, 8.389406859726126, 4.1930182982725555, 6.9791418695062895, 4.172238651396431, 4.166403345960125, 6.233745439039248, 4.1546362024737045, 6.884708931115243, 3.43990836555108, 4.12577877932877, 3.4370247724532716, 3.4335630764946465, 6.842987899700613, 30.73381024975909, 9.763508911442697, 20.012201668114457, 13.69138745415881, 12.513911044278592, 20.245469633056995, 10.13781357507962, 70.31585962227334, 16.925330556418928, 11.08476136060542, 62.23897218205762, 60.56417431678929, 23.088906620616754, 15.11394304962373, 12.562900070828073, 19.09188814142385, 17.31313230083655, 14.981765494958992, 14.07745962555617, 17.617796515500928, 18.053777141060056, 14.444688630737835, 15.22477560414203, 22.10261578444218, 17.286060913184105, 16.120923192718863, 12.182231540159982, 16.13916894955098, 14.921129899621848, 12.16375556215078, 11.201688947932276, 11.987414154530999, 13.108406235741915, 7.25246749512817, 12.316437122147978, 4.957278676716489, 4.952617167181973, 4.949462484828894, 4.93789991369043, 4.9361972334565785, 5.63504781886776, 4.928901362442391, 7.73474667159672, 8.42163849721235, 6.29763076359917, 4.193350397652879, 6.285623040540515, 8.3606378572426, 4.178726932947, 4.172002759751306, 4.137077471066347, 3.442039813566452, 3.439313042547963, 3.4367635047494423, 3.4366221319475225, 3.4312882395746094, 3.4299148545257174, 3.4255260910553935, 3.4241496027010934, 3.4225924330097057, 3.412284631691206, 3.4113808801940566, 3.3975973768186067, 8.046950229615437, 9.982736283623124, 13.565654094302465, 7.226126638825138, 9.641014084563592, 8.405924048249705, 21.857726142614055, 11.806060618515474, 13.671440948296922, 8.623794018099725, 28.41192785299459, 5.7354849191505535, 16.731664201744305, 15.023217336821556, 14.480036826156311, 16.9333776740169, 8.199414934686631, 26.336627532194974, 43.232547620313994, 15.68684609547546, 40.01953415953929, 35.78587527275372, 16.153150145327096, 11.685434447683424, 14.29556531873052, 15.00603467958922, 11.656103384213937, 13.09554332315036, 11.261796709451128, 12.70028289919216, 11.078216885112564, 9.445983752892964, 11.598459141448785, 9.405312521839253, 9.530390211873211, 10.124083569476044, 9.971090612862067], \"Total\": [31.0, 36.0, 13.0, 28.0, 9.0, 16.0, 9.0, 9.0, 9.0, 9.0, 9.0, 9.0, 106.0, 9.0, 7.0, 9.0, 25.0, 11.0, 41.0, 8.0, 26.0, 14.0, 7.0, 9.0, 17.0, 11.0, 9.0, 16.0, 6.0, 6.0, 9.99420895308058, 9.225401814893562, 9.225406901823257, 9.225403287376446, 9.225403307856851, 9.225407393563962, 9.225399552062402, 7.687772767158905, 6.918987902763645, 6.918962102706415, 6.918964229484413, 6.150142631931299, 6.150155515058829, 31.521133521058992, 5.381326366128506, 4.612559811644158, 4.612550791709779, 4.612544078148328, 9.22530699781187, 4.612547389449063, 7.687721877690556, 4.612526226563098, 4.612527936888975, 6.918907947716276, 4.612494304947242, 7.6876123124212405, 3.84374968757116, 4.612528008628748, 3.8437451429641514, 3.843718116468749, 7.687678322760349, 36.903325532141594, 11.531854053291935, 25.3710356514034, 16.913774276512495, 15.376065312843355, 26.1399872307689, 12.300695381103573, 106.10173489502705, 22.29579676281216, 13.838446312462228, 102.25850634159691, 103.79672193710329, 33.059997233478825, 19.989250672481823, 16.91394251910605, 29.215971710899893, 26.140415571525665, 21.527186230281764, 20.758405156163043, 29.216255656949713, 30.754060040252217, 22.296234063163414, 24.60294868575326, 48.43924331663715, 32.29209559277332, 29.21646651586922, 17.682938647162644, 32.29231909487808, 29.216695218352367, 20.758759871168856, 17.683123663482807, 23.065631039643563, 41.520334088736504, 7.689091109856926, 13.07160921006484, 5.382238647313158, 5.3822326052166325, 5.382223884320217, 5.382225373905159, 5.382207961864571, 6.1510791161823, 5.382188919630083, 8.457853220658283, 9.22679271371039, 6.92001955469964, 4.6132790610972245, 6.920015889839506, 9.226816531588131, 4.6132727742320006, 4.61327469304052, 4.613232466109313, 3.8443429877566606, 3.84433611420077, 3.844330984858421, 3.844327626373698, 3.844325794886229, 3.844328409392394, 3.844329102261062, 3.8443169566933593, 3.844323387674433, 3.8443023202479267, 3.8442879437568784, 3.8442998160456496, 9.226588423633977, 11.533442384523841, 16.146894296067934, 8.457723056884348, 11.533282443592967, 9.995483069112856, 28.449357686914226, 14.608945712109746, 17.684472548887825, 10.764323314092373, 41.520334088736504, 6.919724986792719, 25.373140665391027, 22.297597466596205, 21.528655949876704, 26.91081232878674, 10.764193958016417, 48.43924331663715, 103.79672193710329, 26.910562693057116, 102.25850634159691, 106.10173489502705, 32.29231909487808, 20.759316551712175, 29.216695218352367, 32.29209559277332, 20.759326303004702, 29.21646651586922, 22.296880565619894, 30.754060040252217, 23.065631039643563, 14.608448128367272, 29.216255656949713, 15.37723965578515, 17.683703068853262, 29.215971710899893, 33.059997233478825], \"Category\": [\"Default\", \"Default\", \"Default\", \"Default\", \"Default\", \"Default\", \"Default\", \"Default\", \"Default\", \"Default\", \"Default\", \"Default\", \"Default\", \"Default\", \"Default\", \"Default\", \"Default\", \"Default\", \"Default\", \"Default\", \"Default\", \"Default\", \"Default\", \"Default\", \"Default\", \"Default\", \"Default\", \"Default\", \"Default\", \"Default\", \"Topic1\", \"Topic1\", \"Topic1\", \"Topic1\", \"Topic1\", \"Topic1\", \"Topic1\", \"Topic1\", \"Topic1\", \"Topic1\", \"Topic1\", \"Topic1\", \"Topic1\", \"Topic1\", \"Topic1\", \"Topic1\", \"Topic1\", \"Topic1\", \"Topic1\", \"Topic1\", \"Topic1\", \"Topic1\", \"Topic1\", \"Topic1\", \"Topic1\", \"Topic1\", \"Topic1\", \"Topic1\", \"Topic1\", \"Topic1\", \"Topic1\", \"Topic1\", \"Topic1\", \"Topic1\", \"Topic1\", \"Topic1\", \"Topic1\", \"Topic1\", \"Topic1\", \"Topic1\", \"Topic1\", \"Topic1\", \"Topic1\", \"Topic1\", \"Topic1\", \"Topic1\", \"Topic1\", \"Topic1\", \"Topic1\", \"Topic1\", \"Topic1\", \"Topic1\", \"Topic1\", \"Topic1\", \"Topic1\", \"Topic1\", \"Topic1\", \"Topic1\", \"Topic1\", \"Topic1\", \"Topic1\", \"Topic1\", \"Topic1\", \"Topic1\", \"Topic2\", \"Topic2\", \"Topic2\", \"Topic2\", \"Topic2\", \"Topic2\", \"Topic2\", \"Topic2\", \"Topic2\", \"Topic2\", \"Topic2\", \"Topic2\", \"Topic2\", \"Topic2\", \"Topic2\", \"Topic2\", \"Topic2\", \"Topic2\", \"Topic2\", \"Topic2\", \"Topic2\", \"Topic2\", \"Topic2\", \"Topic2\", \"Topic2\", \"Topic2\", \"Topic2\", \"Topic2\", \"Topic2\", \"Topic2\", \"Topic2\", \"Topic2\", \"Topic2\", \"Topic2\", \"Topic2\", \"Topic2\", \"Topic2\", \"Topic2\", \"Topic2\", \"Topic2\", \"Topic2\", \"Topic2\", \"Topic2\", \"Topic2\", \"Topic2\", \"Topic2\", \"Topic2\", \"Topic2\", \"Topic2\", \"Topic2\", \"Topic2\", \"Topic2\", \"Topic2\", \"Topic2\", \"Topic2\", \"Topic2\", \"Topic2\", \"Topic2\", \"Topic2\", \"Topic2\", \"Topic2\", \"Topic2\", \"Topic2\", \"Topic2\", \"Topic2\", \"Topic2\", \"Topic2\"], \"logprob\": [30.0, 29.0, 28.0, 27.0, 26.0, 25.0, 24.0, 23.0, 22.0, 21.0, 20.0, 19.0, 18.0, 17.0, 16.0, 15.0, 14.0, 13.0, 12.0, 11.0, 10.0, 9.0, 8.0, 7.0, 6.0, 5.0, 4.0, 3.0, 2.0, 1.0, -5.7932, -5.8776, -5.882, -5.8822, -5.8838, -5.8844, -5.8855, -6.0724, -6.1802, -6.1842, -6.1858, -6.307, -6.313, -4.6848, -6.4534, -6.6113, -6.6132, -6.6146, -5.9215, -6.6151, -6.1056, -6.62, -6.6214, -6.2185, -6.6243, -6.1192, -6.8131, -6.6312, -6.8139, -6.8149, -6.1253, -4.6231, -5.7698, -5.0522, -5.4317, -5.5217, -5.0406, -5.7322, -3.7955, -5.2197, -5.6429, -3.9175, -3.9448, -4.9091, -5.3329, -5.5177, -5.0992, -5.197, -5.3417, -5.4039, -5.1796, -5.1551, -5.3782, -5.3256, -4.9528, -5.1986, -5.2684, -5.5485, -5.2672, -5.3457, -5.55, -5.6324, -5.5646, -5.4752, -6.0122, -5.4827, -6.3927, -6.3937, -6.3943, -6.3966, -6.397, -6.2646, -6.3985, -5.9479, -5.8628, -6.1534, -6.5601, -6.1553, -5.8701, -6.5636, -6.5652, -6.5736, -6.7575, -6.7583, -6.7591, -6.7591, -6.7607, -6.7611, -6.7623, -6.7627, -6.7632, -6.7662, -6.7665, -6.7705, -5.9083, -5.6927, -5.386, -6.0159, -5.7276, -5.8647, -4.909, -5.525, -5.3783, -5.8391, -4.6468, -6.2469, -5.1763, -5.284, -5.3208, -5.1643, -5.8895, -4.7226, -4.227, -5.2408, -4.3042, -4.416, -5.2115, -5.5352, -5.3336, -5.2851, -5.5378, -5.4213, -5.5722, -5.452, -5.5886, -5.748, -5.5427, -5.7523, -5.7391, -5.6787, -5.6939], \"loglift\": [30.0, 29.0, 28.0, 27.0, 26.0, 25.0, 24.0, 23.0, 22.0, 21.0, 20.0, 19.0, 18.0, 17.0, 16.0, 15.0, 14.0, 13.0, 12.0, 11.0, 10.0, 9.0, 8.0, 7.0, 6.0, 5.0, 4.0, 3.0, 2.0, 1.0, 0.6194, 0.615, 0.6106, 0.6104, 0.6088, 0.6082, 0.6071, 0.6025, 0.6001, 0.5961, 0.5945, 0.5911, 0.5851, 0.5792, 0.5782, 0.5745, 0.5726, 0.5712, 0.5711, 0.5707, 0.5694, 0.5657, 0.5643, 0.5618, 0.5615, 0.5558, 0.5551, 0.5545, 0.5542, 0.5532, 0.5497, 0.4831, 0.4996, 0.4288, 0.4547, 0.4601, 0.4105, 0.4727, 0.2547, 0.3905, 0.4442, 0.1695, 0.1273, 0.3071, 0.3865, 0.3687, 0.2406, 0.2541, 0.3036, 0.2777, 0.1603, 0.1334, 0.232, 0.1861, -0.1185, 0.0411, 0.0715, 0.2934, -0.0275, -0.0059, 0.1316, 0.2095, 0.0116, -0.4869, 0.6625, 0.6615, 0.6387, 0.6378, 0.6372, 0.6348, 0.6345, 0.6334, 0.633, 0.6316, 0.6297, 0.6267, 0.6255, 0.6248, 0.6224, 0.622, 0.6204, 0.612, 0.6104, 0.6096, 0.6089, 0.6089, 0.6073, 0.6069, 0.6056, 0.6052, 0.6048, 0.6018, 0.6015, 0.5975, 0.5842, 0.5766, 0.5468, 0.5636, 0.5418, 0.5478, 0.4574, 0.508, 0.4636, 0.4993, 0.3416, 0.5333, 0.3046, 0.3261, 0.3244, 0.2577, 0.4488, 0.1116, -0.1549, 0.1813, -0.2172, -0.3659, 0.0283, 0.1463, 0.0062, -0.0454, 0.1438, -0.0815, 0.0379, -0.1634, -0.0124, 0.285, -0.2029, 0.2294, 0.1028, -0.3388, -0.4777]}, \"token.table\": {\"Topic\": [1, 2, 2, 1, 2, 1, 1, 2, 1, 1, 2, 1, 1, 2, 2, 1, 2, 1, 1, 2, 1, 1, 1, 2, 1, 2, 2, 1, 1, 2, 1, 2, 1, 2, 1, 2, 1, 2, 1, 2, 1, 2, 1, 2, 1, 2, 1, 1, 2, 1, 2, 1, 2, 1, 2, 2, 1, 2, 1, 2, 1, 2, 2, 1, 2, 1, 1, 2, 1, 1, 2, 1, 2, 1, 2, 2, 1, 2, 1, 2, 1, 2, 2, 1, 2, 1, 2, 1, 1, 2, 2, 1, 2, 1, 2, 1, 2, 1, 2, 1, 2, 2, 2, 1, 2, 1, 2, 1, 2, 1, 2, 1, 2, 1, 2, 1, 2, 1, 2, 1, 2, 1, 2, 1, 2, 1, 1, 2, 1, 2, 2, 1, 2, 1, 2, 1, 2, 2, 2, 2, 1, 2, 1, 2, 2, 1, 1, 1, 2, 1, 2, 1, 2, 2, 1, 2, 1, 1, 2, 1, 2, 1, 1, 2, 1, 2, 1, 2, 2, 1, 2, 1, 2, 1, 2, 1, 2, 1, 1, 2, 2, 1, 2, 1, 2, 1, 1, 2, 2], \"Freq\": [0.8400326949667453, 0.16258697321937005, 0.780378588672578, 0.8671632465852579, 0.17343264931705157, 1.0005794402485086, 0.8129621692251708, 0.16259243384503416, 0.8671991227043553, 0.9105558027021949, 0.13007940038602786, 0.8672003849133451, 0.5264446202062044, 0.46450995900547454, 0.9289837664995754, 0.10838002229247738, 0.8670401783398191, 0.8671974268826208, 0.920017675780135, 0.09517424232208294, 0.8671818210060479, 0.7804878683178977, 0.18579424284275864, 0.8670397999328736, 0.0765016750370737, 0.9180201004448844, 0.7803705333069801, 0.7804942790019476, 0.14450833869735416, 0.8670500321841249, 0.585288575766609, 0.4227084158314398, 0.7685966761040575, 0.2364912849550946, 0.9755666732158391, 0.10839629702398212, 0.20535362777843852, 0.8214145111137541, 0.5202545718075198, 0.47690002415689314, 0.7504033165510167, 0.25013443885033887, 0.6744256071061165, 0.33721280355305827, 0.8671788539481946, 0.9289814754862322, 0.9755667252163469, 0.45239393405618733, 0.5654924175702342, 0.5476363813984637, 0.4449545598862517, 0.10837974252294781, 0.8670379401835825, 0.8277277307313519, 0.17737022801386113, 0.780370905085786, 0.9105479842042311, 0.1300782834577473, 0.4954738603006613, 0.4954738603006613, 0.4087614267106344, 0.5945620752154683, 0.7803756703001766, 0.6597441603500196, 0.33929699675143865, 0.9755850864760787, 0.8671798133002514, 0.10839747666253143, 0.8672037411872874, 0.11823331215508716, 0.9458664972406973, 0.9755671052706297, 0.10839634503006997, 0.3139351677007636, 0.6727182165016362, 0.9103806808878159, 0.32514802671831866, 0.6502960534366373, 0.929138963113504, 0.7803761786420397, 0.10838242198367626, 0.8670593758694101, 0.9289840236052365, 0.696793340269425, 0.325170225459065, 0.22618712483180956, 0.7916549369113335, 0.7804887911185789, 0.14451441378214344, 0.8670864826928606, 0.7803703743599152, 0.5876871529426873, 0.4142712717464845, 0.17340876499142197, 0.8670438249571097, 0.6786202361181346, 0.3393101180590673, 0.45417720207127565, 0.536754875175144, 0.39018706440870937, 0.5852805966130641, 0.7803726991804578, 0.8670709810064052, 0.6096830177386825, 0.36580981064320944, 0.6503292167726011, 0.3422785351434743, 0.43354028431430724, 0.5780537124190763, 0.6063065286020075, 0.39116550232387587, 0.7948869223919984, 0.21678734247054504, 0.6220620411492094, 0.33930656789956876, 0.3547057937638758, 0.6699998326650988, 0.7883004964716014, 0.19707512411790035, 0.20009037944151198, 0.8003615177660479, 0.34226770400688894, 0.6160818672124001, 0.9105428254778186, 0.13007754649683123, 0.9105367981092034, 0.16257309995724056, 0.9754385997434433, 0.5780692138872129, 0.43355191041540964, 0.7803702337127002, 0.9755675024381992, 0.10839638915979992, 0.695704837407204, 0.3024803640900887, 0.84546987382665, 0.19510843242153458, 0.8670630443997424, 0.7803674150704822, 0.9289825183612168, 0.2460512492772296, 0.7733039262998644, 0.6160953755112119, 0.4107302503408079, 0.867063405039149, 0.8672034196280427, 0.9755871301013793, 0.7651113148386839, 0.22953339445160517, 0.17341116978463067, 0.8670558489231533, 0.14450826216536675, 0.8670495729922004, 0.8670622234260934, 0.5134050886966094, 0.4791780827835021, 0.8672097428304038, 0.8671888750854707, 0.14453147918091178, 0.8671820875638334, 0.780371393733035, 0.8672034061402165, 0.7624755545114593, 0.22425751603278213, 0.2787017784797356, 0.7432047426126284, 0.6279087293548831, 0.3588049882027903, 0.9289867718652473, 0.65033396096877, 0.344294449924643, 0.18579895285954964, 0.8360952878679734, 0.3130996001192244, 0.6743683694875602, 0.3715978498836659, 0.631716344802232, 0.8671997623590317, 0.11823513175759855, 0.8276459223031899, 0.7803688103436539, 0.9755672631484006, 0.7803698515596165, 0.4335400806671333, 0.578053440889511, 0.9755671074363896, 0.4933425537992597, 0.4933425537992597, 0.9289900586290919], \"Term\": [\"account\", \"account\", \"advance\", \"application\", \"application\", \"apply\", \"april\", \"april\", \"aug\", \"avail\", \"avail\", \"available\", \"bank\", \"bank\", \"banks_nbfcs\", \"bounced\", \"bounced\", \"bt\", \"business\", \"business\", \"bussiness_stopped\", \"but\", \"charges\", \"charges\", \"cheque\", \"cheque\", \"close\", \"collecting\", \"come\", \"come\", \"company\", \"company\", \"contact\", \"contact\", \"corona_pandemic\", \"corona_pandemic\", \"covid\", \"covid\", \"customer\", \"customer\", \"customer_care\", \"customer_care\", \"customers\", \"customers\", \"damage\", \"data_sent\", \"date_present\", \"day\", \"day\", \"days\", \"days\", \"december\", \"december\", \"deducted\", \"deducted\", \"despite\", \"documents\", \"documents\", \"dont\", \"dont\", \"ecs\", \"ecs\", \"education\", \"emi\", \"emi\", \"emi_date\", \"extend\", \"extend\", \"extended\", \"fund\", \"fund\", \"gave_emi\", \"gave_emi\", \"got\", \"got\", \"harassment\", \"help\", \"help\", \"hey\", \"hve\", \"information\", \"information\", \"justice\", \"kindly\", \"kindly\", \"lai\", \"lai\", \"lakhs\", \"lending_kart\", \"lending_kart\", \"life\", \"loan\", \"loan\", \"loan_restructuring\", \"loan_restructuring\", \"lockdown\", \"lockdown\", \"mail\", \"mail\", \"mails\", \"mails\", \"mental\", \"monetorium\", \"money\", \"money\", \"month\", \"month\", \"months\", \"months\", \"moratorium\", \"moratorium\", \"number\", \"number\", \"paid\", \"paid\", \"pay\", \"pay\", \"pay_emi\", \"pay_emi\", \"penalty\", \"penalty\", \"people\", \"people\", \"period\", \"period\", \"phone_number\", \"plan\", \"plan\", \"plz\", \"plz\", \"ppl\", \"prove_sending\", \"prove_sending\", \"rbi\", \"rbi\", \"received\", \"received\", \"recived\", \"register\", \"releaf\", \"reply\", \"reply\", \"request\", \"request\", \"resolution\", \"respond\", \"responding\", \"response\", \"response\", \"restructuring\", \"restructuring\", \"rs\", \"rs\", \"sector\", \"service\", \"service\", \"solution\", \"statement\", \"statement\", \"stranger_strangers\", \"submitted\", \"talk\", \"team\", \"team\", \"tell\", \"tell\", \"th\", \"th\", \"things\", \"till\", \"till\", \"till_st\", \"till_st\", \"time\", \"time\", \"times\", \"times\", \"tried\", \"tweet\", \"tweet\", \"unnecessary\", \"update\", \"upto\", \"ur\", \"ur\", \"village_want\", \"want\", \"want\", \"years\"]}, \"R\": 30, \"lambda.step\": 0.01, \"plot.opts\": {\"xlab\": \"PC1\", \"ylab\": \"PC2\"}, \"topic.order\": [1, 2]};\n",
       "\n",
       "function LDAvis_load_lib(url, callback){\n",
       "  var s = document.createElement('script');\n",
       "  s.src = url;\n",
       "  s.async = true;\n",
       "  s.onreadystatechange = s.onload = callback;\n",
       "  s.onerror = function(){console.warn(\"failed to load library \" + url);};\n",
       "  document.getElementsByTagName(\"head\")[0].appendChild(s);\n",
       "}\n",
       "\n",
       "if(typeof(LDAvis) !== \"undefined\"){\n",
       "   // already loaded: just create the visualization\n",
       "   !function(LDAvis){\n",
       "       new LDAvis(\"#\" + \"ldavis_el4047859677922722819242261\", ldavis_el4047859677922722819242261_data);\n",
       "   }(LDAvis);\n",
       "}else if(typeof define === \"function\" && define.amd){\n",
       "   // require.js is available: use it to load d3/LDAvis\n",
       "   require.config({paths: {d3: \"https://d3js.org/d3.v5\"}});\n",
       "   require([\"d3\"], function(d3){\n",
       "      window.d3 = d3;\n",
       "      LDAvis_load_lib(\"https://cdn.jsdelivr.net/gh/bmabey/pyLDAvis@3.3.1/pyLDAvis/js/ldavis.v3.0.0.js\", function(){\n",
       "        new LDAvis(\"#\" + \"ldavis_el4047859677922722819242261\", ldavis_el4047859677922722819242261_data);\n",
       "      });\n",
       "    });\n",
       "}else{\n",
       "    // require.js not available: dynamically load d3 & LDAvis\n",
       "    LDAvis_load_lib(\"https://d3js.org/d3.v5.js\", function(){\n",
       "         LDAvis_load_lib(\"https://cdn.jsdelivr.net/gh/bmabey/pyLDAvis@3.3.1/pyLDAvis/js/ldavis.v3.0.0.js\", function(){\n",
       "                 new LDAvis(\"#\" + \"ldavis_el4047859677922722819242261\", ldavis_el4047859677922722819242261_data);\n",
       "            })\n",
       "         });\n",
       "}\n",
       "</script>"
      ],
      "text/plain": [
       "PreparedData(topic_coordinates=              x    y  topics  cluster       Freq\n",
       "topic                                           \n",
       "0      0.062582  0.0       1        1  51.372352\n",
       "1     -0.062582  0.0       2        1  48.627648, topic_info=         Term       Freq      Total Category  logprob  loglift\n",
       "125  business  31.000000  31.000000  Default  30.0000  30.0000\n",
       "336   account  36.000000  36.000000  Default  29.0000  29.0000\n",
       "341    cheque  13.000000  13.000000  Default  28.0000  28.0000\n",
       "32      reply  28.000000  28.000000  Default  27.0000  27.0000\n",
       "215     apply   9.000000   9.000000  Default  26.0000  26.0000\n",
       "..        ...        ...        ...      ...      ...      ...\n",
       "45    request  11.598459  29.216256   Topic2  -5.5427  -0.2029\n",
       "184     mails   9.405313  15.377240   Topic2  -5.7523   0.2294\n",
       "320       day   9.530390  17.683703   Topic2  -5.7391   0.1028\n",
       "139     month  10.124084  29.215972   Topic2  -5.6787  -0.3388\n",
       "153       rbi   9.971091  33.059997   Topic2  -5.6939  -0.4777\n",
       "\n",
       "[161 rows x 6 columns], token_table=      Topic      Freq          Term\n",
       "term                               \n",
       "336       1  0.840033       account\n",
       "336       2  0.162587       account\n",
       "575       2  0.780379       advance\n",
       "259       1  0.867163   application\n",
       "259       2  0.173433   application\n",
       "...     ...       ...           ...\n",
       "279       2  0.578053            ur\n",
       "1380      1  0.975567  village_want\n",
       "318       1  0.493343          want\n",
       "318       2  0.493343          want\n",
       "1560      2  0.928990         years\n",
       "\n",
       "[189 rows x 3 columns], R=30, lambda_step=0.01, plot_opts={'xlab': 'PC1', 'ylab': 'PC2'}, topic_order=[1, 2])"
      ]
     },
     "execution_count": 209,
     "metadata": {},
     "output_type": "execute_result"
    }
   ],
   "source": [
    "\n",
    "import pyLDAvis.gensim_models\n",
    "\n",
    "import pyLDAvis\n",
    "# Visualize the topics\n",
    "pyLDAvis.enable_notebook()\n",
    "LDAvis_prepared = pyLDAvis.gensim_models.prepare(post_lda_model, post_corpus, post_id2word)\n",
    "LDAvis_prepared\n"
   ]
  },
  {
   "cell_type": "code",
   "execution_count": 210,
   "metadata": {},
   "outputs": [],
   "source": [
    "post_queries_topic_sents_keywords = processor.dominant_topics(ldamodel=post_lda_model, \n",
    "                                                         corpus=post_corpus, \n",
    "                                                         texts=post_queries['bigram'].values.tolist(),\n",
    "                                                         tweets=post_queries['tweet'].values.tolist())\n"
   ]
  },
  {
   "cell_type": "code",
   "execution_count": 211,
   "metadata": {},
   "outputs": [
    {
     "data": {
      "text/plain": [
       "array(['emi, moratorium, loan, account, business, rbi, mail, response, pay_emi, month',\n",
       "       'loan, moratorium, emi, time, mail, reply, times, pay, dont, ecs'],\n",
       "      dtype=object)"
      ]
     },
     "execution_count": 211,
     "metadata": {},
     "output_type": "execute_result"
    }
   ],
   "source": [
    "\n",
    "post_queries_topic_sents_keywords['Topic_Keywords'].unique()\n"
   ]
  },
  {
   "cell_type": "markdown",
   "metadata": {},
   "source": [
    "Post-COVID two topics prevail:\n",
    "1. Ask for moratorium\n",
    "2. Issues with moratorium process"
   ]
  },
  {
   "cell_type": "code",
   "execution_count": 212,
   "metadata": {},
   "outputs": [
    {
     "data": {
      "text/plain": [
       "array(['@Lendingkart Hi. My company has been in touch with a LendingKart representative. This rep has been extremely rude and unprofessional. Wanted to bring this to your notice. Please DM me for more details.',\n",
       "       '@Lendingkart Makes people cibil score down by collecting their documents without providing any loan @PMOIndia @rsprasad @Anurag_Office',\n",
       "       '@Lendingkart please stop sending SMS and emails.\\nThanks',\n",
       "       '@Lendingkart Your customer service is so screwed that you beat even the SBIs of the world. My loan got approved and for the last 18 days I have been chasing you guys to finalize the process &amp; disburse the amount, but to no avail. (Part 1)',\n",
       "       '@Lendingkart And it\\'s just impossible to talk to anyone in your team. The low-level execs are unimaginably rude and are available only at their convenience, and the only response you get by mailing to you is that \"A ticket has been created\". (Part 2)',\n",
       "       '@Lendingkart I attached bank statement and rectified my problem as soon as https://t.co/gQuoZnxxWt',\n",
       "       '@Lendingkart trying to get connected your customer care contact number last 4 days also e-mail on info@lending but not resolved ‘ wanted to discuss about existing loan’ really disappointed can contact 9819069499. LAI-00085652',\n",
       "       '@Lendingkart your no phone policy is giving a harrowing experience. First you chase, and then you vanish. Not a good sign for customers..',\n",
       "       'Plz stop @Lendingkart emi for 1 or 2 month business loan  @RBI @FinMinIndia',\n",
       "       '@Lendingkart @AxisBankSupport Is your company is interested in deferement of 3 Loan EMI as per suggestion Given by RBI',\n",
       "       'Hi @Lendingkart, pls kindly halt EMI repayment for couple of months. Your customers, including me requesting you to kindly understand the grim situation we are facing right now. I have emailed regarding this but no rply from your cs .',\n",
       "       '@Lendingkart y are you not extending the EMI moratorium to your customers as advised by @RBI as it is not possible to pay the EMI during the lockdown, expect you to cooperate with your customers @PMOIndia @nsitharaman @AmitShah',\n",
       "       '@Lendingkart What About 3 Month Moratorium Period ?',\n",
       "       '@PMOIndia @narendramodi\\n@nsitharaman @nsitharamanoffc @FinMinIndia @KTRTRS @TelanganaCMO\\n@ysjagan\\n@TV9Telugu\\n@TimesNow\\n@ndtv\\n@Lendingkart\\n\\nThis fellows are started to send EMI INSTALLMENT remainder mails.... \\nPARTICULARLY AFTER ALL LOAN 3 MONTH MARITORIUM PERIOD. https://t.co/X9KpQMKm1O',\n",
       "       '@Lendingkart plz tell about RBI suggestions related to EMI plz give some clarification.',\n",
       "       \"@RBI @Lendingkart \\nAs per Rbi You Don't Have To pay 3 Months Emi They Why your company person @Lendingkart Calling me n say that you have to pay Emi as Per schedule\\n#coronavirus #EMI #EMIs\",\n",
       "       '@Lendingkart y are you not extending the moratorium period for paying EMI when the entire nation is under lockdown , pls adhere to @RBI guidelines @PMOIndia @nsitharaman \\nHow do you expect us to pay the emi\\nPls respond',\n",
       "       '@iammparas @Lendingkart @RBI @DasShaktikanta @narendramodi Dear Paras, we are understanding and working on the finer details of the RBI notification, dated March 27, 2020, regarding the moratorium of EMI/Pre EMI on term loans. Raise your request on https://t.co/x9ZUP6TSnd and we shall get back to you within the next 7 working days.',\n",
       "       \"@iammparas @Lendingkart @RBI @DasShaktikanta @narendramodi @nsitharaman Dear Paras, please bear with us for some time, we'll get back to you shortly.\",\n",
       "       '@Lendingkart How to apply moratorium till 31st may 2020',\n",
       "       \"@Lendingkart my registered mobile no 7660886292, i maild moratorium for business loan i didn't get any response, please share confirmation about moratorium announced @RBI\",\n",
       "       'Is the EMI moratorium merely an eyewash ?  As no banks have issued any circular post the RBI guideline in same . Request for an intervention and solution by concerned authorities...\\n@RBI @FinMinIndia @ICICIBank @Lendingkart @HDFC_Bank   #EMI  #MSME #travelindustry #Airlines',\n",
       "       'I observed that just after the announcement by the RBI  bankers and  bank employees everyone gone offline not even a single point of contact we have to clarify our doughts, to know the process of postponing our EMIs. @nsitharaman @RBI @IIFL_Finance @IDFCFIRSTBank  @Lendingkart',\n",
       "       'Hey Lendingkart @Lendingkart  have u started 3 month EMI holiday as per RBI guidelines',\n",
       "       '@iammparas @Lendingkart @RBI @DasShaktikanta @narendramodi @nsitharaman Dear Paras, we have forwarded your query to the concerned department. Please bear with us, we will have the concerned contact you shortly.',\n",
       "       'Kindly Update About Moratorium, All The Major Bank And NBFC Avail The Moratorium To Their Customer\\n@Lendingkart @FinMinIndia @FinancialTimes @RBI',\n",
       "       '@Lendingkart have you started the moratorium for business loan\\n\\nWe have not received any communication for same',\n",
       "       '@Lendingkart please update regarding moratorium 3 month loan emi plz',\n",
       "       \"@DasShaktikanta @nsitharaman @HDFC_Bank @ICICIBank @AxisBank @Lendingkart @NeoGrowth_Loans @clixcapital why alll of you can't have same formula for #moratorium same application\",\n",
       "       '@Lendingkart is ur firm coming under RBI policies... why you people again and again requesting ecs clearings , we burden with ecs return charges... no work, our outstanding payments not coming... all private finances allowed 3 months EMI postpone procedures except lendingkart https://t.co/9lJI7kpB1L',\n",
       "       '@Lendingkart as per rbi guidelines how can I get 3 months emi moratorium.',\n",
       "       '@Lendingkart in lock down frm wher I arrange money to pay emi. https://t.co/ngAqDpz7Aw',\n",
       "       '@Lendingkart why Lendingkart is reluctant to follow RBI Guidelines on moratorium?',\n",
       "       '@Lendingkart I wanted to go for Moratorium facility but unable to see on your dashboard any option for Moratorium, can you please arrange . Call n already sent e-mail but all reply said Apply from dashboard need help',\n",
       "       'dear @RBI @FinMinIndia i request to order a shootout order for all people who took a loan or credit card due from @HDFCBank_Cares @ICICIBank @Lendingkart @Faircent1 @pnbindia @KotakBankLtd @SBICard_Connect  @ZestMoney @bankofbaroda  they want money anyway in any condition',\n",
       "       'Just received a call from @Lendingkart for a reminder of maintaining the balance of upcoming EMI, no releif for EMI Extension is available with them and the executive was rude and uncooperative.\\n#patheticservice',\n",
       "       '@Lendingkart Hello, i opted for the moratorium and yet the EMI got  deducted! What was the point of the opt-in then? https://t.co/srJqySMPc7',\n",
       "       '#OperationHaftaVasooli dear @RBI @FinMinIndia i applied for emi moratorium already still @Lendingkart @ICICIBank @KotakBankLtd are sending message to me for payment on scheduled date while lendingkart already increased my emi tenure by doing this way @Lendingkart want to loot',\n",
       "       '@Lendingkart i applied for emi moratorium for 2 months but you increased my emi tenure to 4 months why?you are charging 11500 on 6563 monthly emi as a interest for these two months? seriously? please @RBI @FinMinIndia @nsitharaman @PMOIndia check it #OperationHaftaVasooli',\n",
       "       '@RBI @Lendingkart I applied for loan moratorium to HDFC for my business term loan. EMI was deducted. No RM is picking up the phone. Customer Care is off. What are small businesses supposed to do? Is this moratorium for real? @PMOIndia #SmallBusiness',\n",
       "       'Dear @Lendingkart  \\nSince a before weeks i have sending daily basis mail to you about Moratoriums of my EMI as per @RBI Guidelines but no response from you. Also you deducted EMI before my EMI date which is month of 19th. https://t.co/OoKMVzigpg',\n",
       "       'Dear Sir  @RBI @DasShaktikanta  \\n\\nNeed to take serious action to @Lendingkart  they deducted my EMI before date and I already mail about moratoriums to Lendingkart. But till now they are not responding me. https://t.co/uvnhn3BDoS',\n",
       "       '@Lendingkart hi, myself akash kumar , I have closed my current account , so plz update my new account for emi',\n",
       "       '@Lendingkart , today early morning received message to maintain balance for tomorrow, I am under pressure in such situation where we seek financial support for basic needs, plz response quickly to mails. I have only money left for emergency and how could I pay EMi tomorrow.',\n",
       "       '@Lendingkart @FinMinIndia\\nEMI DEBIT BOI -  Rs 30833.00 has been Debited (NACH) in your account XX0005 - NACH DR INW - LENDINGKA I already informed you that my business is currently closed.\\xa0 Please do not bother to cut EMI from my account but still you have deducted EMI from my ac',\n",
       "       '@Lendingkart i sent email for deduction 3 times till now but still you did not deducted emi amount from my bank...why no deduction till now deduct it now plz it should be deducted on 18 but you did not',\n",
       "       \"@Lendingkart I was given ticket id - 1233631 via e-mail on 13-4-20 for my RBI MORATORIUM rqst bt stil didn't get any confirmation fr tht and now I am getting cal fr emi due dt I.e. 26-4-20 &amp; I m unble to pay emi this month,plz allow me to avail rbi moratorium.@RBI @FinMinIndia\",\n",
       "       '@Lendingkart i have opt for moratorium from 25 days and there was no response till now and today the EMI got deducted from my bank which i was in need, EMI date IS 6th april. \\nIf this EMI will not get refunded to my back account within 2 days i am not going to pay further EMI.',\n",
       "       '@Lendingkart Not getting your customer service line. How do I connect?',\n",
       "       '@Lendingkart please teach your customer care representative that how to talk with customers \\n\\nI have attached screen shot of chat and call recordings on mail \\n\\nPlease look in to this https://t.co/SiwYFMeMit',\n",
       "       '@Lendingkart i alrdy apply for moratorium inspite of ths u were deducted my EMI aftr call ur customer care then he said nthng appiled by u nd phr ek email id bta rh thai jispr mail krna h phr call cut kr diya wdout giving information md i received call frm ur cstmr to mail info@ https://t.co/ML2qqsziKN',\n",
       "       '@Lendingkart @RBI @ZeeBusiness \\nBy what rights #Lendingkart Finance debit #EMI  before the due date ?My Ecs Date 23th April ,rbi also asked for 3month Emi waiver but #Lendingkart Company Debit emi 3days before due date, how is it possible ?',\n",
       "       \"The most pathetic Service from @Lendingkart, I opted for Moratorium and still they deducted the amount from my bank A/c. \\nEven in these hardship days, all they care about their money.\\nDon't even reply me with your caring for customers message, coz you dont mean it\",\n",
       "       '@RBI @narendramodi @ZeeBusiness @indiatvnews @aajtak @HMOIndia @Lendingkart\\nNo relief on EMI is being provided to customers by NBFC https://t.co/DhXrlFZ240 such a situation, how will customers pay emi to banks?',\n",
       "       'I aply for moratorium against my loan account id LAI-00050164 but till no confirmation received. @Lendingkart @RBI @nsitharaman @ianuragthakur @FinMinIndia',\n",
       "       '@Lendingkart while everyone is differing emis you debited my account 5days before the EMI due date!I had money in another account and was charged with ecs return charges.Your rep who called to remind me said emi wil be deducted on due date. Who is refunding my ecs return charge? https://t.co/yKX3hRRLBM',\n",
       "       '@Lendingkart emi was due on 27th April 2020, got deducted today. Howz that possible? This is how MSMEs are being harassed\\n@RBI',\n",
       "       '@Lendingkart, @RBI  and @FinMinIndia Raised a request not to debit the EMI under moratorium facility. The actual date for next emi falls on 27.4.20. After receiving request, lendingkart has debited the EMI today. Worst business practice.  Pray RBI and Finance ministry to save us.',\n",
       "       '@Lendingkart My EMI was due on 27th how can it debited Today ?',\n",
       "       \"@Lendingkart you people are disgusting. You rejected my top-up application in February and now you are not updating the status of my top-up application this month. Moreover, you call me and say that your installment will be debited 2 days prior from your account. What's this?\",\n",
       "       '@Lendingkart @RBI @PMOIndia In this tough time I am staying at home following govt guidelines. No business since a month But @Lendingkart debited my account 4 days earlier before the due date of EMI.\\nPlease refund my emi.',\n",
       "       '@Lendingkart customer care is not responding              Ref:  Business loan LAI-00089111 please do revert !',\n",
       "       '@Lendingkart is there any #moratorium facility offering by you ?',\n",
       "       '@RBI @Lendingkart \\nLendingkart denied to give moratorium on term loan in this panadamic situation. Request RBI to take appropriate action. \\nNationwide lockdown destroyed the business how customer will apy EMI.\\nThanks https://t.co/p5hzyDK1Y9',\n",
       "       '@Lendingkart team, no response from your customer care email, no response from related managers. We had applied for Moratorium facility on 28/3/20, no response so far. Looks like you are not providing facilities &amp; guidelines provided by @RBI. @FinMinIndia',\n",
       "       'Dear RBI there is lots of bank and private financial companies who are not responding on #moratorium  requests please ask them to respond about it. We are having lots of loss in this #lockdown.  @RBI @loantapin @bandhanbank_in @Lendingkart',\n",
       "       '@Lendingkart \\nI have complained about extra charges deducted from my account as I have written the customer care through mail also but there is no response from your side,\\nDeducted my EMI on time then again after 6days again deducted \\nNo response from customer care',\n",
       "       '@Lendingkart hi I am waiting for you https://t.co/kTrKZYo0bE',\n",
       "       \"@Lendingkart why ur cutting charges from my account. Rbi give rule to don't pay three months loan. But Lendingkart Bank collecting loan amount from customers. U r not following #RBI Rules. lockdown from 45days we are in home only. Not done a business. Then how did I can pay loan\",\n",
       "       '@Lendingkart We still not recv any confirmation can you guys please sort this asap emi wil hit my account day after RBI Moratorium, tried speaking Customercare but no response. Highly appreciate if you can arrange call my emi date 8th May https://t.co/2oklxteq2I',\n",
       "       '@Lendingkart is the most unprofessional NBFC.\\n\\nThey promise to give moratorium if application is made and when you make an application for same they deduct the EMI on due date.\\n\\nNow their stupid Twitter bot will reply me to DM them.\\n\\n#NBFC @nsitharaman @FinMinIndia #moratorium',\n",
       "       \"@nsitharaman @RBI @PMOIndia \\n\\nModiji : Banks and NBFC please give moratorium period for emi payment to your customer's\\n\\n@Lendingkart  : https://t.co/Nmfj3VP3qn\",\n",
       "       '@Lendingkart  continuous calling by customer service people for EMI which I already told on 30 April 2020 that please opt for moratorium as per RBI guidelines, person who called me said he has updated my request so EMI won’t get debited and no charge for cheque return https://t.co/M95QWVXEyW',\n",
       "       '@Lendingkart Hi sir, I need business loan. How can I reach you at this lockdown situation?',\n",
       "       \"@RBI please take a note that @Lendingkart isn't Accepting #moratorium ...\\nPlaying delaying tactic\",\n",
       "       '@Lendingkart if moratorium was allotted on my business loan then why a total of around 15000 was debited from my account.',\n",
       "       '@Lendingkart I received a moratorium approval mail on May 6th and today you deduct my 15000 which was the only money i have left with to run the house. Please explain. https://t.co/KiZA1pi00A',\n",
       "       '@Lendingkart i have an issue regarding the attempt of early deduction of EMI from my account and subsequently a huge amount of penalty have been taken away by my account..i want an appropriate authority email,or any thing to contact...as customer care service is of no use',\n",
       "       'Dear LK customer,\\n\\nPlease maintain account balance to zero, otherwise they will snatch out fund from your  bank account.\\n\\n#CheaterLendingkart #LendingkartHarassment\\n#CheaterLK #LKHarassment\\n#LendingkartLayoff\\n#LKLayoff #WantOurJobBack\\n#UnethicalCompany\\n\\n@Lendingkart @RBI',\n",
       "       '@Lendingkart sir my loan number is LAI -00063930 and i request for moratorium at 6th of may then why your team regularly hit my account and your customer care executive dont talk to me truely then how could i protect my account from regualar hitting its also damage my funds',\n",
       "       '@Lendingkart two times I tried to avail business loan from lendingkart.... I supplied all documents asked by lendingkart... But there is no use of it... They do not approved my loan application.... My annual turnover is more than 12 lakhs rupees. My mobile number is 8177970652',\n",
       "       'Dear sir I requested for emi moratorium service and it is showing in process and Same time ecs received in in my account.\\nIs this right one?@Lendingkart',\n",
       "       '@kushk27 @nsitharaman @RBI @Lendingkart #lendingkart not following rbi guidelines even not giving respect to PM of India HR &amp; Team Managers on call saying that who is Narendra Modi ? PM ne bola hein to kya ...? We dont bothered about . These are the words of HR &amp; Team Managers of #lendingkart',\n",
       "       \"@Lendingkart @Dev_Fadnavis @RajThackeray @MumbaiPolice @RBI @PMOIndia @AmitShah \\nHello LANDINGKART\\nRESPECTED SIR/MA'AM\\nI am tasuarali shabbirhasan shah\\nPan no- CKPPS6862M\\nLoan-30208\\nI am not able to pay my emi during the lockdown\\nKindly extend my emi.\",\n",
       "       \"@Lendingkart #GoDigital #MSME #businessloans \\n\\nYou guys promise to approve or disapprove loans in 3 working days. But its 5-6 days and still pending. Please approve or Disapprove. But don't treat like a Sarkari Bank\",\n",
       "       '@Lendingkart service third class.. Koi rules nhi h company ke pass. Staff very bad.. Ekdum chor company.. \\nCustomer care number lagta nhi h.. \\nVery poor chor company..',\n",
       "       \"@Lendingkart  I fail to understand why lending kart is asking for a male member aadhar as gaurentee to process my loan .this is gender discrimination and not acceptable . U check my cr dit worthiness and sanction loan .\\nIt's shameful and bad policy kindly revert\",\n",
       "       '@ICICIBank_Care @KotakBankLtd @Lendingkart  @IDFCFIRSTBank  @ICICIBank Moratorium was applied by me in March. Now that Moratorium has been extended, do I have to apply for it again or it will be auto extended?',\n",
       "       \"It's a part of not appraisal cycle ,its a part of their profit raising 🤔.such a liar @lendingkart.how can u play with ur own employees emotions in this pandemic. #shameful https://t.co/ZUr0WeDcoy\",\n",
       "       '@Lendingkart @RBI This is how they are supporting businesses in #COVID19Lockdown . When i tried to complain , they are challenging me to complain to anyone claiming RBI has allowed them to do so ! Thanks to @PMOIndia https://t.co/rShU2B4WOj',\n",
       "       '@Lendingkart i have some enquiry i wanted to know that as @RBI had announced to moratorium the emi till May 31 2020 so kindly give me valid region without permission how did you debited money from account',\n",
       "       '@Lendingkart hi, are you investing in offline retail chain segment. As i am looking forward to expand my retail store in multiple cities',\n",
       "       '@Lendingkart @RBI @nsitharamanoffc Many times mail has been sent for request of Moratorium but NBFC doesnt answer a single mail and recovery agents of bank are calling for pay EMI 10 times in a day. Lendingkart making fun of RBI Guidlines of Moratorium. Requst RBI to take action',\n",
       "       '@Lendingkart How do I extend EMI Moratorium until Aug’2020 as advised by @RBI ? Will my previous request be automatically extended or I need to submit request again',\n",
       "       '@Lendingkart Even after repeatedly writing down mails and following up with the customer care executive our request from the RBI aproved Moratorium has not been taken into consideration. We are fed up following up with you guys who have no response. All we get is a feedback mail.',\n",
       "       '@Lendingkart @IDFCFIRSTBank @CMOMaharashtra @RBI @FinMinIndia @PMOIndia i Mailed to these loan co. For opting moratorium from june to aug. But they r not replying.. I paid emi from mar to may bcz i have money but now i will not pay emi bcz i donthave money now.\\nI dont hv money 🙏',\n",
       "       \"@Lendingkart @RBI @MumbaiPolice @AUThackeray @OfficeofUT \\nSir I got mail today they said me. To pay EMI. How do I pay money on lock down. Please give me time. Extend time. Don't have money for family. All workers are gone village , company shut down. https://t.co/W4QJxk8j17\",\n",
       "       '@Lendingkart will you plz let me know the Moratorium extension policy, as many of customer have  lossed their business, during lockdown...@RBI @RBIsays @DasShaktikanta @nsitharamanoffc',\n",
       "       \"@Lendingkart your team ask for bank statement only in 'rpt' format without which they will not take application and throught internet banking only download of excel is permitted! Please junk your such policy!\",\n",
       "       'From today emi starts but till moratorium facility not available in these poor banks they are sending ecs @HDFCBank_Cares @IDFCFIRSTBank @Lendingkart @RBI',\n",
       "       '@Lendingkart Hello, I have already avail the moratorium facility for April and May. And as per the rbi guidelines I would like to request to activate moratorium 2 facility under my loan account till August 2020.\\nDo I need to apply again for moratorium 2 ?',\n",
       "       'Drop you mails try to contact to Mobil, chat to you no of time but all vain @Lendingkart ?\\n\\nAnd after all it’s my fault !!\\n\\nBecause I am a customer? Really helpless #badservice 😐',\n",
       "       \"@Lendingkart CIBIL report is showing u made loan enquiries on me dated 5/7/2019 &amp; 28/12/2017, I havent authorized or applied for any loans from u, I have raised dispute to info@lendingkart.com but no response. I also DM'ed u my contact, havent been contacted by ur support yet !\",\n",
       "       \"@iammparas @DasShaktikanta @RBI @nsitharaman @nsitharamanoffc @AxisBank @AxisBankSupport @Lendingkart @IIFLCorporate @IIFLHomeLoan @AmitabhChaudhry @Lkartindia You won't get any reversal !! Its ball pass game!! Almost 30 emails shared between axis bank and myself !!! No solution yet !! @Kissht_EMI\",\n",
       "       '@Lendingkart - I think you should also following the norms of RBI.\\nIf it is then why still you are not providing complete details about Moratorium..\\nYour collection team is still calling for dues purpose. So what is the issue.\\n@RBI @nsitharaman @DasShaktikanta . Plz help to resol',\n",
       "       '@lendingkart  gentle reminder &amp; accepting help LAI-0008562 . Hoping it emi wil not hit my bank account tomorrow',\n",
       "       '@iammparas @DasShaktikanta @RBI @nsitharaman @nsitharamanoffc @AxisBank @AxisBankSupport @Lendingkart @IIFLCorporate @AmitabhChaudhry @Lkartindia Dear\\xa0PB,\\xa0we\\xa0regret\\xa0any\\xa0inconvenience caused\\xa0to\\xa0you.\\xa0Please\\xa0inbox\\xa0your loan account number,\\xa0our\\xa0customer\\xa0care\\xa0executive\\xa0will\\xa0contact\\xa0you\\xa0shortly.',\n",
       "       '@Lendingkart @RBI Many times mail has been sent for request of Moratorium but NBFC doesnt answer a single mail and recovery agents of bank are calling for pay EMI 10 times in a day. Also call to lendingkart and mail bt company not giving and answer to me',\n",
       "       '@Lendingkart customer care just calls to resolve issues but dont give any solution',\n",
       "       '@Lendingkart on May 31 , I have applied for moratorium but I have not yet received any conformation from your side and your executive call me up again and again for emi. Why...?????',\n",
       "       '@RBI I have a PL from @Lendingkart .. i have applied for monatorium for april and may and as lockdown was extented till 31st of may i sent a mail to extend the monatorium till aug 31 but they tried to charge the emi and calling from collection department..what should i do???',\n",
       "       '@Lendingkart trying to connect frm past many days. Ur cust care nmbr does not ring. None of ur employees pick up the phone. Requesting a call back. \\n@rbi @PMOIndia @narendramodi @republic @TimesNow @rashtrapatibhvn @AmitShah @FinMinIndia',\n",
       "       '@Lendingkart I have asking moratorium from last 38 days but there is no reply on mail by your company \\nN then your company person tells me to pay anyhow Emi \\nWhere should we get the money \\nWith our shut business????',\n",
       "       '@S1Gem @RBI @FinMinIndia @nsitharamanoffc @Lendingkart It will not be refunded and if ur luck will be with u then u might get back yr money .need to take strict action against @Lendingkart',\n",
       "       '@Lendingkart 15 day se only wait hi kar rha call jb hi karna jb problem resolf ho',\n",
       "       '@Lendingkart how will I opt for extended moratorium..',\n",
       "       '@S1Gem @RBI @FinMinIndia @nsitharamanoffc @Lendingkart All customer have same issue, why they are not understanding if Government is telling for the moratorium why they are not applying ??? I am not going to pay any further emi if this is the behaviour of lendingkart.',\n",
       "       '@Lendingkart No response on moratorium yet. Kindly give us moratorium till August as per RBI announcement. @nsitharaman @PMOIndia @RBI \\n\\nLoan ID: LK0000032448',\n",
       "       'Sir my loan account id LAI-00050164 &amp; I mail to extend my Moratorium period to August 20 as per @RBI guidelines on 5/6/20. But till no confirmation received. Plz help related this. My contact no. 8510041986 @Lendingkart @FinMinIndia @nsitharaman @ianuragthakur @PMOIndia',\n",
       "       'Hey @Lendingkart maine apke website ke through msme loan apply kiya hai bt its more than 2 week or ap 72 hours me process karte hai kindly check...',\n",
       "       '@Lendingkart Hi team I have sent a request on 22nd may for moratorium extension but did not receive any update from you team. Pls extend it I cannot pay. Mob 9663283852',\n",
       "       '@Lendingkart I m really disappointed why Lendigkart asking one year bank statement for 3 months emi moratorium extend. @RBI',\n",
       "       'As per RBI guidelines Moratorium will apply every borrower so kindly process our moratorium request and don’t ask bank statements for moratorium @Lendingkart @RBI',\n",
       "       '@Lendingkart How many times ,do i have to apply for moratorium?Lendingkart accepted my request for monatorium and confirmed it to my email.Again do i have to apply for moratorium for another three months?Your team still dont contact me.',\n",
       "       \"@Lendingkart \\nI am avail ur sahyog scheme but now I'm facing emi issue today 2 emi amount deducted from my account.i have complaint against this but no response. please resolve https://t.co/pF5ZLsty8k paid all emi ontime https://t.co/qFEz4p5ZP4\",\n",
       "       '@Lendingkart you said your team look into it. Tomorrow is a due date and today I got this. Again I have mailed your team no clear clarification received yet. https://t.co/HhD8vwpFmC',\n",
       "       '@Lendingkart \\nDear Team, i have been flowing with your channel RM team for long time but no response.\\n\\nI am looking for DSA Alliance In Mumbai, can i get any contact details.',\n",
       "       '@Lendingkart plz call me',\n",
       "       'My loan account id LAI-00050164 &amp; I mail to extend my Moratorium period as per @RBI guidelines.After mail we received confirmation on 17/6/20 for approval of Moratoriumon on my mail.But your person regularly call me for pay EMI plz solve this. My contact no8510041986 @Lendingkart',\n",
       "       '@RBI \\n@Lendingkart i had applied for Moratorium via Mail but still EMI got deducted from my account. \\n\\nWhat the hell you guys are doing?',\n",
       "       '@Lendingkart \\nthis bank is very poor service and no reply for mail and not connected the customer care and not update the payment on time and they have charge the extra amount that why not update the customer payment',\n",
       "       'Hey, I never ask for any kind of loan from you even I received OTP for verification? What the jhool it is?@Lendingkart @Uppolice @myogioffice lendingkart is doing some kind of fraud Kindly explain the attachment. https://t.co/1kxOHACpc3',\n",
       "       '@Lendingkart VERY shady company:\\n18005720202: no way to navigate to representative\\n079-66770600: no service\\n9033014652/9033014627: not available/off\\ninfo@lendingkart.com: automated reply with no action\\naccounts.support@lendingkart.com: redirect to above methods of emails and nos',\n",
       "       '@Lendingkart @FinMinIndia @PMOIndia i applied for moatorium for jun to aug and paid in may but my application is pending and when i paid due on 3/jun after 1 day my money got refunded so as per me i am in moratoriun now they r calling me and forcing me to pay jun to aug due',\n",
       "       '@Lendingkart trying to contact your customer care number for the last few days but failed. Emailed you about my query but no response. Is this you call best customer care service for the existing customers :(',\n",
       "       \"@Lendingkart hey u don't know are we stupid or what,\\nFirst u call and give us offer and when we agree you're representative ignores\\nI  law but it's comes under fraudulent behaviour and misleading,\\nI don't know but I think I should take legal action with this behaviour https://t.co/r8iEdFTOtn\",\n",
       "       '@Lendingkart need escalation Matrix to point out our concern. No one is responding on email or toll free',\n",
       "       '@Lendingkart Dear Lendingkart, during the training process is the collection team trained to address your customers as thieves and the customers are told that even though they were ineligible the company still gave them the loan.',\n",
       "       '@Lendingkart \\nI paid all my EMIs during march to may but to the pandemic containment zone, our business is totally shut down and unpaid June EMI as per your terms and conditions, if not paid considered as moratorium, i did the same..',\n",
       "       \"@lendingkart But some ill mannered telecaller Javed kept asking me for the same..When I akser him to arrange call with senior..He didn't do it..But on 6th July..Multiple cheques were debited from my account without my knowledge..\",\n",
       "       \"@Lendingkart \\nA company like yours can't harass your valuable customers like this ...My loan no. Is 00083266 I sent severely mails at info and calls but no reply..I need clarification as well as refund ...\",\n",
       "       '@Lendingkart @RBI @nsitharaman asking me to give 12 month statement in pdf format but it’s protected with password, how can you ask my password which is highly confidential, after sending you the statement then you will decide whether we are eligible for moratorium or not?',\n",
       "       'Just now came to know about discriminatory/ sexist policy of @Lendingkart \\nFemale entrepreneur has to submit all documents along with her husband or fathers pan card so that financial can also be checked.\\nWhereas Male counterparts does not require these.\\n#equaloppertunities',\n",
       "       '@Lendingkart @nsitharamanoffc @nsitharaman @ravishndtv @RBI @aampress I’ve requested for moratorium still get get reminders and the response time is just not acceptable pls look into this. https://t.co/8nQsyqtXeE',\n",
       "       '@Lendingkart Kindly update overdue amount in CIBIL which was paid 1 month back on 4th June 2020. @CIBIL_Official i am tweeting on twitter bcoz i am not able to contact this NBFC over all even after trying so many mobile call to them.',\n",
       "       '@Lendingkart si anybody will respond on mail or not? Kindly tell me. During  lockdown period when moratorium period was going on still you deducted ecs charges now nobody is responding on mails',\n",
       "       \"@Lendingkart I 'm  in lockdown...my business is totally damage...my goods was damage by termites...so I couldn't sell the https://t.co/3GrzjRQpoH I couldn't pay my emi payment now. Kindly if u will give me some loan ..I will restart my business..and pay your all EMI amount @RBI\",\n",
       "       '@Lendingkart \\nBelow are the screenshots of ECS return from my account. Four ECS has been bounced for one EMI. I have taken Moratorium till August. Kindly reimburse me Rs. 944/- as it is charged from my bank. https://t.co/YSNejhUCtW',\n",
       "       \"@Lendingkart Sir..I had taken loan from your company before this pandemic..I have already paid your EMI till June 2020..but after lockdown my business was damage by termites and other problems..so I can't pay your EMI after June.@RBI @AmitShahOffice\",\n",
       "       '@Lendingkart  dear team request you to please share contact no punjab and haryana taking care of Bl product because your local Relationship manager not respond properly',\n",
       "       'I think you are not taking me seriously.refund my return charges ASAP,now i dont want to wait and dont want to listen your excuses..do you want me to file a complain against lendingkart finance??@Lendingkart @RBI @ndtvindia @IndiaToday @DasShaktikanta @Anurag_Office @FinMinIndia',\n",
       "       'Hey @Lendingkart please respond in DM.',\n",
       "       \"@Lendingkart \\nTotally false website, only west of time on applying on lendingkart, \\nDear followers don't apply on this website they collect data like phone number, name, address etc and give to insurance and other fraud agency in India &amp; outside India\",\n",
       "       'What About My Refund..Are You Intrested in Giving My Refund.Poor Customer Service,False Promises.Poor RBI Helping These Poor Companies @RBI @DasShaktikanta @Lendingkart @CNBCTV18News @ANI @PIB_India',\n",
       "       '@Lendingkart y no one is responding to the queries sent to message box',\n",
       "       \"@Lendingkart Lendingkart Sir..I had taken loan from your company before thispandemic.I have already paid your EMI till June 2020but after lockdown my business was damage by termites and other problems so I can't pay your EMI after June.sir, please help me by giving five lakhs\",\n",
       "       '@Lendingkart Hello \\n\\nOur EMI of devfashion debited for two times in same month screenshot attached with mail plz reverse amount in our account asap.\\n#FinanceMinister #pmo #navodayparty #नवोदयजनतांत्रिकपार्टी #RBI https://t.co/ph5WWhA1ei',\n",
       "       '@Lendingkart no one responding on call for loan application',\n",
       "       \"@Lendingkart Sir I had taken loan  before this pandemicI have already paid your EMI till June 2020but after lockdown my business was damage by termites and so I can't pay your EMI after June. help me by giving five lakhs loan in my account .so, that I can start my business again\",\n",
       "       '@Lendingkart kindly ask your persons to stop calling , when you all cannot disbuse a sanction loan than why keep call calling me for a new loan . Better check profiles than call',\n",
       "       '@RBI @Lendingkart I apply for financial assistance in lendingkart. Representative of Lendingkart called me and ask documents regarding that and i upload all the documents regarding that. After proper review the told me that there is no issue for getting loan. Then reject(1/2)',\n",
       "       '@Lendingkart why you cheat people in covid times.spoil cibil of every common man.',\n",
       "       '@Lendingkart froud company Donot use it Service',\n",
       "       '@Lendingkart I have send email complain to info@lendingcart.com for Cibil Dispute wrong ownership of business loan LK0000083029.\\nthis loan account doesnot belong to me wrongly reported by you to CIBIL.\\nthere is no acknowledgement of complain .This is unethical way of banking.',\n",
       "       '@Lendingkart call me sir deposiet loan amount',\n",
       "       '@Lendingkart sir is loan restructuring been passed in your company any update on it ?',\n",
       "       '@Lendingkart I want to pay EMI but not getting any response from customer service end such a poor service',\n",
       "       \"@Lendingkart From past 2 months I am asking you to stop reporting to TransUnion the false loan defaulter details but it seems like you are deaf enough or arrogant enough that you can do something just in the response of court's notice only.\\n--------------------x---------x-----1/2\",\n",
       "       '@Lendingkart Well I am going to file an FIR with Delhi police first and along with all the past messaging screenshots from here I will also send you a notice via court asking for the reason of this happening and when you granted me a personal loan and where did that money went?',\n",
       "       '@Lendingkart please suggest me alternate EMI payment option because of some technical error occurred in my icici saving account and cancelled all Ecs . My EMI payment date is 11th of sep',\n",
       "       '@Lendingkart @RBI @SupremeCourtFan @DasShaktikanta \\nMy loan running in lendingkart please do not harasment call at this time please my all business are close.i promise to lending when runnings my business ,I will pay just.',\n",
       "       '@Lendingkart @FinMinIndia \\non Sunday at 12:06\\nhow pathetic your company is sending recovery people to collect money as if I’m purposely not making payment, Country has been unlock but it doesn’t mean all the situation is back to normal and we earning money like before',\n",
       "       '@Lendingkart Pathetic service, I have active loan and want to discuss something, I have been trying to call on this toll free number 18005720202 but I always get automated response, it seems you have no one to talk to and solve your customers concerns.',\n",
       "       '@Lendingkart Why my Loan Application rejected?\\nMobile No:- 9046459600.',\n",
       "       \"@Lendingkart Sir, due to corona pandemic, my bussiness have been damage still I gave your EMI up to date 13.07.2020. Though I am not present in my village, what do you want to prove  me by sending a stranger to meThe stranger's phone number is 7326093075 @RBI\",\n",
       "       \"@Lendingkart Sir, due to corona pandemic, my bussiness have been damage still I gave your EMI up to date 13.07.2020. Though I am not present in my village, what do you want to prove  me by sending a stranger to meThe stranger's phone number is 7326093075 @FinMinIndia\",\n",
       "       \"@Lendingkart Sir, due to corona pandemic, my bussiness have been damage still I gave your EMI up to date 13.07.2020. Though I am not present in my village, what do you want to prove  me by sending a stranger to meThe stranger's phone number is 7326093075 @Republic_Bharat\",\n",
       "       \"@Lendingkart Sir, due to corona pandemic, my bussiness have been stopped, still I gave your EMI up to date 13.07.2020. Though I am not present in my village, what do you want to prove  me by sending a stranger to me.\\nThe stranger's phone number is 7326093075.@otvnews\",\n",
       "       \"@Lendingkart Sir, due to corona pandemic, my bussiness have been stopped, still I gave your EMI up to date 13.07.2020. Though I am not present in my village, what do you want to prove  me by sending a stranger to me.\\nThe stranger's phone number is 7326093075.@ZeeOdisha\",\n",
       "       \"@Lendingkart Sir, due to corona pandemic, my bussiness have been stopped, still I gave your EMI up to date 13.07.2020. Though I am not present in my village, what do you want to prove  me by sending a stranger to me.\\nThe stranger's phone number is 7326093075.@gyana_r_das\",\n",
       "       \"@Lendingkart Sir, due to corona pandemic, my bussiness have been stopped, still I gave your EMI up to date 13.07.2020. Though I am not present in my village, what do you want to prove  me by sending a stranger to me.\\nThe stranger's phone number is 7326093075.@ZeeNews\",\n",
       "       \"@Lendingkart Sir, due to corona pandemic, my bussiness have been stopped, still I gave your EMI up to date 13.07.2020. Though I am not present in my village, what do you want to prove  me by sending a stranger to me.\\nThe stranger's phone number is 7326093075.@aajtak\",\n",
       "       \"@Lendingkart Sir, due to corona pandemic, my bussiness have been stopped, still I gave your EMI up to date 13.07.2020. Though I am not present in my village, what do you want to prove  me by sending a stranger to me.\\nThe stranger's phone number is 7326093075.@IndiaTVHindi\",\n",
       "       \"@Lendingkart Sir, due to corona pandemic, my bussiness have been stopped, still I gave your EMI up to date 13.07.2020. Though I am not present in my village, what do you want to prove  me by sending a stranger to me.\\nThe stranger's phone number is 7326093075.@PMOIndia\",\n",
       "       \"@Lendingkart Sir, due to corona pandemic, my bussiness have been stopped, still I gave your EMI up to date 13.07.2020. Though I am not present in my village, what do you want to prove  me by sending a stranger to me.\\nThe stranger's phone number is 7326093075.@AmitShahOffice\",\n",
       "       '@Lendingkart supreme Court all ready delcare moratorium extend to 28sept so why you deduct my September emi I think @Lendingkart is above of Indian law Supreme Court and rbi also why ??@RBI @PMOIndia  NBFC is continuous harass his customers for payment',\n",
       "       'As Supreme Court Extended Moratorium till 28 Sept 2020,But LendingKart Finance Still Trying To Take Money Out Of my account.I want To Restructure My Loan Tenure.But LendingKart Is Not Following Supreme Court Order. @Lendingkart @RBI @BAI1959 @IndiaToday @PMOIndia @nsitharaman',\n",
       "       '@RBI getting recovery calls from @Lendingkart misbehaving and arguing not at all acceptable. We have requested to restructure our loan for 3 month But no update from you guys. Not done need urgent help 🆘. Last 2 days more than  20 calls, if this is the way you guys push is then',\n",
       "       '@Lendingkart Pls look and reply and I am ready to pay emi for this month. https://t.co/WE6QEEy2fe',\n",
       "       '@Lendingkart worst service by lendingkart finance\\nDucoments done  3 month ago. But same is not activate  ECS NACH mandate',\n",
       "       '@RBI , @Lendingkart , @nsitharaman @zeehelpline,@gopaysense \\n.\\nHi I m here to lets you know about my condition after covid19, I have completely finished after lockdown , n loan nbfc continuously hit esc to bounce in account, i need support from Indian government https://t.co/ExFIE5jcR4',\n",
       "       'Who is Going To Pay My Return Charges..Indian Govt./RBI/NBFC..I want My Return Charges Back..Poor Financial Position of India..Helpless India..Helpless Customers @PMOIndia @RBI @Lendingkart @DasShaktikanta @ndtvindia @nsitharaman @ABPNews @ravishndtv',\n",
       "       '@Lendingkart nt able to download loan statement',\n",
       "       '@PMOIndia @nsitharaman @OfficeofUT #Loan bank chased4disbursing loan,credit card we paid all on time now bad time theyRhounding us not ready 2restructure loan by just increasing tenure by declaring account NPA will they get money @HDFC_Bank @AxisBank @Lendingkart @clixcapital',\n",
       "       '@Lendingkart  pathetic service from your team, trying to reach you guys on a service request.',\n",
       "       '@Lendingkart plz provide loan restructuring/framework , because our business is destroyed during lockdown n covid peadmic.. lots of mail n dm have been done but no solution is provided till now..that will help in repayment ...plz connect .. #OperationHaftaVasoooli @RBI @PMOIndia',\n",
       "       \"@Lendingkart \\nWhat a poor service. Asking for loan statement from last 10 days and haven't received yet. Toll free number is suck. My registered mobile number is showing no loan in application. Very poor. Regret business with you. Poorest service.\",\n",
       "       \"@Lendingkart someone from your side call me that we extend tenure of repayment of business loan taken by us now your company mailed us after our several mail that you do nothing in repayment scheduled we don't know what type of your company and work culture. Just we need 60 M EMi\",\n",
       "       '@Lendingkart  I deposited my every single EMI even in lockdown and asked for few days in September and Deposited before the date given still have been fined. Kindly show some mercy🙏🙏🙏🙏. @RBI @narendramodi @ABPNews https://t.co/2OIAbFgbBq',\n",
       "       '@Lendingkart I want to dsa code for Ballia up',\n",
       "       '@Lendingkart Loan Application ID LAI-106826671, loan was sanctioned on 23rd July, documents sent on 25th July. But till date no intimation or payment is given.\\nNo reply of my emails and no response from my customer care.',\n",
       "       '@Lendingkart please call me very urgent 8058402081',\n",
       "       '@Lendingkart Is it possible a new business man can get loan from you or no. Pse inform?',\n",
       "       'Mr. Harwardhan Lumia @Lendingkart @paromespeaks thank U. Trusted U n shared documents but  circulating confidential documents of customer among ur sales executive is  breach of trust. Exe  msg/call n  harass for cross selling n behaves aggressive. Look into it plss.',\n",
       "       '@Lendingkart: 5th day in a row I am receiving the same e-mail every day &amp; next call will be “I am sorry, we are currently not providing any Loan facility to Travel Agents.” THEN WHY THE TEAM IS E-MAILING ME THIS EVERYDAY?\\n\\nAlso, FYI, #COVID19 hits hard travel and tourism industry https://t.co/lgOJH0u03Z',\n",
       "       'Sab bank jaake mai thak chuka hu. Docs submit but no response. Thoda time lagega.. baad me aayiye. Ye response.\\n\\nAny govt/ private /nbfc who can finance me 3 Lakhs for my business support ?? \\n@HDFCBank_Cares @Bajajfinserv0 @Faircent1 @indialends @Lendingkart @BankofIndia_IN',\n",
       "       '@PMOIndia @RBI @nsitharaman @Lendingkart @flexiloansin @IIFL the loan provider are daily processing nach fir collecting emi . Due to which per day rs 1000 is getting detucted..Please do not process nach after emi date',\n",
       "       \"@Lendingkart Dr Sir I'm IMRAN MONDAL from West Bengal in Kolkata.i want some borrow 500000 https://t.co/opZuyyXoCx please accepted My https://t.co/0mq7ColLfM My WhatsApp messenger 7890556551/you can call https://t.co/CKnj2O7Bgm waiting for your feedback\",\n",
       "       '@Lendingkart \\nnever loan from this company.\\nsept and oct 2 times charge my emi\\nwhy?\\nafter successful deduct emi how can you charge again emi?\\n@rbi any #nbfc not follow any rule, guideline.\\nAll nbfc make and follow self rule.\\n#legalaction',\n",
       "       '@PMOIndia @RBI @nsitharaman @Lendingkart @flexiloansin @IIFL @IDFCFIRSTBank the loan provider are daily processing nach for collecting emi . Due to which per day rs 1000 is getting detucted..Please do not process nach after emi date',\n",
       "       '@Lendingkart Why r u not offering funds under emergency credit line Guaranteed Scheme ( ECLGS).\\n@RBI\\n@PMOIndia\\n@narendramodi',\n",
       "       '@Lendingkart frequent reminders and mails for restructuring but till date no update but recovery agents are calling on daily basis even when explained the situation no one cares about it..',\n",
       "       '#moratorium3 @Lendingkart @RBI @nsitharaman @DasShaktikanta Dear Lendingkart, please understand that we are all Educated &amp; responsible citizens of this Country. We are not Fly-by-night operators so refrain yourself from processing ECS multiple times. Hope you will cooperate.',\n",
       "       '#moratorium3 @Lendingkart @RBI @DasShaktikanta @nsitharaman Dear Lendingkart,  kindly recall my request few days back when I have requested you all to share the number of your Director whom I can talk to and make him understand my situation but that was not to be.',\n",
       "       '@Lendingkart \\nSince April 17th 2020 ecs bounce charges leived by you even after opted Moratorium on time . From April 17th till dated except month of May sending ecs request to bank twice / thrice per month and OD A/c debt increasing month by month . Knd Refund all debited amt. https://t.co/RvWF8KYrwa',\n",
       "       \"I can't believe on my system how the RBI can ignore this king of written blunder mistakes . Same on😡\\n\\n@RBI \\n@Lendingkart \\n@PMOIndia \\n@nsitharamanoffc \\n@DasShaktikanta https://t.co/18wkhpRJGI\",\n",
       "       '#moratorium3 @Lendingkart @RBI @SCofIndia @nsitharaman @DasShaktikanta Dear Lendingkart, Following is the mail extract recd from you :\\nOct 24,   \\nThere are no further guidelines available for the extension of the moratorium from the RBI.',\n",
       "       '#moratorium3 @Lendingkart @RBI @SCofIndia Dear Lendingkart, It is really surprising to receive mail from your end that you all are not updated about RBI loan restructuring guidelines and keep on processing ECS just to extract penalty from individual borrowers.',\n",
       "       'I had a loan in Lendingkart fiance Ltd.I paid total due amount on 19th oct 2020.Everyday im pinging through mail to get confirmation.I shared every detail of that transaction to them,till date i did not get any confirmation. Pls help 2 raise complaint against them.@Lendingkart',\n",
       "       \"@Lendingkart we tried so many times to contact you. We want to get dsa code from @Lendingkart but didn't get any response from your end.\",\n",
       "       '@Lendingkart how many time use nach single EMI .....? https://t.co/aLQpyQ9tQT',\n",
       "       '@Lendingkart we just recd following sms from you.     [Last Day]\\nDear Customer, Kindly check your registered email inbox to get benefits on your business loan LAI-00098052 with Lendingkart Finance. BUT CALL TO CUSTOMER CARE THEY DROP PHONE IMMEDIATELY AND MIS BEHAVE.WE ARE NOT',\n",
       "       \"@Lendingkart \\nLandingkart Finance Limited's wrong practice towards the customer.\\nI have emailed my issues on care@lendingkart.com\",\n",
       "       '@Lendingkart worst ever service....since last week am calling to customer care bt its alwys busy...mailed my issue many times bt no response...folks dont ever deal with @Lendingkart',\n",
       "       \"@RBI @Lendingkart \\nHi,\\nI have got the business loan from Lendingkart. Due to corona I don't have business and I could not pay the emi for Sep month. In Oct I have paid my emi and I have informed them that I will pay hereafter on regular basis.\",\n",
       "       '@Lazy_Pay @CapitalFloat @KotakBankLtd @ICICIBank_Care @Lendingkart \\nCan we have a update on ex-Gratia benefits ? I guess 6months from April it has to be added',\n",
       "       'Sir my loan account id is LAI-00050164. Plz tell about compound interest waiver scheme. As per RBI declaration. @Lendingkart @RBI',\n",
       "       '@Lendingkart #Refund Pending.\\nSince April 17th 2020 ecs bounce charges leived by you even after opted Moratorium on time . From April 17th till dated except month of May sending ecs request to bank twice / thrice per month and OD A/c debt increasing month by month. https://t.co/ZVGPxsPNVB',\n",
       "       '@Lendingkart I applied for a personal loan but I have been facing this problem. \\nApplication no. LAI-107479540 https://t.co/OxFUBI4K7i',\n",
       "       '@Lendingkart strange that a word document format decides the decision of the loan rather than the credit worthyness',\n",
       "       '@Lendingkart How to apply BUSSINEs loan',\n",
       "       '@Lendingkart Waiting for Tds refund and N.O.C..Tried at call center but failed.only getting calls for fresh loan.Kindly refund tds',\n",
       "       '@Lendingkart Hey. I have made a payment towards for EMI through your app and also received an email confirmation. But the same has not yet been updated, and I am being still asked to pay the due. Please look into the issue.',\n",
       "       '@Lendingkart Dear lender,we are writing on behalf of our member Maruti Firewood company, As u issued demand notice,borrower due to loss of business n covid19 was unable to pay EMI, he says intentions r clear will pay as business cycle restarts,plz give some time,Plz help him https://t.co/2xIfLkMV2G',\n",
       "       \"Sir I have a loan account with @Lendingkart id is LAI-00050164. I make full payment of Rs.447844/- on 1/12/2020 but till we don't receive NOC or closer letter from @Lendingkart I contact many time but no solution. Related this plz help @RBI @nsitharaman @ianuragthakur @PMOIndia https://t.co/kpd8tylKxo\",\n",
       "       '@RBI @indSupremeCourt @barandbench @nsitharaman @PMOIndia @LCAI_Support @JBorrowers @SaveThemIndia @saibal201 @kirti_09dh as per lendingkart only attached scheme is available now in the name of Restructuring .\\n@Lendingkart how is it  possible ? emi after Moratorium @23149. https://t.co/0YpDqwPjXW',\n",
       "       'Hi All I have been trying to connect to your team for loan settlement @Lendingkart and did not receive any response @ndtv @nsitharaman @aampress pls help me out',\n",
       "       '@Lendingkart @LabourMinistry @consumeraction @ConsumerAffairs @AIOVA3 @CreditLoan As per attache mail still my TDS not refunded by lendingkart team and not even single reply on the same. Please do the needfull. https://t.co/pZ21cJ63Z4',\n",
       "       '@Lendingkart LAI-00095513 my loan account no. I want to settle this plz contact me...',\n",
       "       '@Lendingkart its been 1 month I am continuously following up for rbi restructuring plan.. On 26th Nov ur executive called me n agreed for 9months moratorium and said u will get emi detials in 48hr, since then I am continuously following up still no response @rbi @rmas @pmo'],\n",
       "      dtype=object)"
      ]
     },
     "execution_count": 212,
     "metadata": {},
     "output_type": "execute_result"
    }
   ],
   "source": [
    "select = post_queries_topic_sents_keywords['Topic_Keywords'].unique()[0]\n",
    "post_queries_topic_sents_keywords[post_queries_topic_sents_keywords['Topic_Keywords'] == select]['Text'].values\n"
   ]
  },
  {
   "cell_type": "code",
   "execution_count": 213,
   "metadata": {},
   "outputs": [
    {
     "name": "stderr",
     "output_type": "stream",
     "text": [
      "/Users/pushkar/miniforge3/envs/project/lib/python3.8/site-packages/plotly/io/_renderers.py:395: DeprecationWarning:\n",
      "\n",
      "distutils Version classes are deprecated. Use packaging.version instead.\n",
      "\n",
      "/Users/pushkar/miniforge3/envs/project/lib/python3.8/site-packages/plotly/io/_renderers.py:395: DeprecationWarning:\n",
      "\n",
      "distutils Version classes are deprecated. Use packaging.version instead.\n",
      "\n"
     ]
    },
    {
     "data": {
      "image/svg+xml": "<svg class=\"main-svg\" xmlns=\"http://www.w3.org/2000/svg\" xmlns:xlink=\"http://www.w3.org/1999/xlink\" width=\"900\" height=\"500\" style=\"\" viewBox=\"0 0 900 500\"><rect x=\"0\" y=\"0\" width=\"900\" height=\"500\" style=\"fill: rgb(255, 255, 255); fill-opacity: 1;\"/><defs id=\"defs-d96530\"><g class=\"clips\"><clipPath id=\"clipd96530xyplot\" class=\"plotclip\"><rect width=\"740\" height=\"320\"/></clipPath><clipPath class=\"axesclip\" id=\"clipd96530x\"><rect x=\"80\" y=\"0\" width=\"740\" height=\"500\"/></clipPath><clipPath class=\"axesclip\" id=\"clipd96530y\"><rect x=\"0\" y=\"100\" width=\"900\" height=\"320\"/></clipPath><clipPath class=\"axesclip\" id=\"clipd96530xy\"><rect x=\"80\" y=\"100\" width=\"740\" height=\"320\"/></clipPath></g><g class=\"gradients\"/><g class=\"patterns\"/></defs><g class=\"bglayer\"><rect class=\"bg\" x=\"80\" y=\"100\" width=\"740\" height=\"320\" style=\"fill: rgb(229, 236, 246); fill-opacity: 1; stroke-width: 0;\"/></g><g class=\"layer-below\"><g class=\"imagelayer\"/><g class=\"shapelayer\"/></g><g class=\"cartesianlayer\"><g class=\"subplot xy\"><g class=\"layer-subplot\"><g class=\"shapelayer\"/><g class=\"imagelayer\"/></g><g class=\"minor-gridlayer\"><g class=\"x\"/><g class=\"y\"/></g><g class=\"gridlayer\"><g class=\"x\"/><g class=\"y\"><path class=\"ygrid crisp\" transform=\"translate(0,356.67)\" d=\"M80,0h740\" style=\"stroke: rgb(255, 255, 255); stroke-opacity: 1; stroke-width: 1px;\"/><path class=\"ygrid crisp\" transform=\"translate(0,293.33000000000004)\" d=\"M80,0h740\" style=\"stroke: rgb(255, 255, 255); stroke-opacity: 1; stroke-width: 1px;\"/><path class=\"ygrid crisp\" transform=\"translate(0,230)\" d=\"M80,0h740\" style=\"stroke: rgb(255, 255, 255); stroke-opacity: 1; stroke-width: 1px;\"/><path class=\"ygrid crisp\" transform=\"translate(0,166.67000000000002)\" d=\"M80,0h740\" style=\"stroke: rgb(255, 255, 255); stroke-opacity: 1; stroke-width: 1px;\"/><path class=\"ygrid crisp\" transform=\"translate(0,103.33)\" d=\"M80,0h740\" style=\"stroke: rgb(255, 255, 255); stroke-opacity: 1; stroke-width: 1px;\"/></g></g><g class=\"zerolinelayer\"><path class=\"yzl zl crisp\" transform=\"translate(0,420)\" d=\"M80,0h740\" style=\"stroke: rgb(255, 255, 255); stroke-opacity: 1; stroke-width: 2px;\"/></g><path class=\"xlines-below\"/><path class=\"ylines-below\"/><g class=\"overlines-below\"/><g class=\"xaxislayer-below\"/><g class=\"yaxislayer-below\"/><g class=\"overaxes-below\"/><g class=\"plot\" transform=\"translate(80,100)\" clip-path=\"url(#clipd96530xyplot)\"><g class=\"barlayer mlayer\"><g class=\"trace bars\" style=\"opacity: 1;\"><g class=\"points\"><g class=\"point\"><path d=\"M37,320V16H333V320Z\" style=\"vector-effect: non-scaling-stroke; opacity: 1; stroke-width: 0.5px; fill: rgb(99, 110, 250); fill-opacity: 1; stroke: rgb(229, 236, 246); stroke-opacity: 1;\"/></g><g class=\"point\"><path d=\"M407,320V66.67H703V320Z\" style=\"vector-effect: non-scaling-stroke; opacity: 1; stroke-width: 0.5px; fill: rgb(99, 110, 250); fill-opacity: 1; stroke: rgb(229, 236, 246); stroke-opacity: 1;\"/></g></g></g></g></g><g class=\"overplot\"/><path class=\"xlines-above crisp\" d=\"M0,0\" style=\"fill: none;\"/><path class=\"ylines-above crisp\" d=\"M0,0\" style=\"fill: none;\"/><g class=\"overlines-above\"/><g class=\"xaxislayer-above\"><g class=\"xtick\"><text text-anchor=\"middle\" x=\"0\" y=\"433\" transform=\"translate(80,0)\" style=\"font-family: 'Open Sans', verdana, arial, sans-serif; font-size: 12px; fill: rgb(42, 63, 95); fill-opacity: 1; white-space: pre; opacity: 1;\">−0.5</text></g><g class=\"xtick\"><text text-anchor=\"middle\" x=\"0\" y=\"433\" style=\"font-family: 'Open Sans', verdana, arial, sans-serif; font-size: 12px; fill: rgb(42, 63, 95); fill-opacity: 1; white-space: pre; opacity: 1;\" transform=\"translate(265,0)\">0</text></g><g class=\"xtick\"><text text-anchor=\"middle\" x=\"0\" y=\"433\" style=\"font-family: 'Open Sans', verdana, arial, sans-serif; font-size: 12px; fill: rgb(42, 63, 95); fill-opacity: 1; white-space: pre; opacity: 1;\" transform=\"translate(450,0)\">0.5</text></g><g class=\"xtick\"><text text-anchor=\"middle\" x=\"0\" y=\"433\" style=\"font-family: 'Open Sans', verdana, arial, sans-serif; font-size: 12px; fill: rgb(42, 63, 95); fill-opacity: 1; white-space: pre; opacity: 1;\" transform=\"translate(635,0)\">1</text></g><g class=\"xtick\"><text text-anchor=\"middle\" x=\"0\" y=\"433\" style=\"font-family: 'Open Sans', verdana, arial, sans-serif; font-size: 12px; fill: rgb(42, 63, 95); fill-opacity: 1; white-space: pre; opacity: 1;\" transform=\"translate(820,0)\">1.5</text></g></g><g class=\"yaxislayer-above\"><g class=\"ytick\"><text text-anchor=\"end\" x=\"79\" y=\"4.199999999999999\" transform=\"translate(0,420)\" style=\"font-family: 'Open Sans', verdana, arial, sans-serif; font-size: 12px; fill: rgb(42, 63, 95); fill-opacity: 1; white-space: pre; opacity: 1;\">0</text></g><g class=\"ytick\"><text text-anchor=\"end\" x=\"79\" y=\"4.199999999999999\" style=\"font-family: 'Open Sans', verdana, arial, sans-serif; font-size: 12px; fill: rgb(42, 63, 95); fill-opacity: 1; white-space: pre; opacity: 1;\" transform=\"translate(0,356.67)\">50</text></g><g class=\"ytick\"><text text-anchor=\"end\" x=\"79\" y=\"4.199999999999999\" style=\"font-family: 'Open Sans', verdana, arial, sans-serif; font-size: 12px; fill: rgb(42, 63, 95); fill-opacity: 1; white-space: pre; opacity: 1;\" transform=\"translate(0,293.33000000000004)\">100</text></g><g class=\"ytick\"><text text-anchor=\"end\" x=\"79\" y=\"4.199999999999999\" style=\"font-family: 'Open Sans', verdana, arial, sans-serif; font-size: 12px; fill: rgb(42, 63, 95); fill-opacity: 1; white-space: pre; opacity: 1;\" transform=\"translate(0,230)\">150</text></g><g class=\"ytick\"><text text-anchor=\"end\" x=\"79\" y=\"4.199999999999999\" style=\"font-family: 'Open Sans', verdana, arial, sans-serif; font-size: 12px; fill: rgb(42, 63, 95); fill-opacity: 1; white-space: pre; opacity: 1;\" transform=\"translate(0,166.67000000000002)\">200</text></g><g class=\"ytick\"><text text-anchor=\"end\" x=\"79\" y=\"4.199999999999999\" style=\"font-family: 'Open Sans', verdana, arial, sans-serif; font-size: 12px; fill: rgb(42, 63, 95); fill-opacity: 1; white-space: pre; opacity: 1;\" transform=\"translate(0,103.33)\">250</text></g></g><g class=\"overaxes-above\"/></g></g><g class=\"polarlayer\"/><g class=\"smithlayer\"/><g class=\"ternarylayer\"/><g class=\"geolayer\"/><g class=\"funnelarealayer\"/><g class=\"pielayer\"/><g class=\"iciclelayer\"/><g class=\"treemaplayer\"/><g class=\"sunburstlayer\"/><g class=\"glimages\"/><defs id=\"topdefs-d96530\"><g class=\"clips\"/></defs><g class=\"layer-above\"><g class=\"imagelayer\"/><g class=\"shapelayer\"/></g><g class=\"infolayer\"><g class=\"g-gtitle\"><text class=\"gtitle\" x=\"45\" y=\"50\" text-anchor=\"start\" dy=\"0em\" style=\"font-family: 'Open Sans', verdana, arial, sans-serif; font-size: 17px; fill: rgb(42, 63, 95); opacity: 1; font-weight: normal; white-space: pre;\">Topics Distribution</text></g><g class=\"g-xtitle\"><text class=\"xtitle\" x=\"450\" y=\"460.3\" text-anchor=\"middle\" style=\"font-family: 'Open Sans', verdana, arial, sans-serif; font-size: 14px; fill: rgb(42, 63, 95); opacity: 1; font-weight: normal; white-space: pre;\">Topic_Numbers</text></g><g class=\"g-ytitle\"><text class=\"ytitle\" transform=\"rotate(-90,31.309375000000003,260)\" x=\"31.309375000000003\" y=\"260\" text-anchor=\"middle\" style=\"font-family: 'Open Sans', verdana, arial, sans-serif; font-size: 14px; fill: rgb(42, 63, 95); opacity: 1; font-weight: normal; white-space: pre;\">Document_Counts</text></g></g></svg>"
     },
     "metadata": {},
     "output_type": "display_data"
    }
   ],
   "source": [
    "post_queries_dist, fig = processor.plot_topic_distribution(post_queries_topic_sents_keywords)\n",
    "fig.show()"
   ]
  },
  {
   "cell_type": "code",
   "execution_count": null,
   "metadata": {},
   "outputs": [],
   "source": []
  }
 ],
 "metadata": {
  "kernelspec": {
   "display_name": "Python 3.8.13 ('project')",
   "language": "python",
   "name": "python3"
  },
  "language_info": {
   "codemirror_mode": {
    "name": "ipython",
    "version": 3
   },
   "file_extension": ".py",
   "mimetype": "text/x-python",
   "name": "python",
   "nbconvert_exporter": "python",
   "pygments_lexer": "ipython3",
   "version": "3.8.13"
  },
  "orig_nbformat": 4,
  "vscode": {
   "interpreter": {
    "hash": "af77eb27f514ee114388f6898d9553454263f7eea260918546d16a8e581c8922"
   }
  }
 },
 "nbformat": 4,
 "nbformat_minor": 2
}
