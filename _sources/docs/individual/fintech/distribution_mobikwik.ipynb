{
 "cells": [
  {
   "cell_type": "markdown",
   "metadata": {},
   "source": [
    "# Mobikwik"
   ]
  },
  {
   "cell_type": "code",
   "execution_count": 1,
   "metadata": {},
   "outputs": [
    {
     "data": {
      "text/plain": [
       "<module 'utils.helper' from '/Users/pushkar/Documents/projects/fin_comp/comp/docs/utils/helper.py'>"
      ]
     },
     "execution_count": 1,
     "metadata": {},
     "output_type": "execute_result"
    }
   ],
   "source": [
    "# Load necessary libraries\n",
    "import sys\n",
    "import glob\n",
    "import warnings\n",
    "warnings.filterwarnings('ignore')\n",
    "import pandas as pd\n",
    "import seaborn as sns\n",
    "import matplotlib.pyplot as plt\n",
    "import gensim\n",
    "import spacy\n",
    "import numpy as np\n",
    "import tqdm.notebook as tqdm\n",
    "from tqdm.auto import tqdm\n",
    "tqdm.pandas()\n",
    "from pprint import pprint\n",
    "import pickle\n",
    "import plotly.express as px\n",
    "import pyLDAvis\n",
    "\n",
    "sys.path.append('/Users/pushkar/Documents/projects/fin_comp/comp/docs')\n",
    "\n",
    "import utils.helper\n",
    "from utils.helper import Processor\n",
    "import importlib\n",
    "importlib.reload(utils.helper)"
   ]
  },
  {
   "cell_type": "code",
   "execution_count": 2,
   "metadata": {},
   "outputs": [],
   "source": [
    "# Load data\n",
    "df = pd.read_csv('./../../data/fintech/mobikwik/mobikwik.csv')"
   ]
  },
  {
   "cell_type": "code",
   "execution_count": 3,
   "metadata": {},
   "outputs": [
    {
     "data": {
      "text/plain": [
       "(53210, 27)"
      ]
     },
     "execution_count": 3,
     "metadata": {},
     "output_type": "execute_result"
    }
   ],
   "source": [
    "# Know the shape of the loaded data\n",
    "df.shape"
   ]
  },
  {
   "cell_type": "markdown",
   "metadata": {},
   "source": [
    "Perform lemmatization, word correction"
   ]
  },
  {
   "cell_type": "code",
   "execution_count": 4,
   "metadata": {},
   "outputs": [],
   "source": [
    "words = [\"harassment\", \"fraud\", \"restructure\", \"covid19 relief\", \"force\", \"money cut\", \"unethical\", \"fake\", \"false promise\", \"shutdown\",\n",
    "         \"moratorium\", \"no response\", \"scam\", \"no answer\", \"love\", \"responsive\", \"very bad\", \"machine learning\", \"algorithm\", \"delay\", \n",
    "         \"leveraging\"]"
   ]
  },
  {
   "cell_type": "code",
   "execution_count": 5,
   "metadata": {},
   "outputs": [],
   "source": [
    "processor = Processor('./../../data/config.json')"
   ]
  },
  {
   "cell_type": "code",
   "execution_count": 6,
   "metadata": {},
   "outputs": [],
   "source": [
    "pre_df = df[df['date'] < '2020-02-01']\n",
    "post_df = df[df['date'] >= '2020-02-01']"
   ]
  },
  {
   "cell_type": "code",
   "execution_count": 7,
   "metadata": {},
   "outputs": [
    {
     "name": "stderr",
     "output_type": "stream",
     "text": [
      "100%|██████████| 21/21 [32:12<00:00, 92.01s/it]  \n"
     ]
    }
   ],
   "source": [
    "pre_result = processor.words_distribution(pre_df, words)"
   ]
  },
  {
   "cell_type": "code",
   "execution_count": 8,
   "metadata": {},
   "outputs": [],
   "source": [
    "pre_df.to_csv('./../../data/fintech/mobikwik/pre_wd.csv', index=False)"
   ]
  },
  {
   "cell_type": "code",
   "execution_count": 9,
   "metadata": {},
   "outputs": [
    {
     "name": "stderr",
     "output_type": "stream",
     "text": [
      "100%|██████████| 21/21 [22:49<00:00, 65.21s/it]\n"
     ]
    }
   ],
   "source": [
    "post_result = processor.words_distribution(post_df, words)"
   ]
  },
  {
   "cell_type": "code",
   "execution_count": 10,
   "metadata": {},
   "outputs": [],
   "source": [
    "post_df.to_csv('./../../data/fintech/mobikwik/post_wd.csv', index=False)"
   ]
  },
  {
   "cell_type": "code",
   "execution_count": 11,
   "metadata": {},
   "outputs": [
    {
     "data": {
      "text/html": [
       "<div>\n",
       "<style scoped>\n",
       "    .dataframe tbody tr th:only-of-type {\n",
       "        vertical-align: middle;\n",
       "    }\n",
       "\n",
       "    .dataframe tbody tr th {\n",
       "        vertical-align: top;\n",
       "    }\n",
       "\n",
       "    .dataframe thead th {\n",
       "        text-align: right;\n",
       "    }\n",
       "</style>\n",
       "<table border=\"1\" class=\"dataframe\">\n",
       "  <thead>\n",
       "    <tr style=\"text-align: right;\">\n",
       "      <th></th>\n",
       "      <th>words</th>\n",
       "      <th>false_cnt</th>\n",
       "      <th>true_cnt</th>\n",
       "      <th>false_percent</th>\n",
       "      <th>true_percent</th>\n",
       "    </tr>\n",
       "  </thead>\n",
       "  <tbody>\n",
       "    <tr>\n",
       "      <th>0</th>\n",
       "      <td>harassment</td>\n",
       "      <td>19715</td>\n",
       "      <td>16</td>\n",
       "      <td>99.918909</td>\n",
       "      <td>0.081091</td>\n",
       "    </tr>\n",
       "    <tr>\n",
       "      <th>1</th>\n",
       "      <td>fraud</td>\n",
       "      <td>18523</td>\n",
       "      <td>1208</td>\n",
       "      <td>93.877654</td>\n",
       "      <td>6.122346</td>\n",
       "    </tr>\n",
       "    <tr>\n",
       "      <th>2</th>\n",
       "      <td>restructure</td>\n",
       "      <td>19731</td>\n",
       "      <td>0</td>\n",
       "      <td>100.000000</td>\n",
       "      <td>0.000000</td>\n",
       "    </tr>\n",
       "    <tr>\n",
       "      <th>3</th>\n",
       "      <td>covid19 relief</td>\n",
       "      <td>19731</td>\n",
       "      <td>0</td>\n",
       "      <td>100.000000</td>\n",
       "      <td>0.000000</td>\n",
       "    </tr>\n",
       "    <tr>\n",
       "      <th>4</th>\n",
       "      <td>force</td>\n",
       "      <td>19693</td>\n",
       "      <td>38</td>\n",
       "      <td>99.807410</td>\n",
       "      <td>0.192590</td>\n",
       "    </tr>\n",
       "    <tr>\n",
       "      <th>5</th>\n",
       "      <td>money cut</td>\n",
       "      <td>19729</td>\n",
       "      <td>2</td>\n",
       "      <td>99.989864</td>\n",
       "      <td>0.010136</td>\n",
       "    </tr>\n",
       "    <tr>\n",
       "      <th>6</th>\n",
       "      <td>unethical</td>\n",
       "      <td>19719</td>\n",
       "      <td>12</td>\n",
       "      <td>99.939182</td>\n",
       "      <td>0.060818</td>\n",
       "    </tr>\n",
       "    <tr>\n",
       "      <th>7</th>\n",
       "      <td>fake</td>\n",
       "      <td>19539</td>\n",
       "      <td>192</td>\n",
       "      <td>99.026912</td>\n",
       "      <td>0.973088</td>\n",
       "    </tr>\n",
       "    <tr>\n",
       "      <th>8</th>\n",
       "      <td>false promise</td>\n",
       "      <td>19714</td>\n",
       "      <td>17</td>\n",
       "      <td>99.913841</td>\n",
       "      <td>0.086159</td>\n",
       "    </tr>\n",
       "    <tr>\n",
       "      <th>9</th>\n",
       "      <td>shutdown</td>\n",
       "      <td>19725</td>\n",
       "      <td>6</td>\n",
       "      <td>99.969591</td>\n",
       "      <td>0.030409</td>\n",
       "    </tr>\n",
       "    <tr>\n",
       "      <th>10</th>\n",
       "      <td>moratorium</td>\n",
       "      <td>19731</td>\n",
       "      <td>0</td>\n",
       "      <td>100.000000</td>\n",
       "      <td>0.000000</td>\n",
       "    </tr>\n",
       "    <tr>\n",
       "      <th>11</th>\n",
       "      <td>no response</td>\n",
       "      <td>19487</td>\n",
       "      <td>244</td>\n",
       "      <td>98.763367</td>\n",
       "      <td>1.236633</td>\n",
       "    </tr>\n",
       "    <tr>\n",
       "      <th>12</th>\n",
       "      <td>scam</td>\n",
       "      <td>19643</td>\n",
       "      <td>88</td>\n",
       "      <td>99.554001</td>\n",
       "      <td>0.445999</td>\n",
       "    </tr>\n",
       "    <tr>\n",
       "      <th>13</th>\n",
       "      <td>no answer</td>\n",
       "      <td>19723</td>\n",
       "      <td>8</td>\n",
       "      <td>99.959455</td>\n",
       "      <td>0.040545</td>\n",
       "    </tr>\n",
       "    <tr>\n",
       "      <th>14</th>\n",
       "      <td>love</td>\n",
       "      <td>19620</td>\n",
       "      <td>111</td>\n",
       "      <td>99.437433</td>\n",
       "      <td>0.562567</td>\n",
       "    </tr>\n",
       "    <tr>\n",
       "      <th>15</th>\n",
       "      <td>responsive</td>\n",
       "      <td>19721</td>\n",
       "      <td>10</td>\n",
       "      <td>99.949318</td>\n",
       "      <td>0.050682</td>\n",
       "    </tr>\n",
       "    <tr>\n",
       "      <th>16</th>\n",
       "      <td>very bad</td>\n",
       "      <td>19626</td>\n",
       "      <td>105</td>\n",
       "      <td>99.467842</td>\n",
       "      <td>0.532158</td>\n",
       "    </tr>\n",
       "    <tr>\n",
       "      <th>17</th>\n",
       "      <td>machine learning</td>\n",
       "      <td>19731</td>\n",
       "      <td>0</td>\n",
       "      <td>100.000000</td>\n",
       "      <td>0.000000</td>\n",
       "    </tr>\n",
       "    <tr>\n",
       "      <th>18</th>\n",
       "      <td>algorithm</td>\n",
       "      <td>19730</td>\n",
       "      <td>1</td>\n",
       "      <td>99.994932</td>\n",
       "      <td>0.005068</td>\n",
       "    </tr>\n",
       "    <tr>\n",
       "      <th>19</th>\n",
       "      <td>delay</td>\n",
       "      <td>19685</td>\n",
       "      <td>46</td>\n",
       "      <td>99.766864</td>\n",
       "      <td>0.233136</td>\n",
       "    </tr>\n",
       "    <tr>\n",
       "      <th>20</th>\n",
       "      <td>leveraging</td>\n",
       "      <td>19731</td>\n",
       "      <td>0</td>\n",
       "      <td>100.000000</td>\n",
       "      <td>0.000000</td>\n",
       "    </tr>\n",
       "  </tbody>\n",
       "</table>\n",
       "</div>"
      ],
      "text/plain": [
       "               words  false_cnt  true_cnt  false_percent  true_percent\n",
       "0         harassment      19715        16      99.918909      0.081091\n",
       "1              fraud      18523      1208      93.877654      6.122346\n",
       "2        restructure      19731         0     100.000000      0.000000\n",
       "3     covid19 relief      19731         0     100.000000      0.000000\n",
       "4              force      19693        38      99.807410      0.192590\n",
       "5          money cut      19729         2      99.989864      0.010136\n",
       "6          unethical      19719        12      99.939182      0.060818\n",
       "7               fake      19539       192      99.026912      0.973088\n",
       "8      false promise      19714        17      99.913841      0.086159\n",
       "9           shutdown      19725         6      99.969591      0.030409\n",
       "10        moratorium      19731         0     100.000000      0.000000\n",
       "11       no response      19487       244      98.763367      1.236633\n",
       "12              scam      19643        88      99.554001      0.445999\n",
       "13         no answer      19723         8      99.959455      0.040545\n",
       "14              love      19620       111      99.437433      0.562567\n",
       "15        responsive      19721        10      99.949318      0.050682\n",
       "16          very bad      19626       105      99.467842      0.532158\n",
       "17  machine learning      19731         0     100.000000      0.000000\n",
       "18         algorithm      19730         1      99.994932      0.005068\n",
       "19             delay      19685        46      99.766864      0.233136\n",
       "20        leveraging      19731         0     100.000000      0.000000"
      ]
     },
     "execution_count": 11,
     "metadata": {},
     "output_type": "execute_result"
    }
   ],
   "source": [
    "pre_result"
   ]
  },
  {
   "cell_type": "code",
   "execution_count": 14,
   "metadata": {},
   "outputs": [
    {
     "data": {
      "text/plain": [
       "<AxesSubplot: xlabel='true_cnt', ylabel='words'>"
      ]
     },
     "execution_count": 14,
     "metadata": {},
     "output_type": "execute_result"
    },
    {
     "data": {
      "image/png": "[encoded data removed]",
      "text/plain": [
       "<Figure size 2000x1000 with 2 Axes>"
      ]
     },
     "metadata": {},
     "output_type": "display_data"
    }
   ],
   "source": [
    "fig, axes = plt.subplots(1, 2, figsize=(20, 10))\n",
    "\n",
    "sns.barplot(x='true_cnt', y='words', data=pre_result, orient='h', ax=axes[0])\n",
    "\n",
    "sns.barplot(x='true_cnt', y='words', data=post_result, orient='h', ax=axes[1])"
   ]
  },
  {
   "cell_type": "code",
   "execution_count": null,
   "metadata": {},
   "outputs": [],
   "source": []
  }
 ],
 "metadata": {
  "kernelspec": {
   "display_name": "Python 3.8.13 ('project')",
   "language": "python",
   "name": "python3"
  },
  "language_info": {
   "codemirror_mode": {
    "name": "ipython",
    "version": 3
   },
   "file_extension": ".py",
   "mimetype": "text/x-python",
   "name": "python",
   "nbconvert_exporter": "python",
   "pygments_lexer": "ipython3",
   "version": "3.8.13"
  },
  "orig_nbformat": 4,
  "vscode": {
   "interpreter": {
    "hash": "af77eb27f514ee114388f6898d9553454263f7eea260918546d16a8e581c8922"
   }
  }
 },
 "nbformat": 4,
 "nbformat_minor": 2
}
