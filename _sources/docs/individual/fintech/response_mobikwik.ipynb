{
 "cells": [
  {
   "cell_type": "markdown",
   "metadata": {},
   "source": [
    "# Mobikwik"
   ]
  },
  {
   "cell_type": "code",
   "execution_count": 47,
   "metadata": {},
   "outputs": [],
   "source": [
    "# Load necessary libraries\n",
    "import sys\n",
    "import warnings\n",
    "warnings.filterwarnings('ignore')\n",
    "import datetime\n",
    "import pandas as pd\n",
    "import gensim\n",
    "import tqdm.notebook as tqdm\n",
    "from tqdm.auto import tqdm\n",
    "tqdm.pandas()\n",
    "\n",
    "sys.path.append('/Users/pushkar/Documents/projects/fin_comp/comp/docs')\n",
    "\n",
    "import utils.helper\n",
    "from utils.helper import Processor\n",
    "import importlib\n",
    "importlib.reload(utils.helper)\n",
    "\n",
    "import plotly.io as pio\n",
    "svg_renderer = pio.renderers[\"svg\"]\n",
    "svg_renderer.width = 900\n",
    "svg_renderer.height = 500\n",
    "pio.renderers.default = \"svg\"\n",
    "import plotly.express as px"
   ]
  },
  {
   "cell_type": "code",
   "execution_count": 2,
   "metadata": {},
   "outputs": [],
   "source": [
    "# Load data\n",
    "df = pd.read_csv('./../../data/fintech/mobikwik/mobikwik.csv')"
   ]
  },
  {
   "cell_type": "code",
   "execution_count": 25,
   "metadata": {},
   "outputs": [],
   "source": [
    "# Company username\n",
    "company_username = 'MobiKwikSWAT'"
   ]
  },
  {
   "cell_type": "code",
   "execution_count": 4,
   "metadata": {},
   "outputs": [],
   "source": [
    "# Correct the format of variables\n",
    "df['inReplyToTweetId'] = df['inReplyToTweetId'].apply(lambda x: '%.0f' % x).values.tolist()\n",
    "df['conversation_id'] = df['conversation_id'].astype(str)"
   ]
  },
  {
   "cell_type": "code",
   "execution_count": 5,
   "metadata": {},
   "outputs": [],
   "source": [
    "# Declare the query words\n",
    "query_words = ['dm', 'customer experience', 'inconvenience', 'concern team', 'resolve', \n",
    "                'solve', 'no noc', 'await response', 'unpleasant experience']"
   ]
  },
  {
   "cell_type": "code",
   "execution_count": 6,
   "metadata": {},
   "outputs": [],
   "source": [
    "# Declare the processor object\n",
    "processor = Processor('./../../data/config.json')"
   ]
  },
  {
   "cell_type": "code",
   "execution_count": 7,
   "metadata": {},
   "outputs": [
    {
     "data": {
      "application/vnd.jupyter.widget-view+json": {
       "model_id": "d3617f7eefd14dfb9efacb0b715cbbb3",
       "version_major": 2,
       "version_minor": 0
      },
      "text/plain": [
       "  0%|          | 0/9 [00:00<?, ?it/s]"
      ]
     },
     "metadata": {},
     "output_type": "display_data"
    }
   ],
   "source": [
    "# Check whether an observation is query for the company or not\n",
    "df['is_query'] = 0\n",
    "\n",
    "for word in tqdm(query_words):\n",
    "    df['is_query'] = df['is_query'] + df['tweet'].apply(processor.word_distribution, find=word).astype(int)"
   ]
  },
  {
   "cell_type": "code",
   "execution_count": 26,
   "metadata": {},
   "outputs": [],
   "source": [
    "# Select observations of queries\n",
    "qdf = df[(df['is_query']>0) & (df['username'] == company_username)]"
   ]
  },
  {
   "cell_type": "code",
   "execution_count": 27,
   "metadata": {},
   "outputs": [
    {
     "data": {
      "text/plain": [
       "(237, 28)"
      ]
     },
     "execution_count": 27,
     "metadata": {},
     "output_type": "execute_result"
    }
   ],
   "source": [
    "qdf.shape"
   ]
  },
  {
   "cell_type": "code",
   "execution_count": 28,
   "metadata": {},
   "outputs": [
    {
     "name": "stdout",
     "output_type": "stream",
     "text": [
      "Total number of unique conversations: 234\n"
     ]
    }
   ],
   "source": [
    "# Get all the conversation ids\n",
    "conversation_ids = qdf['conversation_id'].unique()\n",
    "print(f\"Total number of unique conversations: {len(conversation_ids)}\")"
   ]
  },
  {
   "cell_type": "code",
   "execution_count": 29,
   "metadata": {},
   "outputs": [],
   "source": [
    "df['date'] = pd.to_datetime(df['date'])"
   ]
  },
  {
   "cell_type": "markdown",
   "metadata": {},
   "source": [
    "## Response time"
   ]
  },
  {
   "cell_type": "markdown",
   "metadata": {},
   "source": [
    "Response time is the time the company takes to respond to the first query."
   ]
  },
  {
   "cell_type": "code",
   "execution_count": 30,
   "metadata": {},
   "outputs": [],
   "source": [
    "result = pd.DataFrame()\n",
    "result['conversation_id'] = conversation_ids\n",
    "result['response_time'] = 0"
   ]
  },
  {
   "cell_type": "code",
   "execution_count": 31,
   "metadata": {},
   "outputs": [],
   "source": [
    "for index, conversation_id in enumerate(conversation_ids):\n",
    "    tmp = df[df['conversation_id'] == conversation_id]\n",
    "    tmp.sort_values('date', ascending=True, inplace=True)\n",
    "    comp_tmp = tmp[tmp['username'] == company_username]\n",
    "    response_time = (comp_tmp.iloc[0]['date'] - tmp.iloc[0]['date']) / datetime.timedelta(hours=1)\n",
    "    result.at[index, 'response_time'] = response_time"
   ]
  },
  {
   "cell_type": "code",
   "execution_count": 32,
   "metadata": {},
   "outputs": [
    {
     "data": {
      "text/html": [
       "<div>\n",
       "<style scoped>\n",
       "    .dataframe tbody tr th:only-of-type {\n",
       "        vertical-align: middle;\n",
       "    }\n",
       "\n",
       "    .dataframe tbody tr th {\n",
       "        vertical-align: top;\n",
       "    }\n",
       "\n",
       "    .dataframe thead th {\n",
       "        text-align: right;\n",
       "    }\n",
       "</style>\n",
       "<table border=\"1\" class=\"dataframe\">\n",
       "  <thead>\n",
       "    <tr style=\"text-align: right;\">\n",
       "      <th></th>\n",
       "      <th>conversation_id</th>\n",
       "      <th>response_time</th>\n",
       "    </tr>\n",
       "  </thead>\n",
       "  <tbody>\n",
       "    <tr>\n",
       "      <th>0</th>\n",
       "      <td>1343398089277595648</td>\n",
       "      <td>0.000000</td>\n",
       "    </tr>\n",
       "    <tr>\n",
       "      <th>1</th>\n",
       "      <td>1335260303009882112</td>\n",
       "      <td>0.000000</td>\n",
       "    </tr>\n",
       "    <tr>\n",
       "      <th>2</th>\n",
       "      <td>1333639022715944960</td>\n",
       "      <td>143.658889</td>\n",
       "    </tr>\n",
       "    <tr>\n",
       "      <th>3</th>\n",
       "      <td>1333048476918116352</td>\n",
       "      <td>0.000000</td>\n",
       "    </tr>\n",
       "    <tr>\n",
       "      <th>4</th>\n",
       "      <td>1333021985534668802</td>\n",
       "      <td>0.000000</td>\n",
       "    </tr>\n",
       "    <tr>\n",
       "      <th>...</th>\n",
       "      <td>...</td>\n",
       "      <td>...</td>\n",
       "    </tr>\n",
       "    <tr>\n",
       "      <th>229</th>\n",
       "      <td>1083275847778222080</td>\n",
       "      <td>0.000000</td>\n",
       "    </tr>\n",
       "    <tr>\n",
       "      <th>230</th>\n",
       "      <td>1082941120399560704</td>\n",
       "      <td>0.082500</td>\n",
       "    </tr>\n",
       "    <tr>\n",
       "      <th>231</th>\n",
       "      <td>1082865424310517761</td>\n",
       "      <td>27.335556</td>\n",
       "    </tr>\n",
       "    <tr>\n",
       "      <th>232</th>\n",
       "      <td>1082938998773989376</td>\n",
       "      <td>0.000000</td>\n",
       "    </tr>\n",
       "    <tr>\n",
       "      <th>233</th>\n",
       "      <td>1082308420688961536</td>\n",
       "      <td>0.000000</td>\n",
       "    </tr>\n",
       "  </tbody>\n",
       "</table>\n",
       "<p>234 rows × 2 columns</p>\n",
       "</div>"
      ],
      "text/plain": [
       "         conversation_id  response_time\n",
       "0    1343398089277595648       0.000000\n",
       "1    1335260303009882112       0.000000\n",
       "2    1333639022715944960     143.658889\n",
       "3    1333048476918116352       0.000000\n",
       "4    1333021985534668802       0.000000\n",
       "..                   ...            ...\n",
       "229  1083275847778222080       0.000000\n",
       "230  1082941120399560704       0.082500\n",
       "231  1082865424310517761      27.335556\n",
       "232  1082938998773989376       0.000000\n",
       "233  1082308420688961536       0.000000\n",
       "\n",
       "[234 rows x 2 columns]"
      ]
     },
     "execution_count": 32,
     "metadata": {},
     "output_type": "execute_result"
    }
   ],
   "source": [
    "result"
   ]
  },
  {
   "cell_type": "code",
   "execution_count": 35,
   "metadata": {},
   "outputs": [
    {
     "data": {
      "image/svg+xml": "<svg class=\"main-svg\" xmlns=\"http://www.w3.org/2000/svg\" xmlns:xlink=\"http://www.w3.org/1999/xlink\" width=\"900\" height=\"500\" style=\"\" viewBox=\"0 0 900 500\"><rect x=\"0\" y=\"0\" width=\"900\" height=\"500\" style=\"fill: rgb(255, 255, 255); fill-opacity: 1;\"/><defs id=\"defs-0ffb70\"><g class=\"clips\"><clipPath id=\"clip0ffb70xyplot\" class=\"plotclip\"><rect width=\"740\" height=\"266.112\"/></clipPath><clipPath id=\"clip0ffb70x2y2plot\" class=\"plotclip\"><rect width=\"740\" height=\"50.687999999999995\"/></clipPath><clipPath class=\"axesclip\" id=\"clip0ffb70x\"><rect x=\"80\" y=\"0\" width=\"740\" height=\"500\"/></clipPath><clipPath class=\"axesclip\" id=\"clip0ffb70y\"><rect x=\"0\" y=\"153.888\" width=\"900\" height=\"266.112\"/></clipPath><clipPath class=\"axesclip\" id=\"clip0ffb70xy\"><rect x=\"80\" y=\"153.888\" width=\"740\" height=\"266.112\"/></clipPath><clipPath class=\"axesclip\" id=\"clip0ffb70y2\"><rect x=\"0\" y=\"100\" width=\"900\" height=\"50.687999999999995\"/></clipPath><clipPath class=\"axesclip\" id=\"clip0ffb70xy2\"><rect x=\"80\" y=\"100\" width=\"740\" height=\"50.687999999999995\"/></clipPath><clipPath class=\"axesclip\" id=\"clip0ffb70x2\"><rect x=\"80\" y=\"0\" width=\"740\" height=\"500\"/></clipPath><clipPath class=\"axesclip\" id=\"clip0ffb70x2y\"><rect x=\"80\" y=\"153.888\" width=\"740\" height=\"266.112\"/></clipPath><clipPath class=\"axesclip\" id=\"clip0ffb70x2y2\"><rect x=\"80\" y=\"100\" width=\"740\" height=\"50.687999999999995\"/></clipPath></g><g class=\"gradients\"/><g class=\"patterns\"/></defs><g class=\"bglayer\"><rect class=\"bg\" x=\"80\" y=\"153.888\" width=\"740\" height=\"266.112\" style=\"fill: rgb(229, 236, 246); fill-opacity: 1; stroke-width: 0;\"/><rect class=\"bg\" x=\"80\" y=\"100\" width=\"740\" height=\"50.687999999999995\" style=\"fill: rgb(229, 236, 246); fill-opacity: 1; stroke-width: 0;\"/></g><g class=\"layer-below\"><g class=\"imagelayer\"/><g class=\"shapelayer\"/></g><g class=\"cartesianlayer\"><g class=\"subplot xy\"><g class=\"layer-subplot\"><g class=\"shapelayer\"/><g class=\"imagelayer\"/></g><g class=\"minor-gridlayer\"><g class=\"x\"/><g class=\"y\"/></g><g class=\"gridlayer\"><g class=\"x\"/><g class=\"y\"><path class=\"ygrid crisp\" transform=\"translate(0,406.698)\" d=\"M80,0h740\" style=\"stroke: rgb(255, 255, 255); stroke-opacity: 1; stroke-width: 1px;\"/><path class=\"ygrid crisp\" transform=\"translate(0,374.988)\" d=\"M80,0h740\" style=\"stroke: rgb(255, 255, 255); stroke-opacity: 1; stroke-width: 1px;\"/><path class=\"ygrid crisp\" transform=\"translate(0,333.08799999999997)\" d=\"M80,0h740\" style=\"stroke: rgb(255, 255, 255); stroke-opacity: 1; stroke-width: 1px;\"/><path class=\"ygrid crisp\" transform=\"translate(0,301.37800000000004)\" d=\"M80,0h740\" style=\"stroke: rgb(255, 255, 255); stroke-opacity: 1; stroke-width: 1px;\"/><path class=\"ygrid crisp\" transform=\"translate(0,269.678)\" d=\"M80,0h740\" style=\"stroke: rgb(255, 255, 255); stroke-opacity: 1; stroke-width: 1px;\"/><path class=\"ygrid crisp\" transform=\"translate(0,227.768)\" d=\"M80,0h740\" style=\"stroke: rgb(255, 255, 255); stroke-opacity: 1; stroke-width: 1px;\"/><path class=\"ygrid crisp\" transform=\"translate(0,196.068)\" d=\"M80,0h740\" style=\"stroke: rgb(255, 255, 255); stroke-opacity: 1; stroke-width: 1px;\"/><path class=\"ygrid crisp\" transform=\"translate(0,164.368)\" d=\"M80,0h740\" style=\"stroke: rgb(255, 255, 255); stroke-opacity: 1; stroke-width: 1px;\"/></g></g><g class=\"zerolinelayer\"/><path class=\"xlines-below\"/><path class=\"ylines-below\"/><g class=\"overlines-below\"/><g class=\"xaxislayer-below\"/><g class=\"yaxislayer-below\"/><g class=\"overaxes-below\"/><g class=\"plot\" transform=\"translate(80,153.888)\" clip-path=\"url(#clip0ffb70xyplot)\"><g class=\"barlayer mlayer\"><g class=\"trace bars\" shape-rendering=\"crispEdges\" style=\"opacity: 1;\"><g class=\"points\"><g class=\"point\"><path d=\"M23.53,2794.18V13.31H51.18V2794.18Z\" style=\"vector-effect: non-scaling-stroke; opacity: 1; stroke-width: 0px; fill: rgb(99, 110, 250); fill-opacity: 1;\"/></g><g class=\"point\"><path d=\"M51.18,2794.18V123.22H78.83V2794.18Z\" style=\"vector-effect: non-scaling-stroke; opacity: 1; stroke-width: 0px; fill: rgb(99, 110, 250); fill-opacity: 1;\"/></g><g class=\"point\"><path d=\"M78.83,2794.18V179.2H106.48V2794.18Z\" style=\"vector-effect: non-scaling-stroke; opacity: 1; stroke-width: 0px; fill: rgb(99, 110, 250); fill-opacity: 1;\"/></g><g class=\"point\"><path d=\"M106.48,2794.18V143.13H134.12V2794.18Z\" style=\"vector-effect: non-scaling-stroke; opacity: 1; stroke-width: 0px; fill: rgb(99, 110, 250); fill-opacity: 1;\"/></g><g class=\"point\"><path d=\"M134.12,2794.18V170.86H161.77V2794.18Z\" style=\"vector-effect: non-scaling-stroke; opacity: 1; stroke-width: 0px; fill: rgb(99, 110, 250); fill-opacity: 1;\"/></g><g class=\"point\"><path d=\"M0,0Z\" style=\"vector-effect: non-scaling-stroke; opacity: 1; stroke-width: 0px; fill: rgb(99, 110, 250); fill-opacity: 1;\"/></g><g class=\"point\"><path d=\"M189.42,2794.18V252.81H217.07V2794.18Z\" style=\"vector-effect: non-scaling-stroke; opacity: 1; stroke-width: 0px; fill: rgb(99, 110, 250); fill-opacity: 1;\"/></g><g class=\"point\"><path d=\"M217.07,2794.18V252.81H244.72V2794.18Z\" style=\"vector-effect: non-scaling-stroke; opacity: 1; stroke-width: 0px; fill: rgb(99, 110, 250); fill-opacity: 1;\"/></g><g class=\"point\"><path d=\"M244.72,2794.18V252.81H272.37V2794.18Z\" style=\"vector-effect: non-scaling-stroke; opacity: 1; stroke-width: 0px; fill: rgb(99, 110, 250); fill-opacity: 1;\"/></g><g class=\"point\"><path d=\"M0,0Z\" style=\"vector-effect: non-scaling-stroke; opacity: 1; stroke-width: 0px; fill: rgb(99, 110, 250); fill-opacity: 1;\"/></g><g class=\"point\"><path d=\"M0,0Z\" style=\"vector-effect: non-scaling-stroke; opacity: 1; stroke-width: 0px; fill: rgb(99, 110, 250); fill-opacity: 1;\"/></g><g class=\"point\"><path d=\"M0,0Z\" style=\"vector-effect: non-scaling-stroke; opacity: 1; stroke-width: 0px; fill: rgb(99, 110, 250); fill-opacity: 1;\"/></g><g class=\"point\"><path d=\"M0,0Z\" style=\"vector-effect: non-scaling-stroke; opacity: 1; stroke-width: 0px; fill: rgb(99, 110, 250); fill-opacity: 1;\"/></g><g class=\"point\"><path d=\"M382.96,2794.18V252.81H410.61V2794.18Z\" style=\"vector-effect: non-scaling-stroke; opacity: 1; stroke-width: 0px; fill: rgb(99, 110, 250); fill-opacity: 1;\"/></g><g class=\"point\"><path d=\"M0,0Z\" style=\"vector-effect: non-scaling-stroke; opacity: 1; stroke-width: 0px; fill: rgb(99, 110, 250); fill-opacity: 1;\"/></g><g class=\"point\"><path d=\"M438.26,2794.18V252.81H465.91V2794.18Z\" style=\"vector-effect: non-scaling-stroke; opacity: 1; stroke-width: 0px; fill: rgb(99, 110, 250); fill-opacity: 1;\"/></g><g class=\"point\"><path d=\"M465.91,2794.18V252.81H493.56V2794.18Z\" style=\"vector-effect: non-scaling-stroke; opacity: 1; stroke-width: 0px; fill: rgb(99, 110, 250); fill-opacity: 1;\"/></g><g class=\"point\"><path d=\"M0,0Z\" style=\"vector-effect: non-scaling-stroke; opacity: 1; stroke-width: 0px; fill: rgb(99, 110, 250); fill-opacity: 1;\"/></g><g class=\"point\"><path d=\"M0,0Z\" style=\"vector-effect: non-scaling-stroke; opacity: 1; stroke-width: 0px; fill: rgb(99, 110, 250); fill-opacity: 1;\"/></g><g class=\"point\"><path d=\"M0,0Z\" style=\"vector-effect: non-scaling-stroke; opacity: 1; stroke-width: 0px; fill: rgb(99, 110, 250); fill-opacity: 1;\"/></g><g class=\"point\"><path d=\"M0,0Z\" style=\"vector-effect: non-scaling-stroke; opacity: 1; stroke-width: 0px; fill: rgb(99, 110, 250); fill-opacity: 1;\"/></g><g class=\"point\"><path d=\"M0,0Z\" style=\"vector-effect: non-scaling-stroke; opacity: 1; stroke-width: 0px; fill: rgb(99, 110, 250); fill-opacity: 1;\"/></g><g class=\"point\"><path d=\"M0,0Z\" style=\"vector-effect: non-scaling-stroke; opacity: 1; stroke-width: 0px; fill: rgb(99, 110, 250); fill-opacity: 1;\"/></g><g class=\"point\"><path d=\"M0,0Z\" style=\"vector-effect: non-scaling-stroke; opacity: 1; stroke-width: 0px; fill: rgb(99, 110, 250); fill-opacity: 1;\"/></g><g class=\"point\"><path d=\"M687.1,2794.18V252.81H714.74V2794.18Z\" style=\"vector-effect: non-scaling-stroke; opacity: 1; stroke-width: 0px; fill: rgb(99, 110, 250); fill-opacity: 1;\"/></g></g></g></g></g><g class=\"overplot\"/><path class=\"xlines-above crisp\" d=\"M0,0\" style=\"fill: none;\"/><path class=\"ylines-above crisp\" d=\"M0,0\" style=\"fill: none;\"/><g class=\"overlines-above\"/><g class=\"xaxislayer-above\"><g class=\"xtick\"><text text-anchor=\"middle\" x=\"0\" y=\"433\" transform=\"translate(117.35,0)\" style=\"font-family: 'Open Sans', verdana, arial, sans-serif; font-size: 12px; fill: rgb(42, 63, 95); fill-opacity: 1; white-space: pre; opacity: 1;\">0</text></g><g class=\"xtick\"><text text-anchor=\"middle\" x=\"0\" y=\"433\" style=\"font-family: 'Open Sans', verdana, arial, sans-serif; font-size: 12px; fill: rgb(42, 63, 95); fill-opacity: 1; white-space: pre; opacity: 1;\" transform=\"translate(255.6,0)\">100</text></g><g class=\"xtick\"><text text-anchor=\"middle\" x=\"0\" y=\"433\" style=\"font-family: 'Open Sans', verdana, arial, sans-serif; font-size: 12px; fill: rgb(42, 63, 95); fill-opacity: 1; white-space: pre; opacity: 1;\" transform=\"translate(393.84,0)\">200</text></g><g class=\"xtick\"><text text-anchor=\"middle\" x=\"0\" y=\"433\" style=\"font-family: 'Open Sans', verdana, arial, sans-serif; font-size: 12px; fill: rgb(42, 63, 95); fill-opacity: 1; white-space: pre; opacity: 1;\" transform=\"translate(532.0799999999999,0)\">300</text></g><g class=\"xtick\"><text text-anchor=\"middle\" x=\"0\" y=\"433\" style=\"font-family: 'Open Sans', verdana, arial, sans-serif; font-size: 12px; fill: rgb(42, 63, 95); fill-opacity: 1; white-space: pre; opacity: 1;\" transform=\"translate(670.33,0)\">400</text></g><g class=\"xtick\"><text text-anchor=\"middle\" x=\"0\" y=\"433\" style=\"font-family: 'Open Sans', verdana, arial, sans-serif; font-size: 12px; fill: rgb(42, 63, 95); fill-opacity: 1; white-space: pre; opacity: 1;\" transform=\"translate(808.57,0)\">500</text></g></g><g class=\"yaxislayer-above\"><g class=\"ytick\"><text text-anchor=\"end\" x=\"79\" y=\"4.199999999999999\" transform=\"translate(0,406.698)\" style=\"font-family: 'Open Sans', verdana, arial, sans-serif; font-size: 12px; fill: rgb(42, 63, 95); fill-opacity: 1; white-space: pre; opacity: 1;\">1</text></g><g class=\"ytick\"><text text-anchor=\"end\" x=\"79\" y=\"3.15\" style=\"font-family: 'Open Sans', verdana, arial, sans-serif; font-size: 9px; fill: rgb(42, 63, 95); fill-opacity: 1; white-space: pre; opacity: 1;\" transform=\"translate(0,374.988)\">2</text></g><g class=\"ytick\"><text text-anchor=\"end\" x=\"79\" y=\"3.15\" style=\"font-family: 'Open Sans', verdana, arial, sans-serif; font-size: 9px; fill: rgb(42, 63, 95); fill-opacity: 1; white-space: pre; opacity: 1;\" transform=\"translate(0,333.08799999999997)\">5</text></g><g class=\"ytick\"><text text-anchor=\"end\" x=\"79\" y=\"4.199999999999999\" style=\"font-family: 'Open Sans', verdana, arial, sans-serif; font-size: 12px; fill: rgb(42, 63, 95); fill-opacity: 1; white-space: pre; opacity: 1;\" transform=\"translate(0,301.37800000000004)\">10</text></g><g class=\"ytick\"><text text-anchor=\"end\" x=\"79\" y=\"3.15\" style=\"font-family: 'Open Sans', verdana, arial, sans-serif; font-size: 9px; fill: rgb(42, 63, 95); fill-opacity: 1; white-space: pre; opacity: 1;\" transform=\"translate(0,269.678)\">2</text></g><g class=\"ytick\"><text text-anchor=\"end\" x=\"79\" y=\"3.15\" style=\"font-family: 'Open Sans', verdana, arial, sans-serif; font-size: 9px; fill: rgb(42, 63, 95); fill-opacity: 1; white-space: pre; opacity: 1;\" transform=\"translate(0,227.768)\">5</text></g><g class=\"ytick\"><text text-anchor=\"end\" x=\"79\" y=\"4.199999999999999\" style=\"font-family: 'Open Sans', verdana, arial, sans-serif; font-size: 12px; fill: rgb(42, 63, 95); fill-opacity: 1; white-space: pre; opacity: 1;\" transform=\"translate(0,196.068)\">100</text></g><g class=\"ytick\"><text text-anchor=\"end\" x=\"79\" y=\"3.15\" style=\"font-family: 'Open Sans', verdana, arial, sans-serif; font-size: 9px; fill: rgb(42, 63, 95); fill-opacity: 1; white-space: pre; opacity: 1;\" transform=\"translate(0,164.368)\">2</text></g></g><g class=\"overaxes-above\"/></g><g class=\"subplot x2y2\"><g class=\"layer-subplot\"><g class=\"shapelayer\"/><g class=\"imagelayer\"/></g><g class=\"minor-gridlayer\"><g class=\"x2\"/><g class=\"y2\"/></g><g class=\"gridlayer\"><g class=\"x2\"><path class=\"x2grid crisp\" transform=\"translate(255.6,0)\" d=\"M0,100v50.687999999999995\" style=\"stroke: rgb(255, 255, 255); stroke-opacity: 1; stroke-width: 1px;\"/><path class=\"x2grid crisp\" transform=\"translate(393.84,0)\" d=\"M0,100v50.687999999999995\" style=\"stroke: rgb(255, 255, 255); stroke-opacity: 1; stroke-width: 1px;\"/><path class=\"x2grid crisp\" transform=\"translate(532.0799999999999,0)\" d=\"M0,100v50.687999999999995\" style=\"stroke: rgb(255, 255, 255); stroke-opacity: 1; stroke-width: 1px;\"/><path class=\"x2grid crisp\" transform=\"translate(670.33,0)\" d=\"M0,100v50.687999999999995\" style=\"stroke: rgb(255, 255, 255); stroke-opacity: 1; stroke-width: 1px;\"/><path class=\"x2grid crisp\" transform=\"translate(808.57,0)\" d=\"M0,100v50.687999999999995\" style=\"stroke: rgb(255, 255, 255); stroke-opacity: 1; stroke-width: 1px;\"/></g><g class=\"y2\"/></g><g class=\"zerolinelayer\"><path class=\"x2zl zl crisp\" transform=\"translate(117.35,0)\" d=\"M0,100v50.687999999999995\" style=\"stroke: rgb(255, 255, 255); stroke-opacity: 1; stroke-width: 2px;\"/></g><path class=\"xlines-below\"/><path class=\"ylines-below\"/><g class=\"overlines-below\"/><g class=\"xaxislayer-below\"/><g class=\"yaxislayer-below\"/><g class=\"overaxes-below\"/><g class=\"plot\" transform=\"translate(80,100)\" clip-path=\"url(#clip0ffb70x2y2plot)\"><g class=\"boxlayer mlayer\"><g class=\"trace boxes\" style=\"opacity: 1;\"><path class=\"box\" d=\"M38.35,31.55V19.13M37.35,37.76V12.93H37L38.35,19.13L37.71,12.93H40.8V37.76H37.71L38.35,31.55L37,37.76ZM37.35,25.34H37.35M40.8,25.34H44.87M37.35,31.55V19.13M44.87,31.55V19.13\" style=\"vector-effect: non-scaling-stroke; stroke-width: 2px; stroke: rgb(99, 110, 250); stroke-opacity: 1; fill: rgb(99, 110, 250); fill-opacity: 0.5;\"/><g class=\"points\"><path class=\"point\" transform=\"translate(50.95,25.34)\" d=\"M3,0A3,3 0 1,1 0,-3A3,3 0 0,1 3,0Z\" style=\"opacity: 1; stroke-width: 0px; fill: rgb(99, 110, 250); fill-opacity: 1;\"/><path class=\"point\" transform=\"translate(51.54,25.34)\" d=\"M3,0A3,3 0 1,1 0,-3A3,3 0 0,1 3,0Z\" style=\"opacity: 1; stroke-width: 0px; fill: rgb(99, 110, 250); fill-opacity: 1;\"/><path class=\"point\" transform=\"translate(55.2,25.34)\" d=\"M3,0A3,3 0 1,1 0,-3A3,3 0 0,1 3,0Z\" style=\"opacity: 1; stroke-width: 0px; fill: rgb(99, 110, 250); fill-opacity: 1;\"/><path class=\"point\" transform=\"translate(56.02,25.34)\" d=\"M3,0A3,3 0 1,1 0,-3A3,3 0 0,1 3,0Z\" style=\"opacity: 1; stroke-width: 0px; fill: rgb(99, 110, 250); fill-opacity: 1;\"/><path class=\"point\" transform=\"translate(58.36,25.34)\" d=\"M3,0A3,3 0 1,1 0,-3A3,3 0 0,1 3,0Z\" style=\"opacity: 1; stroke-width: 0px; fill: rgb(99, 110, 250); fill-opacity: 1;\"/><path class=\"point\" transform=\"translate(61.48,25.34)\" d=\"M3,0A3,3 0 1,1 0,-3A3,3 0 0,1 3,0Z\" style=\"opacity: 1; stroke-width: 0px; fill: rgb(99, 110, 250); fill-opacity: 1;\"/><path class=\"point\" transform=\"translate(62.44,25.34)\" d=\"M3,0A3,3 0 1,1 0,-3A3,3 0 0,1 3,0Z\" style=\"opacity: 1; stroke-width: 0px; fill: rgb(99, 110, 250); fill-opacity: 1;\"/><path class=\"point\" transform=\"translate(63.41,25.34)\" d=\"M3,0A3,3 0 1,1 0,-3A3,3 0 0,1 3,0Z\" style=\"opacity: 1; stroke-width: 0px; fill: rgb(99, 110, 250); fill-opacity: 1;\"/><path class=\"point\" transform=\"translate(64.12,25.34)\" d=\"M3,0A3,3 0 1,1 0,-3A3,3 0 0,1 3,0Z\" style=\"opacity: 1; stroke-width: 0px; fill: rgb(99, 110, 250); fill-opacity: 1;\"/><path class=\"point\" transform=\"translate(64.34,25.34)\" d=\"M3,0A3,3 0 1,1 0,-3A3,3 0 0,1 3,0Z\" style=\"opacity: 1; stroke-width: 0px; fill: rgb(99, 110, 250); fill-opacity: 1;\"/><path class=\"point\" transform=\"translate(67.15,25.34)\" d=\"M3,0A3,3 0 1,1 0,-3A3,3 0 0,1 3,0Z\" style=\"opacity: 1; stroke-width: 0px; fill: rgb(99, 110, 250); fill-opacity: 1;\"/><path class=\"point\" transform=\"translate(69.09,25.34)\" d=\"M3,0A3,3 0 1,1 0,-3A3,3 0 0,1 3,0Z\" style=\"opacity: 1; stroke-width: 0px; fill: rgb(99, 110, 250); fill-opacity: 1;\"/><path class=\"point\" transform=\"translate(70.29,25.34)\" d=\"M3,0A3,3 0 1,1 0,-3A3,3 0 0,1 3,0Z\" style=\"opacity: 1; stroke-width: 0px; fill: rgb(99, 110, 250); fill-opacity: 1;\"/><path class=\"point\" transform=\"translate(72.88,25.34)\" d=\"M3,0A3,3 0 1,1 0,-3A3,3 0 0,1 3,0Z\" style=\"opacity: 1; stroke-width: 0px; fill: rgb(99, 110, 250); fill-opacity: 1;\"/><path class=\"point\" transform=\"translate(72.9,25.34)\" d=\"M3,0A3,3 0 1,1 0,-3A3,3 0 0,1 3,0Z\" style=\"opacity: 1; stroke-width: 0px; fill: rgb(99, 110, 250); fill-opacity: 1;\"/><path class=\"point\" transform=\"translate(74.69,25.34)\" d=\"M3,0A3,3 0 1,1 0,-3A3,3 0 0,1 3,0Z\" style=\"opacity: 1; stroke-width: 0px; fill: rgb(99, 110, 250); fill-opacity: 1;\"/><path class=\"point\" transform=\"translate(75.14,25.34)\" d=\"M3,0A3,3 0 1,1 0,-3A3,3 0 0,1 3,0Z\" style=\"opacity: 1; stroke-width: 0px; fill: rgb(99, 110, 250); fill-opacity: 1;\"/><path class=\"point\" transform=\"translate(77.84,25.34)\" d=\"M3,0A3,3 0 1,1 0,-3A3,3 0 0,1 3,0Z\" style=\"opacity: 1; stroke-width: 0px; fill: rgb(99, 110, 250); fill-opacity: 1;\"/><path class=\"point\" transform=\"translate(82.21,25.34)\" d=\"M3,0A3,3 0 1,1 0,-3A3,3 0 0,1 3,0Z\" style=\"opacity: 1; stroke-width: 0px; fill: rgb(99, 110, 250); fill-opacity: 1;\"/><path class=\"point\" transform=\"translate(83.71,25.34)\" d=\"M3,0A3,3 0 1,1 0,-3A3,3 0 0,1 3,0Z\" style=\"opacity: 1; stroke-width: 0px; fill: rgb(99, 110, 250); fill-opacity: 1;\"/><path class=\"point\" transform=\"translate(87.47,25.34)\" d=\"M3,0A3,3 0 1,1 0,-3A3,3 0 0,1 3,0Z\" style=\"opacity: 1; stroke-width: 0px; fill: rgb(99, 110, 250); fill-opacity: 1;\"/><path class=\"point\" transform=\"translate(99.23,25.34)\" d=\"M3,0A3,3 0 1,1 0,-3A3,3 0 0,1 3,0Z\" style=\"opacity: 1; stroke-width: 0px; fill: rgb(99, 110, 250); fill-opacity: 1;\"/><path class=\"point\" transform=\"translate(99.35,25.34)\" d=\"M3,0A3,3 0 1,1 0,-3A3,3 0 0,1 3,0Z\" style=\"opacity: 1; stroke-width: 0px; fill: rgb(99, 110, 250); fill-opacity: 1;\"/><path class=\"point\" transform=\"translate(108.37,25.34)\" d=\"M3,0A3,3 0 1,1 0,-3A3,3 0 0,1 3,0Z\" style=\"opacity: 1; stroke-width: 0px; fill: rgb(99, 110, 250); fill-opacity: 1;\"/><path class=\"point\" transform=\"translate(109.95,25.34)\" d=\"M3,0A3,3 0 1,1 0,-3A3,3 0 0,1 3,0Z\" style=\"opacity: 1; stroke-width: 0px; fill: rgb(99, 110, 250); fill-opacity: 1;\"/><path class=\"point\" transform=\"translate(110.45,25.34)\" d=\"M3,0A3,3 0 1,1 0,-3A3,3 0 0,1 3,0Z\" style=\"opacity: 1; stroke-width: 0px; fill: rgb(99, 110, 250); fill-opacity: 1;\"/><path class=\"point\" transform=\"translate(112.04,25.34)\" d=\"M3,0A3,3 0 1,1 0,-3A3,3 0 0,1 3,0Z\" style=\"opacity: 1; stroke-width: 0px; fill: rgb(99, 110, 250); fill-opacity: 1;\"/><path class=\"point\" transform=\"translate(112.37,25.34)\" d=\"M3,0A3,3 0 1,1 0,-3A3,3 0 0,1 3,0Z\" style=\"opacity: 1; stroke-width: 0px; fill: rgb(99, 110, 250); fill-opacity: 1;\"/><path class=\"point\" transform=\"translate(113.79,25.34)\" d=\"M3,0A3,3 0 1,1 0,-3A3,3 0 0,1 3,0Z\" style=\"opacity: 1; stroke-width: 0px; fill: rgb(99, 110, 250); fill-opacity: 1;\"/><path class=\"point\" transform=\"translate(116.35,25.34)\" d=\"M3,0A3,3 0 1,1 0,-3A3,3 0 0,1 3,0Z\" style=\"opacity: 1; stroke-width: 0px; fill: rgb(99, 110, 250); fill-opacity: 1;\"/><path class=\"point\" transform=\"translate(116.77,25.34)\" d=\"M3,0A3,3 0 1,1 0,-3A3,3 0 0,1 3,0Z\" style=\"opacity: 1; stroke-width: 0px; fill: rgb(99, 110, 250); fill-opacity: 1;\"/><path class=\"point\" transform=\"translate(120.72,25.34)\" d=\"M3,0A3,3 0 1,1 0,-3A3,3 0 0,1 3,0Z\" style=\"opacity: 1; stroke-width: 0px; fill: rgb(99, 110, 250); fill-opacity: 1;\"/><path class=\"point\" transform=\"translate(129.83,25.34)\" d=\"M3,0A3,3 0 1,1 0,-3A3,3 0 0,1 3,0Z\" style=\"opacity: 1; stroke-width: 0px; fill: rgb(99, 110, 250); fill-opacity: 1;\"/><path class=\"point\" transform=\"translate(131.92,25.34)\" d=\"M3,0A3,3 0 1,1 0,-3A3,3 0 0,1 3,0Z\" style=\"opacity: 1; stroke-width: 0px; fill: rgb(99, 110, 250); fill-opacity: 1;\"/><path class=\"point\" transform=\"translate(136.24,25.34)\" d=\"M3,0A3,3 0 1,1 0,-3A3,3 0 0,1 3,0Z\" style=\"opacity: 1; stroke-width: 0px; fill: rgb(99, 110, 250); fill-opacity: 1;\"/><path class=\"point\" transform=\"translate(137.64,25.34)\" d=\"M3,0A3,3 0 1,1 0,-3A3,3 0 0,1 3,0Z\" style=\"opacity: 1; stroke-width: 0px; fill: rgb(99, 110, 250); fill-opacity: 1;\"/><path class=\"point\" transform=\"translate(139.23,25.34)\" d=\"M3,0A3,3 0 1,1 0,-3A3,3 0 0,1 3,0Z\" style=\"opacity: 1; stroke-width: 0px; fill: rgb(99, 110, 250); fill-opacity: 1;\"/><path class=\"point\" transform=\"translate(141.65,25.34)\" d=\"M3,0A3,3 0 1,1 0,-3A3,3 0 0,1 3,0Z\" style=\"opacity: 1; stroke-width: 0px; fill: rgb(99, 110, 250); fill-opacity: 1;\"/><path class=\"point\" transform=\"translate(141.7,25.34)\" d=\"M3,0A3,3 0 1,1 0,-3A3,3 0 0,1 3,0Z\" style=\"opacity: 1; stroke-width: 0px; fill: rgb(99, 110, 250); fill-opacity: 1;\"/><path class=\"point\" transform=\"translate(154.12,25.34)\" d=\"M3,0A3,3 0 1,1 0,-3A3,3 0 0,1 3,0Z\" style=\"opacity: 1; stroke-width: 0px; fill: rgb(99, 110, 250); fill-opacity: 1;\"/><path class=\"point\" transform=\"translate(204.76,25.34)\" d=\"M3,0A3,3 0 1,1 0,-3A3,3 0 0,1 3,0Z\" style=\"opacity: 1; stroke-width: 0px; fill: rgb(99, 110, 250); fill-opacity: 1;\"/><path class=\"point\" transform=\"translate(235.95,25.34)\" d=\"M3,0A3,3 0 1,1 0,-3A3,3 0 0,1 3,0Z\" style=\"opacity: 1; stroke-width: 0px; fill: rgb(99, 110, 250); fill-opacity: 1;\"/><path class=\"point\" transform=\"translate(266.78,25.34)\" d=\"M3,0A3,3 0 1,1 0,-3A3,3 0 0,1 3,0Z\" style=\"opacity: 1; stroke-width: 0px; fill: rgb(99, 110, 250); fill-opacity: 1;\"/><path class=\"point\" transform=\"translate(391.47,25.34)\" d=\"M3,0A3,3 0 1,1 0,-3A3,3 0 0,1 3,0Z\" style=\"opacity: 1; stroke-width: 0px; fill: rgb(99, 110, 250); fill-opacity: 1;\"/><path class=\"point\" transform=\"translate(456.07,25.34)\" d=\"M3,0A3,3 0 1,1 0,-3A3,3 0 0,1 3,0Z\" style=\"opacity: 1; stroke-width: 0px; fill: rgb(99, 110, 250); fill-opacity: 1;\"/><path class=\"point\" transform=\"translate(473.25,25.34)\" d=\"M3,0A3,3 0 1,1 0,-3A3,3 0 0,1 3,0Z\" style=\"opacity: 1; stroke-width: 0px; fill: rgb(99, 110, 250); fill-opacity: 1;\"/><path class=\"point\" transform=\"translate(703,25.34)\" d=\"M3,0A3,3 0 1,1 0,-3A3,3 0 0,1 3,0Z\" style=\"opacity: 1; stroke-width: 0px; fill: rgb(99, 110, 250); fill-opacity: 1;\"/></g></g></g></g><g class=\"overplot\"/><path class=\"xlines-above crisp\" d=\"M0,0\" style=\"fill: none;\"/><path class=\"ylines-above crisp\" d=\"M0,0\" style=\"fill: none;\"/><g class=\"overlines-above\"/><g class=\"xaxislayer-above\"/><g class=\"yaxislayer-above\"/><g class=\"overaxes-above\"/></g></g><g class=\"polarlayer\"/><g class=\"smithlayer\"/><g class=\"ternarylayer\"/><g class=\"geolayer\"/><g class=\"funnelarealayer\"/><g class=\"pielayer\"/><g class=\"iciclelayer\"/><g class=\"treemaplayer\"/><g class=\"sunburstlayer\"/><g class=\"glimages\"/><defs id=\"topdefs-0ffb70\"><g class=\"clips\"/></defs><g class=\"layer-above\"><g class=\"imagelayer\"/><g class=\"shapelayer\"/></g><g class=\"infolayer\"><g class=\"g-gtitle\"><text class=\"gtitle\" x=\"45\" y=\"50\" text-anchor=\"start\" dy=\"0em\" style=\"font-family: 'Open Sans', verdana, arial, sans-serif; font-size: 17px; fill: rgb(42, 63, 95); opacity: 1; font-weight: normal; white-space: pre;\">Distribution of response time</text></g><g class=\"g-xtitle\"><text class=\"xtitle\" x=\"450\" y=\"460.3\" text-anchor=\"middle\" style=\"font-family: 'Open Sans', verdana, arial, sans-serif; font-size: 14px; fill: rgb(42, 63, 95); opacity: 1; font-weight: normal; white-space: pre;\">response_time</text></g><g class=\"g-x2title\"/><g class=\"g-ytitle\"><text class=\"ytitle\" transform=\"rotate(-90,31.309375000000003,286.944)\" x=\"31.309375000000003\" y=\"286.944\" text-anchor=\"middle\" style=\"font-family: 'Open Sans', verdana, arial, sans-serif; font-size: 14px; fill: rgb(42, 63, 95); opacity: 1; font-weight: normal; white-space: pre;\">count</text></g><g class=\"g-y2title\"/></g></svg>"
     },
     "metadata": {},
     "output_type": "display_data"
    }
   ],
   "source": [
    "fig = px.histogram(result, x='response_time', log_y=True, marginal='box', title='Distribution of response time')\n",
    "fig.show()"
   ]
  },
  {
   "cell_type": "code",
   "execution_count": 37,
   "metadata": {},
   "outputs": [
    {
     "data": {
      "text/html": [
       "<div>\n",
       "<style scoped>\n",
       "    .dataframe tbody tr th:only-of-type {\n",
       "        vertical-align: middle;\n",
       "    }\n",
       "\n",
       "    .dataframe tbody tr th {\n",
       "        vertical-align: top;\n",
       "    }\n",
       "\n",
       "    .dataframe thead th {\n",
       "        text-align: right;\n",
       "    }\n",
       "</style>\n",
       "<table border=\"1\" class=\"dataframe\">\n",
       "  <thead>\n",
       "    <tr style=\"text-align: right;\">\n",
       "      <th></th>\n",
       "      <th>tweet</th>\n",
       "      <th>conversation_id</th>\n",
       "      <th>date</th>\n",
       "      <th>hashtags</th>\n",
       "      <th>id</th>\n",
       "      <th>inReplyToTweetId</th>\n",
       "      <th>reply_to</th>\n",
       "      <th>language</th>\n",
       "      <th>likes_count</th>\n",
       "      <th>media</th>\n",
       "      <th>...</th>\n",
       "      <th>favourites_count</th>\n",
       "      <th>user_status_count</th>\n",
       "      <th>location</th>\n",
       "      <th>name</th>\n",
       "      <th>description</th>\n",
       "      <th>verified</th>\n",
       "      <th>url</th>\n",
       "      <th>user_id</th>\n",
       "      <th>username</th>\n",
       "      <th>is_query</th>\n",
       "    </tr>\n",
       "  </thead>\n",
       "  <tbody>\n",
       "    <tr>\n",
       "      <th>1567</th>\n",
       "      <td>@Akshaynachankar We are glad that your issue h...</td>\n",
       "      <td>1335260303009882112</td>\n",
       "      <td>2020-12-08 03:46:00+00:00</td>\n",
       "      <td>NaN</td>\n",
       "      <td>1336155039874727937</td>\n",
       "      <td>1336005306766172160</td>\n",
       "      <td>https://twitter.com/Akshaynachankar</td>\n",
       "      <td>en</td>\n",
       "      <td>0</td>\n",
       "      <td>NaN</td>\n",
       "      <td>...</td>\n",
       "      <td>2718</td>\n",
       "      <td>232171</td>\n",
       "      <td>India</td>\n",
       "      <td>MobiKwik Support</td>\n",
       "      <td>Official Support handle of @MobiKwik | We're h...</td>\n",
       "      <td>True</td>\n",
       "      <td>https://www.mobikwik.com/help</td>\n",
       "      <td>3037981994</td>\n",
       "      <td>MobiKwikSWAT</td>\n",
       "      <td>2</td>\n",
       "    </tr>\n",
       "  </tbody>\n",
       "</table>\n",
       "<p>1 rows × 28 columns</p>\n",
       "</div>"
      ],
      "text/plain": [
       "                                                  tweet      conversation_id  \\\n",
       "1567  @Akshaynachankar We are glad that your issue h...  1335260303009882112   \n",
       "\n",
       "                          date hashtags                   id  \\\n",
       "1567 2020-12-08 03:46:00+00:00      NaN  1336155039874727937   \n",
       "\n",
       "         inReplyToTweetId                             reply_to language  \\\n",
       "1567  1336005306766172160  https://twitter.com/Akshaynachankar       en   \n",
       "\n",
       "      likes_count media  ... favourites_count  user_status_count location  \\\n",
       "1567            0   NaN  ...             2718             232171    India   \n",
       "\n",
       "                  name                                        description  \\\n",
       "1567  MobiKwik Support  Official Support handle of @MobiKwik | We're h...   \n",
       "\n",
       "     verified                            url     user_id      username  \\\n",
       "1567     True  https://www.mobikwik.com/help  3037981994  MobiKwikSWAT   \n",
       "\n",
       "      is_query  \n",
       "1567         2  \n",
       "\n",
       "[1 rows x 28 columns]"
      ]
     },
     "execution_count": 37,
     "metadata": {},
     "output_type": "execute_result"
    }
   ],
   "source": [
    "df[df['conversation_id'] == '1335260303009882112']"
   ]
  },
  {
   "cell_type": "markdown",
   "metadata": {},
   "source": [
    "https://twitter.com/MobiKwikSWAT/status/1343765688704331776\n",
    "\n",
    "https://twitter.com/MobiKwikSWAT/status/1336155039874727937"
   ]
  },
  {
   "cell_type": "markdown",
   "metadata": {},
   "source": [
    "## Resolution time"
   ]
  },
  {
   "cell_type": "markdown",
   "metadata": {},
   "source": [
    "Assuming that if the last query in the conversation is from the company then the issue is resolved.  \n",
    "Resolution time is the time difference between the last date of last tweet in the conversation and the date of first query."
   ]
  },
  {
   "cell_type": "code",
   "execution_count": 38,
   "metadata": {},
   "outputs": [],
   "source": [
    "result['resolution_time'] = 0"
   ]
  },
  {
   "cell_type": "code",
   "execution_count": 39,
   "metadata": {},
   "outputs": [],
   "source": [
    "for index, conversation_id in enumerate(conversation_ids):\n",
    "    tmp = df[df['conversation_id'] == conversation_id]\n",
    "    tmp.sort_values('date', ascending=True, inplace=True)\n",
    "    comp_tmp = tmp[tmp['username'] == company_username]\n",
    "    if tmp.iloc[-1]['username'] == company_username:\n",
    "        resolution_time = (tmp.iloc[-1]['date'] - tmp.iloc[0]['date']) / datetime.timedelta(hours=1)\n",
    "        result.at[index, 'resolution_time'] = resolution_time"
   ]
  },
  {
   "cell_type": "code",
   "execution_count": 40,
   "metadata": {},
   "outputs": [
    {
     "name": "stdout",
     "output_type": "stream",
     "text": [
      "Number of queries resolved: 105\n",
      "Number of queries unresolved: 129\n"
     ]
    }
   ],
   "source": [
    "print(f\"Number of queries resolved: {len(result['resolution_time'].to_numpy().nonzero()[0])}\")\n",
    "print(f\"Number of queries unresolved: {result.shape[0] - len(result['resolution_time'].to_numpy().nonzero()[0])}\")"
   ]
  },
  {
   "cell_type": "code",
   "execution_count": 41,
   "metadata": {},
   "outputs": [
    {
     "data": {
      "image/svg+xml": "<svg class=\"main-svg\" xmlns=\"http://www.w3.org/2000/svg\" xmlns:xlink=\"http://www.w3.org/1999/xlink\" width=\"900\" height=\"500\" style=\"\" viewBox=\"0 0 900 500\"><rect x=\"0\" y=\"0\" width=\"900\" height=\"500\" style=\"fill: rgb(255, 255, 255); fill-opacity: 1;\"/><defs id=\"defs-e27591\"><g class=\"clips\"><clipPath id=\"clipe27591xyplot\" class=\"plotclip\"><rect width=\"740\" height=\"266.112\"/></clipPath><clipPath id=\"clipe27591x2y2plot\" class=\"plotclip\"><rect width=\"740\" height=\"50.687999999999995\"/></clipPath><clipPath class=\"axesclip\" id=\"clipe27591x\"><rect x=\"80\" y=\"0\" width=\"740\" height=\"500\"/></clipPath><clipPath class=\"axesclip\" id=\"clipe27591y\"><rect x=\"0\" y=\"153.888\" width=\"900\" height=\"266.112\"/></clipPath><clipPath class=\"axesclip\" id=\"clipe27591xy\"><rect x=\"80\" y=\"153.888\" width=\"740\" height=\"266.112\"/></clipPath><clipPath class=\"axesclip\" id=\"clipe27591y2\"><rect x=\"0\" y=\"100\" width=\"900\" height=\"50.687999999999995\"/></clipPath><clipPath class=\"axesclip\" id=\"clipe27591xy2\"><rect x=\"80\" y=\"100\" width=\"740\" height=\"50.687999999999995\"/></clipPath><clipPath class=\"axesclip\" id=\"clipe27591x2\"><rect x=\"80\" y=\"0\" width=\"740\" height=\"500\"/></clipPath><clipPath class=\"axesclip\" id=\"clipe27591x2y\"><rect x=\"80\" y=\"153.888\" width=\"740\" height=\"266.112\"/></clipPath><clipPath class=\"axesclip\" id=\"clipe27591x2y2\"><rect x=\"80\" y=\"100\" width=\"740\" height=\"50.687999999999995\"/></clipPath></g><g class=\"gradients\"/><g class=\"patterns\"/></defs><g class=\"bglayer\"><rect class=\"bg\" x=\"80\" y=\"153.888\" width=\"740\" height=\"266.112\" style=\"fill: rgb(229, 236, 246); fill-opacity: 1; stroke-width: 0;\"/><rect class=\"bg\" x=\"80\" y=\"100\" width=\"740\" height=\"50.687999999999995\" style=\"fill: rgb(229, 236, 246); fill-opacity: 1; stroke-width: 0;\"/></g><g class=\"layer-below\"><g class=\"imagelayer\"/><g class=\"shapelayer\"/></g><g class=\"cartesianlayer\"><g class=\"subplot xy\"><g class=\"layer-subplot\"><g class=\"shapelayer\"/><g class=\"imagelayer\"/></g><g class=\"minor-gridlayer\"><g class=\"x\"/><g class=\"y\"/></g><g class=\"gridlayer\"><g class=\"x\"/><g class=\"y\"><path class=\"ygrid crisp\" transform=\"translate(0,406.698)\" d=\"M80,0h740\" style=\"stroke: rgb(255, 255, 255); stroke-opacity: 1; stroke-width: 1px;\"/><path class=\"ygrid crisp\" transform=\"translate(0,375.618)\" d=\"M80,0h740\" style=\"stroke: rgb(255, 255, 255); stroke-opacity: 1; stroke-width: 1px;\"/><path class=\"ygrid crisp\" transform=\"translate(0,334.538)\" d=\"M80,0h740\" style=\"stroke: rgb(255, 255, 255); stroke-opacity: 1; stroke-width: 1px;\"/><path class=\"ygrid crisp\" transform=\"translate(0,303.468)\" d=\"M80,0h740\" style=\"stroke: rgb(255, 255, 255); stroke-opacity: 1; stroke-width: 1px;\"/><path class=\"ygrid crisp\" transform=\"translate(0,272.398)\" d=\"M80,0h740\" style=\"stroke: rgb(255, 255, 255); stroke-opacity: 1; stroke-width: 1px;\"/><path class=\"ygrid crisp\" transform=\"translate(0,231.318)\" d=\"M80,0h740\" style=\"stroke: rgb(255, 255, 255); stroke-opacity: 1; stroke-width: 1px;\"/><path class=\"ygrid crisp\" transform=\"translate(0,200.238)\" d=\"M80,0h740\" style=\"stroke: rgb(255, 255, 255); stroke-opacity: 1; stroke-width: 1px;\"/><path class=\"ygrid crisp\" transform=\"translate(0,169.168)\" d=\"M80,0h740\" style=\"stroke: rgb(255, 255, 255); stroke-opacity: 1; stroke-width: 1px;\"/></g></g><g class=\"zerolinelayer\"/><path class=\"xlines-below\"/><path class=\"ylines-below\"/><g class=\"overlines-below\"/><g class=\"xaxislayer-below\"/><g class=\"yaxislayer-below\"/><g class=\"overaxes-below\"/><g class=\"plot\" transform=\"translate(80,153.888)\" clip-path=\"url(#clipe27591xyplot)\"><g class=\"barlayer mlayer\"><g class=\"trace bars\" shape-rendering=\"crispEdges\" style=\"opacity: 1;\"><g class=\"points\"><g class=\"point\"><path d=\"M28.44,2794.18V13.31H45.64V2794.18Z\" style=\"vector-effect: non-scaling-stroke; opacity: 1; stroke-width: 0px; fill: rgb(99, 110, 250); fill-opacity: 1;\"/></g><g class=\"point\"><path d=\"M45.64,2794.18V123.23H62.84V2794.18Z\" style=\"vector-effect: non-scaling-stroke; opacity: 1; stroke-width: 0px; fill: rgb(99, 110, 250); fill-opacity: 1;\"/></g><g class=\"point\"><path d=\"M62.84,2794.18V203.55H80.04V2794.18Z\" style=\"vector-effect: non-scaling-stroke; opacity: 1; stroke-width: 0px; fill: rgb(99, 110, 250); fill-opacity: 1;\"/></g><g class=\"point\"><path d=\"M80.04,2794.18V221.73H97.23V2794.18Z\" style=\"vector-effect: non-scaling-stroke; opacity: 1; stroke-width: 0px; fill: rgb(99, 110, 250); fill-opacity: 1;\"/></g><g class=\"point\"><path d=\"M0,0Z\" style=\"vector-effect: non-scaling-stroke; opacity: 1; stroke-width: 0px; fill: rgb(99, 110, 250); fill-opacity: 1;\"/></g><g class=\"point\"><path d=\"M114.43,2794.18V252.81H131.63V2794.18Z\" style=\"vector-effect: non-scaling-stroke; opacity: 1; stroke-width: 0px; fill: rgb(99, 110, 250); fill-opacity: 1;\"/></g><g class=\"point\"><path d=\"M0,0Z\" style=\"vector-effect: non-scaling-stroke; opacity: 1; stroke-width: 0px; fill: rgb(99, 110, 250); fill-opacity: 1;\"/></g><g class=\"point\"><path d=\"M0,0Z\" style=\"vector-effect: non-scaling-stroke; opacity: 1; stroke-width: 0px; fill: rgb(99, 110, 250); fill-opacity: 1;\"/></g><g class=\"point\"><path d=\"M0,0Z\" style=\"vector-effect: non-scaling-stroke; opacity: 1; stroke-width: 0px; fill: rgb(99, 110, 250); fill-opacity: 1;\"/></g><g class=\"point\"><path d=\"M0,0Z\" style=\"vector-effect: non-scaling-stroke; opacity: 1; stroke-width: 0px; fill: rgb(99, 110, 250); fill-opacity: 1;\"/></g><g class=\"point\"><path d=\"M0,0Z\" style=\"vector-effect: non-scaling-stroke; opacity: 1; stroke-width: 0px; fill: rgb(99, 110, 250); fill-opacity: 1;\"/></g><g class=\"point\"><path d=\"M0,0Z\" style=\"vector-effect: non-scaling-stroke; opacity: 1; stroke-width: 0px; fill: rgb(99, 110, 250); fill-opacity: 1;\"/></g><g class=\"point\"><path d=\"M0,0Z\" style=\"vector-effect: non-scaling-stroke; opacity: 1; stroke-width: 0px; fill: rgb(99, 110, 250); fill-opacity: 1;\"/></g><g class=\"point\"><path d=\"M0,0Z\" style=\"vector-effect: non-scaling-stroke; opacity: 1; stroke-width: 0px; fill: rgb(99, 110, 250); fill-opacity: 1;\"/></g><g class=\"point\"><path d=\"M0,0Z\" style=\"vector-effect: non-scaling-stroke; opacity: 1; stroke-width: 0px; fill: rgb(99, 110, 250); fill-opacity: 1;\"/></g><g class=\"point\"><path d=\"M0,0Z\" style=\"vector-effect: non-scaling-stroke; opacity: 1; stroke-width: 0px; fill: rgb(99, 110, 250); fill-opacity: 1;\"/></g><g class=\"point\"><path d=\"M0,0Z\" style=\"vector-effect: non-scaling-stroke; opacity: 1; stroke-width: 0px; fill: rgb(99, 110, 250); fill-opacity: 1;\"/></g><g class=\"point\"><path d=\"M0,0Z\" style=\"vector-effect: non-scaling-stroke; opacity: 1; stroke-width: 0px; fill: rgb(99, 110, 250); fill-opacity: 1;\"/></g><g class=\"point\"><path d=\"M0,0Z\" style=\"vector-effect: non-scaling-stroke; opacity: 1; stroke-width: 0px; fill: rgb(99, 110, 250); fill-opacity: 1;\"/></g><g class=\"point\"><path d=\"M0,0Z\" style=\"vector-effect: non-scaling-stroke; opacity: 1; stroke-width: 0px; fill: rgb(99, 110, 250); fill-opacity: 1;\"/></g><g class=\"point\"><path d=\"M0,0Z\" style=\"vector-effect: non-scaling-stroke; opacity: 1; stroke-width: 0px; fill: rgb(99, 110, 250); fill-opacity: 1;\"/></g><g class=\"point\"><path d=\"M0,0Z\" style=\"vector-effect: non-scaling-stroke; opacity: 1; stroke-width: 0px; fill: rgb(99, 110, 250); fill-opacity: 1;\"/></g><g class=\"point\"><path d=\"M0,0Z\" style=\"vector-effect: non-scaling-stroke; opacity: 1; stroke-width: 0px; fill: rgb(99, 110, 250); fill-opacity: 1;\"/></g><g class=\"point\"><path d=\"M0,0Z\" style=\"vector-effect: non-scaling-stroke; opacity: 1; stroke-width: 0px; fill: rgb(99, 110, 250); fill-opacity: 1;\"/></g><g class=\"point\"><path d=\"M0,0Z\" style=\"vector-effect: non-scaling-stroke; opacity: 1; stroke-width: 0px; fill: rgb(99, 110, 250); fill-opacity: 1;\"/></g><g class=\"point\"><path d=\"M0,0Z\" style=\"vector-effect: non-scaling-stroke; opacity: 1; stroke-width: 0px; fill: rgb(99, 110, 250); fill-opacity: 1;\"/></g><g class=\"point\"><path d=\"M0,0Z\" style=\"vector-effect: non-scaling-stroke; opacity: 1; stroke-width: 0px; fill: rgb(99, 110, 250); fill-opacity: 1;\"/></g><g class=\"point\"><path d=\"M0,0Z\" style=\"vector-effect: non-scaling-stroke; opacity: 1; stroke-width: 0px; fill: rgb(99, 110, 250); fill-opacity: 1;\"/></g><g class=\"point\"><path d=\"M0,0Z\" style=\"vector-effect: non-scaling-stroke; opacity: 1; stroke-width: 0px; fill: rgb(99, 110, 250); fill-opacity: 1;\"/></g><g class=\"point\"><path d=\"M0,0Z\" style=\"vector-effect: non-scaling-stroke; opacity: 1; stroke-width: 0px; fill: rgb(99, 110, 250); fill-opacity: 1;\"/></g><g class=\"point\"><path d=\"M0,0Z\" style=\"vector-effect: non-scaling-stroke; opacity: 1; stroke-width: 0px; fill: rgb(99, 110, 250); fill-opacity: 1;\"/></g><g class=\"point\"><path d=\"M0,0Z\" style=\"vector-effect: non-scaling-stroke; opacity: 1; stroke-width: 0px; fill: rgb(99, 110, 250); fill-opacity: 1;\"/></g><g class=\"point\"><path d=\"M0,0Z\" style=\"vector-effect: non-scaling-stroke; opacity: 1; stroke-width: 0px; fill: rgb(99, 110, 250); fill-opacity: 1;\"/></g><g class=\"point\"><path d=\"M0,0Z\" style=\"vector-effect: non-scaling-stroke; opacity: 1; stroke-width: 0px; fill: rgb(99, 110, 250); fill-opacity: 1;\"/></g><g class=\"point\"><path d=\"M0,0Z\" style=\"vector-effect: non-scaling-stroke; opacity: 1; stroke-width: 0px; fill: rgb(99, 110, 250); fill-opacity: 1;\"/></g><g class=\"point\"><path d=\"M0,0Z\" style=\"vector-effect: non-scaling-stroke; opacity: 1; stroke-width: 0px; fill: rgb(99, 110, 250); fill-opacity: 1;\"/></g><g class=\"point\"><path d=\"M0,0Z\" style=\"vector-effect: non-scaling-stroke; opacity: 1; stroke-width: 0px; fill: rgb(99, 110, 250); fill-opacity: 1;\"/></g><g class=\"point\"><path d=\"M0,0Z\" style=\"vector-effect: non-scaling-stroke; opacity: 1; stroke-width: 0px; fill: rgb(99, 110, 250); fill-opacity: 1;\"/></g><g class=\"point\"><path d=\"M0,0Z\" style=\"vector-effect: non-scaling-stroke; opacity: 1; stroke-width: 0px; fill: rgb(99, 110, 250); fill-opacity: 1;\"/></g><g class=\"point\"><path d=\"M699.14,2794.18V252.81H716.34V2794.18Z\" style=\"vector-effect: non-scaling-stroke; opacity: 1; stroke-width: 0px; fill: rgb(99, 110, 250); fill-opacity: 1;\"/></g></g></g></g></g><g class=\"overplot\"/><path class=\"xlines-above crisp\" d=\"M0,0\" style=\"fill: none;\"/><path class=\"ylines-above crisp\" d=\"M0,0\" style=\"fill: none;\"/><g class=\"overlines-above\"/><g class=\"xaxislayer-above\"><g class=\"xtick\"><text text-anchor=\"middle\" x=\"0\" y=\"433\" transform=\"translate(117.03999999999999,0)\" style=\"font-family: 'Open Sans', verdana, arial, sans-serif; font-size: 12px; fill: rgb(42, 63, 95); fill-opacity: 1; white-space: pre; opacity: 1;\">0</text></g><g class=\"xtick\"><text text-anchor=\"middle\" x=\"0\" y=\"433\" style=\"font-family: 'Open Sans', verdana, arial, sans-serif; font-size: 12px; fill: rgb(42, 63, 95); fill-opacity: 1; white-space: pre; opacity: 1;\" transform=\"translate(203.03,0)\">500</text></g><g class=\"xtick\"><text text-anchor=\"middle\" x=\"0\" y=\"433\" style=\"font-family: 'Open Sans', verdana, arial, sans-serif; font-size: 12px; fill: rgb(42, 63, 95); fill-opacity: 1; white-space: pre; opacity: 1;\" transform=\"translate(289.02,0)\">1000</text></g><g class=\"xtick\"><text text-anchor=\"middle\" x=\"0\" y=\"433\" style=\"font-family: 'Open Sans', verdana, arial, sans-serif; font-size: 12px; fill: rgb(42, 63, 95); fill-opacity: 1; white-space: pre; opacity: 1;\" transform=\"translate(375,0)\">1500</text></g><g class=\"xtick\"><text text-anchor=\"middle\" x=\"0\" y=\"433\" style=\"font-family: 'Open Sans', verdana, arial, sans-serif; font-size: 12px; fill: rgb(42, 63, 95); fill-opacity: 1; white-space: pre; opacity: 1;\" transform=\"translate(460.99,0)\">2000</text></g><g class=\"xtick\"><text text-anchor=\"middle\" x=\"0\" y=\"433\" style=\"font-family: 'Open Sans', verdana, arial, sans-serif; font-size: 12px; fill: rgb(42, 63, 95); fill-opacity: 1; white-space: pre; opacity: 1;\" transform=\"translate(546.98,0)\">2500</text></g><g class=\"xtick\"><text text-anchor=\"middle\" x=\"0\" y=\"433\" style=\"font-family: 'Open Sans', verdana, arial, sans-serif; font-size: 12px; fill: rgb(42, 63, 95); fill-opacity: 1; white-space: pre; opacity: 1;\" transform=\"translate(632.96,0)\">3000</text></g><g class=\"xtick\"><text text-anchor=\"middle\" x=\"0\" y=\"433\" style=\"font-family: 'Open Sans', verdana, arial, sans-serif; font-size: 12px; fill: rgb(42, 63, 95); fill-opacity: 1; white-space: pre; opacity: 1;\" transform=\"translate(718.95,0)\">3500</text></g><g class=\"xtick\"><text text-anchor=\"middle\" x=\"0\" y=\"433\" style=\"font-family: 'Open Sans', verdana, arial, sans-serif; font-size: 12px; fill: rgb(42, 63, 95); fill-opacity: 1; white-space: pre; opacity: 1;\" transform=\"translate(804.94,0)\">4000</text></g></g><g class=\"yaxislayer-above\"><g class=\"ytick\"><text text-anchor=\"end\" x=\"79\" y=\"4.199999999999999\" transform=\"translate(0,406.698)\" style=\"font-family: 'Open Sans', verdana, arial, sans-serif; font-size: 12px; fill: rgb(42, 63, 95); fill-opacity: 1; white-space: pre; opacity: 1;\">1</text></g><g class=\"ytick\"><text text-anchor=\"end\" x=\"79\" y=\"3.15\" style=\"font-family: 'Open Sans', verdana, arial, sans-serif; font-size: 9px; fill: rgb(42, 63, 95); fill-opacity: 1; white-space: pre; opacity: 1;\" transform=\"translate(0,375.618)\">2</text></g><g class=\"ytick\"><text text-anchor=\"end\" x=\"79\" y=\"3.15\" style=\"font-family: 'Open Sans', verdana, arial, sans-serif; font-size: 9px; fill: rgb(42, 63, 95); fill-opacity: 1; white-space: pre; opacity: 1;\" transform=\"translate(0,334.538)\">5</text></g><g class=\"ytick\"><text text-anchor=\"end\" x=\"79\" y=\"4.199999999999999\" style=\"font-family: 'Open Sans', verdana, arial, sans-serif; font-size: 12px; fill: rgb(42, 63, 95); fill-opacity: 1; white-space: pre; opacity: 1;\" transform=\"translate(0,303.468)\">10</text></g><g class=\"ytick\"><text text-anchor=\"end\" x=\"79\" y=\"3.15\" style=\"font-family: 'Open Sans', verdana, arial, sans-serif; font-size: 9px; fill: rgb(42, 63, 95); fill-opacity: 1; white-space: pre; opacity: 1;\" transform=\"translate(0,272.398)\">2</text></g><g class=\"ytick\"><text text-anchor=\"end\" x=\"79\" y=\"3.15\" style=\"font-family: 'Open Sans', verdana, arial, sans-serif; font-size: 9px; fill: rgb(42, 63, 95); fill-opacity: 1; white-space: pre; opacity: 1;\" transform=\"translate(0,231.318)\">5</text></g><g class=\"ytick\"><text text-anchor=\"end\" x=\"79\" y=\"4.199999999999999\" style=\"font-family: 'Open Sans', verdana, arial, sans-serif; font-size: 12px; fill: rgb(42, 63, 95); fill-opacity: 1; white-space: pre; opacity: 1;\" transform=\"translate(0,200.238)\">100</text></g><g class=\"ytick\"><text text-anchor=\"end\" x=\"79\" y=\"3.15\" style=\"font-family: 'Open Sans', verdana, arial, sans-serif; font-size: 9px; fill: rgb(42, 63, 95); fill-opacity: 1; white-space: pre; opacity: 1;\" transform=\"translate(0,169.168)\">2</text></g></g><g class=\"overaxes-above\"/></g><g class=\"subplot x2y2\"><g class=\"layer-subplot\"><g class=\"shapelayer\"/><g class=\"imagelayer\"/></g><g class=\"minor-gridlayer\"><g class=\"x2\"/><g class=\"y2\"/></g><g class=\"gridlayer\"><g class=\"x2\"><path class=\"x2grid crisp\" transform=\"translate(203.03,0)\" d=\"M0,100v50.687999999999995\" style=\"stroke: rgb(255, 255, 255); stroke-opacity: 1; stroke-width: 1px;\"/><path class=\"x2grid crisp\" transform=\"translate(289.02,0)\" d=\"M0,100v50.687999999999995\" style=\"stroke: rgb(255, 255, 255); stroke-opacity: 1; stroke-width: 1px;\"/><path class=\"x2grid crisp\" transform=\"translate(375,0)\" d=\"M0,100v50.687999999999995\" style=\"stroke: rgb(255, 255, 255); stroke-opacity: 1; stroke-width: 1px;\"/><path class=\"x2grid crisp\" transform=\"translate(460.99,0)\" d=\"M0,100v50.687999999999995\" style=\"stroke: rgb(255, 255, 255); stroke-opacity: 1; stroke-width: 1px;\"/><path class=\"x2grid crisp\" transform=\"translate(546.98,0)\" d=\"M0,100v50.687999999999995\" style=\"stroke: rgb(255, 255, 255); stroke-opacity: 1; stroke-width: 1px;\"/><path class=\"x2grid crisp\" transform=\"translate(632.96,0)\" d=\"M0,100v50.687999999999995\" style=\"stroke: rgb(255, 255, 255); stroke-opacity: 1; stroke-width: 1px;\"/><path class=\"x2grid crisp\" transform=\"translate(718.95,0)\" d=\"M0,100v50.687999999999995\" style=\"stroke: rgb(255, 255, 255); stroke-opacity: 1; stroke-width: 1px;\"/><path class=\"x2grid crisp\" transform=\"translate(804.94,0)\" d=\"M0,100v50.687999999999995\" style=\"stroke: rgb(255, 255, 255); stroke-opacity: 1; stroke-width: 1px;\"/></g><g class=\"y2\"/></g><g class=\"zerolinelayer\"><path class=\"x2zl zl crisp\" transform=\"translate(117.03999999999999,0)\" d=\"M0,100v50.687999999999995\" style=\"stroke: rgb(255, 255, 255); stroke-opacity: 1; stroke-width: 2px;\"/></g><path class=\"xlines-below\"/><path class=\"ylines-below\"/><g class=\"overlines-below\"/><g class=\"xaxislayer-below\"/><g class=\"yaxislayer-below\"/><g class=\"overaxes-below\"/><g class=\"plot\" transform=\"translate(80,100)\" clip-path=\"url(#clipe27591x2y2plot)\"><g class=\"boxlayer mlayer\"><g class=\"trace boxes\" style=\"opacity: 1;\"><path class=\"box\" d=\"M37.04,31.55V19.13M37.04,37.76V12.93H37L37.04,19.13L37.08,12.93H37.45V37.76H37.08L37.04,31.55L37,37.76ZM37.04,25.34H37.04M37.45,25.34H38.01M37.04,31.55V19.13M38.01,31.55V19.13\" style=\"vector-effect: non-scaling-stroke; stroke-width: 2px; stroke: rgb(99, 110, 250); stroke-opacity: 1; fill: rgb(99, 110, 250); fill-opacity: 0.5;\"/><g class=\"points\"><path class=\"point\" transform=\"translate(38.73,25.34)\" d=\"M3,0A3,3 0 1,1 0,-3A3,3 0 0,1 3,0Z\" style=\"opacity: 1; stroke-width: 0px; fill: rgb(99, 110, 250); fill-opacity: 1;\"/><path class=\"point\" transform=\"translate(38.92,25.34)\" d=\"M3,0A3,3 0 1,1 0,-3A3,3 0 0,1 3,0Z\" style=\"opacity: 1; stroke-width: 0px; fill: rgb(99, 110, 250); fill-opacity: 1;\"/><path class=\"point\" transform=\"translate(38.97,25.34)\" d=\"M3,0A3,3 0 1,1 0,-3A3,3 0 0,1 3,0Z\" style=\"opacity: 1; stroke-width: 0px; fill: rgb(99, 110, 250); fill-opacity: 1;\"/><path class=\"point\" transform=\"translate(39.26,25.34)\" d=\"M3,0A3,3 0 1,1 0,-3A3,3 0 0,1 3,0Z\" style=\"opacity: 1; stroke-width: 0px; fill: rgb(99, 110, 250); fill-opacity: 1;\"/><path class=\"point\" transform=\"translate(39.36,25.34)\" d=\"M3,0A3,3 0 1,1 0,-3A3,3 0 0,1 3,0Z\" style=\"opacity: 1; stroke-width: 0px; fill: rgb(99, 110, 250); fill-opacity: 1;\"/><path class=\"point\" transform=\"translate(39.66,25.34)\" d=\"M3,0A3,3 0 1,1 0,-3A3,3 0 0,1 3,0Z\" style=\"opacity: 1; stroke-width: 0px; fill: rgb(99, 110, 250); fill-opacity: 1;\"/><path class=\"point\" transform=\"translate(40.28,25.34)\" d=\"M3,0A3,3 0 1,1 0,-3A3,3 0 0,1 3,0Z\" style=\"opacity: 1; stroke-width: 0px; fill: rgb(99, 110, 250); fill-opacity: 1;\"/><path class=\"point\" transform=\"translate(40.37,25.34)\" d=\"M3,0A3,3 0 1,1 0,-3A3,3 0 0,1 3,0Z\" style=\"opacity: 1; stroke-width: 0px; fill: rgb(99, 110, 250); fill-opacity: 1;\"/><path class=\"point\" transform=\"translate(40.4,25.34)\" d=\"M3,0A3,3 0 1,1 0,-3A3,3 0 0,1 3,0Z\" style=\"opacity: 1; stroke-width: 0px; fill: rgb(99, 110, 250); fill-opacity: 1;\"/><path class=\"point\" transform=\"translate(40.44,25.34)\" d=\"M3,0A3,3 0 1,1 0,-3A3,3 0 0,1 3,0Z\" style=\"opacity: 1; stroke-width: 0px; fill: rgb(99, 110, 250); fill-opacity: 1;\"/><path class=\"point\" transform=\"translate(41.17,25.34)\" d=\"M3,0A3,3 0 1,1 0,-3A3,3 0 0,1 3,0Z\" style=\"opacity: 1; stroke-width: 0px; fill: rgb(99, 110, 250); fill-opacity: 1;\"/><path class=\"point\" transform=\"translate(41.28,25.34)\" d=\"M3,0A3,3 0 1,1 0,-3A3,3 0 0,1 3,0Z\" style=\"opacity: 1; stroke-width: 0px; fill: rgb(99, 110, 250); fill-opacity: 1;\"/><path class=\"point\" transform=\"translate(41.28,25.34)\" d=\"M3,0A3,3 0 1,1 0,-3A3,3 0 0,1 3,0Z\" style=\"opacity: 1; stroke-width: 0px; fill: rgb(99, 110, 250); fill-opacity: 1;\"/><path class=\"point\" transform=\"translate(41.46,25.34)\" d=\"M3,0A3,3 0 1,1 0,-3A3,3 0 0,1 3,0Z\" style=\"opacity: 1; stroke-width: 0px; fill: rgb(99, 110, 250); fill-opacity: 1;\"/><path class=\"point\" transform=\"translate(41.46,25.34)\" d=\"M3,0A3,3 0 1,1 0,-3A3,3 0 0,1 3,0Z\" style=\"opacity: 1; stroke-width: 0px; fill: rgb(99, 110, 250); fill-opacity: 1;\"/><path class=\"point\" transform=\"translate(42.62,25.34)\" d=\"M3,0A3,3 0 1,1 0,-3A3,3 0 0,1 3,0Z\" style=\"opacity: 1; stroke-width: 0px; fill: rgb(99, 110, 250); fill-opacity: 1;\"/><path class=\"point\" transform=\"translate(42.81,25.34)\" d=\"M3,0A3,3 0 1,1 0,-3A3,3 0 0,1 3,0Z\" style=\"opacity: 1; stroke-width: 0px; fill: rgb(99, 110, 250); fill-opacity: 1;\"/><path class=\"point\" transform=\"translate(43.28,25.34)\" d=\"M3,0A3,3 0 1,1 0,-3A3,3 0 0,1 3,0Z\" style=\"opacity: 1; stroke-width: 0px; fill: rgb(99, 110, 250); fill-opacity: 1;\"/><path class=\"point\" transform=\"translate(44.74,25.34)\" d=\"M3,0A3,3 0 1,1 0,-3A3,3 0 0,1 3,0Z\" style=\"opacity: 1; stroke-width: 0px; fill: rgb(99, 110, 250); fill-opacity: 1;\"/><path class=\"point\" transform=\"translate(44.75,25.34)\" d=\"M3,0A3,3 0 1,1 0,-3A3,3 0 0,1 3,0Z\" style=\"opacity: 1; stroke-width: 0px; fill: rgb(99, 110, 250); fill-opacity: 1;\"/><path class=\"point\" transform=\"translate(46.07,25.34)\" d=\"M3,0A3,3 0 1,1 0,-3A3,3 0 0,1 3,0Z\" style=\"opacity: 1; stroke-width: 0px; fill: rgb(99, 110, 250); fill-opacity: 1;\"/><path class=\"point\" transform=\"translate(46.14,25.34)\" d=\"M3,0A3,3 0 1,1 0,-3A3,3 0 0,1 3,0Z\" style=\"opacity: 1; stroke-width: 0px; fill: rgb(99, 110, 250); fill-opacity: 1;\"/><path class=\"point\" transform=\"translate(46.33,25.34)\" d=\"M3,0A3,3 0 1,1 0,-3A3,3 0 0,1 3,0Z\" style=\"opacity: 1; stroke-width: 0px; fill: rgb(99, 110, 250); fill-opacity: 1;\"/><path class=\"point\" transform=\"translate(46.37,25.34)\" d=\"M3,0A3,3 0 1,1 0,-3A3,3 0 0,1 3,0Z\" style=\"opacity: 1; stroke-width: 0px; fill: rgb(99, 110, 250); fill-opacity: 1;\"/><path class=\"point\" transform=\"translate(46.55,25.34)\" d=\"M3,0A3,3 0 1,1 0,-3A3,3 0 0,1 3,0Z\" style=\"opacity: 1; stroke-width: 0px; fill: rgb(99, 110, 250); fill-opacity: 1;\"/><path class=\"point\" transform=\"translate(46.87,25.34)\" d=\"M3,0A3,3 0 1,1 0,-3A3,3 0 0,1 3,0Z\" style=\"opacity: 1; stroke-width: 0px; fill: rgb(99, 110, 250); fill-opacity: 1;\"/><path class=\"point\" transform=\"translate(46.92,25.34)\" d=\"M3,0A3,3 0 1,1 0,-3A3,3 0 0,1 3,0Z\" style=\"opacity: 1; stroke-width: 0px; fill: rgb(99, 110, 250); fill-opacity: 1;\"/><path class=\"point\" transform=\"translate(47.41,25.34)\" d=\"M3,0A3,3 0 1,1 0,-3A3,3 0 0,1 3,0Z\" style=\"opacity: 1; stroke-width: 0px; fill: rgb(99, 110, 250); fill-opacity: 1;\"/><path class=\"point\" transform=\"translate(48.55,25.34)\" d=\"M3,0A3,3 0 1,1 0,-3A3,3 0 0,1 3,0Z\" style=\"opacity: 1; stroke-width: 0px; fill: rgb(99, 110, 250); fill-opacity: 1;\"/><path class=\"point\" transform=\"translate(49.27,25.34)\" d=\"M3,0A3,3 0 1,1 0,-3A3,3 0 0,1 3,0Z\" style=\"opacity: 1; stroke-width: 0px; fill: rgb(99, 110, 250); fill-opacity: 1;\"/><path class=\"point\" transform=\"translate(49.34,25.34)\" d=\"M3,0A3,3 0 1,1 0,-3A3,3 0 0,1 3,0Z\" style=\"opacity: 1; stroke-width: 0px; fill: rgb(99, 110, 250); fill-opacity: 1;\"/><path class=\"point\" transform=\"translate(49.52,25.34)\" d=\"M3,0A3,3 0 1,1 0,-3A3,3 0 0,1 3,0Z\" style=\"opacity: 1; stroke-width: 0px; fill: rgb(99, 110, 250); fill-opacity: 1;\"/><path class=\"point\" transform=\"translate(49.94,25.34)\" d=\"M3,0A3,3 0 1,1 0,-3A3,3 0 0,1 3,0Z\" style=\"opacity: 1; stroke-width: 0px; fill: rgb(99, 110, 250); fill-opacity: 1;\"/><path class=\"point\" transform=\"translate(50.02,25.34)\" d=\"M3,0A3,3 0 1,1 0,-3A3,3 0 0,1 3,0Z\" style=\"opacity: 1; stroke-width: 0px; fill: rgb(99, 110, 250); fill-opacity: 1;\"/><path class=\"point\" transform=\"translate(51.57,25.34)\" d=\"M3,0A3,3 0 1,1 0,-3A3,3 0 0,1 3,0Z\" style=\"opacity: 1; stroke-width: 0px; fill: rgb(99, 110, 250); fill-opacity: 1;\"/><path class=\"point\" transform=\"translate(55.97,25.34)\" d=\"M3,0A3,3 0 1,1 0,-3A3,3 0 0,1 3,0Z\" style=\"opacity: 1; stroke-width: 0px; fill: rgb(99, 110, 250); fill-opacity: 1;\"/><path class=\"point\" transform=\"translate(58.02,25.34)\" d=\"M3,0A3,3 0 1,1 0,-3A3,3 0 0,1 3,0Z\" style=\"opacity: 1; stroke-width: 0px; fill: rgb(99, 110, 250); fill-opacity: 1;\"/><path class=\"point\" transform=\"translate(61.75,25.34)\" d=\"M3,0A3,3 0 1,1 0,-3A3,3 0 0,1 3,0Z\" style=\"opacity: 1; stroke-width: 0px; fill: rgb(99, 110, 250); fill-opacity: 1;\"/><path class=\"point\" transform=\"translate(65.58,25.34)\" d=\"M3,0A3,3 0 1,1 0,-3A3,3 0 0,1 3,0Z\" style=\"opacity: 1; stroke-width: 0px; fill: rgb(99, 110, 250); fill-opacity: 1;\"/><path class=\"point\" transform=\"translate(69.35,25.34)\" d=\"M3,0A3,3 0 1,1 0,-3A3,3 0 0,1 3,0Z\" style=\"opacity: 1; stroke-width: 0px; fill: rgb(99, 110, 250); fill-opacity: 1;\"/><path class=\"point\" transform=\"translate(70.32,25.34)\" d=\"M3,0A3,3 0 1,1 0,-3A3,3 0 0,1 3,0Z\" style=\"opacity: 1; stroke-width: 0px; fill: rgb(99, 110, 250); fill-opacity: 1;\"/><path class=\"point\" transform=\"translate(89.13,25.34)\" d=\"M3,0A3,3 0 1,1 0,-3A3,3 0 0,1 3,0Z\" style=\"opacity: 1; stroke-width: 0px; fill: rgb(99, 110, 250); fill-opacity: 1;\"/><path class=\"point\" transform=\"translate(91.27,25.34)\" d=\"M3,0A3,3 0 1,1 0,-3A3,3 0 0,1 3,0Z\" style=\"opacity: 1; stroke-width: 0px; fill: rgb(99, 110, 250); fill-opacity: 1;\"/><path class=\"point\" transform=\"translate(119.85,25.34)\" d=\"M3,0A3,3 0 1,1 0,-3A3,3 0 0,1 3,0Z\" style=\"opacity: 1; stroke-width: 0px; fill: rgb(99, 110, 250); fill-opacity: 1;\"/><path class=\"point\" transform=\"translate(703,25.34)\" d=\"M3,0A3,3 0 1,1 0,-3A3,3 0 0,1 3,0Z\" style=\"opacity: 1; stroke-width: 0px; fill: rgb(99, 110, 250); fill-opacity: 1;\"/></g></g></g></g><g class=\"overplot\"/><path class=\"xlines-above crisp\" d=\"M0,0\" style=\"fill: none;\"/><path class=\"ylines-above crisp\" d=\"M0,0\" style=\"fill: none;\"/><g class=\"overlines-above\"/><g class=\"xaxislayer-above\"/><g class=\"yaxislayer-above\"/><g class=\"overaxes-above\"/></g></g><g class=\"polarlayer\"/><g class=\"smithlayer\"/><g class=\"ternarylayer\"/><g class=\"geolayer\"/><g class=\"funnelarealayer\"/><g class=\"pielayer\"/><g class=\"iciclelayer\"/><g class=\"treemaplayer\"/><g class=\"sunburstlayer\"/><g class=\"glimages\"/><defs id=\"topdefs-e27591\"><g class=\"clips\"/></defs><g class=\"layer-above\"><g class=\"imagelayer\"/><g class=\"shapelayer\"/></g><g class=\"infolayer\"><g class=\"g-gtitle\"><text class=\"gtitle\" x=\"45\" y=\"50\" text-anchor=\"start\" dy=\"0em\" style=\"font-family: 'Open Sans', verdana, arial, sans-serif; font-size: 17px; fill: rgb(42, 63, 95); opacity: 1; font-weight: normal; white-space: pre;\">Distribution of resolution time</text></g><g class=\"g-xtitle\"><text class=\"xtitle\" x=\"450\" y=\"460.3\" text-anchor=\"middle\" style=\"font-family: 'Open Sans', verdana, arial, sans-serif; font-size: 14px; fill: rgb(42, 63, 95); opacity: 1; font-weight: normal; white-space: pre;\">resolution_time</text></g><g class=\"g-x2title\"/><g class=\"g-ytitle\"><text class=\"ytitle\" transform=\"rotate(-90,31.309375000000003,286.944)\" x=\"31.309375000000003\" y=\"286.944\" text-anchor=\"middle\" style=\"font-family: 'Open Sans', verdana, arial, sans-serif; font-size: 14px; fill: rgb(42, 63, 95); opacity: 1; font-weight: normal; white-space: pre;\">count</text></g><g class=\"g-y2title\"/></g></svg>"
     },
     "metadata": {},
     "output_type": "display_data"
    }
   ],
   "source": [
    "fig = px.histogram(result, x='resolution_time', log_y=True, marginal='box', title='Distribution of resolution time')\n",
    "fig.show()"
   ]
  },
  {
   "cell_type": "code",
   "execution_count": 42,
   "metadata": {},
   "outputs": [
    {
     "data": {
      "text/html": [
       "<div>\n",
       "<style scoped>\n",
       "    .dataframe tbody tr th:only-of-type {\n",
       "        vertical-align: middle;\n",
       "    }\n",
       "\n",
       "    .dataframe tbody tr th {\n",
       "        vertical-align: top;\n",
       "    }\n",
       "\n",
       "    .dataframe thead th {\n",
       "        text-align: right;\n",
       "    }\n",
       "</style>\n",
       "<table border=\"1\" class=\"dataframe\">\n",
       "  <thead>\n",
       "    <tr style=\"text-align: right;\">\n",
       "      <th></th>\n",
       "      <th>response_time</th>\n",
       "      <th>resolution_time</th>\n",
       "    </tr>\n",
       "  </thead>\n",
       "  <tbody>\n",
       "    <tr>\n",
       "      <th>count</th>\n",
       "      <td>234.000000</td>\n",
       "      <td>234.000000</td>\n",
       "    </tr>\n",
       "    <tr>\n",
       "      <th>mean</th>\n",
       "      <td>14.938972</td>\n",
       "      <td>31.573590</td>\n",
       "    </tr>\n",
       "    <tr>\n",
       "      <th>std</th>\n",
       "      <td>50.127574</td>\n",
       "      <td>257.168860</td>\n",
       "    </tr>\n",
       "    <tr>\n",
       "      <th>min</th>\n",
       "      <td>0.000000</td>\n",
       "      <td>0.000000</td>\n",
       "    </tr>\n",
       "    <tr>\n",
       "      <th>25%</th>\n",
       "      <td>0.000000</td>\n",
       "      <td>0.000000</td>\n",
       "    </tr>\n",
       "    <tr>\n",
       "      <th>50%</th>\n",
       "      <td>0.000000</td>\n",
       "      <td>0.000000</td>\n",
       "    </tr>\n",
       "    <tr>\n",
       "      <th>75%</th>\n",
       "      <td>2.466319</td>\n",
       "      <td>2.240278</td>\n",
       "    </tr>\n",
       "    <tr>\n",
       "      <th>max</th>\n",
       "      <td>481.504167</td>\n",
       "      <td>3872.435000</td>\n",
       "    </tr>\n",
       "  </tbody>\n",
       "</table>\n",
       "</div>"
      ],
      "text/plain": [
       "       response_time  resolution_time\n",
       "count     234.000000       234.000000\n",
       "mean       14.938972        31.573590\n",
       "std        50.127574       257.168860\n",
       "min         0.000000         0.000000\n",
       "25%         0.000000         0.000000\n",
       "50%         0.000000         0.000000\n",
       "75%         2.466319         2.240278\n",
       "max       481.504167      3872.435000"
      ]
     },
     "execution_count": 42,
     "metadata": {},
     "output_type": "execute_result"
    }
   ],
   "source": [
    "result.describe()"
   ]
  },
  {
   "cell_type": "markdown",
   "metadata": {},
   "source": [
    "## Query Tweets Topics\n"
   ]
  },
  {
   "cell_type": "code",
   "execution_count": 43,
   "metadata": {},
   "outputs": [
    {
     "data": {
      "text/plain": [
       "(138, 28)"
      ]
     },
     "execution_count": 43,
     "metadata": {},
     "output_type": "execute_result"
    }
   ],
   "source": [
    "queries = df[df['conversation_id'].isin(conversation_ids)]\n",
    "queries.sort_values('date', ascending=True, inplace=True)\n",
    "queries = queries[queries['inReplyToTweetId'] == 'nan']\n",
    "queries.shape\n"
   ]
  },
  {
   "cell_type": "code",
   "execution_count": 48,
   "metadata": {},
   "outputs": [],
   "source": [
    "processor = Processor('./../../data/config.json')\n",
    "queries = processor.preprocess_individual(queries)\n",
    "id2word = gensim.corpora.Dictionary(queries['bigram'].values.tolist())\n",
    "corpus = [id2word.doc2bow(text) for text in queries['bigram'].values.tolist()]\n"
   ]
  },
  {
   "cell_type": "code",
   "execution_count": 49,
   "metadata": {},
   "outputs": [
    {
     "name": "stdout",
     "output_type": "stream",
     "text": [
      "Coherence Score:  -13.345493014034385\n"
     ]
    },
    {
     "name": "stderr",
     "output_type": "stream",
     "text": [
      "/Users/pushkar/miniforge3/envs/project/lib/python3.8/site-packages/past/builtins/misc.py:45: DeprecationWarning: the imp module is deprecated in favour of importlib; see the module's documentation for alternative uses\n",
      "  from imp import reload\n",
      "/Users/pushkar/miniforge3/envs/project/lib/python3.8/site-packages/past/builtins/misc.py:45: DeprecationWarning: the imp module is deprecated in favour of importlib; see the module's documentation for alternative uses\n",
      "  from imp import reload\n",
      "/Users/pushkar/miniforge3/envs/project/lib/python3.8/site-packages/past/builtins/misc.py:45: DeprecationWarning: the imp module is deprecated in favour of importlib; see the module's documentation for alternative uses\n",
      "  from imp import reload\n",
      "/Users/pushkar/miniforge3/envs/project/lib/python3.8/site-packages/past/builtins/misc.py:45: DeprecationWarning: the imp module is deprecated in favour of importlib; see the module's documentation for alternative uses\n",
      "  from imp import reload\n",
      "/Users/pushkar/miniforge3/envs/project/lib/python3.8/site-packages/past/builtins/misc.py:45: DeprecationWarning: the imp module is deprecated in favour of importlib; see the module's documentation for alternative uses\n",
      "  from imp import reload\n",
      "/Users/pushkar/miniforge3/envs/project/lib/python3.8/site-packages/past/builtins/misc.py:45: DeprecationWarning: the imp module is deprecated in favour of importlib; see the module's documentation for alternative uses\n",
      "  from imp import reload\n",
      "/Users/pushkar/miniforge3/envs/project/lib/python3.8/site-packages/past/builtins/misc.py:45: DeprecationWarning: the imp module is deprecated in favour of importlib; see the module's documentation for alternative uses\n",
      "  from imp import reload\n",
      "/Users/pushkar/miniforge3/envs/project/lib/python3.8/site-packages/past/builtins/misc.py:45: DeprecationWarning: the imp module is deprecated in favour of importlib; see the module's documentation for alternative uses\n",
      "  from imp import reload\n"
     ]
    },
    {
     "data": {
      "text/html": [
       "\n",
       "<link rel=\"stylesheet\" type=\"text/css\" href=\"https://cdn.jsdelivr.net/gh/bmabey/pyLDAvis@3.3.1/pyLDAvis/js/ldavis.v1.0.0.css\">\n",
       "\n",
       "\n",
       "<div id=\"ldavis_el9015261020457447827817968\"></div>\n",
       "<script type=\"text/javascript\">\n",
       "\n",
       "var ldavis_el9015261020457447827817968_data = {\"mdsDat\": {\"x\": [-0.12196301133222819, 0.08376613437026889, 0.035350272595509206, 0.002846604366450131], \"y\": [0.040180484045055385, 0.0647476465544585, -0.006905016203348096, -0.0980231143961657], \"topics\": [1, 2, 3, 4], \"cluster\": [1, 1, 1, 1], \"Freq\": [31.129835450444027, 27.133338747314355, 22.681459216603304, 19.05536658563831]}, \"tinfo\": {\"Term\": [\"thanks\", \"bank\", \"transaction\", \"ticket\", \"indian_payments\", \"continue_truly\", \"id\", \"order\", \"dm\", \"payment\", \"worst\", \"app\", \"users\", \"till\", \"raised\", \"products\", \"kyc\", \"india\", \"rs\", \"help\", \"thank\", \"recharge\", \"im\", \"ye\", \"log\", \"concerns\", \"messages\", \"money\", \"pls\", \"confidential\", \"indian_payments\", \"continue_truly\", \"concerns\", \"better\", \"assist\", \"dm\", \"thanks\", \"till\", \"users\", \"good\", \"services\", \"handle\", \"asks\", \"satisfied\", \"im\", \"association\", \"bb\", \"employees\", \"lives\", \"action\", \"totally\", \"checked\", \"processed\", \"bhavesh\", \"day\", \"happy\", \"hey\", \"online\", \"cash\", \"lot\", \"kindly\", \"connect\", \"thank\", \"confidential\", \"truly_indian\", \"app\", \"information\", \"love\", \"best\", \"resolved\", \"india\", \"transactions\", \"response\", \"issue\", \"assistance\", \"details\", \"use\", \"payment\", \"indian\", \"wallet\", \"refund\", \"share\", \"time\", \"card\", \"bank\", \"electricity\", \"wont\", \"want\", \"walmart\", \"flipkart\", \"recharge\", \"office\", \"floor\", \"network\", \"initiate\", \"owner\", \"anymore\", \"hours\", \"owned\", \"refunded\", \"month\", \"ac\", \"excuse\", \"oct\", \"swiggy\", \"phonepe\", \"paid\", \"didnt\", \"dont\", \"treats\", \"adding\", \"gets\", \"entries\", \"offer\", \"transaction\", \"deducted\", \"pls\", \"money\", \"got\", \"refund\", \"app\", \"account\", \"payment\", \"debited\", \"help\", \"ur\", \"indian\", \"use\", \"supercash\", \"wallet\", \"time\", \"issue\", \"card\", \"products\", \"executive\", \"going\", \"indians\", \"start\", \"frauds\", \"tell\", \"foreign\", \"chargeable\", \"madam\", \"complaint\", \"september\", \"complain\", \"work\", \"rs\", \"received\", \"soon\", \"added\", \"care\", \"customer\", \"service\", \"year\", \"recently\", \"myjio\", \"tried\", \"rectify\", \"merchant\", \"inside\", \"accept\", \"outlet\", \"cashback\", \"showing\", \"reply\", \"possible\", \"credit\", \"carina\", \"given\", \"supercash\", \"kyc\", \"card\", \"account\", \"transaction\", \"india\", \"ur\", \"money\", \"indian\", \"support\", \"pls\", \"share\", \"otp\", \"deducted\", \"help\", \"use\", \"jio\", \"th\", \"number\", \"order\", \"ye\", \"log\", \"messages\", \"id\", \"hai\", \"chor\", \"caused\", \"shopclues\", \"having\", \"says\", \"urgent\", \"able\", \"beware\", \"claiming\", \"youtube\", \"seek\", \"videos\", \"channels\", \"calls\", \"contact\", \"ticket\", \"raised\", \"worst\", \"preparations\", \"rewarded\", \"screenshot\", \"picture\", \"send\", \"zoom\", \"option\", \"add\", \"looking\", \"upi\", \"need\", \"kyc\", \"password\", \"payment\", \"help\", \"wallet\", \"money\", \"account\", \"otp\", \"details\", \"card\", \"app\", \"thank\", \"fraud\", \"getting\", \"information\", \"confidential\", \"number\", \"issues\"], \"Freq\": [10.0, 7.0, 13.0, 5.0, 6.0, 6.0, 4.0, 3.0, 6.0, 13.0, 4.0, 22.0, 6.0, 6.0, 3.0, 3.0, 4.0, 6.0, 3.0, 7.0, 5.0, 4.0, 5.0, 2.0, 2.0, 4.0, 2.0, 13.0, 5.0, 5.0, 5.507515114765478, 5.507516471587265, 3.5304532289442996, 2.871419107498361, 2.8620396246234154, 5.554779097159595, 8.205546192270043, 4.881848406973605, 4.872285074746553, 2.203203146884415, 2.2029539439495793, 2.20012429211328, 2.2000980602254026, 2.187641757812002, 4.208928119087979, 1.5357332121162264, 1.5357204353777345, 1.5356447925631223, 1.5355094495898924, 1.535476320524599, 1.5354742852919188, 1.5353352110587752, 1.535237972164057, 1.5351925186342004, 1.535099576341807, 1.5350812592476857, 1.534145843694193, 1.5340841083028953, 1.5335964439390353, 1.5333836490554775, 4.213938409672575, 2.8680121279917925, 4.033887706294867, 3.5199631874368866, 3.5550842932503466, 11.895104640532788, 3.5338527459310405, 2.227880569268177, 2.1845348620572738, 2.1641144680294886, 3.5397173819673697, 2.1790535281757055, 2.1923112599911554, 3.236855989793266, 2.167436646174384, 3.5410493286880445, 4.188453678325688, 4.458274424759372, 3.5426601022858994, 3.5369686871643475, 3.5363293979658166, 2.8589806699051525, 2.573746654110777, 2.5316878923646207, 6.057213898015921, 2.1502977316927607, 2.149423964566503, 2.14800007696892, 2.1451491480913667, 2.144773071466756, 3.413776034149883, 1.4987927775531475, 1.498779670060728, 1.4986754014368187, 1.4978650036160182, 1.4978385915260297, 1.4962338599540856, 1.4954806226265436, 1.494030322938972, 1.4941016750029705, 1.4936040830538981, 1.4934379234131503, 1.492563072208572, 1.4869839124088224, 1.4819401887467853, 2.1478554017894314, 2.5254757539285513, 2.7902009781998234, 2.804772173457151, 0.8470631235434839, 0.8470542538117714, 0.8470511986819593, 0.8470507059190864, 0.8470494247356168, 7.550544793333074, 3.5925764223241408, 2.790784606546507, 6.692776297822877, 2.0829216727632667, 4.700563991547507, 7.713746280002247, 5.295931920915709, 5.099720446494924, 2.6438720865096537, 2.8752682097928117, 2.1542471275666224, 2.7820765010563044, 2.8124992866199494, 2.160996007874104, 2.638545516958562, 1.793300097100697, 1.762900964154952, 1.8712262091393608, 2.612509526215531, 2.0059228191875804, 1.397872831627373, 1.3978360889679098, 1.3973424521618472, 1.397131882122412, 1.3971012357786443, 1.3966822376485317, 1.396265216701888, 1.3960602486822813, 1.395691998261203, 1.3952365870022054, 1.3949635709182115, 1.394797817037404, 2.628945687627006, 2.452355688053127, 2.008686921677069, 2.013006738025984, 2.0130668773564957, 2.6285131787431895, 2.625353804325215, 0.7901168677255164, 0.7901113480883324, 0.7901093709048636, 0.7901089589916408, 0.790107146573461, 0.7901063227470156, 0.7901045927114804, 0.7901040984156131, 0.7901023683800779, 2.6744841772821517, 2.0287083757787716, 1.3995947936634747, 1.4012241576071174, 1.956725386757991, 1.4005298366789638, 1.3977149864804412, 2.6336848316366117, 2.0024727987996815, 3.7712026383782953, 4.510539420690031, 4.3519594205688525, 2.6130880171454662, 2.001743218099666, 3.1937853190666683, 2.6300423653910756, 2.012408145730782, 2.0005585556712315, 2.017553106647375, 2.029043343611457, 1.8638147345456058, 1.8999624265500374, 2.035684702883411, 1.4782313345876006, 1.4714993544066568, 1.4769395747212684, 2.8984007751250678, 1.8925322843660803, 1.8924140700941225, 1.8867033794739656, 3.0552320783868088, 1.3190294479597828, 1.318991519727328, 1.3189358731965002, 1.3187678262103684, 1.3163441567868237, 1.3160494516521657, 1.3160426688660698, 1.31522236702108, 1.3139062296700572, 1.313397105440244, 1.3130229448113195, 1.3126313427324339, 1.3126303737629916, 1.3124739544101671, 1.3123349765073034, 1.3117390603003036, 3.7475679429517847, 2.4221522942463722, 2.462185958875039, 0.7455807354180468, 0.7455803893575317, 0.7455777592976169, 0.7455767903281747, 0.7455765134797626, 0.7455758213587323, 1.3169320443898733, 1.8963097425246906, 1.320549761014714, 1.320055032902329, 2.069760948084557, 1.8882731099704528, 1.8930104015737406, 3.6144129927394415, 2.476034746992461, 2.6410579947676163, 2.543140587293085, 2.4724985622249775, 1.911329045728382, 1.89469363991918, 1.9132498200113852, 1.919380074400048, 1.3829796316353258, 1.3325240085339498, 1.3290341958754894, 1.325771952611758, 1.3231871574123835, 1.3219796830631014, 1.3200209805476433], \"Total\": [10.0, 7.0, 13.0, 5.0, 6.0, 6.0, 4.0, 3.0, 6.0, 13.0, 4.0, 22.0, 6.0, 6.0, 3.0, 3.0, 4.0, 6.0, 3.0, 7.0, 5.0, 4.0, 5.0, 2.0, 2.0, 4.0, 2.0, 13.0, 5.0, 5.0, 6.088891661612733, 6.088902081430427, 4.088526209285226, 3.4218723177259154, 3.4205535018019675, 6.701826334421257, 10.065493559202578, 6.033317129026537, 6.033257333283754, 2.753950452854187, 2.7539200003774273, 2.7535047152543815, 2.753488036966129, 2.7525417038010667, 5.365830382017923, 2.0860844530413405, 2.0860823288282635, 2.086075082166655, 2.086061835519582, 2.0860585815632158, 2.0860583161410875, 2.0860277107406455, 2.0860433143926875, 2.0860165323691744, 2.086027089292166, 2.0860232016047626, 2.0860286639882113, 2.086016727329184, 2.0858872554668673, 2.0858689042286715, 5.940595550008732, 4.029341466478609, 5.892030022138392, 5.235060671586501, 5.3071470649145045, 22.871261370563936, 5.844084180273839, 3.4062107437860893, 3.3591553601410133, 3.322033059182232, 6.521677970488958, 3.3595988801606804, 3.40434441356244, 5.955819576025181, 3.400005289124958, 7.0266645888138815, 10.336016969196296, 13.415282568639775, 9.12755321071351, 10.18558210623925, 10.436381782433328, 6.391941912909916, 5.32633455350365, 10.087366559893661, 7.226299787866633, 2.705639430247957, 2.7055457570943338, 2.7056383723992785, 2.705294894133093, 2.705269625432826, 4.615199735868864, 2.0538763475687283, 2.0538758798330483, 2.0538835430451745, 2.0538167351123087, 2.053814300699833, 2.0537073036207096, 2.0539552912685344, 2.053554419063527, 2.053949805272327, 2.0534095988848935, 2.05400420240739, 2.0539207993942488, 2.053574219097267, 2.0518493056303146, 3.3133913669217963, 3.926878449497015, 4.572078415423063, 4.633133332173017, 1.4020952527603816, 1.4020946768630709, 1.4020946632809992, 1.4020948455007338, 1.4020945416417885, 13.425817111674093, 6.415714135558763, 5.179695246204257, 13.928941546042637, 3.8789286472028284, 10.436381782433328, 22.871261370563936, 13.8453153898945, 13.415282568639775, 5.209368031718313, 7.482975563953163, 4.529806246313956, 9.12755321071351, 10.336016969196296, 5.71369122220056, 10.18558210623925, 5.32633455350365, 5.955819576025181, 10.087366559893661, 3.1823428955160225, 2.574273713048897, 1.9663023831248654, 1.966303652198991, 1.9663449751616182, 1.9663640002514993, 1.9663753847571805, 1.9663936455277935, 1.966371146685501, 1.966462937555563, 1.9661913120799874, 1.9663366247986276, 1.9663345878841128, 1.9661970898544534, 3.7569458111081877, 3.769827501025011, 3.225776935292241, 3.2407774831270686, 3.2413788761515905, 4.423050924261408, 4.423267135640328, 1.3583170002924534, 1.3583168095379585, 1.358317031709586, 1.3583169509548425, 1.358317364603676, 1.3583178681708197, 1.3583182037588375, 1.358317434701142, 1.3583176763088929, 4.981384807712999, 3.809041857599225, 2.5406826909292883, 2.6177682862927605, 3.8824083635364453, 2.633829599967134, 2.63411325957014, 5.71369122220056, 4.296228781552357, 10.087366559893661, 13.8453153898945, 13.425817111674093, 6.521677970488958, 4.529806246313956, 13.928941546042637, 9.12755321071351, 5.057850430225545, 5.179695246204257, 6.391941912909916, 6.946190419118676, 6.415714135558763, 7.482975563953163, 10.336016969196296, 3.264077178429636, 3.264432076976362, 5.078743891530724, 3.6377963968917655, 2.471319855473821, 2.4713267250596336, 2.471667626863427, 4.268151776172556, 1.8976637052845955, 1.8976666095778763, 1.8976722103645913, 1.8977078731421604, 1.8981129826889216, 1.8980715113138418, 1.89806908337839, 1.8981747631283914, 1.8979686279254109, 1.89799907465214, 1.8980212953584799, 1.8980432644869079, 1.898044822624025, 1.898054449718351, 1.8980636727557587, 1.8980970876841896, 5.451354383478689, 3.6604751811568264, 4.261918595477938, 1.3240017210093387, 1.3240018084287941, 1.3240018873347985, 1.324002166717992, 1.3240020961177676, 1.3240020281705722, 2.5057914585509184, 3.789921026083426, 2.565179894200022, 2.564942433293206, 4.370593549344114, 4.296228781552357, 4.4741784639767515, 13.415282568639775, 7.482975563953163, 10.18558210623925, 13.928941546042637, 13.8453153898945, 6.946190419118676, 7.0266645888138815, 10.087366559893661, 22.871261370563936, 5.892030022138392, 3.17107855998269, 3.171512592546886, 5.844084180273839, 5.235060671586501, 5.078743891530724, 3.7651925171716476], \"Category\": [\"Default\", \"Default\", \"Default\", \"Default\", \"Default\", \"Default\", \"Default\", \"Default\", \"Default\", \"Default\", \"Default\", \"Default\", \"Default\", \"Default\", \"Default\", \"Default\", \"Default\", \"Default\", \"Default\", \"Default\", \"Default\", \"Default\", \"Default\", \"Default\", \"Default\", \"Default\", \"Default\", \"Default\", \"Default\", \"Default\", \"Topic1\", \"Topic1\", \"Topic1\", \"Topic1\", \"Topic1\", \"Topic1\", \"Topic1\", \"Topic1\", \"Topic1\", \"Topic1\", \"Topic1\", \"Topic1\", \"Topic1\", \"Topic1\", \"Topic1\", \"Topic1\", \"Topic1\", \"Topic1\", \"Topic1\", \"Topic1\", \"Topic1\", \"Topic1\", \"Topic1\", \"Topic1\", \"Topic1\", \"Topic1\", \"Topic1\", \"Topic1\", \"Topic1\", \"Topic1\", \"Topic1\", \"Topic1\", \"Topic1\", \"Topic1\", \"Topic1\", \"Topic1\", \"Topic1\", \"Topic1\", \"Topic1\", \"Topic1\", \"Topic1\", \"Topic1\", \"Topic1\", \"Topic1\", \"Topic1\", \"Topic1\", \"Topic1\", \"Topic1\", \"Topic1\", \"Topic1\", \"Topic1\", \"Topic1\", \"Topic1\", \"Topic1\", \"Topic2\", \"Topic2\", \"Topic2\", \"Topic2\", \"Topic2\", \"Topic2\", \"Topic2\", \"Topic2\", \"Topic2\", \"Topic2\", \"Topic2\", \"Topic2\", \"Topic2\", \"Topic2\", \"Topic2\", \"Topic2\", \"Topic2\", \"Topic2\", \"Topic2\", \"Topic2\", \"Topic2\", \"Topic2\", \"Topic2\", \"Topic2\", \"Topic2\", \"Topic2\", \"Topic2\", \"Topic2\", \"Topic2\", \"Topic2\", \"Topic2\", \"Topic2\", \"Topic2\", \"Topic2\", \"Topic2\", \"Topic2\", \"Topic2\", \"Topic2\", \"Topic2\", \"Topic2\", \"Topic2\", \"Topic2\", \"Topic2\", \"Topic2\", \"Topic2\", \"Topic2\", \"Topic2\", \"Topic2\", \"Topic2\", \"Topic3\", \"Topic3\", \"Topic3\", \"Topic3\", \"Topic3\", \"Topic3\", \"Topic3\", \"Topic3\", \"Topic3\", \"Topic3\", \"Topic3\", \"Topic3\", \"Topic3\", \"Topic3\", \"Topic3\", \"Topic3\", \"Topic3\", \"Topic3\", \"Topic3\", \"Topic3\", \"Topic3\", \"Topic3\", \"Topic3\", \"Topic3\", \"Topic3\", \"Topic3\", \"Topic3\", \"Topic3\", \"Topic3\", \"Topic3\", \"Topic3\", \"Topic3\", \"Topic3\", \"Topic3\", \"Topic3\", \"Topic3\", \"Topic3\", \"Topic3\", \"Topic3\", \"Topic3\", \"Topic3\", \"Topic3\", \"Topic3\", \"Topic3\", \"Topic3\", \"Topic3\", \"Topic3\", \"Topic3\", \"Topic3\", \"Topic3\", \"Topic3\", \"Topic3\", \"Topic3\", \"Topic3\", \"Topic3\", \"Topic3\", \"Topic4\", \"Topic4\", \"Topic4\", \"Topic4\", \"Topic4\", \"Topic4\", \"Topic4\", \"Topic4\", \"Topic4\", \"Topic4\", \"Topic4\", \"Topic4\", \"Topic4\", \"Topic4\", \"Topic4\", \"Topic4\", \"Topic4\", \"Topic4\", \"Topic4\", \"Topic4\", \"Topic4\", \"Topic4\", \"Topic4\", \"Topic4\", \"Topic4\", \"Topic4\", \"Topic4\", \"Topic4\", \"Topic4\", \"Topic4\", \"Topic4\", \"Topic4\", \"Topic4\", \"Topic4\", \"Topic4\", \"Topic4\", \"Topic4\", \"Topic4\", \"Topic4\", \"Topic4\", \"Topic4\", \"Topic4\", \"Topic4\", \"Topic4\", \"Topic4\", \"Topic4\", \"Topic4\", \"Topic4\", \"Topic4\", \"Topic4\", \"Topic4\", \"Topic4\", \"Topic4\"], \"logprob\": [30.0, 29.0, 28.0, 27.0, 26.0, 25.0, 24.0, 23.0, 22.0, 21.0, 20.0, 19.0, 18.0, 17.0, 16.0, 15.0, 14.0, 13.0, 12.0, 11.0, 10.0, 9.0, 8.0, 7.0, 6.0, 5.0, 4.0, 3.0, 2.0, 1.0, -4.4793, -4.4793, -4.924, -5.1306, -5.1339, -4.4708, -4.0806, -4.5999, -4.6019, -5.3955, -5.3956, -5.3969, -5.3969, -5.4026, -4.7482, -5.7564, -5.7564, -5.7565, -5.7566, -5.7566, -5.7566, -5.7567, -5.7568, -5.7568, -5.7568, -5.7569, -5.7575, -5.7575, -5.7578, -5.758, -4.747, -5.1318, -4.7907, -4.927, -4.9171, -3.7093, -4.923, -5.3844, -5.404, -5.4134, -4.9214, -5.4065, -5.4005, -5.0108, -5.4119, -4.921, -4.7531, -4.6907, -4.9206, -4.9222, -4.9223, -5.135, -5.2401, -5.2566, -4.2468, -5.2824, -5.2828, -5.2835, -5.2848, -5.285, -4.8202, -5.6434, -5.6434, -5.6435, -5.644, -5.644, -5.6451, -5.6456, -5.6466, -5.6465, -5.6468, -5.647, -5.6475, -5.6513, -5.6547, -5.2836, -5.1216, -5.0219, -5.0167, -6.214, -6.214, -6.214, -6.214, -6.214, -4.0264, -4.7692, -5.0217, -4.147, -5.3143, -4.5004, -4.005, -4.3811, -4.4188, -5.0758, -4.9919, -5.2806, -5.0248, -5.014, -5.2775, -5.0778, -5.464, -5.4811, -5.4214, -4.9085, -5.1727, -5.5339, -5.5339, -5.5342, -5.5344, -5.5344, -5.5347, -5.535, -5.5352, -5.5354, -5.5358, -5.536, -5.5361, -4.9022, -4.9718, -5.1713, -5.1692, -5.1692, -4.9024, -4.9036, -6.1044, -6.1044, -6.1044, -6.1044, -6.1044, -6.1044, -6.1044, -6.1044, -6.1044, -4.8851, -5.1614, -5.5326, -5.5315, -5.1975, -5.532, -5.534, -4.9004, -5.1744, -4.5414, -4.3624, -4.3982, -4.9083, -5.1748, -4.7076, -4.9018, -5.1695, -5.1754, -5.1669, -5.1613, -5.2462, -5.227, -5.158, -5.478, -5.4825, -5.4788, -4.6305, -5.0567, -5.0568, -5.0598, -4.5778, -5.4177, -5.4178, -5.4178, -5.4179, -5.4198, -5.42, -5.42, -5.4206, -5.4216, -5.422, -5.4223, -5.4226, -5.4226, -5.4227, -5.4228, -5.4233, -4.3735, -4.81, -4.7936, -5.9882, -5.9882, -5.9882, -5.9882, -5.9882, -5.9882, -5.4193, -5.0547, -5.4166, -5.4169, -4.9672, -5.059, -5.0565, -4.4097, -4.788, -4.7234, -4.7612, -4.7894, -5.0468, -5.0556, -5.0458, -5.0426, -5.3704, -5.4075, -5.4102, -5.4126, -5.4146, -5.4155, -5.417], \"loglift\": [30.0, 29.0, 28.0, 27.0, 26.0, 25.0, 24.0, 23.0, 22.0, 21.0, 20.0, 19.0, 18.0, 17.0, 16.0, 15.0, 14.0, 13.0, 12.0, 11.0, 10.0, 9.0, 8.0, 7.0, 6.0, 5.0, 4.0, 3.0, 2.0, 1.0, 1.0667, 1.0666, 1.0202, 0.9916, 0.9887, 0.9793, 0.9627, 0.9552, 0.9533, 0.9439, 0.9438, 0.9426, 0.9426, 0.9373, 0.9242, 0.8607, 0.8607, 0.8607, 0.8606, 0.8606, 0.8606, 0.8605, 0.8604, 0.8604, 0.8603, 0.8603, 0.8597, 0.8597, 0.8594, 0.8593, 0.8236, 0.827, 0.7881, 0.7701, 0.7663, 0.5132, 0.664, 0.7425, 0.7367, 0.7384, 0.5559, 0.7341, 0.7269, 0.5572, 0.7168, 0.4817, 0.2637, 0.0654, 0.2206, 0.1093, 0.0848, 0.3624, 0.4397, -0.2154, 1.1279, 1.0747, 1.0743, 1.0736, 1.0724, 1.0722, 1.0029, 0.9893, 0.9893, 0.9893, 0.9887, 0.9887, 0.9877, 0.9871, 0.9863, 0.9862, 0.9861, 0.9857, 0.9852, 0.9816, 0.979, 0.8709, 0.863, 0.8106, 0.8025, 0.8005, 0.8004, 0.8004, 0.8004, 0.8004, 0.7288, 0.7245, 0.686, 0.5715, 0.6826, 0.5068, 0.2175, 0.3434, 0.3372, 0.6262, 0.3479, 0.5612, 0.1163, 0.0028, 0.3321, -0.0463, 0.2158, 0.087, -0.3803, 1.2863, 1.2342, 1.1424, 1.1424, 1.142, 1.1419, 1.1418, 1.1415, 1.1412, 1.141, 1.1409, 1.1405, 1.1403, 1.1403, 1.1266, 1.0536, 1.0099, 1.0074, 1.0073, 0.9632, 0.962, 0.9418, 0.9418, 0.9418, 0.9418, 0.9418, 0.9418, 0.9418, 0.9418, 0.9418, 0.8617, 0.8536, 0.8874, 0.8586, 0.7984, 0.852, 0.8499, 0.7091, 0.7203, 0.4997, 0.3621, 0.3571, 0.569, 0.667, 0.0109, 0.2393, 0.562, 0.5323, 0.3305, 0.253, 0.2475, 0.1128, -0.1412, 0.6915, 0.6868, 0.2485, 1.4306, 1.391, 1.3909, 1.3878, 1.3235, 1.2941, 1.2941, 1.294, 1.2939, 1.2918, 1.2916, 1.2916, 1.2909, 1.29, 1.2896, 1.2893, 1.289, 1.289, 1.2889, 1.2888, 1.2883, 1.2831, 1.2449, 1.1092, 1.0836, 1.0836, 1.0836, 1.0836, 1.0836, 1.0836, 1.0145, 0.9654, 0.9938, 0.9936, 0.9104, 0.8357, 0.7977, 0.3464, 0.5518, 0.308, -0.0427, -0.0649, 0.3674, 0.3472, -0.0047, -0.8201, 0.2085, 0.7908, 0.7881, 0.1744, 0.2825, 0.3119, 0.6097]}, \"token.table\": {\"Topic\": [4, 2, 3, 1, 2, 3, 4, 1, 1, 2, 4, 1, 3, 2, 2, 1, 2, 3, 4, 1, 1, 1, 2, 1, 2, 3, 1, 1, 3, 1, 4, 1, 4, 1, 2, 3, 4, 1, 3, 1, 3, 1, 2, 3, 4, 4, 4, 3, 1, 4, 4, 3, 3, 1, 1, 4, 1, 3, 4, 1, 2, 3, 1, 3, 4, 1, 1, 2, 3, 4, 2, 3, 4, 1, 3, 4, 2, 3, 1, 3, 1, 2, 3, 2, 1, 2, 2, 3, 2, 2, 3, 1, 3, 4, 3, 2, 1, 3, 4, 1, 3, 3, 1, 2, 3, 4, 4, 1, 1, 4, 2, 3, 4, 1, 2, 2, 4, 1, 3, 1, 3, 1, 2, 3, 1, 3, 1, 3, 4, 2, 3, 1, 2, 4, 2, 3, 4, 2, 3, 1, 3, 4, 3, 4, 1, 4, 1, 4, 1, 1, 2, 3, 3, 4, 1, 2, 3, 4, 2, 3, 1, 2, 3, 4, 2, 1, 2, 3, 4, 2, 2, 2, 1, 3, 4, 4, 1, 2, 3, 4, 3, 2, 2, 2, 4, 1, 4, 1, 2, 4, 2, 3, 4, 2, 3, 2, 3, 4, 1, 3, 3, 4, 3, 4, 3, 2, 3, 3, 1, 2, 3, 4, 2, 3, 4, 1, 4, 1, 2, 4, 3, 4, 1, 4, 4, 4, 4, 3, 1, 3, 4, 1, 1, 3, 4, 4, 1, 3, 4, 2, 3, 3, 2, 3, 4, 1, 3, 4, 2, 3, 2, 3, 1, 4, 1, 2, 1, 3, 4, 1, 3, 1, 2, 3, 1, 1, 2, 3, 4, 1, 3, 2, 3, 1, 3, 1, 4, 2, 3, 4, 1, 2, 3, 4, 1, 3, 4, 1, 2, 3, 4, 2, 2, 2, 3, 3, 4, 4, 3, 4, 4], \"Freq\": [0.5268218814330325, 0.48685392114970005, 0.7362049359397501, 0.14445319183265207, 0.36113297958163015, 0.36113297958163015, 0.14445319183265207, 0.9587458461982756, 0.26385774086522806, 0.26385774086522806, 0.5277154817304561, 0.3085679301360385, 0.617135860272077, 0.7132185982171448, 0.4869243042749999, 0.5246759155769342, 0.3497839437179561, 0.043722992964744516, 0.08744598592948903, 0.7263514397555387, 0.8770510382075832, 0.5882343790455484, 0.2941171895227742, 0.9587339558972139, 0.8303004547464721, 0.138383409124412, 0.9587349321555227, 0.5953877643563478, 0.2976938821781739, 0.8767130159881943, 0.5268790986777572, 0.9587651722628094, 0.5268527154034411, 0.29740170362477886, 0.19826780241651926, 0.3965356048330385, 0.19826780241651926, 0.3085106796238752, 0.6170213592477504, 0.37967528347789786, 0.37967528347789786, 0.9588245935911605, 0.20074739025413887, 0.6022421707624167, 0.20074739025413887, 0.5269613975154721, 0.5268552754892718, 0.5085509933796536, 0.9587600345394734, 0.5269629527930849, 0.5268706467537542, 0.5085604485430206, 0.5085975071988919, 0.9783476478433282, 0.7640790147304611, 0.19101975368261528, 0.7445385368696019, 0.24817951228986732, 0.5268434404586066, 0.9853993248304066, 0.2575720806167619, 0.5151441612335238, 0.22608828546711499, 0.678264856401345, 0.22608828546711499, 0.9587603201637439, 0.19196186445482322, 0.5758855933644697, 0.19196186445482322, 0.19196186445482322, 0.62346917513519, 0.311734587567595, 0.1558672937837975, 0.569260130385021, 0.14231503259625525, 0.2846300651925105, 0.6561567251077876, 0.21871890836926253, 0.8952783466177561, 0.149213057769626, 0.21583665487368636, 0.6475099646210591, 0.21583665487368636, 0.7391967967500795, 0.9587382626337423, 0.713218512434419, 0.48687369069680014, 0.7769181613680297, 0.739297843437699, 0.4868843389315649, 0.5085451747031013, 0.3153501186061624, 0.3153501186061624, 0.3153501186061624, 0.5085528416265246, 0.7132186051260835, 0.31530696184212503, 0.31530696184212503, 0.31530696184212503, 0.379634397407494, 0.379634397407494, 0.5085687779164418, 0.7262294780674813, 0.5156062876903496, 0.2578031438451748, 0.2578031438451748, 0.5269637592873857, 0.7263470401630421, 0.9587621069897087, 0.5268390286142879, 0.40091003563496036, 0.2672733570899736, 0.2672733570899736, 0.9587595964171768, 0.48686551467359074, 0.23429344888403783, 0.7028803466521135, 0.7454577791733558, 0.18636444479333894, 0.6133390851404003, 0.4600043138553002, 0.4382335449225298, 0.32867515869189734, 0.32867515869189734, 0.9854010111276658, 0.5085684496805275, 0.6844528375381085, 0.17111320938452712, 0.17111320938452712, 0.48689835996750563, 0.7362045191124781, 0.5037090129587425, 0.33580600863916166, 0.16790300431958083, 0.265590669119672, 0.265590669119672, 0.265590669119672, 0.3063653049040664, 0.3063653049040664, 0.6733331643818304, 0.1683332910954576, 0.1683332910954576, 0.46552455692951705, 0.46552455692951705, 0.9587443506926792, 0.8092819050268393, 0.3898362069112741, 0.3898362069112741, 0.9588330292212565, 0.5871627302123267, 0.29358136510616334, 0.5085272551554229, 0.7362047010002535, 0.8091702857871799, 0.07179296407372109, 0.5025507485160475, 0.21537889222116324, 0.21537889222116324, 0.486994898895501, 0.7362051543603145, 0.22880187523959258, 0.22880187523959258, 0.22880187523959258, 0.45760375047918517, 0.48688252232517415, 0.1968990800397698, 0.1968990800397698, 0.1968990800397698, 0.1968990800397698, 0.4869558600319745, 0.7132186670016173, 0.48688422805187265, 0.9587650826562092, 0.3990755082940114, 0.3990755082940114, 0.824675070480383, 0.28792760913884613, 0.14396380456942307, 0.28792760913884613, 0.28792760913884613, 0.7362048049889263, 0.48696055518023496, 0.4868989370943868, 0.7639655870642655, 0.25465519568808853, 0.4470094378448987, 0.4470094378448987, 0.29816740568332095, 0.3727092571041512, 0.29816740568332095, 0.6036111580317294, 0.3018055790158647, 0.7552857730428447, 0.579184654193398, 0.3861231027955987, 0.3820047806508433, 0.3820047806508433, 0.7552860273003729, 0.9587528629923308, 0.9427016819045657, 0.2731885753925446, 0.5463771507850892, 0.5305282534694764, 0.2652641267347382, 0.7362052747769184, 0.6500260382414881, 0.21667534608049602, 0.736204973932418, 0.3832745949111271, 0.4790932436389088, 0.09581864872778177, 0.09581864872778177, 0.48686681506679425, 0.39359499852940577, 0.39359499852940577, 0.6020409683979274, 0.3010204841989637, 0.5874846246555652, 0.2937423123277826, 0.7552859774313373, 0.7985209664536228, 0.26617365548454097, 0.7266011618418499, 0.5268505396342005, 0.7552859324188648, 0.5268583802647548, 0.7552858133172108, 0.5085599217287681, 0.22607723416533745, 0.6782317024960124, 0.22607723416533745, 0.7262375086153185, 0.46934093595889037, 0.3128939573059269, 0.15644697865296345, 0.5269514945649848, 0.26253321370174787, 0.5250664274034957, 0.26253321370174787, 0.31000283654437016, 0.6200056730887403, 0.5085577620568882, 0.3500364164288395, 0.5250546246432592, 0.17501820821441974, 0.3954248998839639, 0.3954248998839639, 0.19771244994198195, 0.4873652257288001, 0.5085498973144875, 0.3063319978543518, 0.3063319978543518, 0.678883166747389, 0.16972079168684726, 0.7947946072337249, 0.09934932590421561, 0.18344065156187242, 0.18344065156187242, 0.7337626062474897, 0.8287315075723094, 0.16574630151446187, 0.5632391224893313, 0.37549274832622087, 0.18774637416311044, 0.9587459681854517, 0.07448336229237582, 0.5958668983390065, 0.29793344916950326, 0.07448336229237582, 0.5953091637845603, 0.29765458189228017, 0.7132183052693783, 0.7362051981292289, 0.7537006137334991, 0.18842515343337476, 0.3898722977248539, 0.3898722977248539, 0.4415199881070989, 0.4415199881070989, 0.5268512135607262, 0.3869962686710866, 0.29024720150331496, 0.1934981343355433, 0.09674906716777165, 0.828739721148049, 0.16574794422960978, 0.526857947757794, 0.39271196857269175, 0.29453397642951884, 0.09817799214317294, 0.29453397642951884, 0.7392909380553488, 0.7391970857607479, 0.7392223896992722, 0.508596012658133, 0.2346361099109305, 0.469272219821861, 0.8092841546067473, 0.7362051713883389, 0.5268644785205794, 0.7552858520781429], \"Term\": [\"able\", \"ac\", \"accept\", \"account\", \"account\", \"account\", \"account\", \"action\", \"add\", \"add\", \"add\", \"added\", \"added\", \"adding\", \"anymore\", \"app\", \"app\", \"app\", \"app\", \"asks\", \"assist\", \"assistance\", \"assistance\", \"association\", \"bank\", \"bank\", \"bb\", \"best\", \"best\", \"better\", \"beware\", \"bhavesh\", \"calls\", \"card\", \"card\", \"card\", \"card\", \"care\", \"care\", \"carina\", \"carina\", \"cash\", \"cashback\", \"cashback\", \"cashback\", \"caused\", \"channels\", \"chargeable\", \"checked\", \"chor\", \"claiming\", \"complain\", \"complaint\", \"concerns\", \"confidential\", \"confidential\", \"connect\", \"connect\", \"contact\", \"continue_truly\", \"credit\", \"credit\", \"customer\", \"customer\", \"customer\", \"day\", \"debited\", \"debited\", \"debited\", \"debited\", \"deducted\", \"deducted\", \"deducted\", \"details\", \"details\", \"details\", \"didnt\", \"didnt\", \"dm\", \"dm\", \"dont\", \"dont\", \"dont\", \"electricity\", \"employees\", \"entries\", \"excuse\", \"executive\", \"flipkart\", \"floor\", \"foreign\", \"fraud\", \"fraud\", \"fraud\", \"frauds\", \"gets\", \"getting\", \"getting\", \"getting\", \"given\", \"given\", \"going\", \"good\", \"got\", \"got\", \"got\", \"hai\", \"handle\", \"happy\", \"having\", \"help\", \"help\", \"help\", \"hey\", \"hours\", \"id\", \"id\", \"im\", \"im\", \"india\", \"india\", \"indian\", \"indian\", \"indian\", \"indian_payments\", \"indians\", \"information\", \"information\", \"information\", \"initiate\", \"inside\", \"issue\", \"issue\", \"issue\", \"issues\", \"issues\", \"issues\", \"jio\", \"jio\", \"kindly\", \"kindly\", \"kindly\", \"kyc\", \"kyc\", \"lives\", \"log\", \"looking\", \"looking\", \"lot\", \"love\", \"love\", \"madam\", \"merchant\", \"messages\", \"money\", \"money\", \"money\", \"money\", \"month\", \"myjio\", \"need\", \"need\", \"need\", \"need\", \"network\", \"number\", \"number\", \"number\", \"number\", \"oct\", \"offer\", \"office\", \"online\", \"option\", \"option\", \"order\", \"otp\", \"otp\", \"otp\", \"otp\", \"outlet\", \"owned\", \"owner\", \"paid\", \"paid\", \"password\", \"password\", \"payment\", \"payment\", \"payment\", \"phonepe\", \"phonepe\", \"picture\", \"pls\", \"pls\", \"possible\", \"possible\", \"preparations\", \"processed\", \"products\", \"raised\", \"raised\", \"received\", \"received\", \"recently\", \"recharge\", \"recharge\", \"rectify\", \"refund\", \"refund\", \"refund\", \"refund\", \"refunded\", \"reply\", \"reply\", \"resolved\", \"resolved\", \"response\", \"response\", \"rewarded\", \"rs\", \"rs\", \"satisfied\", \"says\", \"screenshot\", \"seek\", \"send\", \"september\", \"service\", \"service\", \"service\", \"services\", \"share\", \"share\", \"share\", \"shopclues\", \"showing\", \"showing\", \"showing\", \"soon\", \"soon\", \"start\", \"supercash\", \"supercash\", \"supercash\", \"support\", \"support\", \"support\", \"swiggy\", \"tell\", \"th\", \"th\", \"thank\", \"thank\", \"thanks\", \"thanks\", \"ticket\", \"ticket\", \"ticket\", \"till\", \"till\", \"time\", \"time\", \"time\", \"totally\", \"transaction\", \"transaction\", \"transaction\", \"transaction\", \"transactions\", \"transactions\", \"treats\", \"tried\", \"truly_indian\", \"truly_indian\", \"upi\", \"upi\", \"ur\", \"ur\", \"urgent\", \"use\", \"use\", \"use\", \"use\", \"users\", \"users\", \"videos\", \"wallet\", \"wallet\", \"wallet\", \"wallet\", \"walmart\", \"want\", \"wont\", \"work\", \"worst\", \"worst\", \"ye\", \"year\", \"youtube\", \"zoom\"]}, \"R\": 30, \"lambda.step\": 0.01, \"plot.opts\": {\"xlab\": \"PC1\", \"ylab\": \"PC2\"}, \"topic.order\": [3, 4, 2, 1]};\n",
       "\n",
       "function LDAvis_load_lib(url, callback){\n",
       "  var s = document.createElement('script');\n",
       "  s.src = url;\n",
       "  s.async = true;\n",
       "  s.onreadystatechange = s.onload = callback;\n",
       "  s.onerror = function(){console.warn(\"failed to load library \" + url);};\n",
       "  document.getElementsByTagName(\"head\")[0].appendChild(s);\n",
       "}\n",
       "\n",
       "if(typeof(LDAvis) !== \"undefined\"){\n",
       "   // already loaded: just create the visualization\n",
       "   !function(LDAvis){\n",
       "       new LDAvis(\"#\" + \"ldavis_el9015261020457447827817968\", ldavis_el9015261020457447827817968_data);\n",
       "   }(LDAvis);\n",
       "}else if(typeof define === \"function\" && define.amd){\n",
       "   // require.js is available: use it to load d3/LDAvis\n",
       "   require.config({paths: {d3: \"https://d3js.org/d3.v5\"}});\n",
       "   require([\"d3\"], function(d3){\n",
       "      window.d3 = d3;\n",
       "      LDAvis_load_lib(\"https://cdn.jsdelivr.net/gh/bmabey/pyLDAvis@3.3.1/pyLDAvis/js/ldavis.v3.0.0.js\", function(){\n",
       "        new LDAvis(\"#\" + \"ldavis_el9015261020457447827817968\", ldavis_el9015261020457447827817968_data);\n",
       "      });\n",
       "    });\n",
       "}else{\n",
       "    // require.js not available: dynamically load d3 & LDAvis\n",
       "    LDAvis_load_lib(\"https://d3js.org/d3.v5.js\", function(){\n",
       "         LDAvis_load_lib(\"https://cdn.jsdelivr.net/gh/bmabey/pyLDAvis@3.3.1/pyLDAvis/js/ldavis.v3.0.0.js\", function(){\n",
       "                 new LDAvis(\"#\" + \"ldavis_el9015261020457447827817968\", ldavis_el9015261020457447827817968_data);\n",
       "            })\n",
       "         });\n",
       "}\n",
       "</script>"
      ],
      "text/plain": [
       "PreparedData(topic_coordinates=              x         y  topics  cluster       Freq\n",
       "topic                                                \n",
       "2     -0.121963  0.040180       1        1  31.129835\n",
       "3      0.083766  0.064748       2        1  27.133339\n",
       "1      0.035350 -0.006905       3        1  22.681459\n",
       "0      0.002847 -0.098023       4        1  19.055367, topic_info=                Term       Freq      Total Category  logprob  loglift\n",
       "18            thanks  10.000000  10.000000  Default  30.0000  30.0000\n",
       "33              bank   7.000000   7.000000  Default  29.0000  29.0000\n",
       "63       transaction  13.000000  13.000000  Default  28.0000  28.0000\n",
       "29            ticket   5.000000   5.000000  Default  27.0000  27.0000\n",
       "527  indian_payments   6.000000   6.000000  Default  26.0000  26.0000\n",
       "..               ...        ...        ...      ...      ...      ...\n",
       "91           getting   1.329034   3.171513   Topic4  -5.4102   0.7881\n",
       "15       information   1.325772   5.844084   Topic4  -5.4126   0.1744\n",
       "12      confidential   1.323187   5.235061   Topic4  -5.4146   0.2825\n",
       "72            number   1.321980   5.078744   Topic4  -5.4155   0.3119\n",
       "100           issues   1.320021   3.765193   Topic4  -5.4170   0.6097\n",
       "\n",
       "[242 rows x 6 columns], token_table=      Topic      Freq     Term\n",
       "term                          \n",
       "276       4  0.526822     able\n",
       "746       2  0.486854       ac\n",
       "189       3  0.736205   accept\n",
       "32        1  0.144453  account\n",
       "32        2  0.361133  account\n",
       "...     ...       ...      ...\n",
       "163       4  0.469272    worst\n",
       "642       4  0.809284       ye\n",
       "202       3  0.736205     year\n",
       "236       4  0.526864  youtube\n",
       "682       4  0.755286     zoom\n",
       "\n",
       "[301 rows x 3 columns], R=30, lambda_step=0.01, plot_opts={'xlab': 'PC1', 'ylab': 'PC2'}, topic_order=[3, 4, 2, 1])"
      ]
     },
     "execution_count": 49,
     "metadata": {},
     "output_type": "execute_result"
    }
   ],
   "source": [
    "lda_model = gensim.models.LdaMulticore(corpus=corpus,\n",
    "                                        id2word=id2word,\n",
    "                                        num_topics=4,\n",
    "                                        random_state=100,\n",
    "                                        chunksize=100,\n",
    "                                        passes=10,\n",
    "                                        per_word_topics=True,\n",
    "                                        alpha=0.3,\n",
    "                                        eta=0.3)\n",
    "coherence_model = gensim.models.CoherenceModel(model=lda_model, \n",
    "                                                    texts=queries['bigram'].values.tolist(), \n",
    "                                                    dictionary=id2word, \n",
    "                                                    coherence='u_mass')\n",
    "coherence_model_score = coherence_model.get_coherence()\n",
    "print('Coherence Score: ', coherence_model_score)\n",
    "import pyLDAvis.gensim_models\n",
    "\n",
    "import pyLDAvis\n",
    "# Visualize the topics\n",
    "pyLDAvis.enable_notebook()\n",
    "LDAvis_prepared = pyLDAvis.gensim_models.prepare(lda_model, corpus, id2word)\n",
    "LDAvis_prepared\n"
   ]
  },
  {
   "cell_type": "code",
   "execution_count": 50,
   "metadata": {},
   "outputs": [
    {
     "data": {
      "text/plain": [
       "array(['app, thanks, dm, continue_truly, indian_payments, till, users, payment, kindly, im',\n",
       "       'ticket, payment, id, order, wallet, money, help, account, worst, raised',\n",
       "       'app, transaction, money, bank, account, payment, refund, deducted, recharge, help',\n",
       "       'account, transaction, card, money, cashback, supercash, indian, rs, customer, service'],\n",
       "      dtype=object)"
      ]
     },
     "execution_count": 50,
     "metadata": {},
     "output_type": "execute_result"
    }
   ],
   "source": [
    "queries_topic_sents_keywords = processor.dominant_topics(ldamodel=lda_model, \n",
    "                                                         corpus=corpus, \n",
    "                                                         texts=queries['bigram'].values.tolist(),\n",
    "                                                         tweets=queries['tweet'].values.tolist())\n",
    "queries_topic_sents_keywords['Topic_Keywords'].unique()\n"
   ]
  },
  {
   "cell_type": "code",
   "execution_count": 51,
   "metadata": {},
   "outputs": [
    {
     "data": {
      "text/plain": [
       "array(['Make the right choice!\\nNow you can choose to earn #Supercash or use your #SuperCash. https://t.co/MNsGqDpUdI',\n",
       "       'Dear @MobiKwik can you expedite my request to delete my account. I am getting unauthorized messages and emails of OTP many times daily for new device login. Please do the needful @BipinSingh @UpasanaTaku',\n",
       "       '@MobiKwik says that any fraud happening on their wallet is not their responsibility. How is allowing a transaction without any OTP or Password even allowed by @MobiKwikSWAT. \\nI hope @RBI is looking into this. @BipinSingh @UpasanaTaku are you listening?',\n",
       "       '@MobiKwik @MobiKwikSWAT \\nWorst ever app ..\\nFighting for KYc since once week..\\nNo centre is doing kyc listed in the kyc center..\\nMy amount is blocked due to worst service.\\nCc number is only having IVR.\\nMobikwik wallet number 9599282930\\nNeed urgent attention on this',\n",
       "       'Boost your finances with Instant Loans on MobiKwik! No security needed! Just give your basic details and It’s Tap-Tap Done! visit https://t.co/AfNOGlq73C\\n#NoKidding \\n\\n#InstantLoans #QuickLoans #QuickMoney #InstantMoney #EasyMoney #GoCashless #GoDigital',\n",
       "       '@MobiKwik @MobiKwikSWAT I was having some issues with Mobikwik Visa card and I contacted Mobikwik and they responded very fast and got the issue resolved. Thank you so much.',\n",
       "       'Please Beware of #Fake YouTube videos, Messages &amp; Calls claiming to be from @MobiKwik. Do not share your password, Credit/Debit card PIN, CVV or any confidential details as MobiKwik will never seek such information. Please contact us through our official channels only. https://t.co/i9tqg5MJjT',\n",
       "       '@MobiKwik does your payment processor supports Sri Lanka ?',\n",
       "       'Please Beware of #Fake YouTube videos, Messages &amp; Calls claiming to be from @MobiKwik. Do not share your OTP, password, Credit/Debit card PIN, CVV or any confidential details as MobiKwik will never seek such information. Please contact us through our official channels only. https://t.co/4VCigGN6h9',\n",
       "       \"@MobiKwik I can't able to add my upi account in mobikwik... It says sorry v can't find any account... Where as in @PhonePe_ it's working fine\",\n",
       "       '@MobiKwik Support ticket id - 13431188\\n\\nRaised on 5 January but not a single reply from MobiKwik.\\n\\nThis is worst website. Fake and Fraud.',\n",
       "       'Guaranteed Cashback up to Rs 50!! 💰 https://t.co/gXwZiUFU9z',\n",
       "       '@MobiKwik Need urgent help with Ticket ID 13793440.. please help',\n",
       "       'Dear @MobiKwik @MobiKwikSWAT not able to book @Olacabs.\\nLooking for support @BipinSingh @UpasanaTaku',\n",
       "       '@Prabhatpal_ Hi Prabhat! We sincerely apologize for the inconvenience caused. However, your raised ticket 14347221 has been answered, kindly refer to the same. Thank you for being a valued Mobikwik customer.',\n",
       "       '@mymagicpin not getting option of payment through mobikwik',\n",
       "       '@ksam_say @pramodhbala @MobiKwik @Paytm @Freecharge Exactly, people hate this supercash shit.',\n",
       "       '@ragushivan @MadhuKu58800075 @MobiKwik Almost all the microchips in electronics and batteries and pcb’s in a computer, remote, tv, phone etc are all made in china so when are we banning those things ?',\n",
       "       '@MobiKwik why did. You disable the option of add money through upi \\nWhy are you trying to be worst?',\n",
       "       '@Kamrulh63539816 @MobiKwik Chor hai ye log mat use karo ye app 8856 RS 4saal se atka hua hai ye chor log k paas',\n",
       "       '#Birthday is on the way!!🎉\\nWe need your help in our birthday preparations. Zoom into the picture &amp; spot the 6 party items. Take the screenshot, mark all of them &amp; send us in the comment! \\n5 lucky winners will be rewarded with add money vouchers worth ₹100\\n#ContestAlert #Win https://t.co/nM4JM38UpI',\n",
       "       '@MobiKwik dear mobikwik i made a payment of rs.100 through your platform money has been deducted and but payment not yet done neither summary shown to me.',\n",
       "       \"@Vascily1 Hi! We regret the trouble caused here. Please follow the simple steps to check the status of your raised ticket.\\n- Log into your MobiKwik account.\\n- Go to 'Help' section by clicking on the user icon on the app.\\n- Go to 'Past Issues', all your tickets will be visible to you (1/2)\",\n",
       "       '@MobiKwikSWAT @MobiKwik @ShopClues ticket id 17125624. Amount paid via mobikwik wallet to shopclues but order not successful. Payment pending showing. Money debited from wallet. Please give refund. Shopclues Order id 194043254. https://t.co/ySaQ1F07Fe',\n",
       "       '@MobiKwik @MobiKwikSWAT \\n\\norder id : MK01648020342\\n\\ni have not received the 100 cashback for this bill payment.'],\n",
       "      dtype=object)"
      ]
     },
     "execution_count": 51,
     "metadata": {},
     "output_type": "execute_result"
    }
   ],
   "source": [
    "select = queries_topic_sents_keywords['Topic_Keywords'].unique()[1]\n",
    "queries_topic_sents_keywords[queries_topic_sents_keywords['Topic_Keywords'] == select]['Text'].values\n"
   ]
  },
  {
   "cell_type": "code",
   "execution_count": 52,
   "metadata": {},
   "outputs": [
    {
     "name": "stderr",
     "output_type": "stream",
     "text": [
      "/Users/pushkar/miniforge3/envs/project/lib/python3.8/site-packages/plotly/io/_renderers.py:395: DeprecationWarning:\n",
      "\n",
      "distutils Version classes are deprecated. Use packaging.version instead.\n",
      "\n",
      "/Users/pushkar/miniforge3/envs/project/lib/python3.8/site-packages/plotly/io/_renderers.py:395: DeprecationWarning:\n",
      "\n",
      "distutils Version classes are deprecated. Use packaging.version instead.\n",
      "\n"
     ]
    },
    {
     "data": {
      "image/svg+xml": "<svg class=\"main-svg\" xmlns=\"http://www.w3.org/2000/svg\" xmlns:xlink=\"http://www.w3.org/1999/xlink\" width=\"900\" height=\"500\" style=\"\" viewBox=\"0 0 900 500\"><rect x=\"0\" y=\"0\" width=\"900\" height=\"500\" style=\"fill: rgb(255, 255, 255); fill-opacity: 1;\"/><defs id=\"defs-0b0eac\"><g class=\"clips\"><clipPath id=\"clip0b0eacxyplot\" class=\"plotclip\"><rect width=\"740\" height=\"320\"/></clipPath><clipPath class=\"axesclip\" id=\"clip0b0eacx\"><rect x=\"80\" y=\"0\" width=\"740\" height=\"500\"/></clipPath><clipPath class=\"axesclip\" id=\"clip0b0eacy\"><rect x=\"0\" y=\"100\" width=\"900\" height=\"320\"/></clipPath><clipPath class=\"axesclip\" id=\"clip0b0eacxy\"><rect x=\"80\" y=\"100\" width=\"740\" height=\"320\"/></clipPath></g><g class=\"gradients\"/><g class=\"patterns\"/></defs><g class=\"bglayer\"><rect class=\"bg\" x=\"80\" y=\"100\" width=\"740\" height=\"320\" style=\"fill: rgb(229, 236, 246); fill-opacity: 1; stroke-width: 0;\"/></g><g class=\"layer-below\"><g class=\"imagelayer\"/><g class=\"shapelayer\"/></g><g class=\"cartesianlayer\"><g class=\"subplot xy\"><g class=\"layer-subplot\"><g class=\"shapelayer\"/><g class=\"imagelayer\"/></g><g class=\"minor-gridlayer\"><g class=\"x\"/><g class=\"y\"/></g><g class=\"gridlayer\"><g class=\"x\"/><g class=\"y\"><path class=\"ygrid crisp\" transform=\"translate(0,353.90999999999997)\" d=\"M80,0h740\" style=\"stroke: rgb(255, 255, 255); stroke-opacity: 1; stroke-width: 1px;\"/><path class=\"ygrid crisp\" transform=\"translate(0,287.83000000000004)\" d=\"M80,0h740\" style=\"stroke: rgb(255, 255, 255); stroke-opacity: 1; stroke-width: 1px;\"/><path class=\"ygrid crisp\" transform=\"translate(0,221.74)\" d=\"M80,0h740\" style=\"stroke: rgb(255, 255, 255); stroke-opacity: 1; stroke-width: 1px;\"/><path class=\"ygrid crisp\" transform=\"translate(0,155.65)\" d=\"M80,0h740\" style=\"stroke: rgb(255, 255, 255); stroke-opacity: 1; stroke-width: 1px;\"/></g></g><g class=\"zerolinelayer\"><path class=\"yzl zl crisp\" transform=\"translate(0,420)\" d=\"M80,0h740\" style=\"stroke: rgb(255, 255, 255); stroke-opacity: 1; stroke-width: 2px;\"/></g><path class=\"xlines-below\"/><path class=\"ylines-below\"/><g class=\"overlines-below\"/><g class=\"xaxislayer-below\"/><g class=\"yaxislayer-below\"/><g class=\"overaxes-below\"/><g class=\"plot\" transform=\"translate(80,100)\" clip-path=\"url(#clip0b0eacxyplot)\"><g class=\"barlayer mlayer\"><g class=\"trace bars\" style=\"opacity: 1;\"><g class=\"points\"><g class=\"point\"><path d=\"M388.5,320V16H536.5V320Z\" style=\"vector-effect: non-scaling-stroke; opacity: 1; stroke-width: 0.5px; fill: rgb(99, 110, 250); fill-opacity: 1; stroke: rgb(229, 236, 246); stroke-opacity: 1;\"/></g><g class=\"point\"><path d=\"M573.5,320V88.7H721.5V320Z\" style=\"vector-effect: non-scaling-stroke; opacity: 1; stroke-width: 0.5px; fill: rgb(99, 110, 250); fill-opacity: 1; stroke: rgb(229, 236, 246); stroke-opacity: 1;\"/></g><g class=\"point\"><path d=\"M203.5,320V115.13H351.5V320Z\" style=\"vector-effect: non-scaling-stroke; opacity: 1; stroke-width: 0.5px; fill: rgb(99, 110, 250); fill-opacity: 1; stroke: rgb(229, 236, 246); stroke-opacity: 1;\"/></g><g class=\"point\"><path d=\"M18.5,320V154.78H166.5V320Z\" style=\"vector-effect: non-scaling-stroke; opacity: 1; stroke-width: 0.5px; fill: rgb(99, 110, 250); fill-opacity: 1; stroke: rgb(229, 236, 246); stroke-opacity: 1;\"/></g></g></g></g></g><g class=\"overplot\"/><path class=\"xlines-above crisp\" d=\"M0,0\" style=\"fill: none;\"/><path class=\"ylines-above crisp\" d=\"M0,0\" style=\"fill: none;\"/><g class=\"overlines-above\"/><g class=\"xaxislayer-above\"><g class=\"xtick\"><text text-anchor=\"middle\" x=\"0\" y=\"433\" transform=\"translate(80,0)\" style=\"font-family: 'Open Sans', verdana, arial, sans-serif; font-size: 12px; fill: rgb(42, 63, 95); fill-opacity: 1; white-space: pre; opacity: 1;\">−0.5</text></g><g class=\"xtick\"><text text-anchor=\"middle\" x=\"0\" y=\"433\" style=\"font-family: 'Open Sans', verdana, arial, sans-serif; font-size: 12px; fill: rgb(42, 63, 95); fill-opacity: 1; white-space: pre; opacity: 1;\" transform=\"translate(172.5,0)\">0</text></g><g class=\"xtick\"><text text-anchor=\"middle\" x=\"0\" y=\"433\" style=\"font-family: 'Open Sans', verdana, arial, sans-serif; font-size: 12px; fill: rgb(42, 63, 95); fill-opacity: 1; white-space: pre; opacity: 1;\" transform=\"translate(265,0)\">0.5</text></g><g class=\"xtick\"><text text-anchor=\"middle\" x=\"0\" y=\"433\" style=\"font-family: 'Open Sans', verdana, arial, sans-serif; font-size: 12px; fill: rgb(42, 63, 95); fill-opacity: 1; white-space: pre; opacity: 1;\" transform=\"translate(357.5,0)\">1</text></g><g class=\"xtick\"><text text-anchor=\"middle\" x=\"0\" y=\"433\" style=\"font-family: 'Open Sans', verdana, arial, sans-serif; font-size: 12px; fill: rgb(42, 63, 95); fill-opacity: 1; white-space: pre; opacity: 1;\" transform=\"translate(450,0)\">1.5</text></g><g class=\"xtick\"><text text-anchor=\"middle\" x=\"0\" y=\"433\" style=\"font-family: 'Open Sans', verdana, arial, sans-serif; font-size: 12px; fill: rgb(42, 63, 95); fill-opacity: 1; white-space: pre; opacity: 1;\" transform=\"translate(542.5,0)\">2</text></g><g class=\"xtick\"><text text-anchor=\"middle\" x=\"0\" y=\"433\" style=\"font-family: 'Open Sans', verdana, arial, sans-serif; font-size: 12px; fill: rgb(42, 63, 95); fill-opacity: 1; white-space: pre; opacity: 1;\" transform=\"translate(635,0)\">2.5</text></g><g class=\"xtick\"><text text-anchor=\"middle\" x=\"0\" y=\"433\" style=\"font-family: 'Open Sans', verdana, arial, sans-serif; font-size: 12px; fill: rgb(42, 63, 95); fill-opacity: 1; white-space: pre; opacity: 1;\" transform=\"translate(727.5,0)\">3</text></g><g class=\"xtick\"><text text-anchor=\"middle\" x=\"0\" y=\"433\" style=\"font-family: 'Open Sans', verdana, arial, sans-serif; font-size: 12px; fill: rgb(42, 63, 95); fill-opacity: 1; white-space: pre; opacity: 1;\" transform=\"translate(820,0)\">3.5</text></g></g><g class=\"yaxislayer-above\"><g class=\"ytick\"><text text-anchor=\"end\" x=\"79\" y=\"4.199999999999999\" transform=\"translate(0,420)\" style=\"font-family: 'Open Sans', verdana, arial, sans-serif; font-size: 12px; fill: rgb(42, 63, 95); fill-opacity: 1; white-space: pre; opacity: 1;\">0</text></g><g class=\"ytick\"><text text-anchor=\"end\" x=\"79\" y=\"4.199999999999999\" style=\"font-family: 'Open Sans', verdana, arial, sans-serif; font-size: 12px; fill: rgb(42, 63, 95); fill-opacity: 1; white-space: pre; opacity: 1;\" transform=\"translate(0,353.90999999999997)\">10</text></g><g class=\"ytick\"><text text-anchor=\"end\" x=\"79\" y=\"4.199999999999999\" style=\"font-family: 'Open Sans', verdana, arial, sans-serif; font-size: 12px; fill: rgb(42, 63, 95); fill-opacity: 1; white-space: pre; opacity: 1;\" transform=\"translate(0,287.83000000000004)\">20</text></g><g class=\"ytick\"><text text-anchor=\"end\" x=\"79\" y=\"4.199999999999999\" style=\"font-family: 'Open Sans', verdana, arial, sans-serif; font-size: 12px; fill: rgb(42, 63, 95); fill-opacity: 1; white-space: pre; opacity: 1;\" transform=\"translate(0,221.74)\">30</text></g><g class=\"ytick\"><text text-anchor=\"end\" x=\"79\" y=\"4.199999999999999\" style=\"font-family: 'Open Sans', verdana, arial, sans-serif; font-size: 12px; fill: rgb(42, 63, 95); fill-opacity: 1; white-space: pre; opacity: 1;\" transform=\"translate(0,155.65)\">40</text></g></g><g class=\"overaxes-above\"/></g></g><g class=\"polarlayer\"/><g class=\"smithlayer\"/><g class=\"ternarylayer\"/><g class=\"geolayer\"/><g class=\"funnelarealayer\"/><g class=\"pielayer\"/><g class=\"iciclelayer\"/><g class=\"treemaplayer\"/><g class=\"sunburstlayer\"/><g class=\"glimages\"/><defs id=\"topdefs-0b0eac\"><g class=\"clips\"/></defs><g class=\"layer-above\"><g class=\"imagelayer\"/><g class=\"shapelayer\"/></g><g class=\"infolayer\"><g class=\"g-gtitle\"><text class=\"gtitle\" x=\"45\" y=\"50\" text-anchor=\"start\" dy=\"0em\" style=\"font-family: 'Open Sans', verdana, arial, sans-serif; font-size: 17px; fill: rgb(42, 63, 95); opacity: 1; font-weight: normal; white-space: pre;\">Topics Distribution</text></g><g class=\"g-xtitle\"><text class=\"xtitle\" x=\"450\" y=\"460.3\" text-anchor=\"middle\" style=\"font-family: 'Open Sans', verdana, arial, sans-serif; font-size: 14px; fill: rgb(42, 63, 95); opacity: 1; font-weight: normal; white-space: pre;\">Topic_Numbers</text></g><g class=\"g-ytitle\"><text class=\"ytitle\" transform=\"rotate(-90,38.934375,260)\" x=\"38.934375\" y=\"260\" text-anchor=\"middle\" style=\"font-family: 'Open Sans', verdana, arial, sans-serif; font-size: 14px; fill: rgb(42, 63, 95); opacity: 1; font-weight: normal; white-space: pre;\">Document_Counts</text></g></g></svg>"
     },
     "metadata": {},
     "output_type": "display_data"
    }
   ],
   "source": [
    "queries_dist, fig = processor.plot_topic_distribution(queries_topic_sents_keywords)\n",
    "fig.show()"
   ]
  },
  {
   "cell_type": "code",
   "execution_count": null,
   "metadata": {},
   "outputs": [],
   "source": []
  }
 ],
 "metadata": {
  "kernelspec": {
   "display_name": "Python 3.8.13 ('project')",
   "language": "python",
   "name": "python3"
  },
  "language_info": {
   "codemirror_mode": {
    "name": "ipython",
    "version": 3
   },
   "file_extension": ".py",
   "mimetype": "text/x-python",
   "name": "python",
   "nbconvert_exporter": "python",
   "pygments_lexer": "ipython3",
   "version": "3.8.13"
  },
  "orig_nbformat": 4,
  "vscode": {
   "interpreter": {
    "hash": "af77eb27f514ee114388f6898d9553454263f7eea260918546d16a8e581c8922"
   }
  }
 },
 "nbformat": 4,
 "nbformat_minor": 2
}
