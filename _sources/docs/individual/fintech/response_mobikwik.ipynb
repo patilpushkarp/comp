{
 "cells": [
  {
   "cell_type": "markdown",
   "metadata": {},
   "source": [
    "# Mobikwik"
   ]
  },
  {
   "cell_type": "code",
   "execution_count": 47,
   "metadata": {},
   "outputs": [],
   "source": [
    "# Load necessary libraries\n",
    "import sys\n",
    "import warnings\n",
    "warnings.filterwarnings('ignore')\n",
    "import datetime\n",
    "import pandas as pd\n",
    "import gensim\n",
    "import tqdm.notebook as tqdm\n",
    "from tqdm.auto import tqdm\n",
    "tqdm.pandas()\n",
    "\n",
    "sys.path.append('/Users/pushkar/Documents/projects/fin_comp/comp/docs')\n",
    "\n",
    "import utils.helper\n",
    "from utils.helper import Processor\n",
    "import importlib\n",
    "importlib.reload(utils.helper)\n",
    "\n",
    "import plotly.io as pio\n",
    "svg_renderer = pio.renderers[\"svg\"]\n",
    "svg_renderer.width = 900\n",
    "svg_renderer.height = 500\n",
    "pio.renderers.default = \"svg\"\n",
    "import plotly.express as px"
   ]
  },
  {
   "cell_type": "code",
   "execution_count": 2,
   "metadata": {},
   "outputs": [],
   "source": [
    "# Load data\n",
    "df = pd.read_csv('./../../data/fintech/mobikwik/mobikwik.csv')"
   ]
  },
  {
   "cell_type": "code",
   "execution_count": 25,
   "metadata": {},
   "outputs": [],
   "source": [
    "# Company username\n",
    "company_username = 'MobiKwikSWAT'"
   ]
  },
  {
   "cell_type": "code",
   "execution_count": 4,
   "metadata": {},
   "outputs": [],
   "source": [
    "# Correct the format of variables\n",
    "df['inReplyToTweetId'] = df['inReplyToTweetId'].apply(lambda x: '%.0f' % x).values.tolist()\n",
    "df['conversation_id'] = df['conversation_id'].astype(str)"
   ]
  },
  {
   "cell_type": "code",
   "execution_count": 5,
   "metadata": {},
   "outputs": [],
   "source": [
    "# Declare the query words\n",
    "query_words = ['dm', 'customer experience', 'inconvenience', 'concern team', 'resolve', \n",
    "                'solve', 'no noc', 'await response', 'unpleasant experience']"
   ]
  },
  {
   "cell_type": "code",
   "execution_count": 6,
   "metadata": {},
   "outputs": [],
   "source": [
    "# Declare the processor object\n",
    "processor = Processor('./../../data/config.json')"
   ]
  },
  {
   "cell_type": "code",
   "execution_count": 7,
   "metadata": {},
   "outputs": [
    {
     "data": {
      "application/vnd.jupyter.widget-view+json": {
       "model_id": "d3617f7eefd14dfb9efacb0b715cbbb3",
       "version_major": 2,
       "version_minor": 0
      },
      "text/plain": [
       "  0%|          | 0/9 [00:00<?, ?it/s]"
      ]
     },
     "metadata": {},
     "output_type": "display_data"
    }
   ],
   "source": [
    "# Check whether an observation is query for the company or not\n",
    "df['is_query'] = 0\n",
    "\n",
    "for word in tqdm(query_words):\n",
    "    df['is_query'] = df['is_query'] + df['tweet'].apply(processor.word_distribution, find=word).astype(int)"
   ]
  },
  {
   "cell_type": "code",
   "execution_count": 26,
   "metadata": {},
   "outputs": [],
   "source": [
    "# Select observations of queries\n",
    "qdf = df[(df['is_query']>0) & (df['username'] == company_username)]"
   ]
  },
  {
   "cell_type": "code",
   "execution_count": 27,
   "metadata": {},
   "outputs": [
    {
     "data": {
      "text/plain": [
       "(237, 28)"
      ]
     },
     "execution_count": 27,
     "metadata": {},
     "output_type": "execute_result"
    }
   ],
   "source": [
    "qdf.shape"
   ]
  },
  {
   "cell_type": "code",
   "execution_count": 28,
   "metadata": {},
   "outputs": [
    {
     "name": "stdout",
     "output_type": "stream",
     "text": [
      "Total number of unique conversations: 234\n"
     ]
    }
   ],
   "source": [
    "# Get all the conversation ids\n",
    "conversation_ids = qdf['conversation_id'].unique()\n",
    "print(f\"Total number of unique conversations: {len(conversation_ids)}\")"
   ]
  },
  {
   "cell_type": "code",
   "execution_count": 29,
   "metadata": {},
   "outputs": [],
   "source": [
    "df['date'] = pd.to_datetime(df['date'])"
   ]
  },
  {
   "cell_type": "markdown",
   "metadata": {},
   "source": [
    "## Response time"
   ]
  },
  {
   "cell_type": "markdown",
   "metadata": {},
   "source": [
    "Response time is the time the company takes to respond to the first query."
   ]
  },
  {
   "cell_type": "code",
   "execution_count": 30,
   "metadata": {},
   "outputs": [],
   "source": [
    "result = pd.DataFrame()\n",
    "result['conversation_id'] = conversation_ids\n",
    "result['response_time'] = 0"
   ]
  },
  {
   "cell_type": "code",
   "execution_count": 31,
   "metadata": {},
   "outputs": [],
   "source": [
    "for index, conversation_id in enumerate(conversation_ids):\n",
    "    tmp = df[df['conversation_id'] == conversation_id]\n",
    "    tmp.sort_values('date', ascending=True, inplace=True)\n",
    "    comp_tmp = tmp[tmp['username'] == company_username]\n",
    "    response_time = (comp_tmp.iloc[0]['date'] - tmp.iloc[0]['date']) / datetime.timedelta(hours=1)\n",
    "    result.at[index, 'response_time'] = response_time"
   ]
  },
  {
   "cell_type": "code",
   "execution_count": 32,
   "metadata": {},
   "outputs": [
    {
     "data": {
      "text/html": [
       "<div>\n",
       "<style scoped>\n",
       "    .dataframe tbody tr th:only-of-type {\n",
       "        vertical-align: middle;\n",
       "    }\n",
       "\n",
       "    .dataframe tbody tr th {\n",
       "        vertical-align: top;\n",
       "    }\n",
       "\n",
       "    .dataframe thead th {\n",
       "        text-align: right;\n",
       "    }\n",
       "</style>\n",
       "<table border=\"1\" class=\"dataframe\">\n",
       "  <thead>\n",
       "    <tr style=\"text-align: right;\">\n",
       "      <th></th>\n",
       "      <th>conversation_id</th>\n",
       "      <th>response_time</th>\n",
       "    </tr>\n",
       "  </thead>\n",
       "  <tbody>\n",
       "    <tr>\n",
       "      <th>0</th>\n",
       "      <td>1343398089277595648</td>\n",
       "      <td>0.000000</td>\n",
       "    </tr>\n",
       "    <tr>\n",
       "      <th>1</th>\n",
       "      <td>1335260303009882112</td>\n",
       "      <td>0.000000</td>\n",
       "    </tr>\n",
       "    <tr>\n",
       "      <th>2</th>\n",
       "      <td>1333639022715944960</td>\n",
       "      <td>143.658889</td>\n",
       "    </tr>\n",
       "    <tr>\n",
       "      <th>3</th>\n",
       "      <td>1333048476918116352</td>\n",
       "      <td>0.000000</td>\n",
       "    </tr>\n",
       "    <tr>\n",
       "      <th>4</th>\n",
       "      <td>1333021985534668802</td>\n",
       "      <td>0.000000</td>\n",
       "    </tr>\n",
       "    <tr>\n",
       "      <th>...</th>\n",
       "      <td>...</td>\n",
       "      <td>...</td>\n",
       "    </tr>\n",
       "    <tr>\n",
       "      <th>229</th>\n",
       "      <td>1083275847778222080</td>\n",
       "      <td>0.000000</td>\n",
       "    </tr>\n",
       "    <tr>\n",
       "      <th>230</th>\n",
       "      <td>1082941120399560704</td>\n",
       "      <td>0.082500</td>\n",
       "    </tr>\n",
       "    <tr>\n",
       "      <th>231</th>\n",
       "      <td>1082865424310517761</td>\n",
       "      <td>27.335556</td>\n",
       "    </tr>\n",
       "    <tr>\n",
       "      <th>232</th>\n",
       "      <td>1082938998773989376</td>\n",
       "      <td>0.000000</td>\n",
       "    </tr>\n",
       "    <tr>\n",
       "      <th>233</th>\n",
       "      <td>1082308420688961536</td>\n",
       "      <td>0.000000</td>\n",
       "    </tr>\n",
       "  </tbody>\n",
       "</table>\n",
       "<p>234 rows × 2 columns</p>\n",
       "</div>"
      ],
      "text/plain": [
       "         conversation_id  response_time\n",
       "0    1343398089277595648       0.000000\n",
       "1    1335260303009882112       0.000000\n",
       "2    1333639022715944960     143.658889\n",
       "3    1333048476918116352       0.000000\n",
       "4    1333021985534668802       0.000000\n",
       "..                   ...            ...\n",
       "229  1083275847778222080       0.000000\n",
       "230  1082941120399560704       0.082500\n",
       "231  1082865424310517761      27.335556\n",
       "232  1082938998773989376       0.000000\n",
       "233  1082308420688961536       0.000000\n",
       "\n",
       "[234 rows x 2 columns]"
      ]
     },
     "execution_count": 32,
     "metadata": {},
     "output_type": "execute_result"
    }
   ],
   "source": [
    "result"
   ]
  },
  {
   "cell_type": "code",
   "execution_count": 35,
   "metadata": {},
   "outputs": [
    {
     "data": {
      "image/svg+xml": "<svg class=\"main-svg\" xmlns=\"http://www.w3.org/2000/svg\" xmlns:xlink=\"http://www.w3.org/1999/xlink\" width=\"900\" height=\"500\" style=\"\" viewBox=\"0 0 900 500\"><rect x=\"0\" y=\"0\" width=\"900\" height=\"500\" style=\"fill: rgb(255, 255, 255); fill-opacity: 1;\"/><defs id=\"defs-0ffb70\"><g class=\"clips\"><clipPath id=\"clip0ffb70xyplot\" class=\"plotclip\"><rect width=\"740\" height=\"266.112\"/></clipPath><clipPath id=\"clip0ffb70x2y2plot\" class=\"plotclip\"><rect width=\"740\" height=\"50.687999999999995\"/></clipPath><clipPath class=\"axesclip\" id=\"clip0ffb70x\"><rect x=\"80\" y=\"0\" width=\"740\" height=\"500\"/></clipPath><clipPath class=\"axesclip\" id=\"clip0ffb70y\"><rect x=\"0\" y=\"153.888\" width=\"900\" height=\"266.112\"/></clipPath><clipPath class=\"axesclip\" id=\"clip0ffb70xy\"><rect x=\"80\" y=\"153.888\" width=\"740\" height=\"266.112\"/></clipPath><clipPath class=\"axesclip\" id=\"clip0ffb70y2\"><rect x=\"0\" y=\"100\" width=\"900\" height=\"50.687999999999995\"/></clipPath><clipPath class=\"axesclip\" id=\"clip0ffb70xy2\"><rect x=\"80\" y=\"100\" width=\"740\" height=\"50.687999999999995\"/></clipPath><clipPath class=\"axesclip\" id=\"clip0ffb70x2\"><rect x=\"80\" y=\"0\" width=\"740\" height=\"500\"/></clipPath><clipPath class=\"axesclip\" id=\"clip0ffb70x2y\"><rect x=\"80\" y=\"153.888\" width=\"740\" height=\"266.112\"/></clipPath><clipPath class=\"axesclip\" id=\"clip0ffb70x2y2\"><rect x=\"80\" y=\"100\" width=\"740\" height=\"50.687999999999995\"/></clipPath></g><g class=\"gradients\"/><g class=\"patterns\"/></defs><g class=\"bglayer\"><rect class=\"bg\" x=\"80\" y=\"153.888\" width=\"740\" height=\"266.112\" style=\"fill: rgb(229, 236, 246); fill-opacity: 1; stroke-width: 0;\"/><rect class=\"bg\" x=\"80\" y=\"100\" width=\"740\" height=\"50.687999999999995\" style=\"fill: rgb(229, 236, 246); fill-opacity: 1; stroke-width: 0;\"/></g><g class=\"layer-below\"><g class=\"imagelayer\"/><g class=\"shapelayer\"/></g><g class=\"cartesianlayer\"><g class=\"subplot xy\"><g class=\"layer-subplot\"><g class=\"shapelayer\"/><g class=\"imagelayer\"/></g><g class=\"minor-gridlayer\"><g class=\"x\"/><g class=\"y\"/></g><g class=\"gridlayer\"><g class=\"x\"/><g class=\"y\"><path class=\"ygrid crisp\" transform=\"translate(0,406.698)\" d=\"M80,0h740\" style=\"stroke: rgb(255, 255, 255); stroke-opacity: 1; stroke-width: 1px;\"/><path class=\"ygrid crisp\" transform=\"translate(0,374.988)\" d=\"M80,0h740\" style=\"stroke: rgb(255, 255, 255); stroke-opacity: 1; stroke-width: 1px;\"/><path class=\"ygrid crisp\" transform=\"translate(0,333.08799999999997)\" d=\"M80,0h740\" style=\"stroke: rgb(255, 255, 255); stroke-opacity: 1; stroke-width: 1px;\"/><path class=\"ygrid crisp\" transform=\"translate(0,301.37800000000004)\" d=\"M80,0h740\" style=\"stroke: rgb(255, 255, 255); stroke-opacity: 1; stroke-width: 1px;\"/><path class=\"ygrid crisp\" transform=\"translate(0,269.678)\" d=\"M80,0h740\" style=\"stroke: rgb(255, 255, 255); stroke-opacity: 1; stroke-width: 1px;\"/><path class=\"ygrid crisp\" transform=\"translate(0,227.768)\" d=\"M80,0h740\" style=\"stroke: rgb(255, 255, 255); stroke-opacity: 1; stroke-width: 1px;\"/><path class=\"ygrid crisp\" transform=\"translate(0,196.068)\" d=\"M80,0h740\" style=\"stroke: rgb(255, 255, 255); stroke-opacity: 1; stroke-width: 1px;\"/><path class=\"ygrid crisp\" transform=\"translate(0,164.368)\" d=\"M80,0h740\" style=\"stroke: rgb(255, 255, 255); stroke-opacity: 1; stroke-width: 1px;\"/></g></g><g class=\"zerolinelayer\"/><path class=\"xlines-below\"/><path class=\"ylines-below\"/><g class=\"overlines-below\"/><g class=\"xaxislayer-below\"/><g class=\"yaxislayer-below\"/><g class=\"overaxes-below\"/><g class=\"plot\" transform=\"translate(80,153.888)\" clip-path=\"url(#clip0ffb70xyplot)\"><g class=\"barlayer mlayer\"><g class=\"trace bars\" shape-rendering=\"crispEdges\" style=\"opacity: 1;\"><g class=\"points\"><g class=\"point\"><path d=\"M23.53,2794.18V13.31H51.18V2794.18Z\" style=\"vector-effect: non-scaling-stroke; opacity: 1; stroke-width: 0px; fill: rgb(99, 110, 250); fill-opacity: 1;\"/></g><g class=\"point\"><path d=\"M51.18,2794.18V123.22H78.83V2794.18Z\" style=\"vector-effect: non-scaling-stroke; opacity: 1; stroke-width: 0px; fill: rgb(99, 110, 250); fill-opacity: 1;\"/></g><g class=\"point\"><path d=\"M78.83,2794.18V179.2H106.48V2794.18Z\" style=\"vector-effect: non-scaling-stroke; opacity: 1; stroke-width: 0px; fill: rgb(99, 110, 250); fill-opacity: 1;\"/></g><g class=\"point\"><path d=\"M106.48,2794.18V143.13H134.12V2794.18Z\" style=\"vector-effect: non-scaling-stroke; opacity: 1; stroke-width: 0px; fill: rgb(99, 110, 250); fill-opacity: 1;\"/></g><g class=\"point\"><path d=\"M134.12,2794.18V170.86H161.77V2794.18Z\" style=\"vector-effect: non-scaling-stroke; opacity: 1; stroke-width: 0px; fill: rgb(99, 110, 250); fill-opacity: 1;\"/></g><g class=\"point\"><path d=\"M0,0Z\" style=\"vector-effect: non-scaling-stroke; opacity: 1; stroke-width: 0px; fill: rgb(99, 110, 250); fill-opacity: 1;\"/></g><g class=\"point\"><path d=\"M189.42,2794.18V252.81H217.07V2794.18Z\" style=\"vector-effect: non-scaling-stroke; opacity: 1; stroke-width: 0px; fill: rgb(99, 110, 250); fill-opacity: 1;\"/></g><g class=\"point\"><path d=\"M217.07,2794.18V252.81H244.72V2794.18Z\" style=\"vector-effect: non-scaling-stroke; opacity: 1; stroke-width: 0px; fill: rgb(99, 110, 250); fill-opacity: 1;\"/></g><g class=\"point\"><path d=\"M244.72,2794.18V252.81H272.37V2794.18Z\" style=\"vector-effect: non-scaling-stroke; opacity: 1; stroke-width: 0px; fill: rgb(99, 110, 250); fill-opacity: 1;\"/></g><g class=\"point\"><path d=\"M0,0Z\" style=\"vector-effect: non-scaling-stroke; opacity: 1; stroke-width: 0px; fill: rgb(99, 110, 250); fill-opacity: 1;\"/></g><g class=\"point\"><path d=\"M0,0Z\" style=\"vector-effect: non-scaling-stroke; opacity: 1; stroke-width: 0px; fill: rgb(99, 110, 250); fill-opacity: 1;\"/></g><g class=\"point\"><path d=\"M0,0Z\" style=\"vector-effect: non-scaling-stroke; opacity: 1; stroke-width: 0px; fill: rgb(99, 110, 250); fill-opacity: 1;\"/></g><g class=\"point\"><path d=\"M0,0Z\" style=\"vector-effect: non-scaling-stroke; opacity: 1; stroke-width: 0px; fill: rgb(99, 110, 250); fill-opacity: 1;\"/></g><g class=\"point\"><path d=\"M382.96,2794.18V252.81H410.61V2794.18Z\" style=\"vector-effect: non-scaling-stroke; opacity: 1; stroke-width: 0px; fill: rgb(99, 110, 250); fill-opacity: 1;\"/></g><g class=\"point\"><path d=\"M0,0Z\" style=\"vector-effect: non-scaling-stroke; opacity: 1; stroke-width: 0px; fill: rgb(99, 110, 250); fill-opacity: 1;\"/></g><g class=\"point\"><path d=\"M438.26,2794.18V252.81H465.91V2794.18Z\" style=\"vector-effect: non-scaling-stroke; opacity: 1; stroke-width: 0px; fill: rgb(99, 110, 250); fill-opacity: 1;\"/></g><g class=\"point\"><path d=\"M465.91,2794.18V252.81H493.56V2794.18Z\" style=\"vector-effect: non-scaling-stroke; opacity: 1; stroke-width: 0px; fill: rgb(99, 110, 250); fill-opacity: 1;\"/></g><g class=\"point\"><path d=\"M0,0Z\" style=\"vector-effect: non-scaling-stroke; opacity: 1; stroke-width: 0px; fill: rgb(99, 110, 250); fill-opacity: 1;\"/></g><g class=\"point\"><path d=\"M0,0Z\" style=\"vector-effect: non-scaling-stroke; opacity: 1; stroke-width: 0px; fill: rgb(99, 110, 250); fill-opacity: 1;\"/></g><g class=\"point\"><path d=\"M0,0Z\" style=\"vector-effect: non-scaling-stroke; opacity: 1; stroke-width: 0px; fill: rgb(99, 110, 250); fill-opacity: 1;\"/></g><g class=\"point\"><path d=\"M0,0Z\" style=\"vector-effect: non-scaling-stroke; opacity: 1; stroke-width: 0px; fill: rgb(99, 110, 250); fill-opacity: 1;\"/></g><g class=\"point\"><path d=\"M0,0Z\" style=\"vector-effect: non-scaling-stroke; opacity: 1; stroke-width: 0px; fill: rgb(99, 110, 250); fill-opacity: 1;\"/></g><g class=\"point\"><path d=\"M0,0Z\" style=\"vector-effect: non-scaling-stroke; opacity: 1; stroke-width: 0px; fill: rgb(99, 110, 250); fill-opacity: 1;\"/></g><g class=\"point\"><path d=\"M0,0Z\" style=\"vector-effect: non-scaling-stroke; opacity: 1; stroke-width: 0px; fill: rgb(99, 110, 250); fill-opacity: 1;\"/></g><g class=\"point\"><path d=\"M687.1,2794.18V252.81H714.74V2794.18Z\" style=\"vector-effect: non-scaling-stroke; opacity: 1; stroke-width: 0px; fill: rgb(99, 110, 250); fill-opacity: 1;\"/></g></g></g></g></g><g class=\"overplot\"/><path class=\"xlines-above crisp\" d=\"M0,0\" style=\"fill: none;\"/><path class=\"ylines-above crisp\" d=\"M0,0\" style=\"fill: none;\"/><g class=\"overlines-above\"/><g class=\"xaxislayer-above\"><g class=\"xtick\"><text text-anchor=\"middle\" x=\"0\" y=\"433\" transform=\"translate(117.35,0)\" style=\"font-family: 'Open Sans', verdana, arial, sans-serif; font-size: 12px; fill: rgb(42, 63, 95); fill-opacity: 1; white-space: pre; opacity: 1;\">0</text></g><g class=\"xtick\"><text text-anchor=\"middle\" x=\"0\" y=\"433\" style=\"font-family: 'Open Sans', verdana, arial, sans-serif; font-size: 12px; fill: rgb(42, 63, 95); fill-opacity: 1; white-space: pre; opacity: 1;\" transform=\"translate(255.6,0)\">100</text></g><g class=\"xtick\"><text text-anchor=\"middle\" x=\"0\" y=\"433\" style=\"font-family: 'Open Sans', verdana, arial, sans-serif; font-size: 12px; fill: rgb(42, 63, 95); fill-opacity: 1; white-space: pre; opacity: 1;\" transform=\"translate(393.84,0)\">200</text></g><g class=\"xtick\"><text text-anchor=\"middle\" x=\"0\" y=\"433\" style=\"font-family: 'Open Sans', verdana, arial, sans-serif; font-size: 12px; fill: rgb(42, 63, 95); fill-opacity: 1; white-space: pre; opacity: 1;\" transform=\"translate(532.0799999999999,0)\">300</text></g><g class=\"xtick\"><text text-anchor=\"middle\" x=\"0\" y=\"433\" style=\"font-family: 'Open Sans', verdana, arial, sans-serif; font-size: 12px; fill: rgb(42, 63, 95); fill-opacity: 1; white-space: pre; opacity: 1;\" transform=\"translate(670.33,0)\">400</text></g><g class=\"xtick\"><text text-anchor=\"middle\" x=\"0\" y=\"433\" style=\"font-family: 'Open Sans', verdana, arial, sans-serif; font-size: 12px; fill: rgb(42, 63, 95); fill-opacity: 1; white-space: pre; opacity: 1;\" transform=\"translate(808.57,0)\">500</text></g></g><g class=\"yaxislayer-above\"><g class=\"ytick\"><text text-anchor=\"end\" x=\"79\" y=\"4.199999999999999\" transform=\"translate(0,406.698)\" style=\"font-family: 'Open Sans', verdana, arial, sans-serif; font-size: 12px; fill: rgb(42, 63, 95); fill-opacity: 1; white-space: pre; opacity: 1;\">1</text></g><g class=\"ytick\"><text text-anchor=\"end\" x=\"79\" y=\"3.15\" style=\"font-family: 'Open Sans', verdana, arial, sans-serif; font-size: 9px; fill: rgb(42, 63, 95); fill-opacity: 1; white-space: pre; opacity: 1;\" transform=\"translate(0,374.988)\">2</text></g><g class=\"ytick\"><text text-anchor=\"end\" x=\"79\" y=\"3.15\" style=\"font-family: 'Open Sans', verdana, arial, sans-serif; font-size: 9px; fill: rgb(42, 63, 95); fill-opacity: 1; white-space: pre; opacity: 1;\" transform=\"translate(0,333.08799999999997)\">5</text></g><g class=\"ytick\"><text text-anchor=\"end\" x=\"79\" y=\"4.199999999999999\" style=\"font-family: 'Open Sans', verdana, arial, sans-serif; font-size: 12px; fill: rgb(42, 63, 95); fill-opacity: 1; white-space: pre; opacity: 1;\" transform=\"translate(0,301.37800000000004)\">10</text></g><g class=\"ytick\"><text text-anchor=\"end\" x=\"79\" y=\"3.15\" style=\"font-family: 'Open Sans', verdana, arial, sans-serif; font-size: 9px; fill: rgb(42, 63, 95); fill-opacity: 1; white-space: pre; opacity: 1;\" transform=\"translate(0,269.678)\">2</text></g><g class=\"ytick\"><text text-anchor=\"end\" x=\"79\" y=\"3.15\" style=\"font-family: 'Open Sans', verdana, arial, sans-serif; font-size: 9px; fill: rgb(42, 63, 95); fill-opacity: 1; white-space: pre; opacity: 1;\" transform=\"translate(0,227.768)\">5</text></g><g class=\"ytick\"><text text-anchor=\"end\" x=\"79\" y=\"4.199999999999999\" style=\"font-family: 'Open Sans', verdana, arial, sans-serif; font-size: 12px; fill: rgb(42, 63, 95); fill-opacity: 1; white-space: pre; opacity: 1;\" transform=\"translate(0,196.068)\">100</text></g><g class=\"ytick\"><text text-anchor=\"end\" x=\"79\" y=\"3.15\" style=\"font-family: 'Open Sans', verdana, arial, sans-serif; font-size: 9px; fill: rgb(42, 63, 95); fill-opacity: 1; white-space: pre; opacity: 1;\" transform=\"translate(0,164.368)\">2</text></g></g><g class=\"overaxes-above\"/></g><g class=\"subplot x2y2\"><g class=\"layer-subplot\"><g class=\"shapelayer\"/><g class=\"imagelayer\"/></g><g class=\"minor-gridlayer\"><g class=\"x2\"/><g class=\"y2\"/></g><g class=\"gridlayer\"><g class=\"x2\"><path class=\"x2grid crisp\" transform=\"translate(255.6,0)\" d=\"M0,100v50.687999999999995\" style=\"stroke: rgb(255, 255, 255); stroke-opacity: 1; stroke-width: 1px;\"/><path class=\"x2grid crisp\" transform=\"translate(393.84,0)\" d=\"M0,100v50.687999999999995\" style=\"stroke: rgb(255, 255, 255); stroke-opacity: 1; stroke-width: 1px;\"/><path class=\"x2grid crisp\" transform=\"translate(532.0799999999999,0)\" d=\"M0,100v50.687999999999995\" style=\"stroke: rgb(255, 255, 255); stroke-opacity: 1; stroke-width: 1px;\"/><path class=\"x2grid crisp\" transform=\"translate(670.33,0)\" d=\"M0,100v50.687999999999995\" style=\"stroke: rgb(255, 255, 255); stroke-opacity: 1; stroke-width: 1px;\"/><path class=\"x2grid crisp\" transform=\"translate(808.57,0)\" d=\"M0,100v50.687999999999995\" style=\"stroke: rgb(255, 255, 255); stroke-opacity: 1; stroke-width: 1px;\"/></g><g class=\"y2\"/></g><g class=\"zerolinelayer\"><path class=\"x2zl zl crisp\" transform=\"translate(117.35,0)\" d=\"M0,100v50.687999999999995\" style=\"stroke: rgb(255, 255, 255); stroke-opacity: 1; stroke-width: 2px;\"/></g><path class=\"xlines-below\"/><path class=\"ylines-below\"/><g class=\"overlines-below\"/><g class=\"xaxislayer-below\"/><g class=\"yaxislayer-below\"/><g class=\"overaxes-below\"/><g class=\"plot\" transform=\"translate(80,100)\" clip-path=\"url(#clip0ffb70x2y2plot)\"><g class=\"boxlayer mlayer\"><g class=\"trace boxes\" style=\"opacity: 1;\"><path class=\"box\" d=\"M38.35,31.55V19.13M37.35,37.76V12.93H37L38.35,19.13L37.71,12.93H40.8V37.76H37.71L38.35,31.55L37,37.76ZM37.35,25.34H37.35M40.8,25.34H44.87M37.35,31.55V19.13M44.87,31.55V19.13\" style=\"vector-effect: non-scaling-stroke; stroke-width: 2px; stroke: rgb(99, 110, 250); stroke-opacity: 1; fill: rgb(99, 110, 250); fill-opacity: 0.5;\"/><g class=\"points\"><path class=\"point\" transform=\"translate(50.95,25.34)\" d=\"M3,0A3,3 0 1,1 0,-3A3,3 0 0,1 3,0Z\" style=\"opacity: 1; stroke-width: 0px; fill: rgb(99, 110, 250); fill-opacity: 1;\"/><path class=\"point\" transform=\"translate(51.54,25.34)\" d=\"M3,0A3,3 0 1,1 0,-3A3,3 0 0,1 3,0Z\" style=\"opacity: 1; stroke-width: 0px; fill: rgb(99, 110, 250); fill-opacity: 1;\"/><path class=\"point\" transform=\"translate(55.2,25.34)\" d=\"M3,0A3,3 0 1,1 0,-3A3,3 0 0,1 3,0Z\" style=\"opacity: 1; stroke-width: 0px; fill: rgb(99, 110, 250); fill-opacity: 1;\"/><path class=\"point\" transform=\"translate(56.02,25.34)\" d=\"M3,0A3,3 0 1,1 0,-3A3,3 0 0,1 3,0Z\" style=\"opacity: 1; stroke-width: 0px; fill: rgb(99, 110, 250); fill-opacity: 1;\"/><path class=\"point\" transform=\"translate(58.36,25.34)\" d=\"M3,0A3,3 0 1,1 0,-3A3,3 0 0,1 3,0Z\" style=\"opacity: 1; stroke-width: 0px; fill: rgb(99, 110, 250); fill-opacity: 1;\"/><path class=\"point\" transform=\"translate(61.48,25.34)\" d=\"M3,0A3,3 0 1,1 0,-3A3,3 0 0,1 3,0Z\" style=\"opacity: 1; stroke-width: 0px; fill: rgb(99, 110, 250); fill-opacity: 1;\"/><path class=\"point\" transform=\"translate(62.44,25.34)\" d=\"M3,0A3,3 0 1,1 0,-3A3,3 0 0,1 3,0Z\" style=\"opacity: 1; stroke-width: 0px; fill: rgb(99, 110, 250); fill-opacity: 1;\"/><path class=\"point\" transform=\"translate(63.41,25.34)\" d=\"M3,0A3,3 0 1,1 0,-3A3,3 0 0,1 3,0Z\" style=\"opacity: 1; stroke-width: 0px; fill: rgb(99, 110, 250); fill-opacity: 1;\"/><path class=\"point\" transform=\"translate(64.12,25.34)\" d=\"M3,0A3,3 0 1,1 0,-3A3,3 0 0,1 3,0Z\" style=\"opacity: 1; stroke-width: 0px; fill: rgb(99, 110, 250); fill-opacity: 1;\"/><path class=\"point\" transform=\"translate(64.34,25.34)\" d=\"M3,0A3,3 0 1,1 0,-3A3,3 0 0,1 3,0Z\" style=\"opacity: 1; stroke-width: 0px; fill: rgb(99, 110, 250); fill-opacity: 1;\"/><path class=\"point\" transform=\"translate(67.15,25.34)\" d=\"M3,0A3,3 0 1,1 0,-3A3,3 0 0,1 3,0Z\" style=\"opacity: 1; stroke-width: 0px; fill: rgb(99, 110, 250); fill-opacity: 1;\"/><path class=\"point\" transform=\"translate(69.09,25.34)\" d=\"M3,0A3,3 0 1,1 0,-3A3,3 0 0,1 3,0Z\" style=\"opacity: 1; stroke-width: 0px; fill: rgb(99, 110, 250); fill-opacity: 1;\"/><path class=\"point\" transform=\"translate(70.29,25.34)\" d=\"M3,0A3,3 0 1,1 0,-3A3,3 0 0,1 3,0Z\" style=\"opacity: 1; stroke-width: 0px; fill: rgb(99, 110, 250); fill-opacity: 1;\"/><path class=\"point\" transform=\"translate(72.88,25.34)\" d=\"M3,0A3,3 0 1,1 0,-3A3,3 0 0,1 3,0Z\" style=\"opacity: 1; stroke-width: 0px; fill: rgb(99, 110, 250); fill-opacity: 1;\"/><path class=\"point\" transform=\"translate(72.9,25.34)\" d=\"M3,0A3,3 0 1,1 0,-3A3,3 0 0,1 3,0Z\" style=\"opacity: 1; stroke-width: 0px; fill: rgb(99, 110, 250); fill-opacity: 1;\"/><path class=\"point\" transform=\"translate(74.69,25.34)\" d=\"M3,0A3,3 0 1,1 0,-3A3,3 0 0,1 3,0Z\" style=\"opacity: 1; stroke-width: 0px; fill: rgb(99, 110, 250); fill-opacity: 1;\"/><path class=\"point\" transform=\"translate(75.14,25.34)\" d=\"M3,0A3,3 0 1,1 0,-3A3,3 0 0,1 3,0Z\" style=\"opacity: 1; stroke-width: 0px; fill: rgb(99, 110, 250); fill-opacity: 1;\"/><path class=\"point\" transform=\"translate(77.84,25.34)\" d=\"M3,0A3,3 0 1,1 0,-3A3,3 0 0,1 3,0Z\" style=\"opacity: 1; stroke-width: 0px; fill: rgb(99, 110, 250); fill-opacity: 1;\"/><path class=\"point\" transform=\"translate(82.21,25.34)\" d=\"M3,0A3,3 0 1,1 0,-3A3,3 0 0,1 3,0Z\" style=\"opacity: 1; stroke-width: 0px; fill: rgb(99, 110, 250); fill-opacity: 1;\"/><path class=\"point\" transform=\"translate(83.71,25.34)\" d=\"M3,0A3,3 0 1,1 0,-3A3,3 0 0,1 3,0Z\" style=\"opacity: 1; stroke-width: 0px; fill: rgb(99, 110, 250); fill-opacity: 1;\"/><path class=\"point\" transform=\"translate(87.47,25.34)\" d=\"M3,0A3,3 0 1,1 0,-3A3,3 0 0,1 3,0Z\" style=\"opacity: 1; stroke-width: 0px; fill: rgb(99, 110, 250); fill-opacity: 1;\"/><path class=\"point\" transform=\"translate(99.23,25.34)\" d=\"M3,0A3,3 0 1,1 0,-3A3,3 0 0,1 3,0Z\" style=\"opacity: 1; stroke-width: 0px; fill: rgb(99, 110, 250); fill-opacity: 1;\"/><path class=\"point\" transform=\"translate(99.35,25.34)\" d=\"M3,0A3,3 0 1,1 0,-3A3,3 0 0,1 3,0Z\" style=\"opacity: 1; stroke-width: 0px; fill: rgb(99, 110, 250); fill-opacity: 1;\"/><path class=\"point\" transform=\"translate(108.37,25.34)\" d=\"M3,0A3,3 0 1,1 0,-3A3,3 0 0,1 3,0Z\" style=\"opacity: 1; stroke-width: 0px; fill: rgb(99, 110, 250); fill-opacity: 1;\"/><path class=\"point\" transform=\"translate(109.95,25.34)\" d=\"M3,0A3,3 0 1,1 0,-3A3,3 0 0,1 3,0Z\" style=\"opacity: 1; stroke-width: 0px; fill: rgb(99, 110, 250); fill-opacity: 1;\"/><path class=\"point\" transform=\"translate(110.45,25.34)\" d=\"M3,0A3,3 0 1,1 0,-3A3,3 0 0,1 3,0Z\" style=\"opacity: 1; stroke-width: 0px; fill: rgb(99, 110, 250); fill-opacity: 1;\"/><path class=\"point\" transform=\"translate(112.04,25.34)\" d=\"M3,0A3,3 0 1,1 0,-3A3,3 0 0,1 3,0Z\" style=\"opacity: 1; stroke-width: 0px; fill: rgb(99, 110, 250); fill-opacity: 1;\"/><path class=\"point\" transform=\"translate(112.37,25.34)\" d=\"M3,0A3,3 0 1,1 0,-3A3,3 0 0,1 3,0Z\" style=\"opacity: 1; stroke-width: 0px; fill: rgb(99, 110, 250); fill-opacity: 1;\"/><path class=\"point\" transform=\"translate(113.79,25.34)\" d=\"M3,0A3,3 0 1,1 0,-3A3,3 0 0,1 3,0Z\" style=\"opacity: 1; stroke-width: 0px; fill: rgb(99, 110, 250); fill-opacity: 1;\"/><path class=\"point\" transform=\"translate(116.35,25.34)\" d=\"M3,0A3,3 0 1,1 0,-3A3,3 0 0,1 3,0Z\" style=\"opacity: 1; stroke-width: 0px; fill: rgb(99, 110, 250); fill-opacity: 1;\"/><path class=\"point\" transform=\"translate(116.77,25.34)\" d=\"M3,0A3,3 0 1,1 0,-3A3,3 0 0,1 3,0Z\" style=\"opacity: 1; stroke-width: 0px; fill: rgb(99, 110, 250); fill-opacity: 1;\"/><path class=\"point\" transform=\"translate(120.72,25.34)\" d=\"M3,0A3,3 0 1,1 0,-3A3,3 0 0,1 3,0Z\" style=\"opacity: 1; stroke-width: 0px; fill: rgb(99, 110, 250); fill-opacity: 1;\"/><path class=\"point\" transform=\"translate(129.83,25.34)\" d=\"M3,0A3,3 0 1,1 0,-3A3,3 0 0,1 3,0Z\" style=\"opacity: 1; stroke-width: 0px; fill: rgb(99, 110, 250); fill-opacity: 1;\"/><path class=\"point\" transform=\"translate(131.92,25.34)\" d=\"M3,0A3,3 0 1,1 0,-3A3,3 0 0,1 3,0Z\" style=\"opacity: 1; stroke-width: 0px; fill: rgb(99, 110, 250); fill-opacity: 1;\"/><path class=\"point\" transform=\"translate(136.24,25.34)\" d=\"M3,0A3,3 0 1,1 0,-3A3,3 0 0,1 3,0Z\" style=\"opacity: 1; stroke-width: 0px; fill: rgb(99, 110, 250); fill-opacity: 1;\"/><path class=\"point\" transform=\"translate(137.64,25.34)\" d=\"M3,0A3,3 0 1,1 0,-3A3,3 0 0,1 3,0Z\" style=\"opacity: 1; stroke-width: 0px; fill: rgb(99, 110, 250); fill-opacity: 1;\"/><path class=\"point\" transform=\"translate(139.23,25.34)\" d=\"M3,0A3,3 0 1,1 0,-3A3,3 0 0,1 3,0Z\" style=\"opacity: 1; stroke-width: 0px; fill: rgb(99, 110, 250); fill-opacity: 1;\"/><path class=\"point\" transform=\"translate(141.65,25.34)\" d=\"M3,0A3,3 0 1,1 0,-3A3,3 0 0,1 3,0Z\" style=\"opacity: 1; stroke-width: 0px; fill: rgb(99, 110, 250); fill-opacity: 1;\"/><path class=\"point\" transform=\"translate(141.7,25.34)\" d=\"M3,0A3,3 0 1,1 0,-3A3,3 0 0,1 3,0Z\" style=\"opacity: 1; stroke-width: 0px; fill: rgb(99, 110, 250); fill-opacity: 1;\"/><path class=\"point\" transform=\"translate(154.12,25.34)\" d=\"M3,0A3,3 0 1,1 0,-3A3,3 0 0,1 3,0Z\" style=\"opacity: 1; stroke-width: 0px; fill: rgb(99, 110, 250); fill-opacity: 1;\"/><path class=\"point\" transform=\"translate(204.76,25.34)\" d=\"M3,0A3,3 0 1,1 0,-3A3,3 0 0,1 3,0Z\" style=\"opacity: 1; stroke-width: 0px; fill: rgb(99, 110, 250); fill-opacity: 1;\"/><path class=\"point\" transform=\"translate(235.95,25.34)\" d=\"M3,0A3,3 0 1,1 0,-3A3,3 0 0,1 3,0Z\" style=\"opacity: 1; stroke-width: 0px; fill: rgb(99, 110, 250); fill-opacity: 1;\"/><path class=\"point\" transform=\"translate(266.78,25.34)\" d=\"M3,0A3,3 0 1,1 0,-3A3,3 0 0,1 3,0Z\" style=\"opacity: 1; stroke-width: 0px; fill: rgb(99, 110, 250); fill-opacity: 1;\"/><path class=\"point\" transform=\"translate(391.47,25.34)\" d=\"M3,0A3,3 0 1,1 0,-3A3,3 0 0,1 3,0Z\" style=\"opacity: 1; stroke-width: 0px; fill: rgb(99, 110, 250); fill-opacity: 1;\"/><path class=\"point\" transform=\"translate(456.07,25.34)\" d=\"M3,0A3,3 0 1,1 0,-3A3,3 0 0,1 3,0Z\" style=\"opacity: 1; stroke-width: 0px; fill: rgb(99, 110, 250); fill-opacity: 1;\"/><path class=\"point\" transform=\"translate(473.25,25.34)\" d=\"M3,0A3,3 0 1,1 0,-3A3,3 0 0,1 3,0Z\" style=\"opacity: 1; stroke-width: 0px; fill: rgb(99, 110, 250); fill-opacity: 1;\"/><path class=\"point\" transform=\"translate(703,25.34)\" d=\"M3,0A3,3 0 1,1 0,-3A3,3 0 0,1 3,0Z\" style=\"opacity: 1; stroke-width: 0px; fill: rgb(99, 110, 250); fill-opacity: 1;\"/></g></g></g></g><g class=\"overplot\"/><path class=\"xlines-above crisp\" d=\"M0,0\" style=\"fill: none;\"/><path class=\"ylines-above crisp\" d=\"M0,0\" style=\"fill: none;\"/><g class=\"overlines-above\"/><g class=\"xaxislayer-above\"/><g class=\"yaxislayer-above\"/><g class=\"overaxes-above\"/></g></g><g class=\"polarlayer\"/><g class=\"smithlayer\"/><g class=\"ternarylayer\"/><g class=\"geolayer\"/><g class=\"funnelarealayer\"/><g class=\"pielayer\"/><g class=\"iciclelayer\"/><g class=\"treemaplayer\"/><g class=\"sunburstlayer\"/><g class=\"glimages\"/><defs id=\"topdefs-0ffb70\"><g class=\"clips\"/></defs><g class=\"layer-above\"><g class=\"imagelayer\"/><g class=\"shapelayer\"/></g><g class=\"infolayer\"><g class=\"g-gtitle\"><text class=\"gtitle\" x=\"45\" y=\"50\" text-anchor=\"start\" dy=\"0em\" style=\"font-family: 'Open Sans', verdana, arial, sans-serif; font-size: 17px; fill: rgb(42, 63, 95); opacity: 1; font-weight: normal; white-space: pre;\">Distribution of response time</text></g><g class=\"g-xtitle\"><text class=\"xtitle\" x=\"450\" y=\"460.3\" text-anchor=\"middle\" style=\"font-family: 'Open Sans', verdana, arial, sans-serif; font-size: 14px; fill: rgb(42, 63, 95); opacity: 1; font-weight: normal; white-space: pre;\">response_time</text></g><g class=\"g-x2title\"/><g class=\"g-ytitle\"><text class=\"ytitle\" transform=\"rotate(-90,31.309375000000003,286.944)\" x=\"31.309375000000003\" y=\"286.944\" text-anchor=\"middle\" style=\"font-family: 'Open Sans', verdana, arial, sans-serif; font-size: 14px; fill: rgb(42, 63, 95); opacity: 1; font-weight: normal; white-space: pre;\">count</text></g><g class=\"g-y2title\"/></g></svg>"
     },
     "metadata": {},
     "output_type": "display_data"
    }
   ],
   "source": [
    "fig = px.histogram(result, x='response_time', log_y=True, marginal='box', title='Distribution of response time')\n",
    "fig.show()"
   ]
  },
  {
   "cell_type": "code",
   "execution_count": 37,
   "metadata": {},
   "outputs": [
    {
     "data": {
      "text/html": [
       "<div>\n",
       "<style scoped>\n",
       "    .dataframe tbody tr th:only-of-type {\n",
       "        vertical-align: middle;\n",
       "    }\n",
       "\n",
       "    .dataframe tbody tr th {\n",
       "        vertical-align: top;\n",
       "    }\n",
       "\n",
       "    .dataframe thead th {\n",
       "        text-align: right;\n",
       "    }\n",
       "</style>\n",
       "<table border=\"1\" class=\"dataframe\">\n",
       "  <thead>\n",
       "    <tr style=\"text-align: right;\">\n",
       "      <th></th>\n",
       "      <th>tweet</th>\n",
       "      <th>conversation_id</th>\n",
       "      <th>date</th>\n",
       "      <th>hashtags</th>\n",
       "      <th>id</th>\n",
       "      <th>inReplyToTweetId</th>\n",
       "      <th>reply_to</th>\n",
       "      <th>language</th>\n",
       "      <th>likes_count</th>\n",
       "      <th>media</th>\n",
       "      <th>...</th>\n",
       "      <th>favourites_count</th>\n",
       "      <th>user_status_count</th>\n",
       "      <th>location</th>\n",
       "      <th>name</th>\n",
       "      <th>description</th>\n",
       "      <th>verified</th>\n",
       "      <th>url</th>\n",
       "      <th>user_id</th>\n",
       "      <th>username</th>\n",
       "      <th>is_query</th>\n",
       "    </tr>\n",
       "  </thead>\n",
       "  <tbody>\n",
       "    <tr>\n",
       "      <th>1567</th>\n",
       "      <td>@Akshaynachankar We are glad that your issue h...</td>\n",
       "      <td>1335260303009882112</td>\n",
       "      <td>2020-12-08 03:46:00+00:00</td>\n",
       "      <td>NaN</td>\n",
       "      <td>1336155039874727937</td>\n",
       "      <td>1336005306766172160</td>\n",
       "      <td>https://twitter.com/Akshaynachankar</td>\n",
       "      <td>en</td>\n",
       "      <td>0</td>\n",
       "      <td>NaN</td>\n",
       "      <td>...</td>\n",
       "      <td>2718</td>\n",
       "      <td>232171</td>\n",
       "      <td>India</td>\n",
       "      <td>MobiKwik Support</td>\n",
       "      <td>Official Support handle of @MobiKwik | We're h...</td>\n",
       "      <td>True</td>\n",
       "      <td>https://www.mobikwik.com/help</td>\n",
       "      <td>3037981994</td>\n",
       "      <td>MobiKwikSWAT</td>\n",
       "      <td>2</td>\n",
       "    </tr>\n",
       "  </tbody>\n",
       "</table>\n",
       "<p>1 rows × 28 columns</p>\n",
       "</div>"
      ],
      "text/plain": [
       "                                                  tweet      conversation_id  \\\n",
       "1567  @Akshaynachankar We are glad that your issue h...  1335260303009882112   \n",
       "\n",
       "                          date hashtags                   id  \\\n",
       "1567 2020-12-08 03:46:00+00:00      NaN  1336155039874727937   \n",
       "\n",
       "         inReplyToTweetId                             reply_to language  \\\n",
       "1567  1336005306766172160  https://twitter.com/Akshaynachankar       en   \n",
       "\n",
       "      likes_count media  ... favourites_count  user_status_count location  \\\n",
       "1567            0   NaN  ...             2718             232171    India   \n",
       "\n",
       "                  name                                        description  \\\n",
       "1567  MobiKwik Support  Official Support handle of @MobiKwik | We're h...   \n",
       "\n",
       "     verified                            url     user_id      username  \\\n",
       "1567     True  https://www.mobikwik.com/help  3037981994  MobiKwikSWAT   \n",
       "\n",
       "      is_query  \n",
       "1567         2  \n",
       "\n",
       "[1 rows x 28 columns]"
      ]
     },
     "execution_count": 37,
     "metadata": {},
     "output_type": "execute_result"
    }
   ],
   "source": [
    "df[df['conversation_id'] == '1335260303009882112']"
   ]
  },
  {
   "cell_type": "markdown",
   "metadata": {},
   "source": [
    "https://twitter.com/MobiKwikSWAT/status/1343765688704331776\n",
    "\n",
    "https://twitter.com/MobiKwikSWAT/status/1336155039874727937"
   ]
  },
  {
   "cell_type": "markdown",
   "metadata": {},
   "source": [
    "## Resolution time"
   ]
  },
  {
   "cell_type": "markdown",
   "metadata": {},
   "source": [
    "Assuming that if the last query in the conversation is from the company then the issue is resolved.  \n",
    "Resolution time is the time difference between the last date of last tweet in the conversation and the date of first query."
   ]
  },
  {
   "cell_type": "code",
   "execution_count": 38,
   "metadata": {},
   "outputs": [],
   "source": [
    "result['resolution_time'] = 0"
   ]
  },
  {
   "cell_type": "code",
   "execution_count": 39,
   "metadata": {},
   "outputs": [],
   "source": [
    "for index, conversation_id in enumerate(conversation_ids):\n",
    "    tmp = df[df['conversation_id'] == conversation_id]\n",
    "    tmp.sort_values('date', ascending=True, inplace=True)\n",
    "    comp_tmp = tmp[tmp['username'] == company_username]\n",
    "    if tmp.iloc[-1]['username'] == company_username:\n",
    "        resolution_time = (tmp.iloc[-1]['date'] - tmp.iloc[0]['date']) / datetime.timedelta(hours=1)\n",
    "        result.at[index, 'resolution_time'] = resolution_time"
   ]
  },
  {
   "cell_type": "code",
   "execution_count": 40,
   "metadata": {},
   "outputs": [
    {
     "name": "stdout",
     "output_type": "stream",
     "text": [
      "Number of queries resolved: 105\n",
      "Number of queries unresolved: 129\n"
     ]
    }
   ],
   "source": [
    "print(f\"Number of queries resolved: {len(result['resolution_time'].to_numpy().nonzero()[0])}\")\n",
    "print(f\"Number of queries unresolved: {result.shape[0] - len(result['resolution_time'].to_numpy().nonzero()[0])}\")"
   ]
  },
  {
   "cell_type": "code",
   "execution_count": 41,
   "metadata": {},
   "outputs": [
    {
     "data": {
      "image/svg+xml": "<svg class=\"main-svg\" xmlns=\"http://www.w3.org/2000/svg\" xmlns:xlink=\"http://www.w3.org/1999/xlink\" width=\"900\" height=\"500\" style=\"\" viewBox=\"0 0 900 500\"><rect x=\"0\" y=\"0\" width=\"900\" height=\"500\" style=\"fill: rgb(255, 255, 255); fill-opacity: 1;\"/><defs id=\"defs-e27591\"><g class=\"clips\"><clipPath id=\"clipe27591xyplot\" class=\"plotclip\"><rect width=\"740\" height=\"266.112\"/></clipPath><clipPath id=\"clipe27591x2y2plot\" class=\"plotclip\"><rect width=\"740\" height=\"50.687999999999995\"/></clipPath><clipPath class=\"axesclip\" id=\"clipe27591x\"><rect x=\"80\" y=\"0\" width=\"740\" height=\"500\"/></clipPath><clipPath class=\"axesclip\" id=\"clipe27591y\"><rect x=\"0\" y=\"153.888\" width=\"900\" height=\"266.112\"/></clipPath><clipPath class=\"axesclip\" id=\"clipe27591xy\"><rect x=\"80\" y=\"153.888\" width=\"740\" height=\"266.112\"/></clipPath><clipPath class=\"axesclip\" id=\"clipe27591y2\"><rect x=\"0\" y=\"100\" width=\"900\" height=\"50.687999999999995\"/></clipPath><clipPath class=\"axesclip\" id=\"clipe27591xy2\"><rect x=\"80\" y=\"100\" width=\"740\" height=\"50.687999999999995\"/></clipPath><clipPath class=\"axesclip\" id=\"clipe27591x2\"><rect x=\"80\" y=\"0\" width=\"740\" height=\"500\"/></clipPath><clipPath class=\"axesclip\" id=\"clipe27591x2y\"><rect x=\"80\" y=\"153.888\" width=\"740\" height=\"266.112\"/></clipPath><clipPath class=\"axesclip\" id=\"clipe27591x2y2\"><rect x=\"80\" y=\"100\" width=\"740\" height=\"50.687999999999995\"/></clipPath></g><g class=\"gradients\"/><g class=\"patterns\"/></defs><g class=\"bglayer\"><rect class=\"bg\" x=\"80\" y=\"153.888\" width=\"740\" height=\"266.112\" style=\"fill: rgb(229, 236, 246); fill-opacity: 1; stroke-width: 0;\"/><rect class=\"bg\" x=\"80\" y=\"100\" width=\"740\" height=\"50.687999999999995\" style=\"fill: rgb(229, 236, 246); fill-opacity: 1; stroke-width: 0;\"/></g><g class=\"layer-below\"><g class=\"imagelayer\"/><g class=\"shapelayer\"/></g><g class=\"cartesianlayer\"><g class=\"subplot xy\"><g class=\"layer-subplot\"><g class=\"shapelayer\"/><g class=\"imagelayer\"/></g><g class=\"minor-gridlayer\"><g class=\"x\"/><g class=\"y\"/></g><g class=\"gridlayer\"><g class=\"x\"/><g class=\"y\"><path class=\"ygrid crisp\" transform=\"translate(0,406.698)\" d=\"M80,0h740\" style=\"stroke: rgb(255, 255, 255); stroke-opacity: 1; stroke-width: 1px;\"/><path class=\"ygrid crisp\" transform=\"translate(0,375.618)\" d=\"M80,0h740\" style=\"stroke: rgb(255, 255, 255); stroke-opacity: 1; stroke-width: 1px;\"/><path class=\"ygrid crisp\" transform=\"translate(0,334.538)\" d=\"M80,0h740\" style=\"stroke: rgb(255, 255, 255); stroke-opacity: 1; stroke-width: 1px;\"/><path class=\"ygrid crisp\" transform=\"translate(0,303.468)\" d=\"M80,0h740\" style=\"stroke: rgb(255, 255, 255); stroke-opacity: 1; stroke-width: 1px;\"/><path class=\"ygrid crisp\" transform=\"translate(0,272.398)\" d=\"M80,0h740\" style=\"stroke: rgb(255, 255, 255); stroke-opacity: 1; stroke-width: 1px;\"/><path class=\"ygrid crisp\" transform=\"translate(0,231.318)\" d=\"M80,0h740\" style=\"stroke: rgb(255, 255, 255); stroke-opacity: 1; stroke-width: 1px;\"/><path class=\"ygrid crisp\" transform=\"translate(0,200.238)\" d=\"M80,0h740\" style=\"stroke: rgb(255, 255, 255); stroke-opacity: 1; stroke-width: 1px;\"/><path class=\"ygrid crisp\" transform=\"translate(0,169.168)\" d=\"M80,0h740\" style=\"stroke: rgb(255, 255, 255); stroke-opacity: 1; stroke-width: 1px;\"/></g></g><g class=\"zerolinelayer\"/><path class=\"xlines-below\"/><path class=\"ylines-below\"/><g class=\"overlines-below\"/><g class=\"xaxislayer-below\"/><g class=\"yaxislayer-below\"/><g class=\"overaxes-below\"/><g class=\"plot\" transform=\"translate(80,153.888)\" clip-path=\"url(#clipe27591xyplot)\"><g class=\"barlayer mlayer\"><g class=\"trace bars\" shape-rendering=\"crispEdges\" style=\"opacity: 1;\"><g class=\"points\"><g class=\"point\"><path d=\"M28.44,2794.18V13.31H45.64V2794.18Z\" style=\"vector-effect: non-scaling-stroke; opacity: 1; stroke-width: 0px; fill: rgb(99, 110, 250); fill-opacity: 1;\"/></g><g class=\"point\"><path d=\"M45.64,2794.18V123.23H62.84V2794.18Z\" style=\"vector-effect: non-scaling-stroke; opacity: 1; stroke-width: 0px; fill: rgb(99, 110, 250); fill-opacity: 1;\"/></g><g class=\"point\"><path d=\"M62.84,2794.18V203.55H80.04V2794.18Z\" style=\"vector-effect: non-scaling-stroke; opacity: 1; stroke-width: 0px; fill: rgb(99, 110, 250); fill-opacity: 1;\"/></g><g class=\"point\"><path d=\"M80.04,2794.18V221.73H97.23V2794.18Z\" style=\"vector-effect: non-scaling-stroke; opacity: 1; stroke-width: 0px; fill: rgb(99, 110, 250); fill-opacity: 1;\"/></g><g class=\"point\"><path d=\"M0,0Z\" style=\"vector-effect: non-scaling-stroke; opacity: 1; stroke-width: 0px; fill: rgb(99, 110, 250); fill-opacity: 1;\"/></g><g class=\"point\"><path d=\"M114.43,2794.18V252.81H131.63V2794.18Z\" style=\"vector-effect: non-scaling-stroke; opacity: 1; stroke-width: 0px; fill: rgb(99, 110, 250); fill-opacity: 1;\"/></g><g class=\"point\"><path d=\"M0,0Z\" style=\"vector-effect: non-scaling-stroke; opacity: 1; stroke-width: 0px; fill: rgb(99, 110, 250); fill-opacity: 1;\"/></g><g class=\"point\"><path d=\"M0,0Z\" style=\"vector-effect: non-scaling-stroke; opacity: 1; stroke-width: 0px; fill: rgb(99, 110, 250); fill-opacity: 1;\"/></g><g class=\"point\"><path d=\"M0,0Z\" style=\"vector-effect: non-scaling-stroke; opacity: 1; stroke-width: 0px; fill: rgb(99, 110, 250); fill-opacity: 1;\"/></g><g class=\"point\"><path d=\"M0,0Z\" style=\"vector-effect: non-scaling-stroke; opacity: 1; stroke-width: 0px; fill: rgb(99, 110, 250); fill-opacity: 1;\"/></g><g class=\"point\"><path d=\"M0,0Z\" style=\"vector-effect: non-scaling-stroke; opacity: 1; stroke-width: 0px; fill: rgb(99, 110, 250); fill-opacity: 1;\"/></g><g class=\"point\"><path d=\"M0,0Z\" style=\"vector-effect: non-scaling-stroke; opacity: 1; stroke-width: 0px; fill: rgb(99, 110, 250); fill-opacity: 1;\"/></g><g class=\"point\"><path d=\"M0,0Z\" style=\"vector-effect: non-scaling-stroke; opacity: 1; stroke-width: 0px; fill: rgb(99, 110, 250); fill-opacity: 1;\"/></g><g class=\"point\"><path d=\"M0,0Z\" style=\"vector-effect: non-scaling-stroke; opacity: 1; stroke-width: 0px; fill: rgb(99, 110, 250); fill-opacity: 1;\"/></g><g class=\"point\"><path d=\"M0,0Z\" style=\"vector-effect: non-scaling-stroke; opacity: 1; stroke-width: 0px; fill: rgb(99, 110, 250); fill-opacity: 1;\"/></g><g class=\"point\"><path d=\"M0,0Z\" style=\"vector-effect: non-scaling-stroke; opacity: 1; stroke-width: 0px; fill: rgb(99, 110, 250); fill-opacity: 1;\"/></g><g class=\"point\"><path d=\"M0,0Z\" style=\"vector-effect: non-scaling-stroke; opacity: 1; stroke-width: 0px; fill: rgb(99, 110, 250); fill-opacity: 1;\"/></g><g class=\"point\"><path d=\"M0,0Z\" style=\"vector-effect: non-scaling-stroke; opacity: 1; stroke-width: 0px; fill: rgb(99, 110, 250); fill-opacity: 1;\"/></g><g class=\"point\"><path d=\"M0,0Z\" style=\"vector-effect: non-scaling-stroke; opacity: 1; stroke-width: 0px; fill: rgb(99, 110, 250); fill-opacity: 1;\"/></g><g class=\"point\"><path d=\"M0,0Z\" style=\"vector-effect: non-scaling-stroke; opacity: 1; stroke-width: 0px; fill: rgb(99, 110, 250); fill-opacity: 1;\"/></g><g class=\"point\"><path d=\"M0,0Z\" style=\"vector-effect: non-scaling-stroke; opacity: 1; stroke-width: 0px; fill: rgb(99, 110, 250); fill-opacity: 1;\"/></g><g class=\"point\"><path d=\"M0,0Z\" style=\"vector-effect: non-scaling-stroke; opacity: 1; stroke-width: 0px; fill: rgb(99, 110, 250); fill-opacity: 1;\"/></g><g class=\"point\"><path d=\"M0,0Z\" style=\"vector-effect: non-scaling-stroke; opacity: 1; stroke-width: 0px; fill: rgb(99, 110, 250); fill-opacity: 1;\"/></g><g class=\"point\"><path d=\"M0,0Z\" style=\"vector-effect: non-scaling-stroke; opacity: 1; stroke-width: 0px; fill: rgb(99, 110, 250); fill-opacity: 1;\"/></g><g class=\"point\"><path d=\"M0,0Z\" style=\"vector-effect: non-scaling-stroke; opacity: 1; stroke-width: 0px; fill: rgb(99, 110, 250); fill-opacity: 1;\"/></g><g class=\"point\"><path d=\"M0,0Z\" style=\"vector-effect: non-scaling-stroke; opacity: 1; stroke-width: 0px; fill: rgb(99, 110, 250); fill-opacity: 1;\"/></g><g class=\"point\"><path d=\"M0,0Z\" style=\"vector-effect: non-scaling-stroke; opacity: 1; stroke-width: 0px; fill: rgb(99, 110, 250); fill-opacity: 1;\"/></g><g class=\"point\"><path d=\"M0,0Z\" style=\"vector-effect: non-scaling-stroke; opacity: 1; stroke-width: 0px; fill: rgb(99, 110, 250); fill-opacity: 1;\"/></g><g class=\"point\"><path d=\"M0,0Z\" style=\"vector-effect: non-scaling-stroke; opacity: 1; stroke-width: 0px; fill: rgb(99, 110, 250); fill-opacity: 1;\"/></g><g class=\"point\"><path d=\"M0,0Z\" style=\"vector-effect: non-scaling-stroke; opacity: 1; stroke-width: 0px; fill: rgb(99, 110, 250); fill-opacity: 1;\"/></g><g class=\"point\"><path d=\"M0,0Z\" style=\"vector-effect: non-scaling-stroke; opacity: 1; stroke-width: 0px; fill: rgb(99, 110, 250); fill-opacity: 1;\"/></g><g class=\"point\"><path d=\"M0,0Z\" style=\"vector-effect: non-scaling-stroke; opacity: 1; stroke-width: 0px; fill: rgb(99, 110, 250); fill-opacity: 1;\"/></g><g class=\"point\"><path d=\"M0,0Z\" style=\"vector-effect: non-scaling-stroke; opacity: 1; stroke-width: 0px; fill: rgb(99, 110, 250); fill-opacity: 1;\"/></g><g class=\"point\"><path d=\"M0,0Z\" style=\"vector-effect: non-scaling-stroke; opacity: 1; stroke-width: 0px; fill: rgb(99, 110, 250); fill-opacity: 1;\"/></g><g class=\"point\"><path d=\"M0,0Z\" style=\"vector-effect: non-scaling-stroke; opacity: 1; stroke-width: 0px; fill: rgb(99, 110, 250); fill-opacity: 1;\"/></g><g class=\"point\"><path d=\"M0,0Z\" style=\"vector-effect: non-scaling-stroke; opacity: 1; stroke-width: 0px; fill: rgb(99, 110, 250); fill-opacity: 1;\"/></g><g class=\"point\"><path d=\"M0,0Z\" style=\"vector-effect: non-scaling-stroke; opacity: 1; stroke-width: 0px; fill: rgb(99, 110, 250); fill-opacity: 1;\"/></g><g class=\"point\"><path d=\"M0,0Z\" style=\"vector-effect: non-scaling-stroke; opacity: 1; stroke-width: 0px; fill: rgb(99, 110, 250); fill-opacity: 1;\"/></g><g class=\"point\"><path d=\"M0,0Z\" style=\"vector-effect: non-scaling-stroke; opacity: 1; stroke-width: 0px; fill: rgb(99, 110, 250); fill-opacity: 1;\"/></g><g class=\"point\"><path d=\"M699.14,2794.18V252.81H716.34V2794.18Z\" style=\"vector-effect: non-scaling-stroke; opacity: 1; stroke-width: 0px; fill: rgb(99, 110, 250); fill-opacity: 1;\"/></g></g></g></g></g><g class=\"overplot\"/><path class=\"xlines-above crisp\" d=\"M0,0\" style=\"fill: none;\"/><path class=\"ylines-above crisp\" d=\"M0,0\" style=\"fill: none;\"/><g class=\"overlines-above\"/><g class=\"xaxislayer-above\"><g class=\"xtick\"><text text-anchor=\"middle\" x=\"0\" y=\"433\" transform=\"translate(117.03999999999999,0)\" style=\"font-family: 'Open Sans', verdana, arial, sans-serif; font-size: 12px; fill: rgb(42, 63, 95); fill-opacity: 1; white-space: pre; opacity: 1;\">0</text></g><g class=\"xtick\"><text text-anchor=\"middle\" x=\"0\" y=\"433\" style=\"font-family: 'Open Sans', verdana, arial, sans-serif; font-size: 12px; fill: rgb(42, 63, 95); fill-opacity: 1; white-space: pre; opacity: 1;\" transform=\"translate(203.03,0)\">500</text></g><g class=\"xtick\"><text text-anchor=\"middle\" x=\"0\" y=\"433\" style=\"font-family: 'Open Sans', verdana, arial, sans-serif; font-size: 12px; fill: rgb(42, 63, 95); fill-opacity: 1; white-space: pre; opacity: 1;\" transform=\"translate(289.02,0)\">1000</text></g><g class=\"xtick\"><text text-anchor=\"middle\" x=\"0\" y=\"433\" style=\"font-family: 'Open Sans', verdana, arial, sans-serif; font-size: 12px; fill: rgb(42, 63, 95); fill-opacity: 1; white-space: pre; opacity: 1;\" transform=\"translate(375,0)\">1500</text></g><g class=\"xtick\"><text text-anchor=\"middle\" x=\"0\" y=\"433\" style=\"font-family: 'Open Sans', verdana, arial, sans-serif; font-size: 12px; fill: rgb(42, 63, 95); fill-opacity: 1; white-space: pre; opacity: 1;\" transform=\"translate(460.99,0)\">2000</text></g><g class=\"xtick\"><text text-anchor=\"middle\" x=\"0\" y=\"433\" style=\"font-family: 'Open Sans', verdana, arial, sans-serif; font-size: 12px; fill: rgb(42, 63, 95); fill-opacity: 1; white-space: pre; opacity: 1;\" transform=\"translate(546.98,0)\">2500</text></g><g class=\"xtick\"><text text-anchor=\"middle\" x=\"0\" y=\"433\" style=\"font-family: 'Open Sans', verdana, arial, sans-serif; font-size: 12px; fill: rgb(42, 63, 95); fill-opacity: 1; white-space: pre; opacity: 1;\" transform=\"translate(632.96,0)\">3000</text></g><g class=\"xtick\"><text text-anchor=\"middle\" x=\"0\" y=\"433\" style=\"font-family: 'Open Sans', verdana, arial, sans-serif; font-size: 12px; fill: rgb(42, 63, 95); fill-opacity: 1; white-space: pre; opacity: 1;\" transform=\"translate(718.95,0)\">3500</text></g><g class=\"xtick\"><text text-anchor=\"middle\" x=\"0\" y=\"433\" style=\"font-family: 'Open Sans', verdana, arial, sans-serif; font-size: 12px; fill: rgb(42, 63, 95); fill-opacity: 1; white-space: pre; opacity: 1;\" transform=\"translate(804.94,0)\">4000</text></g></g><g class=\"yaxislayer-above\"><g class=\"ytick\"><text text-anchor=\"end\" x=\"79\" y=\"4.199999999999999\" transform=\"translate(0,406.698)\" style=\"font-family: 'Open Sans', verdana, arial, sans-serif; font-size: 12px; fill: rgb(42, 63, 95); fill-opacity: 1; white-space: pre; opacity: 1;\">1</text></g><g class=\"ytick\"><text text-anchor=\"end\" x=\"79\" y=\"3.15\" style=\"font-family: 'Open Sans', verdana, arial, sans-serif; font-size: 9px; fill: rgb(42, 63, 95); fill-opacity: 1; white-space: pre; opacity: 1;\" transform=\"translate(0,375.618)\">2</text></g><g class=\"ytick\"><text text-anchor=\"end\" x=\"79\" y=\"3.15\" style=\"font-family: 'Open Sans', verdana, arial, sans-serif; font-size: 9px; fill: rgb(42, 63, 95); fill-opacity: 1; white-space: pre; opacity: 1;\" transform=\"translate(0,334.538)\">5</text></g><g class=\"ytick\"><text text-anchor=\"end\" x=\"79\" y=\"4.199999999999999\" style=\"font-family: 'Open Sans', verdana, arial, sans-serif; font-size: 12px; fill: rgb(42, 63, 95); fill-opacity: 1; white-space: pre; opacity: 1;\" transform=\"translate(0,303.468)\">10</text></g><g class=\"ytick\"><text text-anchor=\"end\" x=\"79\" y=\"3.15\" style=\"font-family: 'Open Sans', verdana, arial, sans-serif; font-size: 9px; fill: rgb(42, 63, 95); fill-opacity: 1; white-space: pre; opacity: 1;\" transform=\"translate(0,272.398)\">2</text></g><g class=\"ytick\"><text text-anchor=\"end\" x=\"79\" y=\"3.15\" style=\"font-family: 'Open Sans', verdana, arial, sans-serif; font-size: 9px; fill: rgb(42, 63, 95); fill-opacity: 1; white-space: pre; opacity: 1;\" transform=\"translate(0,231.318)\">5</text></g><g class=\"ytick\"><text text-anchor=\"end\" x=\"79\" y=\"4.199999999999999\" style=\"font-family: 'Open Sans', verdana, arial, sans-serif; font-size: 12px; fill: rgb(42, 63, 95); fill-opacity: 1; white-space: pre; opacity: 1;\" transform=\"translate(0,200.238)\">100</text></g><g class=\"ytick\"><text text-anchor=\"end\" x=\"79\" y=\"3.15\" style=\"font-family: 'Open Sans', verdana, arial, sans-serif; font-size: 9px; fill: rgb(42, 63, 95); fill-opacity: 1; white-space: pre; opacity: 1;\" transform=\"translate(0,169.168)\">2</text></g></g><g class=\"overaxes-above\"/></g><g class=\"subplot x2y2\"><g class=\"layer-subplot\"><g class=\"shapelayer\"/><g class=\"imagelayer\"/></g><g class=\"minor-gridlayer\"><g class=\"x2\"/><g class=\"y2\"/></g><g class=\"gridlayer\"><g class=\"x2\"><path class=\"x2grid crisp\" transform=\"translate(203.03,0)\" d=\"M0,100v50.687999999999995\" style=\"stroke: rgb(255, 255, 255); stroke-opacity: 1; stroke-width: 1px;\"/><path class=\"x2grid crisp\" transform=\"translate(289.02,0)\" d=\"M0,100v50.687999999999995\" style=\"stroke: rgb(255, 255, 255); stroke-opacity: 1; stroke-width: 1px;\"/><path class=\"x2grid crisp\" transform=\"translate(375,0)\" d=\"M0,100v50.687999999999995\" style=\"stroke: rgb(255, 255, 255); stroke-opacity: 1; stroke-width: 1px;\"/><path class=\"x2grid crisp\" transform=\"translate(460.99,0)\" d=\"M0,100v50.687999999999995\" style=\"stroke: rgb(255, 255, 255); stroke-opacity: 1; stroke-width: 1px;\"/><path class=\"x2grid crisp\" transform=\"translate(546.98,0)\" d=\"M0,100v50.687999999999995\" style=\"stroke: rgb(255, 255, 255); stroke-opacity: 1; stroke-width: 1px;\"/><path class=\"x2grid crisp\" transform=\"translate(632.96,0)\" d=\"M0,100v50.687999999999995\" style=\"stroke: rgb(255, 255, 255); stroke-opacity: 1; stroke-width: 1px;\"/><path class=\"x2grid crisp\" transform=\"translate(718.95,0)\" d=\"M0,100v50.687999999999995\" style=\"stroke: rgb(255, 255, 255); stroke-opacity: 1; stroke-width: 1px;\"/><path class=\"x2grid crisp\" transform=\"translate(804.94,0)\" d=\"M0,100v50.687999999999995\" style=\"stroke: rgb(255, 255, 255); stroke-opacity: 1; stroke-width: 1px;\"/></g><g class=\"y2\"/></g><g class=\"zerolinelayer\"><path class=\"x2zl zl crisp\" transform=\"translate(117.03999999999999,0)\" d=\"M0,100v50.687999999999995\" style=\"stroke: rgb(255, 255, 255); stroke-opacity: 1; stroke-width: 2px;\"/></g><path class=\"xlines-below\"/><path class=\"ylines-below\"/><g class=\"overlines-below\"/><g class=\"xaxislayer-below\"/><g class=\"yaxislayer-below\"/><g class=\"overaxes-below\"/><g class=\"plot\" transform=\"translate(80,100)\" clip-path=\"url(#clipe27591x2y2plot)\"><g class=\"boxlayer mlayer\"><g class=\"trace boxes\" style=\"opacity: 1;\"><path class=\"box\" d=\"M37.04,31.55V19.13M37.04,37.76V12.93H37L37.04,19.13L37.08,12.93H37.45V37.76H37.08L37.04,31.55L37,37.76ZM37.04,25.34H37.04M37.45,25.34H38.01M37.04,31.55V19.13M38.01,31.55V19.13\" style=\"vector-effect: non-scaling-stroke; stroke-width: 2px; stroke: rgb(99, 110, 250); stroke-opacity: 1; fill: rgb(99, 110, 250); fill-opacity: 0.5;\"/><g class=\"points\"><path class=\"point\" transform=\"translate(38.73,25.34)\" d=\"M3,0A3,3 0 1,1 0,-3A3,3 0 0,1 3,0Z\" style=\"opacity: 1; stroke-width: 0px; fill: rgb(99, 110, 250); fill-opacity: 1;\"/><path class=\"point\" transform=\"translate(38.92,25.34)\" d=\"M3,0A3,3 0 1,1 0,-3A3,3 0 0,1 3,0Z\" style=\"opacity: 1; stroke-width: 0px; fill: rgb(99, 110, 250); fill-opacity: 1;\"/><path class=\"point\" transform=\"translate(38.97,25.34)\" d=\"M3,0A3,3 0 1,1 0,-3A3,3 0 0,1 3,0Z\" style=\"opacity: 1; stroke-width: 0px; fill: rgb(99, 110, 250); fill-opacity: 1;\"/><path class=\"point\" transform=\"translate(39.26,25.34)\" d=\"M3,0A3,3 0 1,1 0,-3A3,3 0 0,1 3,0Z\" style=\"opacity: 1; stroke-width: 0px; fill: rgb(99, 110, 250); fill-opacity: 1;\"/><path class=\"point\" transform=\"translate(39.36,25.34)\" d=\"M3,0A3,3 0 1,1 0,-3A3,3 0 0,1 3,0Z\" style=\"opacity: 1; stroke-width: 0px; fill: rgb(99, 110, 250); fill-opacity: 1;\"/><path class=\"point\" transform=\"translate(39.66,25.34)\" d=\"M3,0A3,3 0 1,1 0,-3A3,3 0 0,1 3,0Z\" style=\"opacity: 1; stroke-width: 0px; fill: rgb(99, 110, 250); fill-opacity: 1;\"/><path class=\"point\" transform=\"translate(40.28,25.34)\" d=\"M3,0A3,3 0 1,1 0,-3A3,3 0 0,1 3,0Z\" style=\"opacity: 1; stroke-width: 0px; fill: rgb(99, 110, 250); fill-opacity: 1;\"/><path class=\"point\" transform=\"translate(40.37,25.34)\" d=\"M3,0A3,3 0 1,1 0,-3A3,3 0 0,1 3,0Z\" style=\"opacity: 1; stroke-width: 0px; fill: rgb(99, 110, 250); fill-opacity: 1;\"/><path class=\"point\" transform=\"translate(40.4,25.34)\" d=\"M3,0A3,3 0 1,1 0,-3A3,3 0 0,1 3,0Z\" style=\"opacity: 1; stroke-width: 0px; fill: rgb(99, 110, 250); fill-opacity: 1;\"/><path class=\"point\" transform=\"translate(40.44,25.34)\" d=\"M3,0A3,3 0 1,1 0,-3A3,3 0 0,1 3,0Z\" style=\"opacity: 1; stroke-width: 0px; fill: rgb(99, 110, 250); fill-opacity: 1;\"/><path class=\"point\" transform=\"translate(41.17,25.34)\" d=\"M3,0A3,3 0 1,1 0,-3A3,3 0 0,1 3,0Z\" style=\"opacity: 1; stroke-width: 0px; fill: rgb(99, 110, 250); fill-opacity: 1;\"/><path class=\"point\" transform=\"translate(41.28,25.34)\" d=\"M3,0A3,3 0 1,1 0,-3A3,3 0 0,1 3,0Z\" style=\"opacity: 1; stroke-width: 0px; fill: rgb(99, 110, 250); fill-opacity: 1;\"/><path class=\"point\" transform=\"translate(41.28,25.34)\" d=\"M3,0A3,3 0 1,1 0,-3A3,3 0 0,1 3,0Z\" style=\"opacity: 1; stroke-width: 0px; fill: rgb(99, 110, 250); fill-opacity: 1;\"/><path class=\"point\" transform=\"translate(41.46,25.34)\" d=\"M3,0A3,3 0 1,1 0,-3A3,3 0 0,1 3,0Z\" style=\"opacity: 1; stroke-width: 0px; fill: rgb(99, 110, 250); fill-opacity: 1;\"/><path class=\"point\" transform=\"translate(41.46,25.34)\" d=\"M3,0A3,3 0 1,1 0,-3A3,3 0 0,1 3,0Z\" style=\"opacity: 1; stroke-width: 0px; fill: rgb(99, 110, 250); fill-opacity: 1;\"/><path class=\"point\" transform=\"translate(42.62,25.34)\" d=\"M3,0A3,3 0 1,1 0,-3A3,3 0 0,1 3,0Z\" style=\"opacity: 1; stroke-width: 0px; fill: rgb(99, 110, 250); fill-opacity: 1;\"/><path class=\"point\" transform=\"translate(42.81,25.34)\" d=\"M3,0A3,3 0 1,1 0,-3A3,3 0 0,1 3,0Z\" style=\"opacity: 1; stroke-width: 0px; fill: rgb(99, 110, 250); fill-opacity: 1;\"/><path class=\"point\" transform=\"translate(43.28,25.34)\" d=\"M3,0A3,3 0 1,1 0,-3A3,3 0 0,1 3,0Z\" style=\"opacity: 1; stroke-width: 0px; fill: rgb(99, 110, 250); fill-opacity: 1;\"/><path class=\"point\" transform=\"translate(44.74,25.34)\" d=\"M3,0A3,3 0 1,1 0,-3A3,3 0 0,1 3,0Z\" style=\"opacity: 1; stroke-width: 0px; fill: rgb(99, 110, 250); fill-opacity: 1;\"/><path class=\"point\" transform=\"translate(44.75,25.34)\" d=\"M3,0A3,3 0 1,1 0,-3A3,3 0 0,1 3,0Z\" style=\"opacity: 1; stroke-width: 0px; fill: rgb(99, 110, 250); fill-opacity: 1;\"/><path class=\"point\" transform=\"translate(46.07,25.34)\" d=\"M3,0A3,3 0 1,1 0,-3A3,3 0 0,1 3,0Z\" style=\"opacity: 1; stroke-width: 0px; fill: rgb(99, 110, 250); fill-opacity: 1;\"/><path class=\"point\" transform=\"translate(46.14,25.34)\" d=\"M3,0A3,3 0 1,1 0,-3A3,3 0 0,1 3,0Z\" style=\"opacity: 1; stroke-width: 0px; fill: rgb(99, 110, 250); fill-opacity: 1;\"/><path class=\"point\" transform=\"translate(46.33,25.34)\" d=\"M3,0A3,3 0 1,1 0,-3A3,3 0 0,1 3,0Z\" style=\"opacity: 1; stroke-width: 0px; fill: rgb(99, 110, 250); fill-opacity: 1;\"/><path class=\"point\" transform=\"translate(46.37,25.34)\" d=\"M3,0A3,3 0 1,1 0,-3A3,3 0 0,1 3,0Z\" style=\"opacity: 1; stroke-width: 0px; fill: rgb(99, 110, 250); fill-opacity: 1;\"/><path class=\"point\" transform=\"translate(46.55,25.34)\" d=\"M3,0A3,3 0 1,1 0,-3A3,3 0 0,1 3,0Z\" style=\"opacity: 1; stroke-width: 0px; fill: rgb(99, 110, 250); fill-opacity: 1;\"/><path class=\"point\" transform=\"translate(46.87,25.34)\" d=\"M3,0A3,3 0 1,1 0,-3A3,3 0 0,1 3,0Z\" style=\"opacity: 1; stroke-width: 0px; fill: rgb(99, 110, 250); fill-opacity: 1;\"/><path class=\"point\" transform=\"translate(46.92,25.34)\" d=\"M3,0A3,3 0 1,1 0,-3A3,3 0 0,1 3,0Z\" style=\"opacity: 1; stroke-width: 0px; fill: rgb(99, 110, 250); fill-opacity: 1;\"/><path class=\"point\" transform=\"translate(47.41,25.34)\" d=\"M3,0A3,3 0 1,1 0,-3A3,3 0 0,1 3,0Z\" style=\"opacity: 1; stroke-width: 0px; fill: rgb(99, 110, 250); fill-opacity: 1;\"/><path class=\"point\" transform=\"translate(48.55,25.34)\" d=\"M3,0A3,3 0 1,1 0,-3A3,3 0 0,1 3,0Z\" style=\"opacity: 1; stroke-width: 0px; fill: rgb(99, 110, 250); fill-opacity: 1;\"/><path class=\"point\" transform=\"translate(49.27,25.34)\" d=\"M3,0A3,3 0 1,1 0,-3A3,3 0 0,1 3,0Z\" style=\"opacity: 1; stroke-width: 0px; fill: rgb(99, 110, 250); fill-opacity: 1;\"/><path class=\"point\" transform=\"translate(49.34,25.34)\" d=\"M3,0A3,3 0 1,1 0,-3A3,3 0 0,1 3,0Z\" style=\"opacity: 1; stroke-width: 0px; fill: rgb(99, 110, 250); fill-opacity: 1;\"/><path class=\"point\" transform=\"translate(49.52,25.34)\" d=\"M3,0A3,3 0 1,1 0,-3A3,3 0 0,1 3,0Z\" style=\"opacity: 1; stroke-width: 0px; fill: rgb(99, 110, 250); fill-opacity: 1;\"/><path class=\"point\" transform=\"translate(49.94,25.34)\" d=\"M3,0A3,3 0 1,1 0,-3A3,3 0 0,1 3,0Z\" style=\"opacity: 1; stroke-width: 0px; fill: rgb(99, 110, 250); fill-opacity: 1;\"/><path class=\"point\" transform=\"translate(50.02,25.34)\" d=\"M3,0A3,3 0 1,1 0,-3A3,3 0 0,1 3,0Z\" style=\"opacity: 1; stroke-width: 0px; fill: rgb(99, 110, 250); fill-opacity: 1;\"/><path class=\"point\" transform=\"translate(51.57,25.34)\" d=\"M3,0A3,3 0 1,1 0,-3A3,3 0 0,1 3,0Z\" style=\"opacity: 1; stroke-width: 0px; fill: rgb(99, 110, 250); fill-opacity: 1;\"/><path class=\"point\" transform=\"translate(55.97,25.34)\" d=\"M3,0A3,3 0 1,1 0,-3A3,3 0 0,1 3,0Z\" style=\"opacity: 1; stroke-width: 0px; fill: rgb(99, 110, 250); fill-opacity: 1;\"/><path class=\"point\" transform=\"translate(58.02,25.34)\" d=\"M3,0A3,3 0 1,1 0,-3A3,3 0 0,1 3,0Z\" style=\"opacity: 1; stroke-width: 0px; fill: rgb(99, 110, 250); fill-opacity: 1;\"/><path class=\"point\" transform=\"translate(61.75,25.34)\" d=\"M3,0A3,3 0 1,1 0,-3A3,3 0 0,1 3,0Z\" style=\"opacity: 1; stroke-width: 0px; fill: rgb(99, 110, 250); fill-opacity: 1;\"/><path class=\"point\" transform=\"translate(65.58,25.34)\" d=\"M3,0A3,3 0 1,1 0,-3A3,3 0 0,1 3,0Z\" style=\"opacity: 1; stroke-width: 0px; fill: rgb(99, 110, 250); fill-opacity: 1;\"/><path class=\"point\" transform=\"translate(69.35,25.34)\" d=\"M3,0A3,3 0 1,1 0,-3A3,3 0 0,1 3,0Z\" style=\"opacity: 1; stroke-width: 0px; fill: rgb(99, 110, 250); fill-opacity: 1;\"/><path class=\"point\" transform=\"translate(70.32,25.34)\" d=\"M3,0A3,3 0 1,1 0,-3A3,3 0 0,1 3,0Z\" style=\"opacity: 1; stroke-width: 0px; fill: rgb(99, 110, 250); fill-opacity: 1;\"/><path class=\"point\" transform=\"translate(89.13,25.34)\" d=\"M3,0A3,3 0 1,1 0,-3A3,3 0 0,1 3,0Z\" style=\"opacity: 1; stroke-width: 0px; fill: rgb(99, 110, 250); fill-opacity: 1;\"/><path class=\"point\" transform=\"translate(91.27,25.34)\" d=\"M3,0A3,3 0 1,1 0,-3A3,3 0 0,1 3,0Z\" style=\"opacity: 1; stroke-width: 0px; fill: rgb(99, 110, 250); fill-opacity: 1;\"/><path class=\"point\" transform=\"translate(119.85,25.34)\" d=\"M3,0A3,3 0 1,1 0,-3A3,3 0 0,1 3,0Z\" style=\"opacity: 1; stroke-width: 0px; fill: rgb(99, 110, 250); fill-opacity: 1;\"/><path class=\"point\" transform=\"translate(703,25.34)\" d=\"M3,0A3,3 0 1,1 0,-3A3,3 0 0,1 3,0Z\" style=\"opacity: 1; stroke-width: 0px; fill: rgb(99, 110, 250); fill-opacity: 1;\"/></g></g></g></g><g class=\"overplot\"/><path class=\"xlines-above crisp\" d=\"M0,0\" style=\"fill: none;\"/><path class=\"ylines-above crisp\" d=\"M0,0\" style=\"fill: none;\"/><g class=\"overlines-above\"/><g class=\"xaxislayer-above\"/><g class=\"yaxislayer-above\"/><g class=\"overaxes-above\"/></g></g><g class=\"polarlayer\"/><g class=\"smithlayer\"/><g class=\"ternarylayer\"/><g class=\"geolayer\"/><g class=\"funnelarealayer\"/><g class=\"pielayer\"/><g class=\"iciclelayer\"/><g class=\"treemaplayer\"/><g class=\"sunburstlayer\"/><g class=\"glimages\"/><defs id=\"topdefs-e27591\"><g class=\"clips\"/></defs><g class=\"layer-above\"><g class=\"imagelayer\"/><g class=\"shapelayer\"/></g><g class=\"infolayer\"><g class=\"g-gtitle\"><text class=\"gtitle\" x=\"45\" y=\"50\" text-anchor=\"start\" dy=\"0em\" style=\"font-family: 'Open Sans', verdana, arial, sans-serif; font-size: 17px; fill: rgb(42, 63, 95); opacity: 1; font-weight: normal; white-space: pre;\">Distribution of resolution time</text></g><g class=\"g-xtitle\"><text class=\"xtitle\" x=\"450\" y=\"460.3\" text-anchor=\"middle\" style=\"font-family: 'Open Sans', verdana, arial, sans-serif; font-size: 14px; fill: rgb(42, 63, 95); opacity: 1; font-weight: normal; white-space: pre;\">resolution_time</text></g><g class=\"g-x2title\"/><g class=\"g-ytitle\"><text class=\"ytitle\" transform=\"rotate(-90,31.309375000000003,286.944)\" x=\"31.309375000000003\" y=\"286.944\" text-anchor=\"middle\" style=\"font-family: 'Open Sans', verdana, arial, sans-serif; font-size: 14px; fill: rgb(42, 63, 95); opacity: 1; font-weight: normal; white-space: pre;\">count</text></g><g class=\"g-y2title\"/></g></svg>"
     },
     "metadata": {},
     "output_type": "display_data"
    }
   ],
   "source": [
    "fig = px.histogram(result, x='resolution_time', log_y=True, marginal='box', title='Distribution of resolution time')\n",
    "fig.show()"
   ]
  },
  {
   "cell_type": "code",
   "execution_count": 42,
   "metadata": {},
   "outputs": [
    {
     "data": {
      "text/html": [
       "<div>\n",
       "<style scoped>\n",
       "    .dataframe tbody tr th:only-of-type {\n",
       "        vertical-align: middle;\n",
       "    }\n",
       "\n",
       "    .dataframe tbody tr th {\n",
       "        vertical-align: top;\n",
       "    }\n",
       "\n",
       "    .dataframe thead th {\n",
       "        text-align: right;\n",
       "    }\n",
       "</style>\n",
       "<table border=\"1\" class=\"dataframe\">\n",
       "  <thead>\n",
       "    <tr style=\"text-align: right;\">\n",
       "      <th></th>\n",
       "      <th>response_time</th>\n",
       "      <th>resolution_time</th>\n",
       "    </tr>\n",
       "  </thead>\n",
       "  <tbody>\n",
       "    <tr>\n",
       "      <th>count</th>\n",
       "      <td>234.000000</td>\n",
       "      <td>234.000000</td>\n",
       "    </tr>\n",
       "    <tr>\n",
       "      <th>mean</th>\n",
       "      <td>14.938972</td>\n",
       "      <td>31.573590</td>\n",
       "    </tr>\n",
       "    <tr>\n",
       "      <th>std</th>\n",
       "      <td>50.127574</td>\n",
       "      <td>257.168860</td>\n",
       "    </tr>\n",
       "    <tr>\n",
       "      <th>min</th>\n",
       "      <td>0.000000</td>\n",
       "      <td>0.000000</td>\n",
       "    </tr>\n",
       "    <tr>\n",
       "      <th>25%</th>\n",
       "      <td>0.000000</td>\n",
       "      <td>0.000000</td>\n",
       "    </tr>\n",
       "    <tr>\n",
       "      <th>50%</th>\n",
       "      <td>0.000000</td>\n",
       "      <td>0.000000</td>\n",
       "    </tr>\n",
       "    <tr>\n",
       "      <th>75%</th>\n",
       "      <td>2.466319</td>\n",
       "      <td>2.240278</td>\n",
       "    </tr>\n",
       "    <tr>\n",
       "      <th>max</th>\n",
       "      <td>481.504167</td>\n",
       "      <td>3872.435000</td>\n",
       "    </tr>\n",
       "  </tbody>\n",
       "</table>\n",
       "</div>"
      ],
      "text/plain": [
       "       response_time  resolution_time\n",
       "count     234.000000       234.000000\n",
       "mean       14.938972        31.573590\n",
       "std        50.127574       257.168860\n",
       "min         0.000000         0.000000\n",
       "25%         0.000000         0.000000\n",
       "50%         0.000000         0.000000\n",
       "75%         2.466319         2.240278\n",
       "max       481.504167      3872.435000"
      ]
     },
     "execution_count": 42,
     "metadata": {},
     "output_type": "execute_result"
    }
   ],
   "source": [
    "result.describe()"
   ]
  },
  {
   "cell_type": "markdown",
   "metadata": {},
   "source": [
    "## Query Tweets Topics\n"
   ]
  },
  {
   "cell_type": "code",
   "execution_count": 53,
   "metadata": {},
   "outputs": [
    {
     "data": {
      "text/plain": [
       "(116, 28)"
      ]
     },
     "execution_count": 53,
     "metadata": {},
     "output_type": "execute_result"
    }
   ],
   "source": [
    "queries = df[df['conversation_id'].isin(conversation_ids)]\n",
    "queries.sort_values('date', ascending=True, inplace=True)\n",
    "queries = queries[(queries['inReplyToTweetId'] == 'nan') & (queries['username'] != company_username)]\n",
    "queries.shape\n"
   ]
  },
  {
   "cell_type": "code",
   "execution_count": 54,
   "metadata": {},
   "outputs": [],
   "source": [
    "processor = Processor('./../../data/config.json')\n",
    "pre_queries, post_queries = processor.preprocess(queries)\n",
    "pre_id2word = gensim.corpora.Dictionary(pre_queries['bigram'].values.tolist())\n",
    "post_id2word = gensim.corpora.Dictionary(post_queries['bigram'].values.tolist())\n",
    "pre_corpus = [pre_id2word.doc2bow(text) for text in pre_queries['bigram'].values.tolist()]\n",
    "post_corpus = [post_id2word.doc2bow(text) for text in post_queries['bigram'].values.tolist()]\n"
   ]
  },
  {
   "cell_type": "code",
   "execution_count": 55,
   "metadata": {},
   "outputs": [
    {
     "data": {
      "text/plain": [
       "(40, 31)"
      ]
     },
     "execution_count": 55,
     "metadata": {},
     "output_type": "execute_result"
    }
   ],
   "source": [
    "pre_queries.shape\n"
   ]
  },
  {
   "cell_type": "code",
   "execution_count": 58,
   "metadata": {},
   "outputs": [
    {
     "data": {
      "text/plain": [
       "(71, 31)"
      ]
     },
     "execution_count": 58,
     "metadata": {},
     "output_type": "execute_result"
    }
   ],
   "source": [
    "post_queries.shape"
   ]
  },
  {
   "cell_type": "code",
   "execution_count": 62,
   "metadata": {},
   "outputs": [
    {
     "name": "stdout",
     "output_type": "stream",
     "text": [
      "Pre-COVID coherence Score:  -14.964770673555172\n"
     ]
    }
   ],
   "source": [
    "pre_lda_model = gensim.models.LdaMulticore(corpus=pre_corpus,\n",
    "                                        id2word=pre_id2word,\n",
    "                                        num_topics=3,\n",
    "                                        random_state=100,\n",
    "                                        chunksize=100,\n",
    "                                        passes=10,\n",
    "                                        per_word_topics=True,\n",
    "                                        alpha='asymmetric',\n",
    "                                        eta='symmetric')\n",
    "pre_coherence_model = gensim.models.CoherenceModel(model=pre_lda_model, \n",
    "                                                    texts=pre_queries['bigram'].values.tolist(), \n",
    "                                                    dictionary=pre_id2word, \n",
    "                                                    coherence='u_mass')\n",
    "pre_coherence_model_score = pre_coherence_model.get_coherence()\n",
    "print('Pre-COVID coherence Score: ', pre_coherence_model_score)\n"
   ]
  },
  {
   "cell_type": "code",
   "execution_count": 63,
   "metadata": {},
   "outputs": [
    {
     "name": "stderr",
     "output_type": "stream",
     "text": [
      "/Users/pushkar/miniforge3/envs/project/lib/python3.8/site-packages/past/builtins/misc.py:45: DeprecationWarning: the imp module is deprecated in favour of importlib; see the module's documentation for alternative uses\n",
      "  from imp import reload\n",
      "/Users/pushkar/miniforge3/envs/project/lib/python3.8/site-packages/past/builtins/misc.py:45: DeprecationWarning: the imp module is deprecated in favour of importlib; see the module's documentation for alternative uses\n",
      "  from imp import reload\n",
      "/Users/pushkar/miniforge3/envs/project/lib/python3.8/site-packages/past/builtins/misc.py:45: DeprecationWarning: the imp module is deprecated in favour of importlib; see the module's documentation for alternative uses\n",
      "  from imp import reload\n",
      "/Users/pushkar/miniforge3/envs/project/lib/python3.8/site-packages/past/builtins/misc.py:45: DeprecationWarning: the imp module is deprecated in favour of importlib; see the module's documentation for alternative uses\n",
      "  from imp import reload\n",
      "/Users/pushkar/miniforge3/envs/project/lib/python3.8/site-packages/past/builtins/misc.py:45: DeprecationWarning: the imp module is deprecated in favour of importlib; see the module's documentation for alternative uses\n",
      "  from imp import reload\n",
      "/Users/pushkar/miniforge3/envs/project/lib/python3.8/site-packages/past/builtins/misc.py:45: DeprecationWarning: the imp module is deprecated in favour of importlib; see the module's documentation for alternative uses\n",
      "  from imp import reload\n",
      "/Users/pushkar/miniforge3/envs/project/lib/python3.8/site-packages/past/builtins/misc.py:45: DeprecationWarning: the imp module is deprecated in favour of importlib; see the module's documentation for alternative uses\n",
      "  from imp import reload\n",
      "/Users/pushkar/miniforge3/envs/project/lib/python3.8/site-packages/past/builtins/misc.py:45: DeprecationWarning: the imp module is deprecated in favour of importlib; see the module's documentation for alternative uses\n",
      "  from imp import reload\n"
     ]
    },
    {
     "data": {
      "text/html": [
       "\n",
       "<link rel=\"stylesheet\" type=\"text/css\" href=\"https://cdn.jsdelivr.net/gh/bmabey/pyLDAvis@3.3.1/pyLDAvis/js/ldavis.v1.0.0.css\">\n",
       "\n",
       "\n",
       "<div id=\"ldavis_el9015260995038081106584180\"></div>\n",
       "<script type=\"text/javascript\">\n",
       "\n",
       "var ldavis_el9015260995038081106584180_data = {\"mdsDat\": {\"x\": [0.07520108214232812, -0.07190685189264323, -0.003294230249684924], \"y\": [-0.03199646685840042, -0.036605111440871405, 0.06860157829927184], \"topics\": [1, 2, 3], \"cluster\": [1, 1, 1], \"Freq\": [63.46427137495618, 22.72615941415293, 13.809569210890887]}, \"tinfo\": {\"Term\": [\"thanks\", \"transaction\", \"customer\", \"care\", \"frauds\", \"team\", \"reach\", \"ago\", \"didnt\", \"otp\", \"initiate\", \"otps\", \"id\", \"days\", \"reply\", \"supercash\", \"refund\", \"process\", \"work\", \"working\", \"resolved\", \"support\", \"received\", \"stolen\", \"rs\", \"max\", \"lying\", \"months\", \"come\", \"hrs\", \"kyc\", \"money\", \"added\", \"card\", \"issues\", \"thank\", \"having\", \"madam\", \"employees\", \"app\", \"need\", \"solved\", \"credit\", \"fast\", \"choice\", \"priority\", \"best\", \"problem\", \"use\", \"device\", \"chargeable\", \"account\", \"service\", \"users\", \"centre\", \"urgent\", \"fighting\", \"week\", \"listed\", \"blocked\", \"carina\", \"issue\", \"number\", \"times\", \"wallet\", \"im\", \"otp\", \"getting\", \"got\", \"worst\", \"pls\", \"ticket\", \"refund\", \"time\", \"daily\", \"initiate\", \"otps\", \"id\", \"transaction\", \"completely\", \"message\", \"cheat\", \"coming\", \"lapse\", \"company\", \"try\", \"sudden\", \"day\", \"basis\", \"poor\", \"services\", \"cancelled\", \"pnr\", \"settle\", \"unable\", \"eitherway\", \"instructions\", \"accounts\", \"allowed\", \"responsibility\", \"listening\", \"hope\", \"website\", \"allowing\", \"single\", \"ago\", \"didnt\", \"process\", \"otp\", \"fraud\", \"payment\", \"daily\", \"refund\", \"wallet\", \"account\", \"phone\", \"says\", \"security\", \"days\", \"team\", \"frauds\", \"reach\", \"received\", \"stolen\", \"rs\", \"max\", \"lying\", \"months\", \"hrs\", \"come\", \"lot\", \"reedemed\", \"recent\", \"finally\", \"waiting\", \"bus\", \"cancellation\", \"guys\", \"help\", \"way\", \"pathetic\", \"doesnt\", \"you\", \"valid\", \"option\", \"thanks\", \"customer\", \"care\", \"reply\", \"supercash\", \"days\", \"didnt\", \"work\", \"ago\"], \"Freq\": [2.0, 2.0, 2.0, 2.0, 1.0, 1.0, 1.0, 1.0, 1.0, 4.0, 1.0, 1.0, 1.0, 1.0, 1.0, 1.0, 3.0, 2.0, 1.0, 1.0, 1.0, 2.0, 0.0, 0.0, 0.0, 0.0, 0.0, 0.0, 0.0, 0.0, 4.545612350641219, 3.8308717663457927, 3.112621012210023, 3.112614557866611, 2.3941550305458534, 2.394071868813427, 1.6759864451666013, 1.6759693163321612, 1.675954669937495, 1.6759516910097663, 1.6759273630999816, 1.6759184263167954, 1.6759084965576998, 1.6758938501630336, 1.6757874776187205, 1.6757671216125742, 1.6756892971256614, 1.6756690652415038, 1.6755774632138456, 1.6745470024636855, 1.6726519079402642, 5.371432185061102, 2.403271542371649, 2.3999639396168595, 0.9576695960718508, 0.9576692237058847, 0.9576681066079864, 0.9576676101200317, 0.9576671756930712, 0.9576668653880994, 1.6840492854303506, 1.6829982204300669, 1.6821843525501825, 1.6797705522359978, 2.407679114190269, 1.7087637110877065, 2.4065977634247435, 1.70364343080999, 1.6885113468020085, 1.686992466026327, 1.6865626315794702, 1.6830015717237616, 1.68122079355193, 1.6789460098650855, 1.6774142204025795, 1.1756488443173214, 1.1744972145322883, 1.1734656813770954, 2.185779464432381, 0.6716959170706763, 0.6716648484014468, 0.6716651595326122, 0.6716579146211895, 0.6716458249530487, 0.6716416024586613, 0.6716360020976843, 0.6716239568768528, 0.6716321351817716, 0.6716279571346935, 0.6716241346660902, 0.6715589304632865, 0.6715402181460538, 0.6715231059319574, 0.6714785697279974, 0.6714662133760005, 0.6714556793636867, 0.6714668356383313, 0.671413143288647, 0.6713353604972997, 0.6713266488246689, 0.6712851794850534, 0.6712687784279064, 0.6712619779895772, 0.6712471325882573, 0.6712129081600644, 1.1765870381228976, 1.174852437428544, 1.178078067562061, 1.6710390863139832, 1.1791773384166901, 1.1789013206256806, 1.1744424554471797, 1.1777799150109995, 1.1670073984351854, 1.1028296617934232, 0.6737674728171464, 0.6722577755080598, 0.6720434061351067, 0.6720230492674284, 0.9042135763382858, 0.9042066621767264, 0.9024919501099948, 0.5166882171218531, 0.51668405782154, 0.5166821672304887, 0.5166642336239439, 0.5166501352163893, 0.5166480825746762, 0.5166431130210555, 0.5166431670379427, 0.5166330658800394, 0.5166235048910081, 0.516605463250689, 0.5165941737212678, 0.5158426367698932, 0.5158406381450674, 0.515794993875398, 0.5157844605823972, 0.5157757638635608, 0.5156973313433714, 0.5156909573506838, 0.5156867440334836, 0.5156859337801758, 0.5156629225862359, 0.5155939970381906, 1.2979267320321726, 0.9033005829111217, 0.9031757498848422, 0.5165226013457506, 0.5165222772444275, 0.5163678429639718, 0.5160081445122213, 0.5159506165273716, 0.5157242857700756], \"Total\": [2.0, 2.0, 2.0, 2.0, 1.0, 1.0, 1.0, 1.0, 1.0, 4.0, 1.0, 1.0, 1.0, 1.0, 1.0, 1.0, 3.0, 2.0, 1.0, 1.0, 1.0, 2.0, 0.0, 0.0, 0.0, 0.0, 0.0, 0.0, 0.0, 0.0, 4.845500900812709, 4.128486838384682, 3.410141250252186, 3.410138535847952, 2.6917289662837622, 2.691689539979098, 1.9734037704775984, 1.973397964791408, 1.9733929135768211, 1.9733922529882637, 1.9733839074230197, 1.9733807587738044, 1.9733775110976386, 1.9733725520202097, 1.9733354076316605, 1.973329511039336, 1.9732992299526442, 1.9732916183522886, 1.9732729596780079, 1.9727794046612015, 1.9722057359198826, 6.604233756191948, 3.0835715572393556, 3.082053515662397, 1.2550350696890658, 1.2550349727263885, 1.2550345748127683, 1.2550344568190472, 1.2550342519638575, 1.2550341789419037, 2.3648078029496915, 2.3643489247670946, 2.3639329726306633, 2.362839412358406, 3.7039683832375605, 2.487271467563289, 4.207563776513348, 2.485520148506686, 2.481121891804742, 2.480781477526939, 2.4806461653498246, 2.4795795842991724, 3.372025068260946, 2.4783806294638397, 2.981826194939924, 1.5451716120646088, 1.5456629330042135, 1.5461029487466615, 2.942109701771637, 1.0410035619518057, 1.0409983606751436, 1.0410166214867784, 1.0410141387010874, 1.041019424673303, 1.041026863803262, 1.041023306096624, 1.041015014645887, 1.0410308416408511, 1.0410267309243928, 1.0410340891074297, 1.0410616304656604, 1.0410698833583423, 1.0410770579683994, 1.0410645219281196, 1.0410693576287824, 1.041074548596101, 1.0411007480980061, 1.0410914316315534, 1.0411523532501918, 1.0411556601542653, 1.041173719082261, 1.0411808106954674, 1.0411797049940956, 1.041189968657344, 1.0412006089357106, 1.933476872514989, 1.9339707807901896, 2.26214594704284, 4.207563776513348, 2.9800929044636004, 2.9804965982043226, 2.981826194939924, 3.372025068260946, 3.7039683832375605, 6.604233756191948, 1.7584208913920465, 1.7590733124599172, 1.7591702886246523, 1.4290072631144273, 1.312369343080539, 1.312391195020116, 1.3138559387923534, 0.9245684843737388, 0.9245728184821652, 0.9245739256388656, 0.9245887650209026, 0.9246008427296024, 0.9246028274232012, 0.9246071435557877, 0.9246076442101092, 0.9246033898753501, 0.9246230549934663, 0.9246381914235319, 0.9246360003099088, 0.9252919676373665, 0.9252937702484446, 0.9253334324586392, 0.9253413823378185, 0.9253489334549319, 0.925416367387214, 0.92542193700476, 0.9254250082538914, 0.925425616596611, 0.9254446548245684, 0.925504147163095, 2.4131131141918365, 2.031475540927224, 2.0315840586766982, 1.4291468891812762, 1.4296651843315678, 1.4290072631144273, 1.9339707807901896, 1.6434352756903983, 1.933476872514989], \"Category\": [\"Default\", \"Default\", \"Default\", \"Default\", \"Default\", \"Default\", \"Default\", \"Default\", \"Default\", \"Default\", \"Default\", \"Default\", \"Default\", \"Default\", \"Default\", \"Default\", \"Default\", \"Default\", \"Default\", \"Default\", \"Default\", \"Default\", \"Default\", \"Default\", \"Default\", \"Default\", \"Default\", \"Default\", \"Default\", \"Default\", \"Topic1\", \"Topic1\", \"Topic1\", \"Topic1\", \"Topic1\", \"Topic1\", \"Topic1\", \"Topic1\", \"Topic1\", \"Topic1\", \"Topic1\", \"Topic1\", \"Topic1\", \"Topic1\", \"Topic1\", \"Topic1\", \"Topic1\", \"Topic1\", \"Topic1\", \"Topic1\", \"Topic1\", \"Topic1\", \"Topic1\", \"Topic1\", \"Topic1\", \"Topic1\", \"Topic1\", \"Topic1\", \"Topic1\", \"Topic1\", \"Topic1\", \"Topic1\", \"Topic1\", \"Topic1\", \"Topic1\", \"Topic1\", \"Topic1\", \"Topic1\", \"Topic1\", \"Topic1\", \"Topic1\", \"Topic1\", \"Topic1\", \"Topic1\", \"Topic1\", \"Topic2\", \"Topic2\", \"Topic2\", \"Topic2\", \"Topic2\", \"Topic2\", \"Topic2\", \"Topic2\", \"Topic2\", \"Topic2\", \"Topic2\", \"Topic2\", \"Topic2\", \"Topic2\", \"Topic2\", \"Topic2\", \"Topic2\", \"Topic2\", \"Topic2\", \"Topic2\", \"Topic2\", \"Topic2\", \"Topic2\", \"Topic2\", \"Topic2\", \"Topic2\", \"Topic2\", \"Topic2\", \"Topic2\", \"Topic2\", \"Topic2\", \"Topic2\", \"Topic2\", \"Topic2\", \"Topic2\", \"Topic2\", \"Topic2\", \"Topic2\", \"Topic2\", \"Topic2\", \"Topic2\", \"Topic2\", \"Topic2\", \"Topic2\", \"Topic3\", \"Topic3\", \"Topic3\", \"Topic3\", \"Topic3\", \"Topic3\", \"Topic3\", \"Topic3\", \"Topic3\", \"Topic3\", \"Topic3\", \"Topic3\", \"Topic3\", \"Topic3\", \"Topic3\", \"Topic3\", \"Topic3\", \"Topic3\", \"Topic3\", \"Topic3\", \"Topic3\", \"Topic3\", \"Topic3\", \"Topic3\", \"Topic3\", \"Topic3\", \"Topic3\", \"Topic3\", \"Topic3\", \"Topic3\", \"Topic3\", \"Topic3\", \"Topic3\", \"Topic3\", \"Topic3\"], \"logprob\": [30.0, 29.0, 28.0, 27.0, 26.0, 25.0, 24.0, 23.0, 22.0, 21.0, 20.0, 19.0, 18.0, 17.0, 16.0, 15.0, 14.0, 13.0, 12.0, 11.0, 10.0, 9.0, 8.0, 7.0, 6.0, 5.0, 4.0, 3.0, 2.0, 1.0, -4.0714, -4.2425, -4.4501, -4.4501, -4.7125, -4.7126, -5.0692, -5.0692, -5.0692, -5.0692, -5.0692, -5.0692, -5.0692, -5.0692, -5.0693, -5.0693, -5.0693, -5.0693, -5.0694, -5.07, -5.0712, -3.9045, -4.7087, -4.7101, -5.6288, -5.6288, -5.6288, -5.6288, -5.6288, -5.6288, -5.0644, -5.065, -5.0655, -5.0669, -4.7069, -5.0498, -4.7073, -5.0528, -5.0617, -5.0626, -5.0629, -5.065, -5.066, -5.0674, -5.0683, -4.3968, -4.3978, -4.3986, -3.7766, -4.9566, -4.9566, -4.9566, -4.9566, -4.9566, -4.9566, -4.9566, -4.9567, -4.9566, -4.9567, -4.9567, -4.9568, -4.9568, -4.9568, -4.9569, -4.9569, -4.9569, -4.9569, -4.957, -4.9571, -4.9571, -4.9572, -4.9572, -4.9572, -4.9572, -4.9573, -4.396, -4.3975, -4.3947, -4.0452, -4.3938, -4.394, -4.3978, -4.395, -4.4042, -4.4607, -4.9535, -4.9557, -4.956, -4.9561, -4.1611, -4.1611, -4.163, -4.7208, -4.7208, -4.7208, -4.7208, -4.7208, -4.7208, -4.7208, -4.7208, -4.7209, -4.7209, -4.7209, -4.7209, -4.7224, -4.7224, -4.7225, -4.7225, -4.7225, -4.7227, -4.7227, -4.7227, -4.7227, -4.7227, -4.7229, -3.7997, -4.1621, -4.1623, -4.7211, -4.7211, -4.7214, -4.7221, -4.7222, -4.7226], \"loglift\": [30.0, 29.0, 28.0, 27.0, 26.0, 25.0, 24.0, 23.0, 22.0, 21.0, 20.0, 19.0, 18.0, 17.0, 16.0, 15.0, 14.0, 13.0, 12.0, 11.0, 10.0, 9.0, 8.0, 7.0, 6.0, 5.0, 4.0, 3.0, 2.0, 1.0, 0.3908, 0.3799, 0.3634, 0.3634, 0.3375, 0.3375, 0.2913, 0.2913, 0.2913, 0.2913, 0.2913, 0.2913, 0.2913, 0.2913, 0.2913, 0.2912, 0.2912, 0.2912, 0.2912, 0.2908, 0.29, 0.2481, 0.2054, 0.2046, 0.1843, 0.1843, 0.1843, 0.1843, 0.1843, 0.1843, 0.1152, 0.1148, 0.1145, 0.1135, 0.024, 0.0793, -0.104, 0.077, 0.0698, 0.0691, 0.0689, 0.0672, -0.2413, 0.0653, -0.1206, 1.2083, 1.207, 1.2059, 1.1845, 1.0435, 1.0435, 1.0435, 1.0435, 1.0434, 1.0434, 1.0434, 1.0434, 1.0434, 1.0434, 1.0434, 1.0433, 1.0432, 1.0432, 1.0431, 1.0431, 1.0431, 1.0431, 1.043, 1.0428, 1.0428, 1.0427, 1.0427, 1.0427, 1.0427, 1.0426, 0.985, 0.9832, 0.8292, 0.5582, 0.5545, 0.5541, 0.5499, 0.4298, 0.3267, -0.3082, 0.5224, 0.5198, 0.5194, 0.7272, 1.6073, 1.6073, 1.6042, 1.3979, 1.3979, 1.3979, 1.3979, 1.3978, 1.3978, 1.3978, 1.3978, 1.3978, 1.3977, 1.3977, 1.3977, 1.3955, 1.3955, 1.3954, 1.3953, 1.3953, 1.3951, 1.3951, 1.3951, 1.3951, 1.395, 1.3948, 1.3597, 1.1693, 1.1692, 0.9621, 0.9617, 0.9619, 0.6586, 0.8213, 0.6583]}, \"token.table\": {\"Topic\": [1, 2, 2, 1, 2, 3, 2, 2, 1, 2, 1, 1, 3, 3, 2, 1, 1, 3, 1, 3, 1, 1, 2, 1, 3, 2, 2, 2, 1, 1, 3, 1, 2, 2, 2, 3, 1, 2, 3, 3, 2, 1, 1, 1, 3, 1, 2, 3, 1, 2, 1, 2, 3, 1, 3, 2, 3, 2, 1, 2, 2, 2, 1, 3, 1, 1, 2, 1, 2, 3, 3, 1, 3, 2, 1, 3, 1, 1, 3, 3, 1, 2, 2, 3, 1, 2, 1, 2, 1, 2, 2, 2, 1, 1, 1, 2, 3, 3, 3, 3, 1, 2, 3, 2, 3, 1, 3, 2, 3, 1, 2, 1, 2, 1, 3, 2, 2, 2, 1, 3, 2, 2, 3, 1, 2, 3, 3, 1, 1, 3, 1, 2, 1, 2, 1, 3, 2, 3, 2, 2, 1, 1, 1, 3, 3, 3, 1, 2, 3, 2, 1, 1, 3, 1, 3, 1, 2, 3], \"Freq\": [0.7570901007724231, 0.1514180201544846, 0.9605304295251411, 0.8797289554437502, 0.5172029798831989, 0.5172029798831989, 0.960474225389084, 0.960439526025726, 1.0134832529982039, 0.9605901273179003, 1.0135310294769622, 0.7967910490239251, 1.0807378501332572, 1.080691526883417, 0.9605503107765861, 0.879729655690962, 0.49222674086710666, 0.49222674086710666, 0.8457346924791704, 0.4228673462395852, 0.7967904835103528, 1.014092984100948, 0.9605994557241568, 1.0135124481450124, 1.081539836126164, 0.9606017467233805, 0.9605900047061461, 0.9606115065783954, 1.01349082410874, 0.4922530347294121, 0.4922530347294121, 0.6707299048462128, 0.3353649524231064, 0.960586334237534, 0.6997865062075093, 0.6997865062075093, 1.0137980938337467, 0.5170708936933452, 0.5170708936933452, 1.0805845866288162, 0.9605460063820689, 1.0134829137371093, 1.013493371007178, 0.796790797695103, 1.0815066682076315, 0.6711200167633662, 0.3355600083816831, 0.7619679283086567, 0.8046605460839298, 0.4023302730419649, 0.8060869587286665, 0.40304347936433327, 1.0806822423455882, 1.0134773379479076, 1.0806734236633817, 0.9604479738077767, 1.081540421756068, 0.6467874605702315, 0.8040939744946073, 0.40204698724730364, 0.6471773052210246, 0.9605218340558362, 0.8458988345795934, 0.4229494172897967, 0.7430168583285067, 1.0318850625249862, 0.9605968690870721, 0.7967910026640436, 0.9604545155840531, 1.0815448125653255, 1.0815477920697159, 1.013480319572238, 1.081561920101195, 0.9606163062076736, 0.968877982802301, 1.0815454704880418, 1.0134875390829234, 0.8460476769670561, 0.42302383848352804, 1.0804921869504893, 0.4753344467798717, 0.4753344467798717, 0.6469715865258923, 1.0805881728248423, 0.6710291168273609, 0.33551455841368044, 0.5686920605273031, 0.5686920605273031, 0.8062415462295313, 0.40312077311476563, 0.9605436911187354, 0.9605833377246927, 1.0135154766659404, 1.013534938981808, 0.44205812684510326, 0.44205812684510326, 0.76111845330559, 1.0815856444396923, 1.0815041053630334, 1.0815218099953892, 0.5931154008387783, 0.29655770041938917, 0.29655770041938917, 0.6997181378415733, 0.6997181378415733, 0.6082434870038068, 0.6082434870038068, 0.9604711747442574, 1.0815792791355392, 0.5684811388569039, 0.5684811388569039, 0.5684498007193016, 0.5684498007193016, 0.6485985367534489, 0.32429926837672446, 0.960557925425324, 0.960555257562648, 0.960429711064206, 1.013489156164032, 1.0815805743042075, 0.96060093844099, 0.6994644696950808, 0.6994644696950808, 0.46523484126177556, 0.46523484126177556, 0.46523484126177556, 0.7619806156494703, 0.7430277416077973, 0.4144024555330076, 0.4144024555330076, 0.8065883477441517, 0.40329417387207583, 0.8069785472914505, 0.40348927364572523, 0.8464392415072137, 0.42321962075360686, 0.6797843053899958, 0.3398921526949979, 0.9605932875312434, 0.9605507958448368, 0.7967905450695445, 1.0135445226626698, 0.648917998936874, 0.324458999468437, 1.080561646541213, 1.0807399555768245, 0.5399614124815618, 0.2699807062407809, 1.080594676343755, 0.9604489937744904, 0.7967908726064415, 0.6084815233017956, 0.6084815233017956, 0.6083201507202658, 0.6083201507202658, 0.8061975704501696, 0.4030987852250848, 1.0805838762899682], \"Term\": [\"account\", \"account\", \"accounts\", \"added\", \"ago\", \"ago\", \"allowed\", \"allowing\", \"app\", \"basis\", \"best\", \"blocked\", \"bus\", \"cancellation\", \"cancelled\", \"card\", \"care\", \"care\", \"carina\", \"carina\", \"centre\", \"chargeable\", \"cheat\", \"choice\", \"come\", \"coming\", \"company\", \"completely\", \"credit\", \"customer\", \"customer\", \"daily\", \"daily\", \"day\", \"days\", \"days\", \"device\", \"didnt\", \"didnt\", \"doesnt\", \"eitherway\", \"employees\", \"fast\", \"fighting\", \"finally\", \"fraud\", \"fraud\", \"frauds\", \"getting\", \"getting\", \"got\", \"got\", \"guys\", \"having\", \"help\", \"hope\", \"hrs\", \"id\", \"im\", \"im\", \"initiate\", \"instructions\", \"issue\", \"issue\", \"issues\", \"kyc\", \"lapse\", \"listed\", \"listening\", \"lot\", \"lying\", \"madam\", \"max\", \"message\", \"money\", \"months\", \"need\", \"number\", \"number\", \"option\", \"otp\", \"otp\", \"otps\", \"pathetic\", \"payment\", \"payment\", \"phone\", \"phone\", \"pls\", \"pls\", \"pnr\", \"poor\", \"priority\", \"problem\", \"process\", \"process\", \"reach\", \"received\", \"recent\", \"reedemed\", \"refund\", \"refund\", \"refund\", \"reply\", \"reply\", \"resolved\", \"resolved\", \"responsibility\", \"rs\", \"says\", \"says\", \"security\", \"security\", \"service\", \"service\", \"services\", \"settle\", \"single\", \"solved\", \"stolen\", \"sudden\", \"supercash\", \"supercash\", \"support\", \"support\", \"support\", \"team\", \"thank\", \"thanks\", \"thanks\", \"ticket\", \"ticket\", \"time\", \"time\", \"times\", \"times\", \"transaction\", \"transaction\", \"try\", \"unable\", \"urgent\", \"use\", \"users\", \"users\", \"valid\", \"waiting\", \"wallet\", \"wallet\", \"way\", \"website\", \"week\", \"work\", \"work\", \"working\", \"working\", \"worst\", \"worst\", \"you\"]}, \"R\": 30, \"lambda.step\": 0.01, \"plot.opts\": {\"xlab\": \"PC1\", \"ylab\": \"PC2\"}, \"topic.order\": [1, 2, 3]};\n",
       "\n",
       "function LDAvis_load_lib(url, callback){\n",
       "  var s = document.createElement('script');\n",
       "  s.src = url;\n",
       "  s.async = true;\n",
       "  s.onreadystatechange = s.onload = callback;\n",
       "  s.onerror = function(){console.warn(\"failed to load library \" + url);};\n",
       "  document.getElementsByTagName(\"head\")[0].appendChild(s);\n",
       "}\n",
       "\n",
       "if(typeof(LDAvis) !== \"undefined\"){\n",
       "   // already loaded: just create the visualization\n",
       "   !function(LDAvis){\n",
       "       new LDAvis(\"#\" + \"ldavis_el9015260995038081106584180\", ldavis_el9015260995038081106584180_data);\n",
       "   }(LDAvis);\n",
       "}else if(typeof define === \"function\" && define.amd){\n",
       "   // require.js is available: use it to load d3/LDAvis\n",
       "   require.config({paths: {d3: \"https://d3js.org/d3.v5\"}});\n",
       "   require([\"d3\"], function(d3){\n",
       "      window.d3 = d3;\n",
       "      LDAvis_load_lib(\"https://cdn.jsdelivr.net/gh/bmabey/pyLDAvis@3.3.1/pyLDAvis/js/ldavis.v3.0.0.js\", function(){\n",
       "        new LDAvis(\"#\" + \"ldavis_el9015260995038081106584180\", ldavis_el9015260995038081106584180_data);\n",
       "      });\n",
       "    });\n",
       "}else{\n",
       "    // require.js not available: dynamically load d3 & LDAvis\n",
       "    LDAvis_load_lib(\"https://d3js.org/d3.v5.js\", function(){\n",
       "         LDAvis_load_lib(\"https://cdn.jsdelivr.net/gh/bmabey/pyLDAvis@3.3.1/pyLDAvis/js/ldavis.v3.0.0.js\", function(){\n",
       "                 new LDAvis(\"#\" + \"ldavis_el9015260995038081106584180\", ldavis_el9015260995038081106584180_data);\n",
       "            })\n",
       "         });\n",
       "}\n",
       "</script>"
      ],
      "text/plain": [
       "PreparedData(topic_coordinates=              x         y  topics  cluster       Freq\n",
       "topic                                                \n",
       "0      0.075201 -0.031996       1        1  63.464271\n",
       "1     -0.071907 -0.036605       2        1  22.726159\n",
       "2     -0.003294  0.068602       3        1  13.809569, topic_info=            Term      Freq     Total Category  logprob  loglift\n",
       "167       thanks  2.000000  2.000000  Default  30.0000  30.0000\n",
       "54   transaction  2.000000  2.000000  Default  29.0000  29.0000\n",
       "59      customer  2.000000  2.000000  Default  28.0000  28.0000\n",
       "58          care  2.000000  2.000000  Default  27.0000  27.0000\n",
       "242       frauds  1.000000  1.000000  Default  26.0000  26.0000\n",
       "..           ...       ...       ...      ...      ...      ...\n",
       "253    supercash  0.516522  1.429665   Topic3  -4.7211   0.9617\n",
       "208         days  0.516368  1.429007   Topic3  -4.7214   0.9619\n",
       "130        didnt  0.516008  1.933971   Topic3  -4.7221   0.6586\n",
       "71          work  0.515951  1.643435   Topic3  -4.7222   0.8213\n",
       "202          ago  0.515724  1.933477   Topic3  -4.7226   0.6583\n",
       "\n",
       "[154 rows x 6 columns], token_table=      Topic      Freq      Term\n",
       "term                           \n",
       "23        1  0.757090   account\n",
       "23        2  0.151418   account\n",
       "51        2  0.960530  accounts\n",
       "168       1  0.879729     added\n",
       "202       2  0.517203       ago\n",
       "...     ...       ...       ...\n",
       "72        1  0.608320   working\n",
       "72        3  0.608320   working\n",
       "146       1  0.806198     worst\n",
       "146       2  0.403099     worst\n",
       "73        3  1.080584       you\n",
       "\n",
       "[158 rows x 3 columns], R=30, lambda_step=0.01, plot_opts={'xlab': 'PC1', 'ylab': 'PC2'}, topic_order=[1, 2, 3])"
      ]
     },
     "execution_count": 63,
     "metadata": {},
     "output_type": "execute_result"
    }
   ],
   "source": [
    "import pyLDAvis.gensim_models\n",
    "\n",
    "import pyLDAvis\n",
    "# Visualize the topics\n",
    "pyLDAvis.enable_notebook()\n",
    "LDAvis_prepared = pyLDAvis.gensim_models.prepare(pre_lda_model, pre_corpus, pre_id2word)\n",
    "LDAvis_prepared"
   ]
  },
  {
   "cell_type": "code",
   "execution_count": 64,
   "metadata": {},
   "outputs": [],
   "source": [
    "pre_queries_topic_sents_keywords = processor.dominant_topics(ldamodel=pre_lda_model, \n",
    "                                                         corpus=pre_corpus, \n",
    "                                                         texts=pre_queries['bigram'].values.tolist(),\n",
    "                                                         tweets=pre_queries['tweet'].values.tolist())\n"
   ]
  },
  {
   "cell_type": "code",
   "execution_count": 65,
   "metadata": {},
   "outputs": [
    {
     "data": {
      "text/plain": [
       "array(['account, kyc, money, added, card, wallet, otp, service, users, issues',\n",
       "       'transaction, otp, fraud, payment, process, refund, ago, initiate, didnt, otps',\n",
       "       'thanks, team, frauds, customer, care, reach, received, stolen, rs, max'],\n",
       "      dtype=object)"
      ]
     },
     "execution_count": 65,
     "metadata": {},
     "output_type": "execute_result"
    }
   ],
   "source": [
    "pre_queries_topic_sents_keywords['Topic_Keywords'].unique()"
   ]
  },
  {
   "cell_type": "markdown",
   "metadata": {},
   "source": [
    "Following topics were discussed pre-COVID:\n",
    "1. Account related issues\n",
    "2. Frauds\n",
    "3. Service appreciation"
   ]
  },
  {
   "cell_type": "code",
   "execution_count": 70,
   "metadata": {},
   "outputs": [],
   "source": [
    "# select = pre_queries_topic_sents_keywords['Topic_Keywords'].unique()[0]\n",
    "# pre_queries_topic_sents_keywords[pre_queries_topic_sents_keywords['Topic_Keywords'] == select]['Text'].values"
   ]
  },
  {
   "cell_type": "code",
   "execution_count": 67,
   "metadata": {},
   "outputs": [
    {
     "name": "stderr",
     "output_type": "stream",
     "text": [
      "/Users/pushkar/miniforge3/envs/project/lib/python3.8/site-packages/plotly/io/_renderers.py:395: DeprecationWarning:\n",
      "\n",
      "distutils Version classes are deprecated. Use packaging.version instead.\n",
      "\n",
      "/Users/pushkar/miniforge3/envs/project/lib/python3.8/site-packages/plotly/io/_renderers.py:395: DeprecationWarning:\n",
      "\n",
      "distutils Version classes are deprecated. Use packaging.version instead.\n",
      "\n"
     ]
    },
    {
     "data": {
      "image/svg+xml": "<svg class=\"main-svg\" xmlns=\"http://www.w3.org/2000/svg\" xmlns:xlink=\"http://www.w3.org/1999/xlink\" width=\"900\" height=\"500\" style=\"\" viewBox=\"0 0 900 500\"><rect x=\"0\" y=\"0\" width=\"900\" height=\"500\" style=\"fill: rgb(255, 255, 255); fill-opacity: 1;\"/><defs id=\"defs-33edea\"><g class=\"clips\"><clipPath id=\"clip33edeaxyplot\" class=\"plotclip\"><rect width=\"740\" height=\"320\"/></clipPath><clipPath class=\"axesclip\" id=\"clip33edeax\"><rect x=\"80\" y=\"0\" width=\"740\" height=\"500\"/></clipPath><clipPath class=\"axesclip\" id=\"clip33edeay\"><rect x=\"0\" y=\"100\" width=\"900\" height=\"320\"/></clipPath><clipPath class=\"axesclip\" id=\"clip33edeaxy\"><rect x=\"80\" y=\"100\" width=\"740\" height=\"320\"/></clipPath></g><g class=\"gradients\"/><g class=\"patterns\"/></defs><g class=\"bglayer\"><rect class=\"bg\" x=\"80\" y=\"100\" width=\"740\" height=\"320\" style=\"fill: rgb(229, 236, 246); fill-opacity: 1; stroke-width: 0;\"/></g><g class=\"layer-below\"><g class=\"imagelayer\"/><g class=\"shapelayer\"/></g><g class=\"cartesianlayer\"><g class=\"subplot xy\"><g class=\"layer-subplot\"><g class=\"shapelayer\"/><g class=\"imagelayer\"/></g><g class=\"minor-gridlayer\"><g class=\"x\"/><g class=\"y\"/></g><g class=\"gridlayer\"><g class=\"x\"/><g class=\"y\"><path class=\"ygrid crisp\" transform=\"translate(0,365.71)\" d=\"M80,0h740\" style=\"stroke: rgb(255, 255, 255); stroke-opacity: 1; stroke-width: 1px;\"/><path class=\"ygrid crisp\" transform=\"translate(0,311.43)\" d=\"M80,0h740\" style=\"stroke: rgb(255, 255, 255); stroke-opacity: 1; stroke-width: 1px;\"/><path class=\"ygrid crisp\" transform=\"translate(0,257.14)\" d=\"M80,0h740\" style=\"stroke: rgb(255, 255, 255); stroke-opacity: 1; stroke-width: 1px;\"/><path class=\"ygrid crisp\" transform=\"translate(0,202.86)\" d=\"M80,0h740\" style=\"stroke: rgb(255, 255, 255); stroke-opacity: 1; stroke-width: 1px;\"/><path class=\"ygrid crisp\" transform=\"translate(0,148.57)\" d=\"M80,0h740\" style=\"stroke: rgb(255, 255, 255); stroke-opacity: 1; stroke-width: 1px;\"/></g></g><g class=\"zerolinelayer\"><path class=\"yzl zl crisp\" transform=\"translate(0,420)\" d=\"M80,0h740\" style=\"stroke: rgb(255, 255, 255); stroke-opacity: 1; stroke-width: 2px;\"/></g><path class=\"xlines-below\"/><path class=\"ylines-below\"/><g class=\"overlines-below\"/><g class=\"xaxislayer-below\"/><g class=\"yaxislayer-below\"/><g class=\"overaxes-below\"/><g class=\"plot\" transform=\"translate(80,100)\" clip-path=\"url(#clip33edeaxyplot)\"><g class=\"barlayer mlayer\"><g class=\"trace bars\" style=\"opacity: 1;\"><g class=\"points\"><g class=\"point\"><path d=\"M24.67,320V16H222V320Z\" style=\"vector-effect: non-scaling-stroke; opacity: 1; stroke-width: 0.5px; fill: rgb(99, 110, 250); fill-opacity: 1; stroke: rgb(229, 236, 246); stroke-opacity: 1;\"/></g><g class=\"point\"><path d=\"M271.33,320V222.29H468.67V320Z\" style=\"vector-effect: non-scaling-stroke; opacity: 1; stroke-width: 0.5px; fill: rgb(99, 110, 250); fill-opacity: 1; stroke: rgb(229, 236, 246); stroke-opacity: 1;\"/></g><g class=\"point\"><path d=\"M518,320V287.43H715.33V320Z\" style=\"vector-effect: non-scaling-stroke; opacity: 1; stroke-width: 0.5px; fill: rgb(99, 110, 250); fill-opacity: 1; stroke: rgb(229, 236, 246); stroke-opacity: 1;\"/></g></g></g></g></g><g class=\"overplot\"/><path class=\"xlines-above crisp\" d=\"M0,0\" style=\"fill: none;\"/><path class=\"ylines-above crisp\" d=\"M0,0\" style=\"fill: none;\"/><g class=\"overlines-above\"/><g class=\"xaxislayer-above\"><g class=\"xtick\"><text text-anchor=\"middle\" x=\"0\" y=\"433\" transform=\"translate(80,0)\" style=\"font-family: 'Open Sans', verdana, arial, sans-serif; font-size: 12px; fill: rgb(42, 63, 95); fill-opacity: 1; white-space: pre; opacity: 1;\">−0.5</text></g><g class=\"xtick\"><text text-anchor=\"middle\" x=\"0\" y=\"433\" style=\"font-family: 'Open Sans', verdana, arial, sans-serif; font-size: 12px; fill: rgb(42, 63, 95); fill-opacity: 1; white-space: pre; opacity: 1;\" transform=\"translate(203.32999999999998,0)\">0</text></g><g class=\"xtick\"><text text-anchor=\"middle\" x=\"0\" y=\"433\" style=\"font-family: 'Open Sans', verdana, arial, sans-serif; font-size: 12px; fill: rgb(42, 63, 95); fill-opacity: 1; white-space: pre; opacity: 1;\" transform=\"translate(326.66999999999996,0)\">0.5</text></g><g class=\"xtick\"><text text-anchor=\"middle\" x=\"0\" y=\"433\" style=\"font-family: 'Open Sans', verdana, arial, sans-serif; font-size: 12px; fill: rgb(42, 63, 95); fill-opacity: 1; white-space: pre; opacity: 1;\" transform=\"translate(450,0)\">1</text></g><g class=\"xtick\"><text text-anchor=\"middle\" x=\"0\" y=\"433\" style=\"font-family: 'Open Sans', verdana, arial, sans-serif; font-size: 12px; fill: rgb(42, 63, 95); fill-opacity: 1; white-space: pre; opacity: 1;\" transform=\"translate(573.3299999999999,0)\">1.5</text></g><g class=\"xtick\"><text text-anchor=\"middle\" x=\"0\" y=\"433\" style=\"font-family: 'Open Sans', verdana, arial, sans-serif; font-size: 12px; fill: rgb(42, 63, 95); fill-opacity: 1; white-space: pre; opacity: 1;\" transform=\"translate(696.67,0)\">2</text></g><g class=\"xtick\"><text text-anchor=\"middle\" x=\"0\" y=\"433\" style=\"font-family: 'Open Sans', verdana, arial, sans-serif; font-size: 12px; fill: rgb(42, 63, 95); fill-opacity: 1; white-space: pre; opacity: 1;\" transform=\"translate(820,0)\">2.5</text></g></g><g class=\"yaxislayer-above\"><g class=\"ytick\"><text text-anchor=\"end\" x=\"79\" y=\"4.199999999999999\" transform=\"translate(0,420)\" style=\"font-family: 'Open Sans', verdana, arial, sans-serif; font-size: 12px; fill: rgb(42, 63, 95); fill-opacity: 1; white-space: pre; opacity: 1;\">0</text></g><g class=\"ytick\"><text text-anchor=\"end\" x=\"79\" y=\"4.199999999999999\" style=\"font-family: 'Open Sans', verdana, arial, sans-serif; font-size: 12px; fill: rgb(42, 63, 95); fill-opacity: 1; white-space: pre; opacity: 1;\" transform=\"translate(0,365.71)\">5</text></g><g class=\"ytick\"><text text-anchor=\"end\" x=\"79\" y=\"4.199999999999999\" style=\"font-family: 'Open Sans', verdana, arial, sans-serif; font-size: 12px; fill: rgb(42, 63, 95); fill-opacity: 1; white-space: pre; opacity: 1;\" transform=\"translate(0,311.43)\">10</text></g><g class=\"ytick\"><text text-anchor=\"end\" x=\"79\" y=\"4.199999999999999\" style=\"font-family: 'Open Sans', verdana, arial, sans-serif; font-size: 12px; fill: rgb(42, 63, 95); fill-opacity: 1; white-space: pre; opacity: 1;\" transform=\"translate(0,257.14)\">15</text></g><g class=\"ytick\"><text text-anchor=\"end\" x=\"79\" y=\"4.199999999999999\" style=\"font-family: 'Open Sans', verdana, arial, sans-serif; font-size: 12px; fill: rgb(42, 63, 95); fill-opacity: 1; white-space: pre; opacity: 1;\" transform=\"translate(0,202.86)\">20</text></g><g class=\"ytick\"><text text-anchor=\"end\" x=\"79\" y=\"4.199999999999999\" style=\"font-family: 'Open Sans', verdana, arial, sans-serif; font-size: 12px; fill: rgb(42, 63, 95); fill-opacity: 1; white-space: pre; opacity: 1;\" transform=\"translate(0,148.57)\">25</text></g></g><g class=\"overaxes-above\"/></g></g><g class=\"polarlayer\"/><g class=\"smithlayer\"/><g class=\"ternarylayer\"/><g class=\"geolayer\"/><g class=\"funnelarealayer\"/><g class=\"pielayer\"/><g class=\"iciclelayer\"/><g class=\"treemaplayer\"/><g class=\"sunburstlayer\"/><g class=\"glimages\"/><defs id=\"topdefs-33edea\"><g class=\"clips\"/></defs><g class=\"layer-above\"><g class=\"imagelayer\"/><g class=\"shapelayer\"/></g><g class=\"infolayer\"><g class=\"g-gtitle\"><text class=\"gtitle\" x=\"45\" y=\"50\" text-anchor=\"start\" dy=\"0em\" style=\"font-family: 'Open Sans', verdana, arial, sans-serif; font-size: 17px; fill: rgb(42, 63, 95); opacity: 1; font-weight: normal; white-space: pre;\">Topics Distribution</text></g><g class=\"g-xtitle\"><text class=\"xtitle\" x=\"450\" y=\"460.3\" text-anchor=\"middle\" style=\"font-family: 'Open Sans', verdana, arial, sans-serif; font-size: 14px; fill: rgb(42, 63, 95); opacity: 1; font-weight: normal; white-space: pre;\">Topic_Numbers</text></g><g class=\"g-ytitle\"><text class=\"ytitle\" transform=\"rotate(-90,38.934375,260)\" x=\"38.934375\" y=\"260\" text-anchor=\"middle\" style=\"font-family: 'Open Sans', verdana, arial, sans-serif; font-size: 14px; fill: rgb(42, 63, 95); opacity: 1; font-weight: normal; white-space: pre;\">Document_Counts</text></g></g></svg>"
     },
     "metadata": {},
     "output_type": "display_data"
    }
   ],
   "source": [
    "pre_queries_dist, fig = processor.plot_topic_distribution(pre_queries_topic_sents_keywords)\n",
    "fig.show()"
   ]
  },
  {
   "cell_type": "code",
   "execution_count": 73,
   "metadata": {},
   "outputs": [
    {
     "name": "stdout",
     "output_type": "stream",
     "text": [
      "Post-COVID coherence Score:  -13.982672648615116\n"
     ]
    }
   ],
   "source": [
    "post_lda_model = gensim.models.LdaMulticore(corpus=post_corpus,\n",
    "                                        id2word=post_id2word,\n",
    "                                        num_topics=3,\n",
    "                                        random_state=100,\n",
    "                                        chunksize=100,\n",
    "                                        passes=10,\n",
    "                                        per_word_topics=True,\n",
    "                                        alpha='symmetric',\n",
    "                                        eta='symmetric')\n",
    "post_coherence_model = gensim.models.CoherenceModel(model=post_lda_model, \n",
    "                                                    texts=post_queries['bigram'].values.tolist(), \n",
    "                                                    dictionary=post_id2word, \n",
    "                                                    coherence='u_mass')\n",
    "post_coherence_model_score = post_coherence_model.get_coherence()\n",
    "print('Post-COVID coherence Score: ', post_coherence_model_score)"
   ]
  },
  {
   "cell_type": "code",
   "execution_count": 74,
   "metadata": {},
   "outputs": [
    {
     "data": {
      "text/html": [
       "\n",
       "<link rel=\"stylesheet\" type=\"text/css\" href=\"https://cdn.jsdelivr.net/gh/bmabey/pyLDAvis@3.3.1/pyLDAvis/js/ldavis.v1.0.0.css\">\n",
       "\n",
       "\n",
       "<div id=\"ldavis_el901526097739952253957976\"></div>\n",
       "<script type=\"text/javascript\">\n",
       "\n",
       "var ldavis_el901526097739952253957976_data = {\"mdsDat\": {\"x\": [-0.1197718303741291, 0.07573012026836612, 0.044041710105762924], \"y\": [-0.014461537867784289, -0.07475905880887417, 0.08922059667665848], \"topics\": [1, 2, 3], \"cluster\": [1, 1, 1], \"Freq\": [40.213214183970834, 37.40510105881118, 22.381684757217982]}, \"tinfo\": {\"Term\": [\"transaction\", \"bank\", \"order\", \"rs\", \"id\", \"indian\", \"use\", \"card\", \"help\", \"payment\", \"cashback\", \"truly_indian\", \"payments\", \"deducted\", \"wont\", \"money\", \"executive\", \"india\", \"flipkart\", \"walmart\", \"wallet\", \"refund\", \"dont\", \"app\", \"account\", \"shopclues\", \"anymore\", \"otp\", \"owned\", \"paid\", \"truly_indian\", \"payments\", \"india\", \"users\", \"products\", \"download\", \"worst\", \"satisfied\", \"soon\", \"lets\", \"number\", \"indian\", \"use\", \"network\", \"plz\", \"havent\", \"service\", \"quick\", \"response\", \"services\", \"mil\", \"totally\", \"product\", \"start\", \"indians\", \"best\", \"fully\", \"foreign\", \"st\", \"september\", \"app\", \"guys\", \"received\", \"chinese\", \"support\", \"recharge\", \"apps\", \"add\", \"ur\", \"account\", \"supercash\", \"im\", \"refund\", \"th\", \"want\", \"thanks\", \"time\", \"bank\", \"card\", \"dont\", \"transaction\", \"credit\", \"emi\", \"rbi\", \"help\", \"check\", \"failed\", \"phone\", \"month\", \"hours\", \"ac\", \"excuse\", \"floor\", \"office\", \"pls\", \"exhausted\", \"limit\", \"understand\", \"record\", \"allowing\", \"prepaid\", \"confirmation\", \"answer\", \"monthly\", \"kindly\", \"bro\", \"reversal\", \"money\", \"deducted\", \"debited\", \"account\", \"paid\", \"issue\", \"payment\", \"advise\", \"app\", \"guaranteed\", \"showing\", \"wallet\", \"time\", \"supercash\", \"order\", \"rs\", \"id\", \"wont\", \"executive\", \"flipkart\", \"walmart\", \"shopclues\", \"anymore\", \"otp\", \"owned\", \"cashback\", \"successful\", \"gpay\", \"platform\", \"case\", \"abusingsaying\", \"shown\", \"donefiling\", \"police\", \"summary\", \"manish\", \"rahul\", \"mk\", \"investments\", \"proof\", \"numbers\", \"sent\", \"dmi\", \"delivered\", \"like\", \"didnt\", \"know\", \"share\", \"profit\", \"wallet\", \"phonepe\", \"refund\", \"payment\", \"deducted\", \"showing\", \"jio\", \"money\", \"paid\", \"ur\", \"ticket\", \"need\", \"transaction\"], \"Freq\": [9.0, 6.0, 3.0, 2.0, 2.0, 9.0, 8.0, 4.0, 6.0, 9.0, 3.0, 4.0, 4.0, 5.0, 2.0, 10.0, 2.0, 4.0, 2.0, 2.0, 5.0, 5.0, 3.0, 16.0, 7.0, 1.0, 1.0, 1.0, 1.0, 3.0, 4.268158561203915, 4.267289462295015, 4.179503102045961, 2.919925730928783, 2.9182480322223086, 2.9116567001086233, 2.24667426882193, 2.2464976851213585, 2.246465746504212, 2.2454225207114433, 2.2452417911326843, 7.700032685809117, 6.984007584239362, 1.5728730939776456, 1.5727577771436203, 1.5727213855461981, 1.5726917501947109, 1.5725802721367848, 1.5725716732783221, 1.572342882222799, 1.572297431113782, 1.5723092545441681, 1.5722661067008112, 1.5714803860087894, 1.5714624205366443, 1.5712930537351395, 1.5712557408314534, 1.570373743634859, 1.5696681765877925, 1.5696130517630054, 9.85094377119852, 2.261170101577378, 2.2561225716598208, 2.247510968460552, 2.300664812047231, 2.934364135593784, 2.2328866134812966, 2.248863599606931, 2.2519542750200663, 2.919048340263508, 2.255822379368849, 1.9135194823420445, 2.249321949473197, 1.5810312609440555, 1.5772147497460485, 1.577049989475863, 1.5756683371821727, 6.206468263195667, 4.219719800865537, 2.8865653247817207, 8.313524869022302, 2.2210323057679595, 2.2205639711771656, 2.2201299154219285, 5.443565354812115, 1.5549461120454016, 1.5539413136781448, 1.5538200522973629, 1.553497402757685, 1.5533582878167174, 1.5524193333794258, 1.5517171885644387, 1.5453416108078493, 1.5448585648834623, 2.2250070795792443, 0.888789718124193, 0.8887839335706929, 0.8887826481143595, 0.8887710075931183, 0.8887701506222294, 0.8887675797095627, 0.8887657943535441, 0.8887632234408773, 0.8887652230396181, 0.8887632948551181, 0.8887577959585808, 0.8887557249455993, 6.941628167335303, 3.557250738436622, 2.8969358151654845, 4.891864635944266, 2.2190189954929274, 1.5505269988282127, 4.921744354271219, 1.5571420999482548, 6.066017018955137, 1.20222432124765, 1.551852018650962, 2.202186801778238, 1.5526767103030643, 1.5530009309560384, 2.948637156555691, 2.393410926731658, 2.3650723401391063, 1.8411758924525432, 1.8393565618593943, 1.7746067501376663, 1.7732239631686157, 1.2899919642879123, 1.2883000586249769, 1.2882045967557292, 1.2877157499409597, 2.2738502769193953, 0.7370754502009352, 0.7370285311622449, 0.736893072735425, 0.7368915344062876, 0.7368864066424964, 0.7368857229406576, 0.7368829026705723, 0.7368805097141364, 0.7368713652020419, 0.7368504268332275, 0.7368433334266495, 0.7367735103763582, 0.7367479570201316, 0.736733001042407, 0.7367105243444552, 0.7367045419533653, 0.736704200102446, 0.7366991578013845, 1.3275367670658824, 1.2922402323222024, 1.2921075087027378, 1.2921070813890887, 1.2924248318186888, 2.4620092961042075, 1.2895905458457844, 2.411754305216772, 3.5241602719438587, 1.8363241732786864, 1.2919841859835575, 1.288108109333723, 2.3986282554638336, 1.290814970376414, 1.2927723232782784, 1.0054661964715907, 0.958191461899652, 1.2130252553334413], \"Total\": [9.0, 6.0, 3.0, 2.0, 2.0, 9.0, 8.0, 4.0, 6.0, 9.0, 3.0, 4.0, 4.0, 5.0, 2.0, 10.0, 2.0, 4.0, 2.0, 2.0, 5.0, 5.0, 3.0, 16.0, 7.0, 1.0, 1.0, 1.0, 1.0, 3.0, 4.676483447962676, 4.676485862242314, 4.675312793963772, 3.3279383008902053, 3.328100954939686, 3.3279924942091577, 2.653888737187302, 2.6538590191797673, 2.653840006594925, 2.6538542785182284, 2.6538989831697295, 9.269837544887288, 8.70684103107078, 1.9797064273177778, 1.979695036236328, 1.979690263534731, 1.97968797308331, 1.979674589661917, 1.9796746044155036, 1.9796476344010698, 1.979614981533416, 1.9796398448306758, 1.9796391799780992, 1.9796787810579874, 1.979667726837008, 1.9796576900855694, 1.9796506842559836, 1.9796720406913622, 1.9795086000802393, 1.9796643148270434, 16.63145288491592, 3.209806088303292, 3.208745741949388, 3.207144058267548, 3.3211215436066213, 4.661835816457352, 3.2066658490506894, 3.320625007672528, 4.426127870489488, 7.995771061548992, 4.541514351558812, 3.3167421187213306, 5.529296457638659, 2.6465373185290715, 2.6463624786238693, 2.6464771604845905, 3.3132454582434154, 6.632116615912468, 4.631814548039788, 3.2982837588229024, 9.754976035496426, 2.631520766436667, 2.6314800531263023, 2.631709278588668, 6.639359012994715, 1.9648454232987598, 1.9646347663432695, 1.964918282019844, 1.9646441014615557, 1.9649324296565738, 1.9643782786864734, 1.9649502741653848, 1.9650124131730022, 1.9650168696273225, 3.1852104057686503, 1.298087690114733, 1.2980864781118382, 1.298086718069388, 1.2980855122148378, 1.2980855041182946, 1.298085429467104, 1.2980844975080361, 1.298082018700392, 1.2980858440515888, 1.2980839647094085, 1.2980821542146264, 1.298083761200955, 10.858569759831465, 5.625709349282321, 4.525499088825543, 7.995771061548992, 3.7375346170415664, 2.517099586295103, 9.959899800788731, 2.638788922028915, 16.63145288491592, 1.9596645912329296, 3.0704574111614784, 5.503470173307358, 3.3132454582434154, 4.541514351558812, 3.3961259667945924, 2.843675659999765, 2.8497692711399587, 2.2905572727002905, 2.290973875575145, 2.305151314495333, 2.305455162504891, 1.737242230325537, 1.7376017183700125, 1.7376327711067334, 1.7377366923602064, 3.5440427442171236, 1.184287087716547, 1.1842966528425634, 1.1843241999651288, 1.1843245191237561, 1.184325636554256, 1.1843256904030848, 1.1843264121276271, 1.184326936641027, 1.18432888563075, 1.1843332614139341, 1.184334582824881, 1.1843490577982483, 1.184358955844015, 1.1843568728468346, 1.1843671630416506, 1.1843629235606068, 1.1843631129306091, 1.1843640895784413, 2.3962870454304825, 2.4035758907600617, 2.40360989097092, 2.403614149874152, 2.410870419974998, 5.503470173307358, 2.411497811900638, 5.529296457638659, 9.959899800788731, 5.625709349282321, 3.0704574111614784, 3.086057185104637, 10.858569759831465, 3.7375346170415664, 4.426127870489488, 2.4630900633117236, 3.1473872014948023, 9.754976035496426], \"Category\": [\"Default\", \"Default\", \"Default\", \"Default\", \"Default\", \"Default\", \"Default\", \"Default\", \"Default\", \"Default\", \"Default\", \"Default\", \"Default\", \"Default\", \"Default\", \"Default\", \"Default\", \"Default\", \"Default\", \"Default\", \"Default\", \"Default\", \"Default\", \"Default\", \"Default\", \"Default\", \"Default\", \"Default\", \"Default\", \"Default\", \"Topic1\", \"Topic1\", \"Topic1\", \"Topic1\", \"Topic1\", \"Topic1\", \"Topic1\", \"Topic1\", \"Topic1\", \"Topic1\", \"Topic1\", \"Topic1\", \"Topic1\", \"Topic1\", \"Topic1\", \"Topic1\", \"Topic1\", \"Topic1\", \"Topic1\", \"Topic1\", \"Topic1\", \"Topic1\", \"Topic1\", \"Topic1\", \"Topic1\", \"Topic1\", \"Topic1\", \"Topic1\", \"Topic1\", \"Topic1\", \"Topic1\", \"Topic1\", \"Topic1\", \"Topic1\", \"Topic1\", \"Topic1\", \"Topic1\", \"Topic1\", \"Topic1\", \"Topic1\", \"Topic1\", \"Topic1\", \"Topic1\", \"Topic1\", \"Topic1\", \"Topic1\", \"Topic1\", \"Topic2\", \"Topic2\", \"Topic2\", \"Topic2\", \"Topic2\", \"Topic2\", \"Topic2\", \"Topic2\", \"Topic2\", \"Topic2\", \"Topic2\", \"Topic2\", \"Topic2\", \"Topic2\", \"Topic2\", \"Topic2\", \"Topic2\", \"Topic2\", \"Topic2\", \"Topic2\", \"Topic2\", \"Topic2\", \"Topic2\", \"Topic2\", \"Topic2\", \"Topic2\", \"Topic2\", \"Topic2\", \"Topic2\", \"Topic2\", \"Topic2\", \"Topic2\", \"Topic2\", \"Topic2\", \"Topic2\", \"Topic2\", \"Topic2\", \"Topic2\", \"Topic2\", \"Topic2\", \"Topic2\", \"Topic2\", \"Topic2\", \"Topic2\", \"Topic3\", \"Topic3\", \"Topic3\", \"Topic3\", \"Topic3\", \"Topic3\", \"Topic3\", \"Topic3\", \"Topic3\", \"Topic3\", \"Topic3\", \"Topic3\", \"Topic3\", \"Topic3\", \"Topic3\", \"Topic3\", \"Topic3\", \"Topic3\", \"Topic3\", \"Topic3\", \"Topic3\", \"Topic3\", \"Topic3\", \"Topic3\", \"Topic3\", \"Topic3\", \"Topic3\", \"Topic3\", \"Topic3\", \"Topic3\", \"Topic3\", \"Topic3\", \"Topic3\", \"Topic3\", \"Topic3\", \"Topic3\", \"Topic3\", \"Topic3\", \"Topic3\", \"Topic3\", \"Topic3\", \"Topic3\", \"Topic3\", \"Topic3\", \"Topic3\", \"Topic3\", \"Topic3\", \"Topic3\"], \"logprob\": [30.0, 29.0, 28.0, 27.0, 26.0, 25.0, 24.0, 23.0, 22.0, 21.0, 20.0, 19.0, 18.0, 17.0, 16.0, 15.0, 14.0, 13.0, 12.0, 11.0, 10.0, 9.0, 8.0, 7.0, 6.0, 5.0, 4.0, 3.0, 2.0, 1.0, -4.3471, -4.3474, -4.3681, -4.7268, -4.7273, -4.7296, -4.9889, -4.989, -4.989, -4.9894, -4.9895, -3.7571, -3.8547, -5.3454, -5.3455, -5.3455, -5.3455, -5.3456, -5.3456, -5.3458, -5.3458, -5.3458, -5.3458, -5.3463, -5.3463, -5.3464, -5.3465, -5.347, -5.3475, -5.3475, -3.5108, -4.9824, -4.9847, -4.9885, -4.9651, -4.7218, -4.995, -4.9879, -4.9865, -4.7271, -4.9848, -5.1494, -4.9877, -5.3403, -5.3427, -5.3428, -5.3437, -3.9003, -4.2862, -4.6659, -3.6081, -4.928, -4.9282, -4.9284, -4.0315, -5.2845, -5.2851, -5.2852, -5.2854, -5.2855, -5.2861, -5.2866, -5.2907, -5.291, -4.9262, -5.8438, -5.8438, -5.8438, -5.8439, -5.8439, -5.8439, -5.8439, -5.8439, -5.8439, -5.8439, -5.8439, -5.8439, -3.7884, -4.457, -4.6623, -4.1384, -4.9289, -5.2873, -4.1323, -5.2831, -3.9232, -5.5418, -5.2865, -4.9365, -5.286, -5.2858, -4.131, -4.3397, -4.3516, -4.602, -4.603, -4.6388, -4.6396, -4.9577, -4.9591, -4.9591, -4.9595, -4.3909, -5.5174, -5.5175, -5.5177, -5.5177, -5.5177, -5.5177, -5.5177, -5.5177, -5.5177, -5.5177, -5.5178, -5.5179, -5.5179, -5.5179, -5.5179, -5.5179, -5.5179, -5.518, -4.9291, -4.956, -4.9561, -4.9561, -4.9559, -4.3114, -4.9581, -4.332, -3.9527, -4.6046, -4.9562, -4.9592, -4.3375, -4.9571, -4.9556, -5.2069, -5.2551, -5.0193], \"loglift\": [30.0, 29.0, 28.0, 27.0, 26.0, 25.0, 24.0, 23.0, 22.0, 21.0, 20.0, 19.0, 18.0, 17.0, 16.0, 15.0, 14.0, 13.0, 12.0, 11.0, 10.0, 9.0, 8.0, 7.0, 6.0, 5.0, 4.0, 3.0, 2.0, 1.0, 0.8196, 0.8194, 0.7989, 0.7802, 0.7796, 0.7773, 0.7444, 0.7443, 0.7443, 0.7439, 0.7438, 0.7254, 0.6905, 0.6809, 0.6809, 0.6808, 0.6808, 0.6808, 0.6808, 0.6806, 0.6806, 0.6806, 0.6806, 0.6801, 0.6801, 0.6799, 0.6799, 0.6794, 0.679, 0.6789, 0.3872, 0.5606, 0.5587, 0.5554, 0.5439, 0.4481, 0.549, 0.5212, 0.2352, -0.0967, 0.2112, 0.3609, 0.0115, 0.3958, 0.3934, 0.3933, 0.1677, 0.917, 0.8902, 0.85, 0.8235, 0.8138, 0.8136, 0.8133, 0.7848, 0.7494, 0.7489, 0.7486, 0.7486, 0.7483, 0.748, 0.7473, 0.7431, 0.7428, 0.6246, 0.6046, 0.6046, 0.6046, 0.6046, 0.6046, 0.6046, 0.6046, 0.6046, 0.6046, 0.6045, 0.6045, 0.6045, 0.5359, 0.525, 0.5373, 0.492, 0.462, 0.4989, 0.2785, 0.4559, -0.0252, 0.4948, 0.301, 0.0674, 0.2254, -0.0897, 1.3556, 1.3245, 1.3105, 1.2785, 1.2774, 1.2354, 1.2344, 1.1993, 1.1977, 1.1977, 1.1972, 1.0531, 1.0227, 1.0226, 1.0224, 1.0224, 1.0224, 1.0224, 1.0224, 1.0224, 1.0224, 1.0224, 1.0224, 1.0223, 1.0222, 1.0222, 1.0222, 1.0222, 1.0222, 1.0221, 0.9063, 0.8763, 0.8762, 0.8762, 0.8735, 0.6925, 0.871, 0.6672, 0.458, 0.3773, 0.6313, 0.6232, -0.0131, 0.4338, 0.2662, 0.601, 0.3076, -0.5877]}, \"token.table\": {\"Topic\": [3, 2, 1, 2, 1, 2, 1, 2, 2, 2, 3, 1, 2, 3, 1, 3, 2, 1, 2, 2, 3, 1, 3, 2, 1, 3, 2, 2, 1, 2, 3, 2, 3, 3, 2, 3, 3, 3, 2, 1, 2, 2, 3, 2, 2, 3, 2, 1, 1, 3, 1, 2, 1, 3, 1, 1, 2, 2, 3, 1, 2, 1, 1, 2, 3, 1, 3, 2, 3, 1, 3, 2, 2, 3, 1, 2, 3, 2, 3, 1, 3, 1, 2, 3, 2, 2, 1, 2, 3, 1, 1, 3, 2, 3, 3, 3, 2, 3, 1, 2, 3, 1, 2, 1, 3, 3, 2, 3, 1, 3, 2, 1, 1, 1, 3, 3, 1, 3, 2, 1, 3, 1, 2, 2, 1, 2, 3, 1, 2, 3, 1, 3, 1, 1, 1, 2, 3, 3, 2, 3, 3, 1, 1, 1, 3, 3, 1, 2, 3, 1, 2, 1, 2, 1, 2, 2, 3, 1, 2, 1, 2, 3, 1, 2, 1, 2, 3, 1, 2, 1, 1, 2, 3, 3, 1, 2, 3, 1], \"Freq\": [0.8443623688747096, 1.0181338399533444, 0.3751983363339096, 0.6253305605565159, 0.6022962530785214, 0.3011481265392607, 0.3789617243167441, 0.7579234486334882, 0.7703652778090572, 0.770367346279995, 0.5755058765354281, 0.6012703802365703, 0.3607622281419422, 0.060127038023657035, 0.6237007827279808, 0.3118503913639904, 0.9046885553254858, 1.0102756703930724, 0.7703672658569335, 0.8635924341342259, 0.844363165545089, 0.28216363971109476, 0.5643272794221895, 1.0178917772789575, 0.6236077842665947, 0.31180389213329734, 0.7703658751951232, 0.7600168030245845, 0.22097010304768835, 0.662910309143065, 0.22097010304768835, 0.7110214466572621, 0.35551072332863104, 0.8443349547654191, 0.416046775907616, 0.416046775907616, 0.8443356510197132, 0.8443618159317353, 0.9095639488188383, 0.901444340761021, 0.7600285617304684, 1.017837461993537, 0.8729911856798906, 0.770363980503978, 1.0180009202028706, 0.8676220026961051, 1.0178052752198656, 1.0102683469235332, 1.0102792456799843, 0.8443830332542, 0.5102914062303114, 0.5102914062303114, 0.6230905995499568, 0.3115452997749784, 1.0102590475082733, 0.15061694932338734, 0.7530847466169367, 1.0178467054714728, 0.7018112028416827, 0.6030013574799838, 0.3015006787399919, 0.8555577297767845, 0.863014045420067, 0.10787675567750837, 0.10787675567750837, 1.0102705483790846, 0.8443386146283375, 0.7945653048013815, 0.39728265240069077, 0.6480761308161526, 0.3240380654080763, 0.7703661913918349, 0.41604089072709616, 0.41604089072709616, 0.753620881217598, 0.4173122756336374, 0.4173122756336374, 0.7703646997806904, 0.8443569327826991, 1.0102974662531568, 0.8443456710803144, 0.1841863195831273, 0.6446521185409455, 0.1841863195831273, 1.0179960831135482, 0.7703650760713926, 0.3177238566405384, 0.3177238566405384, 0.3177238566405384, 1.0102507990084757, 0.7536081865524761, 0.8443327636945243, 1.0178029669431348, 0.883359459964769, 0.5754955918350226, 0.5754611756754661, 0.5351121006025875, 0.26755605030129376, 0.2008052329845345, 0.5020130824613362, 0.401610465969069, 0.8553431182794279, 1.0178540340843556, 0.41468003622688066, 0.41468003622688066, 0.8443633930890241, 0.6279020049595005, 0.3139510024797503, 1.0102566119488154, 0.844361441981711, 0.7703653221117539, 1.010285116716131, 0.901414963253231, 0.4147879503247506, 0.4147879503247506, 0.8443400996156702, 1.0102670461318364, 0.8443559906988402, 0.7599623622076369, 0.623296503008354, 0.311648251504177, 0.6435233067216375, 0.429015537814425, 0.7703652730040611, 0.36170967053810676, 0.18085483526905338, 0.36170967053810676, 1.0102670386027897, 0.7703663121668086, 0.7033150890352121, 0.7536195350038388, 0.8443357860221192, 1.0102722896102379, 1.0102602163537189, 1.0102808021211753, 0.416040153554745, 0.416040153554745, 0.5756249661353287, 0.651368748099147, 0.3256843740495735, 0.8443623304833069, 0.7536249340690849, 1.010351760997113, 1.0102649071841607, 0.8443898530787197, 0.8443600524590937, 0.44038174167907845, 0.44038174167907845, 0.22019087083953923, 0.6022062046630399, 0.30110310233151993, 0.7557044391543238, 0.3778522195771619, 0.7557216173495276, 0.3778608086747638, 0.40599408641008433, 0.40599408641008433, 0.6036377398553323, 0.6036377398553323, 1.0102847774167052, 0.8200942750540425, 0.10251178438175532, 0.8553435598585539, 0.7703645573750844, 0.45186222778033275, 0.22593111389016637, 0.22593111389016637, 0.8039655226298681, 0.2297044350371052, 0.9014590201980357, 0.18170353767885353, 0.36340707535770705, 0.36340707535770705, 0.8675076542486247, 0.7557543670434811, 0.37787718352174055, 0.8731499639134722, 0.7536110960400247], \"Term\": [\"abusingsaying\", \"ac\", \"account\", \"account\", \"add\", \"add\", \"advise\", \"advise\", \"allowing\", \"answer\", \"anymore\", \"app\", \"app\", \"app\", \"apps\", \"apps\", \"bank\", \"best\", \"bro\", \"card\", \"case\", \"cashback\", \"cashback\", \"check\", \"chinese\", \"chinese\", \"confirmation\", \"credit\", \"debited\", \"debited\", \"debited\", \"deducted\", \"deducted\", \"delivered\", \"didnt\", \"didnt\", \"dmi\", \"donefiling\", \"dont\", \"download\", \"emi\", \"excuse\", \"executive\", \"exhausted\", \"failed\", \"flipkart\", \"floor\", \"foreign\", \"fully\", \"gpay\", \"guaranteed\", \"guaranteed\", \"guys\", \"guys\", \"havent\", \"help\", \"help\", \"hours\", \"id\", \"im\", \"im\", \"india\", \"indian\", \"indian\", \"indian\", \"indians\", \"investments\", \"issue\", \"issue\", \"jio\", \"jio\", \"kindly\", \"know\", \"know\", \"lets\", \"like\", \"like\", \"limit\", \"manish\", \"mil\", \"mk\", \"money\", \"money\", \"money\", \"month\", \"monthly\", \"need\", \"need\", \"need\", \"network\", \"number\", \"numbers\", \"office\", \"order\", \"otp\", \"owned\", \"paid\", \"paid\", \"payment\", \"payment\", \"payment\", \"payments\", \"phone\", \"phonepe\", \"phonepe\", \"platform\", \"pls\", \"pls\", \"plz\", \"police\", \"prepaid\", \"product\", \"products\", \"profit\", \"profit\", \"proof\", \"quick\", \"rahul\", \"rbi\", \"received\", \"received\", \"recharge\", \"recharge\", \"record\", \"refund\", \"refund\", \"refund\", \"response\", \"reversal\", \"rs\", \"satisfied\", \"sent\", \"september\", \"service\", \"services\", \"share\", \"share\", \"shopclues\", \"showing\", \"showing\", \"shown\", \"soon\", \"st\", \"start\", \"successful\", \"summary\", \"supercash\", \"supercash\", \"supercash\", \"support\", \"support\", \"th\", \"th\", \"thanks\", \"thanks\", \"ticket\", \"ticket\", \"time\", \"time\", \"totally\", \"transaction\", \"transaction\", \"truly_indian\", \"understand\", \"ur\", \"ur\", \"ur\", \"use\", \"use\", \"users\", \"wallet\", \"wallet\", \"wallet\", \"walmart\", \"want\", \"want\", \"wont\", \"worst\"]}, \"R\": 30, \"lambda.step\": 0.01, \"plot.opts\": {\"xlab\": \"PC1\", \"ylab\": \"PC2\"}, \"topic.order\": [2, 1, 3]};\n",
       "\n",
       "function LDAvis_load_lib(url, callback){\n",
       "  var s = document.createElement('script');\n",
       "  s.src = url;\n",
       "  s.async = true;\n",
       "  s.onreadystatechange = s.onload = callback;\n",
       "  s.onerror = function(){console.warn(\"failed to load library \" + url);};\n",
       "  document.getElementsByTagName(\"head\")[0].appendChild(s);\n",
       "}\n",
       "\n",
       "if(typeof(LDAvis) !== \"undefined\"){\n",
       "   // already loaded: just create the visualization\n",
       "   !function(LDAvis){\n",
       "       new LDAvis(\"#\" + \"ldavis_el901526097739952253957976\", ldavis_el901526097739952253957976_data);\n",
       "   }(LDAvis);\n",
       "}else if(typeof define === \"function\" && define.amd){\n",
       "   // require.js is available: use it to load d3/LDAvis\n",
       "   require.config({paths: {d3: \"https://d3js.org/d3.v5\"}});\n",
       "   require([\"d3\"], function(d3){\n",
       "      window.d3 = d3;\n",
       "      LDAvis_load_lib(\"https://cdn.jsdelivr.net/gh/bmabey/pyLDAvis@3.3.1/pyLDAvis/js/ldavis.v3.0.0.js\", function(){\n",
       "        new LDAvis(\"#\" + \"ldavis_el901526097739952253957976\", ldavis_el901526097739952253957976_data);\n",
       "      });\n",
       "    });\n",
       "}else{\n",
       "    // require.js not available: dynamically load d3 & LDAvis\n",
       "    LDAvis_load_lib(\"https://d3js.org/d3.v5.js\", function(){\n",
       "         LDAvis_load_lib(\"https://cdn.jsdelivr.net/gh/bmabey/pyLDAvis@3.3.1/pyLDAvis/js/ldavis.v3.0.0.js\", function(){\n",
       "                 new LDAvis(\"#\" + \"ldavis_el901526097739952253957976\", ldavis_el901526097739952253957976_data);\n",
       "            })\n",
       "         });\n",
       "}\n",
       "</script>"
      ],
      "text/plain": [
       "PreparedData(topic_coordinates=              x         y  topics  cluster       Freq\n",
       "topic                                                \n",
       "1     -0.119772 -0.014462       1        1  40.213214\n",
       "0      0.075730 -0.074759       2        1  37.405101\n",
       "2      0.044042  0.089221       3        1  22.381685, topic_info=            Term      Freq     Total Category  logprob  loglift\n",
       "70   transaction  9.000000  9.000000  Default  30.0000  30.0000\n",
       "13          bank  6.000000  6.000000  Default  29.0000  29.0000\n",
       "445        order  3.000000  3.000000  Default  28.0000  28.0000\n",
       "308           rs  2.000000  2.000000  Default  27.0000  27.0000\n",
       "3             id  2.000000  2.000000  Default  26.0000  26.0000\n",
       "..           ...       ...       ...      ...      ...      ...\n",
       "335         paid  1.290815  3.737535   Topic3  -4.9571   0.4338\n",
       "53            ur  1.292772  4.426128   Topic3  -4.9556   0.2662\n",
       "5         ticket  1.005466  2.463090   Topic3  -5.2069   0.6010\n",
       "4           need  0.958191  3.147387   Topic3  -5.2551   0.3076\n",
       "70   transaction  1.213025  9.754976   Topic3  -5.0193  -0.5877\n",
       "\n",
       "[169 rows x 6 columns], token_table=      Topic      Freq           Term\n",
       "term                                \n",
       "57        3  0.844362  abusingsaying\n",
       "438       2  1.018134             ac\n",
       "12        1  0.375198        account\n",
       "12        2  0.625331        account\n",
       "291       1  0.602296            add\n",
       "...     ...       ...            ...\n",
       "237       3  0.867508        walmart\n",
       "26        1  0.755754           want\n",
       "26        2  0.377877           want\n",
       "269       3  0.873150           wont\n",
       "246       1  0.753611          worst\n",
       "\n",
       "[178 rows x 3 columns], R=30, lambda_step=0.01, plot_opts={'xlab': 'PC1', 'ylab': 'PC2'}, topic_order=[2, 1, 3])"
      ]
     },
     "execution_count": 74,
     "metadata": {},
     "output_type": "execute_result"
    }
   ],
   "source": [
    "import pyLDAvis.gensim_models\n",
    "\n",
    "import pyLDAvis\n",
    "# Visualize the topics\n",
    "pyLDAvis.enable_notebook()\n",
    "LDAvis_prepared = pyLDAvis.gensim_models.prepare(post_lda_model, post_corpus, post_id2word)\n",
    "LDAvis_prepared\n"
   ]
  },
  {
   "cell_type": "code",
   "execution_count": 75,
   "metadata": {},
   "outputs": [],
   "source": [
    "post_queries_topic_sents_keywords = processor.dominant_topics(ldamodel=post_lda_model, \n",
    "                                                         corpus=post_corpus, \n",
    "                                                         texts=post_queries['bigram'].values.tolist(),\n",
    "                                                         tweets=post_queries['tweet'].values.tolist())\n"
   ]
  },
  {
   "cell_type": "code",
   "execution_count": 76,
   "metadata": {},
   "outputs": [
    {
     "data": {
      "text/plain": [
       "array(['payment, order, wallet, refund, money, rs, id, cashback, wont, executive',\n",
       "       'transaction, money, bank, app, help, payment, account, card, deducted, debited',\n",
       "       'app, indian, use, truly_indian, payments, india, recharge, users, account, products'],\n",
       "      dtype=object)"
      ]
     },
     "execution_count": 76,
     "metadata": {},
     "output_type": "execute_result"
    }
   ],
   "source": [
    "post_queries_topic_sents_keywords['Topic_Keywords'].unique()"
   ]
  },
  {
   "cell_type": "markdown",
   "metadata": {},
   "source": [
    "Following topics were discussed post pandemic:\n",
    "1. Wallet related issues\n",
    "2. Amount deductions\n",
    "3. Indian payments apps promotion"
   ]
  },
  {
   "cell_type": "code",
   "execution_count": 78,
   "metadata": {},
   "outputs": [],
   "source": [
    "# select = post_queries_topic_sents_keywords['Topic_Keywords'].unique()[2]\n",
    "# post_queries_topic_sents_keywords[post_queries_topic_sents_keywords['Topic_Keywords'] == select]['Text'].values"
   ]
  },
  {
   "cell_type": "code",
   "execution_count": 79,
   "metadata": {},
   "outputs": [
    {
     "name": "stderr",
     "output_type": "stream",
     "text": [
      "/Users/pushkar/miniforge3/envs/project/lib/python3.8/site-packages/plotly/io/_renderers.py:395: DeprecationWarning:\n",
      "\n",
      "distutils Version classes are deprecated. Use packaging.version instead.\n",
      "\n",
      "/Users/pushkar/miniforge3/envs/project/lib/python3.8/site-packages/plotly/io/_renderers.py:395: DeprecationWarning:\n",
      "\n",
      "distutils Version classes are deprecated. Use packaging.version instead.\n",
      "\n"
     ]
    },
    {
     "data": {
      "image/svg+xml": "<svg class=\"main-svg\" xmlns=\"http://www.w3.org/2000/svg\" xmlns:xlink=\"http://www.w3.org/1999/xlink\" width=\"900\" height=\"500\" style=\"\" viewBox=\"0 0 900 500\"><rect x=\"0\" y=\"0\" width=\"900\" height=\"500\" style=\"fill: rgb(255, 255, 255); fill-opacity: 1;\"/><defs id=\"defs-57a0f2\"><g class=\"clips\"><clipPath id=\"clip57a0f2xyplot\" class=\"plotclip\"><rect width=\"740\" height=\"320\"/></clipPath><clipPath class=\"axesclip\" id=\"clip57a0f2x\"><rect x=\"80\" y=\"0\" width=\"740\" height=\"500\"/></clipPath><clipPath class=\"axesclip\" id=\"clip57a0f2y\"><rect x=\"0\" y=\"100\" width=\"900\" height=\"320\"/></clipPath><clipPath class=\"axesclip\" id=\"clip57a0f2xy\"><rect x=\"80\" y=\"100\" width=\"740\" height=\"320\"/></clipPath></g><g class=\"gradients\"/><g class=\"patterns\"/></defs><g class=\"bglayer\"><rect class=\"bg\" x=\"80\" y=\"100\" width=\"740\" height=\"320\" style=\"fill: rgb(229, 236, 246); fill-opacity: 1; stroke-width: 0;\"/></g><g class=\"layer-below\"><g class=\"imagelayer\"/><g class=\"shapelayer\"/></g><g class=\"cartesianlayer\"><g class=\"subplot xy\"><g class=\"layer-subplot\"><g class=\"shapelayer\"/><g class=\"imagelayer\"/></g><g class=\"minor-gridlayer\"><g class=\"x\"/><g class=\"y\"/></g><g class=\"gridlayer\"><g class=\"x\"/><g class=\"y\"><path class=\"ygrid crisp\" transform=\"translate(0,363.7)\" d=\"M80,0h740\" style=\"stroke: rgb(255, 255, 255); stroke-opacity: 1; stroke-width: 1px;\"/><path class=\"ygrid crisp\" transform=\"translate(0,307.40999999999997)\" d=\"M80,0h740\" style=\"stroke: rgb(255, 255, 255); stroke-opacity: 1; stroke-width: 1px;\"/><path class=\"ygrid crisp\" transform=\"translate(0,251.11)\" d=\"M80,0h740\" style=\"stroke: rgb(255, 255, 255); stroke-opacity: 1; stroke-width: 1px;\"/><path class=\"ygrid crisp\" transform=\"translate(0,194.81)\" d=\"M80,0h740\" style=\"stroke: rgb(255, 255, 255); stroke-opacity: 1; stroke-width: 1px;\"/><path class=\"ygrid crisp\" transform=\"translate(0,138.52)\" d=\"M80,0h740\" style=\"stroke: rgb(255, 255, 255); stroke-opacity: 1; stroke-width: 1px;\"/></g></g><g class=\"zerolinelayer\"><path class=\"yzl zl crisp\" transform=\"translate(0,420)\" d=\"M80,0h740\" style=\"stroke: rgb(255, 255, 255); stroke-opacity: 1; stroke-width: 2px;\"/></g><path class=\"xlines-below\"/><path class=\"ylines-below\"/><g class=\"overlines-below\"/><g class=\"xaxislayer-below\"/><g class=\"yaxislayer-below\"/><g class=\"overaxes-below\"/><g class=\"plot\" transform=\"translate(80,100)\" clip-path=\"url(#clip57a0f2xyplot)\"><g class=\"barlayer mlayer\"><g class=\"trace bars\" style=\"opacity: 1;\"><g class=\"points\"><g class=\"point\"><path d=\"M271.33,320V16H468.67V320Z\" style=\"vector-effect: non-scaling-stroke; opacity: 1; stroke-width: 0.5px; fill: rgb(99, 110, 250); fill-opacity: 1; stroke: rgb(229, 236, 246); stroke-opacity: 1;\"/></g><g class=\"point\"><path d=\"M24.67,320V38.52H222V320Z\" style=\"vector-effect: non-scaling-stroke; opacity: 1; stroke-width: 0.5px; fill: rgb(99, 110, 250); fill-opacity: 1; stroke: rgb(229, 236, 246); stroke-opacity: 1;\"/></g><g class=\"point\"><path d=\"M518,320V106.07H715.33V320Z\" style=\"vector-effect: non-scaling-stroke; opacity: 1; stroke-width: 0.5px; fill: rgb(99, 110, 250); fill-opacity: 1; stroke: rgb(229, 236, 246); stroke-opacity: 1;\"/></g></g></g></g></g><g class=\"overplot\"/><path class=\"xlines-above crisp\" d=\"M0,0\" style=\"fill: none;\"/><path class=\"ylines-above crisp\" d=\"M0,0\" style=\"fill: none;\"/><g class=\"overlines-above\"/><g class=\"xaxislayer-above\"><g class=\"xtick\"><text text-anchor=\"middle\" x=\"0\" y=\"433\" transform=\"translate(80,0)\" style=\"font-family: 'Open Sans', verdana, arial, sans-serif; font-size: 12px; fill: rgb(42, 63, 95); fill-opacity: 1; white-space: pre; opacity: 1;\">−0.5</text></g><g class=\"xtick\"><text text-anchor=\"middle\" x=\"0\" y=\"433\" style=\"font-family: 'Open Sans', verdana, arial, sans-serif; font-size: 12px; fill: rgb(42, 63, 95); fill-opacity: 1; white-space: pre; opacity: 1;\" transform=\"translate(203.32999999999998,0)\">0</text></g><g class=\"xtick\"><text text-anchor=\"middle\" x=\"0\" y=\"433\" style=\"font-family: 'Open Sans', verdana, arial, sans-serif; font-size: 12px; fill: rgb(42, 63, 95); fill-opacity: 1; white-space: pre; opacity: 1;\" transform=\"translate(326.66999999999996,0)\">0.5</text></g><g class=\"xtick\"><text text-anchor=\"middle\" x=\"0\" y=\"433\" style=\"font-family: 'Open Sans', verdana, arial, sans-serif; font-size: 12px; fill: rgb(42, 63, 95); fill-opacity: 1; white-space: pre; opacity: 1;\" transform=\"translate(450,0)\">1</text></g><g class=\"xtick\"><text text-anchor=\"middle\" x=\"0\" y=\"433\" style=\"font-family: 'Open Sans', verdana, arial, sans-serif; font-size: 12px; fill: rgb(42, 63, 95); fill-opacity: 1; white-space: pre; opacity: 1;\" transform=\"translate(573.3299999999999,0)\">1.5</text></g><g class=\"xtick\"><text text-anchor=\"middle\" x=\"0\" y=\"433\" style=\"font-family: 'Open Sans', verdana, arial, sans-serif; font-size: 12px; fill: rgb(42, 63, 95); fill-opacity: 1; white-space: pre; opacity: 1;\" transform=\"translate(696.67,0)\">2</text></g><g class=\"xtick\"><text text-anchor=\"middle\" x=\"0\" y=\"433\" style=\"font-family: 'Open Sans', verdana, arial, sans-serif; font-size: 12px; fill: rgb(42, 63, 95); fill-opacity: 1; white-space: pre; opacity: 1;\" transform=\"translate(820,0)\">2.5</text></g></g><g class=\"yaxislayer-above\"><g class=\"ytick\"><text text-anchor=\"end\" x=\"79\" y=\"4.199999999999999\" transform=\"translate(0,420)\" style=\"font-family: 'Open Sans', verdana, arial, sans-serif; font-size: 12px; fill: rgb(42, 63, 95); fill-opacity: 1; white-space: pre; opacity: 1;\">0</text></g><g class=\"ytick\"><text text-anchor=\"end\" x=\"79\" y=\"4.199999999999999\" style=\"font-family: 'Open Sans', verdana, arial, sans-serif; font-size: 12px; fill: rgb(42, 63, 95); fill-opacity: 1; white-space: pre; opacity: 1;\" transform=\"translate(0,363.7)\">5</text></g><g class=\"ytick\"><text text-anchor=\"end\" x=\"79\" y=\"4.199999999999999\" style=\"font-family: 'Open Sans', verdana, arial, sans-serif; font-size: 12px; fill: rgb(42, 63, 95); fill-opacity: 1; white-space: pre; opacity: 1;\" transform=\"translate(0,307.40999999999997)\">10</text></g><g class=\"ytick\"><text text-anchor=\"end\" x=\"79\" y=\"4.199999999999999\" style=\"font-family: 'Open Sans', verdana, arial, sans-serif; font-size: 12px; fill: rgb(42, 63, 95); fill-opacity: 1; white-space: pre; opacity: 1;\" transform=\"translate(0,251.11)\">15</text></g><g class=\"ytick\"><text text-anchor=\"end\" x=\"79\" y=\"4.199999999999999\" style=\"font-family: 'Open Sans', verdana, arial, sans-serif; font-size: 12px; fill: rgb(42, 63, 95); fill-opacity: 1; white-space: pre; opacity: 1;\" transform=\"translate(0,194.81)\">20</text></g><g class=\"ytick\"><text text-anchor=\"end\" x=\"79\" y=\"4.199999999999999\" style=\"font-family: 'Open Sans', verdana, arial, sans-serif; font-size: 12px; fill: rgb(42, 63, 95); fill-opacity: 1; white-space: pre; opacity: 1;\" transform=\"translate(0,138.52)\">25</text></g></g><g class=\"overaxes-above\"/></g></g><g class=\"polarlayer\"/><g class=\"smithlayer\"/><g class=\"ternarylayer\"/><g class=\"geolayer\"/><g class=\"funnelarealayer\"/><g class=\"pielayer\"/><g class=\"iciclelayer\"/><g class=\"treemaplayer\"/><g class=\"sunburstlayer\"/><g class=\"glimages\"/><defs id=\"topdefs-57a0f2\"><g class=\"clips\"/></defs><g class=\"layer-above\"><g class=\"imagelayer\"/><g class=\"shapelayer\"/></g><g class=\"infolayer\"><g class=\"g-gtitle\"><text class=\"gtitle\" x=\"45\" y=\"50\" text-anchor=\"start\" dy=\"0em\" style=\"font-family: 'Open Sans', verdana, arial, sans-serif; font-size: 17px; fill: rgb(42, 63, 95); opacity: 1; font-weight: normal; white-space: pre;\">Topics Distribution</text></g><g class=\"g-xtitle\"><text class=\"xtitle\" x=\"450\" y=\"460.3\" text-anchor=\"middle\" style=\"font-family: 'Open Sans', verdana, arial, sans-serif; font-size: 14px; fill: rgb(42, 63, 95); opacity: 1; font-weight: normal; white-space: pre;\">Topic_Numbers</text></g><g class=\"g-ytitle\"><text class=\"ytitle\" transform=\"rotate(-90,38.934375,260)\" x=\"38.934375\" y=\"260\" text-anchor=\"middle\" style=\"font-family: 'Open Sans', verdana, arial, sans-serif; font-size: 14px; fill: rgb(42, 63, 95); opacity: 1; font-weight: normal; white-space: pre;\">Document_Counts</text></g></g></svg>"
     },
     "metadata": {},
     "output_type": "display_data"
    }
   ],
   "source": [
    "post_queries_dist, fig = processor.plot_topic_distribution(post_queries_topic_sents_keywords)\n",
    "fig.show()"
   ]
  },
  {
   "cell_type": "code",
   "execution_count": null,
   "metadata": {},
   "outputs": [],
   "source": []
  }
 ],
 "metadata": {
  "kernelspec": {
   "display_name": "Python 3.8.13 ('project')",
   "language": "python",
   "name": "python3"
  },
  "language_info": {
   "codemirror_mode": {
    "name": "ipython",
    "version": 3
   },
   "file_extension": ".py",
   "mimetype": "text/x-python",
   "name": "python",
   "nbconvert_exporter": "python",
   "pygments_lexer": "ipython3",
   "version": "3.8.13"
  },
  "orig_nbformat": 4,
  "vscode": {
   "interpreter": {
    "hash": "af77eb27f514ee114388f6898d9553454263f7eea260918546d16a8e581c8922"
   }
  }
 },
 "nbformat": 4,
 "nbformat_minor": 2
}
